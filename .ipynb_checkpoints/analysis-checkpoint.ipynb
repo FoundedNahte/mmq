{
 "cells": [
  {
   "cell_type": "code",
   "execution_count": 12,
   "id": "e65e7b6c-77c1-4f26-a989-4347f264466f",
   "metadata": {},
   "outputs": [],
   "source": [
    "import os\n",
    "import json\n",
    "from scoring_pipeline import ScoringPipeline\n",
    "import pandas as pd\n",
    "from tqdm import tqdm\n",
    "\n",
    "def load_config(config_file):\n",
    "    with open(config_file, 'r') as f:\n",
    "        return json.load(f)\n",
    "\n",
    "def get_bit_size(config):\n",
    "    if config and 'num_bits' in config[0]:\n",
    "        return config[0]['num_bits']\n",
    "    return None\n",
    "\n",
    "def get_layer_type(config):\n",
    "    if config and 'layer_type' in config[0]:\n",
    "        return config[0]['layer_type']\n",
    "    return None\n",
    "\n",
    "def get_quantized_parts(config):\n",
    "    parts = {\n",
    "        'VIT': {'FIRST': 0, 'MIDDLE': 0, 'LAST': 0},\n",
    "        'QFORMER': {'FIRST': 0, 'MIDDLE': 0, 'LAST': 0},\n",
    "        'LLM': {'FIRST': 0, 'MIDDLE': 0, 'LAST': 0}\n",
    "    }\n",
    "    for item in config:\n",
    "        if 'model_part' in item and 'layer_group' in item:\n",
    "            if item['layer_group'] == 'ALL':\n",
    "                parts[item['model_part']] = {'FIRST': 1, 'MIDDLE': 1, 'LAST': 1}\n",
    "            else:\n",
    "                parts[item['model_part']][item['layer_group']] = 1\n",
    "    return parts\n",
    "\n",
    "results = []\n",
    "scorer = ScoringPipeline()"
   ]
  },
  {
   "cell_type": "code",
   "execution_count": 13,
   "id": "086a67e5-4147-49ed-9e43-4179fb3aff75",
   "metadata": {
    "scrolled": true
   },
   "outputs": [
    {
     "name": "stderr",
     "output_type": "stream",
     "text": [
      "Processing files:   0%|                                                                | 0/1044 [00:00<?, ?it/s]"
     ]
    },
    {
     "name": "stdout",
     "output_type": "stream",
     "text": [
      "Tokenizing...\n"
     ]
    },
    {
     "name": "stderr",
     "output_type": "stream",
     "text": [
      "PTBTokenizer tokenized 61766 tokens at 327801.86 tokens per second.\n",
      "Jul 19, 2024 4:20:23 PM edu.stanford.nlp.process.PTBLexer next\n",
      "WARNING: Untokenizable: � (U+FFFD, decimal: 65533)\n",
      "PTBTokenizer tokenized 10292 tokens at 58911.80 tokens per second.\n"
     ]
    },
    {
     "name": "stdout",
     "output_type": "stream",
     "text": [
      "Computing scores...\n",
      "Computing METEOR score...\n",
      "Computing CIDEr score...\n"
     ]
    },
    {
     "name": "stderr",
     "output_type": "stream",
     "text": [
      "Processing files:   0%|                                                      | 1/1044 [00:08<2:28:48,  8.56s/it]"
     ]
    },
    {
     "name": "stdout",
     "output_type": "stream",
     "text": [
      "Tokenizing...\n"
     ]
    },
    {
     "name": "stderr",
     "output_type": "stream",
     "text": [
      "PTBTokenizer tokenized 61766 tokens at 311195.46 tokens per second.\n",
      "PTBTokenizer tokenized 9204 tokens at 90024.96 tokens per second.\n"
     ]
    },
    {
     "name": "stdout",
     "output_type": "stream",
     "text": [
      "Computing scores...\n",
      "Computing METEOR score...\n",
      "Computing CIDEr score...\n"
     ]
    },
    {
     "name": "stderr",
     "output_type": "stream",
     "text": [
      "Processing files:   0%|                                                      | 2/1044 [00:11<1:27:16,  5.03s/it]"
     ]
    },
    {
     "name": "stdout",
     "output_type": "stream",
     "text": [
      "Tokenizing...\n"
     ]
    },
    {
     "name": "stderr",
     "output_type": "stream",
     "text": [
      "PTBTokenizer tokenized 61766 tokens at 323844.10 tokens per second.\n",
      "PTBTokenizer tokenized 9242 tokens at 92332.57 tokens per second.\n"
     ]
    },
    {
     "name": "stdout",
     "output_type": "stream",
     "text": [
      "Computing scores...\n",
      "Computing METEOR score...\n",
      "Computing CIDEr score...\n"
     ]
    },
    {
     "name": "stderr",
     "output_type": "stream",
     "text": [
      "Processing files:   0%|▏                                                     | 3/1044 [00:13<1:07:23,  3.88s/it]"
     ]
    },
    {
     "name": "stdout",
     "output_type": "stream",
     "text": [
      "Tokenizing...\n"
     ]
    },
    {
     "name": "stderr",
     "output_type": "stream",
     "text": [
      "PTBTokenizer tokenized 61766 tokens at 347153.40 tokens per second.\n",
      "PTBTokenizer tokenized 7968 tokens at 81923.18 tokens per second.\n"
     ]
    },
    {
     "name": "stdout",
     "output_type": "stream",
     "text": [
      "Computing scores...\n",
      "Computing METEOR score...\n",
      "Computing CIDEr score...\n"
     ]
    },
    {
     "name": "stderr",
     "output_type": "stream",
     "text": [
      "Processing files:   0%|▏                                                       | 4/1044 [00:16<57:31,  3.32s/it]"
     ]
    },
    {
     "name": "stdout",
     "output_type": "stream",
     "text": [
      "Tokenizing...\n"
     ]
    },
    {
     "name": "stderr",
     "output_type": "stream",
     "text": [
      "PTBTokenizer tokenized 61766 tokens at 346627.38 tokens per second.\n",
      "PTBTokenizer tokenized 9242 tokens at 90270.64 tokens per second.\n"
     ]
    },
    {
     "name": "stdout",
     "output_type": "stream",
     "text": [
      "Computing scores...\n",
      "Computing METEOR score...\n",
      "Computing CIDEr score...\n"
     ]
    },
    {
     "name": "stderr",
     "output_type": "stream",
     "text": [
      "Processing files:   0%|▎                                                       | 5/1044 [00:18<51:49,  2.99s/it]"
     ]
    },
    {
     "name": "stdout",
     "output_type": "stream",
     "text": [
      "Tokenizing...\n"
     ]
    },
    {
     "name": "stderr",
     "output_type": "stream",
     "text": [
      "PTBTokenizer tokenized 61766 tokens at 337881.45 tokens per second.\n",
      "PTBTokenizer tokenized 9105 tokens at 87707.98 tokens per second.\n"
     ]
    },
    {
     "name": "stdout",
     "output_type": "stream",
     "text": [
      "Computing scores...\n",
      "Computing METEOR score...\n",
      "Computing CIDEr score...\n"
     ]
    },
    {
     "name": "stderr",
     "output_type": "stream",
     "text": [
      "Processing files:   1%|▎                                                       | 6/1044 [00:20<48:36,  2.81s/it]"
     ]
    },
    {
     "name": "stdout",
     "output_type": "stream",
     "text": [
      "Tokenizing...\n"
     ]
    },
    {
     "name": "stderr",
     "output_type": "stream",
     "text": [
      "PTBTokenizer tokenized 61766 tokens at 353842.26 tokens per second.\n",
      "PTBTokenizer tokenized 9242 tokens at 93389.14 tokens per second.\n"
     ]
    },
    {
     "name": "stdout",
     "output_type": "stream",
     "text": [
      "Computing scores...\n",
      "Computing METEOR score...\n",
      "Computing CIDEr score...\n"
     ]
    },
    {
     "name": "stderr",
     "output_type": "stream",
     "text": [
      "Processing files:   1%|▍                                                       | 7/1044 [00:23<46:05,  2.67s/it]"
     ]
    },
    {
     "name": "stdout",
     "output_type": "stream",
     "text": [
      "Tokenizing...\n"
     ]
    },
    {
     "name": "stderr",
     "output_type": "stream",
     "text": [
      "PTBTokenizer tokenized 61766 tokens at 341043.40 tokens per second.\n",
      "PTBTokenizer tokenized 9242 tokens at 94923.46 tokens per second.\n"
     ]
    },
    {
     "name": "stdout",
     "output_type": "stream",
     "text": [
      "Computing scores...\n",
      "Computing METEOR score...\n",
      "Computing CIDEr score...\n"
     ]
    },
    {
     "name": "stderr",
     "output_type": "stream",
     "text": [
      "Processing files:   1%|▍                                                       | 8/1044 [00:25<45:05,  2.61s/it]"
     ]
    },
    {
     "name": "stdout",
     "output_type": "stream",
     "text": [
      "Tokenizing...\n"
     ]
    },
    {
     "name": "stderr",
     "output_type": "stream",
     "text": [
      "PTBTokenizer tokenized 61766 tokens at 313880.86 tokens per second.\n",
      "PTBTokenizer tokenized 9259 tokens at 92502.68 tokens per second.\n"
     ]
    },
    {
     "name": "stdout",
     "output_type": "stream",
     "text": [
      "Computing scores...\n",
      "Computing METEOR score...\n",
      "Computing CIDEr score...\n"
     ]
    },
    {
     "name": "stderr",
     "output_type": "stream",
     "text": [
      "Processing files:   1%|▍                                                       | 9/1044 [00:28<43:57,  2.55s/it]"
     ]
    },
    {
     "name": "stdout",
     "output_type": "stream",
     "text": [
      "Tokenizing...\n"
     ]
    },
    {
     "name": "stderr",
     "output_type": "stream",
     "text": [
      "PTBTokenizer tokenized 61766 tokens at 335036.13 tokens per second.\n",
      "Jul 19, 2024 4:20:52 PM edu.stanford.nlp.process.PTBLexer next\n",
      "WARNING: Untokenizable: � (U+FFFD, decimal: 65533)\n",
      "PTBTokenizer tokenized 17504 tokens at 114597.66 tokens per second.\n"
     ]
    },
    {
     "name": "stdout",
     "output_type": "stream",
     "text": [
      "Computing scores...\n",
      "Computing METEOR score...\n",
      "Computing CIDEr score...\n"
     ]
    },
    {
     "name": "stderr",
     "output_type": "stream",
     "text": [
      "Processing files:   1%|▌                                                      | 10/1044 [00:31<46:26,  2.69s/it]"
     ]
    },
    {
     "name": "stdout",
     "output_type": "stream",
     "text": [
      "Tokenizing...\n"
     ]
    },
    {
     "name": "stderr",
     "output_type": "stream",
     "text": [
      "PTBTokenizer tokenized 61766 tokens at 347780.13 tokens per second.\n",
      "PTBTokenizer tokenized 9204 tokens at 91458.59 tokens per second.\n"
     ]
    },
    {
     "name": "stdout",
     "output_type": "stream",
     "text": [
      "Computing scores...\n",
      "Computing METEOR score...\n",
      "Computing CIDEr score...\n"
     ]
    },
    {
     "name": "stderr",
     "output_type": "stream",
     "text": [
      "Processing files:   1%|▌                                                      | 11/1044 [00:33<45:09,  2.62s/it]"
     ]
    },
    {
     "name": "stdout",
     "output_type": "stream",
     "text": [
      "Tokenizing...\n"
     ]
    },
    {
     "name": "stderr",
     "output_type": "stream",
     "text": [
      "PTBTokenizer tokenized 61766 tokens at 348819.54 tokens per second.\n",
      "PTBTokenizer tokenized 9242 tokens at 87313.70 tokens per second.\n"
     ]
    },
    {
     "name": "stdout",
     "output_type": "stream",
     "text": [
      "Computing scores...\n",
      "Computing METEOR score...\n",
      "Computing CIDEr score...\n"
     ]
    },
    {
     "name": "stderr",
     "output_type": "stream",
     "text": [
      "Processing files:   1%|▋                                                      | 12/1044 [00:36<44:08,  2.57s/it]"
     ]
    },
    {
     "name": "stdout",
     "output_type": "stream",
     "text": [
      "Tokenizing...\n"
     ]
    },
    {
     "name": "stderr",
     "output_type": "stream",
     "text": [
      "PTBTokenizer tokenized 61766 tokens at 335226.38 tokens per second.\n",
      "PTBTokenizer tokenized 9242 tokens at 89046.19 tokens per second.\n"
     ]
    },
    {
     "name": "stdout",
     "output_type": "stream",
     "text": [
      "Computing scores...\n",
      "Computing METEOR score...\n",
      "Computing CIDEr score...\n"
     ]
    },
    {
     "name": "stderr",
     "output_type": "stream",
     "text": [
      "Processing files:   1%|▋                                                      | 13/1044 [00:38<43:31,  2.53s/it]"
     ]
    },
    {
     "name": "stdout",
     "output_type": "stream",
     "text": [
      "Tokenizing...\n"
     ]
    },
    {
     "name": "stderr",
     "output_type": "stream",
     "text": [
      "PTBTokenizer tokenized 61766 tokens at 347605.21 tokens per second.\n",
      "PTBTokenizer tokenized 9221 tokens at 90697.49 tokens per second.\n"
     ]
    },
    {
     "name": "stdout",
     "output_type": "stream",
     "text": [
      "Computing scores...\n",
      "Computing METEOR score...\n",
      "Computing CIDEr score...\n"
     ]
    },
    {
     "name": "stderr",
     "output_type": "stream",
     "text": [
      "Processing files:   1%|▋                                                      | 14/1044 [00:41<43:06,  2.51s/it]"
     ]
    },
    {
     "name": "stdout",
     "output_type": "stream",
     "text": [
      "Tokenizing...\n"
     ]
    },
    {
     "name": "stderr",
     "output_type": "stream",
     "text": [
      "PTBTokenizer tokenized 61766 tokens at 342306.09 tokens per second.\n",
      "PTBTokenizer tokenized 9242 tokens at 83099.73 tokens per second.\n"
     ]
    },
    {
     "name": "stdout",
     "output_type": "stream",
     "text": [
      "Computing scores...\n",
      "Computing METEOR score...\n",
      "Computing CIDEr score...\n"
     ]
    },
    {
     "name": "stderr",
     "output_type": "stream",
     "text": [
      "Processing files:   1%|▊                                                      | 15/1044 [00:43<42:22,  2.47s/it]"
     ]
    },
    {
     "name": "stdout",
     "output_type": "stream",
     "text": [
      "Tokenizing...\n"
     ]
    },
    {
     "name": "stderr",
     "output_type": "stream",
     "text": [
      "PTBTokenizer tokenized 61766 tokens at 337210.94 tokens per second.\n",
      "PTBTokenizer tokenized 11648 tokens at 111552.56 tokens per second.\n"
     ]
    },
    {
     "name": "stdout",
     "output_type": "stream",
     "text": [
      "Computing scores...\n",
      "Computing METEOR score...\n",
      "Computing CIDEr score...\n"
     ]
    },
    {
     "name": "stderr",
     "output_type": "stream",
     "text": [
      "Processing files:   2%|▊                                                      | 16/1044 [00:45<42:18,  2.47s/it]"
     ]
    },
    {
     "name": "stdout",
     "output_type": "stream",
     "text": [
      "Tokenizing...\n"
     ]
    },
    {
     "name": "stderr",
     "output_type": "stream",
     "text": [
      "PTBTokenizer tokenized 61766 tokens at 349336.83 tokens per second.\n",
      "PTBTokenizer tokenized 9244 tokens at 90756.46 tokens per second.\n"
     ]
    },
    {
     "name": "stdout",
     "output_type": "stream",
     "text": [
      "Computing scores...\n",
      "Computing METEOR score...\n",
      "Computing CIDEr score...\n"
     ]
    },
    {
     "name": "stderr",
     "output_type": "stream",
     "text": [
      "Processing files:   2%|▉                                                      | 17/1044 [00:48<42:28,  2.48s/it]"
     ]
    },
    {
     "name": "stdout",
     "output_type": "stream",
     "text": [
      "Tokenizing...\n"
     ]
    },
    {
     "name": "stderr",
     "output_type": "stream",
     "text": [
      "PTBTokenizer tokenized 61766 tokens at 364207.11 tokens per second.\n",
      "PTBTokenizer tokenized 9267 tokens at 91470.72 tokens per second.\n"
     ]
    },
    {
     "name": "stdout",
     "output_type": "stream",
     "text": [
      "Computing scores...\n",
      "Computing METEOR score...\n",
      "Computing CIDEr score...\n"
     ]
    },
    {
     "name": "stderr",
     "output_type": "stream",
     "text": [
      "Processing files:   2%|▉                                                      | 18/1044 [00:50<42:01,  2.46s/it]"
     ]
    },
    {
     "name": "stdout",
     "output_type": "stream",
     "text": [
      "Tokenizing...\n"
     ]
    },
    {
     "name": "stderr",
     "output_type": "stream",
     "text": [
      "PTBTokenizer tokenized 61766 tokens at 361942.98 tokens per second.\n",
      "PTBTokenizer tokenized 9233 tokens at 93903.12 tokens per second.\n"
     ]
    },
    {
     "name": "stdout",
     "output_type": "stream",
     "text": [
      "Computing scores...\n",
      "Computing METEOR score...\n",
      "Computing CIDEr score...\n"
     ]
    },
    {
     "name": "stderr",
     "output_type": "stream",
     "text": [
      "Processing files:   2%|█                                                      | 19/1044 [00:53<41:02,  2.40s/it]"
     ]
    },
    {
     "name": "stdout",
     "output_type": "stream",
     "text": [
      "Tokenizing...\n"
     ]
    },
    {
     "name": "stderr",
     "output_type": "stream",
     "text": [
      "PTBTokenizer tokenized 61766 tokens at 334753.34 tokens per second.\n",
      "PTBTokenizer tokenized 9168 tokens at 90557.66 tokens per second.\n"
     ]
    },
    {
     "name": "stdout",
     "output_type": "stream",
     "text": [
      "Computing scores...\n",
      "Computing METEOR score...\n",
      "Computing CIDEr score...\n"
     ]
    },
    {
     "name": "stderr",
     "output_type": "stream",
     "text": [
      "Processing files:   2%|█                                                      | 20/1044 [00:55<40:33,  2.38s/it]"
     ]
    },
    {
     "name": "stdout",
     "output_type": "stream",
     "text": [
      "Tokenizing...\n"
     ]
    },
    {
     "name": "stderr",
     "output_type": "stream",
     "text": [
      "PTBTokenizer tokenized 61766 tokens at 322609.45 tokens per second.\n",
      "PTBTokenizer tokenized 9180 tokens at 89034.99 tokens per second.\n"
     ]
    },
    {
     "name": "stdout",
     "output_type": "stream",
     "text": [
      "Computing scores...\n",
      "Computing METEOR score...\n",
      "Computing CIDEr score...\n"
     ]
    },
    {
     "name": "stderr",
     "output_type": "stream",
     "text": [
      "Processing files:   2%|█                                                      | 21/1044 [00:57<40:32,  2.38s/it]"
     ]
    },
    {
     "name": "stdout",
     "output_type": "stream",
     "text": [
      "Tokenizing...\n"
     ]
    },
    {
     "name": "stderr",
     "output_type": "stream",
     "text": [
      "PTBTokenizer tokenized 61766 tokens at 329818.24 tokens per second.\n",
      "PTBTokenizer tokenized 8035 tokens at 81605.11 tokens per second.\n"
     ]
    },
    {
     "name": "stdout",
     "output_type": "stream",
     "text": [
      "Computing scores...\n",
      "Computing METEOR score...\n",
      "Computing CIDEr score...\n"
     ]
    },
    {
     "name": "stderr",
     "output_type": "stream",
     "text": [
      "Processing files:   2%|█▏                                                     | 22/1044 [01:00<39:52,  2.34s/it]"
     ]
    },
    {
     "name": "stdout",
     "output_type": "stream",
     "text": [
      "Tokenizing...\n"
     ]
    },
    {
     "name": "stderr",
     "output_type": "stream",
     "text": [
      "PTBTokenizer tokenized 61766 tokens at 358899.05 tokens per second.\n",
      "PTBTokenizer tokenized 9242 tokens at 90831.57 tokens per second.\n"
     ]
    },
    {
     "name": "stdout",
     "output_type": "stream",
     "text": [
      "Computing scores...\n",
      "Computing METEOR score...\n",
      "Computing CIDEr score...\n"
     ]
    },
    {
     "name": "stderr",
     "output_type": "stream",
     "text": [
      "Processing files:   2%|█▏                                                     | 23/1044 [01:02<39:42,  2.33s/it]"
     ]
    },
    {
     "name": "stdout",
     "output_type": "stream",
     "text": [
      "Tokenizing...\n"
     ]
    },
    {
     "name": "stderr",
     "output_type": "stream",
     "text": [
      "PTBTokenizer tokenized 61766 tokens at 336092.91 tokens per second.\n",
      "PTBTokenizer tokenized 7982 tokens at 83987.38 tokens per second.\n"
     ]
    },
    {
     "name": "stdout",
     "output_type": "stream",
     "text": [
      "Computing scores...\n",
      "Computing METEOR score...\n",
      "Computing CIDEr score...\n"
     ]
    },
    {
     "name": "stderr",
     "output_type": "stream",
     "text": [
      "Processing files:   2%|█▎                                                     | 24/1044 [01:04<39:44,  2.34s/it]"
     ]
    },
    {
     "name": "stdout",
     "output_type": "stream",
     "text": [
      "Tokenizing...\n"
     ]
    },
    {
     "name": "stderr",
     "output_type": "stream",
     "text": [
      "PTBTokenizer tokenized 61766 tokens at 341441.64 tokens per second.\n",
      "PTBTokenizer tokenized 9242 tokens at 81334.98 tokens per second.\n"
     ]
    },
    {
     "name": "stdout",
     "output_type": "stream",
     "text": [
      "Computing scores...\n",
      "Computing METEOR score...\n",
      "Computing CIDEr score...\n"
     ]
    },
    {
     "name": "stderr",
     "output_type": "stream",
     "text": [
      "Processing files:   2%|█▎                                                     | 25/1044 [01:07<41:03,  2.42s/it]"
     ]
    },
    {
     "name": "stdout",
     "output_type": "stream",
     "text": [
      "Tokenizing...\n"
     ]
    },
    {
     "name": "stderr",
     "output_type": "stream",
     "text": [
      "PTBTokenizer tokenized 61766 tokens at 335476.18 tokens per second.\n",
      "PTBTokenizer tokenized 9204 tokens at 84235.85 tokens per second.\n"
     ]
    },
    {
     "name": "stdout",
     "output_type": "stream",
     "text": [
      "Computing scores...\n",
      "Computing METEOR score...\n",
      "Computing CIDEr score...\n"
     ]
    },
    {
     "name": "stderr",
     "output_type": "stream",
     "text": [
      "Processing files:   2%|█▎                                                     | 26/1044 [01:09<41:22,  2.44s/it]"
     ]
    },
    {
     "name": "stdout",
     "output_type": "stream",
     "text": [
      "Tokenizing...\n"
     ]
    },
    {
     "name": "stderr",
     "output_type": "stream",
     "text": [
      "PTBTokenizer tokenized 61766 tokens at 317627.47 tokens per second.\n",
      "PTBTokenizer tokenized 9258 tokens at 79944.27 tokens per second.\n"
     ]
    },
    {
     "name": "stdout",
     "output_type": "stream",
     "text": [
      "Computing scores...\n",
      "Computing METEOR score...\n",
      "Computing CIDEr score...\n"
     ]
    },
    {
     "name": "stderr",
     "output_type": "stream",
     "text": [
      "Processing files:   3%|█▍                                                     | 27/1044 [01:12<41:21,  2.44s/it]"
     ]
    },
    {
     "name": "stdout",
     "output_type": "stream",
     "text": [
      "Tokenizing...\n"
     ]
    },
    {
     "name": "stderr",
     "output_type": "stream",
     "text": [
      "PTBTokenizer tokenized 61766 tokens at 340573.82 tokens per second.\n",
      "PTBTokenizer tokenized 9242 tokens at 90082.48 tokens per second.\n"
     ]
    },
    {
     "name": "stdout",
     "output_type": "stream",
     "text": [
      "Computing scores...\n",
      "Computing METEOR score...\n",
      "Computing CIDEr score...\n"
     ]
    },
    {
     "name": "stderr",
     "output_type": "stream",
     "text": [
      "Processing files:   3%|█▍                                                     | 28/1044 [01:14<41:27,  2.45s/it]"
     ]
    },
    {
     "name": "stdout",
     "output_type": "stream",
     "text": [
      "Tokenizing...\n"
     ]
    },
    {
     "name": "stderr",
     "output_type": "stream",
     "text": [
      "PTBTokenizer tokenized 61766 tokens at 359653.00 tokens per second.\n",
      "Jul 19, 2024 4:21:38 PM edu.stanford.nlp.process.PTBLexer next\n",
      "WARNING: Untokenizable: � (U+FFFD, decimal: 65533)\n",
      "PTBTokenizer tokenized 13306 tokens at 72949.08 tokens per second.\n"
     ]
    },
    {
     "name": "stdout",
     "output_type": "stream",
     "text": [
      "Computing scores...\n",
      "Computing METEOR score...\n",
      "Computing CIDEr score...\n"
     ]
    },
    {
     "name": "stderr",
     "output_type": "stream",
     "text": [
      "Processing files:   3%|█▌                                                     | 29/1044 [01:17<41:14,  2.44s/it]"
     ]
    },
    {
     "name": "stdout",
     "output_type": "stream",
     "text": [
      "Tokenizing...\n"
     ]
    },
    {
     "name": "stderr",
     "output_type": "stream",
     "text": [
      "PTBTokenizer tokenized 61766 tokens at 344020.37 tokens per second.\n",
      "PTBTokenizer tokenized 9242 tokens at 90928.23 tokens per second.\n"
     ]
    },
    {
     "name": "stdout",
     "output_type": "stream",
     "text": [
      "Computing scores...\n",
      "Computing METEOR score...\n",
      "Computing CIDEr score...\n"
     ]
    },
    {
     "name": "stderr",
     "output_type": "stream",
     "text": [
      "Processing files:   3%|█▌                                                     | 30/1044 [01:19<41:07,  2.43s/it]"
     ]
    },
    {
     "name": "stdout",
     "output_type": "stream",
     "text": [
      "Tokenizing...\n"
     ]
    },
    {
     "name": "stderr",
     "output_type": "stream",
     "text": [
      "PTBTokenizer tokenized 61766 tokens at 318140.34 tokens per second.\n",
      "PTBTokenizer tokenized 9236 tokens at 89260.91 tokens per second.\n"
     ]
    },
    {
     "name": "stdout",
     "output_type": "stream",
     "text": [
      "Computing scores...\n",
      "Computing METEOR score...\n",
      "Computing CIDEr score...\n"
     ]
    },
    {
     "name": "stderr",
     "output_type": "stream",
     "text": [
      "Processing files:   3%|█▋                                                     | 31/1044 [01:22<41:38,  2.47s/it]"
     ]
    },
    {
     "name": "stdout",
     "output_type": "stream",
     "text": [
      "Tokenizing...\n"
     ]
    },
    {
     "name": "stderr",
     "output_type": "stream",
     "text": [
      "PTBTokenizer tokenized 61766 tokens at 331132.81 tokens per second.\n",
      "PTBTokenizer tokenized 9242 tokens at 87781.75 tokens per second.\n"
     ]
    },
    {
     "name": "stdout",
     "output_type": "stream",
     "text": [
      "Computing scores...\n",
      "Computing METEOR score...\n",
      "Computing CIDEr score...\n"
     ]
    },
    {
     "name": "stderr",
     "output_type": "stream",
     "text": [
      "Processing files:   3%|█▋                                                     | 32/1044 [01:24<41:45,  2.48s/it]"
     ]
    },
    {
     "name": "stdout",
     "output_type": "stream",
     "text": [
      "Tokenizing...\n"
     ]
    },
    {
     "name": "stderr",
     "output_type": "stream",
     "text": [
      "PTBTokenizer tokenized 61766 tokens at 322192.64 tokens per second.\n",
      "PTBTokenizer tokenized 9242 tokens at 92203.56 tokens per second.\n"
     ]
    },
    {
     "name": "stdout",
     "output_type": "stream",
     "text": [
      "Computing scores...\n",
      "Computing METEOR score...\n",
      "Computing CIDEr score...\n"
     ]
    },
    {
     "name": "stderr",
     "output_type": "stream",
     "text": [
      "Processing files:   3%|█▋                                                     | 33/1044 [01:27<42:15,  2.51s/it]"
     ]
    },
    {
     "name": "stdout",
     "output_type": "stream",
     "text": [
      "Tokenizing...\n"
     ]
    },
    {
     "name": "stderr",
     "output_type": "stream",
     "text": [
      "PTBTokenizer tokenized 61766 tokens at 353085.67 tokens per second.\n",
      "PTBTokenizer tokenized 9108 tokens at 86285.69 tokens per second.\n"
     ]
    },
    {
     "name": "stdout",
     "output_type": "stream",
     "text": [
      "Computing scores...\n",
      "Computing METEOR score...\n",
      "Computing CIDEr score...\n"
     ]
    },
    {
     "name": "stderr",
     "output_type": "stream",
     "text": [
      "Processing files:   3%|█▊                                                     | 34/1044 [01:29<42:40,  2.53s/it]"
     ]
    },
    {
     "name": "stdout",
     "output_type": "stream",
     "text": [
      "Tokenizing...\n"
     ]
    },
    {
     "name": "stderr",
     "output_type": "stream",
     "text": [
      "PTBTokenizer tokenized 61766 tokens at 345342.23 tokens per second.\n",
      "PTBTokenizer tokenized 9242 tokens at 85859.83 tokens per second.\n"
     ]
    },
    {
     "name": "stdout",
     "output_type": "stream",
     "text": [
      "Computing scores...\n",
      "Computing METEOR score...\n",
      "Computing CIDEr score...\n"
     ]
    },
    {
     "name": "stderr",
     "output_type": "stream",
     "text": [
      "Processing files:   3%|█▊                                                     | 35/1044 [01:32<42:10,  2.51s/it]"
     ]
    },
    {
     "name": "stdout",
     "output_type": "stream",
     "text": [
      "Tokenizing...\n"
     ]
    },
    {
     "name": "stderr",
     "output_type": "stream",
     "text": [
      "PTBTokenizer tokenized 61766 tokens at 336062.94 tokens per second.\n",
      "PTBTokenizer tokenized 9117 tokens at 89174.85 tokens per second.\n"
     ]
    },
    {
     "name": "stdout",
     "output_type": "stream",
     "text": [
      "Computing scores...\n",
      "Computing METEOR score...\n",
      "Computing CIDEr score...\n"
     ]
    },
    {
     "name": "stderr",
     "output_type": "stream",
     "text": [
      "Processing files:   3%|█▉                                                     | 36/1044 [01:34<41:25,  2.47s/it]"
     ]
    },
    {
     "name": "stdout",
     "output_type": "stream",
     "text": [
      "Tokenizing...\n"
     ]
    },
    {
     "name": "stderr",
     "output_type": "stream",
     "text": [
      "PTBTokenizer tokenized 61766 tokens at 341763.19 tokens per second.\n",
      "PTBTokenizer tokenized 7523 tokens at 77088.09 tokens per second.\n"
     ]
    },
    {
     "name": "stdout",
     "output_type": "stream",
     "text": [
      "Computing scores...\n",
      "Computing METEOR score...\n",
      "Computing CIDEr score...\n"
     ]
    },
    {
     "name": "stderr",
     "output_type": "stream",
     "text": [
      "Processing files:   4%|█▉                                                     | 37/1044 [01:36<40:41,  2.42s/it]"
     ]
    },
    {
     "name": "stdout",
     "output_type": "stream",
     "text": [
      "Tokenizing...\n"
     ]
    },
    {
     "name": "stderr",
     "output_type": "stream",
     "text": [
      "PTBTokenizer tokenized 61766 tokens at 348929.77 tokens per second.\n",
      "PTBTokenizer tokenized 9145 tokens at 92157.17 tokens per second.\n"
     ]
    },
    {
     "name": "stdout",
     "output_type": "stream",
     "text": [
      "Computing scores...\n",
      "Computing METEOR score...\n",
      "Computing CIDEr score...\n"
     ]
    },
    {
     "name": "stderr",
     "output_type": "stream",
     "text": [
      "Processing files:   4%|██                                                     | 38/1044 [01:39<41:03,  2.45s/it]"
     ]
    },
    {
     "name": "stdout",
     "output_type": "stream",
     "text": [
      "Tokenizing...\n"
     ]
    },
    {
     "name": "stderr",
     "output_type": "stream",
     "text": [
      "PTBTokenizer tokenized 61766 tokens at 305934.80 tokens per second.\n",
      "PTBTokenizer tokenized 8035 tokens at 81334.89 tokens per second.\n"
     ]
    },
    {
     "name": "stdout",
     "output_type": "stream",
     "text": [
      "Computing scores...\n",
      "Computing METEOR score...\n",
      "Computing CIDEr score...\n"
     ]
    },
    {
     "name": "stderr",
     "output_type": "stream",
     "text": [
      "Processing files:   4%|██                                                     | 39/1044 [01:41<40:33,  2.42s/it]"
     ]
    },
    {
     "name": "stdout",
     "output_type": "stream",
     "text": [
      "Tokenizing...\n"
     ]
    },
    {
     "name": "stderr",
     "output_type": "stream",
     "text": [
      "PTBTokenizer tokenized 61766 tokens at 358860.00 tokens per second.\n",
      "PTBTokenizer tokenized 9242 tokens at 91687.56 tokens per second.\n"
     ]
    },
    {
     "name": "stdout",
     "output_type": "stream",
     "text": [
      "Computing scores...\n",
      "Computing METEOR score...\n",
      "Computing CIDEr score...\n"
     ]
    },
    {
     "name": "stderr",
     "output_type": "stream",
     "text": [
      "Processing files:   4%|██                                                     | 40/1044 [01:44<39:56,  2.39s/it]"
     ]
    },
    {
     "name": "stdout",
     "output_type": "stream",
     "text": [
      "Tokenizing...\n"
     ]
    },
    {
     "name": "stderr",
     "output_type": "stream",
     "text": [
      "PTBTokenizer tokenized 61766 tokens at 366637.55 tokens per second.\n",
      "PTBTokenizer tokenized 9241 tokens at 90731.41 tokens per second.\n"
     ]
    },
    {
     "name": "stdout",
     "output_type": "stream",
     "text": [
      "Computing scores...\n",
      "Computing METEOR score...\n",
      "Computing CIDEr score...\n"
     ]
    },
    {
     "name": "stderr",
     "output_type": "stream",
     "text": [
      "Processing files:   4%|██▏                                                    | 41/1044 [01:46<40:14,  2.41s/it]"
     ]
    },
    {
     "name": "stdout",
     "output_type": "stream",
     "text": [
      "Tokenizing...\n"
     ]
    },
    {
     "name": "stderr",
     "output_type": "stream",
     "text": [
      "PTBTokenizer tokenized 61766 tokens at 333256.24 tokens per second.\n",
      "PTBTokenizer tokenized 8523 tokens at 86235.10 tokens per second.\n"
     ]
    },
    {
     "name": "stdout",
     "output_type": "stream",
     "text": [
      "Computing scores...\n",
      "Computing METEOR score...\n",
      "Computing CIDEr score...\n"
     ]
    },
    {
     "name": "stderr",
     "output_type": "stream",
     "text": [
      "Processing files:   4%|██▏                                                    | 42/1044 [01:48<39:56,  2.39s/it]"
     ]
    },
    {
     "name": "stdout",
     "output_type": "stream",
     "text": [
      "Tokenizing...\n"
     ]
    },
    {
     "name": "stderr",
     "output_type": "stream",
     "text": [
      "PTBTokenizer tokenized 61766 tokens at 346768.86 tokens per second.\n",
      "PTBTokenizer tokenized 9258 tokens at 91772.62 tokens per second.\n"
     ]
    },
    {
     "name": "stdout",
     "output_type": "stream",
     "text": [
      "Computing scores...\n",
      "Computing METEOR score...\n",
      "Computing CIDEr score...\n"
     ]
    },
    {
     "name": "stderr",
     "output_type": "stream",
     "text": [
      "Processing files:   4%|██▎                                                    | 43/1044 [01:51<40:33,  2.43s/it]"
     ]
    },
    {
     "name": "stdout",
     "output_type": "stream",
     "text": [
      "Tokenizing...\n"
     ]
    },
    {
     "name": "stderr",
     "output_type": "stream",
     "text": [
      "PTBTokenizer tokenized 61766 tokens at 331725.69 tokens per second.\n",
      "PTBTokenizer tokenized 9242 tokens at 84365.04 tokens per second.\n"
     ]
    },
    {
     "name": "stdout",
     "output_type": "stream",
     "text": [
      "Computing scores...\n",
      "Computing METEOR score...\n",
      "Computing CIDEr score...\n"
     ]
    },
    {
     "name": "stderr",
     "output_type": "stream",
     "text": [
      "Processing files:   4%|██▎                                                    | 44/1044 [01:54<41:31,  2.49s/it]"
     ]
    },
    {
     "name": "stdout",
     "output_type": "stream",
     "text": [
      "Tokenizing...\n"
     ]
    },
    {
     "name": "stderr",
     "output_type": "stream",
     "text": [
      "PTBTokenizer tokenized 61766 tokens at 328430.90 tokens per second.\n",
      "PTBTokenizer tokenized 9105 tokens at 77366.34 tokens per second.\n"
     ]
    },
    {
     "name": "stdout",
     "output_type": "stream",
     "text": [
      "Computing scores...\n",
      "Computing METEOR score...\n",
      "Computing CIDEr score...\n"
     ]
    },
    {
     "name": "stderr",
     "output_type": "stream",
     "text": [
      "Processing files:   4%|██▎                                                    | 45/1044 [01:56<42:06,  2.53s/it]"
     ]
    },
    {
     "name": "stdout",
     "output_type": "stream",
     "text": [
      "Tokenizing...\n"
     ]
    },
    {
     "name": "stderr",
     "output_type": "stream",
     "text": [
      "PTBTokenizer tokenized 61766 tokens at 340165.97 tokens per second.\n",
      "PTBTokenizer tokenized 9226 tokens at 91079.45 tokens per second.\n"
     ]
    },
    {
     "name": "stdout",
     "output_type": "stream",
     "text": [
      "Computing scores...\n",
      "Computing METEOR score...\n",
      "Computing CIDEr score...\n"
     ]
    },
    {
     "name": "stderr",
     "output_type": "stream",
     "text": [
      "Processing files:   4%|██▍                                                    | 46/1044 [01:59<42:06,  2.53s/it]"
     ]
    },
    {
     "name": "stdout",
     "output_type": "stream",
     "text": [
      "Tokenizing...\n"
     ]
    },
    {
     "name": "stderr",
     "output_type": "stream",
     "text": [
      "PTBTokenizer tokenized 61766 tokens at 334102.89 tokens per second.\n",
      "PTBTokenizer tokenized 9229 tokens at 84033.83 tokens per second.\n"
     ]
    },
    {
     "name": "stdout",
     "output_type": "stream",
     "text": [
      "Computing scores...\n",
      "Computing METEOR score...\n",
      "Computing CIDEr score...\n"
     ]
    },
    {
     "name": "stderr",
     "output_type": "stream",
     "text": [
      "Processing files:   5%|██▍                                                    | 47/1044 [02:01<42:40,  2.57s/it]"
     ]
    },
    {
     "name": "stdout",
     "output_type": "stream",
     "text": [
      "Tokenizing...\n"
     ]
    },
    {
     "name": "stderr",
     "output_type": "stream",
     "text": [
      "PTBTokenizer tokenized 61766 tokens at 325769.73 tokens per second.\n",
      "PTBTokenizer tokenized 9242 tokens at 85738.94 tokens per second.\n"
     ]
    },
    {
     "name": "stdout",
     "output_type": "stream",
     "text": [
      "Computing scores...\n",
      "Computing METEOR score...\n",
      "Computing CIDEr score...\n"
     ]
    },
    {
     "name": "stderr",
     "output_type": "stream",
     "text": [
      "Processing files:   5%|██▌                                                    | 48/1044 [02:04<42:49,  2.58s/it]"
     ]
    },
    {
     "name": "stdout",
     "output_type": "stream",
     "text": [
      "Tokenizing...\n"
     ]
    },
    {
     "name": "stderr",
     "output_type": "stream",
     "text": [
      "PTBTokenizer tokenized 61766 tokens at 322687.30 tokens per second.\n",
      "PTBTokenizer tokenized 9242 tokens at 86541.27 tokens per second.\n"
     ]
    },
    {
     "name": "stdout",
     "output_type": "stream",
     "text": [
      "Computing scores...\n",
      "Computing METEOR score...\n",
      "Computing CIDEr score...\n"
     ]
    },
    {
     "name": "stderr",
     "output_type": "stream",
     "text": [
      "Processing files:   5%|██▌                                                    | 49/1044 [02:07<43:16,  2.61s/it]"
     ]
    },
    {
     "name": "stdout",
     "output_type": "stream",
     "text": [
      "Tokenizing...\n"
     ]
    },
    {
     "name": "stderr",
     "output_type": "stream",
     "text": [
      "PTBTokenizer tokenized 61766 tokens at 333278.52 tokens per second.\n",
      "PTBTokenizer tokenized 9100 tokens at 82929.24 tokens per second.\n"
     ]
    },
    {
     "name": "stdout",
     "output_type": "stream",
     "text": [
      "Computing scores...\n",
      "Computing METEOR score...\n",
      "Computing CIDEr score...\n"
     ]
    },
    {
     "name": "stderr",
     "output_type": "stream",
     "text": [
      "Processing files:   5%|██▋                                                    | 50/1044 [02:09<42:58,  2.59s/it]"
     ]
    },
    {
     "name": "stdout",
     "output_type": "stream",
     "text": [
      "Tokenizing...\n"
     ]
    },
    {
     "name": "stderr",
     "output_type": "stream",
     "text": [
      "PTBTokenizer tokenized 61766 tokens at 336184.60 tokens per second.\n",
      "PTBTokenizer tokenized 9242 tokens at 85059.30 tokens per second.\n"
     ]
    },
    {
     "name": "stdout",
     "output_type": "stream",
     "text": [
      "Computing scores...\n",
      "Computing METEOR score...\n",
      "Computing CIDEr score...\n"
     ]
    },
    {
     "name": "stderr",
     "output_type": "stream",
     "text": [
      "Processing files:   5%|██▋                                                    | 51/1044 [02:12<43:23,  2.62s/it]"
     ]
    },
    {
     "name": "stdout",
     "output_type": "stream",
     "text": [
      "Tokenizing...\n"
     ]
    },
    {
     "name": "stderr",
     "output_type": "stream",
     "text": [
      "PTBTokenizer tokenized 61766 tokens at 328362.91 tokens per second.\n",
      "Jul 19, 2024 4:22:36 PM edu.stanford.nlp.process.PTBLexer next\n",
      "WARNING: Untokenizable: � (U+FFFD, decimal: 65533)\n",
      "PTBTokenizer tokenized 17403 tokens at 98497.15 tokens per second.\n"
     ]
    },
    {
     "name": "stdout",
     "output_type": "stream",
     "text": [
      "Computing scores...\n",
      "Computing METEOR score...\n",
      "Computing CIDEr score...\n"
     ]
    },
    {
     "name": "stderr",
     "output_type": "stream",
     "text": [
      "Processing files:   5%|██▋                                                    | 52/1044 [02:15<45:58,  2.78s/it]"
     ]
    },
    {
     "name": "stdout",
     "output_type": "stream",
     "text": [
      "Tokenizing...\n"
     ]
    },
    {
     "name": "stderr",
     "output_type": "stream",
     "text": [
      "PTBTokenizer tokenized 61766 tokens at 338346.58 tokens per second.\n",
      "PTBTokenizer tokenized 9242 tokens at 81500.17 tokens per second.\n"
     ]
    },
    {
     "name": "stdout",
     "output_type": "stream",
     "text": [
      "Computing scores...\n",
      "Computing METEOR score...\n",
      "Computing CIDEr score...\n"
     ]
    },
    {
     "name": "stderr",
     "output_type": "stream",
     "text": [
      "Processing files:   5%|██▊                                                    | 53/1044 [02:18<45:07,  2.73s/it]"
     ]
    },
    {
     "name": "stdout",
     "output_type": "stream",
     "text": [
      "Tokenizing...\n"
     ]
    },
    {
     "name": "stderr",
     "output_type": "stream",
     "text": [
      "PTBTokenizer tokenized 61766 tokens at 322334.91 tokens per second.\n",
      "PTBTokenizer tokenized 9242 tokens at 76333.36 tokens per second.\n"
     ]
    },
    {
     "name": "stdout",
     "output_type": "stream",
     "text": [
      "Computing scores...\n",
      "Computing METEOR score...\n",
      "Computing CIDEr score...\n"
     ]
    },
    {
     "name": "stderr",
     "output_type": "stream",
     "text": [
      "Processing files:   5%|██▊                                                    | 54/1044 [02:20<44:23,  2.69s/it]"
     ]
    },
    {
     "name": "stdout",
     "output_type": "stream",
     "text": [
      "Tokenizing...\n"
     ]
    },
    {
     "name": "stderr",
     "output_type": "stream",
     "text": [
      "PTBTokenizer tokenized 61766 tokens at 348714.67 tokens per second.\n",
      "Jul 19, 2024 4:22:44 PM edu.stanford.nlp.process.PTBLexer next\n",
      "WARNING: Untokenizable: � (U+FFFD, decimal: 65533)\n",
      "PTBTokenizer tokenized 10849 tokens at 56650.82 tokens per second.\n"
     ]
    },
    {
     "name": "stdout",
     "output_type": "stream",
     "text": [
      "Computing scores...\n",
      "Computing METEOR score...\n",
      "Computing CIDEr score...\n"
     ]
    },
    {
     "name": "stderr",
     "output_type": "stream",
     "text": [
      "Processing files:   5%|██▉                                                    | 55/1044 [02:23<44:23,  2.69s/it]"
     ]
    },
    {
     "name": "stdout",
     "output_type": "stream",
     "text": [
      "Tokenizing...\n"
     ]
    },
    {
     "name": "stderr",
     "output_type": "stream",
     "text": [
      "PTBTokenizer tokenized 61766 tokens at 341432.29 tokens per second.\n",
      "PTBTokenizer tokenized 9242 tokens at 77543.44 tokens per second.\n"
     ]
    },
    {
     "name": "stdout",
     "output_type": "stream",
     "text": [
      "Computing scores...\n",
      "Computing METEOR score...\n",
      "Computing CIDEr score...\n"
     ]
    },
    {
     "name": "stderr",
     "output_type": "stream",
     "text": [
      "Processing files:   5%|██▉                                                    | 56/1044 [02:25<43:34,  2.65s/it]"
     ]
    },
    {
     "name": "stdout",
     "output_type": "stream",
     "text": [
      "Tokenizing...\n"
     ]
    },
    {
     "name": "stderr",
     "output_type": "stream",
     "text": [
      "PTBTokenizer tokenized 61766 tokens at 328576.23 tokens per second.\n",
      "PTBTokenizer tokenized 9235 tokens at 90774.92 tokens per second.\n"
     ]
    },
    {
     "name": "stdout",
     "output_type": "stream",
     "text": [
      "Computing scores...\n",
      "Computing METEOR score...\n",
      "Computing CIDEr score...\n"
     ]
    },
    {
     "name": "stderr",
     "output_type": "stream",
     "text": [
      "Processing files:   5%|███                                                    | 57/1044 [02:28<43:20,  2.63s/it]"
     ]
    },
    {
     "name": "stdout",
     "output_type": "stream",
     "text": [
      "Tokenizing...\n"
     ]
    },
    {
     "name": "stderr",
     "output_type": "stream",
     "text": [
      "PTBTokenizer tokenized 61766 tokens at 348198.88 tokens per second.\n",
      "PTBTokenizer tokenized 8055 tokens at 79054.02 tokens per second.\n"
     ]
    },
    {
     "name": "stdout",
     "output_type": "stream",
     "text": [
      "Computing scores...\n",
      "Computing METEOR score...\n",
      "Computing CIDEr score...\n"
     ]
    },
    {
     "name": "stderr",
     "output_type": "stream",
     "text": [
      "Processing files:   6%|███                                                    | 58/1044 [02:31<42:58,  2.62s/it]"
     ]
    },
    {
     "name": "stdout",
     "output_type": "stream",
     "text": [
      "Tokenizing...\n"
     ]
    },
    {
     "name": "stderr",
     "output_type": "stream",
     "text": [
      "PTBTokenizer tokenized 61766 tokens at 330577.28 tokens per second.\n",
      "PTBTokenizer tokenized 9242 tokens at 84678.03 tokens per second.\n"
     ]
    },
    {
     "name": "stdout",
     "output_type": "stream",
     "text": [
      "Computing scores...\n",
      "Computing METEOR score...\n",
      "Computing CIDEr score...\n"
     ]
    },
    {
     "name": "stderr",
     "output_type": "stream",
     "text": [
      "Processing files:   6%|███                                                    | 59/1044 [02:33<42:58,  2.62s/it]"
     ]
    },
    {
     "name": "stdout",
     "output_type": "stream",
     "text": [
      "Tokenizing...\n"
     ]
    },
    {
     "name": "stderr",
     "output_type": "stream",
     "text": [
      "PTBTokenizer tokenized 61766 tokens at 338646.56 tokens per second.\n",
      "PTBTokenizer tokenized 9242 tokens at 93512.97 tokens per second.\n"
     ]
    },
    {
     "name": "stdout",
     "output_type": "stream",
     "text": [
      "Computing scores...\n",
      "Computing METEOR score...\n",
      "Computing CIDEr score...\n"
     ]
    },
    {
     "name": "stderr",
     "output_type": "stream",
     "text": [
      "Processing files:   6%|███▏                                                   | 60/1044 [02:36<42:57,  2.62s/it]"
     ]
    },
    {
     "name": "stdout",
     "output_type": "stream",
     "text": [
      "Tokenizing...\n"
     ]
    },
    {
     "name": "stderr",
     "output_type": "stream",
     "text": [
      "PTBTokenizer tokenized 61766 tokens at 331289.73 tokens per second.\n",
      "PTBTokenizer tokenized 9242 tokens at 84630.80 tokens per second.\n"
     ]
    },
    {
     "name": "stdout",
     "output_type": "stream",
     "text": [
      "Computing scores...\n",
      "Computing METEOR score...\n",
      "Computing CIDEr score...\n"
     ]
    },
    {
     "name": "stderr",
     "output_type": "stream",
     "text": [
      "Processing files:   6%|███▏                                                   | 61/1044 [02:38<42:38,  2.60s/it]"
     ]
    },
    {
     "name": "stdout",
     "output_type": "stream",
     "text": [
      "Tokenizing...\n"
     ]
    },
    {
     "name": "stderr",
     "output_type": "stream",
     "text": [
      "PTBTokenizer tokenized 61766 tokens at 346722.78 tokens per second.\n",
      "PTBTokenizer tokenized 11791 tokens at 104971.24 tokens per second.\n"
     ]
    },
    {
     "name": "stdout",
     "output_type": "stream",
     "text": [
      "Computing scores...\n",
      "Computing METEOR score...\n",
      "Computing CIDEr score...\n"
     ]
    },
    {
     "name": "stderr",
     "output_type": "stream",
     "text": [
      "Processing files:   6%|███▎                                                   | 62/1044 [02:41<43:14,  2.64s/it]"
     ]
    },
    {
     "name": "stdout",
     "output_type": "stream",
     "text": [
      "Tokenizing...\n"
     ]
    },
    {
     "name": "stderr",
     "output_type": "stream",
     "text": [
      "PTBTokenizer tokenized 61766 tokens at 335289.34 tokens per second.\n",
      "PTBTokenizer tokenized 9242 tokens at 83121.85 tokens per second.\n"
     ]
    },
    {
     "name": "stdout",
     "output_type": "stream",
     "text": [
      "Computing scores...\n",
      "Computing METEOR score...\n",
      "Computing CIDEr score...\n"
     ]
    },
    {
     "name": "stderr",
     "output_type": "stream",
     "text": [
      "Processing files:   6%|███▎                                                   | 63/1044 [02:44<42:57,  2.63s/it]"
     ]
    },
    {
     "name": "stdout",
     "output_type": "stream",
     "text": [
      "Tokenizing...\n"
     ]
    },
    {
     "name": "stderr",
     "output_type": "stream",
     "text": [
      "PTBTokenizer tokenized 61766 tokens at 307494.71 tokens per second.\n",
      "PTBTokenizer tokenized 9242 tokens at 80470.43 tokens per second.\n"
     ]
    },
    {
     "name": "stdout",
     "output_type": "stream",
     "text": [
      "Computing scores...\n",
      "Computing METEOR score...\n",
      "Computing CIDEr score...\n"
     ]
    },
    {
     "name": "stderr",
     "output_type": "stream",
     "text": [
      "Processing files:   6%|███▎                                                   | 64/1044 [02:47<43:16,  2.65s/it]"
     ]
    },
    {
     "name": "stdout",
     "output_type": "stream",
     "text": [
      "Tokenizing...\n"
     ]
    },
    {
     "name": "stderr",
     "output_type": "stream",
     "text": [
      "PTBTokenizer tokenized 61766 tokens at 338744.47 tokens per second.\n",
      "PTBTokenizer tokenized 9279 tokens at 91306.44 tokens per second.\n"
     ]
    },
    {
     "name": "stdout",
     "output_type": "stream",
     "text": [
      "Computing scores...\n",
      "Computing METEOR score...\n",
      "Computing CIDEr score...\n"
     ]
    },
    {
     "name": "stderr",
     "output_type": "stream",
     "text": [
      "Processing files:   6%|███▍                                                   | 65/1044 [02:49<43:06,  2.64s/it]"
     ]
    },
    {
     "name": "stdout",
     "output_type": "stream",
     "text": [
      "Tokenizing...\n"
     ]
    },
    {
     "name": "stderr",
     "output_type": "stream",
     "text": [
      "PTBTokenizer tokenized 61766 tokens at 334438.46 tokens per second.\n",
      "PTBTokenizer tokenized 9247 tokens at 91017.80 tokens per second.\n"
     ]
    },
    {
     "name": "stdout",
     "output_type": "stream",
     "text": [
      "Computing scores...\n",
      "Computing METEOR score...\n",
      "Computing CIDEr score...\n"
     ]
    },
    {
     "name": "stderr",
     "output_type": "stream",
     "text": [
      "Processing files:   6%|███▍                                                   | 66/1044 [02:52<42:36,  2.61s/it]"
     ]
    },
    {
     "name": "stdout",
     "output_type": "stream",
     "text": [
      "Tokenizing...\n"
     ]
    },
    {
     "name": "stderr",
     "output_type": "stream",
     "text": [
      "PTBTokenizer tokenized 61766 tokens at 315710.40 tokens per second.\n",
      "PTBTokenizer tokenized 9159 tokens at 91435.43 tokens per second.\n"
     ]
    },
    {
     "name": "stdout",
     "output_type": "stream",
     "text": [
      "Computing scores...\n",
      "Computing METEOR score...\n",
      "Computing CIDEr score...\n"
     ]
    },
    {
     "name": "stderr",
     "output_type": "stream",
     "text": [
      "Processing files:   6%|███▌                                                   | 67/1044 [02:54<42:28,  2.61s/it]"
     ]
    },
    {
     "name": "stdout",
     "output_type": "stream",
     "text": [
      "Tokenizing...\n"
     ]
    },
    {
     "name": "stderr",
     "output_type": "stream",
     "text": [
      "PTBTokenizer tokenized 61766 tokens at 338991.77 tokens per second.\n",
      "PTBTokenizer tokenized 7755 tokens at 73885.66 tokens per second.\n"
     ]
    },
    {
     "name": "stdout",
     "output_type": "stream",
     "text": [
      "Computing scores...\n",
      "Computing METEOR score...\n",
      "Computing CIDEr score...\n"
     ]
    },
    {
     "name": "stderr",
     "output_type": "stream",
     "text": [
      "Processing files:   7%|███▌                                                   | 68/1044 [02:57<41:57,  2.58s/it]"
     ]
    },
    {
     "name": "stdout",
     "output_type": "stream",
     "text": [
      "Tokenizing...\n"
     ]
    },
    {
     "name": "stderr",
     "output_type": "stream",
     "text": [
      "PTBTokenizer tokenized 61766 tokens at 304836.27 tokens per second.\n",
      "PTBTokenizer tokenized 9200 tokens at 88215.89 tokens per second.\n"
     ]
    },
    {
     "name": "stdout",
     "output_type": "stream",
     "text": [
      "Computing scores...\n",
      "Computing METEOR score...\n",
      "Computing CIDEr score...\n"
     ]
    },
    {
     "name": "stderr",
     "output_type": "stream",
     "text": [
      "Processing files:   7%|███▋                                                   | 69/1044 [02:59<41:39,  2.56s/it]"
     ]
    },
    {
     "name": "stdout",
     "output_type": "stream",
     "text": [
      "Tokenizing...\n"
     ]
    },
    {
     "name": "stderr",
     "output_type": "stream",
     "text": [
      "PTBTokenizer tokenized 61766 tokens at 310281.79 tokens per second.\n",
      "PTBTokenizer tokenized 9242 tokens at 79644.81 tokens per second.\n"
     ]
    },
    {
     "name": "stdout",
     "output_type": "stream",
     "text": [
      "Computing scores...\n",
      "Computing METEOR score...\n",
      "Computing CIDEr score...\n"
     ]
    },
    {
     "name": "stderr",
     "output_type": "stream",
     "text": [
      "Processing files:   7%|███▋                                                   | 70/1044 [03:02<41:22,  2.55s/it]"
     ]
    },
    {
     "name": "stdout",
     "output_type": "stream",
     "text": [
      "Tokenizing...\n"
     ]
    },
    {
     "name": "stderr",
     "output_type": "stream",
     "text": [
      "PTBTokenizer tokenized 61766 tokens at 338154.09 tokens per second.\n",
      "PTBTokenizer tokenized 9242 tokens at 89618.21 tokens per second.\n"
     ]
    },
    {
     "name": "stdout",
     "output_type": "stream",
     "text": [
      "Computing scores...\n",
      "Computing METEOR score...\n",
      "Computing CIDEr score...\n"
     ]
    },
    {
     "name": "stderr",
     "output_type": "stream",
     "text": [
      "Processing files:   7%|███▋                                                   | 71/1044 [03:04<41:52,  2.58s/it]"
     ]
    },
    {
     "name": "stdout",
     "output_type": "stream",
     "text": [
      "Tokenizing...\n"
     ]
    },
    {
     "name": "stderr",
     "output_type": "stream",
     "text": [
      "PTBTokenizer tokenized 61766 tokens at 344422.87 tokens per second.\n",
      "Jul 19, 2024 4:23:28 PM edu.stanford.nlp.process.PTBLexer next\n",
      "WARNING: Untokenizable: � (U+FFFD, decimal: 65533)\n",
      "PTBTokenizer tokenized 11173 tokens at 52918.46 tokens per second.\n"
     ]
    },
    {
     "name": "stdout",
     "output_type": "stream",
     "text": [
      "Computing scores...\n",
      "Computing METEOR score...\n",
      "Computing CIDEr score...\n"
     ]
    },
    {
     "name": "stderr",
     "output_type": "stream",
     "text": [
      "Processing files:   7%|███▊                                                   | 72/1044 [03:07<42:22,  2.62s/it]"
     ]
    },
    {
     "name": "stdout",
     "output_type": "stream",
     "text": [
      "Tokenizing...\n"
     ]
    },
    {
     "name": "stderr",
     "output_type": "stream",
     "text": [
      "PTBTokenizer tokenized 61766 tokens at 322224.04 tokens per second.\n",
      "PTBTokenizer tokenized 8523 tokens at 85157.05 tokens per second.\n"
     ]
    },
    {
     "name": "stdout",
     "output_type": "stream",
     "text": [
      "Computing scores...\n",
      "Computing METEOR score...\n",
      "Computing CIDEr score...\n"
     ]
    },
    {
     "name": "stderr",
     "output_type": "stream",
     "text": [
      "Processing files:   7%|███▊                                                   | 73/1044 [03:10<41:39,  2.57s/it]"
     ]
    },
    {
     "name": "stdout",
     "output_type": "stream",
     "text": [
      "Tokenizing...\n"
     ]
    },
    {
     "name": "stderr",
     "output_type": "stream",
     "text": [
      "PTBTokenizer tokenized 61766 tokens at 331959.64 tokens per second.\n",
      "PTBTokenizer tokenized 9169 tokens at 83725.28 tokens per second.\n"
     ]
    },
    {
     "name": "stdout",
     "output_type": "stream",
     "text": [
      "Computing scores...\n",
      "Computing METEOR score...\n",
      "Computing CIDEr score...\n"
     ]
    },
    {
     "name": "stderr",
     "output_type": "stream",
     "text": [
      "Processing files:   7%|███▉                                                   | 74/1044 [03:12<41:21,  2.56s/it]"
     ]
    },
    {
     "name": "stdout",
     "output_type": "stream",
     "text": [
      "Tokenizing...\n"
     ]
    },
    {
     "name": "stderr",
     "output_type": "stream",
     "text": [
      "PTBTokenizer tokenized 61766 tokens at 349839.24 tokens per second.\n",
      "Jul 19, 2024 4:23:36 PM edu.stanford.nlp.process.PTBLexer next\n",
      "WARNING: Untokenizable: � (U+FFFD, decimal: 65533)\n",
      "PTBTokenizer tokenized 17403 tokens at 103732.11 tokens per second.\n"
     ]
    },
    {
     "name": "stdout",
     "output_type": "stream",
     "text": [
      "Computing scores...\n",
      "Computing METEOR score...\n",
      "Computing CIDEr score...\n"
     ]
    },
    {
     "name": "stderr",
     "output_type": "stream",
     "text": [
      "Processing files:   7%|███▉                                                   | 75/1044 [03:15<43:33,  2.70s/it]"
     ]
    },
    {
     "name": "stdout",
     "output_type": "stream",
     "text": [
      "Tokenizing...\n"
     ]
    },
    {
     "name": "stderr",
     "output_type": "stream",
     "text": [
      "PTBTokenizer tokenized 61766 tokens at 345016.48 tokens per second.\n",
      "PTBTokenizer tokenized 9263 tokens at 86075.39 tokens per second.\n"
     ]
    },
    {
     "name": "stdout",
     "output_type": "stream",
     "text": [
      "Computing scores...\n",
      "Computing METEOR score...\n",
      "Computing CIDEr score...\n"
     ]
    },
    {
     "name": "stderr",
     "output_type": "stream",
     "text": [
      "Processing files:   7%|████                                                   | 76/1044 [03:18<42:37,  2.64s/it]"
     ]
    },
    {
     "name": "stdout",
     "output_type": "stream",
     "text": [
      "Tokenizing...\n"
     ]
    },
    {
     "name": "stderr",
     "output_type": "stream",
     "text": [
      "PTBTokenizer tokenized 61766 tokens at 343427.33 tokens per second.\n",
      "PTBTokenizer tokenized 9242 tokens at 92648.33 tokens per second.\n"
     ]
    },
    {
     "name": "stdout",
     "output_type": "stream",
     "text": [
      "Computing scores...\n",
      "Computing METEOR score...\n",
      "Computing CIDEr score...\n"
     ]
    },
    {
     "name": "stderr",
     "output_type": "stream",
     "text": [
      "Processing files:   7%|████                                                   | 77/1044 [03:20<42:04,  2.61s/it]"
     ]
    },
    {
     "name": "stdout",
     "output_type": "stream",
     "text": [
      "Tokenizing...\n"
     ]
    },
    {
     "name": "stderr",
     "output_type": "stream",
     "text": [
      "PTBTokenizer tokenized 61766 tokens at 335310.74 tokens per second.\n",
      "PTBTokenizer tokenized 7968 tokens at 80470.43 tokens per second.\n"
     ]
    },
    {
     "name": "stdout",
     "output_type": "stream",
     "text": [
      "Computing scores...\n",
      "Computing METEOR score...\n",
      "Computing CIDEr score...\n"
     ]
    },
    {
     "name": "stderr",
     "output_type": "stream",
     "text": [
      "Processing files:   7%|████                                                   | 78/1044 [03:23<41:30,  2.58s/it]"
     ]
    },
    {
     "name": "stdout",
     "output_type": "stream",
     "text": [
      "Tokenizing...\n"
     ]
    },
    {
     "name": "stderr",
     "output_type": "stream",
     "text": [
      "PTBTokenizer tokenized 61766 tokens at 311113.47 tokens per second.\n",
      "PTBTokenizer tokenized 9213 tokens at 78247.42 tokens per second.\n"
     ]
    },
    {
     "name": "stdout",
     "output_type": "stream",
     "text": [
      "Computing scores...\n",
      "Computing METEOR score...\n",
      "Computing CIDEr score...\n"
     ]
    },
    {
     "name": "stderr",
     "output_type": "stream",
     "text": [
      "Processing files:   8%|████▏                                                  | 79/1044 [03:25<40:52,  2.54s/it]"
     ]
    },
    {
     "name": "stdout",
     "output_type": "stream",
     "text": [
      "Tokenizing...\n"
     ]
    },
    {
     "name": "stderr",
     "output_type": "stream",
     "text": [
      "PTBTokenizer tokenized 61766 tokens at 289509.83 tokens per second.\n",
      "PTBTokenizer tokenized 9242 tokens at 81044.55 tokens per second.\n"
     ]
    },
    {
     "name": "stdout",
     "output_type": "stream",
     "text": [
      "Computing scores...\n",
      "Computing METEOR score...\n",
      "Computing CIDEr score...\n"
     ]
    },
    {
     "name": "stderr",
     "output_type": "stream",
     "text": [
      "Processing files:   8%|████▏                                                  | 80/1044 [03:28<40:38,  2.53s/it]"
     ]
    },
    {
     "name": "stdout",
     "output_type": "stream",
     "text": [
      "Tokenizing...\n"
     ]
    },
    {
     "name": "stderr",
     "output_type": "stream",
     "text": [
      "PTBTokenizer tokenized 61766 tokens at 331280.76 tokens per second.\n",
      "PTBTokenizer tokenized 9267 tokens at 87538.35 tokens per second.\n"
     ]
    },
    {
     "name": "stdout",
     "output_type": "stream",
     "text": [
      "Computing scores...\n",
      "Computing METEOR score...\n",
      "Computing CIDEr score...\n"
     ]
    },
    {
     "name": "stderr",
     "output_type": "stream",
     "text": [
      "Processing files:   8%|████▎                                                  | 81/1044 [03:30<41:04,  2.56s/it]"
     ]
    },
    {
     "name": "stdout",
     "output_type": "stream",
     "text": [
      "Tokenizing...\n"
     ]
    },
    {
     "name": "stderr",
     "output_type": "stream",
     "text": [
      "PTBTokenizer tokenized 61766 tokens at 342727.34 tokens per second.\n",
      "PTBTokenizer tokenized 8089 tokens at 82730.23 tokens per second.\n"
     ]
    },
    {
     "name": "stdout",
     "output_type": "stream",
     "text": [
      "Computing scores...\n",
      "Computing METEOR score...\n",
      "Computing CIDEr score...\n"
     ]
    },
    {
     "name": "stderr",
     "output_type": "stream",
     "text": [
      "Processing files:   8%|████▎                                                  | 82/1044 [03:33<40:27,  2.52s/it]"
     ]
    },
    {
     "name": "stdout",
     "output_type": "stream",
     "text": [
      "Tokenizing...\n"
     ]
    },
    {
     "name": "stderr",
     "output_type": "stream",
     "text": [
      "PTBTokenizer tokenized 61766 tokens at 306383.76 tokens per second.\n",
      "PTBTokenizer tokenized 9242 tokens at 92903.55 tokens per second.\n"
     ]
    },
    {
     "name": "stdout",
     "output_type": "stream",
     "text": [
      "Computing scores...\n",
      "Computing METEOR score...\n",
      "Computing CIDEr score...\n"
     ]
    },
    {
     "name": "stderr",
     "output_type": "stream",
     "text": [
      "Processing files:   8%|████▎                                                  | 83/1044 [03:35<40:33,  2.53s/it]"
     ]
    },
    {
     "name": "stdout",
     "output_type": "stream",
     "text": [
      "Tokenizing...\n"
     ]
    },
    {
     "name": "stderr",
     "output_type": "stream",
     "text": [
      "PTBTokenizer tokenized 61766 tokens at 329694.43 tokens per second.\n",
      "PTBTokenizer tokenized 9242 tokens at 89873.89 tokens per second.\n"
     ]
    },
    {
     "name": "stdout",
     "output_type": "stream",
     "text": [
      "Computing scores...\n",
      "Computing METEOR score...\n",
      "Computing CIDEr score...\n"
     ]
    },
    {
     "name": "stderr",
     "output_type": "stream",
     "text": [
      "Processing files:   8%|████▍                                                  | 84/1044 [03:38<40:17,  2.52s/it]"
     ]
    },
    {
     "name": "stdout",
     "output_type": "stream",
     "text": [
      "Tokenizing...\n"
     ]
    },
    {
     "name": "stderr",
     "output_type": "stream",
     "text": [
      "PTBTokenizer tokenized 61766 tokens at 314733.63 tokens per second.\n",
      "PTBTokenizer tokenized 8055 tokens at 82300.45 tokens per second.\n"
     ]
    },
    {
     "name": "stdout",
     "output_type": "stream",
     "text": [
      "Computing scores...\n",
      "Computing METEOR score...\n",
      "Computing CIDEr score...\n"
     ]
    },
    {
     "name": "stderr",
     "output_type": "stream",
     "text": [
      "Processing files:   8%|████▍                                                  | 85/1044 [03:40<40:32,  2.54s/it]"
     ]
    },
    {
     "name": "stdout",
     "output_type": "stream",
     "text": [
      "Tokenizing...\n"
     ]
    },
    {
     "name": "stderr",
     "output_type": "stream",
     "text": [
      "PTBTokenizer tokenized 61766 tokens at 298607.90 tokens per second.\n",
      "PTBTokenizer tokenized 9242 tokens at 88722.06 tokens per second.\n"
     ]
    },
    {
     "name": "stdout",
     "output_type": "stream",
     "text": [
      "Computing scores...\n",
      "Computing METEOR score...\n",
      "Computing CIDEr score...\n"
     ]
    },
    {
     "name": "stderr",
     "output_type": "stream",
     "text": [
      "Processing files:   8%|████▌                                                  | 86/1044 [03:43<40:38,  2.55s/it]"
     ]
    },
    {
     "name": "stdout",
     "output_type": "stream",
     "text": [
      "Tokenizing...\n"
     ]
    },
    {
     "name": "stderr",
     "output_type": "stream",
     "text": [
      "PTBTokenizer tokenized 61766 tokens at 315187.76 tokens per second.\n",
      "PTBTokenizer tokenized 9191 tokens at 84419.38 tokens per second.\n"
     ]
    },
    {
     "name": "stdout",
     "output_type": "stream",
     "text": [
      "Computing scores...\n",
      "Computing METEOR score...\n",
      "Computing CIDEr score...\n"
     ]
    },
    {
     "name": "stderr",
     "output_type": "stream",
     "text": [
      "Processing files:   8%|████▌                                                  | 87/1044 [03:45<40:12,  2.52s/it]"
     ]
    },
    {
     "name": "stdout",
     "output_type": "stream",
     "text": [
      "Tokenizing...\n"
     ]
    },
    {
     "name": "stderr",
     "output_type": "stream",
     "text": [
      "PTBTokenizer tokenized 61766 tokens at 340550.21 tokens per second.\n",
      "PTBTokenizer tokenized 9202 tokens at 82854.94 tokens per second.\n"
     ]
    },
    {
     "name": "stdout",
     "output_type": "stream",
     "text": [
      "Computing scores...\n",
      "Computing METEOR score...\n",
      "Computing CIDEr score...\n"
     ]
    },
    {
     "name": "stderr",
     "output_type": "stream",
     "text": [
      "Processing files:   8%|████▋                                                  | 88/1044 [03:48<40:28,  2.54s/it]"
     ]
    },
    {
     "name": "stdout",
     "output_type": "stream",
     "text": [
      "Tokenizing...\n"
     ]
    },
    {
     "name": "stderr",
     "output_type": "stream",
     "text": [
      "PTBTokenizer tokenized 61766 tokens at 316826.00 tokens per second.\n",
      "PTBTokenizer tokenized 8646 tokens at 86842.90 tokens per second.\n"
     ]
    },
    {
     "name": "stdout",
     "output_type": "stream",
     "text": [
      "Computing scores...\n",
      "Computing METEOR score...\n",
      "Computing CIDEr score...\n"
     ]
    },
    {
     "name": "stderr",
     "output_type": "stream",
     "text": [
      "Processing files:   9%|████▋                                                  | 89/1044 [03:50<39:54,  2.51s/it]"
     ]
    },
    {
     "name": "stdout",
     "output_type": "stream",
     "text": [
      "Tokenizing...\n"
     ]
    },
    {
     "name": "stderr",
     "output_type": "stream",
     "text": [
      "PTBTokenizer tokenized 61766 tokens at 340711.83 tokens per second.\n",
      "PTBTokenizer tokenized 9242 tokens at 86126.47 tokens per second.\n"
     ]
    },
    {
     "name": "stdout",
     "output_type": "stream",
     "text": [
      "Computing scores...\n",
      "Computing METEOR score...\n",
      "Computing CIDEr score...\n"
     ]
    },
    {
     "name": "stderr",
     "output_type": "stream",
     "text": [
      "Processing files:   9%|████▋                                                  | 90/1044 [03:53<40:05,  2.52s/it]"
     ]
    },
    {
     "name": "stdout",
     "output_type": "stream",
     "text": [
      "Tokenizing...\n"
     ]
    },
    {
     "name": "stderr",
     "output_type": "stream",
     "text": [
      "PTBTokenizer tokenized 61766 tokens at 348242.33 tokens per second.\n",
      "PTBTokenizer tokenized 9169 tokens at 87678.75 tokens per second.\n"
     ]
    },
    {
     "name": "stdout",
     "output_type": "stream",
     "text": [
      "Computing scores...\n",
      "Computing METEOR score...\n",
      "Computing CIDEr score...\n"
     ]
    },
    {
     "name": "stderr",
     "output_type": "stream",
     "text": [
      "Processing files:   9%|████▊                                                  | 91/1044 [03:56<40:03,  2.52s/it]"
     ]
    },
    {
     "name": "stdout",
     "output_type": "stream",
     "text": [
      "Tokenizing...\n"
     ]
    },
    {
     "name": "stderr",
     "output_type": "stream",
     "text": [
      "PTBTokenizer tokenized 61766 tokens at 318727.28 tokens per second.\n",
      "PTBTokenizer tokenized 9239 tokens at 90735.86 tokens per second.\n"
     ]
    },
    {
     "name": "stdout",
     "output_type": "stream",
     "text": [
      "Computing scores...\n",
      "Computing METEOR score...\n",
      "Computing CIDEr score...\n"
     ]
    },
    {
     "name": "stderr",
     "output_type": "stream",
     "text": [
      "Processing files:   9%|████▊                                                  | 92/1044 [03:58<39:59,  2.52s/it]"
     ]
    },
    {
     "name": "stdout",
     "output_type": "stream",
     "text": [
      "Tokenizing...\n"
     ]
    },
    {
     "name": "stderr",
     "output_type": "stream",
     "text": [
      "PTBTokenizer tokenized 61766 tokens at 324659.54 tokens per second.\n",
      "PTBTokenizer tokenized 9242 tokens at 89300.06 tokens per second.\n"
     ]
    },
    {
     "name": "stdout",
     "output_type": "stream",
     "text": [
      "Computing scores...\n",
      "Computing METEOR score...\n",
      "Computing CIDEr score...\n"
     ]
    },
    {
     "name": "stderr",
     "output_type": "stream",
     "text": [
      "Processing files:   9%|████▉                                                  | 93/1044 [04:01<40:11,  2.54s/it]"
     ]
    },
    {
     "name": "stdout",
     "output_type": "stream",
     "text": [
      "Tokenizing...\n"
     ]
    },
    {
     "name": "stderr",
     "output_type": "stream",
     "text": [
      "PTBTokenizer tokenized 61766 tokens at 342430.52 tokens per second.\n",
      "PTBTokenizer tokenized 9235 tokens at 87307.06 tokens per second.\n"
     ]
    },
    {
     "name": "stdout",
     "output_type": "stream",
     "text": [
      "Computing scores...\n",
      "Computing METEOR score...\n",
      "Computing CIDEr score...\n"
     ]
    },
    {
     "name": "stderr",
     "output_type": "stream",
     "text": [
      "Processing files:   9%|████▉                                                  | 94/1044 [04:03<40:36,  2.57s/it]"
     ]
    },
    {
     "name": "stdout",
     "output_type": "stream",
     "text": [
      "Tokenizing...\n"
     ]
    },
    {
     "name": "stderr",
     "output_type": "stream",
     "text": [
      "PTBTokenizer tokenized 61766 tokens at 328346.41 tokens per second.\n",
      "PTBTokenizer tokenized 9229 tokens at 90646.73 tokens per second.\n"
     ]
    },
    {
     "name": "stdout",
     "output_type": "stream",
     "text": [
      "Computing scores...\n",
      "Computing METEOR score...\n",
      "Computing CIDEr score...\n"
     ]
    },
    {
     "name": "stderr",
     "output_type": "stream",
     "text": [
      "Processing files:   9%|█████                                                  | 95/1044 [04:06<39:57,  2.53s/it]"
     ]
    },
    {
     "name": "stdout",
     "output_type": "stream",
     "text": [
      "Tokenizing...\n"
     ]
    },
    {
     "name": "stderr",
     "output_type": "stream",
     "text": [
      "PTBTokenizer tokenized 61766 tokens at 327666.93 tokens per second.\n",
      "Jul 19, 2024 4:24:30 PM edu.stanford.nlp.process.PTBLexer next\n",
      "WARNING: Untokenizable: � (U+FFFD, decimal: 65533)\n",
      "PTBTokenizer tokenized 9329 tokens at 53728.78 tokens per second.\n"
     ]
    },
    {
     "name": "stdout",
     "output_type": "stream",
     "text": [
      "Computing scores...\n",
      "Computing METEOR score...\n",
      "Computing CIDEr score...\n"
     ]
    },
    {
     "name": "stderr",
     "output_type": "stream",
     "text": [
      "Processing files:   9%|█████                                                  | 96/1044 [04:08<39:06,  2.47s/it]"
     ]
    },
    {
     "name": "stdout",
     "output_type": "stream",
     "text": [
      "Tokenizing...\n"
     ]
    },
    {
     "name": "stderr",
     "output_type": "stream",
     "text": [
      "PTBTokenizer tokenized 61766 tokens at 318999.72 tokens per second.\n",
      "PTBTokenizer tokenized 6822 tokens at 65014.70 tokens per second.\n"
     ]
    },
    {
     "name": "stdout",
     "output_type": "stream",
     "text": [
      "Computing scores...\n",
      "Computing METEOR score...\n",
      "Computing CIDEr score...\n"
     ]
    },
    {
     "name": "stderr",
     "output_type": "stream",
     "text": [
      "Processing files:   9%|█████                                                  | 97/1044 [04:10<38:24,  2.43s/it]"
     ]
    },
    {
     "name": "stdout",
     "output_type": "stream",
     "text": [
      "Tokenizing...\n"
     ]
    },
    {
     "name": "stderr",
     "output_type": "stream",
     "text": [
      "PTBTokenizer tokenized 61766 tokens at 331324.91 tokens per second.\n",
      "PTBTokenizer tokenized 9242 tokens at 88182.21 tokens per second.\n"
     ]
    },
    {
     "name": "stdout",
     "output_type": "stream",
     "text": [
      "Computing scores...\n",
      "Computing METEOR score...\n",
      "Computing CIDEr score...\n"
     ]
    },
    {
     "name": "stderr",
     "output_type": "stream",
     "text": [
      "Processing files:   9%|█████▏                                                 | 98/1044 [04:13<39:08,  2.48s/it]"
     ]
    },
    {
     "name": "stdout",
     "output_type": "stream",
     "text": [
      "Tokenizing...\n"
     ]
    },
    {
     "name": "stderr",
     "output_type": "stream",
     "text": [
      "PTBTokenizer tokenized 61766 tokens at 310276.41 tokens per second.\n",
      "PTBTokenizer tokenized 8055 tokens at 76163.21 tokens per second.\n"
     ]
    },
    {
     "name": "stdout",
     "output_type": "stream",
     "text": [
      "Computing scores...\n",
      "Computing METEOR score...\n",
      "Computing CIDEr score...\n"
     ]
    },
    {
     "name": "stderr",
     "output_type": "stream",
     "text": [
      "Processing files:   9%|█████▏                                                 | 99/1044 [04:15<39:18,  2.50s/it]"
     ]
    },
    {
     "name": "stdout",
     "output_type": "stream",
     "text": [
      "Tokenizing...\n"
     ]
    },
    {
     "name": "stderr",
     "output_type": "stream",
     "text": [
      "PTBTokenizer tokenized 61766 tokens at 321698.23 tokens per second.\n",
      "PTBTokenizer tokenized 8458 tokens at 82086.98 tokens per second.\n"
     ]
    },
    {
     "name": "stdout",
     "output_type": "stream",
     "text": [
      "Computing scores...\n",
      "Computing METEOR score...\n",
      "Computing CIDEr score...\n"
     ]
    },
    {
     "name": "stderr",
     "output_type": "stream",
     "text": [
      "Processing files:  10%|█████▏                                                | 100/1044 [04:18<39:06,  2.49s/it]"
     ]
    },
    {
     "name": "stdout",
     "output_type": "stream",
     "text": [
      "Tokenizing...\n"
     ]
    },
    {
     "name": "stderr",
     "output_type": "stream",
     "text": [
      "PTBTokenizer tokenized 61766 tokens at 326122.67 tokens per second.\n",
      "PTBTokenizer tokenized 9246 tokens at 85592.73 tokens per second.\n"
     ]
    },
    {
     "name": "stdout",
     "output_type": "stream",
     "text": [
      "Computing scores...\n",
      "Computing METEOR score...\n",
      "Computing CIDEr score...\n"
     ]
    },
    {
     "name": "stderr",
     "output_type": "stream",
     "text": [
      "Processing files:  10%|█████▏                                                | 101/1044 [04:21<39:33,  2.52s/it]"
     ]
    },
    {
     "name": "stdout",
     "output_type": "stream",
     "text": [
      "Tokenizing...\n"
     ]
    },
    {
     "name": "stderr",
     "output_type": "stream",
     "text": [
      "PTBTokenizer tokenized 61766 tokens at 342397.96 tokens per second.\n",
      "PTBTokenizer tokenized 9151 tokens at 92470.45 tokens per second.\n"
     ]
    },
    {
     "name": "stdout",
     "output_type": "stream",
     "text": [
      "Computing scores...\n",
      "Computing METEOR score...\n",
      "Computing CIDEr score...\n"
     ]
    },
    {
     "name": "stderr",
     "output_type": "stream",
     "text": [
      "Processing files:  10%|█████▎                                                | 102/1044 [04:23<39:19,  2.51s/it]"
     ]
    },
    {
     "name": "stdout",
     "output_type": "stream",
     "text": [
      "Tokenizing...\n"
     ]
    },
    {
     "name": "stderr",
     "output_type": "stream",
     "text": [
      "PTBTokenizer tokenized 61766 tokens at 326019.46 tokens per second.\n",
      "Jul 19, 2024 4:24:47 PM edu.stanford.nlp.process.PTBLexer next\n",
      "WARNING: Untokenizable: � (U+FFFD, decimal: 65533)\n",
      "PTBTokenizer tokenized 10849 tokens at 63366.73 tokens per second.\n"
     ]
    },
    {
     "name": "stdout",
     "output_type": "stream",
     "text": [
      "Computing scores...\n",
      "Computing METEOR score...\n",
      "Computing CIDEr score...\n"
     ]
    },
    {
     "name": "stderr",
     "output_type": "stream",
     "text": [
      "Processing files:  10%|█████▎                                                | 103/1044 [04:26<39:41,  2.53s/it]"
     ]
    },
    {
     "name": "stdout",
     "output_type": "stream",
     "text": [
      "Tokenizing...\n"
     ]
    },
    {
     "name": "stderr",
     "output_type": "stream",
     "text": [
      "PTBTokenizer tokenized 61766 tokens at 337340.06 tokens per second.\n",
      "PTBTokenizer tokenized 9242 tokens at 87726.29 tokens per second.\n"
     ]
    },
    {
     "name": "stdout",
     "output_type": "stream",
     "text": [
      "Computing scores...\n",
      "Computing METEOR score...\n",
      "Computing CIDEr score...\n"
     ]
    },
    {
     "name": "stderr",
     "output_type": "stream",
     "text": [
      "Processing files:  10%|█████▍                                                | 104/1044 [04:28<39:33,  2.52s/it]"
     ]
    },
    {
     "name": "stdout",
     "output_type": "stream",
     "text": [
      "Tokenizing...\n"
     ]
    },
    {
     "name": "stderr",
     "output_type": "stream",
     "text": [
      "PTBTokenizer tokenized 61766 tokens at 342852.34 tokens per second.\n",
      "PTBTokenizer tokenized 9242 tokens at 90079.07 tokens per second.\n"
     ]
    },
    {
     "name": "stdout",
     "output_type": "stream",
     "text": [
      "Computing scores...\n",
      "Computing METEOR score...\n",
      "Computing CIDEr score...\n"
     ]
    },
    {
     "name": "stderr",
     "output_type": "stream",
     "text": [
      "Processing files:  10%|█████▍                                                | 105/1044 [04:31<39:30,  2.52s/it]"
     ]
    },
    {
     "name": "stdout",
     "output_type": "stream",
     "text": [
      "Tokenizing...\n"
     ]
    },
    {
     "name": "stderr",
     "output_type": "stream",
     "text": [
      "PTBTokenizer tokenized 61766 tokens at 349798.25 tokens per second.\n",
      "PTBTokenizer tokenized 9242 tokens at 90430.70 tokens per second.\n"
     ]
    },
    {
     "name": "stdout",
     "output_type": "stream",
     "text": [
      "Computing scores...\n",
      "Computing METEOR score...\n",
      "Computing CIDEr score...\n"
     ]
    },
    {
     "name": "stderr",
     "output_type": "stream",
     "text": [
      "Processing files:  10%|█████▍                                                | 106/1044 [04:33<39:25,  2.52s/it]"
     ]
    },
    {
     "name": "stdout",
     "output_type": "stream",
     "text": [
      "Tokenizing...\n"
     ]
    },
    {
     "name": "stderr",
     "output_type": "stream",
     "text": [
      "PTBTokenizer tokenized 61766 tokens at 333416.78 tokens per second.\n",
      "PTBTokenizer tokenized 7104 tokens at 76046.11 tokens per second.\n"
     ]
    },
    {
     "name": "stdout",
     "output_type": "stream",
     "text": [
      "Computing scores...\n",
      "Computing METEOR score...\n",
      "Computing CIDEr score...\n"
     ]
    },
    {
     "name": "stderr",
     "output_type": "stream",
     "text": [
      "Processing files:  10%|█████▌                                                | 107/1044 [04:36<38:39,  2.48s/it]"
     ]
    },
    {
     "name": "stdout",
     "output_type": "stream",
     "text": [
      "Tokenizing...\n"
     ]
    },
    {
     "name": "stderr",
     "output_type": "stream",
     "text": [
      "PTBTokenizer tokenized 61766 tokens at 328213.52 tokens per second.\n",
      "PTBTokenizer tokenized 9242 tokens at 79826.03 tokens per second.\n"
     ]
    },
    {
     "name": "stdout",
     "output_type": "stream",
     "text": [
      "Computing scores...\n",
      "Computing METEOR score...\n",
      "Computing CIDEr score...\n"
     ]
    },
    {
     "name": "stderr",
     "output_type": "stream",
     "text": [
      "Processing files:  10%|█████▌                                                | 108/1044 [04:38<39:18,  2.52s/it]"
     ]
    },
    {
     "name": "stdout",
     "output_type": "stream",
     "text": [
      "Tokenizing...\n"
     ]
    },
    {
     "name": "stderr",
     "output_type": "stream",
     "text": [
      "PTBTokenizer tokenized 61766 tokens at 331890.67 tokens per second.\n",
      "PTBTokenizer tokenized 9238 tokens at 86186.54 tokens per second.\n"
     ]
    },
    {
     "name": "stdout",
     "output_type": "stream",
     "text": [
      "Computing scores...\n",
      "Computing METEOR score...\n",
      "Computing CIDEr score...\n"
     ]
    },
    {
     "name": "stderr",
     "output_type": "stream",
     "text": [
      "Processing files:  10%|█████▋                                                | 109/1044 [04:41<39:37,  2.54s/it]"
     ]
    },
    {
     "name": "stdout",
     "output_type": "stream",
     "text": [
      "Tokenizing...\n"
     ]
    },
    {
     "name": "stderr",
     "output_type": "stream",
     "text": [
      "PTBTokenizer tokenized 61766 tokens at 331269.46 tokens per second.\n",
      "PTBTokenizer tokenized 11791 tokens at 98692.84 tokens per second.\n"
     ]
    },
    {
     "name": "stdout",
     "output_type": "stream",
     "text": [
      "Computing scores...\n",
      "Computing METEOR score...\n",
      "Computing CIDEr score...\n"
     ]
    },
    {
     "name": "stderr",
     "output_type": "stream",
     "text": [
      "Processing files:  11%|█████▋                                                | 110/1044 [04:43<40:25,  2.60s/it]"
     ]
    },
    {
     "name": "stdout",
     "output_type": "stream",
     "text": [
      "Tokenizing...\n"
     ]
    },
    {
     "name": "stderr",
     "output_type": "stream",
     "text": [
      "PTBTokenizer tokenized 61766 tokens at 331766.60 tokens per second.\n",
      "PTBTokenizer tokenized 9233 tokens at 90164.94 tokens per second.\n"
     ]
    },
    {
     "name": "stdout",
     "output_type": "stream",
     "text": [
      "Computing scores...\n",
      "Computing METEOR score...\n",
      "Computing CIDEr score...\n"
     ]
    },
    {
     "name": "stderr",
     "output_type": "stream",
     "text": [
      "Processing files:  11%|█████▋                                                | 111/1044 [04:46<39:58,  2.57s/it]"
     ]
    },
    {
     "name": "stdout",
     "output_type": "stream",
     "text": [
      "Tokenizing...\n"
     ]
    },
    {
     "name": "stderr",
     "output_type": "stream",
     "text": [
      "PTBTokenizer tokenized 61766 tokens at 325884.57 tokens per second.\n",
      "PTBTokenizer tokenized 8050 tokens at 76863.07 tokens per second.\n"
     ]
    },
    {
     "name": "stdout",
     "output_type": "stream",
     "text": [
      "Computing scores...\n",
      "Computing METEOR score...\n",
      "Computing CIDEr score...\n"
     ]
    },
    {
     "name": "stderr",
     "output_type": "stream",
     "text": [
      "Processing files:  11%|█████▊                                                | 112/1044 [04:48<38:53,  2.50s/it]"
     ]
    },
    {
     "name": "stdout",
     "output_type": "stream",
     "text": [
      "Tokenizing...\n"
     ]
    },
    {
     "name": "stderr",
     "output_type": "stream",
     "text": [
      "PTBTokenizer tokenized 61766 tokens at 328983.72 tokens per second.\n",
      "PTBTokenizer tokenized 8515 tokens at 68837.59 tokens per second.\n"
     ]
    },
    {
     "name": "stdout",
     "output_type": "stream",
     "text": [
      "Computing scores...\n",
      "Computing METEOR score...\n",
      "Computing CIDEr score...\n"
     ]
    },
    {
     "name": "stderr",
     "output_type": "stream",
     "text": [
      "Processing files:  11%|█████▊                                                | 113/1044 [04:51<38:28,  2.48s/it]"
     ]
    },
    {
     "name": "stdout",
     "output_type": "stream",
     "text": [
      "Tokenizing...\n"
     ]
    },
    {
     "name": "stderr",
     "output_type": "stream",
     "text": [
      "PTBTokenizer tokenized 61766 tokens at 326291.15 tokens per second.\n",
      "PTBTokenizer tokenized 9180 tokens at 88868.90 tokens per second.\n"
     ]
    },
    {
     "name": "stdout",
     "output_type": "stream",
     "text": [
      "Computing scores...\n",
      "Computing METEOR score...\n",
      "Computing CIDEr score...\n"
     ]
    },
    {
     "name": "stderr",
     "output_type": "stream",
     "text": [
      "Processing files:  11%|█████▉                                                | 114/1044 [04:53<38:46,  2.50s/it]"
     ]
    },
    {
     "name": "stdout",
     "output_type": "stream",
     "text": [
      "Tokenizing...\n"
     ]
    },
    {
     "name": "stderr",
     "output_type": "stream",
     "text": [
      "PTBTokenizer tokenized 61766 tokens at 334792.36 tokens per second.\n",
      "PTBTokenizer tokenized 9254 tokens at 90864.26 tokens per second.\n"
     ]
    },
    {
     "name": "stdout",
     "output_type": "stream",
     "text": [
      "Computing scores...\n",
      "Computing METEOR score...\n",
      "Computing CIDEr score...\n"
     ]
    },
    {
     "name": "stderr",
     "output_type": "stream",
     "text": [
      "Processing files:  11%|█████▉                                                | 115/1044 [04:56<38:43,  2.50s/it]"
     ]
    },
    {
     "name": "stdout",
     "output_type": "stream",
     "text": [
      "Tokenizing...\n"
     ]
    },
    {
     "name": "stderr",
     "output_type": "stream",
     "text": [
      "PTBTokenizer tokenized 61766 tokens at 313035.16 tokens per second.\n",
      "PTBTokenizer tokenized 11691 tokens at 107711.29 tokens per second.\n"
     ]
    },
    {
     "name": "stdout",
     "output_type": "stream",
     "text": [
      "Computing scores...\n",
      "Computing METEOR score...\n",
      "Computing CIDEr score...\n"
     ]
    },
    {
     "name": "stderr",
     "output_type": "stream",
     "text": [
      "Processing files:  11%|██████                                                | 116/1044 [04:59<39:48,  2.57s/it]"
     ]
    },
    {
     "name": "stdout",
     "output_type": "stream",
     "text": [
      "Tokenizing...\n"
     ]
    },
    {
     "name": "stderr",
     "output_type": "stream",
     "text": [
      "PTBTokenizer tokenized 61766 tokens at 337874.46 tokens per second.\n",
      "PTBTokenizer tokenized 9159 tokens at 75815.78 tokens per second.\n"
     ]
    },
    {
     "name": "stdout",
     "output_type": "stream",
     "text": [
      "Computing scores...\n",
      "Computing METEOR score...\n",
      "Computing CIDEr score...\n"
     ]
    },
    {
     "name": "stderr",
     "output_type": "stream",
     "text": [
      "Processing files:  11%|██████                                                | 117/1044 [05:01<39:40,  2.57s/it]"
     ]
    },
    {
     "name": "stdout",
     "output_type": "stream",
     "text": [
      "Tokenizing...\n"
     ]
    },
    {
     "name": "stderr",
     "output_type": "stream",
     "text": [
      "PTBTokenizer tokenized 61766 tokens at 327309.80 tokens per second.\n",
      "PTBTokenizer tokenized 9143 tokens at 89377.79 tokens per second.\n"
     ]
    },
    {
     "name": "stdout",
     "output_type": "stream",
     "text": [
      "Computing scores...\n",
      "Computing METEOR score...\n",
      "Computing CIDEr score...\n"
     ]
    },
    {
     "name": "stderr",
     "output_type": "stream",
     "text": [
      "Processing files:  11%|██████                                                | 118/1044 [05:04<39:32,  2.56s/it]"
     ]
    },
    {
     "name": "stdout",
     "output_type": "stream",
     "text": [
      "Tokenizing...\n"
     ]
    },
    {
     "name": "stderr",
     "output_type": "stream",
     "text": [
      "PTBTokenizer tokenized 61766 tokens at 342279.59 tokens per second.\n",
      "PTBTokenizer tokenized 9242 tokens at 89847.91 tokens per second.\n"
     ]
    },
    {
     "name": "stdout",
     "output_type": "stream",
     "text": [
      "Computing scores...\n",
      "Computing METEOR score...\n",
      "Computing CIDEr score...\n"
     ]
    },
    {
     "name": "stderr",
     "output_type": "stream",
     "text": [
      "Processing files:  11%|██████▏                                               | 119/1044 [05:06<39:22,  2.55s/it]"
     ]
    },
    {
     "name": "stdout",
     "output_type": "stream",
     "text": [
      "Tokenizing...\n"
     ]
    },
    {
     "name": "stderr",
     "output_type": "stream",
     "text": [
      "PTBTokenizer tokenized 61766 tokens at 344350.39 tokens per second.\n",
      "PTBTokenizer tokenized 9242 tokens at 88728.20 tokens per second.\n"
     ]
    },
    {
     "name": "stdout",
     "output_type": "stream",
     "text": [
      "Computing scores...\n",
      "Computing METEOR score...\n",
      "Computing CIDEr score...\n"
     ]
    },
    {
     "name": "stderr",
     "output_type": "stream",
     "text": [
      "Processing files:  11%|██████▏                                               | 120/1044 [05:09<39:26,  2.56s/it]"
     ]
    },
    {
     "name": "stdout",
     "output_type": "stream",
     "text": [
      "Tokenizing...\n"
     ]
    },
    {
     "name": "stderr",
     "output_type": "stream",
     "text": [
      "PTBTokenizer tokenized 61766 tokens at 319423.38 tokens per second.\n",
      "PTBTokenizer tokenized 9169 tokens at 77870.78 tokens per second.\n"
     ]
    },
    {
     "name": "stdout",
     "output_type": "stream",
     "text": [
      "Computing scores...\n",
      "Computing METEOR score...\n",
      "Computing CIDEr score...\n"
     ]
    },
    {
     "name": "stderr",
     "output_type": "stream",
     "text": [
      "Processing files:  12%|██████▎                                               | 121/1044 [05:11<39:46,  2.59s/it]"
     ]
    },
    {
     "name": "stdout",
     "output_type": "stream",
     "text": [
      "Tokenizing...\n"
     ]
    },
    {
     "name": "stderr",
     "output_type": "stream",
     "text": [
      "PTBTokenizer tokenized 61766 tokens at 328098.62 tokens per second.\n",
      "PTBTokenizer tokenized 9179 tokens at 89367.02 tokens per second.\n"
     ]
    },
    {
     "name": "stdout",
     "output_type": "stream",
     "text": [
      "Computing scores...\n",
      "Computing METEOR score...\n",
      "Computing CIDEr score...\n"
     ]
    },
    {
     "name": "stderr",
     "output_type": "stream",
     "text": [
      "Processing files:  12%|██████▎                                               | 122/1044 [05:14<39:28,  2.57s/it]"
     ]
    },
    {
     "name": "stdout",
     "output_type": "stream",
     "text": [
      "Tokenizing...\n"
     ]
    },
    {
     "name": "stderr",
     "output_type": "stream",
     "text": [
      "PTBTokenizer tokenized 61766 tokens at 337791.05 tokens per second.\n",
      "PTBTokenizer tokenized 8055 tokens at 75845.85 tokens per second.\n"
     ]
    },
    {
     "name": "stdout",
     "output_type": "stream",
     "text": [
      "Computing scores...\n",
      "Computing METEOR score...\n",
      "Computing CIDEr score...\n"
     ]
    },
    {
     "name": "stderr",
     "output_type": "stream",
     "text": [
      "Processing files:  12%|██████▎                                               | 123/1044 [05:16<38:49,  2.53s/it]"
     ]
    },
    {
     "name": "stdout",
     "output_type": "stream",
     "text": [
      "Tokenizing...\n"
     ]
    },
    {
     "name": "stderr",
     "output_type": "stream",
     "text": [
      "PTBTokenizer tokenized 61766 tokens at 343244.27 tokens per second.\n",
      "PTBTokenizer tokenized 9242 tokens at 90098.76 tokens per second.\n"
     ]
    },
    {
     "name": "stdout",
     "output_type": "stream",
     "text": [
      "Computing scores...\n",
      "Computing METEOR score...\n",
      "Computing CIDEr score...\n"
     ]
    },
    {
     "name": "stderr",
     "output_type": "stream",
     "text": [
      "Processing files:  12%|██████▍                                               | 124/1044 [05:19<39:21,  2.57s/it]"
     ]
    },
    {
     "name": "stdout",
     "output_type": "stream",
     "text": [
      "Tokenizing...\n"
     ]
    },
    {
     "name": "stderr",
     "output_type": "stream",
     "text": [
      "PTBTokenizer tokenized 61766 tokens at 329966.62 tokens per second.\n",
      "PTBTokenizer tokenized 9238 tokens at 89851.80 tokens per second.\n"
     ]
    },
    {
     "name": "stdout",
     "output_type": "stream",
     "text": [
      "Computing scores...\n",
      "Computing METEOR score...\n",
      "Computing CIDEr score...\n"
     ]
    },
    {
     "name": "stderr",
     "output_type": "stream",
     "text": [
      "Processing files:  12%|██████▍                                               | 125/1044 [05:21<38:35,  2.52s/it]"
     ]
    },
    {
     "name": "stdout",
     "output_type": "stream",
     "text": [
      "Tokenizing...\n"
     ]
    },
    {
     "name": "stderr",
     "output_type": "stream",
     "text": [
      "PTBTokenizer tokenized 61766 tokens at 320781.31 tokens per second.\n",
      "PTBTokenizer tokenized 9242 tokens at 86050.30 tokens per second.\n"
     ]
    },
    {
     "name": "stdout",
     "output_type": "stream",
     "text": [
      "Computing scores...\n",
      "Computing METEOR score...\n",
      "Computing CIDEr score...\n"
     ]
    },
    {
     "name": "stderr",
     "output_type": "stream",
     "text": [
      "Processing files:  12%|██████▌                                               | 126/1044 [05:24<38:43,  2.53s/it]"
     ]
    },
    {
     "name": "stdout",
     "output_type": "stream",
     "text": [
      "Tokenizing...\n"
     ]
    },
    {
     "name": "stderr",
     "output_type": "stream",
     "text": [
      "PTBTokenizer tokenized 61766 tokens at 325274.99 tokens per second.\n",
      "PTBTokenizer tokenized 9242 tokens at 86390.52 tokens per second.\n"
     ]
    },
    {
     "name": "stdout",
     "output_type": "stream",
     "text": [
      "Computing scores...\n",
      "Computing METEOR score...\n",
      "Computing CIDEr score...\n"
     ]
    },
    {
     "name": "stderr",
     "output_type": "stream",
     "text": [
      "Processing files:  12%|██████▌                                               | 127/1044 [05:27<38:56,  2.55s/it]"
     ]
    },
    {
     "name": "stdout",
     "output_type": "stream",
     "text": [
      "Tokenizing...\n"
     ]
    },
    {
     "name": "stderr",
     "output_type": "stream",
     "text": [
      "PTBTokenizer tokenized 61766 tokens at 331802.26 tokens per second.\n",
      "PTBTokenizer tokenized 8156 tokens at 75576.33 tokens per second.\n"
     ]
    },
    {
     "name": "stdout",
     "output_type": "stream",
     "text": [
      "Computing scores...\n",
      "Computing METEOR score...\n",
      "Computing CIDEr score...\n"
     ]
    },
    {
     "name": "stderr",
     "output_type": "stream",
     "text": [
      "Processing files:  12%|██████▌                                               | 128/1044 [05:29<38:33,  2.53s/it]"
     ]
    },
    {
     "name": "stdout",
     "output_type": "stream",
     "text": [
      "Tokenizing...\n"
     ]
    },
    {
     "name": "stderr",
     "output_type": "stream",
     "text": [
      "PTBTokenizer tokenized 61766 tokens at 345627.92 tokens per second.\n",
      "PTBTokenizer tokenized 9242 tokens at 89317.71 tokens per second.\n"
     ]
    },
    {
     "name": "stdout",
     "output_type": "stream",
     "text": [
      "Computing scores...\n",
      "Computing METEOR score...\n",
      "Computing CIDEr score...\n"
     ]
    },
    {
     "name": "stderr",
     "output_type": "stream",
     "text": [
      "Processing files:  12%|██████▋                                               | 129/1044 [05:32<39:04,  2.56s/it]"
     ]
    },
    {
     "name": "stdout",
     "output_type": "stream",
     "text": [
      "Tokenizing...\n"
     ]
    },
    {
     "name": "stderr",
     "output_type": "stream",
     "text": [
      "PTBTokenizer tokenized 61766 tokens at 339972.76 tokens per second.\n",
      "PTBTokenizer tokenized 7917 tokens at 76864.16 tokens per second.\n"
     ]
    },
    {
     "name": "stdout",
     "output_type": "stream",
     "text": [
      "Computing scores...\n",
      "Computing METEOR score...\n",
      "Computing CIDEr score...\n"
     ]
    },
    {
     "name": "stderr",
     "output_type": "stream",
     "text": [
      "Processing files:  12%|██████▋                                               | 130/1044 [05:34<38:48,  2.55s/it]"
     ]
    },
    {
     "name": "stdout",
     "output_type": "stream",
     "text": [
      "Tokenizing...\n"
     ]
    },
    {
     "name": "stderr",
     "output_type": "stream",
     "text": [
      "PTBTokenizer tokenized 61766 tokens at 336650.70 tokens per second.\n",
      "PTBTokenizer tokenized 9242 tokens at 87738.33 tokens per second.\n"
     ]
    },
    {
     "name": "stdout",
     "output_type": "stream",
     "text": [
      "Computing scores...\n",
      "Computing METEOR score...\n",
      "Computing CIDEr score...\n"
     ]
    },
    {
     "name": "stderr",
     "output_type": "stream",
     "text": [
      "Processing files:  13%|██████▊                                               | 131/1044 [05:37<38:41,  2.54s/it]"
     ]
    },
    {
     "name": "stdout",
     "output_type": "stream",
     "text": [
      "Tokenizing...\n"
     ]
    },
    {
     "name": "stderr",
     "output_type": "stream",
     "text": [
      "PTBTokenizer tokenized 61766 tokens at 301304.91 tokens per second.\n",
      "PTBTokenizer tokenized 9100 tokens at 88812.03 tokens per second.\n"
     ]
    },
    {
     "name": "stdout",
     "output_type": "stream",
     "text": [
      "Computing scores...\n",
      "Computing METEOR score...\n",
      "Computing CIDEr score...\n"
     ]
    },
    {
     "name": "stderr",
     "output_type": "stream",
     "text": [
      "Processing files:  13%|██████▊                                               | 132/1044 [05:39<38:42,  2.55s/it]"
     ]
    },
    {
     "name": "stdout",
     "output_type": "stream",
     "text": [
      "Tokenizing...\n"
     ]
    },
    {
     "name": "stderr",
     "output_type": "stream",
     "text": [
      "PTBTokenizer tokenized 61766 tokens at 322428.48 tokens per second.\n",
      "PTBTokenizer tokenized 8089 tokens at 81731.02 tokens per second.\n"
     ]
    },
    {
     "name": "stdout",
     "output_type": "stream",
     "text": [
      "Computing scores...\n",
      "Computing METEOR score...\n",
      "Computing CIDEr score...\n"
     ]
    },
    {
     "name": "stderr",
     "output_type": "stream",
     "text": [
      "Processing files:  13%|██████▉                                               | 133/1044 [05:42<38:09,  2.51s/it]"
     ]
    },
    {
     "name": "stdout",
     "output_type": "stream",
     "text": [
      "Tokenizing...\n"
     ]
    },
    {
     "name": "stderr",
     "output_type": "stream",
     "text": [
      "PTBTokenizer tokenized 61766 tokens at 337224.51 tokens per second.\n",
      "PTBTokenizer tokenized 9234 tokens at 85470.62 tokens per second.\n"
     ]
    },
    {
     "name": "stdout",
     "output_type": "stream",
     "text": [
      "Computing scores...\n",
      "Computing METEOR score...\n",
      "Computing CIDEr score...\n"
     ]
    },
    {
     "name": "stderr",
     "output_type": "stream",
     "text": [
      "Processing files:  13%|██████▉                                               | 134/1044 [05:44<38:24,  2.53s/it]"
     ]
    },
    {
     "name": "stdout",
     "output_type": "stream",
     "text": [
      "Tokenizing...\n"
     ]
    },
    {
     "name": "stderr",
     "output_type": "stream",
     "text": [
      "PTBTokenizer tokenized 61766 tokens at 343513.33 tokens per second.\n",
      "PTBTokenizer tokenized 9242 tokens at 88912.96 tokens per second.\n"
     ]
    },
    {
     "name": "stdout",
     "output_type": "stream",
     "text": [
      "Computing scores...\n",
      "Computing METEOR score...\n",
      "Computing CIDEr score...\n"
     ]
    },
    {
     "name": "stderr",
     "output_type": "stream",
     "text": [
      "Processing files:  13%|██████▉                                               | 135/1044 [05:47<38:36,  2.55s/it]"
     ]
    },
    {
     "name": "stdout",
     "output_type": "stream",
     "text": [
      "Tokenizing...\n"
     ]
    },
    {
     "name": "stderr",
     "output_type": "stream",
     "text": [
      "PTBTokenizer tokenized 61766 tokens at 365328.78 tokens per second.\n",
      "PTBTokenizer tokenized 7104 tokens at 70699.62 tokens per second.\n"
     ]
    },
    {
     "name": "stdout",
     "output_type": "stream",
     "text": [
      "Computing scores...\n",
      "Computing METEOR score...\n",
      "Computing CIDEr score...\n"
     ]
    },
    {
     "name": "stderr",
     "output_type": "stream",
     "text": [
      "Processing files:  13%|███████                                               | 136/1044 [05:49<37:46,  2.50s/it]"
     ]
    },
    {
     "name": "stdout",
     "output_type": "stream",
     "text": [
      "Tokenizing...\n"
     ]
    },
    {
     "name": "stderr",
     "output_type": "stream",
     "text": [
      "PTBTokenizer tokenized 61766 tokens at 312719.15 tokens per second.\n",
      "Jul 19, 2024 4:26:13 PM edu.stanford.nlp.process.PTBLexer next\n",
      "WARNING: Untokenizable: � (U+FFFD, decimal: 65533)\n",
      "PTBTokenizer tokenized 17504 tokens at 116106.38 tokens per second.\n"
     ]
    },
    {
     "name": "stdout",
     "output_type": "stream",
     "text": [
      "Computing scores...\n",
      "Computing METEOR score...\n",
      "Computing CIDEr score...\n"
     ]
    },
    {
     "name": "stderr",
     "output_type": "stream",
     "text": [
      "Processing files:  13%|███████                                               | 137/1044 [05:52<40:17,  2.66s/it]"
     ]
    },
    {
     "name": "stdout",
     "output_type": "stream",
     "text": [
      "Tokenizing...\n"
     ]
    },
    {
     "name": "stderr",
     "output_type": "stream",
     "text": [
      "PTBTokenizer tokenized 61766 tokens at 348190.95 tokens per second.\n",
      "PTBTokenizer tokenized 9242 tokens at 87189.34 tokens per second.\n"
     ]
    },
    {
     "name": "stdout",
     "output_type": "stream",
     "text": [
      "Computing scores...\n",
      "Computing METEOR score...\n",
      "Computing CIDEr score...\n"
     ]
    },
    {
     "name": "stderr",
     "output_type": "stream",
     "text": [
      "Processing files:  13%|███████▏                                              | 138/1044 [05:55<39:23,  2.61s/it]"
     ]
    },
    {
     "name": "stdout",
     "output_type": "stream",
     "text": [
      "Tokenizing...\n"
     ]
    },
    {
     "name": "stderr",
     "output_type": "stream",
     "text": [
      "PTBTokenizer tokenized 61766 tokens at 336028.77 tokens per second.\n",
      "PTBTokenizer tokenized 9235 tokens at 84685.06 tokens per second.\n"
     ]
    },
    {
     "name": "stdout",
     "output_type": "stream",
     "text": [
      "Computing scores...\n",
      "Computing METEOR score...\n",
      "Computing CIDEr score...\n"
     ]
    },
    {
     "name": "stderr",
     "output_type": "stream",
     "text": [
      "Processing files:  13%|███████▏                                              | 139/1044 [05:57<39:12,  2.60s/it]"
     ]
    },
    {
     "name": "stdout",
     "output_type": "stream",
     "text": [
      "Tokenizing...\n"
     ]
    },
    {
     "name": "stderr",
     "output_type": "stream",
     "text": [
      "PTBTokenizer tokenized 61766 tokens at 330265.10 tokens per second.\n",
      "PTBTokenizer tokenized 9179 tokens at 87258.22 tokens per second.\n"
     ]
    },
    {
     "name": "stdout",
     "output_type": "stream",
     "text": [
      "Computing scores...\n",
      "Computing METEOR score...\n",
      "Computing CIDEr score...\n"
     ]
    },
    {
     "name": "stderr",
     "output_type": "stream",
     "text": [
      "Processing files:  13%|███████▏                                              | 140/1044 [06:00<38:43,  2.57s/it]"
     ]
    },
    {
     "name": "stdout",
     "output_type": "stream",
     "text": [
      "Tokenizing...\n"
     ]
    },
    {
     "name": "stderr",
     "output_type": "stream",
     "text": [
      "PTBTokenizer tokenized 61766 tokens at 305767.30 tokens per second.\n",
      "PTBTokenizer tokenized 9099 tokens at 88747.79 tokens per second.\n"
     ]
    },
    {
     "name": "stdout",
     "output_type": "stream",
     "text": [
      "Computing scores...\n",
      "Computing METEOR score...\n",
      "Computing CIDEr score...\n"
     ]
    },
    {
     "name": "stderr",
     "output_type": "stream",
     "text": [
      "Processing files:  14%|███████▎                                              | 141/1044 [06:03<38:53,  2.58s/it]"
     ]
    },
    {
     "name": "stdout",
     "output_type": "stream",
     "text": [
      "Tokenizing...\n"
     ]
    },
    {
     "name": "stderr",
     "output_type": "stream",
     "text": [
      "PTBTokenizer tokenized 61766 tokens at 332303.43 tokens per second.\n",
      "PTBTokenizer tokenized 8050 tokens at 78149.72 tokens per second.\n"
     ]
    },
    {
     "name": "stdout",
     "output_type": "stream",
     "text": [
      "Computing scores...\n",
      "Computing METEOR score...\n",
      "Computing CIDEr score...\n"
     ]
    },
    {
     "name": "stderr",
     "output_type": "stream",
     "text": [
      "Processing files:  14%|███████▎                                              | 142/1044 [06:05<38:02,  2.53s/it]"
     ]
    },
    {
     "name": "stdout",
     "output_type": "stream",
     "text": [
      "Tokenizing...\n"
     ]
    },
    {
     "name": "stderr",
     "output_type": "stream",
     "text": [
      "PTBTokenizer tokenized 61766 tokens at 329461.59 tokens per second.\n",
      "PTBTokenizer tokenized 9289 tokens at 90531.39 tokens per second.\n"
     ]
    },
    {
     "name": "stdout",
     "output_type": "stream",
     "text": [
      "Computing scores...\n",
      "Computing METEOR score...\n",
      "Computing CIDEr score...\n"
     ]
    },
    {
     "name": "stderr",
     "output_type": "stream",
     "text": [
      "Processing files:  14%|███████▍                                              | 143/1044 [06:08<38:14,  2.55s/it]"
     ]
    },
    {
     "name": "stdout",
     "output_type": "stream",
     "text": [
      "Tokenizing...\n"
     ]
    },
    {
     "name": "stderr",
     "output_type": "stream",
     "text": [
      "PTBTokenizer tokenized 61766 tokens at 340915.34 tokens per second.\n",
      "PTBTokenizer tokenized 9242 tokens at 80252.70 tokens per second.\n"
     ]
    },
    {
     "name": "stdout",
     "output_type": "stream",
     "text": [
      "Computing scores...\n",
      "Computing METEOR score...\n",
      "Computing CIDEr score...\n"
     ]
    },
    {
     "name": "stderr",
     "output_type": "stream",
     "text": [
      "Processing files:  14%|███████▍                                              | 144/1044 [06:10<38:10,  2.54s/it]"
     ]
    },
    {
     "name": "stdout",
     "output_type": "stream",
     "text": [
      "Tokenizing...\n"
     ]
    },
    {
     "name": "stderr",
     "output_type": "stream",
     "text": [
      "PTBTokenizer tokenized 61766 tokens at 338687.02 tokens per second.\n",
      "PTBTokenizer tokenized 8007 tokens at 79142.93 tokens per second.\n"
     ]
    },
    {
     "name": "stdout",
     "output_type": "stream",
     "text": [
      "Computing scores...\n",
      "Computing METEOR score...\n",
      "Computing CIDEr score...\n"
     ]
    },
    {
     "name": "stderr",
     "output_type": "stream",
     "text": [
      "Processing files:  14%|███████▌                                              | 145/1044 [06:12<37:39,  2.51s/it]"
     ]
    },
    {
     "name": "stdout",
     "output_type": "stream",
     "text": [
      "Tokenizing...\n"
     ]
    },
    {
     "name": "stderr",
     "output_type": "stream",
     "text": [
      "PTBTokenizer tokenized 61766 tokens at 340052.78 tokens per second.\n",
      "PTBTokenizer tokenized 9242 tokens at 90454.90 tokens per second.\n"
     ]
    },
    {
     "name": "stdout",
     "output_type": "stream",
     "text": [
      "Computing scores...\n",
      "Computing METEOR score...\n",
      "Computing CIDEr score...\n"
     ]
    },
    {
     "name": "stderr",
     "output_type": "stream",
     "text": [
      "Processing files:  14%|███████▌                                              | 146/1044 [06:15<38:03,  2.54s/it]"
     ]
    },
    {
     "name": "stdout",
     "output_type": "stream",
     "text": [
      "Tokenizing...\n"
     ]
    },
    {
     "name": "stderr",
     "output_type": "stream",
     "text": [
      "PTBTokenizer tokenized 61766 tokens at 331226.99 tokens per second.\n",
      "PTBTokenizer tokenized 9244 tokens at 90539.06 tokens per second.\n"
     ]
    },
    {
     "name": "stdout",
     "output_type": "stream",
     "text": [
      "Computing scores...\n",
      "Computing METEOR score...\n",
      "Computing CIDEr score...\n"
     ]
    },
    {
     "name": "stderr",
     "output_type": "stream",
     "text": [
      "Processing files:  14%|███████▌                                              | 147/1044 [06:18<38:09,  2.55s/it]"
     ]
    },
    {
     "name": "stdout",
     "output_type": "stream",
     "text": [
      "Tokenizing...\n"
     ]
    },
    {
     "name": "stderr",
     "output_type": "stream",
     "text": [
      "PTBTokenizer tokenized 61766 tokens at 330497.17 tokens per second.\n",
      "PTBTokenizer tokenized 9243 tokens at 82604.74 tokens per second.\n"
     ]
    },
    {
     "name": "stdout",
     "output_type": "stream",
     "text": [
      "Computing scores...\n",
      "Computing METEOR score...\n",
      "Computing CIDEr score...\n"
     ]
    },
    {
     "name": "stderr",
     "output_type": "stream",
     "text": [
      "Processing files:  14%|███████▋                                              | 148/1044 [06:20<38:02,  2.55s/it]"
     ]
    },
    {
     "name": "stdout",
     "output_type": "stream",
     "text": [
      "Tokenizing...\n"
     ]
    },
    {
     "name": "stderr",
     "output_type": "stream",
     "text": [
      "PTBTokenizer tokenized 61766 tokens at 332505.15 tokens per second.\n",
      "PTBTokenizer tokenized 6805 tokens at 66340.84 tokens per second.\n"
     ]
    },
    {
     "name": "stdout",
     "output_type": "stream",
     "text": [
      "Computing scores...\n",
      "Computing METEOR score...\n",
      "Computing CIDEr score...\n"
     ]
    },
    {
     "name": "stderr",
     "output_type": "stream",
     "text": [
      "Processing files:  14%|███████▋                                              | 149/1044 [06:22<36:40,  2.46s/it]"
     ]
    },
    {
     "name": "stdout",
     "output_type": "stream",
     "text": [
      "Tokenizing...\n"
     ]
    },
    {
     "name": "stderr",
     "output_type": "stream",
     "text": [
      "PTBTokenizer tokenized 61766 tokens at 354436.03 tokens per second.\n",
      "PTBTokenizer tokenized 9242 tokens at 90417.67 tokens per second.\n"
     ]
    },
    {
     "name": "stdout",
     "output_type": "stream",
     "text": [
      "Computing scores...\n",
      "Computing METEOR score...\n",
      "Computing CIDEr score...\n"
     ]
    },
    {
     "name": "stderr",
     "output_type": "stream",
     "text": [
      "Processing files:  14%|███████▊                                              | 150/1044 [06:25<37:20,  2.51s/it]"
     ]
    },
    {
     "name": "stdout",
     "output_type": "stream",
     "text": [
      "Tokenizing...\n"
     ]
    },
    {
     "name": "stderr",
     "output_type": "stream",
     "text": [
      "PTBTokenizer tokenized 61766 tokens at 336374.21 tokens per second.\n",
      "PTBTokenizer tokenized 9242 tokens at 88468.61 tokens per second.\n"
     ]
    },
    {
     "name": "stdout",
     "output_type": "stream",
     "text": [
      "Computing scores...\n",
      "Computing METEOR score...\n",
      "Computing CIDEr score...\n"
     ]
    },
    {
     "name": "stderr",
     "output_type": "stream",
     "text": [
      "Processing files:  14%|███████▊                                              | 151/1044 [06:28<37:39,  2.53s/it]"
     ]
    },
    {
     "name": "stdout",
     "output_type": "stream",
     "text": [
      "Tokenizing...\n"
     ]
    },
    {
     "name": "stderr",
     "output_type": "stream",
     "text": [
      "PTBTokenizer tokenized 61766 tokens at 317368.63 tokens per second.\n",
      "PTBTokenizer tokenized 8038 tokens at 79150.85 tokens per second.\n"
     ]
    },
    {
     "name": "stdout",
     "output_type": "stream",
     "text": [
      "Computing scores...\n",
      "Computing METEOR score...\n",
      "Computing CIDEr score...\n"
     ]
    },
    {
     "name": "stderr",
     "output_type": "stream",
     "text": [
      "Processing files:  15%|███████▊                                              | 152/1044 [06:30<37:42,  2.54s/it]"
     ]
    },
    {
     "name": "stdout",
     "output_type": "stream",
     "text": [
      "Tokenizing...\n"
     ]
    },
    {
     "name": "stderr",
     "output_type": "stream",
     "text": [
      "PTBTokenizer tokenized 61766 tokens at 332103.00 tokens per second.\n",
      "PTBTokenizer tokenized 9204 tokens at 91160.48 tokens per second.\n"
     ]
    },
    {
     "name": "stdout",
     "output_type": "stream",
     "text": [
      "Computing scores...\n",
      "Computing METEOR score...\n",
      "Computing CIDEr score...\n"
     ]
    },
    {
     "name": "stderr",
     "output_type": "stream",
     "text": [
      "Processing files:  15%|███████▉                                              | 153/1044 [06:33<37:42,  2.54s/it]"
     ]
    },
    {
     "name": "stdout",
     "output_type": "stream",
     "text": [
      "Tokenizing...\n"
     ]
    },
    {
     "name": "stderr",
     "output_type": "stream",
     "text": [
      "PTBTokenizer tokenized 61766 tokens at 285303.34 tokens per second.\n",
      "PTBTokenizer tokenized 6660 tokens at 68265.26 tokens per second.\n"
     ]
    },
    {
     "name": "stdout",
     "output_type": "stream",
     "text": [
      "Computing scores...\n",
      "Computing METEOR score...\n",
      "Computing CIDEr score...\n"
     ]
    },
    {
     "name": "stderr",
     "output_type": "stream",
     "text": [
      "Processing files:  15%|███████▉                                              | 154/1044 [06:35<37:47,  2.55s/it]"
     ]
    },
    {
     "name": "stdout",
     "output_type": "stream",
     "text": [
      "Tokenizing...\n"
     ]
    },
    {
     "name": "stderr",
     "output_type": "stream",
     "text": [
      "PTBTokenizer tokenized 61766 tokens at 307694.91 tokens per second.\n",
      "PTBTokenizer tokenized 9238 tokens at 88107.62 tokens per second.\n"
     ]
    },
    {
     "name": "stdout",
     "output_type": "stream",
     "text": [
      "Computing scores...\n",
      "Computing METEOR score...\n",
      "Computing CIDEr score...\n"
     ]
    },
    {
     "name": "stderr",
     "output_type": "stream",
     "text": [
      "Processing files:  15%|████████                                              | 155/1044 [06:38<37:39,  2.54s/it]"
     ]
    },
    {
     "name": "stdout",
     "output_type": "stream",
     "text": [
      "Tokenizing...\n"
     ]
    },
    {
     "name": "stderr",
     "output_type": "stream",
     "text": [
      "PTBTokenizer tokenized 61766 tokens at 351300.04 tokens per second.\n",
      "PTBTokenizer tokenized 8089 tokens at 81986.46 tokens per second.\n"
     ]
    },
    {
     "name": "stdout",
     "output_type": "stream",
     "text": [
      "Computing scores...\n",
      "Computing METEOR score...\n",
      "Computing CIDEr score...\n"
     ]
    },
    {
     "name": "stderr",
     "output_type": "stream",
     "text": [
      "Processing files:  15%|████████                                              | 156/1044 [06:40<36:52,  2.49s/it]"
     ]
    },
    {
     "name": "stdout",
     "output_type": "stream",
     "text": [
      "Tokenizing...\n"
     ]
    },
    {
     "name": "stderr",
     "output_type": "stream",
     "text": [
      "PTBTokenizer tokenized 61766 tokens at 332675.53 tokens per second.\n",
      "PTBTokenizer tokenized 9096 tokens at 87016.61 tokens per second.\n"
     ]
    },
    {
     "name": "stdout",
     "output_type": "stream",
     "text": [
      "Computing scores...\n",
      "Computing METEOR score...\n",
      "Computing CIDEr score...\n"
     ]
    },
    {
     "name": "stderr",
     "output_type": "stream",
     "text": [
      "Processing files:  15%|████████                                              | 157/1044 [06:43<37:02,  2.51s/it]"
     ]
    },
    {
     "name": "stdout",
     "output_type": "stream",
     "text": [
      "Tokenizing...\n"
     ]
    },
    {
     "name": "stderr",
     "output_type": "stream",
     "text": [
      "PTBTokenizer tokenized 61766 tokens at 342662.72 tokens per second.\n",
      "PTBTokenizer tokenized 9251 tokens at 89497.65 tokens per second.\n"
     ]
    },
    {
     "name": "stdout",
     "output_type": "stream",
     "text": [
      "Computing scores...\n",
      "Computing METEOR score...\n",
      "Computing CIDEr score...\n"
     ]
    },
    {
     "name": "stderr",
     "output_type": "stream",
     "text": [
      "Processing files:  15%|████████▏                                             | 158/1044 [06:45<37:24,  2.53s/it]"
     ]
    },
    {
     "name": "stdout",
     "output_type": "stream",
     "text": [
      "Tokenizing...\n"
     ]
    },
    {
     "name": "stderr",
     "output_type": "stream",
     "text": [
      "PTBTokenizer tokenized 61766 tokens at 336158.28 tokens per second.\n",
      "PTBTokenizer tokenized 9242 tokens at 88745.25 tokens per second.\n"
     ]
    },
    {
     "name": "stdout",
     "output_type": "stream",
     "text": [
      "Computing scores...\n",
      "Computing METEOR score...\n",
      "Computing CIDEr score...\n"
     ]
    },
    {
     "name": "stderr",
     "output_type": "stream",
     "text": [
      "Processing files:  15%|████████▏                                             | 159/1044 [06:48<37:17,  2.53s/it]"
     ]
    },
    {
     "name": "stdout",
     "output_type": "stream",
     "text": [
      "Tokenizing...\n"
     ]
    },
    {
     "name": "stderr",
     "output_type": "stream",
     "text": [
      "PTBTokenizer tokenized 61766 tokens at 321932.62 tokens per second.\n",
      "PTBTokenizer tokenized 9242 tokens at 91302.88 tokens per second.\n"
     ]
    },
    {
     "name": "stdout",
     "output_type": "stream",
     "text": [
      "Computing scores...\n",
      "Computing METEOR score...\n",
      "Computing CIDEr score...\n"
     ]
    },
    {
     "name": "stderr",
     "output_type": "stream",
     "text": [
      "Processing files:  15%|████████▎                                             | 160/1044 [06:50<37:05,  2.52s/it]"
     ]
    },
    {
     "name": "stdout",
     "output_type": "stream",
     "text": [
      "Tokenizing...\n"
     ]
    },
    {
     "name": "stderr",
     "output_type": "stream",
     "text": [
      "PTBTokenizer tokenized 61766 tokens at 350080.88 tokens per second.\n",
      "PTBTokenizer tokenized 9233 tokens at 90601.32 tokens per second.\n"
     ]
    },
    {
     "name": "stdout",
     "output_type": "stream",
     "text": [
      "Computing scores...\n",
      "Computing METEOR score...\n",
      "Computing CIDEr score...\n"
     ]
    },
    {
     "name": "stderr",
     "output_type": "stream",
     "text": [
      "Processing files:  15%|████████▎                                             | 161/1044 [06:53<37:19,  2.54s/it]"
     ]
    },
    {
     "name": "stdout",
     "output_type": "stream",
     "text": [
      "Tokenizing...\n"
     ]
    },
    {
     "name": "stderr",
     "output_type": "stream",
     "text": [
      "PTBTokenizer tokenized 61766 tokens at 322224.51 tokens per second.\n",
      "PTBTokenizer tokenized 9169 tokens at 89998.48 tokens per second.\n"
     ]
    },
    {
     "name": "stdout",
     "output_type": "stream",
     "text": [
      "Computing scores...\n",
      "Computing METEOR score...\n",
      "Computing CIDEr score...\n"
     ]
    },
    {
     "name": "stderr",
     "output_type": "stream",
     "text": [
      "Processing files:  16%|████████▍                                             | 162/1044 [06:56<37:21,  2.54s/it]"
     ]
    },
    {
     "name": "stdout",
     "output_type": "stream",
     "text": [
      "Tokenizing...\n"
     ]
    },
    {
     "name": "stderr",
     "output_type": "stream",
     "text": [
      "PTBTokenizer tokenized 61766 tokens at 319505.08 tokens per second.\n",
      "PTBTokenizer tokenized 9242 tokens at 89218.87 tokens per second.\n"
     ]
    },
    {
     "name": "stdout",
     "output_type": "stream",
     "text": [
      "Computing scores...\n",
      "Computing METEOR score...\n",
      "Computing CIDEr score...\n"
     ]
    },
    {
     "name": "stderr",
     "output_type": "stream",
     "text": [
      "Processing files:  16%|████████▍                                             | 163/1044 [06:58<37:33,  2.56s/it]"
     ]
    },
    {
     "name": "stdout",
     "output_type": "stream",
     "text": [
      "Tokenizing...\n"
     ]
    },
    {
     "name": "stderr",
     "output_type": "stream",
     "text": [
      "PTBTokenizer tokenized 61766 tokens at 318359.60 tokens per second.\n",
      "PTBTokenizer tokenized 9242 tokens at 88086.49 tokens per second.\n"
     ]
    },
    {
     "name": "stdout",
     "output_type": "stream",
     "text": [
      "Computing scores...\n",
      "Computing METEOR score...\n",
      "Computing CIDEr score...\n"
     ]
    },
    {
     "name": "stderr",
     "output_type": "stream",
     "text": [
      "Processing files:  16%|████████▍                                             | 164/1044 [07:01<37:41,  2.57s/it]"
     ]
    },
    {
     "name": "stdout",
     "output_type": "stream",
     "text": [
      "Tokenizing...\n"
     ]
    },
    {
     "name": "stderr",
     "output_type": "stream",
     "text": [
      "PTBTokenizer tokenized 61766 tokens at 328341.37 tokens per second.\n",
      "PTBTokenizer tokenized 9242 tokens at 81996.32 tokens per second.\n"
     ]
    },
    {
     "name": "stdout",
     "output_type": "stream",
     "text": [
      "Computing scores...\n",
      "Computing METEOR score...\n",
      "Computing CIDEr score...\n"
     ]
    },
    {
     "name": "stderr",
     "output_type": "stream",
     "text": [
      "Processing files:  16%|████████▌                                             | 165/1044 [07:03<37:24,  2.55s/it]"
     ]
    },
    {
     "name": "stdout",
     "output_type": "stream",
     "text": [
      "Tokenizing...\n"
     ]
    },
    {
     "name": "stderr",
     "output_type": "stream",
     "text": [
      "PTBTokenizer tokenized 61766 tokens at 319430.87 tokens per second.\n",
      "PTBTokenizer tokenized 9169 tokens at 89095.77 tokens per second.\n"
     ]
    },
    {
     "name": "stdout",
     "output_type": "stream",
     "text": [
      "Computing scores...\n",
      "Computing METEOR score...\n",
      "Computing CIDEr score...\n"
     ]
    },
    {
     "name": "stderr",
     "output_type": "stream",
     "text": [
      "Processing files:  16%|████████▌                                             | 166/1044 [07:06<37:32,  2.57s/it]"
     ]
    },
    {
     "name": "stdout",
     "output_type": "stream",
     "text": [
      "Tokenizing...\n"
     ]
    },
    {
     "name": "stderr",
     "output_type": "stream",
     "text": [
      "PTBTokenizer tokenized 61766 tokens at 299922.24 tokens per second.\n",
      "PTBTokenizer tokenized 9202 tokens at 89665.64 tokens per second.\n"
     ]
    },
    {
     "name": "stdout",
     "output_type": "stream",
     "text": [
      "Computing scores...\n",
      "Computing METEOR score...\n",
      "Computing CIDEr score...\n"
     ]
    },
    {
     "name": "stderr",
     "output_type": "stream",
     "text": [
      "Processing files:  16%|████████▋                                             | 167/1044 [07:08<37:51,  2.59s/it]"
     ]
    },
    {
     "name": "stdout",
     "output_type": "stream",
     "text": [
      "Tokenizing...\n"
     ]
    },
    {
     "name": "stderr",
     "output_type": "stream",
     "text": [
      "PTBTokenizer tokenized 61766 tokens at 331377.28 tokens per second.\n",
      "PTBTokenizer tokenized 7761 tokens at 72833.00 tokens per second.\n"
     ]
    },
    {
     "name": "stdout",
     "output_type": "stream",
     "text": [
      "Computing scores...\n",
      "Computing METEOR score...\n",
      "Computing CIDEr score...\n"
     ]
    },
    {
     "name": "stderr",
     "output_type": "stream",
     "text": [
      "Processing files:  16%|████████▋                                             | 168/1044 [07:11<37:06,  2.54s/it]"
     ]
    },
    {
     "name": "stdout",
     "output_type": "stream",
     "text": [
      "Tokenizing...\n"
     ]
    },
    {
     "name": "stderr",
     "output_type": "stream",
     "text": [
      "PTBTokenizer tokenized 61766 tokens at 321321.66 tokens per second.\n",
      "PTBTokenizer tokenized 9235 tokens at 92133.47 tokens per second.\n"
     ]
    },
    {
     "name": "stdout",
     "output_type": "stream",
     "text": [
      "Computing scores...\n",
      "Computing METEOR score...\n",
      "Computing CIDEr score...\n"
     ]
    },
    {
     "name": "stderr",
     "output_type": "stream",
     "text": [
      "Processing files:  16%|████████▋                                             | 169/1044 [07:13<37:02,  2.54s/it]"
     ]
    },
    {
     "name": "stdout",
     "output_type": "stream",
     "text": [
      "Tokenizing...\n"
     ]
    },
    {
     "name": "stderr",
     "output_type": "stream",
     "text": [
      "PTBTokenizer tokenized 61766 tokens at 282721.54 tokens per second.\n",
      "PTBTokenizer tokenized 9241 tokens at 91080.72 tokens per second.\n"
     ]
    },
    {
     "name": "stdout",
     "output_type": "stream",
     "text": [
      "Computing scores...\n",
      "Computing METEOR score...\n",
      "Computing CIDEr score...\n"
     ]
    },
    {
     "name": "stderr",
     "output_type": "stream",
     "text": [
      "Processing files:  16%|████████▊                                             | 170/1044 [07:16<37:25,  2.57s/it]"
     ]
    },
    {
     "name": "stdout",
     "output_type": "stream",
     "text": [
      "Tokenizing...\n"
     ]
    },
    {
     "name": "stderr",
     "output_type": "stream",
     "text": [
      "PTBTokenizer tokenized 61766 tokens at 344263.26 tokens per second.\n",
      "PTBTokenizer tokenized 9239 tokens at 88750.24 tokens per second.\n"
     ]
    },
    {
     "name": "stdout",
     "output_type": "stream",
     "text": [
      "Computing scores...\n",
      "Computing METEOR score...\n",
      "Computing CIDEr score...\n"
     ]
    },
    {
     "name": "stderr",
     "output_type": "stream",
     "text": [
      "Processing files:  16%|████████▊                                             | 171/1044 [07:19<37:55,  2.61s/it]"
     ]
    },
    {
     "name": "stdout",
     "output_type": "stream",
     "text": [
      "Tokenizing...\n"
     ]
    },
    {
     "name": "stderr",
     "output_type": "stream",
     "text": [
      "PTBTokenizer tokenized 61766 tokens at 327167.29 tokens per second.\n",
      "PTBTokenizer tokenized 9242 tokens at 89235.11 tokens per second.\n"
     ]
    },
    {
     "name": "stdout",
     "output_type": "stream",
     "text": [
      "Computing scores...\n",
      "Computing METEOR score...\n",
      "Computing CIDEr score...\n"
     ]
    },
    {
     "name": "stderr",
     "output_type": "stream",
     "text": [
      "Processing files:  16%|████████▉                                             | 172/1044 [07:21<37:33,  2.58s/it]"
     ]
    },
    {
     "name": "stdout",
     "output_type": "stream",
     "text": [
      "Tokenizing...\n"
     ]
    },
    {
     "name": "stderr",
     "output_type": "stream",
     "text": [
      "PTBTokenizer tokenized 61766 tokens at 322572.66 tokens per second.\n",
      "PTBTokenizer tokenized 9079 tokens at 84808.61 tokens per second.\n"
     ]
    },
    {
     "name": "stdout",
     "output_type": "stream",
     "text": [
      "Computing scores...\n",
      "Computing METEOR score...\n",
      "Computing CIDEr score...\n"
     ]
    },
    {
     "name": "stderr",
     "output_type": "stream",
     "text": [
      "Processing files:  17%|████████▉                                             | 173/1044 [07:24<37:02,  2.55s/it]"
     ]
    },
    {
     "name": "stdout",
     "output_type": "stream",
     "text": [
      "Tokenizing...\n"
     ]
    },
    {
     "name": "stderr",
     "output_type": "stream",
     "text": [
      "PTBTokenizer tokenized 61766 tokens at 343883.12 tokens per second.\n",
      "PTBTokenizer tokenized 8555 tokens at 79891.63 tokens per second.\n"
     ]
    },
    {
     "name": "stdout",
     "output_type": "stream",
     "text": [
      "Computing scores...\n",
      "Computing METEOR score...\n",
      "Computing CIDEr score...\n"
     ]
    },
    {
     "name": "stderr",
     "output_type": "stream",
     "text": [
      "Processing files:  17%|█████████                                             | 174/1044 [07:26<36:37,  2.53s/it]"
     ]
    },
    {
     "name": "stdout",
     "output_type": "stream",
     "text": [
      "Tokenizing...\n"
     ]
    },
    {
     "name": "stderr",
     "output_type": "stream",
     "text": [
      "PTBTokenizer tokenized 61766 tokens at 324039.92 tokens per second.\n",
      "PTBTokenizer tokenized 10521 tokens at 97095.00 tokens per second.\n"
     ]
    },
    {
     "name": "stdout",
     "output_type": "stream",
     "text": [
      "Computing scores...\n",
      "Computing METEOR score...\n",
      "Computing CIDEr score...\n"
     ]
    },
    {
     "name": "stderr",
     "output_type": "stream",
     "text": [
      "Processing files:  17%|█████████                                             | 175/1044 [07:29<36:59,  2.55s/it]"
     ]
    },
    {
     "name": "stdout",
     "output_type": "stream",
     "text": [
      "Tokenizing...\n"
     ]
    },
    {
     "name": "stderr",
     "output_type": "stream",
     "text": [
      "PTBTokenizer tokenized 61766 tokens at 334524.34 tokens per second.\n",
      "PTBTokenizer tokenized 8050 tokens at 83851.93 tokens per second.\n"
     ]
    },
    {
     "name": "stdout",
     "output_type": "stream",
     "text": [
      "Computing scores...\n",
      "Computing METEOR score...\n",
      "Computing CIDEr score...\n"
     ]
    },
    {
     "name": "stderr",
     "output_type": "stream",
     "text": [
      "Processing files:  17%|█████████                                             | 176/1044 [07:31<36:33,  2.53s/it]"
     ]
    },
    {
     "name": "stdout",
     "output_type": "stream",
     "text": [
      "Tokenizing...\n"
     ]
    },
    {
     "name": "stderr",
     "output_type": "stream",
     "text": [
      "PTBTokenizer tokenized 61766 tokens at 334526.60 tokens per second.\n",
      "PTBTokenizer tokenized 9238 tokens at 91665.68 tokens per second.\n"
     ]
    },
    {
     "name": "stdout",
     "output_type": "stream",
     "text": [
      "Computing scores...\n",
      "Computing METEOR score...\n",
      "Computing CIDEr score...\n"
     ]
    },
    {
     "name": "stderr",
     "output_type": "stream",
     "text": [
      "Processing files:  17%|█████████▏                                            | 177/1044 [07:34<36:21,  2.52s/it]"
     ]
    },
    {
     "name": "stdout",
     "output_type": "stream",
     "text": [
      "Tokenizing...\n"
     ]
    },
    {
     "name": "stderr",
     "output_type": "stream",
     "text": [
      "PTBTokenizer tokenized 61766 tokens at 329891.42 tokens per second.\n",
      "PTBTokenizer tokenized 8087 tokens at 83380.60 tokens per second.\n"
     ]
    },
    {
     "name": "stdout",
     "output_type": "stream",
     "text": [
      "Computing scores...\n",
      "Computing METEOR score...\n",
      "Computing CIDEr score...\n"
     ]
    },
    {
     "name": "stderr",
     "output_type": "stream",
     "text": [
      "Processing files:  17%|█████████▏                                            | 178/1044 [07:36<35:57,  2.49s/it]"
     ]
    },
    {
     "name": "stdout",
     "output_type": "stream",
     "text": [
      "Tokenizing...\n"
     ]
    },
    {
     "name": "stderr",
     "output_type": "stream",
     "text": [
      "PTBTokenizer tokenized 61766 tokens at 352278.54 tokens per second.\n",
      "PTBTokenizer tokenized 9119 tokens at 84994.46 tokens per second.\n"
     ]
    },
    {
     "name": "stdout",
     "output_type": "stream",
     "text": [
      "Computing scores...\n",
      "Computing METEOR score...\n",
      "Computing CIDEr score...\n"
     ]
    },
    {
     "name": "stderr",
     "output_type": "stream",
     "text": [
      "Processing files:  17%|█████████▎                                            | 179/1044 [07:39<35:58,  2.49s/it]"
     ]
    },
    {
     "name": "stdout",
     "output_type": "stream",
     "text": [
      "Tokenizing...\n"
     ]
    },
    {
     "name": "stderr",
     "output_type": "stream",
     "text": [
      "PTBTokenizer tokenized 61766 tokens at 333602.28 tokens per second.\n",
      "PTBTokenizer tokenized 9276 tokens at 90937.44 tokens per second.\n"
     ]
    },
    {
     "name": "stdout",
     "output_type": "stream",
     "text": [
      "Computing scores...\n",
      "Computing METEOR score...\n",
      "Computing CIDEr score...\n"
     ]
    },
    {
     "name": "stderr",
     "output_type": "stream",
     "text": [
      "Processing files:  17%|█████████▎                                            | 180/1044 [07:41<36:07,  2.51s/it]"
     ]
    },
    {
     "name": "stdout",
     "output_type": "stream",
     "text": [
      "Tokenizing...\n"
     ]
    },
    {
     "name": "stderr",
     "output_type": "stream",
     "text": [
      "PTBTokenizer tokenized 61766 tokens at 333809.63 tokens per second.\n",
      "PTBTokenizer tokenized 9291 tokens at 89585.25 tokens per second.\n"
     ]
    },
    {
     "name": "stdout",
     "output_type": "stream",
     "text": [
      "Computing scores...\n",
      "Computing METEOR score...\n",
      "Computing CIDEr score...\n"
     ]
    },
    {
     "name": "stderr",
     "output_type": "stream",
     "text": [
      "Processing files:  17%|█████████▎                                            | 181/1044 [07:44<36:17,  2.52s/it]"
     ]
    },
    {
     "name": "stdout",
     "output_type": "stream",
     "text": [
      "Tokenizing...\n"
     ]
    },
    {
     "name": "stderr",
     "output_type": "stream",
     "text": [
      "PTBTokenizer tokenized 61766 tokens at 334784.29 tokens per second.\n",
      "PTBTokenizer tokenized 9151 tokens at 78253.97 tokens per second.\n"
     ]
    },
    {
     "name": "stdout",
     "output_type": "stream",
     "text": [
      "Computing scores...\n",
      "Computing METEOR score...\n",
      "Computing CIDEr score...\n"
     ]
    },
    {
     "name": "stderr",
     "output_type": "stream",
     "text": [
      "Processing files:  17%|█████████▍                                            | 182/1044 [07:46<36:29,  2.54s/it]"
     ]
    },
    {
     "name": "stdout",
     "output_type": "stream",
     "text": [
      "Tokenizing...\n"
     ]
    },
    {
     "name": "stderr",
     "output_type": "stream",
     "text": [
      "PTBTokenizer tokenized 61766 tokens at 325140.92 tokens per second.\n",
      "PTBTokenizer tokenized 8500 tokens at 79633.87 tokens per second.\n"
     ]
    },
    {
     "name": "stdout",
     "output_type": "stream",
     "text": [
      "Computing scores...\n",
      "Computing METEOR score...\n",
      "Computing CIDEr score...\n"
     ]
    },
    {
     "name": "stderr",
     "output_type": "stream",
     "text": [
      "Processing files:  18%|█████████▍                                            | 183/1044 [07:49<36:31,  2.55s/it]"
     ]
    },
    {
     "name": "stdout",
     "output_type": "stream",
     "text": [
      "Tokenizing...\n"
     ]
    },
    {
     "name": "stderr",
     "output_type": "stream",
     "text": [
      "PTBTokenizer tokenized 61766 tokens at 318835.05 tokens per second.\n",
      "PTBTokenizer tokenized 9243 tokens at 88894.53 tokens per second.\n"
     ]
    },
    {
     "name": "stdout",
     "output_type": "stream",
     "text": [
      "Computing scores...\n",
      "Computing METEOR score...\n",
      "Computing CIDEr score...\n"
     ]
    },
    {
     "name": "stderr",
     "output_type": "stream",
     "text": [
      "Processing files:  18%|█████████▌                                            | 184/1044 [07:52<36:55,  2.58s/it]"
     ]
    },
    {
     "name": "stdout",
     "output_type": "stream",
     "text": [
      "Tokenizing...\n"
     ]
    },
    {
     "name": "stderr",
     "output_type": "stream",
     "text": [
      "PTBTokenizer tokenized 61766 tokens at 335015.68 tokens per second.\n",
      "PTBTokenizer tokenized 7968 tokens at 73180.93 tokens per second.\n"
     ]
    },
    {
     "name": "stdout",
     "output_type": "stream",
     "text": [
      "Computing scores...\n",
      "Computing METEOR score...\n",
      "Computing CIDEr score...\n"
     ]
    },
    {
     "name": "stderr",
     "output_type": "stream",
     "text": [
      "Processing files:  18%|█████████▌                                            | 185/1044 [07:54<36:14,  2.53s/it]"
     ]
    },
    {
     "name": "stdout",
     "output_type": "stream",
     "text": [
      "Tokenizing...\n"
     ]
    },
    {
     "name": "stderr",
     "output_type": "stream",
     "text": [
      "PTBTokenizer tokenized 61766 tokens at 332335.14 tokens per second.\n",
      "PTBTokenizer tokenized 7738 tokens at 72498.50 tokens per second.\n"
     ]
    },
    {
     "name": "stdout",
     "output_type": "stream",
     "text": [
      "Computing scores...\n",
      "Computing METEOR score...\n",
      "Computing CIDEr score...\n"
     ]
    },
    {
     "name": "stderr",
     "output_type": "stream",
     "text": [
      "Processing files:  18%|█████████▌                                            | 186/1044 [07:57<36:01,  2.52s/it]"
     ]
    },
    {
     "name": "stdout",
     "output_type": "stream",
     "text": [
      "Tokenizing...\n"
     ]
    },
    {
     "name": "stderr",
     "output_type": "stream",
     "text": [
      "PTBTokenizer tokenized 61766 tokens at 346116.63 tokens per second.\n",
      "PTBTokenizer tokenized 11791 tokens at 102535.50 tokens per second.\n"
     ]
    },
    {
     "name": "stdout",
     "output_type": "stream",
     "text": [
      "Computing scores...\n",
      "Computing METEOR score...\n",
      "Computing CIDEr score...\n"
     ]
    },
    {
     "name": "stderr",
     "output_type": "stream",
     "text": [
      "Processing files:  18%|█████████▋                                            | 187/1044 [07:59<36:32,  2.56s/it]"
     ]
    },
    {
     "name": "stdout",
     "output_type": "stream",
     "text": [
      "Tokenizing...\n"
     ]
    },
    {
     "name": "stderr",
     "output_type": "stream",
     "text": [
      "PTBTokenizer tokenized 61766 tokens at 344118.31 tokens per second.\n",
      "PTBTokenizer tokenized 9209 tokens at 79804.01 tokens per second.\n"
     ]
    },
    {
     "name": "stdout",
     "output_type": "stream",
     "text": [
      "Computing scores...\n",
      "Computing METEOR score...\n",
      "Computing CIDEr score...\n"
     ]
    },
    {
     "name": "stderr",
     "output_type": "stream",
     "text": [
      "Processing files:  18%|█████████▋                                            | 188/1044 [08:02<36:19,  2.55s/it]"
     ]
    },
    {
     "name": "stdout",
     "output_type": "stream",
     "text": [
      "Tokenizing...\n"
     ]
    },
    {
     "name": "stderr",
     "output_type": "stream",
     "text": [
      "PTBTokenizer tokenized 61766 tokens at 347171.75 tokens per second.\n",
      "PTBTokenizer tokenized 9169 tokens at 88216.08 tokens per second.\n"
     ]
    },
    {
     "name": "stdout",
     "output_type": "stream",
     "text": [
      "Computing scores...\n",
      "Computing METEOR score...\n",
      "Computing CIDEr score...\n"
     ]
    },
    {
     "name": "stderr",
     "output_type": "stream",
     "text": [
      "Processing files:  18%|█████████▊                                            | 189/1044 [08:04<36:23,  2.55s/it]"
     ]
    },
    {
     "name": "stdout",
     "output_type": "stream",
     "text": [
      "Tokenizing...\n"
     ]
    },
    {
     "name": "stderr",
     "output_type": "stream",
     "text": [
      "PTBTokenizer tokenized 61766 tokens at 324484.28 tokens per second.\n",
      "PTBTokenizer tokenized 9242 tokens at 89294.29 tokens per second.\n"
     ]
    },
    {
     "name": "stdout",
     "output_type": "stream",
     "text": [
      "Computing scores...\n",
      "Computing METEOR score...\n",
      "Computing CIDEr score...\n"
     ]
    },
    {
     "name": "stderr",
     "output_type": "stream",
     "text": [
      "Processing files:  18%|█████████▊                                            | 190/1044 [08:07<36:28,  2.56s/it]"
     ]
    },
    {
     "name": "stdout",
     "output_type": "stream",
     "text": [
      "Tokenizing...\n"
     ]
    },
    {
     "name": "stderr",
     "output_type": "stream",
     "text": [
      "PTBTokenizer tokenized 61766 tokens at 343256.18 tokens per second.\n",
      "PTBTokenizer tokenized 7996 tokens at 76749.66 tokens per second.\n"
     ]
    },
    {
     "name": "stdout",
     "output_type": "stream",
     "text": [
      "Computing scores...\n",
      "Computing METEOR score...\n",
      "Computing CIDEr score...\n"
     ]
    },
    {
     "name": "stderr",
     "output_type": "stream",
     "text": [
      "Processing files:  18%|█████████▉                                            | 191/1044 [08:09<35:58,  2.53s/it]"
     ]
    },
    {
     "name": "stdout",
     "output_type": "stream",
     "text": [
      "Tokenizing...\n"
     ]
    },
    {
     "name": "stderr",
     "output_type": "stream",
     "text": [
      "PTBTokenizer tokenized 61766 tokens at 334592.52 tokens per second.\n",
      "PTBTokenizer tokenized 9242 tokens at 89611.07 tokens per second.\n"
     ]
    },
    {
     "name": "stdout",
     "output_type": "stream",
     "text": [
      "Computing scores...\n",
      "Computing METEOR score...\n",
      "Computing CIDEr score...\n"
     ]
    },
    {
     "name": "stderr",
     "output_type": "stream",
     "text": [
      "Processing files:  18%|█████████▉                                            | 192/1044 [08:12<35:45,  2.52s/it]"
     ]
    },
    {
     "name": "stdout",
     "output_type": "stream",
     "text": [
      "Tokenizing...\n"
     ]
    },
    {
     "name": "stderr",
     "output_type": "stream",
     "text": [
      "PTBTokenizer tokenized 61766 tokens at 339907.66 tokens per second.\n",
      "PTBTokenizer tokenized 7913 tokens at 78663.52 tokens per second.\n"
     ]
    },
    {
     "name": "stdout",
     "output_type": "stream",
     "text": [
      "Computing scores...\n",
      "Computing METEOR score...\n",
      "Computing CIDEr score...\n"
     ]
    },
    {
     "name": "stderr",
     "output_type": "stream",
     "text": [
      "Processing files:  18%|█████████▉                                            | 193/1044 [08:14<35:27,  2.50s/it]"
     ]
    },
    {
     "name": "stdout",
     "output_type": "stream",
     "text": [
      "Tokenizing...\n"
     ]
    },
    {
     "name": "stderr",
     "output_type": "stream",
     "text": [
      "PTBTokenizer tokenized 61766 tokens at 324829.23 tokens per second.\n",
      "PTBTokenizer tokenized 9096 tokens at 86360.20 tokens per second.\n"
     ]
    },
    {
     "name": "stdout",
     "output_type": "stream",
     "text": [
      "Computing scores...\n",
      "Computing METEOR score...\n",
      "Computing CIDEr score...\n"
     ]
    },
    {
     "name": "stderr",
     "output_type": "stream",
     "text": [
      "Processing files:  19%|██████████                                            | 194/1044 [08:17<35:34,  2.51s/it]"
     ]
    },
    {
     "name": "stdout",
     "output_type": "stream",
     "text": [
      "Tokenizing...\n"
     ]
    },
    {
     "name": "stderr",
     "output_type": "stream",
     "text": [
      "PTBTokenizer tokenized 61766 tokens at 337373.87 tokens per second.\n",
      "PTBTokenizer tokenized 9242 tokens at 91777.99 tokens per second.\n"
     ]
    },
    {
     "name": "stdout",
     "output_type": "stream",
     "text": [
      "Computing scores...\n",
      "Computing METEOR score...\n",
      "Computing CIDEr score...\n"
     ]
    },
    {
     "name": "stderr",
     "output_type": "stream",
     "text": [
      "Processing files:  19%|██████████                                            | 195/1044 [08:19<35:35,  2.52s/it]"
     ]
    },
    {
     "name": "stdout",
     "output_type": "stream",
     "text": [
      "Tokenizing...\n"
     ]
    },
    {
     "name": "stderr",
     "output_type": "stream",
     "text": [
      "PTBTokenizer tokenized 61766 tokens at 337105.20 tokens per second.\n",
      "PTBTokenizer tokenized 9233 tokens at 91140.79 tokens per second.\n"
     ]
    },
    {
     "name": "stdout",
     "output_type": "stream",
     "text": [
      "Computing scores...\n",
      "Computing METEOR score...\n",
      "Computing CIDEr score...\n"
     ]
    },
    {
     "name": "stderr",
     "output_type": "stream",
     "text": [
      "Processing files:  19%|██████████▏                                           | 196/1044 [08:22<35:35,  2.52s/it]"
     ]
    },
    {
     "name": "stdout",
     "output_type": "stream",
     "text": [
      "Tokenizing...\n"
     ]
    },
    {
     "name": "stderr",
     "output_type": "stream",
     "text": [
      "PTBTokenizer tokenized 61766 tokens at 340030.24 tokens per second.\n",
      "PTBTokenizer tokenized 9239 tokens at 86401.46 tokens per second.\n"
     ]
    },
    {
     "name": "stdout",
     "output_type": "stream",
     "text": [
      "Computing scores...\n",
      "Computing METEOR score...\n",
      "Computing CIDEr score...\n"
     ]
    },
    {
     "name": "stderr",
     "output_type": "stream",
     "text": [
      "Processing files:  19%|██████████▏                                           | 197/1044 [08:24<35:57,  2.55s/it]"
     ]
    },
    {
     "name": "stdout",
     "output_type": "stream",
     "text": [
      "Tokenizing...\n"
     ]
    },
    {
     "name": "stderr",
     "output_type": "stream",
     "text": [
      "PTBTokenizer tokenized 61766 tokens at 306531.87 tokens per second.\n",
      "PTBTokenizer tokenized 7758 tokens at 75839.33 tokens per second.\n"
     ]
    },
    {
     "name": "stdout",
     "output_type": "stream",
     "text": [
      "Computing scores...\n",
      "Computing METEOR score...\n",
      "Computing CIDEr score...\n"
     ]
    },
    {
     "name": "stderr",
     "output_type": "stream",
     "text": [
      "Processing files:  19%|██████████▏                                           | 198/1044 [08:27<35:22,  2.51s/it]"
     ]
    },
    {
     "name": "stdout",
     "output_type": "stream",
     "text": [
      "Tokenizing...\n"
     ]
    },
    {
     "name": "stderr",
     "output_type": "stream",
     "text": [
      "PTBTokenizer tokenized 61766 tokens at 336578.08 tokens per second.\n",
      "PTBTokenizer tokenized 8506 tokens at 82132.61 tokens per second.\n"
     ]
    },
    {
     "name": "stdout",
     "output_type": "stream",
     "text": [
      "Computing scores...\n",
      "Computing METEOR score...\n",
      "Computing CIDEr score...\n"
     ]
    },
    {
     "name": "stderr",
     "output_type": "stream",
     "text": [
      "Processing files:  19%|██████████▎                                           | 199/1044 [08:29<35:22,  2.51s/it]"
     ]
    },
    {
     "name": "stdout",
     "output_type": "stream",
     "text": [
      "Tokenizing...\n"
     ]
    },
    {
     "name": "stderr",
     "output_type": "stream",
     "text": [
      "PTBTokenizer tokenized 61766 tokens at 337838.87 tokens per second.\n",
      "PTBTokenizer tokenized 7720 tokens at 70955.31 tokens per second.\n"
     ]
    },
    {
     "name": "stdout",
     "output_type": "stream",
     "text": [
      "Computing scores...\n",
      "Computing METEOR score...\n",
      "Computing CIDEr score...\n"
     ]
    },
    {
     "name": "stderr",
     "output_type": "stream",
     "text": [
      "Processing files:  19%|██████████▎                                           | 200/1044 [08:32<34:38,  2.46s/it]"
     ]
    },
    {
     "name": "stdout",
     "output_type": "stream",
     "text": [
      "Tokenizing...\n"
     ]
    },
    {
     "name": "stderr",
     "output_type": "stream",
     "text": [
      "PTBTokenizer tokenized 61766 tokens at 341224.46 tokens per second.\n",
      "PTBTokenizer tokenized 7377 tokens at 75345.77 tokens per second.\n"
     ]
    },
    {
     "name": "stdout",
     "output_type": "stream",
     "text": [
      "Computing scores...\n",
      "Computing METEOR score...\n",
      "Computing CIDEr score...\n"
     ]
    },
    {
     "name": "stderr",
     "output_type": "stream",
     "text": [
      "Processing files:  19%|██████████▍                                           | 201/1044 [08:34<34:25,  2.45s/it]"
     ]
    },
    {
     "name": "stdout",
     "output_type": "stream",
     "text": [
      "Tokenizing...\n"
     ]
    },
    {
     "name": "stderr",
     "output_type": "stream",
     "text": [
      "PTBTokenizer tokenized 61766 tokens at 325813.48 tokens per second.\n",
      "PTBTokenizer tokenized 6923 tokens at 72658.93 tokens per second.\n"
     ]
    },
    {
     "name": "stdout",
     "output_type": "stream",
     "text": [
      "Computing scores...\n",
      "Computing METEOR score...\n",
      "Computing CIDEr score...\n"
     ]
    },
    {
     "name": "stderr",
     "output_type": "stream",
     "text": [
      "Processing files:  19%|██████████▍                                           | 202/1044 [08:37<34:24,  2.45s/it]"
     ]
    },
    {
     "name": "stdout",
     "output_type": "stream",
     "text": [
      "Tokenizing...\n"
     ]
    },
    {
     "name": "stderr",
     "output_type": "stream",
     "text": [
      "PTBTokenizer tokenized 61766 tokens at 321053.36 tokens per second.\n",
      "PTBTokenizer tokenized 8094 tokens at 84113.02 tokens per second.\n"
     ]
    },
    {
     "name": "stdout",
     "output_type": "stream",
     "text": [
      "Computing scores...\n",
      "Computing METEOR score...\n",
      "Computing CIDEr score...\n"
     ]
    },
    {
     "name": "stderr",
     "output_type": "stream",
     "text": [
      "Processing files:  19%|██████████▌                                           | 203/1044 [08:39<34:18,  2.45s/it]"
     ]
    },
    {
     "name": "stdout",
     "output_type": "stream",
     "text": [
      "Tokenizing...\n"
     ]
    },
    {
     "name": "stderr",
     "output_type": "stream",
     "text": [
      "PTBTokenizer tokenized 61766 tokens at 333904.19 tokens per second.\n",
      "PTBTokenizer tokenized 9202 tokens at 83508.28 tokens per second.\n"
     ]
    },
    {
     "name": "stdout",
     "output_type": "stream",
     "text": [
      "Computing scores...\n",
      "Computing METEOR score...\n",
      "Computing CIDEr score...\n"
     ]
    },
    {
     "name": "stderr",
     "output_type": "stream",
     "text": [
      "Processing files:  20%|██████████▌                                           | 204/1044 [08:42<34:27,  2.46s/it]"
     ]
    },
    {
     "name": "stdout",
     "output_type": "stream",
     "text": [
      "Tokenizing...\n"
     ]
    },
    {
     "name": "stderr",
     "output_type": "stream",
     "text": [
      "PTBTokenizer tokenized 61766 tokens at 343683.24 tokens per second.\n",
      "PTBTokenizer tokenized 9242 tokens at 87772.95 tokens per second.\n"
     ]
    },
    {
     "name": "stdout",
     "output_type": "stream",
     "text": [
      "Computing scores...\n",
      "Computing METEOR score...\n",
      "Computing CIDEr score...\n"
     ]
    },
    {
     "name": "stderr",
     "output_type": "stream",
     "text": [
      "Processing files:  20%|██████████▌                                           | 205/1044 [08:44<34:49,  2.49s/it]"
     ]
    },
    {
     "name": "stdout",
     "output_type": "stream",
     "text": [
      "Tokenizing...\n"
     ]
    },
    {
     "name": "stderr",
     "output_type": "stream",
     "text": [
      "PTBTokenizer tokenized 61766 tokens at 353845.02 tokens per second.\n",
      "PTBTokenizer tokenized 9229 tokens at 88696.52 tokens per second.\n"
     ]
    },
    {
     "name": "stdout",
     "output_type": "stream",
     "text": [
      "Computing scores...\n",
      "Computing METEOR score...\n",
      "Computing CIDEr score...\n"
     ]
    },
    {
     "name": "stderr",
     "output_type": "stream",
     "text": [
      "Processing files:  20%|██████████▋                                           | 206/1044 [08:47<35:37,  2.55s/it]"
     ]
    },
    {
     "name": "stdout",
     "output_type": "stream",
     "text": [
      "Tokenizing...\n"
     ]
    },
    {
     "name": "stderr",
     "output_type": "stream",
     "text": [
      "PTBTokenizer tokenized 61766 tokens at 348628.28 tokens per second.\n",
      "PTBTokenizer tokenized 9242 tokens at 86660.24 tokens per second.\n"
     ]
    },
    {
     "name": "stdout",
     "output_type": "stream",
     "text": [
      "Computing scores...\n",
      "Computing METEOR score...\n",
      "Computing CIDEr score...\n"
     ]
    },
    {
     "name": "stderr",
     "output_type": "stream",
     "text": [
      "Processing files:  20%|██████████▋                                           | 207/1044 [08:49<35:13,  2.53s/it]"
     ]
    },
    {
     "name": "stdout",
     "output_type": "stream",
     "text": [
      "Tokenizing...\n"
     ]
    },
    {
     "name": "stderr",
     "output_type": "stream",
     "text": [
      "PTBTokenizer tokenized 61766 tokens at 341521.61 tokens per second.\n",
      "PTBTokenizer tokenized 9242 tokens at 89380.23 tokens per second.\n"
     ]
    },
    {
     "name": "stdout",
     "output_type": "stream",
     "text": [
      "Computing scores...\n",
      "Computing METEOR score...\n",
      "Computing CIDEr score...\n"
     ]
    },
    {
     "name": "stderr",
     "output_type": "stream",
     "text": [
      "Processing files:  20%|██████████▊                                           | 208/1044 [08:52<35:14,  2.53s/it]"
     ]
    },
    {
     "name": "stdout",
     "output_type": "stream",
     "text": [
      "Tokenizing...\n"
     ]
    },
    {
     "name": "stderr",
     "output_type": "stream",
     "text": [
      "PTBTokenizer tokenized 61766 tokens at 296709.96 tokens per second.\n",
      "PTBTokenizer tokenized 9242 tokens at 79645.20 tokens per second.\n"
     ]
    },
    {
     "name": "stdout",
     "output_type": "stream",
     "text": [
      "Computing scores...\n",
      "Computing METEOR score...\n",
      "Computing CIDEr score...\n"
     ]
    },
    {
     "name": "stderr",
     "output_type": "stream",
     "text": [
      "Processing files:  20%|██████████▊                                           | 209/1044 [08:54<35:27,  2.55s/it]"
     ]
    },
    {
     "name": "stdout",
     "output_type": "stream",
     "text": [
      "Tokenizing...\n"
     ]
    },
    {
     "name": "stderr",
     "output_type": "stream",
     "text": [
      "PTBTokenizer tokenized 61766 tokens at 346923.85 tokens per second.\n",
      "Jul 19, 2024 4:29:18 PM edu.stanford.nlp.process.PTBLexer next\n",
      "WARNING: Untokenizable: � (U+FFFD, decimal: 65533)\n",
      "PTBTokenizer tokenized 17329 tokens at 109673.64 tokens per second.\n"
     ]
    },
    {
     "name": "stdout",
     "output_type": "stream",
     "text": [
      "Computing scores...\n",
      "Computing METEOR score...\n",
      "Computing CIDEr score...\n"
     ]
    },
    {
     "name": "stderr",
     "output_type": "stream",
     "text": [
      "Processing files:  20%|██████████▊                                           | 210/1044 [08:58<37:57,  2.73s/it]"
     ]
    },
    {
     "name": "stdout",
     "output_type": "stream",
     "text": [
      "Tokenizing...\n"
     ]
    },
    {
     "name": "stderr",
     "output_type": "stream",
     "text": [
      "PTBTokenizer tokenized 61766 tokens at 332749.16 tokens per second.\n",
      "PTBTokenizer tokenized 9238 tokens at 80777.42 tokens per second.\n"
     ]
    },
    {
     "name": "stdout",
     "output_type": "stream",
     "text": [
      "Computing scores...\n",
      "Computing METEOR score...\n",
      "Computing CIDEr score...\n"
     ]
    },
    {
     "name": "stderr",
     "output_type": "stream",
     "text": [
      "Processing files:  20%|██████████▉                                           | 211/1044 [09:00<37:12,  2.68s/it]"
     ]
    },
    {
     "name": "stdout",
     "output_type": "stream",
     "text": [
      "Tokenizing...\n"
     ]
    },
    {
     "name": "stderr",
     "output_type": "stream",
     "text": [
      "PTBTokenizer tokenized 61766 tokens at 332621.42 tokens per second.\n",
      "PTBTokenizer tokenized 9242 tokens at 88659.91 tokens per second.\n"
     ]
    },
    {
     "name": "stdout",
     "output_type": "stream",
     "text": [
      "Computing scores...\n",
      "Computing METEOR score...\n",
      "Computing CIDEr score...\n"
     ]
    },
    {
     "name": "stderr",
     "output_type": "stream",
     "text": [
      "Processing files:  20%|██████████▉                                           | 212/1044 [09:03<36:40,  2.64s/it]"
     ]
    },
    {
     "name": "stdout",
     "output_type": "stream",
     "text": [
      "Tokenizing...\n"
     ]
    },
    {
     "name": "stderr",
     "output_type": "stream",
     "text": [
      "PTBTokenizer tokenized 61766 tokens at 346474.34 tokens per second.\n",
      "PTBTokenizer tokenized 11791 tokens at 88557.03 tokens per second.\n"
     ]
    },
    {
     "name": "stdout",
     "output_type": "stream",
     "text": [
      "Computing scores...\n",
      "Computing METEOR score...\n",
      "Computing CIDEr score...\n"
     ]
    },
    {
     "name": "stderr",
     "output_type": "stream",
     "text": [
      "Processing files:  20%|███████████                                           | 213/1044 [09:05<36:39,  2.65s/it]"
     ]
    },
    {
     "name": "stdout",
     "output_type": "stream",
     "text": [
      "Tokenizing...\n"
     ]
    },
    {
     "name": "stderr",
     "output_type": "stream",
     "text": [
      "PTBTokenizer tokenized 61766 tokens at 320123.72 tokens per second.\n",
      "PTBTokenizer tokenized 8482 tokens at 82875.22 tokens per second.\n"
     ]
    },
    {
     "name": "stdout",
     "output_type": "stream",
     "text": [
      "Computing scores...\n",
      "Computing METEOR score...\n",
      "Computing CIDEr score...\n"
     ]
    },
    {
     "name": "stderr",
     "output_type": "stream",
     "text": [
      "Processing files:  20%|███████████                                           | 214/1044 [09:08<35:53,  2.59s/it]"
     ]
    },
    {
     "name": "stdout",
     "output_type": "stream",
     "text": [
      "Tokenizing...\n"
     ]
    },
    {
     "name": "stderr",
     "output_type": "stream",
     "text": [
      "PTBTokenizer tokenized 61766 tokens at 296469.75 tokens per second.\n",
      "PTBTokenizer tokenized 9151 tokens at 84446.07 tokens per second.\n"
     ]
    },
    {
     "name": "stdout",
     "output_type": "stream",
     "text": [
      "Computing scores...\n",
      "Computing METEOR score...\n",
      "Computing CIDEr score...\n"
     ]
    },
    {
     "name": "stderr",
     "output_type": "stream",
     "text": [
      "Processing files:  21%|███████████                                           | 215/1044 [09:10<35:41,  2.58s/it]"
     ]
    },
    {
     "name": "stdout",
     "output_type": "stream",
     "text": [
      "Tokenizing...\n"
     ]
    },
    {
     "name": "stderr",
     "output_type": "stream",
     "text": [
      "PTBTokenizer tokenized 61766 tokens at 309521.71 tokens per second.\n",
      "PTBTokenizer tokenized 9238 tokens at 88960.25 tokens per second.\n"
     ]
    },
    {
     "name": "stdout",
     "output_type": "stream",
     "text": [
      "Computing scores...\n",
      "Computing METEOR score...\n",
      "Computing CIDEr score...\n"
     ]
    },
    {
     "name": "stderr",
     "output_type": "stream",
     "text": [
      "Processing files:  21%|███████████▏                                          | 216/1044 [09:13<35:16,  2.56s/it]"
     ]
    },
    {
     "name": "stdout",
     "output_type": "stream",
     "text": [
      "Tokenizing...\n"
     ]
    },
    {
     "name": "stderr",
     "output_type": "stream",
     "text": [
      "PTBTokenizer tokenized 61766 tokens at 331539.92 tokens per second.\n",
      "PTBTokenizer tokenized 7753 tokens at 79211.68 tokens per second.\n"
     ]
    },
    {
     "name": "stdout",
     "output_type": "stream",
     "text": [
      "Computing scores...\n",
      "Computing METEOR score...\n",
      "Computing CIDEr score...\n"
     ]
    },
    {
     "name": "stderr",
     "output_type": "stream",
     "text": [
      "Processing files:  21%|███████████▏                                          | 217/1044 [09:15<34:45,  2.52s/it]"
     ]
    },
    {
     "name": "stdout",
     "output_type": "stream",
     "text": [
      "Tokenizing...\n"
     ]
    },
    {
     "name": "stderr",
     "output_type": "stream",
     "text": [
      "PTBTokenizer tokenized 61766 tokens at 349315.48 tokens per second.\n",
      "PTBTokenizer tokenized 9247 tokens at 82959.87 tokens per second.\n"
     ]
    },
    {
     "name": "stdout",
     "output_type": "stream",
     "text": [
      "Computing scores...\n",
      "Computing METEOR score...\n",
      "Computing CIDEr score...\n"
     ]
    },
    {
     "name": "stderr",
     "output_type": "stream",
     "text": [
      "Processing files:  21%|███████████▎                                          | 218/1044 [09:18<35:08,  2.55s/it]"
     ]
    },
    {
     "name": "stdout",
     "output_type": "stream",
     "text": [
      "Tokenizing...\n"
     ]
    },
    {
     "name": "stderr",
     "output_type": "stream",
     "text": [
      "PTBTokenizer tokenized 61766 tokens at 327964.33 tokens per second.\n",
      "PTBTokenizer tokenized 9242 tokens at 92226.26 tokens per second.\n"
     ]
    },
    {
     "name": "stdout",
     "output_type": "stream",
     "text": [
      "Computing scores...\n",
      "Computing METEOR score...\n",
      "Computing CIDEr score...\n"
     ]
    },
    {
     "name": "stderr",
     "output_type": "stream",
     "text": [
      "Processing files:  21%|███████████▎                                          | 219/1044 [09:21<35:20,  2.57s/it]"
     ]
    },
    {
     "name": "stdout",
     "output_type": "stream",
     "text": [
      "Tokenizing...\n"
     ]
    },
    {
     "name": "stderr",
     "output_type": "stream",
     "text": [
      "PTBTokenizer tokenized 61766 tokens at 318653.40 tokens per second.\n",
      "PTBTokenizer tokenized 7776 tokens at 77296.98 tokens per second.\n"
     ]
    },
    {
     "name": "stdout",
     "output_type": "stream",
     "text": [
      "Computing scores...\n",
      "Computing METEOR score...\n",
      "Computing CIDEr score...\n"
     ]
    },
    {
     "name": "stderr",
     "output_type": "stream",
     "text": [
      "Processing files:  21%|███████████▍                                          | 220/1044 [09:23<34:32,  2.51s/it]"
     ]
    },
    {
     "name": "stdout",
     "output_type": "stream",
     "text": [
      "Tokenizing...\n"
     ]
    },
    {
     "name": "stderr",
     "output_type": "stream",
     "text": [
      "PTBTokenizer tokenized 61766 tokens at 325714.20 tokens per second.\n",
      "PTBTokenizer tokenized 9167 tokens at 87203.81 tokens per second.\n"
     ]
    },
    {
     "name": "stdout",
     "output_type": "stream",
     "text": [
      "Computing scores...\n",
      "Computing METEOR score...\n",
      "Computing CIDEr score...\n"
     ]
    },
    {
     "name": "stderr",
     "output_type": "stream",
     "text": [
      "Processing files:  21%|███████████▍                                          | 221/1044 [09:25<34:42,  2.53s/it]"
     ]
    },
    {
     "name": "stdout",
     "output_type": "stream",
     "text": [
      "Tokenizing...\n"
     ]
    },
    {
     "name": "stderr",
     "output_type": "stream",
     "text": [
      "PTBTokenizer tokenized 61766 tokens at 335721.60 tokens per second.\n",
      "PTBTokenizer tokenized 7988 tokens at 77837.21 tokens per second.\n"
     ]
    },
    {
     "name": "stdout",
     "output_type": "stream",
     "text": [
      "Computing scores...\n",
      "Computing METEOR score...\n",
      "Computing CIDEr score...\n"
     ]
    },
    {
     "name": "stderr",
     "output_type": "stream",
     "text": [
      "Processing files:  21%|███████████▍                                          | 222/1044 [09:28<33:54,  2.48s/it]"
     ]
    },
    {
     "name": "stdout",
     "output_type": "stream",
     "text": [
      "Tokenizing...\n"
     ]
    },
    {
     "name": "stderr",
     "output_type": "stream",
     "text": [
      "PTBTokenizer tokenized 61766 tokens at 345965.39 tokens per second.\n",
      "PTBTokenizer tokenized 7968 tokens at 83252.66 tokens per second.\n"
     ]
    },
    {
     "name": "stdout",
     "output_type": "stream",
     "text": [
      "Computing scores...\n",
      "Computing METEOR score...\n",
      "Computing CIDEr score...\n"
     ]
    },
    {
     "name": "stderr",
     "output_type": "stream",
     "text": [
      "Processing files:  21%|███████████▌                                          | 223/1044 [09:30<33:52,  2.48s/it]"
     ]
    },
    {
     "name": "stdout",
     "output_type": "stream",
     "text": [
      "Tokenizing...\n"
     ]
    },
    {
     "name": "stderr",
     "output_type": "stream",
     "text": [
      "PTBTokenizer tokenized 61766 tokens at 321252.18 tokens per second.\n",
      "PTBTokenizer tokenized 9239 tokens at 89014.46 tokens per second.\n"
     ]
    },
    {
     "name": "stdout",
     "output_type": "stream",
     "text": [
      "Computing scores...\n",
      "Computing METEOR score...\n",
      "Computing CIDEr score...\n"
     ]
    },
    {
     "name": "stderr",
     "output_type": "stream",
     "text": [
      "Processing files:  21%|███████████▌                                          | 224/1044 [09:33<33:48,  2.47s/it]"
     ]
    },
    {
     "name": "stdout",
     "output_type": "stream",
     "text": [
      "Tokenizing...\n"
     ]
    },
    {
     "name": "stderr",
     "output_type": "stream",
     "text": [
      "PTBTokenizer tokenized 61766 tokens at 336556.53 tokens per second.\n",
      "PTBTokenizer tokenized 9112 tokens at 90786.48 tokens per second.\n"
     ]
    },
    {
     "name": "stdout",
     "output_type": "stream",
     "text": [
      "Computing scores...\n",
      "Computing METEOR score...\n",
      "Computing CIDEr score...\n"
     ]
    },
    {
     "name": "stderr",
     "output_type": "stream",
     "text": [
      "Processing files:  22%|███████████▋                                          | 225/1044 [09:35<33:57,  2.49s/it]"
     ]
    },
    {
     "name": "stdout",
     "output_type": "stream",
     "text": [
      "Tokenizing...\n"
     ]
    },
    {
     "name": "stderr",
     "output_type": "stream",
     "text": [
      "PTBTokenizer tokenized 61766 tokens at 362918.75 tokens per second.\n",
      "Jul 19, 2024 4:29:59 PM edu.stanford.nlp.process.PTBLexer next\n",
      "WARNING: Untokenizable: � (U+FFFD, decimal: 65533)\n",
      "PTBTokenizer tokenized 17504 tokens at 108732.57 tokens per second.\n"
     ]
    },
    {
     "name": "stdout",
     "output_type": "stream",
     "text": [
      "Computing scores...\n",
      "Computing METEOR score...\n",
      "Computing CIDEr score...\n"
     ]
    },
    {
     "name": "stderr",
     "output_type": "stream",
     "text": [
      "Processing files:  22%|███████████▋                                          | 226/1044 [09:38<36:16,  2.66s/it]"
     ]
    },
    {
     "name": "stdout",
     "output_type": "stream",
     "text": [
      "Tokenizing...\n"
     ]
    },
    {
     "name": "stderr",
     "output_type": "stream",
     "text": [
      "PTBTokenizer tokenized 61766 tokens at 340908.21 tokens per second.\n",
      "PTBTokenizer tokenized 9242 tokens at 80615.45 tokens per second.\n"
     ]
    },
    {
     "name": "stdout",
     "output_type": "stream",
     "text": [
      "Computing scores...\n",
      "Computing METEOR score...\n",
      "Computing CIDEr score...\n"
     ]
    },
    {
     "name": "stderr",
     "output_type": "stream",
     "text": [
      "Processing files:  22%|███████████▋                                          | 227/1044 [09:41<36:03,  2.65s/it]"
     ]
    },
    {
     "name": "stdout",
     "output_type": "stream",
     "text": [
      "Tokenizing...\n"
     ]
    },
    {
     "name": "stderr",
     "output_type": "stream",
     "text": [
      "PTBTokenizer tokenized 61766 tokens at 333453.96 tokens per second.\n",
      "PTBTokenizer tokenized 8076 tokens at 72548.98 tokens per second.\n"
     ]
    },
    {
     "name": "stdout",
     "output_type": "stream",
     "text": [
      "Computing scores...\n",
      "Computing METEOR score...\n",
      "Computing CIDEr score...\n"
     ]
    },
    {
     "name": "stderr",
     "output_type": "stream",
     "text": [
      "Processing files:  22%|███████████▊                                          | 228/1044 [09:43<35:21,  2.60s/it]"
     ]
    },
    {
     "name": "stdout",
     "output_type": "stream",
     "text": [
      "Tokenizing...\n"
     ]
    },
    {
     "name": "stderr",
     "output_type": "stream",
     "text": [
      "PTBTokenizer tokenized 61766 tokens at 322167.75 tokens per second.\n",
      "PTBTokenizer tokenized 8050 tokens at 79295.64 tokens per second.\n"
     ]
    },
    {
     "name": "stdout",
     "output_type": "stream",
     "text": [
      "Computing scores...\n",
      "Computing METEOR score...\n",
      "Computing CIDEr score...\n"
     ]
    },
    {
     "name": "stderr",
     "output_type": "stream",
     "text": [
      "Processing files:  22%|███████████▊                                          | 229/1044 [09:46<34:24,  2.53s/it]"
     ]
    },
    {
     "name": "stdout",
     "output_type": "stream",
     "text": [
      "Tokenizing...\n"
     ]
    },
    {
     "name": "stderr",
     "output_type": "stream",
     "text": [
      "PTBTokenizer tokenized 61766 tokens at 339272.98 tokens per second.\n",
      "PTBTokenizer tokenized 9242 tokens at 88615.51 tokens per second.\n"
     ]
    },
    {
     "name": "stdout",
     "output_type": "stream",
     "text": [
      "Computing scores...\n",
      "Computing METEOR score...\n",
      "Computing CIDEr score...\n"
     ]
    },
    {
     "name": "stderr",
     "output_type": "stream",
     "text": [
      "Processing files:  22%|███████████▉                                          | 230/1044 [09:48<34:10,  2.52s/it]"
     ]
    },
    {
     "name": "stdout",
     "output_type": "stream",
     "text": [
      "Tokenizing...\n"
     ]
    },
    {
     "name": "stderr",
     "output_type": "stream",
     "text": [
      "PTBTokenizer tokenized 61766 tokens at 353111.95 tokens per second.\n",
      "PTBTokenizer tokenized 9236 tokens at 87181.33 tokens per second.\n"
     ]
    },
    {
     "name": "stdout",
     "output_type": "stream",
     "text": [
      "Computing scores...\n",
      "Computing METEOR score...\n",
      "Computing CIDEr score...\n"
     ]
    },
    {
     "name": "stderr",
     "output_type": "stream",
     "text": [
      "Processing files:  22%|███████████▉                                          | 231/1044 [09:51<34:20,  2.53s/it]"
     ]
    },
    {
     "name": "stdout",
     "output_type": "stream",
     "text": [
      "Tokenizing...\n"
     ]
    },
    {
     "name": "stderr",
     "output_type": "stream",
     "text": [
      "PTBTokenizer tokenized 61766 tokens at 338059.60 tokens per second.\n",
      "PTBTokenizer tokenized 9242 tokens at 86770.61 tokens per second.\n"
     ]
    },
    {
     "name": "stdout",
     "output_type": "stream",
     "text": [
      "Computing scores...\n",
      "Computing METEOR score...\n",
      "Computing CIDEr score...\n"
     ]
    },
    {
     "name": "stderr",
     "output_type": "stream",
     "text": [
      "Processing files:  22%|████████████                                          | 232/1044 [09:53<34:26,  2.54s/it]"
     ]
    },
    {
     "name": "stdout",
     "output_type": "stream",
     "text": [
      "Tokenizing...\n"
     ]
    },
    {
     "name": "stderr",
     "output_type": "stream",
     "text": [
      "PTBTokenizer tokenized 61766 tokens at 335001.84 tokens per second.\n",
      "PTBTokenizer tokenized 9000 tokens at 86499.95 tokens per second.\n"
     ]
    },
    {
     "name": "stdout",
     "output_type": "stream",
     "text": [
      "Computing scores...\n",
      "Computing METEOR score...\n",
      "Computing CIDEr score...\n"
     ]
    },
    {
     "name": "stderr",
     "output_type": "stream",
     "text": [
      "Processing files:  22%|████████████                                          | 233/1044 [09:56<34:26,  2.55s/it]"
     ]
    },
    {
     "name": "stdout",
     "output_type": "stream",
     "text": [
      "Tokenizing...\n"
     ]
    },
    {
     "name": "stderr",
     "output_type": "stream",
     "text": [
      "PTBTokenizer tokenized 61766 tokens at 355186.25 tokens per second.\n",
      "PTBTokenizer tokenized 7764 tokens at 78663.67 tokens per second.\n"
     ]
    },
    {
     "name": "stdout",
     "output_type": "stream",
     "text": [
      "Computing scores...\n",
      "Computing METEOR score...\n",
      "Computing CIDEr score...\n"
     ]
    },
    {
     "name": "stderr",
     "output_type": "stream",
     "text": [
      "Processing files:  22%|████████████                                          | 234/1044 [09:58<33:31,  2.48s/it]"
     ]
    },
    {
     "name": "stdout",
     "output_type": "stream",
     "text": [
      "Tokenizing...\n"
     ]
    },
    {
     "name": "stderr",
     "output_type": "stream",
     "text": [
      "PTBTokenizer tokenized 61766 tokens at 314285.59 tokens per second.\n",
      "PTBTokenizer tokenized 6778 tokens at 73404.47 tokens per second.\n"
     ]
    },
    {
     "name": "stdout",
     "output_type": "stream",
     "text": [
      "Computing scores...\n",
      "Computing METEOR score...\n",
      "Computing CIDEr score...\n"
     ]
    },
    {
     "name": "stderr",
     "output_type": "stream",
     "text": [
      "Processing files:  23%|████████████▏                                         | 235/1044 [10:01<33:03,  2.45s/it]"
     ]
    },
    {
     "name": "stdout",
     "output_type": "stream",
     "text": [
      "Tokenizing...\n"
     ]
    },
    {
     "name": "stderr",
     "output_type": "stream",
     "text": [
      "PTBTokenizer tokenized 61766 tokens at 337225.35 tokens per second.\n",
      "PTBTokenizer tokenized 6935 tokens at 72388.68 tokens per second.\n"
     ]
    },
    {
     "name": "stdout",
     "output_type": "stream",
     "text": [
      "Computing scores...\n",
      "Computing METEOR score...\n",
      "Computing CIDEr score...\n"
     ]
    },
    {
     "name": "stderr",
     "output_type": "stream",
     "text": [
      "Processing files:  23%|████████████▏                                         | 236/1044 [10:03<32:40,  2.43s/it]"
     ]
    },
    {
     "name": "stdout",
     "output_type": "stream",
     "text": [
      "Tokenizing...\n"
     ]
    },
    {
     "name": "stderr",
     "output_type": "stream",
     "text": [
      "PTBTokenizer tokenized 61766 tokens at 289580.74 tokens per second.\n",
      "PTBTokenizer tokenized 6791 tokens at 70485.43 tokens per second.\n"
     ]
    },
    {
     "name": "stdout",
     "output_type": "stream",
     "text": [
      "Computing scores...\n",
      "Computing METEOR score...\n",
      "Computing CIDEr score...\n"
     ]
    },
    {
     "name": "stderr",
     "output_type": "stream",
     "text": [
      "Processing files:  23%|████████████▎                                         | 237/1044 [10:05<32:08,  2.39s/it]"
     ]
    },
    {
     "name": "stdout",
     "output_type": "stream",
     "text": [
      "Tokenizing...\n"
     ]
    },
    {
     "name": "stderr",
     "output_type": "stream",
     "text": [
      "PTBTokenizer tokenized 61766 tokens at 342493.11 tokens per second.\n",
      "PTBTokenizer tokenized 9077 tokens at 88286.96 tokens per second.\n"
     ]
    },
    {
     "name": "stdout",
     "output_type": "stream",
     "text": [
      "Computing scores...\n",
      "Computing METEOR score...\n",
      "Computing CIDEr score...\n"
     ]
    },
    {
     "name": "stderr",
     "output_type": "stream",
     "text": [
      "Processing files:  23%|████████████▎                                         | 238/1044 [10:08<32:47,  2.44s/it]"
     ]
    },
    {
     "name": "stdout",
     "output_type": "stream",
     "text": [
      "Tokenizing...\n"
     ]
    },
    {
     "name": "stderr",
     "output_type": "stream",
     "text": [
      "PTBTokenizer tokenized 61766 tokens at 298109.18 tokens per second.\n",
      "PTBTokenizer tokenized 9095 tokens at 88214.14 tokens per second.\n"
     ]
    },
    {
     "name": "stdout",
     "output_type": "stream",
     "text": [
      "Computing scores...\n",
      "Computing METEOR score...\n",
      "Computing CIDEr score...\n"
     ]
    },
    {
     "name": "stderr",
     "output_type": "stream",
     "text": [
      "Processing files:  23%|████████████▎                                         | 239/1044 [10:10<32:41,  2.44s/it]"
     ]
    },
    {
     "name": "stdout",
     "output_type": "stream",
     "text": [
      "Tokenizing...\n"
     ]
    },
    {
     "name": "stderr",
     "output_type": "stream",
     "text": [
      "PTBTokenizer tokenized 61766 tokens at 324485.17 tokens per second.\n",
      "PTBTokenizer tokenized 9242 tokens at 76641.32 tokens per second.\n"
     ]
    },
    {
     "name": "stdout",
     "output_type": "stream",
     "text": [
      "Computing scores...\n",
      "Computing METEOR score...\n",
      "Computing CIDEr score...\n"
     ]
    },
    {
     "name": "stderr",
     "output_type": "stream",
     "text": [
      "Processing files:  23%|████████████▍                                         | 240/1044 [10:13<33:10,  2.48s/it]"
     ]
    },
    {
     "name": "stdout",
     "output_type": "stream",
     "text": [
      "Tokenizing...\n"
     ]
    },
    {
     "name": "stderr",
     "output_type": "stream",
     "text": [
      "PTBTokenizer tokenized 61766 tokens at 342162.66 tokens per second.\n",
      "PTBTokenizer tokenized 8038 tokens at 75411.20 tokens per second.\n"
     ]
    },
    {
     "name": "stdout",
     "output_type": "stream",
     "text": [
      "Computing scores...\n",
      "Computing METEOR score...\n",
      "Computing CIDEr score...\n"
     ]
    },
    {
     "name": "stderr",
     "output_type": "stream",
     "text": [
      "Processing files:  23%|████████████▍                                         | 241/1044 [10:15<32:43,  2.45s/it]"
     ]
    },
    {
     "name": "stdout",
     "output_type": "stream",
     "text": [
      "Tokenizing...\n"
     ]
    },
    {
     "name": "stderr",
     "output_type": "stream",
     "text": [
      "PTBTokenizer tokenized 61766 tokens at 333948.04 tokens per second.\n",
      "PTBTokenizer tokenized 9242 tokens at 91175.16 tokens per second.\n"
     ]
    },
    {
     "name": "stdout",
     "output_type": "stream",
     "text": [
      "Computing scores...\n",
      "Computing METEOR score...\n",
      "Computing CIDEr score...\n"
     ]
    },
    {
     "name": "stderr",
     "output_type": "stream",
     "text": [
      "Processing files:  23%|████████████▌                                         | 242/1044 [10:18<32:48,  2.45s/it]"
     ]
    },
    {
     "name": "stdout",
     "output_type": "stream",
     "text": [
      "Tokenizing...\n"
     ]
    },
    {
     "name": "stderr",
     "output_type": "stream",
     "text": [
      "PTBTokenizer tokenized 61766 tokens at 334642.79 tokens per second.\n",
      "PTBTokenizer tokenized 8263 tokens at 78165.72 tokens per second.\n"
     ]
    },
    {
     "name": "stdout",
     "output_type": "stream",
     "text": [
      "Computing scores...\n",
      "Computing METEOR score...\n",
      "Computing CIDEr score...\n"
     ]
    },
    {
     "name": "stderr",
     "output_type": "stream",
     "text": [
      "Processing files:  23%|████████████▌                                         | 243/1044 [10:20<32:40,  2.45s/it]"
     ]
    },
    {
     "name": "stdout",
     "output_type": "stream",
     "text": [
      "Tokenizing...\n"
     ]
    },
    {
     "name": "stderr",
     "output_type": "stream",
     "text": [
      "PTBTokenizer tokenized 61766 tokens at 351911.56 tokens per second.\n",
      "PTBTokenizer tokenized 9153 tokens at 89596.02 tokens per second.\n"
     ]
    },
    {
     "name": "stdout",
     "output_type": "stream",
     "text": [
      "Computing scores...\n",
      "Computing METEOR score...\n",
      "Computing CIDEr score...\n"
     ]
    },
    {
     "name": "stderr",
     "output_type": "stream",
     "text": [
      "Processing files:  23%|████████████▌                                         | 244/1044 [10:23<33:00,  2.48s/it]"
     ]
    },
    {
     "name": "stdout",
     "output_type": "stream",
     "text": [
      "Tokenizing...\n"
     ]
    },
    {
     "name": "stderr",
     "output_type": "stream",
     "text": [
      "PTBTokenizer tokenized 61766 tokens at 355616.10 tokens per second.\n",
      "PTBTokenizer tokenized 11648 tokens at 99096.01 tokens per second.\n"
     ]
    },
    {
     "name": "stdout",
     "output_type": "stream",
     "text": [
      "Computing scores...\n",
      "Computing METEOR score...\n",
      "Computing CIDEr score...\n"
     ]
    },
    {
     "name": "stderr",
     "output_type": "stream",
     "text": [
      "Processing files:  23%|████████████▋                                         | 245/1044 [10:25<33:38,  2.53s/it]"
     ]
    },
    {
     "name": "stdout",
     "output_type": "stream",
     "text": [
      "Tokenizing...\n"
     ]
    },
    {
     "name": "stderr",
     "output_type": "stream",
     "text": [
      "PTBTokenizer tokenized 61766 tokens at 354057.05 tokens per second.\n",
      "PTBTokenizer tokenized 9242 tokens at 88416.58 tokens per second.\n"
     ]
    },
    {
     "name": "stdout",
     "output_type": "stream",
     "text": [
      "Computing scores...\n",
      "Computing METEOR score...\n",
      "Computing CIDEr score...\n"
     ]
    },
    {
     "name": "stderr",
     "output_type": "stream",
     "text": [
      "Processing files:  24%|████████████▋                                         | 246/1044 [10:28<33:39,  2.53s/it]"
     ]
    },
    {
     "name": "stdout",
     "output_type": "stream",
     "text": [
      "Tokenizing...\n"
     ]
    },
    {
     "name": "stderr",
     "output_type": "stream",
     "text": [
      "PTBTokenizer tokenized 61766 tokens at 323178.92 tokens per second.\n",
      "PTBTokenizer tokenized 9047 tokens at 90875.21 tokens per second.\n"
     ]
    },
    {
     "name": "stdout",
     "output_type": "stream",
     "text": [
      "Computing scores...\n",
      "Computing METEOR score...\n",
      "Computing CIDEr score...\n"
     ]
    },
    {
     "name": "stderr",
     "output_type": "stream",
     "text": [
      "Processing files:  24%|████████████▊                                         | 247/1044 [10:31<33:48,  2.55s/it]"
     ]
    },
    {
     "name": "stdout",
     "output_type": "stream",
     "text": [
      "Tokenizing...\n"
     ]
    },
    {
     "name": "stderr",
     "output_type": "stream",
     "text": [
      "PTBTokenizer tokenized 61766 tokens at 337329.11 tokens per second.\n",
      "PTBTokenizer tokenized 9242 tokens at 88754.59 tokens per second.\n"
     ]
    },
    {
     "name": "stdout",
     "output_type": "stream",
     "text": [
      "Computing scores...\n",
      "Computing METEOR score...\n",
      "Computing CIDEr score...\n"
     ]
    },
    {
     "name": "stderr",
     "output_type": "stream",
     "text": [
      "Processing files:  24%|████████████▊                                         | 248/1044 [10:33<33:39,  2.54s/it]"
     ]
    },
    {
     "name": "stdout",
     "output_type": "stream",
     "text": [
      "Tokenizing...\n"
     ]
    },
    {
     "name": "stderr",
     "output_type": "stream",
     "text": [
      "PTBTokenizer tokenized 61766 tokens at 319186.32 tokens per second.\n",
      "PTBTokenizer tokenized 9151 tokens at 85384.73 tokens per second.\n"
     ]
    },
    {
     "name": "stdout",
     "output_type": "stream",
     "text": [
      "Computing scores...\n",
      "Computing METEOR score...\n",
      "Computing CIDEr score...\n"
     ]
    },
    {
     "name": "stderr",
     "output_type": "stream",
     "text": [
      "Processing files:  24%|████████████▉                                         | 249/1044 [10:36<33:43,  2.54s/it]"
     ]
    },
    {
     "name": "stdout",
     "output_type": "stream",
     "text": [
      "Tokenizing...\n"
     ]
    },
    {
     "name": "stderr",
     "output_type": "stream",
     "text": [
      "PTBTokenizer tokenized 61766 tokens at 332111.04 tokens per second.\n",
      "PTBTokenizer tokenized 10928 tokens at 95641.57 tokens per second.\n"
     ]
    },
    {
     "name": "stdout",
     "output_type": "stream",
     "text": [
      "Computing scores...\n",
      "Computing METEOR score...\n",
      "Computing CIDEr score...\n"
     ]
    },
    {
     "name": "stderr",
     "output_type": "stream",
     "text": [
      "Processing files:  24%|████████████▉                                         | 250/1044 [10:38<34:24,  2.60s/it]"
     ]
    },
    {
     "name": "stdout",
     "output_type": "stream",
     "text": [
      "Tokenizing...\n"
     ]
    },
    {
     "name": "stderr",
     "output_type": "stream",
     "text": [
      "PTBTokenizer tokenized 61766 tokens at 340000.13 tokens per second.\n",
      "PTBTokenizer tokenized 9151 tokens at 84094.36 tokens per second.\n"
     ]
    },
    {
     "name": "stdout",
     "output_type": "stream",
     "text": [
      "Computing scores...\n",
      "Computing METEOR score...\n",
      "Computing CIDEr score...\n"
     ]
    },
    {
     "name": "stderr",
     "output_type": "stream",
     "text": [
      "Processing files:  24%|████████████▉                                         | 251/1044 [10:41<34:01,  2.57s/it]"
     ]
    },
    {
     "name": "stdout",
     "output_type": "stream",
     "text": [
      "Tokenizing...\n"
     ]
    },
    {
     "name": "stderr",
     "output_type": "stream",
     "text": [
      "PTBTokenizer tokenized 61766 tokens at 351472.54 tokens per second.\n",
      "PTBTokenizer tokenized 9251 tokens at 84159.57 tokens per second.\n"
     ]
    },
    {
     "name": "stdout",
     "output_type": "stream",
     "text": [
      "Computing scores...\n",
      "Computing METEOR score...\n",
      "Computing CIDEr score...\n"
     ]
    },
    {
     "name": "stderr",
     "output_type": "stream",
     "text": [
      "Processing files:  24%|█████████████                                         | 252/1044 [10:43<33:50,  2.56s/it]"
     ]
    },
    {
     "name": "stdout",
     "output_type": "stream",
     "text": [
      "Tokenizing...\n"
     ]
    },
    {
     "name": "stderr",
     "output_type": "stream",
     "text": [
      "PTBTokenizer tokenized 61766 tokens at 361820.37 tokens per second.\n",
      "PTBTokenizer tokenized 9206 tokens at 89732.85 tokens per second.\n"
     ]
    },
    {
     "name": "stdout",
     "output_type": "stream",
     "text": [
      "Computing scores...\n",
      "Computing METEOR score...\n",
      "Computing CIDEr score...\n"
     ]
    },
    {
     "name": "stderr",
     "output_type": "stream",
     "text": [
      "Processing files:  24%|█████████████                                         | 253/1044 [10:46<33:41,  2.56s/it]"
     ]
    },
    {
     "name": "stdout",
     "output_type": "stream",
     "text": [
      "Tokenizing...\n"
     ]
    },
    {
     "name": "stderr",
     "output_type": "stream",
     "text": [
      "PTBTokenizer tokenized 61766 tokens at 333373.18 tokens per second.\n",
      "PTBTokenizer tokenized 9242 tokens at 92306.55 tokens per second.\n"
     ]
    },
    {
     "name": "stdout",
     "output_type": "stream",
     "text": [
      "Computing scores...\n",
      "Computing METEOR score...\n",
      "Computing CIDEr score...\n"
     ]
    },
    {
     "name": "stderr",
     "output_type": "stream",
     "text": [
      "Processing files:  24%|█████████████▏                                        | 254/1044 [10:48<33:10,  2.52s/it]"
     ]
    },
    {
     "name": "stdout",
     "output_type": "stream",
     "text": [
      "Tokenizing...\n"
     ]
    },
    {
     "name": "stderr",
     "output_type": "stream",
     "text": [
      "PTBTokenizer tokenized 61766 tokens at 351435.64 tokens per second.\n",
      "Jul 19, 2024 4:31:12 PM edu.stanford.nlp.process.PTBLexer next\n",
      "WARNING: Untokenizable: � (U+FFFD, decimal: 65533)\n",
      "PTBTokenizer tokenized 11141 tokens at 60942.86 tokens per second.\n"
     ]
    },
    {
     "name": "stdout",
     "output_type": "stream",
     "text": [
      "Computing scores...\n",
      "Computing METEOR score...\n",
      "Computing CIDEr score...\n"
     ]
    },
    {
     "name": "stderr",
     "output_type": "stream",
     "text": [
      "Processing files:  24%|█████████████▏                                        | 255/1044 [10:51<33:04,  2.51s/it]"
     ]
    },
    {
     "name": "stdout",
     "output_type": "stream",
     "text": [
      "Tokenizing...\n"
     ]
    },
    {
     "name": "stderr",
     "output_type": "stream",
     "text": [
      "PTBTokenizer tokenized 61766 tokens at 339707.38 tokens per second.\n",
      "PTBTokenizer tokenized 9101 tokens at 76624.75 tokens per second.\n"
     ]
    },
    {
     "name": "stdout",
     "output_type": "stream",
     "text": [
      "Computing scores...\n",
      "Computing METEOR score...\n",
      "Computing CIDEr score...\n"
     ]
    },
    {
     "name": "stderr",
     "output_type": "stream",
     "text": [
      "Processing files:  25%|█████████████▏                                        | 256/1044 [10:53<33:00,  2.51s/it]"
     ]
    },
    {
     "name": "stdout",
     "output_type": "stream",
     "text": [
      "Tokenizing...\n"
     ]
    },
    {
     "name": "stderr",
     "output_type": "stream",
     "text": [
      "PTBTokenizer tokenized 61766 tokens at 332003.09 tokens per second.\n",
      "PTBTokenizer tokenized 7968 tokens at 81499.87 tokens per second.\n"
     ]
    },
    {
     "name": "stdout",
     "output_type": "stream",
     "text": [
      "Computing scores...\n",
      "Computing METEOR score...\n",
      "Computing CIDEr score...\n"
     ]
    },
    {
     "name": "stderr",
     "output_type": "stream",
     "text": [
      "Processing files:  25%|█████████████▎                                        | 257/1044 [10:56<32:53,  2.51s/it]"
     ]
    },
    {
     "name": "stdout",
     "output_type": "stream",
     "text": [
      "Tokenizing...\n"
     ]
    },
    {
     "name": "stderr",
     "output_type": "stream",
     "text": [
      "PTBTokenizer tokenized 61766 tokens at 359873.94 tokens per second.\n",
      "PTBTokenizer tokenized 9242 tokens at 89374.59 tokens per second.\n"
     ]
    },
    {
     "name": "stdout",
     "output_type": "stream",
     "text": [
      "Computing scores...\n",
      "Computing METEOR score...\n",
      "Computing CIDEr score...\n"
     ]
    },
    {
     "name": "stderr",
     "output_type": "stream",
     "text": [
      "Processing files:  25%|█████████████▎                                        | 258/1044 [10:58<32:51,  2.51s/it]"
     ]
    },
    {
     "name": "stdout",
     "output_type": "stream",
     "text": [
      "Tokenizing...\n"
     ]
    },
    {
     "name": "stderr",
     "output_type": "stream",
     "text": [
      "PTBTokenizer tokenized 61766 tokens at 330446.64 tokens per second.\n",
      "PTBTokenizer tokenized 9242 tokens at 81939.02 tokens per second.\n"
     ]
    },
    {
     "name": "stdout",
     "output_type": "stream",
     "text": [
      "Computing scores...\n",
      "Computing METEOR score...\n",
      "Computing CIDEr score...\n"
     ]
    },
    {
     "name": "stderr",
     "output_type": "stream",
     "text": [
      "Processing files:  25%|█████████████▍                                        | 259/1044 [11:01<32:56,  2.52s/it]"
     ]
    },
    {
     "name": "stdout",
     "output_type": "stream",
     "text": [
      "Tokenizing...\n"
     ]
    },
    {
     "name": "stderr",
     "output_type": "stream",
     "text": [
      "PTBTokenizer tokenized 61766 tokens at 317738.27 tokens per second.\n",
      "PTBTokenizer tokenized 9242 tokens at 85945.30 tokens per second.\n"
     ]
    },
    {
     "name": "stdout",
     "output_type": "stream",
     "text": [
      "Computing scores...\n",
      "Computing METEOR score...\n",
      "Computing CIDEr score...\n"
     ]
    },
    {
     "name": "stderr",
     "output_type": "stream",
     "text": [
      "Processing files:  25%|█████████████▍                                        | 260/1044 [11:03<32:59,  2.53s/it]"
     ]
    },
    {
     "name": "stdout",
     "output_type": "stream",
     "text": [
      "Tokenizing...\n"
     ]
    },
    {
     "name": "stderr",
     "output_type": "stream",
     "text": [
      "PTBTokenizer tokenized 61766 tokens at 333302.08 tokens per second.\n",
      "Jul 19, 2024 4:31:27 PM edu.stanford.nlp.process.PTBLexer next\n",
      "WARNING: Untokenizable: � (U+FFFD, decimal: 65533)\n",
      "PTBTokenizer tokenized 11173 tokens at 54126.61 tokens per second.\n"
     ]
    },
    {
     "name": "stdout",
     "output_type": "stream",
     "text": [
      "Computing scores...\n",
      "Computing METEOR score...\n",
      "Computing CIDEr score...\n"
     ]
    },
    {
     "name": "stderr",
     "output_type": "stream",
     "text": [
      "Processing files:  25%|█████████████▌                                        | 261/1044 [11:06<33:07,  2.54s/it]"
     ]
    },
    {
     "name": "stdout",
     "output_type": "stream",
     "text": [
      "Tokenizing...\n"
     ]
    },
    {
     "name": "stderr",
     "output_type": "stream",
     "text": [
      "PTBTokenizer tokenized 61766 tokens at 334534.24 tokens per second.\n",
      "PTBTokenizer tokenized 7968 tokens at 71364.25 tokens per second.\n"
     ]
    },
    {
     "name": "stdout",
     "output_type": "stream",
     "text": [
      "Computing scores...\n",
      "Computing METEOR score...\n",
      "Computing CIDEr score...\n"
     ]
    },
    {
     "name": "stderr",
     "output_type": "stream",
     "text": [
      "Processing files:  25%|█████████████▌                                        | 262/1044 [11:09<32:47,  2.52s/it]"
     ]
    },
    {
     "name": "stdout",
     "output_type": "stream",
     "text": [
      "Tokenizing...\n"
     ]
    },
    {
     "name": "stderr",
     "output_type": "stream",
     "text": [
      "PTBTokenizer tokenized 61766 tokens at 339607.45 tokens per second.\n",
      "PTBTokenizer tokenized 9104 tokens at 88034.70 tokens per second.\n"
     ]
    },
    {
     "name": "stdout",
     "output_type": "stream",
     "text": [
      "Computing scores...\n",
      "Computing METEOR score...\n",
      "Computing CIDEr score...\n"
     ]
    },
    {
     "name": "stderr",
     "output_type": "stream",
     "text": [
      "Processing files:  25%|█████████████▌                                        | 263/1044 [11:11<32:44,  2.52s/it]"
     ]
    },
    {
     "name": "stdout",
     "output_type": "stream",
     "text": [
      "Tokenizing...\n"
     ]
    },
    {
     "name": "stderr",
     "output_type": "stream",
     "text": [
      "PTBTokenizer tokenized 61766 tokens at 345595.70 tokens per second.\n",
      "PTBTokenizer tokenized 9242 tokens at 89755.35 tokens per second.\n"
     ]
    },
    {
     "name": "stdout",
     "output_type": "stream",
     "text": [
      "Computing scores...\n",
      "Computing METEOR score...\n",
      "Computing CIDEr score...\n"
     ]
    },
    {
     "name": "stderr",
     "output_type": "stream",
     "text": [
      "Processing files:  25%|█████████████▋                                        | 264/1044 [11:14<32:42,  2.52s/it]"
     ]
    },
    {
     "name": "stdout",
     "output_type": "stream",
     "text": [
      "Tokenizing...\n"
     ]
    },
    {
     "name": "stderr",
     "output_type": "stream",
     "text": [
      "PTBTokenizer tokenized 61766 tokens at 311766.91 tokens per second.\n",
      "PTBTokenizer tokenized 9254 tokens at 93466.43 tokens per second.\n"
     ]
    },
    {
     "name": "stdout",
     "output_type": "stream",
     "text": [
      "Computing scores...\n",
      "Computing METEOR score...\n",
      "Computing CIDEr score...\n"
     ]
    },
    {
     "name": "stderr",
     "output_type": "stream",
     "text": [
      "Processing files:  25%|█████████████▋                                        | 265/1044 [11:16<32:49,  2.53s/it]"
     ]
    },
    {
     "name": "stdout",
     "output_type": "stream",
     "text": [
      "Tokenizing...\n"
     ]
    },
    {
     "name": "stderr",
     "output_type": "stream",
     "text": [
      "PTBTokenizer tokenized 61766 tokens at 323636.86 tokens per second.\n",
      "PTBTokenizer tokenized 9143 tokens at 89118.04 tokens per second.\n"
     ]
    },
    {
     "name": "stdout",
     "output_type": "stream",
     "text": [
      "Computing scores...\n",
      "Computing METEOR score...\n",
      "Computing CIDEr score...\n"
     ]
    },
    {
     "name": "stderr",
     "output_type": "stream",
     "text": [
      "Processing files:  25%|█████████████▊                                        | 266/1044 [11:19<32:47,  2.53s/it]"
     ]
    },
    {
     "name": "stdout",
     "output_type": "stream",
     "text": [
      "Tokenizing...\n"
     ]
    },
    {
     "name": "stderr",
     "output_type": "stream",
     "text": [
      "PTBTokenizer tokenized 61766 tokens at 350714.37 tokens per second.\n",
      "Jul 19, 2024 4:31:42 PM edu.stanford.nlp.process.PTBLexer next\n",
      "WARNING: Untokenizable: � (U+FFFD, decimal: 65533)\n",
      "PTBTokenizer tokenized 13413 tokens at 74037.33 tokens per second.\n"
     ]
    },
    {
     "name": "stdout",
     "output_type": "stream",
     "text": [
      "Computing scores...\n",
      "Computing METEOR score...\n",
      "Computing CIDEr score...\n"
     ]
    },
    {
     "name": "stderr",
     "output_type": "stream",
     "text": [
      "Processing files:  26%|█████████████▊                                        | 267/1044 [11:21<32:29,  2.51s/it]"
     ]
    },
    {
     "name": "stdout",
     "output_type": "stream",
     "text": [
      "Tokenizing...\n"
     ]
    },
    {
     "name": "stderr",
     "output_type": "stream",
     "text": [
      "PTBTokenizer tokenized 61766 tokens at 300554.69 tokens per second.\n",
      "PTBTokenizer tokenized 9204 tokens at 90606.22 tokens per second.\n"
     ]
    },
    {
     "name": "stdout",
     "output_type": "stream",
     "text": [
      "Computing scores...\n",
      "Computing METEOR score...\n",
      "Computing CIDEr score...\n"
     ]
    },
    {
     "name": "stderr",
     "output_type": "stream",
     "text": [
      "Processing files:  26%|█████████████▊                                        | 268/1044 [11:24<32:44,  2.53s/it]"
     ]
    },
    {
     "name": "stdout",
     "output_type": "stream",
     "text": [
      "Tokenizing...\n"
     ]
    },
    {
     "name": "stderr",
     "output_type": "stream",
     "text": [
      "PTBTokenizer tokenized 61766 tokens at 338664.40 tokens per second.\n",
      "PTBTokenizer tokenized 9291 tokens at 88522.21 tokens per second.\n"
     ]
    },
    {
     "name": "stdout",
     "output_type": "stream",
     "text": [
      "Computing scores...\n",
      "Computing METEOR score...\n",
      "Computing CIDEr score...\n"
     ]
    },
    {
     "name": "stderr",
     "output_type": "stream",
     "text": [
      "Processing files:  26%|█████████████▉                                        | 269/1044 [11:26<32:41,  2.53s/it]"
     ]
    },
    {
     "name": "stdout",
     "output_type": "stream",
     "text": [
      "Tokenizing...\n"
     ]
    },
    {
     "name": "stderr",
     "output_type": "stream",
     "text": [
      "PTBTokenizer tokenized 61766 tokens at 343426.85 tokens per second.\n",
      "PTBTokenizer tokenized 9237 tokens at 93334.83 tokens per second.\n"
     ]
    },
    {
     "name": "stdout",
     "output_type": "stream",
     "text": [
      "Computing scores...\n",
      "Computing METEOR score...\n",
      "Computing CIDEr score...\n"
     ]
    },
    {
     "name": "stderr",
     "output_type": "stream",
     "text": [
      "Processing files:  26%|█████████████▉                                        | 270/1044 [11:29<32:47,  2.54s/it]"
     ]
    },
    {
     "name": "stdout",
     "output_type": "stream",
     "text": [
      "Tokenizing...\n"
     ]
    },
    {
     "name": "stderr",
     "output_type": "stream",
     "text": [
      "PTBTokenizer tokenized 61766 tokens at 307280.48 tokens per second.\n",
      "PTBTokenizer tokenized 10143 tokens at 93339.21 tokens per second.\n"
     ]
    },
    {
     "name": "stdout",
     "output_type": "stream",
     "text": [
      "Computing scores...\n",
      "Computing METEOR score...\n",
      "Computing CIDEr score...\n"
     ]
    },
    {
     "name": "stderr",
     "output_type": "stream",
     "text": [
      "Processing files:  26%|██████████████                                        | 271/1044 [11:32<33:29,  2.60s/it]"
     ]
    },
    {
     "name": "stdout",
     "output_type": "stream",
     "text": [
      "Tokenizing...\n"
     ]
    },
    {
     "name": "stderr",
     "output_type": "stream",
     "text": [
      "PTBTokenizer tokenized 61766 tokens at 312352.21 tokens per second.\n",
      "PTBTokenizer tokenized 9169 tokens at 81958.85 tokens per second.\n"
     ]
    },
    {
     "name": "stdout",
     "output_type": "stream",
     "text": [
      "Computing scores...\n",
      "Computing METEOR score...\n",
      "Computing CIDEr score...\n"
     ]
    },
    {
     "name": "stderr",
     "output_type": "stream",
     "text": [
      "Processing files:  26%|██████████████                                        | 272/1044 [11:34<33:19,  2.59s/it]"
     ]
    },
    {
     "name": "stdout",
     "output_type": "stream",
     "text": [
      "Tokenizing...\n"
     ]
    },
    {
     "name": "stderr",
     "output_type": "stream",
     "text": [
      "PTBTokenizer tokenized 61766 tokens at 277208.91 tokens per second.\n",
      "PTBTokenizer tokenized 9204 tokens at 73637.83 tokens per second.\n"
     ]
    },
    {
     "name": "stdout",
     "output_type": "stream",
     "text": [
      "Computing scores...\n",
      "Computing METEOR score...\n",
      "Computing CIDEr score...\n"
     ]
    },
    {
     "name": "stderr",
     "output_type": "stream",
     "text": [
      "Processing files:  26%|██████████████                                        | 273/1044 [11:37<33:14,  2.59s/it]"
     ]
    },
    {
     "name": "stdout",
     "output_type": "stream",
     "text": [
      "Tokenizing...\n"
     ]
    },
    {
     "name": "stderr",
     "output_type": "stream",
     "text": [
      "PTBTokenizer tokenized 61766 tokens at 329836.29 tokens per second.\n",
      "PTBTokenizer tokenized 8055 tokens at 82074.33 tokens per second.\n"
     ]
    },
    {
     "name": "stdout",
     "output_type": "stream",
     "text": [
      "Computing scores...\n",
      "Computing METEOR score...\n",
      "Computing CIDEr score...\n"
     ]
    },
    {
     "name": "stderr",
     "output_type": "stream",
     "text": [
      "Processing files:  26%|██████████████▏                                       | 274/1044 [11:39<33:08,  2.58s/it]"
     ]
    },
    {
     "name": "stdout",
     "output_type": "stream",
     "text": [
      "Tokenizing...\n"
     ]
    },
    {
     "name": "stderr",
     "output_type": "stream",
     "text": [
      "PTBTokenizer tokenized 61766 tokens at 311961.61 tokens per second.\n",
      "PTBTokenizer tokenized 11791 tokens at 106310.97 tokens per second.\n"
     ]
    },
    {
     "name": "stdout",
     "output_type": "stream",
     "text": [
      "Computing scores...\n",
      "Computing METEOR score...\n",
      "Computing CIDEr score...\n"
     ]
    },
    {
     "name": "stderr",
     "output_type": "stream",
     "text": [
      "Processing files:  26%|██████████████▏                                       | 275/1044 [11:42<33:21,  2.60s/it]"
     ]
    },
    {
     "name": "stdout",
     "output_type": "stream",
     "text": [
      "Tokenizing...\n"
     ]
    },
    {
     "name": "stderr",
     "output_type": "stream",
     "text": [
      "PTBTokenizer tokenized 61766 tokens at 332021.81 tokens per second.\n",
      "PTBTokenizer tokenized 9242 tokens at 88739.56 tokens per second.\n"
     ]
    },
    {
     "name": "stdout",
     "output_type": "stream",
     "text": [
      "Computing scores...\n",
      "Computing METEOR score...\n",
      "Computing CIDEr score...\n"
     ]
    },
    {
     "name": "stderr",
     "output_type": "stream",
     "text": [
      "Processing files:  26%|██████████████▎                                       | 276/1044 [11:44<33:02,  2.58s/it]"
     ]
    },
    {
     "name": "stdout",
     "output_type": "stream",
     "text": [
      "Tokenizing...\n"
     ]
    },
    {
     "name": "stderr",
     "output_type": "stream",
     "text": [
      "PTBTokenizer tokenized 61766 tokens at 356490.25 tokens per second.\n",
      "PTBTokenizer tokenized 9152 tokens at 90996.91 tokens per second.\n"
     ]
    },
    {
     "name": "stdout",
     "output_type": "stream",
     "text": [
      "Computing scores...\n",
      "Computing METEOR score...\n",
      "Computing CIDEr score...\n"
     ]
    },
    {
     "name": "stderr",
     "output_type": "stream",
     "text": [
      "Processing files:  27%|██████████████▎                                       | 277/1044 [11:47<32:31,  2.54s/it]"
     ]
    },
    {
     "name": "stdout",
     "output_type": "stream",
     "text": [
      "Tokenizing...\n"
     ]
    },
    {
     "name": "stderr",
     "output_type": "stream",
     "text": [
      "PTBTokenizer tokenized 61766 tokens at 321120.90 tokens per second.\n",
      "PTBTokenizer tokenized 9208 tokens at 85001.03 tokens per second.\n"
     ]
    },
    {
     "name": "stdout",
     "output_type": "stream",
     "text": [
      "Computing scores...\n",
      "Computing METEOR score...\n",
      "Computing CIDEr score...\n"
     ]
    },
    {
     "name": "stderr",
     "output_type": "stream",
     "text": [
      "Processing files:  27%|██████████████▍                                       | 278/1044 [11:49<32:16,  2.53s/it]"
     ]
    },
    {
     "name": "stdout",
     "output_type": "stream",
     "text": [
      "Tokenizing...\n"
     ]
    },
    {
     "name": "stderr",
     "output_type": "stream",
     "text": [
      "PTBTokenizer tokenized 61766 tokens at 326309.36 tokens per second.\n",
      "PTBTokenizer tokenized 8089 tokens at 83327.68 tokens per second.\n"
     ]
    },
    {
     "name": "stdout",
     "output_type": "stream",
     "text": [
      "Computing scores...\n",
      "Computing METEOR score...\n",
      "Computing CIDEr score...\n"
     ]
    },
    {
     "name": "stderr",
     "output_type": "stream",
     "text": [
      "Processing files:  27%|██████████████▍                                       | 279/1044 [11:52<32:00,  2.51s/it]"
     ]
    },
    {
     "name": "stdout",
     "output_type": "stream",
     "text": [
      "Tokenizing...\n"
     ]
    },
    {
     "name": "stderr",
     "output_type": "stream",
     "text": [
      "PTBTokenizer tokenized 61766 tokens at 346593.76 tokens per second.\n",
      "PTBTokenizer tokenized 7968 tokens at 69026.70 tokens per second.\n"
     ]
    },
    {
     "name": "stdout",
     "output_type": "stream",
     "text": [
      "Computing scores...\n",
      "Computing METEOR score...\n",
      "Computing CIDEr score...\n"
     ]
    },
    {
     "name": "stderr",
     "output_type": "stream",
     "text": [
      "Processing files:  27%|██████████████▍                                       | 280/1044 [11:54<31:30,  2.47s/it]"
     ]
    },
    {
     "name": "stdout",
     "output_type": "stream",
     "text": [
      "Tokenizing...\n"
     ]
    },
    {
     "name": "stderr",
     "output_type": "stream",
     "text": [
      "PTBTokenizer tokenized 61766 tokens at 314081.09 tokens per second.\n",
      "PTBTokenizer tokenized 9242 tokens at 89932.31 tokens per second.\n"
     ]
    },
    {
     "name": "stdout",
     "output_type": "stream",
     "text": [
      "Computing scores...\n",
      "Computing METEOR score...\n",
      "Computing CIDEr score...\n"
     ]
    },
    {
     "name": "stderr",
     "output_type": "stream",
     "text": [
      "Processing files:  27%|██████████████▌                                       | 281/1044 [11:57<31:39,  2.49s/it]"
     ]
    },
    {
     "name": "stdout",
     "output_type": "stream",
     "text": [
      "Tokenizing...\n"
     ]
    },
    {
     "name": "stderr",
     "output_type": "stream",
     "text": [
      "PTBTokenizer tokenized 61766 tokens at 314569.69 tokens per second.\n",
      "PTBTokenizer tokenized 7968 tokens at 73696.47 tokens per second.\n"
     ]
    },
    {
     "name": "stdout",
     "output_type": "stream",
     "text": [
      "Computing scores...\n",
      "Computing METEOR score...\n",
      "Computing CIDEr score...\n"
     ]
    },
    {
     "name": "stderr",
     "output_type": "stream",
     "text": [
      "Processing files:  27%|██████████████▌                                       | 282/1044 [11:59<31:38,  2.49s/it]"
     ]
    },
    {
     "name": "stdout",
     "output_type": "stream",
     "text": [
      "Tokenizing...\n"
     ]
    },
    {
     "name": "stderr",
     "output_type": "stream",
     "text": [
      "PTBTokenizer tokenized 61766 tokens at 318053.04 tokens per second.\n",
      "PTBTokenizer tokenized 8541 tokens at 84076.78 tokens per second.\n"
     ]
    },
    {
     "name": "stdout",
     "output_type": "stream",
     "text": [
      "Computing scores...\n",
      "Computing METEOR score...\n",
      "Computing CIDEr score...\n"
     ]
    },
    {
     "name": "stderr",
     "output_type": "stream",
     "text": [
      "Processing files:  27%|██████████████▋                                       | 283/1044 [12:02<31:56,  2.52s/it]"
     ]
    },
    {
     "name": "stdout",
     "output_type": "stream",
     "text": [
      "Tokenizing...\n"
     ]
    },
    {
     "name": "stderr",
     "output_type": "stream",
     "text": [
      "PTBTokenizer tokenized 61766 tokens at 338551.34 tokens per second.\n",
      "PTBTokenizer tokenized 9242 tokens at 91536.87 tokens per second.\n"
     ]
    },
    {
     "name": "stdout",
     "output_type": "stream",
     "text": [
      "Computing scores...\n",
      "Computing METEOR score...\n",
      "Computing CIDEr score...\n"
     ]
    },
    {
     "name": "stderr",
     "output_type": "stream",
     "text": [
      "Processing files:  27%|██████████████▋                                       | 284/1044 [12:04<31:46,  2.51s/it]"
     ]
    },
    {
     "name": "stdout",
     "output_type": "stream",
     "text": [
      "Tokenizing...\n"
     ]
    },
    {
     "name": "stderr",
     "output_type": "stream",
     "text": [
      "PTBTokenizer tokenized 61766 tokens at 342561.13 tokens per second.\n",
      "PTBTokenizer tokenized 9229 tokens at 88614.20 tokens per second.\n"
     ]
    },
    {
     "name": "stdout",
     "output_type": "stream",
     "text": [
      "Computing scores...\n",
      "Computing METEOR score...\n",
      "Computing CIDEr score...\n"
     ]
    },
    {
     "name": "stderr",
     "output_type": "stream",
     "text": [
      "Processing files:  27%|██████████████▋                                       | 285/1044 [12:07<31:52,  2.52s/it]"
     ]
    },
    {
     "name": "stdout",
     "output_type": "stream",
     "text": [
      "Tokenizing...\n"
     ]
    },
    {
     "name": "stderr",
     "output_type": "stream",
     "text": [
      "PTBTokenizer tokenized 61766 tokens at 338220.34 tokens per second.\n",
      "PTBTokenizer tokenized 9233 tokens at 87066.97 tokens per second.\n"
     ]
    },
    {
     "name": "stdout",
     "output_type": "stream",
     "text": [
      "Computing scores...\n",
      "Computing METEOR score...\n",
      "Computing CIDEr score...\n"
     ]
    },
    {
     "name": "stderr",
     "output_type": "stream",
     "text": [
      "Processing files:  27%|██████████████▊                                       | 286/1044 [12:09<32:04,  2.54s/it]"
     ]
    },
    {
     "name": "stdout",
     "output_type": "stream",
     "text": [
      "Tokenizing...\n"
     ]
    },
    {
     "name": "stderr",
     "output_type": "stream",
     "text": [
      "PTBTokenizer tokenized 61766 tokens at 324775.45 tokens per second.\n",
      "PTBTokenizer tokenized 9184 tokens at 89652.10 tokens per second.\n"
     ]
    },
    {
     "name": "stdout",
     "output_type": "stream",
     "text": [
      "Computing scores...\n",
      "Computing METEOR score...\n",
      "Computing CIDEr score...\n"
     ]
    },
    {
     "name": "stderr",
     "output_type": "stream",
     "text": [
      "Processing files:  27%|██████████████▊                                       | 287/1044 [12:12<32:08,  2.55s/it]"
     ]
    },
    {
     "name": "stdout",
     "output_type": "stream",
     "text": [
      "Tokenizing...\n"
     ]
    },
    {
     "name": "stderr",
     "output_type": "stream",
     "text": [
      "PTBTokenizer tokenized 61766 tokens at 334298.37 tokens per second.\n",
      "PTBTokenizer tokenized 9242 tokens at 93005.18 tokens per second.\n"
     ]
    },
    {
     "name": "stdout",
     "output_type": "stream",
     "text": [
      "Computing scores...\n",
      "Computing METEOR score...\n",
      "Computing CIDEr score...\n"
     ]
    },
    {
     "name": "stderr",
     "output_type": "stream",
     "text": [
      "Processing files:  28%|██████████████▉                                       | 288/1044 [12:15<31:52,  2.53s/it]"
     ]
    },
    {
     "name": "stdout",
     "output_type": "stream",
     "text": [
      "Tokenizing...\n"
     ]
    },
    {
     "name": "stderr",
     "output_type": "stream",
     "text": [
      "PTBTokenizer tokenized 61766 tokens at 346696.60 tokens per second.\n",
      "PTBTokenizer tokenized 8007 tokens at 80489.01 tokens per second.\n"
     ]
    },
    {
     "name": "stdout",
     "output_type": "stream",
     "text": [
      "Computing scores...\n",
      "Computing METEOR score...\n",
      "Computing CIDEr score...\n"
     ]
    },
    {
     "name": "stderr",
     "output_type": "stream",
     "text": [
      "Processing files:  28%|██████████████▉                                       | 289/1044 [12:17<31:19,  2.49s/it]"
     ]
    },
    {
     "name": "stdout",
     "output_type": "stream",
     "text": [
      "Tokenizing...\n"
     ]
    },
    {
     "name": "stderr",
     "output_type": "stream",
     "text": [
      "PTBTokenizer tokenized 61766 tokens at 293733.65 tokens per second.\n",
      "PTBTokenizer tokenized 9239 tokens at 91475.58 tokens per second.\n"
     ]
    },
    {
     "name": "stdout",
     "output_type": "stream",
     "text": [
      "Computing scores...\n",
      "Computing METEOR score...\n",
      "Computing CIDEr score...\n"
     ]
    },
    {
     "name": "stderr",
     "output_type": "stream",
     "text": [
      "Processing files:  28%|███████████████                                       | 290/1044 [12:19<31:31,  2.51s/it]"
     ]
    },
    {
     "name": "stdout",
     "output_type": "stream",
     "text": [
      "Tokenizing...\n"
     ]
    },
    {
     "name": "stderr",
     "output_type": "stream",
     "text": [
      "PTBTokenizer tokenized 61766 tokens at 358195.48 tokens per second.\n",
      "Jul 19, 2024 4:32:43 PM edu.stanford.nlp.process.PTBLexer next\n",
      "WARNING: Untokenizable: � (U+FFFD, decimal: 65533)\n",
      "PTBTokenizer tokenized 17504 tokens at 107551.02 tokens per second.\n"
     ]
    },
    {
     "name": "stdout",
     "output_type": "stream",
     "text": [
      "Computing scores...\n",
      "Computing METEOR score...\n",
      "Computing CIDEr score...\n"
     ]
    },
    {
     "name": "stderr",
     "output_type": "stream",
     "text": [
      "Processing files:  28%|███████████████                                       | 291/1044 [12:22<33:17,  2.65s/it]"
     ]
    },
    {
     "name": "stdout",
     "output_type": "stream",
     "text": [
      "Tokenizing...\n"
     ]
    },
    {
     "name": "stderr",
     "output_type": "stream",
     "text": [
      "PTBTokenizer tokenized 61766 tokens at 334862.09 tokens per second.\n",
      "PTBTokenizer tokenized 9242 tokens at 91614.75 tokens per second.\n"
     ]
    },
    {
     "name": "stdout",
     "output_type": "stream",
     "text": [
      "Computing scores...\n",
      "Computing METEOR score...\n",
      "Computing CIDEr score...\n"
     ]
    },
    {
     "name": "stderr",
     "output_type": "stream",
     "text": [
      "Processing files:  28%|███████████████                                       | 292/1044 [12:25<33:05,  2.64s/it]"
     ]
    },
    {
     "name": "stdout",
     "output_type": "stream",
     "text": [
      "Tokenizing...\n"
     ]
    },
    {
     "name": "stderr",
     "output_type": "stream",
     "text": [
      "PTBTokenizer tokenized 61766 tokens at 332269.57 tokens per second.\n",
      "PTBTokenizer tokenized 9151 tokens at 87833.21 tokens per second.\n"
     ]
    },
    {
     "name": "stdout",
     "output_type": "stream",
     "text": [
      "Computing scores...\n",
      "Computing METEOR score...\n",
      "Computing CIDEr score...\n"
     ]
    },
    {
     "name": "stderr",
     "output_type": "stream",
     "text": [
      "Processing files:  28%|███████████████▏                                      | 293/1044 [12:27<32:14,  2.58s/it]"
     ]
    },
    {
     "name": "stdout",
     "output_type": "stream",
     "text": [
      "Tokenizing...\n"
     ]
    },
    {
     "name": "stderr",
     "output_type": "stream",
     "text": [
      "PTBTokenizer tokenized 61766 tokens at 344472.69 tokens per second.\n",
      "PTBTokenizer tokenized 9242 tokens at 87414.95 tokens per second.\n"
     ]
    },
    {
     "name": "stdout",
     "output_type": "stream",
     "text": [
      "Computing scores...\n",
      "Computing METEOR score...\n",
      "Computing CIDEr score...\n"
     ]
    },
    {
     "name": "stderr",
     "output_type": "stream",
     "text": [
      "Processing files:  28%|███████████████▏                                      | 294/1044 [12:30<32:11,  2.58s/it]"
     ]
    },
    {
     "name": "stdout",
     "output_type": "stream",
     "text": [
      "Tokenizing...\n"
     ]
    },
    {
     "name": "stderr",
     "output_type": "stream",
     "text": [
      "PTBTokenizer tokenized 61766 tokens at 324081.28 tokens per second.\n",
      "PTBTokenizer tokenized 9231 tokens at 82700.04 tokens per second.\n"
     ]
    },
    {
     "name": "stdout",
     "output_type": "stream",
     "text": [
      "Computing scores...\n",
      "Computing METEOR score...\n",
      "Computing CIDEr score...\n"
     ]
    },
    {
     "name": "stderr",
     "output_type": "stream",
     "text": [
      "Processing files:  28%|███████████████▎                                      | 295/1044 [12:33<32:11,  2.58s/it]"
     ]
    },
    {
     "name": "stdout",
     "output_type": "stream",
     "text": [
      "Tokenizing...\n"
     ]
    },
    {
     "name": "stderr",
     "output_type": "stream",
     "text": [
      "PTBTokenizer tokenized 61766 tokens at 338791.74 tokens per second.\n",
      "PTBTokenizer tokenized 9289 tokens at 77375.58 tokens per second.\n"
     ]
    },
    {
     "name": "stdout",
     "output_type": "stream",
     "text": [
      "Computing scores...\n",
      "Computing METEOR score...\n",
      "Computing CIDEr score...\n"
     ]
    },
    {
     "name": "stderr",
     "output_type": "stream",
     "text": [
      "Processing files:  28%|███████████████▎                                      | 296/1044 [12:35<32:00,  2.57s/it]"
     ]
    },
    {
     "name": "stdout",
     "output_type": "stream",
     "text": [
      "Tokenizing...\n"
     ]
    },
    {
     "name": "stderr",
     "output_type": "stream",
     "text": [
      "PTBTokenizer tokenized 61766 tokens at 326908.87 tokens per second.\n",
      "PTBTokenizer tokenized 7776 tokens at 73840.85 tokens per second.\n"
     ]
    },
    {
     "name": "stdout",
     "output_type": "stream",
     "text": [
      "Computing scores...\n",
      "Computing METEOR score...\n",
      "Computing CIDEr score...\n"
     ]
    },
    {
     "name": "stderr",
     "output_type": "stream",
     "text": [
      "Processing files:  28%|███████████████▎                                      | 297/1044 [12:38<31:25,  2.52s/it]"
     ]
    },
    {
     "name": "stdout",
     "output_type": "stream",
     "text": [
      "Tokenizing...\n"
     ]
    },
    {
     "name": "stderr",
     "output_type": "stream",
     "text": [
      "PTBTokenizer tokenized 61766 tokens at 307843.75 tokens per second.\n",
      "PTBTokenizer tokenized 8523 tokens at 79421.22 tokens per second.\n"
     ]
    },
    {
     "name": "stdout",
     "output_type": "stream",
     "text": [
      "Computing scores...\n",
      "Computing METEOR score...\n",
      "Computing CIDEr score...\n"
     ]
    },
    {
     "name": "stderr",
     "output_type": "stream",
     "text": [
      "Processing files:  29%|███████████████▍                                      | 298/1044 [12:40<31:28,  2.53s/it]"
     ]
    },
    {
     "name": "stdout",
     "output_type": "stream",
     "text": [
      "Tokenizing...\n"
     ]
    },
    {
     "name": "stderr",
     "output_type": "stream",
     "text": [
      "PTBTokenizer tokenized 61766 tokens at 353697.49 tokens per second.\n",
      "Jul 19, 2024 4:33:04 PM edu.stanford.nlp.process.PTBLexer next\n",
      "WARNING: Untokenizable: � (U+FFFD, decimal: 65533)\n",
      "PTBTokenizer tokenized 17487 tokens at 103126.15 tokens per second.\n"
     ]
    },
    {
     "name": "stdout",
     "output_type": "stream",
     "text": [
      "Computing scores...\n",
      "Computing METEOR score...\n",
      "Computing CIDEr score...\n"
     ]
    },
    {
     "name": "stderr",
     "output_type": "stream",
     "text": [
      "Processing files:  29%|███████████████▍                                      | 299/1044 [12:43<33:21,  2.69s/it]"
     ]
    },
    {
     "name": "stdout",
     "output_type": "stream",
     "text": [
      "Tokenizing...\n"
     ]
    },
    {
     "name": "stderr",
     "output_type": "stream",
     "text": [
      "PTBTokenizer tokenized 61766 tokens at 327773.39 tokens per second.\n",
      "PTBTokenizer tokenized 9242 tokens at 89784.58 tokens per second.\n"
     ]
    },
    {
     "name": "stdout",
     "output_type": "stream",
     "text": [
      "Computing scores...\n",
      "Computing METEOR score...\n",
      "Computing CIDEr score...\n"
     ]
    },
    {
     "name": "stderr",
     "output_type": "stream",
     "text": [
      "Processing files:  29%|███████████████▌                                      | 300/1044 [12:46<32:53,  2.65s/it]"
     ]
    },
    {
     "name": "stdout",
     "output_type": "stream",
     "text": [
      "Tokenizing...\n"
     ]
    },
    {
     "name": "stderr",
     "output_type": "stream",
     "text": [
      "PTBTokenizer tokenized 61766 tokens at 326957.42 tokens per second.\n",
      "PTBTokenizer tokenized 9242 tokens at 88205.89 tokens per second.\n"
     ]
    },
    {
     "name": "stdout",
     "output_type": "stream",
     "text": [
      "Computing scores...\n",
      "Computing METEOR score...\n",
      "Computing CIDEr score...\n"
     ]
    },
    {
     "name": "stderr",
     "output_type": "stream",
     "text": [
      "Processing files:  29%|███████████████▌                                      | 301/1044 [12:48<32:30,  2.62s/it]"
     ]
    },
    {
     "name": "stdout",
     "output_type": "stream",
     "text": [
      "Tokenizing...\n"
     ]
    },
    {
     "name": "stderr",
     "output_type": "stream",
     "text": [
      "PTBTokenizer tokenized 61766 tokens at 306427.71 tokens per second.\n",
      "Jul 19, 2024 4:33:12 PM edu.stanford.nlp.process.PTBLexer next\n",
      "WARNING: Untokenizable: � (U+FFFD, decimal: 65533)\n",
      "PTBTokenizer tokenized 17347 tokens at 109372.42 tokens per second.\n"
     ]
    },
    {
     "name": "stdout",
     "output_type": "stream",
     "text": [
      "Computing scores...\n",
      "Computing METEOR score...\n",
      "Computing CIDEr score...\n"
     ]
    },
    {
     "name": "stderr",
     "output_type": "stream",
     "text": [
      "Processing files:  29%|███████████████▌                                      | 302/1044 [12:51<33:52,  2.74s/it]"
     ]
    },
    {
     "name": "stdout",
     "output_type": "stream",
     "text": [
      "Tokenizing...\n"
     ]
    },
    {
     "name": "stderr",
     "output_type": "stream",
     "text": [
      "PTBTokenizer tokenized 61766 tokens at 346932.71 tokens per second.\n",
      "PTBTokenizer tokenized 9242 tokens at 93065.41 tokens per second.\n"
     ]
    },
    {
     "name": "stdout",
     "output_type": "stream",
     "text": [
      "Computing scores...\n",
      "Computing METEOR score...\n",
      "Computing CIDEr score...\n"
     ]
    },
    {
     "name": "stderr",
     "output_type": "stream",
     "text": [
      "Processing files:  29%|███████████████▋                                      | 303/1044 [12:54<33:06,  2.68s/it]"
     ]
    },
    {
     "name": "stdout",
     "output_type": "stream",
     "text": [
      "Tokenizing...\n"
     ]
    },
    {
     "name": "stderr",
     "output_type": "stream",
     "text": [
      "PTBTokenizer tokenized 61766 tokens at 346288.78 tokens per second.\n",
      "Jul 19, 2024 4:33:18 PM edu.stanford.nlp.process.PTBLexer next\n",
      "WARNING: Untokenizable: � (U+FFFD, decimal: 65533)\n",
      "PTBTokenizer tokenized 14575 tokens at 82306.83 tokens per second.\n"
     ]
    },
    {
     "name": "stdout",
     "output_type": "stream",
     "text": [
      "Computing scores...\n",
      "Computing METEOR score...\n",
      "Computing CIDEr score...\n"
     ]
    },
    {
     "name": "stderr",
     "output_type": "stream",
     "text": [
      "Processing files:  29%|███████████████▋                                      | 304/1044 [12:56<32:27,  2.63s/it]"
     ]
    },
    {
     "name": "stdout",
     "output_type": "stream",
     "text": [
      "Tokenizing...\n"
     ]
    },
    {
     "name": "stderr",
     "output_type": "stream",
     "text": [
      "PTBTokenizer tokenized 61766 tokens at 328636.58 tokens per second.\n",
      "PTBTokenizer tokenized 7982 tokens at 81825.03 tokens per second.\n"
     ]
    },
    {
     "name": "stdout",
     "output_type": "stream",
     "text": [
      "Computing scores...\n",
      "Computing METEOR score...\n",
      "Computing CIDEr score...\n"
     ]
    },
    {
     "name": "stderr",
     "output_type": "stream",
     "text": [
      "Processing files:  29%|███████████████▊                                      | 305/1044 [12:59<31:40,  2.57s/it]"
     ]
    },
    {
     "name": "stdout",
     "output_type": "stream",
     "text": [
      "Tokenizing...\n"
     ]
    },
    {
     "name": "stderr",
     "output_type": "stream",
     "text": [
      "PTBTokenizer tokenized 61766 tokens at 287217.17 tokens per second.\n",
      "PTBTokenizer tokenized 9233 tokens at 90113.04 tokens per second.\n"
     ]
    },
    {
     "name": "stdout",
     "output_type": "stream",
     "text": [
      "Computing scores...\n",
      "Computing METEOR score...\n",
      "Computing CIDEr score...\n"
     ]
    },
    {
     "name": "stderr",
     "output_type": "stream",
     "text": [
      "Processing files:  29%|███████████████▊                                      | 306/1044 [13:01<31:48,  2.59s/it]"
     ]
    },
    {
     "name": "stdout",
     "output_type": "stream",
     "text": [
      "Tokenizing...\n"
     ]
    },
    {
     "name": "stderr",
     "output_type": "stream",
     "text": [
      "PTBTokenizer tokenized 61766 tokens at 314712.35 tokens per second.\n",
      "PTBTokenizer tokenized 9242 tokens at 88701.57 tokens per second.\n"
     ]
    },
    {
     "name": "stdout",
     "output_type": "stream",
     "text": [
      "Computing scores...\n",
      "Computing METEOR score...\n",
      "Computing CIDEr score...\n"
     ]
    },
    {
     "name": "stderr",
     "output_type": "stream",
     "text": [
      "Processing files:  29%|███████████████▉                                      | 307/1044 [13:04<31:28,  2.56s/it]"
     ]
    },
    {
     "name": "stdout",
     "output_type": "stream",
     "text": [
      "Tokenizing...\n"
     ]
    },
    {
     "name": "stderr",
     "output_type": "stream",
     "text": [
      "PTBTokenizer tokenized 61766 tokens at 354341.63 tokens per second.\n",
      "PTBTokenizer tokenized 9079 tokens at 87785.47 tokens per second.\n"
     ]
    },
    {
     "name": "stdout",
     "output_type": "stream",
     "text": [
      "Computing scores...\n",
      "Computing METEOR score...\n",
      "Computing CIDEr score...\n"
     ]
    },
    {
     "name": "stderr",
     "output_type": "stream",
     "text": [
      "Processing files:  30%|███████████████▉                                      | 308/1044 [13:06<31:08,  2.54s/it]"
     ]
    },
    {
     "name": "stdout",
     "output_type": "stream",
     "text": [
      "Tokenizing...\n"
     ]
    },
    {
     "name": "stderr",
     "output_type": "stream",
     "text": [
      "PTBTokenizer tokenized 61766 tokens at 299461.36 tokens per second.\n",
      "PTBTokenizer tokenized 9242 tokens at 89143.30 tokens per second.\n"
     ]
    },
    {
     "name": "stdout",
     "output_type": "stream",
     "text": [
      "Computing scores...\n",
      "Computing METEOR score...\n",
      "Computing CIDEr score...\n"
     ]
    },
    {
     "name": "stderr",
     "output_type": "stream",
     "text": [
      "Processing files:  30%|███████████████▉                                      | 309/1044 [13:09<31:02,  2.53s/it]"
     ]
    },
    {
     "name": "stdout",
     "output_type": "stream",
     "text": [
      "Tokenizing...\n"
     ]
    },
    {
     "name": "stderr",
     "output_type": "stream",
     "text": [
      "PTBTokenizer tokenized 61766 tokens at 320193.79 tokens per second.\n",
      "PTBTokenizer tokenized 9242 tokens at 91322.94 tokens per second.\n"
     ]
    },
    {
     "name": "stdout",
     "output_type": "stream",
     "text": [
      "Computing scores...\n",
      "Computing METEOR score...\n",
      "Computing CIDEr score...\n"
     ]
    },
    {
     "name": "stderr",
     "output_type": "stream",
     "text": [
      "Processing files:  30%|████████████████                                      | 310/1044 [13:11<30:55,  2.53s/it]"
     ]
    },
    {
     "name": "stdout",
     "output_type": "stream",
     "text": [
      "Tokenizing...\n"
     ]
    },
    {
     "name": "stderr",
     "output_type": "stream",
     "text": [
      "PTBTokenizer tokenized 61766 tokens at 329642.44 tokens per second.\n",
      "PTBTokenizer tokenized 7968 tokens at 78484.35 tokens per second.\n"
     ]
    },
    {
     "name": "stdout",
     "output_type": "stream",
     "text": [
      "Computing scores...\n",
      "Computing METEOR score...\n",
      "Computing CIDEr score...\n"
     ]
    },
    {
     "name": "stderr",
     "output_type": "stream",
     "text": [
      "Processing files:  30%|████████████████                                      | 311/1044 [13:14<30:35,  2.50s/it]"
     ]
    },
    {
     "name": "stdout",
     "output_type": "stream",
     "text": [
      "Tokenizing...\n"
     ]
    },
    {
     "name": "stderr",
     "output_type": "stream",
     "text": [
      "PTBTokenizer tokenized 61766 tokens at 336350.49 tokens per second.\n",
      "PTBTokenizer tokenized 8497 tokens at 83122.71 tokens per second.\n"
     ]
    },
    {
     "name": "stdout",
     "output_type": "stream",
     "text": [
      "Computing scores...\n",
      "Computing METEOR score...\n",
      "Computing CIDEr score...\n"
     ]
    },
    {
     "name": "stderr",
     "output_type": "stream",
     "text": [
      "Processing files:  30%|████████████████▏                                     | 312/1044 [13:16<30:22,  2.49s/it]"
     ]
    },
    {
     "name": "stdout",
     "output_type": "stream",
     "text": [
      "Tokenizing...\n"
     ]
    },
    {
     "name": "stderr",
     "output_type": "stream",
     "text": [
      "PTBTokenizer tokenized 61766 tokens at 348150.49 tokens per second.\n",
      "PTBTokenizer tokenized 9354 tokens at 93812.00 tokens per second.\n"
     ]
    },
    {
     "name": "stdout",
     "output_type": "stream",
     "text": [
      "Computing scores...\n",
      "Computing METEOR score...\n",
      "Computing CIDEr score...\n"
     ]
    },
    {
     "name": "stderr",
     "output_type": "stream",
     "text": [
      "Processing files:  30%|████████████████▏                                     | 313/1044 [13:19<30:19,  2.49s/it]"
     ]
    },
    {
     "name": "stdout",
     "output_type": "stream",
     "text": [
      "Tokenizing...\n"
     ]
    },
    {
     "name": "stderr",
     "output_type": "stream",
     "text": [
      "PTBTokenizer tokenized 61766 tokens at 331242.84 tokens per second.\n",
      "PTBTokenizer tokenized 9112 tokens at 89844.86 tokens per second.\n"
     ]
    },
    {
     "name": "stdout",
     "output_type": "stream",
     "text": [
      "Computing scores...\n",
      "Computing METEOR score...\n",
      "Computing CIDEr score...\n"
     ]
    },
    {
     "name": "stderr",
     "output_type": "stream",
     "text": [
      "Processing files:  30%|████████████████▏                                     | 314/1044 [13:21<30:11,  2.48s/it]"
     ]
    },
    {
     "name": "stdout",
     "output_type": "stream",
     "text": [
      "Tokenizing...\n"
     ]
    },
    {
     "name": "stderr",
     "output_type": "stream",
     "text": [
      "PTBTokenizer tokenized 61766 tokens at 350840.75 tokens per second.\n",
      "PTBTokenizer tokenized 9152 tokens at 88072.67 tokens per second.\n"
     ]
    },
    {
     "name": "stdout",
     "output_type": "stream",
     "text": [
      "Computing scores...\n",
      "Computing METEOR score...\n",
      "Computing CIDEr score...\n"
     ]
    },
    {
     "name": "stderr",
     "output_type": "stream",
     "text": [
      "Processing files:  30%|████████████████▎                                     | 315/1044 [13:24<29:59,  2.47s/it]"
     ]
    },
    {
     "name": "stdout",
     "output_type": "stream",
     "text": [
      "Tokenizing...\n"
     ]
    },
    {
     "name": "stderr",
     "output_type": "stream",
     "text": [
      "PTBTokenizer tokenized 61766 tokens at 336561.14 tokens per second.\n",
      "PTBTokenizer tokenized 9376 tokens at 90382.77 tokens per second.\n"
     ]
    },
    {
     "name": "stdout",
     "output_type": "stream",
     "text": [
      "Computing scores...\n",
      "Computing METEOR score...\n",
      "Computing CIDEr score...\n"
     ]
    },
    {
     "name": "stderr",
     "output_type": "stream",
     "text": [
      "Processing files:  30%|████████████████▎                                     | 316/1044 [13:26<30:01,  2.47s/it]"
     ]
    },
    {
     "name": "stdout",
     "output_type": "stream",
     "text": [
      "Tokenizing...\n"
     ]
    },
    {
     "name": "stderr",
     "output_type": "stream",
     "text": [
      "PTBTokenizer tokenized 61766 tokens at 345266.22 tokens per second.\n",
      "PTBTokenizer tokenized 9242 tokens at 90112.58 tokens per second.\n"
     ]
    },
    {
     "name": "stdout",
     "output_type": "stream",
     "text": [
      "Computing scores...\n",
      "Computing METEOR score...\n",
      "Computing CIDEr score...\n"
     ]
    },
    {
     "name": "stderr",
     "output_type": "stream",
     "text": [
      "Processing files:  30%|████████████████▍                                     | 317/1044 [13:29<30:03,  2.48s/it]"
     ]
    },
    {
     "name": "stdout",
     "output_type": "stream",
     "text": [
      "Tokenizing...\n"
     ]
    },
    {
     "name": "stderr",
     "output_type": "stream",
     "text": [
      "PTBTokenizer tokenized 61766 tokens at 323327.44 tokens per second.\n",
      "PTBTokenizer tokenized 9200 tokens at 90520.64 tokens per second.\n"
     ]
    },
    {
     "name": "stdout",
     "output_type": "stream",
     "text": [
      "Computing scores...\n",
      "Computing METEOR score...\n",
      "Computing CIDEr score...\n"
     ]
    },
    {
     "name": "stderr",
     "output_type": "stream",
     "text": [
      "Processing files:  30%|████████████████▍                                     | 318/1044 [13:31<30:09,  2.49s/it]"
     ]
    },
    {
     "name": "stdout",
     "output_type": "stream",
     "text": [
      "Tokenizing...\n"
     ]
    },
    {
     "name": "stderr",
     "output_type": "stream",
     "text": [
      "PTBTokenizer tokenized 61766 tokens at 330364.23 tokens per second.\n",
      "PTBTokenizer tokenized 9233 tokens at 87883.49 tokens per second.\n"
     ]
    },
    {
     "name": "stdout",
     "output_type": "stream",
     "text": [
      "Computing scores...\n",
      "Computing METEOR score...\n",
      "Computing CIDEr score...\n"
     ]
    },
    {
     "name": "stderr",
     "output_type": "stream",
     "text": [
      "Processing files:  31%|████████████████▌                                     | 319/1044 [13:34<30:10,  2.50s/it]"
     ]
    },
    {
     "name": "stdout",
     "output_type": "stream",
     "text": [
      "Tokenizing...\n"
     ]
    },
    {
     "name": "stderr",
     "output_type": "stream",
     "text": [
      "PTBTokenizer tokenized 61766 tokens at 309010.32 tokens per second.\n",
      "PTBTokenizer tokenized 9242 tokens at 88288.48 tokens per second.\n"
     ]
    },
    {
     "name": "stdout",
     "output_type": "stream",
     "text": [
      "Computing scores...\n",
      "Computing METEOR score...\n",
      "Computing CIDEr score...\n"
     ]
    },
    {
     "name": "stderr",
     "output_type": "stream",
     "text": [
      "Processing files:  31%|████████████████▌                                     | 320/1044 [13:36<30:35,  2.54s/it]"
     ]
    },
    {
     "name": "stdout",
     "output_type": "stream",
     "text": [
      "Tokenizing...\n"
     ]
    },
    {
     "name": "stderr",
     "output_type": "stream",
     "text": [
      "PTBTokenizer tokenized 61766 tokens at 346665.71 tokens per second.\n",
      "PTBTokenizer tokenized 9204 tokens at 84822.67 tokens per second.\n"
     ]
    },
    {
     "name": "stdout",
     "output_type": "stream",
     "text": [
      "Computing scores...\n",
      "Computing METEOR score...\n",
      "Computing CIDEr score...\n"
     ]
    },
    {
     "name": "stderr",
     "output_type": "stream",
     "text": [
      "Processing files:  31%|████████████████▌                                     | 321/1044 [13:39<30:21,  2.52s/it]"
     ]
    },
    {
     "name": "stdout",
     "output_type": "stream",
     "text": [
      "Tokenizing...\n"
     ]
    },
    {
     "name": "stderr",
     "output_type": "stream",
     "text": [
      "PTBTokenizer tokenized 61766 tokens at 329543.73 tokens per second.\n",
      "PTBTokenizer tokenized 9242 tokens at 85526.04 tokens per second.\n"
     ]
    },
    {
     "name": "stdout",
     "output_type": "stream",
     "text": [
      "Computing scores...\n",
      "Computing METEOR score...\n",
      "Computing CIDEr score...\n"
     ]
    },
    {
     "name": "stderr",
     "output_type": "stream",
     "text": [
      "Processing files:  31%|████████████████▋                                     | 322/1044 [13:42<31:01,  2.58s/it]"
     ]
    },
    {
     "name": "stdout",
     "output_type": "stream",
     "text": [
      "Tokenizing...\n"
     ]
    },
    {
     "name": "stderr",
     "output_type": "stream",
     "text": [
      "PTBTokenizer tokenized 61766 tokens at 332650.80 tokens per second.\n",
      "PTBTokenizer tokenized 9242 tokens at 78972.44 tokens per second.\n"
     ]
    },
    {
     "name": "stdout",
     "output_type": "stream",
     "text": [
      "Computing scores...\n",
      "Computing METEOR score...\n",
      "Computing CIDEr score...\n"
     ]
    },
    {
     "name": "stderr",
     "output_type": "stream",
     "text": [
      "Processing files:  31%|████████████████▋                                     | 323/1044 [13:44<31:23,  2.61s/it]"
     ]
    },
    {
     "name": "stdout",
     "output_type": "stream",
     "text": [
      "Tokenizing...\n"
     ]
    },
    {
     "name": "stderr",
     "output_type": "stream",
     "text": [
      "PTBTokenizer tokenized 61766 tokens at 329222.91 tokens per second.\n",
      "PTBTokenizer tokenized 9242 tokens at 82872.43 tokens per second.\n"
     ]
    },
    {
     "name": "stdout",
     "output_type": "stream",
     "text": [
      "Computing scores...\n",
      "Computing METEOR score...\n",
      "Computing CIDEr score...\n"
     ]
    },
    {
     "name": "stderr",
     "output_type": "stream",
     "text": [
      "Processing files:  31%|████████████████▊                                     | 324/1044 [13:47<31:22,  2.62s/it]"
     ]
    },
    {
     "name": "stdout",
     "output_type": "stream",
     "text": [
      "Tokenizing...\n"
     ]
    },
    {
     "name": "stderr",
     "output_type": "stream",
     "text": [
      "PTBTokenizer tokenized 61766 tokens at 314301.68 tokens per second.\n",
      "PTBTokenizer tokenized 9359 tokens at 76816.41 tokens per second.\n"
     ]
    },
    {
     "name": "stdout",
     "output_type": "stream",
     "text": [
      "Computing scores...\n",
      "Computing METEOR score...\n",
      "Computing CIDEr score...\n"
     ]
    },
    {
     "name": "stderr",
     "output_type": "stream",
     "text": [
      "Processing files:  31%|████████████████▊                                     | 325/1044 [13:50<31:17,  2.61s/it]"
     ]
    },
    {
     "name": "stdout",
     "output_type": "stream",
     "text": [
      "Tokenizing...\n"
     ]
    },
    {
     "name": "stderr",
     "output_type": "stream",
     "text": [
      "PTBTokenizer tokenized 61766 tokens at 312514.91 tokens per second.\n",
      "PTBTokenizer tokenized 9242 tokens at 80969.92 tokens per second.\n"
     ]
    },
    {
     "name": "stdout",
     "output_type": "stream",
     "text": [
      "Computing scores...\n",
      "Computing METEOR score...\n",
      "Computing CIDEr score...\n"
     ]
    },
    {
     "name": "stderr",
     "output_type": "stream",
     "text": [
      "Processing files:  31%|████████████████▊                                     | 326/1044 [13:52<31:36,  2.64s/it]"
     ]
    },
    {
     "name": "stdout",
     "output_type": "stream",
     "text": [
      "Tokenizing...\n"
     ]
    },
    {
     "name": "stderr",
     "output_type": "stream",
     "text": [
      "PTBTokenizer tokenized 61766 tokens at 327539.26 tokens per second.\n",
      "PTBTokenizer tokenized 7835 tokens at 77123.17 tokens per second.\n"
     ]
    },
    {
     "name": "stdout",
     "output_type": "stream",
     "text": [
      "Computing scores...\n",
      "Computing METEOR score...\n",
      "Computing CIDEr score...\n"
     ]
    },
    {
     "name": "stderr",
     "output_type": "stream",
     "text": [
      "Processing files:  31%|████████████████▉                                     | 327/1044 [13:55<31:13,  2.61s/it]"
     ]
    },
    {
     "name": "stdout",
     "output_type": "stream",
     "text": [
      "Tokenizing...\n"
     ]
    },
    {
     "name": "stderr",
     "output_type": "stream",
     "text": [
      "PTBTokenizer tokenized 61766 tokens at 343178.60 tokens per second.\n",
      "PTBTokenizer tokenized 7104 tokens at 73361.11 tokens per second.\n"
     ]
    },
    {
     "name": "stdout",
     "output_type": "stream",
     "text": [
      "Computing scores...\n",
      "Computing METEOR score...\n",
      "Computing CIDEr score...\n"
     ]
    },
    {
     "name": "stderr",
     "output_type": "stream",
     "text": [
      "Processing files:  31%|████████████████▉                                     | 328/1044 [13:57<30:40,  2.57s/it]"
     ]
    },
    {
     "name": "stdout",
     "output_type": "stream",
     "text": [
      "Tokenizing...\n"
     ]
    },
    {
     "name": "stderr",
     "output_type": "stream",
     "text": [
      "PTBTokenizer tokenized 61766 tokens at 328486.66 tokens per second.\n",
      "PTBTokenizer tokenized 9242 tokens at 86693.37 tokens per second.\n"
     ]
    },
    {
     "name": "stdout",
     "output_type": "stream",
     "text": [
      "Computing scores...\n",
      "Computing METEOR score...\n",
      "Computing CIDEr score...\n"
     ]
    },
    {
     "name": "stderr",
     "output_type": "stream",
     "text": [
      "Processing files:  32%|█████████████████                                     | 329/1044 [14:00<30:51,  2.59s/it]"
     ]
    },
    {
     "name": "stdout",
     "output_type": "stream",
     "text": [
      "Tokenizing...\n"
     ]
    },
    {
     "name": "stderr",
     "output_type": "stream",
     "text": [
      "PTBTokenizer tokenized 61766 tokens at 320719.38 tokens per second.\n",
      "PTBTokenizer tokenized 9236 tokens at 83963.75 tokens per second.\n"
     ]
    },
    {
     "name": "stdout",
     "output_type": "stream",
     "text": [
      "Computing scores...\n",
      "Computing METEOR score...\n",
      "Computing CIDEr score...\n"
     ]
    },
    {
     "name": "stderr",
     "output_type": "stream",
     "text": [
      "Processing files:  32%|█████████████████                                     | 330/1044 [14:03<31:23,  2.64s/it]"
     ]
    },
    {
     "name": "stdout",
     "output_type": "stream",
     "text": [
      "Tokenizing...\n"
     ]
    },
    {
     "name": "stderr",
     "output_type": "stream",
     "text": [
      "PTBTokenizer tokenized 61766 tokens at 335114.96 tokens per second.\n",
      "PTBTokenizer tokenized 9242 tokens at 89738.18 tokens per second.\n"
     ]
    },
    {
     "name": "stdout",
     "output_type": "stream",
     "text": [
      "Computing scores...\n",
      "Computing METEOR score...\n",
      "Computing CIDEr score...\n"
     ]
    },
    {
     "name": "stderr",
     "output_type": "stream",
     "text": [
      "Processing files:  32%|█████████████████                                     | 331/1044 [14:05<31:33,  2.66s/it]"
     ]
    },
    {
     "name": "stdout",
     "output_type": "stream",
     "text": [
      "Tokenizing...\n"
     ]
    },
    {
     "name": "stderr",
     "output_type": "stream",
     "text": [
      "PTBTokenizer tokenized 61766 tokens at 260815.20 tokens per second.\n",
      "PTBTokenizer tokenized 9242 tokens at 92463.92 tokens per second.\n"
     ]
    },
    {
     "name": "stdout",
     "output_type": "stream",
     "text": [
      "Computing scores...\n",
      "Computing METEOR score...\n",
      "Computing CIDEr score...\n"
     ]
    },
    {
     "name": "stderr",
     "output_type": "stream",
     "text": [
      "Processing files:  32%|█████████████████▏                                    | 332/1044 [14:08<31:32,  2.66s/it]"
     ]
    },
    {
     "name": "stdout",
     "output_type": "stream",
     "text": [
      "Tokenizing...\n"
     ]
    },
    {
     "name": "stderr",
     "output_type": "stream",
     "text": [
      "PTBTokenizer tokenized 61766 tokens at 324138.18 tokens per second.\n",
      "PTBTokenizer tokenized 9242 tokens at 87977.56 tokens per second.\n"
     ]
    },
    {
     "name": "stdout",
     "output_type": "stream",
     "text": [
      "Computing scores...\n",
      "Computing METEOR score...\n",
      "Computing CIDEr score...\n"
     ]
    },
    {
     "name": "stderr",
     "output_type": "stream",
     "text": [
      "Processing files:  32%|█████████████████▏                                    | 333/1044 [14:11<31:12,  2.63s/it]"
     ]
    },
    {
     "name": "stdout",
     "output_type": "stream",
     "text": [
      "Tokenizing...\n"
     ]
    },
    {
     "name": "stderr",
     "output_type": "stream",
     "text": [
      "PTBTokenizer tokenized 61766 tokens at 344731.26 tokens per second.\n",
      "PTBTokenizer tokenized 9242 tokens at 81482.00 tokens per second.\n"
     ]
    },
    {
     "name": "stdout",
     "output_type": "stream",
     "text": [
      "Computing scores...\n",
      "Computing METEOR score...\n",
      "Computing CIDEr score...\n"
     ]
    },
    {
     "name": "stderr",
     "output_type": "stream",
     "text": [
      "Processing files:  32%|█████████████████▎                                    | 334/1044 [14:13<31:30,  2.66s/it]"
     ]
    },
    {
     "name": "stdout",
     "output_type": "stream",
     "text": [
      "Tokenizing...\n"
     ]
    },
    {
     "name": "stderr",
     "output_type": "stream",
     "text": [
      "PTBTokenizer tokenized 61766 tokens at 326794.86 tokens per second.\n",
      "Jul 19, 2024 4:34:37 PM edu.stanford.nlp.process.PTBLexer next\n",
      "WARNING: Untokenizable: � (U+FFFD, decimal: 65533)\n",
      "PTBTokenizer tokenized 9586 tokens at 56377.59 tokens per second.\n"
     ]
    },
    {
     "name": "stdout",
     "output_type": "stream",
     "text": [
      "Computing scores...\n",
      "Computing METEOR score...\n",
      "Computing CIDEr score...\n"
     ]
    },
    {
     "name": "stderr",
     "output_type": "stream",
     "text": [
      "Processing files:  32%|█████████████████▎                                    | 335/1044 [14:16<31:22,  2.65s/it]"
     ]
    },
    {
     "name": "stdout",
     "output_type": "stream",
     "text": [
      "Tokenizing...\n"
     ]
    },
    {
     "name": "stderr",
     "output_type": "stream",
     "text": [
      "PTBTokenizer tokenized 61766 tokens at 288265.50 tokens per second.\n",
      "PTBTokenizer tokenized 9241 tokens at 85394.13 tokens per second.\n"
     ]
    },
    {
     "name": "stdout",
     "output_type": "stream",
     "text": [
      "Computing scores...\n",
      "Computing METEOR score...\n",
      "Computing CIDEr score...\n"
     ]
    },
    {
     "name": "stderr",
     "output_type": "stream",
     "text": [
      "Processing files:  32%|█████████████████▍                                    | 336/1044 [14:19<31:07,  2.64s/it]"
     ]
    },
    {
     "name": "stdout",
     "output_type": "stream",
     "text": [
      "Tokenizing...\n"
     ]
    },
    {
     "name": "stderr",
     "output_type": "stream",
     "text": [
      "PTBTokenizer tokenized 61766 tokens at 334005.09 tokens per second.\n",
      "PTBTokenizer tokenized 6950 tokens at 72943.42 tokens per second.\n"
     ]
    },
    {
     "name": "stdout",
     "output_type": "stream",
     "text": [
      "Computing scores...\n",
      "Computing METEOR score...\n",
      "Computing CIDEr score...\n"
     ]
    },
    {
     "name": "stderr",
     "output_type": "stream",
     "text": [
      "Processing files:  32%|█████████████████▍                                    | 337/1044 [14:21<30:22,  2.58s/it]"
     ]
    },
    {
     "name": "stdout",
     "output_type": "stream",
     "text": [
      "Tokenizing...\n"
     ]
    },
    {
     "name": "stderr",
     "output_type": "stream",
     "text": [
      "PTBTokenizer tokenized 61766 tokens at 328265.87 tokens per second.\n",
      "Jul 19, 2024 4:34:45 PM edu.stanford.nlp.process.PTBLexer next\n",
      "WARNING: Untokenizable: � (U+FFFD, decimal: 65533)\n",
      "PTBTokenizer tokenized 17504 tokens at 114028.49 tokens per second.\n"
     ]
    },
    {
     "name": "stdout",
     "output_type": "stream",
     "text": [
      "Computing scores...\n",
      "Computing METEOR score...\n",
      "Computing CIDEr score...\n"
     ]
    },
    {
     "name": "stderr",
     "output_type": "stream",
     "text": [
      "Processing files:  32%|█████████████████▍                                    | 338/1044 [14:24<32:01,  2.72s/it]"
     ]
    },
    {
     "name": "stdout",
     "output_type": "stream",
     "text": [
      "Tokenizing...\n"
     ]
    },
    {
     "name": "stderr",
     "output_type": "stream",
     "text": [
      "PTBTokenizer tokenized 61766 tokens at 319206.95 tokens per second.\n",
      "PTBTokenizer tokenized 9242 tokens at 81285.93 tokens per second.\n"
     ]
    },
    {
     "name": "stdout",
     "output_type": "stream",
     "text": [
      "Computing scores...\n",
      "Computing METEOR score...\n",
      "Computing CIDEr score...\n"
     ]
    },
    {
     "name": "stderr",
     "output_type": "stream",
     "text": [
      "Processing files:  32%|█████████████████▌                                    | 339/1044 [14:27<31:51,  2.71s/it]"
     ]
    },
    {
     "name": "stdout",
     "output_type": "stream",
     "text": [
      "Tokenizing...\n"
     ]
    },
    {
     "name": "stderr",
     "output_type": "stream",
     "text": [
      "PTBTokenizer tokenized 61766 tokens at 345409.72 tokens per second.\n",
      "PTBTokenizer tokenized 7395 tokens at 65428.62 tokens per second.\n"
     ]
    },
    {
     "name": "stdout",
     "output_type": "stream",
     "text": [
      "Computing scores...\n",
      "Computing METEOR score...\n",
      "Computing CIDEr score...\n"
     ]
    },
    {
     "name": "stderr",
     "output_type": "stream",
     "text": [
      "Processing files:  33%|█████████████████▌                                    | 340/1044 [14:29<30:40,  2.61s/it]"
     ]
    },
    {
     "name": "stdout",
     "output_type": "stream",
     "text": [
      "Tokenizing...\n"
     ]
    },
    {
     "name": "stderr",
     "output_type": "stream",
     "text": [
      "PTBTokenizer tokenized 61766 tokens at 326639.95 tokens per second.\n",
      "PTBTokenizer tokenized 9242 tokens at 88461.47 tokens per second.\n"
     ]
    },
    {
     "name": "stdout",
     "output_type": "stream",
     "text": [
      "Computing scores...\n",
      "Computing METEOR score...\n",
      "Computing CIDEr score...\n"
     ]
    },
    {
     "name": "stderr",
     "output_type": "stream",
     "text": [
      "Processing files:  33%|█████████████████▋                                    | 341/1044 [14:32<30:40,  2.62s/it]"
     ]
    },
    {
     "name": "stdout",
     "output_type": "stream",
     "text": [
      "Tokenizing...\n"
     ]
    },
    {
     "name": "stderr",
     "output_type": "stream",
     "text": [
      "PTBTokenizer tokenized 61766 tokens at 326190.07 tokens per second.\n",
      "PTBTokenizer tokenized 9108 tokens at 84862.00 tokens per second.\n"
     ]
    },
    {
     "name": "stdout",
     "output_type": "stream",
     "text": [
      "Computing scores...\n",
      "Computing METEOR score...\n",
      "Computing CIDEr score...\n"
     ]
    },
    {
     "name": "stderr",
     "output_type": "stream",
     "text": [
      "Processing files:  33%|█████████████████▋                                    | 342/1044 [14:34<30:18,  2.59s/it]"
     ]
    },
    {
     "name": "stdout",
     "output_type": "stream",
     "text": [
      "Tokenizing...\n"
     ]
    },
    {
     "name": "stderr",
     "output_type": "stream",
     "text": [
      "PTBTokenizer tokenized 61766 tokens at 329595.67 tokens per second.\n",
      "PTBTokenizer tokenized 9242 tokens at 81581.66 tokens per second.\n"
     ]
    },
    {
     "name": "stdout",
     "output_type": "stream",
     "text": [
      "Computing scores...\n",
      "Computing METEOR score...\n",
      "Computing CIDEr score...\n"
     ]
    },
    {
     "name": "stderr",
     "output_type": "stream",
     "text": [
      "Processing files:  33%|█████████████████▋                                    | 343/1044 [14:37<30:42,  2.63s/it]"
     ]
    },
    {
     "name": "stdout",
     "output_type": "stream",
     "text": [
      "Tokenizing...\n"
     ]
    },
    {
     "name": "stderr",
     "output_type": "stream",
     "text": [
      "PTBTokenizer tokenized 61766 tokens at 330584.28 tokens per second.\n",
      "PTBTokenizer tokenized 7835 tokens at 78538.75 tokens per second.\n"
     ]
    },
    {
     "name": "stdout",
     "output_type": "stream",
     "text": [
      "Computing scores...\n",
      "Computing METEOR score...\n",
      "Computing CIDEr score...\n"
     ]
    },
    {
     "name": "stderr",
     "output_type": "stream",
     "text": [
      "Processing files:  33%|█████████████████▊                                    | 344/1044 [14:39<30:07,  2.58s/it]"
     ]
    },
    {
     "name": "stdout",
     "output_type": "stream",
     "text": [
      "Tokenizing...\n"
     ]
    },
    {
     "name": "stderr",
     "output_type": "stream",
     "text": [
      "PTBTokenizer tokenized 61766 tokens at 332657.24 tokens per second.\n",
      "PTBTokenizer tokenized 9259 tokens at 92209.99 tokens per second.\n"
     ]
    },
    {
     "name": "stdout",
     "output_type": "stream",
     "text": [
      "Computing scores...\n",
      "Computing METEOR score...\n",
      "Computing CIDEr score...\n"
     ]
    },
    {
     "name": "stderr",
     "output_type": "stream",
     "text": [
      "Processing files:  33%|█████████████████▊                                    | 345/1044 [14:42<30:15,  2.60s/it]"
     ]
    },
    {
     "name": "stdout",
     "output_type": "stream",
     "text": [
      "Tokenizing...\n"
     ]
    },
    {
     "name": "stderr",
     "output_type": "stream",
     "text": [
      "PTBTokenizer tokenized 61766 tokens at 342312.29 tokens per second.\n",
      "PTBTokenizer tokenized 9235 tokens at 89602.69 tokens per second.\n"
     ]
    },
    {
     "name": "stdout",
     "output_type": "stream",
     "text": [
      "Computing scores...\n",
      "Computing METEOR score...\n",
      "Computing CIDEr score...\n"
     ]
    },
    {
     "name": "stderr",
     "output_type": "stream",
     "text": [
      "Processing files:  33%|█████████████████▉                                    | 346/1044 [14:45<30:07,  2.59s/it]"
     ]
    },
    {
     "name": "stdout",
     "output_type": "stream",
     "text": [
      "Tokenizing...\n"
     ]
    },
    {
     "name": "stderr",
     "output_type": "stream",
     "text": [
      "PTBTokenizer tokenized 61766 tokens at 342028.86 tokens per second.\n",
      "PTBTokenizer tokenized 9242 tokens at 81938.90 tokens per second.\n"
     ]
    },
    {
     "name": "stdout",
     "output_type": "stream",
     "text": [
      "Computing scores...\n",
      "Computing METEOR score...\n",
      "Computing CIDEr score...\n"
     ]
    },
    {
     "name": "stderr",
     "output_type": "stream",
     "text": [
      "Processing files:  33%|█████████████████▉                                    | 347/1044 [14:47<30:04,  2.59s/it]"
     ]
    },
    {
     "name": "stdout",
     "output_type": "stream",
     "text": [
      "Tokenizing...\n"
     ]
    },
    {
     "name": "stderr",
     "output_type": "stream",
     "text": [
      "PTBTokenizer tokenized 61766 tokens at 341953.84 tokens per second.\n",
      "PTBTokenizer tokenized 9161 tokens at 78251.64 tokens per second.\n"
     ]
    },
    {
     "name": "stdout",
     "output_type": "stream",
     "text": [
      "Computing scores...\n",
      "Computing METEOR score...\n",
      "Computing CIDEr score...\n"
     ]
    },
    {
     "name": "stderr",
     "output_type": "stream",
     "text": [
      "Processing files:  33%|██████████████████                                    | 348/1044 [14:50<30:17,  2.61s/it]"
     ]
    },
    {
     "name": "stdout",
     "output_type": "stream",
     "text": [
      "Tokenizing...\n"
     ]
    },
    {
     "name": "stderr",
     "output_type": "stream",
     "text": [
      "PTBTokenizer tokenized 61766 tokens at 319028.79 tokens per second.\n",
      "PTBTokenizer tokenized 9242 tokens at 88843.49 tokens per second.\n"
     ]
    },
    {
     "name": "stdout",
     "output_type": "stream",
     "text": [
      "Computing scores...\n",
      "Computing METEOR score...\n",
      "Computing CIDEr score...\n"
     ]
    },
    {
     "name": "stderr",
     "output_type": "stream",
     "text": [
      "Processing files:  33%|██████████████████                                    | 349/1044 [14:52<30:03,  2.60s/it]"
     ]
    },
    {
     "name": "stdout",
     "output_type": "stream",
     "text": [
      "Tokenizing...\n"
     ]
    },
    {
     "name": "stderr",
     "output_type": "stream",
     "text": [
      "PTBTokenizer tokenized 61766 tokens at 323602.31 tokens per second.\n",
      "PTBTokenizer tokenized 9206 tokens at 82465.61 tokens per second.\n"
     ]
    },
    {
     "name": "stdout",
     "output_type": "stream",
     "text": [
      "Computing scores...\n",
      "Computing METEOR score...\n",
      "Computing CIDEr score...\n"
     ]
    },
    {
     "name": "stderr",
     "output_type": "stream",
     "text": [
      "Processing files:  34%|██████████████████                                    | 350/1044 [14:55<30:08,  2.61s/it]"
     ]
    },
    {
     "name": "stdout",
     "output_type": "stream",
     "text": [
      "Tokenizing...\n"
     ]
    },
    {
     "name": "stderr",
     "output_type": "stream",
     "text": [
      "PTBTokenizer tokenized 61766 tokens at 344012.99 tokens per second.\n",
      "PTBTokenizer tokenized 8089 tokens at 80069.83 tokens per second.\n"
     ]
    },
    {
     "name": "stdout",
     "output_type": "stream",
     "text": [
      "Computing scores...\n",
      "Computing METEOR score...\n",
      "Computing CIDEr score...\n"
     ]
    },
    {
     "name": "stderr",
     "output_type": "stream",
     "text": [
      "Processing files:  34%|██████████████████▏                                   | 351/1044 [14:58<29:36,  2.56s/it]"
     ]
    },
    {
     "name": "stdout",
     "output_type": "stream",
     "text": [
      "Tokenizing...\n"
     ]
    },
    {
     "name": "stderr",
     "output_type": "stream",
     "text": [
      "PTBTokenizer tokenized 61766 tokens at 353482.90 tokens per second.\n",
      "Jul 19, 2024 4:35:21 PM edu.stanford.nlp.process.PTBLexer next\n",
      "WARNING: Untokenizable: � (U+FFFD, decimal: 65533)\n",
      "PTBTokenizer tokenized 8505 tokens at 43983.73 tokens per second.\n"
     ]
    },
    {
     "name": "stdout",
     "output_type": "stream",
     "text": [
      "Computing scores...\n",
      "Computing METEOR score...\n",
      "Computing CIDEr score...\n"
     ]
    },
    {
     "name": "stderr",
     "output_type": "stream",
     "text": [
      "Processing files:  34%|██████████████████▏                                   | 352/1044 [15:00<29:24,  2.55s/it]"
     ]
    },
    {
     "name": "stdout",
     "output_type": "stream",
     "text": [
      "Tokenizing...\n"
     ]
    },
    {
     "name": "stderr",
     "output_type": "stream",
     "text": [
      "PTBTokenizer tokenized 61766 tokens at 329497.63 tokens per second.\n",
      "PTBTokenizer tokenized 9242 tokens at 88346.60 tokens per second.\n"
     ]
    },
    {
     "name": "stdout",
     "output_type": "stream",
     "text": [
      "Computing scores...\n",
      "Computing METEOR score...\n",
      "Computing CIDEr score...\n"
     ]
    },
    {
     "name": "stderr",
     "output_type": "stream",
     "text": [
      "Processing files:  34%|██████████████████▎                                   | 353/1044 [15:03<29:22,  2.55s/it]"
     ]
    },
    {
     "name": "stdout",
     "output_type": "stream",
     "text": [
      "Tokenizing...\n"
     ]
    },
    {
     "name": "stderr",
     "output_type": "stream",
     "text": [
      "PTBTokenizer tokenized 61766 tokens at 320208.43 tokens per second.\n",
      "PTBTokenizer tokenized 9151 tokens at 83525.26 tokens per second.\n"
     ]
    },
    {
     "name": "stdout",
     "output_type": "stream",
     "text": [
      "Computing scores...\n",
      "Computing METEOR score...\n",
      "Computing CIDEr score...\n"
     ]
    },
    {
     "name": "stderr",
     "output_type": "stream",
     "text": [
      "Processing files:  34%|██████████████████▎                                   | 354/1044 [15:05<29:31,  2.57s/it]"
     ]
    },
    {
     "name": "stdout",
     "output_type": "stream",
     "text": [
      "Tokenizing...\n"
     ]
    },
    {
     "name": "stderr",
     "output_type": "stream",
     "text": [
      "PTBTokenizer tokenized 61766 tokens at 352783.06 tokens per second.\n",
      "PTBTokenizer tokenized 7987 tokens at 70628.48 tokens per second.\n"
     ]
    },
    {
     "name": "stdout",
     "output_type": "stream",
     "text": [
      "Computing scores...\n",
      "Computing METEOR score...\n",
      "Computing CIDEr score...\n"
     ]
    },
    {
     "name": "stderr",
     "output_type": "stream",
     "text": [
      "Processing files:  34%|██████████████████▎                                   | 355/1044 [15:08<29:31,  2.57s/it]"
     ]
    },
    {
     "name": "stdout",
     "output_type": "stream",
     "text": [
      "Tokenizing...\n"
     ]
    },
    {
     "name": "stderr",
     "output_type": "stream",
     "text": [
      "PTBTokenizer tokenized 61766 tokens at 333450.57 tokens per second.\n",
      "Jul 19, 2024 4:35:32 PM edu.stanford.nlp.process.PTBLexer next\n",
      "WARNING: Untokenizable: � (U+FFFD, decimal: 65533)\n",
      "PTBTokenizer tokenized 8505 tokens at 47891.87 tokens per second.\n"
     ]
    },
    {
     "name": "stdout",
     "output_type": "stream",
     "text": [
      "Computing scores...\n",
      "Computing METEOR score...\n",
      "Computing CIDEr score...\n"
     ]
    },
    {
     "name": "stderr",
     "output_type": "stream",
     "text": [
      "Processing files:  34%|██████████████████▍                                   | 356/1044 [15:10<28:58,  2.53s/it]"
     ]
    },
    {
     "name": "stdout",
     "output_type": "stream",
     "text": [
      "Tokenizing...\n"
     ]
    },
    {
     "name": "stderr",
     "output_type": "stream",
     "text": [
      "PTBTokenizer tokenized 61766 tokens at 342456.13 tokens per second.\n",
      "PTBTokenizer tokenized 9194 tokens at 81827.28 tokens per second.\n"
     ]
    },
    {
     "name": "stdout",
     "output_type": "stream",
     "text": [
      "Computing scores...\n",
      "Computing METEOR score...\n",
      "Computing CIDEr score...\n"
     ]
    },
    {
     "name": "stderr",
     "output_type": "stream",
     "text": [
      "Processing files:  34%|██████████████████▍                                   | 357/1044 [15:13<29:05,  2.54s/it]"
     ]
    },
    {
     "name": "stdout",
     "output_type": "stream",
     "text": [
      "Tokenizing...\n"
     ]
    },
    {
     "name": "stderr",
     "output_type": "stream",
     "text": [
      "PTBTokenizer tokenized 61766 tokens at 327048.58 tokens per second.\n",
      "PTBTokenizer tokenized 7746 tokens at 78325.48 tokens per second.\n"
     ]
    },
    {
     "name": "stdout",
     "output_type": "stream",
     "text": [
      "Computing scores...\n",
      "Computing METEOR score...\n",
      "Computing CIDEr score...\n"
     ]
    },
    {
     "name": "stderr",
     "output_type": "stream",
     "text": [
      "Processing files:  34%|██████████████████▌                                   | 358/1044 [15:15<28:49,  2.52s/it]"
     ]
    },
    {
     "name": "stdout",
     "output_type": "stream",
     "text": [
      "Tokenizing...\n"
     ]
    },
    {
     "name": "stderr",
     "output_type": "stream",
     "text": [
      "PTBTokenizer tokenized 61766 tokens at 346992.18 tokens per second.\n",
      "PTBTokenizer tokenized 11835 tokens at 106668.60 tokens per second.\n"
     ]
    },
    {
     "name": "stdout",
     "output_type": "stream",
     "text": [
      "Computing scores...\n",
      "Computing METEOR score...\n",
      "Computing CIDEr score...\n"
     ]
    },
    {
     "name": "stderr",
     "output_type": "stream",
     "text": [
      "Processing files:  34%|██████████████████▌                                   | 359/1044 [15:18<29:36,  2.59s/it]"
     ]
    },
    {
     "name": "stdout",
     "output_type": "stream",
     "text": [
      "Tokenizing...\n"
     ]
    },
    {
     "name": "stderr",
     "output_type": "stream",
     "text": [
      "PTBTokenizer tokenized 61766 tokens at 346687.86 tokens per second.\n",
      "PTBTokenizer tokenized 8470 tokens at 80060.78 tokens per second.\n"
     ]
    },
    {
     "name": "stdout",
     "output_type": "stream",
     "text": [
      "Computing scores...\n",
      "Computing METEOR score...\n",
      "Computing CIDEr score...\n"
     ]
    },
    {
     "name": "stderr",
     "output_type": "stream",
     "text": [
      "Processing files:  34%|██████████████████▌                                   | 360/1044 [15:21<29:49,  2.62s/it]"
     ]
    },
    {
     "name": "stdout",
     "output_type": "stream",
     "text": [
      "Tokenizing...\n"
     ]
    },
    {
     "name": "stderr",
     "output_type": "stream",
     "text": [
      "PTBTokenizer tokenized 61766 tokens at 284090.96 tokens per second.\n",
      "PTBTokenizer tokenized 9244 tokens at 74524.64 tokens per second.\n"
     ]
    },
    {
     "name": "stdout",
     "output_type": "stream",
     "text": [
      "Computing scores...\n",
      "Computing METEOR score...\n",
      "Computing CIDEr score...\n"
     ]
    },
    {
     "name": "stderr",
     "output_type": "stream",
     "text": [
      "Processing files:  35%|██████████████████▋                                   | 361/1044 [15:23<29:54,  2.63s/it]"
     ]
    },
    {
     "name": "stdout",
     "output_type": "stream",
     "text": [
      "Tokenizing...\n"
     ]
    },
    {
     "name": "stderr",
     "output_type": "stream",
     "text": [
      "PTBTokenizer tokenized 61766 tokens at 301919.34 tokens per second.\n",
      "PTBTokenizer tokenized 8555 tokens at 80122.45 tokens per second.\n"
     ]
    },
    {
     "name": "stdout",
     "output_type": "stream",
     "text": [
      "Computing scores...\n",
      "Computing METEOR score...\n",
      "Computing CIDEr score...\n"
     ]
    },
    {
     "name": "stderr",
     "output_type": "stream",
     "text": [
      "Processing files:  35%|██████████████████▋                                   | 362/1044 [15:26<29:43,  2.61s/it]"
     ]
    },
    {
     "name": "stdout",
     "output_type": "stream",
     "text": [
      "Tokenizing...\n"
     ]
    },
    {
     "name": "stderr",
     "output_type": "stream",
     "text": [
      "PTBTokenizer tokenized 61766 tokens at 307995.81 tokens per second.\n",
      "PTBTokenizer tokenized 9235 tokens at 79764.56 tokens per second.\n"
     ]
    },
    {
     "name": "stdout",
     "output_type": "stream",
     "text": [
      "Computing scores...\n",
      "Computing METEOR score...\n",
      "Computing CIDEr score...\n"
     ]
    },
    {
     "name": "stderr",
     "output_type": "stream",
     "text": [
      "Processing files:  35%|██████████████████▊                                   | 363/1044 [15:29<29:48,  2.63s/it]"
     ]
    },
    {
     "name": "stdout",
     "output_type": "stream",
     "text": [
      "Tokenizing...\n"
     ]
    },
    {
     "name": "stderr",
     "output_type": "stream",
     "text": [
      "PTBTokenizer tokenized 61766 tokens at 347957.12 tokens per second.\n",
      "PTBTokenizer tokenized 9242 tokens at 84852.86 tokens per second.\n"
     ]
    },
    {
     "name": "stdout",
     "output_type": "stream",
     "text": [
      "Computing scores...\n",
      "Computing METEOR score...\n",
      "Computing CIDEr score...\n"
     ]
    },
    {
     "name": "stderr",
     "output_type": "stream",
     "text": [
      "Processing files:  35%|██████████████████▊                                   | 364/1044 [15:31<29:31,  2.60s/it]"
     ]
    },
    {
     "name": "stdout",
     "output_type": "stream",
     "text": [
      "Tokenizing...\n"
     ]
    },
    {
     "name": "stderr",
     "output_type": "stream",
     "text": [
      "PTBTokenizer tokenized 61766 tokens at 319520.81 tokens per second.\n",
      "PTBTokenizer tokenized 9242 tokens at 70507.04 tokens per second.\n"
     ]
    },
    {
     "name": "stdout",
     "output_type": "stream",
     "text": [
      "Computing scores...\n",
      "Computing METEOR score...\n",
      "Computing CIDEr score...\n"
     ]
    },
    {
     "name": "stderr",
     "output_type": "stream",
     "text": [
      "Processing files:  35%|██████████████████▉                                   | 365/1044 [15:34<30:02,  2.66s/it]"
     ]
    },
    {
     "name": "stdout",
     "output_type": "stream",
     "text": [
      "Tokenizing...\n"
     ]
    },
    {
     "name": "stderr",
     "output_type": "stream",
     "text": [
      "PTBTokenizer tokenized 61766 tokens at 338224.17 tokens per second.\n",
      "PTBTokenizer tokenized 8523 tokens at 71196.13 tokens per second.\n"
     ]
    },
    {
     "name": "stdout",
     "output_type": "stream",
     "text": [
      "Computing scores...\n",
      "Computing METEOR score...\n",
      "Computing CIDEr score...\n"
     ]
    },
    {
     "name": "stderr",
     "output_type": "stream",
     "text": [
      "Processing files:  35%|██████████████████▉                                   | 366/1044 [15:37<29:59,  2.65s/it]"
     ]
    },
    {
     "name": "stdout",
     "output_type": "stream",
     "text": [
      "Tokenizing...\n"
     ]
    },
    {
     "name": "stderr",
     "output_type": "stream",
     "text": [
      "PTBTokenizer tokenized 61766 tokens at 313698.94 tokens per second.\n",
      "PTBTokenizer tokenized 7482 tokens at 73954.22 tokens per second.\n"
     ]
    },
    {
     "name": "stdout",
     "output_type": "stream",
     "text": [
      "Computing scores...\n",
      "Computing METEOR score...\n",
      "Computing CIDEr score...\n"
     ]
    },
    {
     "name": "stderr",
     "output_type": "stream",
     "text": [
      "Processing files:  35%|██████████████████▉                                   | 367/1044 [15:39<29:18,  2.60s/it]"
     ]
    },
    {
     "name": "stdout",
     "output_type": "stream",
     "text": [
      "Tokenizing...\n"
     ]
    },
    {
     "name": "stderr",
     "output_type": "stream",
     "text": [
      "PTBTokenizer tokenized 61766 tokens at 319861.66 tokens per second.\n",
      "PTBTokenizer tokenized 9239 tokens at 77143.75 tokens per second.\n"
     ]
    },
    {
     "name": "stdout",
     "output_type": "stream",
     "text": [
      "Computing scores...\n",
      "Computing METEOR score...\n",
      "Computing CIDEr score...\n"
     ]
    },
    {
     "name": "stderr",
     "output_type": "stream",
     "text": [
      "Processing files:  35%|███████████████████                                   | 368/1044 [15:42<29:46,  2.64s/it]"
     ]
    },
    {
     "name": "stdout",
     "output_type": "stream",
     "text": [
      "Tokenizing...\n"
     ]
    },
    {
     "name": "stderr",
     "output_type": "stream",
     "text": [
      "PTBTokenizer tokenized 61766 tokens at 336849.81 tokens per second.\n",
      "PTBTokenizer tokenized 8050 tokens at 79710.27 tokens per second.\n"
     ]
    },
    {
     "name": "stdout",
     "output_type": "stream",
     "text": [
      "Computing scores...\n",
      "Computing METEOR score...\n",
      "Computing CIDEr score...\n"
     ]
    },
    {
     "name": "stderr",
     "output_type": "stream",
     "text": [
      "Processing files:  35%|███████████████████                                   | 369/1044 [15:44<29:25,  2.62s/it]"
     ]
    },
    {
     "name": "stdout",
     "output_type": "stream",
     "text": [
      "Tokenizing...\n"
     ]
    },
    {
     "name": "stderr",
     "output_type": "stream",
     "text": [
      "PTBTokenizer tokenized 61766 tokens at 316453.14 tokens per second.\n",
      "PTBTokenizer tokenized 7208 tokens at 72871.50 tokens per second.\n"
     ]
    },
    {
     "name": "stdout",
     "output_type": "stream",
     "text": [
      "Computing scores...\n",
      "Computing METEOR score...\n",
      "Computing CIDEr score...\n"
     ]
    },
    {
     "name": "stderr",
     "output_type": "stream",
     "text": [
      "Processing files:  35%|███████████████████▏                                  | 370/1044 [15:47<28:47,  2.56s/it]"
     ]
    },
    {
     "name": "stdout",
     "output_type": "stream",
     "text": [
      "Tokenizing...\n"
     ]
    },
    {
     "name": "stderr",
     "output_type": "stream",
     "text": [
      "PTBTokenizer tokenized 61766 tokens at 323102.88 tokens per second.\n",
      "PTBTokenizer tokenized 9164 tokens at 80824.91 tokens per second.\n"
     ]
    },
    {
     "name": "stdout",
     "output_type": "stream",
     "text": [
      "Computing scores...\n",
      "Computing METEOR score...\n",
      "Computing CIDEr score...\n"
     ]
    },
    {
     "name": "stderr",
     "output_type": "stream",
     "text": [
      "Processing files:  36%|███████████████████▏                                  | 371/1044 [15:49<29:05,  2.59s/it]"
     ]
    },
    {
     "name": "stdout",
     "output_type": "stream",
     "text": [
      "Tokenizing...\n"
     ]
    },
    {
     "name": "stderr",
     "output_type": "stream",
     "text": [
      "PTBTokenizer tokenized 61766 tokens at 322295.91 tokens per second.\n",
      "PTBTokenizer tokenized 9242 tokens at 84645.01 tokens per second.\n"
     ]
    },
    {
     "name": "stdout",
     "output_type": "stream",
     "text": [
      "Computing scores...\n",
      "Computing METEOR score...\n",
      "Computing CIDEr score...\n"
     ]
    },
    {
     "name": "stderr",
     "output_type": "stream",
     "text": [
      "Processing files:  36%|███████████████████▏                                  | 372/1044 [15:52<28:55,  2.58s/it]"
     ]
    },
    {
     "name": "stdout",
     "output_type": "stream",
     "text": [
      "Tokenizing...\n"
     ]
    },
    {
     "name": "stderr",
     "output_type": "stream",
     "text": [
      "PTBTokenizer tokenized 61766 tokens at 303716.13 tokens per second.\n",
      "PTBTokenizer tokenized 9233 tokens at 82434.01 tokens per second.\n"
     ]
    },
    {
     "name": "stdout",
     "output_type": "stream",
     "text": [
      "Computing scores...\n",
      "Computing METEOR score...\n",
      "Computing CIDEr score...\n"
     ]
    },
    {
     "name": "stderr",
     "output_type": "stream",
     "text": [
      "Processing files:  36%|███████████████████▎                                  | 373/1044 [15:55<29:19,  2.62s/it]"
     ]
    },
    {
     "name": "stdout",
     "output_type": "stream",
     "text": [
      "Tokenizing...\n"
     ]
    },
    {
     "name": "stderr",
     "output_type": "stream",
     "text": [
      "PTBTokenizer tokenized 61766 tokens at 334459.44 tokens per second.\n",
      "PTBTokenizer tokenized 9242 tokens at 82290.56 tokens per second.\n"
     ]
    },
    {
     "name": "stdout",
     "output_type": "stream",
     "text": [
      "Computing scores...\n",
      "Computing METEOR score...\n",
      "Computing CIDEr score...\n"
     ]
    },
    {
     "name": "stderr",
     "output_type": "stream",
     "text": [
      "Processing files:  36%|███████████████████▎                                  | 374/1044 [15:57<28:58,  2.60s/it]"
     ]
    },
    {
     "name": "stdout",
     "output_type": "stream",
     "text": [
      "Tokenizing...\n"
     ]
    },
    {
     "name": "stderr",
     "output_type": "stream",
     "text": [
      "PTBTokenizer tokenized 61766 tokens at 354433.04 tokens per second.\n",
      "PTBTokenizer tokenized 9226 tokens at 87149.07 tokens per second.\n"
     ]
    },
    {
     "name": "stdout",
     "output_type": "stream",
     "text": [
      "Computing scores...\n",
      "Computing METEOR score...\n",
      "Computing CIDEr score...\n"
     ]
    },
    {
     "name": "stderr",
     "output_type": "stream",
     "text": [
      "Processing files:  36%|███████████████████▍                                  | 375/1044 [16:00<28:58,  2.60s/it]"
     ]
    },
    {
     "name": "stdout",
     "output_type": "stream",
     "text": [
      "Tokenizing...\n"
     ]
    },
    {
     "name": "stderr",
     "output_type": "stream",
     "text": [
      "PTBTokenizer tokenized 61766 tokens at 345019.29 tokens per second.\n",
      "PTBTokenizer tokenized 9242 tokens at 86754.56 tokens per second.\n"
     ]
    },
    {
     "name": "stdout",
     "output_type": "stream",
     "text": [
      "Computing scores...\n",
      "Computing METEOR score...\n",
      "Computing CIDEr score...\n"
     ]
    },
    {
     "name": "stderr",
     "output_type": "stream",
     "text": [
      "Processing files:  36%|███████████████████▍                                  | 376/1044 [16:03<29:08,  2.62s/it]"
     ]
    },
    {
     "name": "stdout",
     "output_type": "stream",
     "text": [
      "Tokenizing...\n"
     ]
    },
    {
     "name": "stderr",
     "output_type": "stream",
     "text": [
      "PTBTokenizer tokenized 61766 tokens at 292983.56 tokens per second.\n",
      "PTBTokenizer tokenized 7746 tokens at 74135.99 tokens per second.\n"
     ]
    },
    {
     "name": "stdout",
     "output_type": "stream",
     "text": [
      "Computing scores...\n",
      "Computing METEOR score...\n",
      "Computing CIDEr score...\n"
     ]
    },
    {
     "name": "stderr",
     "output_type": "stream",
     "text": [
      "Processing files:  36%|███████████████████▌                                  | 377/1044 [16:05<28:49,  2.59s/it]"
     ]
    },
    {
     "name": "stdout",
     "output_type": "stream",
     "text": [
      "Tokenizing...\n"
     ]
    },
    {
     "name": "stderr",
     "output_type": "stream",
     "text": [
      "PTBTokenizer tokenized 61766 tokens at 339488.35 tokens per second.\n",
      "PTBTokenizer tokenized 8049 tokens at 77086.48 tokens per second.\n"
     ]
    },
    {
     "name": "stdout",
     "output_type": "stream",
     "text": [
      "Computing scores...\n",
      "Computing METEOR score...\n",
      "Computing CIDEr score...\n"
     ]
    },
    {
     "name": "stderr",
     "output_type": "stream",
     "text": [
      "Processing files:  36%|███████████████████▌                                  | 378/1044 [16:08<28:32,  2.57s/it]"
     ]
    },
    {
     "name": "stdout",
     "output_type": "stream",
     "text": [
      "Tokenizing...\n"
     ]
    },
    {
     "name": "stderr",
     "output_type": "stream",
     "text": [
      "PTBTokenizer tokenized 61766 tokens at 336557.70 tokens per second.\n",
      "PTBTokenizer tokenized 9242 tokens at 80316.84 tokens per second.\n"
     ]
    },
    {
     "name": "stdout",
     "output_type": "stream",
     "text": [
      "Computing scores...\n",
      "Computing METEOR score...\n",
      "Computing CIDEr score...\n"
     ]
    },
    {
     "name": "stderr",
     "output_type": "stream",
     "text": [
      "Processing files:  36%|███████████████████▌                                  | 379/1044 [16:10<28:33,  2.58s/it]"
     ]
    },
    {
     "name": "stdout",
     "output_type": "stream",
     "text": [
      "Tokenizing...\n"
     ]
    },
    {
     "name": "stderr",
     "output_type": "stream",
     "text": [
      "PTBTokenizer tokenized 61766 tokens at 330652.20 tokens per second.\n",
      "PTBTokenizer tokenized 9229 tokens at 87258.33 tokens per second.\n"
     ]
    },
    {
     "name": "stdout",
     "output_type": "stream",
     "text": [
      "Computing scores...\n",
      "Computing METEOR score...\n",
      "Computing CIDEr score...\n"
     ]
    },
    {
     "name": "stderr",
     "output_type": "stream",
     "text": [
      "Processing files:  36%|███████████████████▋                                  | 380/1044 [16:13<28:39,  2.59s/it]"
     ]
    },
    {
     "name": "stdout",
     "output_type": "stream",
     "text": [
      "Tokenizing...\n"
     ]
    },
    {
     "name": "stderr",
     "output_type": "stream",
     "text": [
      "PTBTokenizer tokenized 61766 tokens at 312345.00 tokens per second.\n",
      "PTBTokenizer tokenized 9294 tokens at 85362.41 tokens per second.\n"
     ]
    },
    {
     "name": "stdout",
     "output_type": "stream",
     "text": [
      "Computing scores...\n",
      "Computing METEOR score...\n",
      "Computing CIDEr score...\n"
     ]
    },
    {
     "name": "stderr",
     "output_type": "stream",
     "text": [
      "Processing files:  36%|███████████████████▋                                  | 381/1044 [16:15<28:49,  2.61s/it]"
     ]
    },
    {
     "name": "stdout",
     "output_type": "stream",
     "text": [
      "Tokenizing...\n"
     ]
    },
    {
     "name": "stderr",
     "output_type": "stream",
     "text": [
      "PTBTokenizer tokenized 61766 tokens at 325007.73 tokens per second.\n",
      "PTBTokenizer tokenized 9179 tokens at 85679.08 tokens per second.\n"
     ]
    },
    {
     "name": "stdout",
     "output_type": "stream",
     "text": [
      "Computing scores...\n",
      "Computing METEOR score...\n",
      "Computing CIDEr score...\n"
     ]
    },
    {
     "name": "stderr",
     "output_type": "stream",
     "text": [
      "Processing files:  37%|███████████████████▊                                  | 382/1044 [16:18<28:57,  2.62s/it]"
     ]
    },
    {
     "name": "stdout",
     "output_type": "stream",
     "text": [
      "Tokenizing...\n"
     ]
    },
    {
     "name": "stderr",
     "output_type": "stream",
     "text": [
      "PTBTokenizer tokenized 61766 tokens at 331329.90 tokens per second.\n",
      "PTBTokenizer tokenized 7266 tokens at 73021.40 tokens per second.\n"
     ]
    },
    {
     "name": "stdout",
     "output_type": "stream",
     "text": [
      "Computing scores...\n",
      "Computing METEOR score...\n",
      "Computing CIDEr score...\n"
     ]
    },
    {
     "name": "stderr",
     "output_type": "stream",
     "text": [
      "Processing files:  37%|███████████████████▊                                  | 383/1044 [16:21<28:14,  2.56s/it]"
     ]
    },
    {
     "name": "stdout",
     "output_type": "stream",
     "text": [
      "Tokenizing...\n"
     ]
    },
    {
     "name": "stderr",
     "output_type": "stream",
     "text": [
      "PTBTokenizer tokenized 61766 tokens at 345367.79 tokens per second.\n",
      "PTBTokenizer tokenized 7755 tokens at 71731.12 tokens per second.\n"
     ]
    },
    {
     "name": "stdout",
     "output_type": "stream",
     "text": [
      "Computing scores...\n",
      "Computing METEOR score...\n",
      "Computing CIDEr score...\n"
     ]
    },
    {
     "name": "stderr",
     "output_type": "stream",
     "text": [
      "Processing files:  37%|███████████████████▊                                  | 384/1044 [16:23<27:46,  2.53s/it]"
     ]
    },
    {
     "name": "stdout",
     "output_type": "stream",
     "text": [
      "Tokenizing...\n"
     ]
    },
    {
     "name": "stderr",
     "output_type": "stream",
     "text": [
      "PTBTokenizer tokenized 61766 tokens at 341306.19 tokens per second.\n",
      "PTBTokenizer tokenized 9258 tokens at 85267.11 tokens per second.\n"
     ]
    },
    {
     "name": "stdout",
     "output_type": "stream",
     "text": [
      "Computing scores...\n",
      "Computing METEOR score...\n",
      "Computing CIDEr score...\n"
     ]
    },
    {
     "name": "stderr",
     "output_type": "stream",
     "text": [
      "Processing files:  37%|███████████████████▉                                  | 385/1044 [16:26<28:14,  2.57s/it]"
     ]
    },
    {
     "name": "stdout",
     "output_type": "stream",
     "text": [
      "Tokenizing...\n"
     ]
    },
    {
     "name": "stderr",
     "output_type": "stream",
     "text": [
      "PTBTokenizer tokenized 61766 tokens at 305726.86 tokens per second.\n",
      "PTBTokenizer tokenized 9242 tokens at 83404.79 tokens per second.\n"
     ]
    },
    {
     "name": "stdout",
     "output_type": "stream",
     "text": [
      "Computing scores...\n",
      "Computing METEOR score...\n",
      "Computing CIDEr score...\n"
     ]
    },
    {
     "name": "stderr",
     "output_type": "stream",
     "text": [
      "Processing files:  37%|███████████████████▉                                  | 386/1044 [16:28<28:56,  2.64s/it]"
     ]
    },
    {
     "name": "stdout",
     "output_type": "stream",
     "text": [
      "Tokenizing...\n"
     ]
    },
    {
     "name": "stderr",
     "output_type": "stream",
     "text": [
      "PTBTokenizer tokenized 61766 tokens at 322823.52 tokens per second.\n",
      "PTBTokenizer tokenized 9233 tokens at 72092.16 tokens per second.\n"
     ]
    },
    {
     "name": "stdout",
     "output_type": "stream",
     "text": [
      "Computing scores...\n",
      "Computing METEOR score...\n",
      "Computing CIDEr score...\n"
     ]
    },
    {
     "name": "stderr",
     "output_type": "stream",
     "text": [
      "Processing files:  37%|████████████████████                                  | 387/1044 [16:31<28:48,  2.63s/it]"
     ]
    },
    {
     "name": "stdout",
     "output_type": "stream",
     "text": [
      "Tokenizing...\n"
     ]
    },
    {
     "name": "stderr",
     "output_type": "stream",
     "text": [
      "PTBTokenizer tokenized 61766 tokens at 331720.80 tokens per second.\n",
      "PTBTokenizer tokenized 11791 tokens at 102440.11 tokens per second.\n"
     ]
    },
    {
     "name": "stdout",
     "output_type": "stream",
     "text": [
      "Computing scores...\n",
      "Computing METEOR score...\n",
      "Computing CIDEr score...\n"
     ]
    },
    {
     "name": "stderr",
     "output_type": "stream",
     "text": [
      "Processing files:  37%|████████████████████                                  | 388/1044 [16:34<29:07,  2.66s/it]"
     ]
    },
    {
     "name": "stdout",
     "output_type": "stream",
     "text": [
      "Tokenizing...\n"
     ]
    },
    {
     "name": "stderr",
     "output_type": "stream",
     "text": [
      "PTBTokenizer tokenized 61766 tokens at 325488.94 tokens per second.\n",
      "PTBTokenizer tokenized 9242 tokens at 82163.10 tokens per second.\n"
     ]
    },
    {
     "name": "stdout",
     "output_type": "stream",
     "text": [
      "Computing scores...\n",
      "Computing METEOR score...\n",
      "Computing CIDEr score...\n"
     ]
    },
    {
     "name": "stderr",
     "output_type": "stream",
     "text": [
      "Processing files:  37%|████████████████████                                  | 389/1044 [16:36<28:59,  2.66s/it]"
     ]
    },
    {
     "name": "stdout",
     "output_type": "stream",
     "text": [
      "Tokenizing...\n"
     ]
    },
    {
     "name": "stderr",
     "output_type": "stream",
     "text": [
      "PTBTokenizer tokenized 61766 tokens at 305991.86 tokens per second.\n",
      "PTBTokenizer tokenized 9241 tokens at 88728.35 tokens per second.\n"
     ]
    },
    {
     "name": "stdout",
     "output_type": "stream",
     "text": [
      "Computing scores...\n",
      "Computing METEOR score...\n",
      "Computing CIDEr score...\n"
     ]
    },
    {
     "name": "stderr",
     "output_type": "stream",
     "text": [
      "Processing files:  37%|████████████████████▏                                 | 390/1044 [16:39<29:10,  2.68s/it]"
     ]
    },
    {
     "name": "stdout",
     "output_type": "stream",
     "text": [
      "Tokenizing...\n"
     ]
    },
    {
     "name": "stderr",
     "output_type": "stream",
     "text": [
      "PTBTokenizer tokenized 61766 tokens at 327147.67 tokens per second.\n",
      "PTBTokenizer tokenized 9242 tokens at 86973.08 tokens per second.\n"
     ]
    },
    {
     "name": "stdout",
     "output_type": "stream",
     "text": [
      "Computing scores...\n",
      "Computing METEOR score...\n",
      "Computing CIDEr score...\n"
     ]
    },
    {
     "name": "stderr",
     "output_type": "stream",
     "text": [
      "Processing files:  37%|████████████████████▏                                 | 391/1044 [16:42<28:55,  2.66s/it]"
     ]
    },
    {
     "name": "stdout",
     "output_type": "stream",
     "text": [
      "Tokenizing...\n"
     ]
    },
    {
     "name": "stderr",
     "output_type": "stream",
     "text": [
      "PTBTokenizer tokenized 61766 tokens at 296594.83 tokens per second.\n",
      "PTBTokenizer tokenized 9134 tokens at 87410.53 tokens per second.\n"
     ]
    },
    {
     "name": "stdout",
     "output_type": "stream",
     "text": [
      "Computing scores...\n",
      "Computing METEOR score...\n",
      "Computing CIDEr score...\n"
     ]
    },
    {
     "name": "stderr",
     "output_type": "stream",
     "text": [
      "Processing files:  38%|████████████████████▎                                 | 392/1044 [16:45<29:05,  2.68s/it]"
     ]
    },
    {
     "name": "stdout",
     "output_type": "stream",
     "text": [
      "Tokenizing...\n"
     ]
    },
    {
     "name": "stderr",
     "output_type": "stream",
     "text": [
      "PTBTokenizer tokenized 61766 tokens at 352155.13 tokens per second.\n",
      "PTBTokenizer tokenized 9242 tokens at 82071.08 tokens per second.\n"
     ]
    },
    {
     "name": "stdout",
     "output_type": "stream",
     "text": [
      "Computing scores...\n",
      "Computing METEOR score...\n",
      "Computing CIDEr score...\n"
     ]
    },
    {
     "name": "stderr",
     "output_type": "stream",
     "text": [
      "Processing files:  38%|████████████████████▎                                 | 393/1044 [16:47<28:57,  2.67s/it]"
     ]
    },
    {
     "name": "stdout",
     "output_type": "stream",
     "text": [
      "Tokenizing...\n"
     ]
    },
    {
     "name": "stderr",
     "output_type": "stream",
     "text": [
      "PTBTokenizer tokenized 61766 tokens at 301672.57 tokens per second.\n",
      "PTBTokenizer tokenized 9242 tokens at 80510.09 tokens per second.\n"
     ]
    },
    {
     "name": "stdout",
     "output_type": "stream",
     "text": [
      "Computing scores...\n",
      "Computing METEOR score...\n",
      "Computing CIDEr score...\n"
     ]
    },
    {
     "name": "stderr",
     "output_type": "stream",
     "text": [
      "Processing files:  38%|████████████████████▍                                 | 394/1044 [16:50<29:00,  2.68s/it]"
     ]
    },
    {
     "name": "stdout",
     "output_type": "stream",
     "text": [
      "Tokenizing...\n"
     ]
    },
    {
     "name": "stderr",
     "output_type": "stream",
     "text": [
      "PTBTokenizer tokenized 61766 tokens at 314358.34 tokens per second.\n",
      "PTBTokenizer tokenized 9242 tokens at 86127.69 tokens per second.\n"
     ]
    },
    {
     "name": "stdout",
     "output_type": "stream",
     "text": [
      "Computing scores...\n",
      "Computing METEOR score...\n",
      "Computing CIDEr score...\n"
     ]
    },
    {
     "name": "stderr",
     "output_type": "stream",
     "text": [
      "Processing files:  38%|████████████████████▍                                 | 395/1044 [16:52<28:51,  2.67s/it]"
     ]
    },
    {
     "name": "stdout",
     "output_type": "stream",
     "text": [
      "Tokenizing...\n"
     ]
    },
    {
     "name": "stderr",
     "output_type": "stream",
     "text": [
      "PTBTokenizer tokenized 61766 tokens at 329404.56 tokens per second.\n",
      "PTBTokenizer tokenized 6917 tokens at 67414.75 tokens per second.\n"
     ]
    },
    {
     "name": "stdout",
     "output_type": "stream",
     "text": [
      "Computing scores...\n",
      "Computing METEOR score...\n",
      "Computing CIDEr score...\n"
     ]
    },
    {
     "name": "stderr",
     "output_type": "stream",
     "text": [
      "Processing files:  38%|████████████████████▍                                 | 396/1044 [16:55<28:09,  2.61s/it]"
     ]
    },
    {
     "name": "stdout",
     "output_type": "stream",
     "text": [
      "Tokenizing...\n"
     ]
    },
    {
     "name": "stderr",
     "output_type": "stream",
     "text": [
      "PTBTokenizer tokenized 61766 tokens at 335226.36 tokens per second.\n",
      "PTBTokenizer tokenized 9242 tokens at 82608.37 tokens per second.\n"
     ]
    },
    {
     "name": "stdout",
     "output_type": "stream",
     "text": [
      "Computing scores...\n",
      "Computing METEOR score...\n",
      "Computing CIDEr score...\n"
     ]
    },
    {
     "name": "stderr",
     "output_type": "stream",
     "text": [
      "Processing files:  38%|████████████████████▌                                 | 397/1044 [16:58<28:12,  2.62s/it]"
     ]
    },
    {
     "name": "stdout",
     "output_type": "stream",
     "text": [
      "Tokenizing...\n"
     ]
    },
    {
     "name": "stderr",
     "output_type": "stream",
     "text": [
      "PTBTokenizer tokenized 61766 tokens at 301288.39 tokens per second.\n",
      "PTBTokenizer tokenized 9229 tokens at 77898.34 tokens per second.\n"
     ]
    },
    {
     "name": "stdout",
     "output_type": "stream",
     "text": [
      "Computing scores...\n",
      "Computing METEOR score...\n",
      "Computing CIDEr score...\n"
     ]
    },
    {
     "name": "stderr",
     "output_type": "stream",
     "text": [
      "Processing files:  38%|████████████████████▌                                 | 398/1044 [17:00<28:33,  2.65s/it]"
     ]
    },
    {
     "name": "stdout",
     "output_type": "stream",
     "text": [
      "Tokenizing...\n"
     ]
    },
    {
     "name": "stderr",
     "output_type": "stream",
     "text": [
      "PTBTokenizer tokenized 61766 tokens at 339002.01 tokens per second.\n",
      "PTBTokenizer tokenized 9242 tokens at 88971.98 tokens per second.\n"
     ]
    },
    {
     "name": "stdout",
     "output_type": "stream",
     "text": [
      "Computing scores...\n",
      "Computing METEOR score...\n",
      "Computing CIDEr score...\n"
     ]
    },
    {
     "name": "stderr",
     "output_type": "stream",
     "text": [
      "Processing files:  38%|████████████████████▋                                 | 399/1044 [17:03<28:32,  2.65s/it]"
     ]
    },
    {
     "name": "stdout",
     "output_type": "stream",
     "text": [
      "Tokenizing...\n"
     ]
    },
    {
     "name": "stderr",
     "output_type": "stream",
     "text": [
      "PTBTokenizer tokenized 61766 tokens at 318578.21 tokens per second.\n",
      "PTBTokenizer tokenized 9202 tokens at 85711.10 tokens per second.\n"
     ]
    },
    {
     "name": "stdout",
     "output_type": "stream",
     "text": [
      "Computing scores...\n",
      "Computing METEOR score...\n",
      "Computing CIDEr score...\n"
     ]
    },
    {
     "name": "stderr",
     "output_type": "stream",
     "text": [
      "Processing files:  38%|████████████████████▋                                 | 400/1044 [17:06<28:26,  2.65s/it]"
     ]
    },
    {
     "name": "stdout",
     "output_type": "stream",
     "text": [
      "Tokenizing...\n"
     ]
    },
    {
     "name": "stderr",
     "output_type": "stream",
     "text": [
      "PTBTokenizer tokenized 61766 tokens at 293613.75 tokens per second.\n",
      "PTBTokenizer tokenized 8497 tokens at 86318.82 tokens per second.\n"
     ]
    },
    {
     "name": "stdout",
     "output_type": "stream",
     "text": [
      "Computing scores...\n",
      "Computing METEOR score...\n",
      "Computing CIDEr score...\n"
     ]
    },
    {
     "name": "stderr",
     "output_type": "stream",
     "text": [
      "Processing files:  38%|████████████████████▋                                 | 401/1044 [17:08<28:21,  2.65s/it]"
     ]
    },
    {
     "name": "stdout",
     "output_type": "stream",
     "text": [
      "Tokenizing...\n"
     ]
    },
    {
     "name": "stderr",
     "output_type": "stream",
     "text": [
      "PTBTokenizer tokenized 61766 tokens at 323224.61 tokens per second.\n",
      "PTBTokenizer tokenized 9242 tokens at 83185.26 tokens per second.\n"
     ]
    },
    {
     "name": "stdout",
     "output_type": "stream",
     "text": [
      "Computing scores...\n",
      "Computing METEOR score...\n",
      "Computing CIDEr score...\n"
     ]
    },
    {
     "name": "stderr",
     "output_type": "stream",
     "text": [
      "Processing files:  39%|████████████████████▊                                 | 402/1044 [17:11<28:19,  2.65s/it]"
     ]
    },
    {
     "name": "stdout",
     "output_type": "stream",
     "text": [
      "Tokenizing...\n"
     ]
    },
    {
     "name": "stderr",
     "output_type": "stream",
     "text": [
      "PTBTokenizer tokenized 61766 tokens at 334193.63 tokens per second.\n",
      "PTBTokenizer tokenized 9104 tokens at 80376.29 tokens per second.\n"
     ]
    },
    {
     "name": "stdout",
     "output_type": "stream",
     "text": [
      "Computing scores...\n",
      "Computing METEOR score...\n",
      "Computing CIDEr score...\n"
     ]
    },
    {
     "name": "stderr",
     "output_type": "stream",
     "text": [
      "Processing files:  39%|████████████████████▊                                 | 403/1044 [17:14<28:31,  2.67s/it]"
     ]
    },
    {
     "name": "stdout",
     "output_type": "stream",
     "text": [
      "Tokenizing...\n"
     ]
    },
    {
     "name": "stderr",
     "output_type": "stream",
     "text": [
      "PTBTokenizer tokenized 61766 tokens at 328894.77 tokens per second.\n",
      "PTBTokenizer tokenized 9204 tokens at 91544.08 tokens per second.\n"
     ]
    },
    {
     "name": "stdout",
     "output_type": "stream",
     "text": [
      "Computing scores...\n",
      "Computing METEOR score...\n",
      "Computing CIDEr score...\n"
     ]
    },
    {
     "name": "stderr",
     "output_type": "stream",
     "text": [
      "Processing files:  39%|████████████████████▉                                 | 404/1044 [17:16<28:35,  2.68s/it]"
     ]
    },
    {
     "name": "stdout",
     "output_type": "stream",
     "text": [
      "Tokenizing...\n"
     ]
    },
    {
     "name": "stderr",
     "output_type": "stream",
     "text": [
      "PTBTokenizer tokenized 61766 tokens at 284265.01 tokens per second.\n",
      "PTBTokenizer tokenized 9242 tokens at 88387.57 tokens per second.\n"
     ]
    },
    {
     "name": "stdout",
     "output_type": "stream",
     "text": [
      "Computing scores...\n",
      "Computing METEOR score...\n",
      "Computing CIDEr score...\n"
     ]
    },
    {
     "name": "stderr",
     "output_type": "stream",
     "text": [
      "Processing files:  39%|████████████████████▉                                 | 405/1044 [17:19<28:46,  2.70s/it]"
     ]
    },
    {
     "name": "stdout",
     "output_type": "stream",
     "text": [
      "Tokenizing...\n"
     ]
    },
    {
     "name": "stderr",
     "output_type": "stream",
     "text": [
      "PTBTokenizer tokenized 61766 tokens at 275807.03 tokens per second.\n",
      "PTBTokenizer tokenized 9242 tokens at 74297.60 tokens per second.\n"
     ]
    },
    {
     "name": "stdout",
     "output_type": "stream",
     "text": [
      "Computing scores...\n",
      "Computing METEOR score...\n",
      "Computing CIDEr score...\n"
     ]
    },
    {
     "name": "stderr",
     "output_type": "stream",
     "text": [
      "Processing files:  39%|█████████████████████                                 | 406/1044 [17:22<28:59,  2.73s/it]"
     ]
    },
    {
     "name": "stdout",
     "output_type": "stream",
     "text": [
      "Tokenizing...\n"
     ]
    },
    {
     "name": "stderr",
     "output_type": "stream",
     "text": [
      "PTBTokenizer tokenized 61766 tokens at 301527.49 tokens per second.\n",
      "PTBTokenizer tokenized 9242 tokens at 82342.40 tokens per second.\n"
     ]
    },
    {
     "name": "stdout",
     "output_type": "stream",
     "text": [
      "Computing scores...\n",
      "Computing METEOR score...\n",
      "Computing CIDEr score...\n"
     ]
    },
    {
     "name": "stderr",
     "output_type": "stream",
     "text": [
      "Processing files:  39%|█████████████████████                                 | 407/1044 [17:25<28:58,  2.73s/it]"
     ]
    },
    {
     "name": "stdout",
     "output_type": "stream",
     "text": [
      "Tokenizing...\n"
     ]
    },
    {
     "name": "stderr",
     "output_type": "stream",
     "text": [
      "PTBTokenizer tokenized 61766 tokens at 319957.70 tokens per second.\n",
      "PTBTokenizer tokenized 9079 tokens at 85735.72 tokens per second.\n"
     ]
    },
    {
     "name": "stdout",
     "output_type": "stream",
     "text": [
      "Computing scores...\n",
      "Computing METEOR score...\n",
      "Computing CIDEr score...\n"
     ]
    },
    {
     "name": "stderr",
     "output_type": "stream",
     "text": [
      "Processing files:  39%|█████████████████████                                 | 408/1044 [17:27<28:37,  2.70s/it]"
     ]
    },
    {
     "name": "stdout",
     "output_type": "stream",
     "text": [
      "Tokenizing...\n"
     ]
    },
    {
     "name": "stderr",
     "output_type": "stream",
     "text": [
      "PTBTokenizer tokenized 61766 tokens at 324062.12 tokens per second.\n",
      "PTBTokenizer tokenized 7625 tokens at 74154.70 tokens per second.\n"
     ]
    },
    {
     "name": "stdout",
     "output_type": "stream",
     "text": [
      "Computing scores...\n",
      "Computing METEOR score...\n",
      "Computing CIDEr score...\n"
     ]
    },
    {
     "name": "stderr",
     "output_type": "stream",
     "text": [
      "Processing files:  39%|█████████████████████▏                                | 409/1044 [17:30<28:01,  2.65s/it]"
     ]
    },
    {
     "name": "stdout",
     "output_type": "stream",
     "text": [
      "Tokenizing...\n"
     ]
    },
    {
     "name": "stderr",
     "output_type": "stream",
     "text": [
      "PTBTokenizer tokenized 61766 tokens at 354625.96 tokens per second.\n",
      "PTBTokenizer tokenized 8482 tokens at 78716.23 tokens per second.\n"
     ]
    },
    {
     "name": "stdout",
     "output_type": "stream",
     "text": [
      "Computing scores...\n",
      "Computing METEOR score...\n",
      "Computing CIDEr score...\n"
     ]
    },
    {
     "name": "stderr",
     "output_type": "stream",
     "text": [
      "Processing files:  39%|█████████████████████▏                                | 410/1044 [17:32<27:27,  2.60s/it]"
     ]
    },
    {
     "name": "stdout",
     "output_type": "stream",
     "text": [
      "Tokenizing...\n"
     ]
    },
    {
     "name": "stderr",
     "output_type": "stream",
     "text": [
      "PTBTokenizer tokenized 61766 tokens at 340182.62 tokens per second.\n",
      "PTBTokenizer tokenized 9235 tokens at 86145.89 tokens per second.\n"
     ]
    },
    {
     "name": "stdout",
     "output_type": "stream",
     "text": [
      "Computing scores...\n",
      "Computing METEOR score...\n",
      "Computing CIDEr score...\n"
     ]
    },
    {
     "name": "stderr",
     "output_type": "stream",
     "text": [
      "Processing files:  39%|█████████████████████▎                                | 411/1044 [17:35<27:21,  2.59s/it]"
     ]
    },
    {
     "name": "stdout",
     "output_type": "stream",
     "text": [
      "Tokenizing...\n"
     ]
    },
    {
     "name": "stderr",
     "output_type": "stream",
     "text": [
      "PTBTokenizer tokenized 61766 tokens at 320625.09 tokens per second.\n",
      "PTBTokenizer tokenized 8523 tokens at 84187.17 tokens per second.\n"
     ]
    },
    {
     "name": "stdout",
     "output_type": "stream",
     "text": [
      "Computing scores...\n",
      "Computing METEOR score...\n",
      "Computing CIDEr score...\n"
     ]
    },
    {
     "name": "stderr",
     "output_type": "stream",
     "text": [
      "Processing files:  39%|█████████████████████▎                                | 412/1044 [17:38<27:38,  2.62s/it]"
     ]
    },
    {
     "name": "stdout",
     "output_type": "stream",
     "text": [
      "Tokenizing...\n"
     ]
    },
    {
     "name": "stderr",
     "output_type": "stream",
     "text": [
      "PTBTokenizer tokenized 61766 tokens at 279788.68 tokens per second.\n",
      "PTBTokenizer tokenized 8055 tokens at 80949.33 tokens per second.\n"
     ]
    },
    {
     "name": "stdout",
     "output_type": "stream",
     "text": [
      "Computing scores...\n",
      "Computing METEOR score...\n",
      "Computing CIDEr score...\n"
     ]
    },
    {
     "name": "stderr",
     "output_type": "stream",
     "text": [
      "Processing files:  40%|█████████████████████▎                                | 413/1044 [17:40<27:33,  2.62s/it]"
     ]
    },
    {
     "name": "stdout",
     "output_type": "stream",
     "text": [
      "Tokenizing...\n"
     ]
    },
    {
     "name": "stderr",
     "output_type": "stream",
     "text": [
      "PTBTokenizer tokenized 61766 tokens at 334568.17 tokens per second.\n",
      "PTBTokenizer tokenized 9235 tokens at 88085.48 tokens per second.\n"
     ]
    },
    {
     "name": "stdout",
     "output_type": "stream",
     "text": [
      "Computing scores...\n",
      "Computing METEOR score...\n",
      "Computing CIDEr score...\n"
     ]
    },
    {
     "name": "stderr",
     "output_type": "stream",
     "text": [
      "Processing files:  40%|█████████████████████▍                                | 414/1044 [17:43<27:31,  2.62s/it]"
     ]
    },
    {
     "name": "stdout",
     "output_type": "stream",
     "text": [
      "Tokenizing...\n"
     ]
    },
    {
     "name": "stderr",
     "output_type": "stream",
     "text": [
      "PTBTokenizer tokenized 61766 tokens at 342423.95 tokens per second.\n",
      "PTBTokenizer tokenized 9090 tokens at 85082.22 tokens per second.\n"
     ]
    },
    {
     "name": "stdout",
     "output_type": "stream",
     "text": [
      "Computing scores...\n",
      "Computing METEOR score...\n",
      "Computing CIDEr score...\n"
     ]
    },
    {
     "name": "stderr",
     "output_type": "stream",
     "text": [
      "Processing files:  40%|█████████████████████▍                                | 415/1044 [17:45<27:04,  2.58s/it]"
     ]
    },
    {
     "name": "stdout",
     "output_type": "stream",
     "text": [
      "Tokenizing...\n"
     ]
    },
    {
     "name": "stderr",
     "output_type": "stream",
     "text": [
      "PTBTokenizer tokenized 61766 tokens at 297425.65 tokens per second.\n",
      "PTBTokenizer tokenized 9242 tokens at 82024.52 tokens per second.\n"
     ]
    },
    {
     "name": "stdout",
     "output_type": "stream",
     "text": [
      "Computing scores...\n",
      "Computing METEOR score...\n",
      "Computing CIDEr score...\n"
     ]
    },
    {
     "name": "stderr",
     "output_type": "stream",
     "text": [
      "Processing files:  40%|█████████████████████▌                                | 416/1044 [17:48<27:31,  2.63s/it]"
     ]
    },
    {
     "name": "stdout",
     "output_type": "stream",
     "text": [
      "Tokenizing...\n"
     ]
    },
    {
     "name": "stderr",
     "output_type": "stream",
     "text": [
      "PTBTokenizer tokenized 61766 tokens at 319927.16 tokens per second.\n",
      "PTBTokenizer tokenized 9237 tokens at 81138.06 tokens per second.\n"
     ]
    },
    {
     "name": "stdout",
     "output_type": "stream",
     "text": [
      "Computing scores...\n",
      "Computing METEOR score...\n",
      "Computing CIDEr score...\n"
     ]
    },
    {
     "name": "stderr",
     "output_type": "stream",
     "text": [
      "Processing files:  40%|█████████████████████▌                                | 417/1044 [17:51<27:28,  2.63s/it]"
     ]
    },
    {
     "name": "stdout",
     "output_type": "stream",
     "text": [
      "Tokenizing...\n"
     ]
    },
    {
     "name": "stderr",
     "output_type": "stream",
     "text": [
      "PTBTokenizer tokenized 61766 tokens at 322563.80 tokens per second.\n",
      "PTBTokenizer tokenized 9224 tokens at 76536.15 tokens per second.\n"
     ]
    },
    {
     "name": "stdout",
     "output_type": "stream",
     "text": [
      "Computing scores...\n",
      "Computing METEOR score...\n",
      "Computing CIDEr score...\n"
     ]
    },
    {
     "name": "stderr",
     "output_type": "stream",
     "text": [
      "Processing files:  40%|█████████████████████▌                                | 418/1044 [17:53<27:26,  2.63s/it]"
     ]
    },
    {
     "name": "stdout",
     "output_type": "stream",
     "text": [
      "Tokenizing...\n"
     ]
    },
    {
     "name": "stderr",
     "output_type": "stream",
     "text": [
      "PTBTokenizer tokenized 61766 tokens at 303577.32 tokens per second.\n",
      "Jul 19, 2024 4:38:17 PM edu.stanford.nlp.process.PTBLexer next\n",
      "WARNING: Untokenizable: � (U+FFFD, decimal: 65533)\n",
      "PTBTokenizer tokenized 8505 tokens at 47336.68 tokens per second.\n"
     ]
    },
    {
     "name": "stdout",
     "output_type": "stream",
     "text": [
      "Computing scores...\n",
      "Computing METEOR score...\n",
      "Computing CIDEr score...\n"
     ]
    },
    {
     "name": "stderr",
     "output_type": "stream",
     "text": [
      "Processing files:  40%|█████████████████████▋                                | 419/1044 [17:56<26:50,  2.58s/it]"
     ]
    },
    {
     "name": "stdout",
     "output_type": "stream",
     "text": [
      "Tokenizing...\n"
     ]
    },
    {
     "name": "stderr",
     "output_type": "stream",
     "text": [
      "PTBTokenizer tokenized 61766 tokens at 328147.57 tokens per second.\n",
      "PTBTokenizer tokenized 9242 tokens at 82465.39 tokens per second.\n"
     ]
    },
    {
     "name": "stdout",
     "output_type": "stream",
     "text": [
      "Computing scores...\n",
      "Computing METEOR score...\n",
      "Computing CIDEr score...\n"
     ]
    },
    {
     "name": "stderr",
     "output_type": "stream",
     "text": [
      "Processing files:  40%|█████████████████████▋                                | 420/1044 [17:58<27:14,  2.62s/it]"
     ]
    },
    {
     "name": "stdout",
     "output_type": "stream",
     "text": [
      "Tokenizing...\n"
     ]
    },
    {
     "name": "stderr",
     "output_type": "stream",
     "text": [
      "PTBTokenizer tokenized 61766 tokens at 295570.61 tokens per second.\n",
      "PTBTokenizer tokenized 8608 tokens at 76909.79 tokens per second.\n"
     ]
    },
    {
     "name": "stdout",
     "output_type": "stream",
     "text": [
      "Computing scores...\n",
      "Computing METEOR score...\n",
      "Computing CIDEr score...\n"
     ]
    },
    {
     "name": "stderr",
     "output_type": "stream",
     "text": [
      "Processing files:  40%|█████████████████████▊                                | 421/1044 [18:01<27:13,  2.62s/it]"
     ]
    },
    {
     "name": "stdout",
     "output_type": "stream",
     "text": [
      "Tokenizing...\n"
     ]
    },
    {
     "name": "stderr",
     "output_type": "stream",
     "text": [
      "PTBTokenizer tokenized 61766 tokens at 277618.56 tokens per second.\n",
      "PTBTokenizer tokenized 9191 tokens at 84355.55 tokens per second.\n"
     ]
    },
    {
     "name": "stdout",
     "output_type": "stream",
     "text": [
      "Computing scores...\n",
      "Computing METEOR score...\n",
      "Computing CIDEr score...\n"
     ]
    },
    {
     "name": "stderr",
     "output_type": "stream",
     "text": [
      "Processing files:  40%|█████████████████████▊                                | 422/1044 [18:04<27:36,  2.66s/it]"
     ]
    },
    {
     "name": "stdout",
     "output_type": "stream",
     "text": [
      "Tokenizing...\n"
     ]
    },
    {
     "name": "stderr",
     "output_type": "stream",
     "text": [
      "PTBTokenizer tokenized 61766 tokens at 320784.11 tokens per second.\n",
      "PTBTokenizer tokenized 9160 tokens at 79787.17 tokens per second.\n"
     ]
    },
    {
     "name": "stdout",
     "output_type": "stream",
     "text": [
      "Computing scores...\n",
      "Computing METEOR score...\n",
      "Computing CIDEr score...\n"
     ]
    },
    {
     "name": "stderr",
     "output_type": "stream",
     "text": [
      "Processing files:  41%|█████████████████████▉                                | 423/1044 [18:06<27:11,  2.63s/it]"
     ]
    },
    {
     "name": "stdout",
     "output_type": "stream",
     "text": [
      "Tokenizing...\n"
     ]
    },
    {
     "name": "stderr",
     "output_type": "stream",
     "text": [
      "PTBTokenizer tokenized 61766 tokens at 320028.97 tokens per second.\n",
      "PTBTokenizer tokenized 7890 tokens at 73128.22 tokens per second.\n"
     ]
    },
    {
     "name": "stdout",
     "output_type": "stream",
     "text": [
      "Computing scores...\n",
      "Computing METEOR score...\n",
      "Computing CIDEr score...\n"
     ]
    },
    {
     "name": "stderr",
     "output_type": "stream",
     "text": [
      "Processing files:  41%|█████████████████████▉                                | 424/1044 [18:09<27:00,  2.61s/it]"
     ]
    },
    {
     "name": "stdout",
     "output_type": "stream",
     "text": [
      "Tokenizing...\n"
     ]
    },
    {
     "name": "stderr",
     "output_type": "stream",
     "text": [
      "PTBTokenizer tokenized 61766 tokens at 323069.12 tokens per second.\n",
      "PTBTokenizer tokenized 9304 tokens at 83498.01 tokens per second.\n"
     ]
    },
    {
     "name": "stdout",
     "output_type": "stream",
     "text": [
      "Computing scores...\n",
      "Computing METEOR score...\n",
      "Computing CIDEr score...\n"
     ]
    },
    {
     "name": "stderr",
     "output_type": "stream",
     "text": [
      "Processing files:  41%|█████████████████████▉                                | 425/1044 [18:12<27:33,  2.67s/it]"
     ]
    },
    {
     "name": "stdout",
     "output_type": "stream",
     "text": [
      "Tokenizing...\n"
     ]
    },
    {
     "name": "stderr",
     "output_type": "stream",
     "text": [
      "PTBTokenizer tokenized 61766 tokens at 284024.32 tokens per second.\n",
      "PTBTokenizer tokenized 9098 tokens at 75286.84 tokens per second.\n"
     ]
    },
    {
     "name": "stdout",
     "output_type": "stream",
     "text": [
      "Computing scores...\n",
      "Computing METEOR score...\n",
      "Computing CIDEr score...\n"
     ]
    },
    {
     "name": "stderr",
     "output_type": "stream",
     "text": [
      "Processing files:  41%|██████████████████████                                | 426/1044 [18:14<27:41,  2.69s/it]"
     ]
    },
    {
     "name": "stdout",
     "output_type": "stream",
     "text": [
      "Tokenizing...\n"
     ]
    },
    {
     "name": "stderr",
     "output_type": "stream",
     "text": [
      "PTBTokenizer tokenized 61766 tokens at 332175.88 tokens per second.\n",
      "PTBTokenizer tokenized 7902 tokens at 80075.10 tokens per second.\n"
     ]
    },
    {
     "name": "stdout",
     "output_type": "stream",
     "text": [
      "Computing scores...\n",
      "Computing METEOR score...\n",
      "Computing CIDEr score...\n"
     ]
    },
    {
     "name": "stderr",
     "output_type": "stream",
     "text": [
      "Processing files:  41%|██████████████████████                                | 427/1044 [18:17<26:59,  2.63s/it]"
     ]
    },
    {
     "name": "stdout",
     "output_type": "stream",
     "text": [
      "Tokenizing...\n"
     ]
    },
    {
     "name": "stderr",
     "output_type": "stream",
     "text": [
      "PTBTokenizer tokenized 61766 tokens at 338441.27 tokens per second.\n",
      "PTBTokenizer tokenized 9097 tokens at 85771.38 tokens per second.\n"
     ]
    },
    {
     "name": "stdout",
     "output_type": "stream",
     "text": [
      "Computing scores...\n",
      "Computing METEOR score...\n",
      "Computing CIDEr score...\n"
     ]
    },
    {
     "name": "stderr",
     "output_type": "stream",
     "text": [
      "Processing files:  41%|██████████████████████▏                               | 428/1044 [18:20<27:09,  2.64s/it]"
     ]
    },
    {
     "name": "stdout",
     "output_type": "stream",
     "text": [
      "Tokenizing...\n"
     ]
    },
    {
     "name": "stderr",
     "output_type": "stream",
     "text": [
      "PTBTokenizer tokenized 61766 tokens at 302627.19 tokens per second.\n",
      "PTBTokenizer tokenized 8049 tokens at 75090.24 tokens per second.\n"
     ]
    },
    {
     "name": "stdout",
     "output_type": "stream",
     "text": [
      "Computing scores...\n",
      "Computing METEOR score...\n",
      "Computing CIDEr score...\n"
     ]
    },
    {
     "name": "stderr",
     "output_type": "stream",
     "text": [
      "Processing files:  41%|██████████████████████▏                               | 429/1044 [18:22<27:27,  2.68s/it]"
     ]
    },
    {
     "name": "stdout",
     "output_type": "stream",
     "text": [
      "Tokenizing...\n"
     ]
    },
    {
     "name": "stderr",
     "output_type": "stream",
     "text": [
      "PTBTokenizer tokenized 61766 tokens at 290166.16 tokens per second.\n",
      "PTBTokenizer tokenized 6829 tokens at 70489.81 tokens per second.\n"
     ]
    },
    {
     "name": "stdout",
     "output_type": "stream",
     "text": [
      "Computing scores...\n",
      "Computing METEOR score...\n",
      "Computing CIDEr score...\n"
     ]
    },
    {
     "name": "stderr",
     "output_type": "stream",
     "text": [
      "Processing files:  41%|██████████████████████▏                               | 430/1044 [18:25<26:33,  2.60s/it]"
     ]
    },
    {
     "name": "stdout",
     "output_type": "stream",
     "text": [
      "Tokenizing...\n"
     ]
    },
    {
     "name": "stderr",
     "output_type": "stream",
     "text": [
      "PTBTokenizer tokenized 61766 tokens at 310692.13 tokens per second.\n",
      "PTBTokenizer tokenized 7728 tokens at 75113.85 tokens per second.\n"
     ]
    },
    {
     "name": "stdout",
     "output_type": "stream",
     "text": [
      "Computing scores...\n",
      "Computing METEOR score...\n",
      "Computing CIDEr score...\n"
     ]
    },
    {
     "name": "stderr",
     "output_type": "stream",
     "text": [
      "Processing files:  41%|██████████████████████▎                               | 431/1044 [18:27<26:06,  2.56s/it]"
     ]
    },
    {
     "name": "stdout",
     "output_type": "stream",
     "text": [
      "Tokenizing...\n"
     ]
    },
    {
     "name": "stderr",
     "output_type": "stream",
     "text": [
      "PTBTokenizer tokenized 61766 tokens at 327027.86 tokens per second.\n",
      "Jul 19, 2024 4:38:51 PM edu.stanford.nlp.process.PTBLexer next\n",
      "WARNING: Untokenizable: � (U+FFFD, decimal: 65533)\n",
      "PTBTokenizer tokenized 7918 tokens at 45967.79 tokens per second.\n"
     ]
    },
    {
     "name": "stdout",
     "output_type": "stream",
     "text": [
      "Computing scores...\n",
      "Computing METEOR score...\n",
      "Computing CIDEr score...\n"
     ]
    },
    {
     "name": "stderr",
     "output_type": "stream",
     "text": [
      "Processing files:  41%|██████████████████████▎                               | 432/1044 [18:30<25:48,  2.53s/it]"
     ]
    },
    {
     "name": "stdout",
     "output_type": "stream",
     "text": [
      "Tokenizing...\n"
     ]
    },
    {
     "name": "stderr",
     "output_type": "stream",
     "text": [
      "PTBTokenizer tokenized 61766 tokens at 358391.95 tokens per second.\n",
      "PTBTokenizer tokenized 9077 tokens at 83639.36 tokens per second.\n"
     ]
    },
    {
     "name": "stdout",
     "output_type": "stream",
     "text": [
      "Computing scores...\n",
      "Computing METEOR score...\n",
      "Computing CIDEr score...\n"
     ]
    },
    {
     "name": "stderr",
     "output_type": "stream",
     "text": [
      "Processing files:  41%|██████████████████████▍                               | 433/1044 [18:32<26:06,  2.56s/it]"
     ]
    },
    {
     "name": "stdout",
     "output_type": "stream",
     "text": [
      "Tokenizing...\n"
     ]
    },
    {
     "name": "stderr",
     "output_type": "stream",
     "text": [
      "PTBTokenizer tokenized 61766 tokens at 334070.84 tokens per second.\n",
      "PTBTokenizer tokenized 9242 tokens at 84546.40 tokens per second.\n"
     ]
    },
    {
     "name": "stdout",
     "output_type": "stream",
     "text": [
      "Computing scores...\n",
      "Computing METEOR score...\n",
      "Computing CIDEr score...\n"
     ]
    },
    {
     "name": "stderr",
     "output_type": "stream",
     "text": [
      "Processing files:  42%|██████████████████████▍                               | 434/1044 [18:35<25:55,  2.55s/it]"
     ]
    },
    {
     "name": "stdout",
     "output_type": "stream",
     "text": [
      "Tokenizing...\n"
     ]
    },
    {
     "name": "stderr",
     "output_type": "stream",
     "text": [
      "PTBTokenizer tokenized 61766 tokens at 340488.44 tokens per second.\n",
      "PTBTokenizer tokenized 9184 tokens at 83763.10 tokens per second.\n"
     ]
    },
    {
     "name": "stdout",
     "output_type": "stream",
     "text": [
      "Computing scores...\n",
      "Computing METEOR score...\n",
      "Computing CIDEr score...\n"
     ]
    },
    {
     "name": "stderr",
     "output_type": "stream",
     "text": [
      "Processing files:  42%|██████████████████████▌                               | 435/1044 [18:38<26:24,  2.60s/it]"
     ]
    },
    {
     "name": "stdout",
     "output_type": "stream",
     "text": [
      "Tokenizing...\n"
     ]
    },
    {
     "name": "stderr",
     "output_type": "stream",
     "text": [
      "PTBTokenizer tokenized 61766 tokens at 320055.02 tokens per second.\n",
      "PTBTokenizer tokenized 9242 tokens at 85418.17 tokens per second.\n"
     ]
    },
    {
     "name": "stdout",
     "output_type": "stream",
     "text": [
      "Computing scores...\n",
      "Computing METEOR score...\n",
      "Computing CIDEr score...\n"
     ]
    },
    {
     "name": "stderr",
     "output_type": "stream",
     "text": [
      "Processing files:  42%|██████████████████████▌                               | 436/1044 [18:40<26:22,  2.60s/it]"
     ]
    },
    {
     "name": "stdout",
     "output_type": "stream",
     "text": [
      "Tokenizing...\n"
     ]
    },
    {
     "name": "stderr",
     "output_type": "stream",
     "text": [
      "PTBTokenizer tokenized 61766 tokens at 288855.13 tokens per second.\n",
      "PTBTokenizer tokenized 9171 tokens at 74565.52 tokens per second.\n"
     ]
    },
    {
     "name": "stdout",
     "output_type": "stream",
     "text": [
      "Computing scores...\n",
      "Computing METEOR score...\n",
      "Computing CIDEr score...\n"
     ]
    },
    {
     "name": "stderr",
     "output_type": "stream",
     "text": [
      "Processing files:  42%|██████████████████████▌                               | 437/1044 [18:43<27:04,  2.68s/it]"
     ]
    },
    {
     "name": "stdout",
     "output_type": "stream",
     "text": [
      "Tokenizing...\n"
     ]
    },
    {
     "name": "stderr",
     "output_type": "stream",
     "text": [
      "PTBTokenizer tokenized 61766 tokens at 323280.94 tokens per second.\n",
      "Jul 19, 2024 4:39:07 PM edu.stanford.nlp.process.PTBLexer next\n",
      "WARNING: Untokenizable: � (U+FFFD, decimal: 65533)\n",
      "PTBTokenizer tokenized 8505 tokens at 45633.06 tokens per second.\n"
     ]
    },
    {
     "name": "stdout",
     "output_type": "stream",
     "text": [
      "Computing scores...\n",
      "Computing METEOR score...\n",
      "Computing CIDEr score...\n"
     ]
    },
    {
     "name": "stderr",
     "output_type": "stream",
     "text": [
      "Processing files:  42%|██████████████████████▋                               | 438/1044 [18:46<26:22,  2.61s/it]"
     ]
    },
    {
     "name": "stdout",
     "output_type": "stream",
     "text": [
      "Tokenizing...\n"
     ]
    },
    {
     "name": "stderr",
     "output_type": "stream",
     "text": [
      "PTBTokenizer tokenized 61766 tokens at 312455.82 tokens per second.\n",
      "PTBTokenizer tokenized 9168 tokens at 87909.91 tokens per second.\n"
     ]
    },
    {
     "name": "stdout",
     "output_type": "stream",
     "text": [
      "Computing scores...\n",
      "Computing METEOR score...\n",
      "Computing CIDEr score...\n"
     ]
    },
    {
     "name": "stderr",
     "output_type": "stream",
     "text": [
      "Processing files:  42%|██████████████████████▋                               | 439/1044 [18:48<26:12,  2.60s/it]"
     ]
    },
    {
     "name": "stdout",
     "output_type": "stream",
     "text": [
      "Tokenizing...\n"
     ]
    },
    {
     "name": "stderr",
     "output_type": "stream",
     "text": [
      "PTBTokenizer tokenized 61766 tokens at 279217.81 tokens per second.\n",
      "PTBTokenizer tokenized 9242 tokens at 85987.63 tokens per second.\n"
     ]
    },
    {
     "name": "stdout",
     "output_type": "stream",
     "text": [
      "Computing scores...\n",
      "Computing METEOR score...\n",
      "Computing CIDEr score...\n"
     ]
    },
    {
     "name": "stderr",
     "output_type": "stream",
     "text": [
      "Processing files:  42%|██████████████████████▊                               | 440/1044 [18:51<26:19,  2.62s/it]"
     ]
    },
    {
     "name": "stdout",
     "output_type": "stream",
     "text": [
      "Tokenizing...\n"
     ]
    },
    {
     "name": "stderr",
     "output_type": "stream",
     "text": [
      "PTBTokenizer tokenized 61766 tokens at 317090.89 tokens per second.\n",
      "PTBTokenizer tokenized 9242 tokens at 88019.56 tokens per second.\n"
     ]
    },
    {
     "name": "stdout",
     "output_type": "stream",
     "text": [
      "Computing scores...\n",
      "Computing METEOR score...\n",
      "Computing CIDEr score...\n"
     ]
    },
    {
     "name": "stderr",
     "output_type": "stream",
     "text": [
      "Processing files:  42%|██████████████████████▊                               | 441/1044 [18:53<26:35,  2.65s/it]"
     ]
    },
    {
     "name": "stdout",
     "output_type": "stream",
     "text": [
      "Tokenizing...\n"
     ]
    },
    {
     "name": "stderr",
     "output_type": "stream",
     "text": [
      "PTBTokenizer tokenized 61766 tokens at 324232.79 tokens per second.\n",
      "PTBTokenizer tokenized 7776 tokens at 78783.89 tokens per second.\n"
     ]
    },
    {
     "name": "stdout",
     "output_type": "stream",
     "text": [
      "Computing scores...\n",
      "Computing METEOR score...\n",
      "Computing CIDEr score...\n"
     ]
    },
    {
     "name": "stderr",
     "output_type": "stream",
     "text": [
      "Processing files:  42%|██████████████████████▊                               | 442/1044 [18:56<26:30,  2.64s/it]"
     ]
    },
    {
     "name": "stdout",
     "output_type": "stream",
     "text": [
      "Tokenizing...\n"
     ]
    },
    {
     "name": "stderr",
     "output_type": "stream",
     "text": [
      "PTBTokenizer tokenized 61766 tokens at 319203.50 tokens per second.\n",
      "PTBTokenizer tokenized 8089 tokens at 77638.07 tokens per second.\n"
     ]
    },
    {
     "name": "stdout",
     "output_type": "stream",
     "text": [
      "Computing scores...\n",
      "Computing METEOR score...\n",
      "Computing CIDEr score...\n"
     ]
    },
    {
     "name": "stderr",
     "output_type": "stream",
     "text": [
      "Processing files:  42%|██████████████████████▉                               | 443/1044 [18:59<26:10,  2.61s/it]"
     ]
    },
    {
     "name": "stdout",
     "output_type": "stream",
     "text": [
      "Tokenizing...\n"
     ]
    },
    {
     "name": "stderr",
     "output_type": "stream",
     "text": [
      "PTBTokenizer tokenized 61766 tokens at 295432.59 tokens per second.\n",
      "PTBTokenizer tokenized 9234 tokens at 81570.52 tokens per second.\n"
     ]
    },
    {
     "name": "stdout",
     "output_type": "stream",
     "text": [
      "Computing scores...\n",
      "Computing METEOR score...\n",
      "Computing CIDEr score...\n"
     ]
    },
    {
     "name": "stderr",
     "output_type": "stream",
     "text": [
      "Processing files:  43%|██████████████████████▉                               | 444/1044 [19:01<26:15,  2.63s/it]"
     ]
    },
    {
     "name": "stdout",
     "output_type": "stream",
     "text": [
      "Tokenizing...\n"
     ]
    },
    {
     "name": "stderr",
     "output_type": "stream",
     "text": [
      "PTBTokenizer tokenized 61766 tokens at 308918.28 tokens per second.\n",
      "PTBTokenizer tokenized 8263 tokens at 72521.85 tokens per second.\n"
     ]
    },
    {
     "name": "stdout",
     "output_type": "stream",
     "text": [
      "Computing scores...\n",
      "Computing METEOR score...\n",
      "Computing CIDEr score...\n"
     ]
    },
    {
     "name": "stderr",
     "output_type": "stream",
     "text": [
      "Processing files:  43%|███████████████████████                               | 445/1044 [19:04<26:34,  2.66s/it]"
     ]
    },
    {
     "name": "stdout",
     "output_type": "stream",
     "text": [
      "Tokenizing...\n"
     ]
    },
    {
     "name": "stderr",
     "output_type": "stream",
     "text": [
      "PTBTokenizer tokenized 61766 tokens at 296453.14 tokens per second.\n",
      "PTBTokenizer tokenized 9241 tokens at 76324.17 tokens per second.\n"
     ]
    },
    {
     "name": "stdout",
     "output_type": "stream",
     "text": [
      "Computing scores...\n",
      "Computing METEOR score...\n",
      "Computing CIDEr score...\n"
     ]
    },
    {
     "name": "stderr",
     "output_type": "stream",
     "text": [
      "Processing files:  43%|███████████████████████                               | 446/1044 [19:07<26:53,  2.70s/it]"
     ]
    },
    {
     "name": "stdout",
     "output_type": "stream",
     "text": [
      "Tokenizing...\n"
     ]
    },
    {
     "name": "stderr",
     "output_type": "stream",
     "text": [
      "PTBTokenizer tokenized 61766 tokens at 294093.21 tokens per second.\n",
      "PTBTokenizer tokenized 9086 tokens at 70211.79 tokens per second.\n"
     ]
    },
    {
     "name": "stdout",
     "output_type": "stream",
     "text": [
      "Computing scores...\n",
      "Computing METEOR score...\n",
      "Computing CIDEr score...\n"
     ]
    },
    {
     "name": "stderr",
     "output_type": "stream",
     "text": [
      "Processing files:  43%|███████████████████████                               | 447/1044 [19:10<27:00,  2.71s/it]"
     ]
    },
    {
     "name": "stdout",
     "output_type": "stream",
     "text": [
      "Tokenizing...\n"
     ]
    },
    {
     "name": "stderr",
     "output_type": "stream",
     "text": [
      "PTBTokenizer tokenized 61766 tokens at 272201.88 tokens per second.\n",
      "PTBTokenizer tokenized 9169 tokens at 78859.19 tokens per second.\n"
     ]
    },
    {
     "name": "stdout",
     "output_type": "stream",
     "text": [
      "Computing scores...\n",
      "Computing METEOR score...\n",
      "Computing CIDEr score...\n"
     ]
    },
    {
     "name": "stderr",
     "output_type": "stream",
     "text": [
      "Processing files:  43%|███████████████████████▏                              | 448/1044 [19:12<27:00,  2.72s/it]"
     ]
    },
    {
     "name": "stdout",
     "output_type": "stream",
     "text": [
      "Tokenizing...\n"
     ]
    },
    {
     "name": "stderr",
     "output_type": "stream",
     "text": [
      "PTBTokenizer tokenized 61766 tokens at 319917.41 tokens per second.\n",
      "PTBTokenizer tokenized 8076 tokens at 75221.76 tokens per second.\n"
     ]
    },
    {
     "name": "stdout",
     "output_type": "stream",
     "text": [
      "Computing scores...\n",
      "Computing METEOR score...\n",
      "Computing CIDEr score...\n"
     ]
    },
    {
     "name": "stderr",
     "output_type": "stream",
     "text": [
      "Processing files:  43%|███████████████████████▏                              | 449/1044 [19:15<26:45,  2.70s/it]"
     ]
    },
    {
     "name": "stdout",
     "output_type": "stream",
     "text": [
      "Tokenizing...\n"
     ]
    },
    {
     "name": "stderr",
     "output_type": "stream",
     "text": [
      "PTBTokenizer tokenized 61766 tokens at 310939.27 tokens per second.\n",
      "PTBTokenizer tokenized 7765 tokens at 59299.68 tokens per second.\n"
     ]
    },
    {
     "name": "stdout",
     "output_type": "stream",
     "text": [
      "Computing scores...\n",
      "Computing METEOR score...\n",
      "Computing CIDEr score...\n"
     ]
    },
    {
     "name": "stderr",
     "output_type": "stream",
     "text": [
      "Processing files:  43%|███████████████████████▎                              | 450/1044 [19:18<26:58,  2.72s/it]"
     ]
    },
    {
     "name": "stdout",
     "output_type": "stream",
     "text": [
      "Tokenizing...\n"
     ]
    },
    {
     "name": "stderr",
     "output_type": "stream",
     "text": [
      "PTBTokenizer tokenized 61766 tokens at 310122.53 tokens per second.\n",
      "PTBTokenizer tokenized 8523 tokens at 78521.18 tokens per second.\n"
     ]
    },
    {
     "name": "stdout",
     "output_type": "stream",
     "text": [
      "Computing scores...\n",
      "Computing METEOR score...\n",
      "Computing CIDEr score...\n"
     ]
    },
    {
     "name": "stderr",
     "output_type": "stream",
     "text": [
      "Processing files:  43%|███████████████████████▎                              | 451/1044 [19:20<26:54,  2.72s/it]"
     ]
    },
    {
     "name": "stdout",
     "output_type": "stream",
     "text": [
      "Tokenizing...\n"
     ]
    },
    {
     "name": "stderr",
     "output_type": "stream",
     "text": [
      "PTBTokenizer tokenized 61766 tokens at 282756.91 tokens per second.\n",
      "PTBTokenizer tokenized 9242 tokens at 82324.62 tokens per second.\n"
     ]
    },
    {
     "name": "stdout",
     "output_type": "stream",
     "text": [
      "Computing scores...\n",
      "Computing METEOR score...\n",
      "Computing CIDEr score...\n"
     ]
    },
    {
     "name": "stderr",
     "output_type": "stream",
     "text": [
      "Processing files:  43%|███████████████████████▍                              | 452/1044 [19:23<26:42,  2.71s/it]"
     ]
    },
    {
     "name": "stdout",
     "output_type": "stream",
     "text": [
      "Tokenizing...\n"
     ]
    },
    {
     "name": "stderr",
     "output_type": "stream",
     "text": [
      "PTBTokenizer tokenized 61766 tokens at 313664.49 tokens per second.\n",
      "PTBTokenizer tokenized 9476 tokens at 86484.09 tokens per second.\n"
     ]
    },
    {
     "name": "stdout",
     "output_type": "stream",
     "text": [
      "Computing scores...\n",
      "Computing METEOR score...\n",
      "Computing CIDEr score...\n"
     ]
    },
    {
     "name": "stderr",
     "output_type": "stream",
     "text": [
      "Processing files:  43%|███████████████████████▍                              | 453/1044 [19:26<26:31,  2.69s/it]"
     ]
    },
    {
     "name": "stdout",
     "output_type": "stream",
     "text": [
      "Tokenizing...\n"
     ]
    },
    {
     "name": "stderr",
     "output_type": "stream",
     "text": [
      "PTBTokenizer tokenized 61766 tokens at 303089.02 tokens per second.\n",
      "PTBTokenizer tokenized 6935 tokens at 71195.42 tokens per second.\n"
     ]
    },
    {
     "name": "stdout",
     "output_type": "stream",
     "text": [
      "Computing scores...\n",
      "Computing METEOR score...\n",
      "Computing CIDEr score...\n"
     ]
    },
    {
     "name": "stderr",
     "output_type": "stream",
     "text": [
      "Processing files:  43%|███████████████████████▍                              | 454/1044 [19:28<25:48,  2.62s/it]"
     ]
    },
    {
     "name": "stdout",
     "output_type": "stream",
     "text": [
      "Tokenizing...\n"
     ]
    },
    {
     "name": "stderr",
     "output_type": "stream",
     "text": [
      "PTBTokenizer tokenized 61766 tokens at 283066.25 tokens per second.\n",
      "PTBTokenizer tokenized 9242 tokens at 74853.59 tokens per second.\n"
     ]
    },
    {
     "name": "stdout",
     "output_type": "stream",
     "text": [
      "Computing scores...\n",
      "Computing METEOR score...\n",
      "Computing CIDEr score...\n"
     ]
    },
    {
     "name": "stderr",
     "output_type": "stream",
     "text": [
      "Processing files:  44%|███████████████████████▌                              | 455/1044 [19:31<26:21,  2.69s/it]"
     ]
    },
    {
     "name": "stdout",
     "output_type": "stream",
     "text": [
      "Tokenizing...\n"
     ]
    },
    {
     "name": "stderr",
     "output_type": "stream",
     "text": [
      "PTBTokenizer tokenized 61766 tokens at 306978.18 tokens per second.\n",
      "PTBTokenizer tokenized 8055 tokens at 77367.52 tokens per second.\n"
     ]
    },
    {
     "name": "stdout",
     "output_type": "stream",
     "text": [
      "Computing scores...\n",
      "Computing METEOR score...\n",
      "Computing CIDEr score...\n"
     ]
    },
    {
     "name": "stderr",
     "output_type": "stream",
     "text": [
      "Processing files:  44%|███████████████████████▌                              | 456/1044 [19:34<25:59,  2.65s/it]"
     ]
    },
    {
     "name": "stdout",
     "output_type": "stream",
     "text": [
      "Tokenizing...\n"
     ]
    },
    {
     "name": "stderr",
     "output_type": "stream",
     "text": [
      "PTBTokenizer tokenized 61766 tokens at 302491.82 tokens per second.\n",
      "PTBTokenizer tokenized 7062 tokens at 69929.34 tokens per second.\n"
     ]
    },
    {
     "name": "stdout",
     "output_type": "stream",
     "text": [
      "Computing scores...\n",
      "Computing METEOR score...\n",
      "Computing CIDEr score...\n"
     ]
    },
    {
     "name": "stderr",
     "output_type": "stream",
     "text": [
      "Processing files:  44%|███████████████████████▋                              | 457/1044 [19:36<25:52,  2.64s/it]"
     ]
    },
    {
     "name": "stdout",
     "output_type": "stream",
     "text": [
      "Tokenizing...\n"
     ]
    },
    {
     "name": "stderr",
     "output_type": "stream",
     "text": [
      "PTBTokenizer tokenized 61766 tokens at 298952.95 tokens per second.\n",
      "PTBTokenizer tokenized 8482 tokens at 70484.57 tokens per second.\n"
     ]
    },
    {
     "name": "stdout",
     "output_type": "stream",
     "text": [
      "Computing scores...\n",
      "Computing METEOR score...\n",
      "Computing CIDEr score...\n"
     ]
    },
    {
     "name": "stderr",
     "output_type": "stream",
     "text": [
      "Processing files:  44%|███████████████████████▋                              | 458/1044 [19:39<26:07,  2.68s/it]"
     ]
    },
    {
     "name": "stdout",
     "output_type": "stream",
     "text": [
      "Tokenizing...\n"
     ]
    },
    {
     "name": "stderr",
     "output_type": "stream",
     "text": [
      "PTBTokenizer tokenized 61766 tokens at 302079.56 tokens per second.\n",
      "PTBTokenizer tokenized 8055 tokens at 66563.74 tokens per second.\n"
     ]
    },
    {
     "name": "stdout",
     "output_type": "stream",
     "text": [
      "Computing scores...\n",
      "Computing METEOR score...\n",
      "Computing CIDEr score...\n"
     ]
    },
    {
     "name": "stderr",
     "output_type": "stream",
     "text": [
      "Processing files:  44%|███████████████████████▋                              | 459/1044 [19:42<26:31,  2.72s/it]"
     ]
    },
    {
     "name": "stdout",
     "output_type": "stream",
     "text": [
      "Tokenizing...\n"
     ]
    },
    {
     "name": "stderr",
     "output_type": "stream",
     "text": [
      "PTBTokenizer tokenized 61766 tokens at 319883.39 tokens per second.\n",
      "PTBTokenizer tokenized 9242 tokens at 88262.66 tokens per second.\n"
     ]
    },
    {
     "name": "stdout",
     "output_type": "stream",
     "text": [
      "Computing scores...\n",
      "Computing METEOR score...\n",
      "Computing CIDEr score...\n"
     ]
    },
    {
     "name": "stderr",
     "output_type": "stream",
     "text": [
      "Processing files:  44%|███████████████████████▊                              | 460/1044 [19:45<27:10,  2.79s/it]"
     ]
    },
    {
     "name": "stdout",
     "output_type": "stream",
     "text": [
      "Tokenizing...\n"
     ]
    },
    {
     "name": "stderr",
     "output_type": "stream",
     "text": [
      "PTBTokenizer tokenized 61766 tokens at 297837.12 tokens per second.\n",
      "PTBTokenizer tokenized 9211 tokens at 85531.06 tokens per second.\n"
     ]
    },
    {
     "name": "stdout",
     "output_type": "stream",
     "text": [
      "Computing scores...\n",
      "Computing METEOR score...\n",
      "Computing CIDEr score...\n"
     ]
    },
    {
     "name": "stderr",
     "output_type": "stream",
     "text": [
      "Processing files:  44%|███████████████████████▊                              | 461/1044 [19:48<26:50,  2.76s/it]"
     ]
    },
    {
     "name": "stdout",
     "output_type": "stream",
     "text": [
      "Tokenizing...\n"
     ]
    },
    {
     "name": "stderr",
     "output_type": "stream",
     "text": [
      "PTBTokenizer tokenized 61766 tokens at 323179.34 tokens per second.\n",
      "PTBTokenizer tokenized 9159 tokens at 80072.77 tokens per second.\n"
     ]
    },
    {
     "name": "stdout",
     "output_type": "stream",
     "text": [
      "Computing scores...\n",
      "Computing METEOR score...\n",
      "Computing CIDEr score...\n"
     ]
    },
    {
     "name": "stderr",
     "output_type": "stream",
     "text": [
      "Processing files:  44%|███████████████████████▉                              | 462/1044 [19:50<26:25,  2.72s/it]"
     ]
    },
    {
     "name": "stdout",
     "output_type": "stream",
     "text": [
      "Tokenizing...\n"
     ]
    },
    {
     "name": "stderr",
     "output_type": "stream",
     "text": [
      "PTBTokenizer tokenized 61766 tokens at 299484.11 tokens per second.\n",
      "PTBTokenizer tokenized 12053 tokens at 98036.51 tokens per second.\n"
     ]
    },
    {
     "name": "stdout",
     "output_type": "stream",
     "text": [
      "Computing scores...\n",
      "Computing METEOR score...\n",
      "Computing CIDEr score...\n"
     ]
    },
    {
     "name": "stderr",
     "output_type": "stream",
     "text": [
      "Processing files:  44%|███████████████████████▉                              | 463/1044 [19:53<26:51,  2.77s/it]"
     ]
    },
    {
     "name": "stdout",
     "output_type": "stream",
     "text": [
      "Tokenizing...\n"
     ]
    },
    {
     "name": "stderr",
     "output_type": "stream",
     "text": [
      "PTBTokenizer tokenized 61766 tokens at 329904.66 tokens per second.\n",
      "PTBTokenizer tokenized 9242 tokens at 80662.13 tokens per second.\n"
     ]
    },
    {
     "name": "stdout",
     "output_type": "stream",
     "text": [
      "Computing scores...\n",
      "Computing METEOR score...\n",
      "Computing CIDEr score...\n"
     ]
    },
    {
     "name": "stderr",
     "output_type": "stream",
     "text": [
      "Processing files:  44%|████████████████████████                              | 464/1044 [19:56<26:36,  2.75s/it]"
     ]
    },
    {
     "name": "stdout",
     "output_type": "stream",
     "text": [
      "Tokenizing...\n"
     ]
    },
    {
     "name": "stderr",
     "output_type": "stream",
     "text": [
      "PTBTokenizer tokenized 61766 tokens at 310123.40 tokens per second.\n",
      "PTBTokenizer tokenized 9242 tokens at 75089.49 tokens per second.\n"
     ]
    },
    {
     "name": "stdout",
     "output_type": "stream",
     "text": [
      "Computing scores...\n",
      "Computing METEOR score...\n",
      "Computing CIDEr score...\n"
     ]
    },
    {
     "name": "stderr",
     "output_type": "stream",
     "text": [
      "Processing files:  45%|████████████████████████                              | 465/1044 [19:58<26:29,  2.74s/it]"
     ]
    },
    {
     "name": "stdout",
     "output_type": "stream",
     "text": [
      "Tokenizing...\n"
     ]
    },
    {
     "name": "stderr",
     "output_type": "stream",
     "text": [
      "PTBTokenizer tokenized 61766 tokens at 328761.40 tokens per second.\n",
      "PTBTokenizer tokenized 9242 tokens at 80510.61 tokens per second.\n"
     ]
    },
    {
     "name": "stdout",
     "output_type": "stream",
     "text": [
      "Computing scores...\n",
      "Computing METEOR score...\n",
      "Computing CIDEr score...\n"
     ]
    },
    {
     "name": "stderr",
     "output_type": "stream",
     "text": [
      "Processing files:  45%|████████████████████████                              | 466/1044 [20:01<26:19,  2.73s/it]"
     ]
    },
    {
     "name": "stdout",
     "output_type": "stream",
     "text": [
      "Tokenizing...\n"
     ]
    },
    {
     "name": "stderr",
     "output_type": "stream",
     "text": [
      "PTBTokenizer tokenized 61766 tokens at 309586.06 tokens per second.\n",
      "PTBTokenizer tokenized 9180 tokens at 85637.08 tokens per second.\n"
     ]
    },
    {
     "name": "stdout",
     "output_type": "stream",
     "text": [
      "Computing scores...\n",
      "Computing METEOR score...\n",
      "Computing CIDEr score...\n"
     ]
    },
    {
     "name": "stderr",
     "output_type": "stream",
     "text": [
      "Processing files:  45%|████████████████████████▏                             | 467/1044 [20:04<26:17,  2.73s/it]"
     ]
    },
    {
     "name": "stdout",
     "output_type": "stream",
     "text": [
      "Tokenizing...\n"
     ]
    },
    {
     "name": "stderr",
     "output_type": "stream",
     "text": [
      "PTBTokenizer tokenized 61766 tokens at 322345.42 tokens per second.\n",
      "PTBTokenizer tokenized 9251 tokens at 81450.09 tokens per second.\n"
     ]
    },
    {
     "name": "stdout",
     "output_type": "stream",
     "text": [
      "Computing scores...\n",
      "Computing METEOR score...\n",
      "Computing CIDEr score...\n"
     ]
    },
    {
     "name": "stderr",
     "output_type": "stream",
     "text": [
      "Processing files:  45%|████████████████████████▏                             | 468/1044 [20:07<26:42,  2.78s/it]"
     ]
    },
    {
     "name": "stdout",
     "output_type": "stream",
     "text": [
      "Tokenizing...\n"
     ]
    },
    {
     "name": "stderr",
     "output_type": "stream",
     "text": [
      "PTBTokenizer tokenized 61766 tokens at 304161.41 tokens per second.\n",
      "PTBTokenizer tokenized 9200 tokens at 86909.96 tokens per second.\n"
     ]
    },
    {
     "name": "stdout",
     "output_type": "stream",
     "text": [
      "Computing scores...\n",
      "Computing METEOR score...\n",
      "Computing CIDEr score...\n"
     ]
    },
    {
     "name": "stderr",
     "output_type": "stream",
     "text": [
      "Processing files:  45%|████████████████████████▎                             | 469/1044 [20:10<26:37,  2.78s/it]"
     ]
    },
    {
     "name": "stdout",
     "output_type": "stream",
     "text": [
      "Tokenizing...\n"
     ]
    },
    {
     "name": "stderr",
     "output_type": "stream",
     "text": [
      "PTBTokenizer tokenized 61766 tokens at 308305.17 tokens per second.\n",
      "PTBTokenizer tokenized 9242 tokens at 73417.52 tokens per second.\n"
     ]
    },
    {
     "name": "stdout",
     "output_type": "stream",
     "text": [
      "Computing scores...\n",
      "Computing METEOR score...\n",
      "Computing CIDEr score...\n"
     ]
    },
    {
     "name": "stderr",
     "output_type": "stream",
     "text": [
      "Processing files:  45%|████████████████████████▎                             | 470/1044 [20:12<26:40,  2.79s/it]"
     ]
    },
    {
     "name": "stdout",
     "output_type": "stream",
     "text": [
      "Tokenizing...\n"
     ]
    },
    {
     "name": "stderr",
     "output_type": "stream",
     "text": [
      "PTBTokenizer tokenized 61766 tokens at 303432.12 tokens per second.\n",
      "PTBTokenizer tokenized 9135 tokens at 81591.07 tokens per second.\n"
     ]
    },
    {
     "name": "stdout",
     "output_type": "stream",
     "text": [
      "Computing scores...\n",
      "Computing METEOR score...\n",
      "Computing CIDEr score...\n"
     ]
    },
    {
     "name": "stderr",
     "output_type": "stream",
     "text": [
      "Processing files:  45%|████████████████████████▎                             | 471/1044 [20:15<26:13,  2.75s/it]"
     ]
    },
    {
     "name": "stdout",
     "output_type": "stream",
     "text": [
      "Tokenizing...\n"
     ]
    },
    {
     "name": "stderr",
     "output_type": "stream",
     "text": [
      "PTBTokenizer tokenized 61766 tokens at 305842.13 tokens per second.\n",
      "Jul 19, 2024 4:40:39 PM edu.stanford.nlp.process.PTBLexer next\n",
      "WARNING: Untokenizable: � (U+FFFD, decimal: 65533)\n",
      "PTBTokenizer tokenized 8505 tokens at 51969.23 tokens per second.\n"
     ]
    },
    {
     "name": "stdout",
     "output_type": "stream",
     "text": [
      "Computing scores...\n",
      "Computing METEOR score...\n",
      "Computing CIDEr score...\n"
     ]
    },
    {
     "name": "stderr",
     "output_type": "stream",
     "text": [
      "Processing files:  45%|████████████████████████▍                             | 472/1044 [20:18<25:21,  2.66s/it]"
     ]
    },
    {
     "name": "stdout",
     "output_type": "stream",
     "text": [
      "Tokenizing...\n"
     ]
    },
    {
     "name": "stderr",
     "output_type": "stream",
     "text": [
      "PTBTokenizer tokenized 61766 tokens at 330924.05 tokens per second.\n",
      "PTBTokenizer tokenized 9242 tokens at 91870.43 tokens per second.\n"
     ]
    },
    {
     "name": "stdout",
     "output_type": "stream",
     "text": [
      "Computing scores...\n",
      "Computing METEOR score...\n",
      "Computing CIDEr score...\n"
     ]
    },
    {
     "name": "stderr",
     "output_type": "stream",
     "text": [
      "Processing files:  45%|████████████████████████▍                             | 473/1044 [20:20<25:17,  2.66s/it]"
     ]
    },
    {
     "name": "stdout",
     "output_type": "stream",
     "text": [
      "Tokenizing...\n"
     ]
    },
    {
     "name": "stderr",
     "output_type": "stream",
     "text": [
      "PTBTokenizer tokenized 61766 tokens at 341199.53 tokens per second.\n",
      "PTBTokenizer tokenized 9242 tokens at 82298.09 tokens per second.\n"
     ]
    },
    {
     "name": "stdout",
     "output_type": "stream",
     "text": [
      "Computing scores...\n",
      "Computing METEOR score...\n",
      "Computing CIDEr score...\n"
     ]
    },
    {
     "name": "stderr",
     "output_type": "stream",
     "text": [
      "Processing files:  45%|████████████████████████▌                             | 474/1044 [20:23<25:02,  2.64s/it]"
     ]
    },
    {
     "name": "stdout",
     "output_type": "stream",
     "text": [
      "Tokenizing...\n"
     ]
    },
    {
     "name": "stderr",
     "output_type": "stream",
     "text": [
      "PTBTokenizer tokenized 61766 tokens at 327877.41 tokens per second.\n",
      "PTBTokenizer tokenized 8156 tokens at 66640.77 tokens per second.\n"
     ]
    },
    {
     "name": "stdout",
     "output_type": "stream",
     "text": [
      "Computing scores...\n",
      "Computing METEOR score...\n",
      "Computing CIDEr score...\n"
     ]
    },
    {
     "name": "stderr",
     "output_type": "stream",
     "text": [
      "Processing files:  45%|████████████████████████▌                             | 475/1044 [20:25<24:49,  2.62s/it]"
     ]
    },
    {
     "name": "stdout",
     "output_type": "stream",
     "text": [
      "Tokenizing...\n"
     ]
    },
    {
     "name": "stderr",
     "output_type": "stream",
     "text": [
      "PTBTokenizer tokenized 61766 tokens at 292999.86 tokens per second.\n",
      "PTBTokenizer tokenized 9238 tokens at 79931.82 tokens per second.\n"
     ]
    },
    {
     "name": "stdout",
     "output_type": "stream",
     "text": [
      "Computing scores...\n",
      "Computing METEOR score...\n",
      "Computing CIDEr score...\n"
     ]
    },
    {
     "name": "stderr",
     "output_type": "stream",
     "text": [
      "Processing files:  46%|████████████████████████▌                             | 476/1044 [20:28<25:02,  2.65s/it]"
     ]
    },
    {
     "name": "stdout",
     "output_type": "stream",
     "text": [
      "Tokenizing...\n"
     ]
    },
    {
     "name": "stderr",
     "output_type": "stream",
     "text": [
      "PTBTokenizer tokenized 61766 tokens at 309231.23 tokens per second.\n",
      "PTBTokenizer tokenized 9242 tokens at 78523.88 tokens per second.\n"
     ]
    },
    {
     "name": "stdout",
     "output_type": "stream",
     "text": [
      "Computing scores...\n",
      "Computing METEOR score...\n",
      "Computing CIDEr score...\n"
     ]
    },
    {
     "name": "stderr",
     "output_type": "stream",
     "text": [
      "Processing files:  46%|████████████████████████▋                             | 477/1044 [20:31<24:59,  2.65s/it]"
     ]
    },
    {
     "name": "stdout",
     "output_type": "stream",
     "text": [
      "Tokenizing...\n"
     ]
    },
    {
     "name": "stderr",
     "output_type": "stream",
     "text": [
      "PTBTokenizer tokenized 61766 tokens at 330811.09 tokens per second.\n",
      "PTBTokenizer tokenized 9241 tokens at 88896.90 tokens per second.\n"
     ]
    },
    {
     "name": "stdout",
     "output_type": "stream",
     "text": [
      "Computing scores...\n",
      "Computing METEOR score...\n",
      "Computing CIDEr score...\n"
     ]
    },
    {
     "name": "stderr",
     "output_type": "stream",
     "text": [
      "Processing files:  46%|████████████████████████▋                             | 478/1044 [20:33<25:13,  2.67s/it]"
     ]
    },
    {
     "name": "stdout",
     "output_type": "stream",
     "text": [
      "Tokenizing...\n"
     ]
    },
    {
     "name": "stderr",
     "output_type": "stream",
     "text": [
      "PTBTokenizer tokenized 61766 tokens at 335450.19 tokens per second.\n",
      "PTBTokenizer tokenized 7104 tokens at 69731.02 tokens per second.\n"
     ]
    },
    {
     "name": "stdout",
     "output_type": "stream",
     "text": [
      "Computing scores...\n",
      "Computing METEOR score...\n",
      "Computing CIDEr score...\n"
     ]
    },
    {
     "name": "stderr",
     "output_type": "stream",
     "text": [
      "Processing files:  46%|████████████████████████▊                             | 479/1044 [20:36<24:18,  2.58s/it]"
     ]
    },
    {
     "name": "stdout",
     "output_type": "stream",
     "text": [
      "Tokenizing...\n"
     ]
    },
    {
     "name": "stderr",
     "output_type": "stream",
     "text": [
      "PTBTokenizer tokenized 61766 tokens at 285687.95 tokens per second.\n",
      "PTBTokenizer tokenized 9242 tokens at 80612.60 tokens per second.\n"
     ]
    },
    {
     "name": "stdout",
     "output_type": "stream",
     "text": [
      "Computing scores...\n",
      "Computing METEOR score...\n",
      "Computing CIDEr score...\n"
     ]
    },
    {
     "name": "stderr",
     "output_type": "stream",
     "text": [
      "Processing files:  46%|████████████████████████▊                             | 480/1044 [20:39<24:47,  2.64s/it]"
     ]
    },
    {
     "name": "stdout",
     "output_type": "stream",
     "text": [
      "Tokenizing...\n"
     ]
    },
    {
     "name": "stderr",
     "output_type": "stream",
     "text": [
      "PTBTokenizer tokenized 61766 tokens at 292524.57 tokens per second.\n",
      "PTBTokenizer tokenized 9242 tokens at 86864.16 tokens per second.\n"
     ]
    },
    {
     "name": "stdout",
     "output_type": "stream",
     "text": [
      "Computing scores...\n",
      "Computing METEOR score...\n",
      "Computing CIDEr score...\n"
     ]
    },
    {
     "name": "stderr",
     "output_type": "stream",
     "text": [
      "Processing files:  46%|████████████████████████▉                             | 481/1044 [20:41<24:52,  2.65s/it]"
     ]
    },
    {
     "name": "stdout",
     "output_type": "stream",
     "text": [
      "Tokenizing...\n"
     ]
    },
    {
     "name": "stderr",
     "output_type": "stream",
     "text": [
      "PTBTokenizer tokenized 61766 tokens at 291893.72 tokens per second.\n",
      "PTBTokenizer tokenized 9242 tokens at 85398.44 tokens per second.\n"
     ]
    },
    {
     "name": "stdout",
     "output_type": "stream",
     "text": [
      "Computing scores...\n",
      "Computing METEOR score...\n",
      "Computing CIDEr score...\n"
     ]
    },
    {
     "name": "stderr",
     "output_type": "stream",
     "text": [
      "Processing files:  46%|████████████████████████▉                             | 482/1044 [20:44<24:39,  2.63s/it]"
     ]
    },
    {
     "name": "stdout",
     "output_type": "stream",
     "text": [
      "Tokenizing...\n"
     ]
    },
    {
     "name": "stderr",
     "output_type": "stream",
     "text": [
      "PTBTokenizer tokenized 61766 tokens at 341354.02 tokens per second.\n",
      "PTBTokenizer tokenized 9000 tokens at 78901.39 tokens per second.\n"
     ]
    },
    {
     "name": "stdout",
     "output_type": "stream",
     "text": [
      "Computing scores...\n",
      "Computing METEOR score...\n",
      "Computing CIDEr score...\n"
     ]
    },
    {
     "name": "stderr",
     "output_type": "stream",
     "text": [
      "Processing files:  46%|████████████████████████▉                             | 483/1044 [20:46<24:34,  2.63s/it]"
     ]
    },
    {
     "name": "stdout",
     "output_type": "stream",
     "text": [
      "Tokenizing...\n"
     ]
    },
    {
     "name": "stderr",
     "output_type": "stream",
     "text": [
      "PTBTokenizer tokenized 61766 tokens at 292275.35 tokens per second.\n",
      "PTBTokenizer tokenized 7968 tokens at 72500.58 tokens per second.\n"
     ]
    },
    {
     "name": "stdout",
     "output_type": "stream",
     "text": [
      "Computing scores...\n",
      "Computing METEOR score...\n",
      "Computing CIDEr score...\n"
     ]
    },
    {
     "name": "stderr",
     "output_type": "stream",
     "text": [
      "Processing files:  46%|█████████████████████████                             | 484/1044 [20:49<24:10,  2.59s/it]"
     ]
    },
    {
     "name": "stdout",
     "output_type": "stream",
     "text": [
      "Tokenizing...\n"
     ]
    },
    {
     "name": "stderr",
     "output_type": "stream",
     "text": [
      "PTBTokenizer tokenized 61766 tokens at 321315.43 tokens per second.\n",
      "PTBTokenizer tokenized 9242 tokens at 85159.26 tokens per second.\n"
     ]
    },
    {
     "name": "stdout",
     "output_type": "stream",
     "text": [
      "Computing scores...\n",
      "Computing METEOR score...\n",
      "Computing CIDEr score...\n"
     ]
    },
    {
     "name": "stderr",
     "output_type": "stream",
     "text": [
      "Processing files:  46%|█████████████████████████                             | 485/1044 [20:52<24:30,  2.63s/it]"
     ]
    },
    {
     "name": "stdout",
     "output_type": "stream",
     "text": [
      "Tokenizing...\n"
     ]
    },
    {
     "name": "stderr",
     "output_type": "stream",
     "text": [
      "PTBTokenizer tokenized 61766 tokens at 311966.88 tokens per second.\n",
      "PTBTokenizer tokenized 9169 tokens at 82289.85 tokens per second.\n"
     ]
    },
    {
     "name": "stdout",
     "output_type": "stream",
     "text": [
      "Computing scores...\n",
      "Computing METEOR score...\n",
      "Computing CIDEr score...\n"
     ]
    },
    {
     "name": "stderr",
     "output_type": "stream",
     "text": [
      "Processing files:  47%|█████████████████████████▏                            | 486/1044 [20:54<24:30,  2.64s/it]"
     ]
    },
    {
     "name": "stdout",
     "output_type": "stream",
     "text": [
      "Tokenizing...\n"
     ]
    },
    {
     "name": "stderr",
     "output_type": "stream",
     "text": [
      "PTBTokenizer tokenized 61766 tokens at 322173.81 tokens per second.\n",
      "PTBTokenizer tokenized 9242 tokens at 80562.73 tokens per second.\n"
     ]
    },
    {
     "name": "stdout",
     "output_type": "stream",
     "text": [
      "Computing scores...\n",
      "Computing METEOR score...\n",
      "Computing CIDEr score...\n"
     ]
    },
    {
     "name": "stderr",
     "output_type": "stream",
     "text": [
      "Processing files:  47%|█████████████████████████▏                            | 487/1044 [20:57<24:28,  2.64s/it]"
     ]
    },
    {
     "name": "stdout",
     "output_type": "stream",
     "text": [
      "Tokenizing...\n"
     ]
    },
    {
     "name": "stderr",
     "output_type": "stream",
     "text": [
      "PTBTokenizer tokenized 61766 tokens at 351316.59 tokens per second.\n",
      "PTBTokenizer tokenized 9344 tokens at 83607.91 tokens per second.\n"
     ]
    },
    {
     "name": "stdout",
     "output_type": "stream",
     "text": [
      "Computing scores...\n",
      "Computing METEOR score...\n",
      "Computing CIDEr score...\n"
     ]
    },
    {
     "name": "stderr",
     "output_type": "stream",
     "text": [
      "Processing files:  47%|█████████████████████████▏                            | 488/1044 [21:00<24:35,  2.65s/it]"
     ]
    },
    {
     "name": "stdout",
     "output_type": "stream",
     "text": [
      "Tokenizing...\n"
     ]
    },
    {
     "name": "stderr",
     "output_type": "stream",
     "text": [
      "PTBTokenizer tokenized 61766 tokens at 341302.82 tokens per second.\n",
      "PTBTokenizer tokenized 9239 tokens at 89417.81 tokens per second.\n"
     ]
    },
    {
     "name": "stdout",
     "output_type": "stream",
     "text": [
      "Computing scores...\n",
      "Computing METEOR score...\n",
      "Computing CIDEr score...\n"
     ]
    },
    {
     "name": "stderr",
     "output_type": "stream",
     "text": [
      "Processing files:  47%|█████████████████████████▎                            | 489/1044 [21:02<24:38,  2.66s/it]"
     ]
    },
    {
     "name": "stdout",
     "output_type": "stream",
     "text": [
      "Tokenizing...\n"
     ]
    },
    {
     "name": "stderr",
     "output_type": "stream",
     "text": [
      "PTBTokenizer tokenized 61766 tokens at 351941.39 tokens per second.\n",
      "PTBTokenizer tokenized 9309 tokens at 79402.53 tokens per second.\n"
     ]
    },
    {
     "name": "stdout",
     "output_type": "stream",
     "text": [
      "Computing scores...\n",
      "Computing METEOR score...\n",
      "Computing CIDEr score...\n"
     ]
    },
    {
     "name": "stderr",
     "output_type": "stream",
     "text": [
      "Processing files:  47%|█████████████████████████▎                            | 490/1044 [21:05<24:33,  2.66s/it]"
     ]
    },
    {
     "name": "stdout",
     "output_type": "stream",
     "text": [
      "Tokenizing...\n"
     ]
    },
    {
     "name": "stderr",
     "output_type": "stream",
     "text": [
      "PTBTokenizer tokenized 61766 tokens at 331957.55 tokens per second.\n",
      "PTBTokenizer tokenized 9309 tokens at 87738.39 tokens per second.\n"
     ]
    },
    {
     "name": "stdout",
     "output_type": "stream",
     "text": [
      "Computing scores...\n",
      "Computing METEOR score...\n",
      "Computing CIDEr score...\n"
     ]
    },
    {
     "name": "stderr",
     "output_type": "stream",
     "text": [
      "Processing files:  47%|█████████████████████████▍                            | 491/1044 [21:08<24:29,  2.66s/it]"
     ]
    },
    {
     "name": "stdout",
     "output_type": "stream",
     "text": [
      "Tokenizing...\n"
     ]
    },
    {
     "name": "stderr",
     "output_type": "stream",
     "text": [
      "PTBTokenizer tokenized 61766 tokens at 313595.77 tokens per second.\n",
      "PTBTokenizer tokenized 9242 tokens at 81667.65 tokens per second.\n"
     ]
    },
    {
     "name": "stdout",
     "output_type": "stream",
     "text": [
      "Computing scores...\n",
      "Computing METEOR score...\n",
      "Computing CIDEr score...\n"
     ]
    },
    {
     "name": "stderr",
     "output_type": "stream",
     "text": [
      "Processing files:  47%|█████████████████████████▍                            | 492/1044 [21:10<24:38,  2.68s/it]"
     ]
    },
    {
     "name": "stdout",
     "output_type": "stream",
     "text": [
      "Tokenizing...\n"
     ]
    },
    {
     "name": "stderr",
     "output_type": "stream",
     "text": [
      "PTBTokenizer tokenized 61766 tokens at 303207.83 tokens per second.\n",
      "PTBTokenizer tokenized 8064 tokens at 73709.90 tokens per second.\n"
     ]
    },
    {
     "name": "stdout",
     "output_type": "stream",
     "text": [
      "Computing scores...\n",
      "Computing METEOR score...\n",
      "Computing CIDEr score...\n"
     ]
    },
    {
     "name": "stderr",
     "output_type": "stream",
     "text": [
      "Processing files:  47%|█████████████████████████▌                            | 493/1044 [21:13<24:26,  2.66s/it]"
     ]
    },
    {
     "name": "stdout",
     "output_type": "stream",
     "text": [
      "Tokenizing...\n"
     ]
    },
    {
     "name": "stderr",
     "output_type": "stream",
     "text": [
      "PTBTokenizer tokenized 61766 tokens at 303303.88 tokens per second.\n",
      "PTBTokenizer tokenized 7104 tokens at 66200.42 tokens per second.\n"
     ]
    },
    {
     "name": "stdout",
     "output_type": "stream",
     "text": [
      "Computing scores...\n",
      "Computing METEOR score...\n",
      "Computing CIDEr score...\n"
     ]
    },
    {
     "name": "stderr",
     "output_type": "stream",
     "text": [
      "Processing files:  47%|█████████████████████████▌                            | 494/1044 [21:16<24:01,  2.62s/it]"
     ]
    },
    {
     "name": "stdout",
     "output_type": "stream",
     "text": [
      "Tokenizing...\n"
     ]
    },
    {
     "name": "stderr",
     "output_type": "stream",
     "text": [
      "PTBTokenizer tokenized 61766 tokens at 315315.91 tokens per second.\n",
      "PTBTokenizer tokenized 9151 tokens at 80230.97 tokens per second.\n"
     ]
    },
    {
     "name": "stdout",
     "output_type": "stream",
     "text": [
      "Computing scores...\n",
      "Computing METEOR score...\n",
      "Computing CIDEr score...\n"
     ]
    },
    {
     "name": "stderr",
     "output_type": "stream",
     "text": [
      "Processing files:  47%|█████████████████████████▌                            | 495/1044 [21:18<24:00,  2.62s/it]"
     ]
    },
    {
     "name": "stdout",
     "output_type": "stream",
     "text": [
      "Tokenizing...\n"
     ]
    },
    {
     "name": "stderr",
     "output_type": "stream",
     "text": [
      "PTBTokenizer tokenized 61766 tokens at 331566.54 tokens per second.\n",
      "PTBTokenizer tokenized 8990 tokens at 84287.33 tokens per second.\n"
     ]
    },
    {
     "name": "stdout",
     "output_type": "stream",
     "text": [
      "Computing scores...\n",
      "Computing METEOR score...\n",
      "Computing CIDEr score...\n"
     ]
    },
    {
     "name": "stderr",
     "output_type": "stream",
     "text": [
      "Processing files:  48%|█████████████████████████▋                            | 496/1044 [21:21<23:54,  2.62s/it]"
     ]
    },
    {
     "name": "stdout",
     "output_type": "stream",
     "text": [
      "Tokenizing...\n"
     ]
    },
    {
     "name": "stderr",
     "output_type": "stream",
     "text": [
      "PTBTokenizer tokenized 61766 tokens at 314272.51 tokens per second.\n",
      "PTBTokenizer tokenized 9242 tokens at 79698.39 tokens per second.\n"
     ]
    },
    {
     "name": "stdout",
     "output_type": "stream",
     "text": [
      "Computing scores...\n",
      "Computing METEOR score...\n",
      "Computing CIDEr score...\n"
     ]
    },
    {
     "name": "stderr",
     "output_type": "stream",
     "text": [
      "Processing files:  48%|█████████████████████████▋                            | 497/1044 [21:23<23:51,  2.62s/it]"
     ]
    },
    {
     "name": "stdout",
     "output_type": "stream",
     "text": [
      "Tokenizing...\n"
     ]
    },
    {
     "name": "stderr",
     "output_type": "stream",
     "text": [
      "PTBTokenizer tokenized 61766 tokens at 320048.05 tokens per second.\n",
      "PTBTokenizer tokenized 9217 tokens at 87050.52 tokens per second.\n"
     ]
    },
    {
     "name": "stdout",
     "output_type": "stream",
     "text": [
      "Computing scores...\n",
      "Computing METEOR score...\n",
      "Computing CIDEr score...\n"
     ]
    },
    {
     "name": "stderr",
     "output_type": "stream",
     "text": [
      "Processing files:  48%|█████████████████████████▊                            | 498/1044 [21:26<23:51,  2.62s/it]"
     ]
    },
    {
     "name": "stdout",
     "output_type": "stream",
     "text": [
      "Tokenizing...\n"
     ]
    },
    {
     "name": "stderr",
     "output_type": "stream",
     "text": [
      "PTBTokenizer tokenized 61766 tokens at 287916.20 tokens per second.\n",
      "PTBTokenizer tokenized 9242 tokens at 84066.17 tokens per second.\n"
     ]
    },
    {
     "name": "stdout",
     "output_type": "stream",
     "text": [
      "Computing scores...\n",
      "Computing METEOR score...\n",
      "Computing CIDEr score...\n"
     ]
    },
    {
     "name": "stderr",
     "output_type": "stream",
     "text": [
      "Processing files:  48%|█████████████████████████▊                            | 499/1044 [21:29<23:43,  2.61s/it]"
     ]
    },
    {
     "name": "stdout",
     "output_type": "stream",
     "text": [
      "Tokenizing...\n"
     ]
    },
    {
     "name": "stderr",
     "output_type": "stream",
     "text": [
      "PTBTokenizer tokenized 61766 tokens at 317671.34 tokens per second.\n",
      "PTBTokenizer tokenized 9242 tokens at 89387.26 tokens per second.\n"
     ]
    },
    {
     "name": "stdout",
     "output_type": "stream",
     "text": [
      "Computing scores...\n",
      "Computing METEOR score...\n",
      "Computing CIDEr score...\n"
     ]
    },
    {
     "name": "stderr",
     "output_type": "stream",
     "text": [
      "Processing files:  48%|█████████████████████████▊                            | 500/1044 [21:31<23:39,  2.61s/it]"
     ]
    },
    {
     "name": "stdout",
     "output_type": "stream",
     "text": [
      "Tokenizing...\n"
     ]
    },
    {
     "name": "stderr",
     "output_type": "stream",
     "text": [
      "PTBTokenizer tokenized 61766 tokens at 343817.45 tokens per second.\n",
      "PTBTokenizer tokenized 6789 tokens at 69436.68 tokens per second.\n"
     ]
    },
    {
     "name": "stdout",
     "output_type": "stream",
     "text": [
      "Computing scores...\n",
      "Computing METEOR score...\n",
      "Computing CIDEr score...\n"
     ]
    },
    {
     "name": "stderr",
     "output_type": "stream",
     "text": [
      "Processing files:  48%|█████████████████████████▉                            | 501/1044 [21:34<23:02,  2.55s/it]"
     ]
    },
    {
     "name": "stdout",
     "output_type": "stream",
     "text": [
      "Tokenizing...\n"
     ]
    },
    {
     "name": "stderr",
     "output_type": "stream",
     "text": [
      "PTBTokenizer tokenized 61766 tokens at 305718.97 tokens per second.\n",
      "Jul 19, 2024 4:41:57 PM edu.stanford.nlp.process.PTBLexer next\n",
      "WARNING: Untokenizable: � (U+FFFD, decimal: 65533)\n",
      "PTBTokenizer tokenized 17445 tokens at 110814.78 tokens per second.\n"
     ]
    },
    {
     "name": "stdout",
     "output_type": "stream",
     "text": [
      "Computing scores...\n",
      "Computing METEOR score...\n",
      "Computing CIDEr score...\n"
     ]
    },
    {
     "name": "stderr",
     "output_type": "stream",
     "text": [
      "Processing files:  48%|█████████████████████████▉                            | 502/1044 [21:37<24:29,  2.71s/it]"
     ]
    },
    {
     "name": "stdout",
     "output_type": "stream",
     "text": [
      "Tokenizing...\n"
     ]
    },
    {
     "name": "stderr",
     "output_type": "stream",
     "text": [
      "PTBTokenizer tokenized 61766 tokens at 338174.39 tokens per second.\n",
      "PTBTokenizer tokenized 8523 tokens at 83908.34 tokens per second.\n"
     ]
    },
    {
     "name": "stdout",
     "output_type": "stream",
     "text": [
      "Computing scores...\n",
      "Computing METEOR score...\n",
      "Computing CIDEr score...\n"
     ]
    },
    {
     "name": "stderr",
     "output_type": "stream",
     "text": [
      "Processing files:  48%|██████████████████████████                            | 503/1044 [21:39<24:01,  2.66s/it]"
     ]
    },
    {
     "name": "stdout",
     "output_type": "stream",
     "text": [
      "Tokenizing...\n"
     ]
    },
    {
     "name": "stderr",
     "output_type": "stream",
     "text": [
      "PTBTokenizer tokenized 61766 tokens at 333399.09 tokens per second.\n",
      "PTBTokenizer tokenized 8089 tokens at 84316.54 tokens per second.\n"
     ]
    },
    {
     "name": "stdout",
     "output_type": "stream",
     "text": [
      "Computing scores...\n",
      "Computing METEOR score...\n",
      "Computing CIDEr score...\n"
     ]
    },
    {
     "name": "stderr",
     "output_type": "stream",
     "text": [
      "Processing files:  48%|██████████████████████████                            | 504/1044 [21:42<23:29,  2.61s/it]"
     ]
    },
    {
     "name": "stdout",
     "output_type": "stream",
     "text": [
      "Tokenizing...\n"
     ]
    },
    {
     "name": "stderr",
     "output_type": "stream",
     "text": [
      "PTBTokenizer tokenized 61766 tokens at 327784.89 tokens per second.\n",
      "PTBTokenizer tokenized 9242 tokens at 81222.09 tokens per second.\n"
     ]
    },
    {
     "name": "stdout",
     "output_type": "stream",
     "text": [
      "Computing scores...\n",
      "Computing METEOR score...\n",
      "Computing CIDEr score...\n"
     ]
    },
    {
     "name": "stderr",
     "output_type": "stream",
     "text": [
      "Processing files:  48%|██████████████████████████                            | 505/1044 [21:44<23:25,  2.61s/it]"
     ]
    },
    {
     "name": "stdout",
     "output_type": "stream",
     "text": [
      "Tokenizing...\n"
     ]
    },
    {
     "name": "stderr",
     "output_type": "stream",
     "text": [
      "PTBTokenizer tokenized 61766 tokens at 286619.02 tokens per second.\n",
      "PTBTokenizer tokenized 8590 tokens at 83068.27 tokens per second.\n"
     ]
    },
    {
     "name": "stdout",
     "output_type": "stream",
     "text": [
      "Computing scores...\n",
      "Computing METEOR score...\n",
      "Computing CIDEr score...\n"
     ]
    },
    {
     "name": "stderr",
     "output_type": "stream",
     "text": [
      "Processing files:  48%|██████████████████████████▏                           | 506/1044 [21:47<23:51,  2.66s/it]"
     ]
    },
    {
     "name": "stdout",
     "output_type": "stream",
     "text": [
      "Tokenizing...\n"
     ]
    },
    {
     "name": "stderr",
     "output_type": "stream",
     "text": [
      "PTBTokenizer tokenized 61766 tokens at 335836.56 tokens per second.\n",
      "PTBTokenizer tokenized 12594 tokens at 107760.21 tokens per second.\n"
     ]
    },
    {
     "name": "stdout",
     "output_type": "stream",
     "text": [
      "Computing scores...\n",
      "Computing METEOR score...\n",
      "Computing CIDEr score...\n"
     ]
    },
    {
     "name": "stderr",
     "output_type": "stream",
     "text": [
      "Processing files:  49%|██████████████████████████▏                           | 507/1044 [21:50<24:32,  2.74s/it]"
     ]
    },
    {
     "name": "stdout",
     "output_type": "stream",
     "text": [
      "Tokenizing...\n"
     ]
    },
    {
     "name": "stderr",
     "output_type": "stream",
     "text": [
      "PTBTokenizer tokenized 61766 tokens at 351949.05 tokens per second.\n",
      "PTBTokenizer tokenized 9179 tokens at 86253.15 tokens per second.\n"
     ]
    },
    {
     "name": "stdout",
     "output_type": "stream",
     "text": [
      "Computing scores...\n",
      "Computing METEOR score...\n",
      "Computing CIDEr score...\n"
     ]
    },
    {
     "name": "stderr",
     "output_type": "stream",
     "text": [
      "Processing files:  49%|██████████████████████████▎                           | 508/1044 [21:53<24:01,  2.69s/it]"
     ]
    },
    {
     "name": "stdout",
     "output_type": "stream",
     "text": [
      "Tokenizing...\n"
     ]
    },
    {
     "name": "stderr",
     "output_type": "stream",
     "text": [
      "PTBTokenizer tokenized 61766 tokens at 303409.80 tokens per second.\n",
      "PTBTokenizer tokenized 9098 tokens at 87860.37 tokens per second.\n"
     ]
    },
    {
     "name": "stdout",
     "output_type": "stream",
     "text": [
      "Computing scores...\n",
      "Computing METEOR score...\n",
      "Computing CIDEr score...\n"
     ]
    },
    {
     "name": "stderr",
     "output_type": "stream",
     "text": [
      "Processing files:  49%|██████████████████████████▎                           | 509/1044 [21:55<23:52,  2.68s/it]"
     ]
    },
    {
     "name": "stdout",
     "output_type": "stream",
     "text": [
      "Tokenizing...\n"
     ]
    },
    {
     "name": "stderr",
     "output_type": "stream",
     "text": [
      "PTBTokenizer tokenized 61766 tokens at 289274.44 tokens per second.\n",
      "PTBTokenizer tokenized 9242 tokens at 87306.62 tokens per second.\n"
     ]
    },
    {
     "name": "stdout",
     "output_type": "stream",
     "text": [
      "Computing scores...\n",
      "Computing METEOR score...\n",
      "Computing CIDEr score...\n"
     ]
    },
    {
     "name": "stderr",
     "output_type": "stream",
     "text": [
      "Processing files:  49%|██████████████████████████▍                           | 510/1044 [21:58<23:53,  2.68s/it]"
     ]
    },
    {
     "name": "stdout",
     "output_type": "stream",
     "text": [
      "Tokenizing...\n"
     ]
    },
    {
     "name": "stderr",
     "output_type": "stream",
     "text": [
      "PTBTokenizer tokenized 61766 tokens at 304287.65 tokens per second.\n",
      "PTBTokenizer tokenized 9242 tokens at 84361.71 tokens per second.\n"
     ]
    },
    {
     "name": "stdout",
     "output_type": "stream",
     "text": [
      "Computing scores...\n",
      "Computing METEOR score...\n",
      "Computing CIDEr score...\n"
     ]
    },
    {
     "name": "stderr",
     "output_type": "stream",
     "text": [
      "Processing files:  49%|██████████████████████████▍                           | 511/1044 [22:00<23:23,  2.63s/it]"
     ]
    },
    {
     "name": "stdout",
     "output_type": "stream",
     "text": [
      "Tokenizing...\n"
     ]
    },
    {
     "name": "stderr",
     "output_type": "stream",
     "text": [
      "PTBTokenizer tokenized 61766 tokens at 335532.41 tokens per second.\n",
      "PTBTokenizer tokenized 9227 tokens at 80442.95 tokens per second.\n"
     ]
    },
    {
     "name": "stdout",
     "output_type": "stream",
     "text": [
      "Computing scores...\n",
      "Computing METEOR score...\n",
      "Computing CIDEr score...\n"
     ]
    },
    {
     "name": "stderr",
     "output_type": "stream",
     "text": [
      "Processing files:  49%|██████████████████████████▍                           | 512/1044 [22:03<23:07,  2.61s/it]"
     ]
    },
    {
     "name": "stdout",
     "output_type": "stream",
     "text": [
      "Tokenizing...\n"
     ]
    },
    {
     "name": "stderr",
     "output_type": "stream",
     "text": [
      "PTBTokenizer tokenized 61766 tokens at 339762.30 tokens per second.\n",
      "PTBTokenizer tokenized 9229 tokens at 90262.66 tokens per second.\n"
     ]
    },
    {
     "name": "stdout",
     "output_type": "stream",
     "text": [
      "Computing scores...\n",
      "Computing METEOR score...\n",
      "Computing CIDEr score...\n"
     ]
    },
    {
     "name": "stderr",
     "output_type": "stream",
     "text": [
      "Processing files:  49%|██████████████████████████▌                           | 513/1044 [22:06<22:51,  2.58s/it]"
     ]
    },
    {
     "name": "stdout",
     "output_type": "stream",
     "text": [
      "Tokenizing...\n"
     ]
    },
    {
     "name": "stderr",
     "output_type": "stream",
     "text": [
      "PTBTokenizer tokenized 61766 tokens at 331540.75 tokens per second.\n",
      "Jul 19, 2024 4:42:29 PM edu.stanford.nlp.process.PTBLexer next\n",
      "WARNING: Untokenizable: � (U+FFFD, decimal: 65533)\n",
      "PTBTokenizer tokenized 17504 tokens at 117613.42 tokens per second.\n"
     ]
    },
    {
     "name": "stdout",
     "output_type": "stream",
     "text": [
      "Computing scores...\n",
      "Computing METEOR score...\n",
      "Computing CIDEr score...\n"
     ]
    },
    {
     "name": "stderr",
     "output_type": "stream",
     "text": [
      "Processing files:  49%|██████████████████████████▌                           | 514/1044 [22:09<24:30,  2.77s/it]"
     ]
    },
    {
     "name": "stdout",
     "output_type": "stream",
     "text": [
      "Tokenizing...\n"
     ]
    },
    {
     "name": "stderr",
     "output_type": "stream",
     "text": [
      "PTBTokenizer tokenized 61766 tokens at 311993.16 tokens per second.\n",
      "PTBTokenizer tokenized 9203 tokens at 90882.08 tokens per second.\n"
     ]
    },
    {
     "name": "stdout",
     "output_type": "stream",
     "text": [
      "Computing scores...\n",
      "Computing METEOR score...\n",
      "Computing CIDEr score...\n"
     ]
    },
    {
     "name": "stderr",
     "output_type": "stream",
     "text": [
      "Processing files:  49%|██████████████████████████▋                           | 515/1044 [22:11<24:09,  2.74s/it]"
     ]
    },
    {
     "name": "stdout",
     "output_type": "stream",
     "text": [
      "Tokenizing...\n"
     ]
    },
    {
     "name": "stderr",
     "output_type": "stream",
     "text": [
      "PTBTokenizer tokenized 61766 tokens at 321143.00 tokens per second.\n",
      "Jul 19, 2024 4:42:35 PM edu.stanford.nlp.process.PTBLexer next\n",
      "WARNING: Untokenizable: � (U+FFFD, decimal: 65533)\n",
      "PTBTokenizer tokenized 9329 tokens at 47404.04 tokens per second.\n"
     ]
    },
    {
     "name": "stdout",
     "output_type": "stream",
     "text": [
      "Computing scores...\n",
      "Computing METEOR score...\n",
      "Computing CIDEr score...\n"
     ]
    },
    {
     "name": "stderr",
     "output_type": "stream",
     "text": [
      "Processing files:  49%|██████████████████████████▋                           | 516/1044 [22:14<23:40,  2.69s/it]"
     ]
    },
    {
     "name": "stdout",
     "output_type": "stream",
     "text": [
      "Tokenizing...\n"
     ]
    },
    {
     "name": "stderr",
     "output_type": "stream",
     "text": [
      "PTBTokenizer tokenized 61766 tokens at 303066.16 tokens per second.\n",
      "PTBTokenizer tokenized 9145 tokens at 85721.73 tokens per second.\n"
     ]
    },
    {
     "name": "stdout",
     "output_type": "stream",
     "text": [
      "Computing scores...\n",
      "Computing METEOR score...\n",
      "Computing CIDEr score...\n"
     ]
    },
    {
     "name": "stderr",
     "output_type": "stream",
     "text": [
      "Processing files:  50%|██████████████████████████▋                           | 517/1044 [22:17<23:20,  2.66s/it]"
     ]
    },
    {
     "name": "stdout",
     "output_type": "stream",
     "text": [
      "Tokenizing...\n"
     ]
    },
    {
     "name": "stderr",
     "output_type": "stream",
     "text": [
      "PTBTokenizer tokenized 61766 tokens at 338892.03 tokens per second.\n",
      "PTBTokenizer tokenized 8506 tokens at 84464.43 tokens per second.\n"
     ]
    },
    {
     "name": "stdout",
     "output_type": "stream",
     "text": [
      "Computing scores...\n",
      "Computing METEOR score...\n",
      "Computing CIDEr score...\n"
     ]
    },
    {
     "name": "stderr",
     "output_type": "stream",
     "text": [
      "Processing files:  50%|██████████████████████████▊                           | 518/1044 [22:19<22:55,  2.61s/it]"
     ]
    },
    {
     "name": "stdout",
     "output_type": "stream",
     "text": [
      "Tokenizing...\n"
     ]
    },
    {
     "name": "stderr",
     "output_type": "stream",
     "text": [
      "PTBTokenizer tokenized 61766 tokens at 334238.91 tokens per second.\n",
      "PTBTokenizer tokenized 9242 tokens at 90013.85 tokens per second.\n"
     ]
    },
    {
     "name": "stdout",
     "output_type": "stream",
     "text": [
      "Computing scores...\n",
      "Computing METEOR score...\n",
      "Computing CIDEr score...\n"
     ]
    },
    {
     "name": "stderr",
     "output_type": "stream",
     "text": [
      "Processing files:  50%|██████████████████████████▊                           | 519/1044 [22:22<22:42,  2.60s/it]"
     ]
    },
    {
     "name": "stdout",
     "output_type": "stream",
     "text": [
      "Tokenizing...\n"
     ]
    },
    {
     "name": "stderr",
     "output_type": "stream",
     "text": [
      "PTBTokenizer tokenized 61766 tokens at 321536.18 tokens per second.\n",
      "Jul 19, 2024 4:42:46 PM edu.stanford.nlp.process.PTBLexer next\n",
      "WARNING: Untokenizable: � (U+FFFD, decimal: 65533)\n",
      "PTBTokenizer tokenized 8505 tokens at 42775.25 tokens per second.\n"
     ]
    },
    {
     "name": "stdout",
     "output_type": "stream",
     "text": [
      "Computing scores...\n",
      "Computing METEOR score...\n",
      "Computing CIDEr score...\n"
     ]
    },
    {
     "name": "stderr",
     "output_type": "stream",
     "text": [
      "Processing files:  50%|██████████████████████████▉                           | 520/1044 [22:24<22:01,  2.52s/it]"
     ]
    },
    {
     "name": "stdout",
     "output_type": "stream",
     "text": [
      "Tokenizing...\n"
     ]
    },
    {
     "name": "stderr",
     "output_type": "stream",
     "text": [
      "PTBTokenizer tokenized 61766 tokens at 343276.69 tokens per second.\n",
      "PTBTokenizer tokenized 9169 tokens at 89917.75 tokens per second.\n"
     ]
    },
    {
     "name": "stdout",
     "output_type": "stream",
     "text": [
      "Computing scores...\n",
      "Computing METEOR score...\n",
      "Computing CIDEr score...\n"
     ]
    },
    {
     "name": "stderr",
     "output_type": "stream",
     "text": [
      "Processing files:  50%|██████████████████████████▉                           | 521/1044 [22:27<22:04,  2.53s/it]"
     ]
    },
    {
     "name": "stdout",
     "output_type": "stream",
     "text": [
      "Tokenizing...\n"
     ]
    },
    {
     "name": "stderr",
     "output_type": "stream",
     "text": [
      "PTBTokenizer tokenized 61766 tokens at 343165.06 tokens per second.\n",
      "PTBTokenizer tokenized 9214 tokens at 87654.85 tokens per second.\n"
     ]
    },
    {
     "name": "stdout",
     "output_type": "stream",
     "text": [
      "Computing scores...\n",
      "Computing METEOR score...\n",
      "Computing CIDEr score...\n"
     ]
    },
    {
     "name": "stderr",
     "output_type": "stream",
     "text": [
      "Processing files:  50%|███████████████████████████                           | 522/1044 [22:29<22:03,  2.54s/it]"
     ]
    },
    {
     "name": "stdout",
     "output_type": "stream",
     "text": [
      "Tokenizing...\n"
     ]
    },
    {
     "name": "stderr",
     "output_type": "stream",
     "text": [
      "PTBTokenizer tokenized 61766 tokens at 339521.23 tokens per second.\n",
      "PTBTokenizer tokenized 9243 tokens at 79055.30 tokens per second.\n"
     ]
    },
    {
     "name": "stdout",
     "output_type": "stream",
     "text": [
      "Computing scores...\n",
      "Computing METEOR score...\n",
      "Computing CIDEr score...\n"
     ]
    },
    {
     "name": "stderr",
     "output_type": "stream",
     "text": [
      "Processing files:  50%|███████████████████████████                           | 523/1044 [22:32<22:15,  2.56s/it]"
     ]
    },
    {
     "name": "stdout",
     "output_type": "stream",
     "text": [
      "Tokenizing...\n"
     ]
    },
    {
     "name": "stderr",
     "output_type": "stream",
     "text": [
      "PTBTokenizer tokenized 61766 tokens at 337205.81 tokens per second.\n",
      "PTBTokenizer tokenized 8523 tokens at 85514.94 tokens per second.\n"
     ]
    },
    {
     "name": "stdout",
     "output_type": "stream",
     "text": [
      "Computing scores...\n",
      "Computing METEOR score...\n",
      "Computing CIDEr score...\n"
     ]
    },
    {
     "name": "stderr",
     "output_type": "stream",
     "text": [
      "Processing files:  50%|███████████████████████████                           | 524/1044 [22:34<22:02,  2.54s/it]"
     ]
    },
    {
     "name": "stdout",
     "output_type": "stream",
     "text": [
      "Tokenizing...\n"
     ]
    },
    {
     "name": "stderr",
     "output_type": "stream",
     "text": [
      "PTBTokenizer tokenized 61766 tokens at 312871.00 tokens per second.\n",
      "Jul 19, 2024 4:42:58 PM edu.stanford.nlp.process.PTBLexer next\n",
      "WARNING: Untokenizable: � (U+FFFD, decimal: 65533)\n",
      "PTBTokenizer tokenized 12505 tokens at 70448.69 tokens per second.\n"
     ]
    },
    {
     "name": "stdout",
     "output_type": "stream",
     "text": [
      "Computing scores...\n",
      "Computing METEOR score...\n",
      "Computing CIDEr score...\n"
     ]
    },
    {
     "name": "stderr",
     "output_type": "stream",
     "text": [
      "Processing files:  50%|███████████████████████████▏                          | 525/1044 [22:37<21:52,  2.53s/it]"
     ]
    },
    {
     "name": "stdout",
     "output_type": "stream",
     "text": [
      "Tokenizing...\n"
     ]
    },
    {
     "name": "stderr",
     "output_type": "stream",
     "text": [
      "PTBTokenizer tokenized 61766 tokens at 351153.74 tokens per second.\n",
      "PTBTokenizer tokenized 9151 tokens at 81118.79 tokens per second.\n"
     ]
    },
    {
     "name": "stdout",
     "output_type": "stream",
     "text": [
      "Computing scores...\n",
      "Computing METEOR score...\n",
      "Computing CIDEr score...\n"
     ]
    },
    {
     "name": "stderr",
     "output_type": "stream",
     "text": [
      "Processing files:  50%|███████████████████████████▏                          | 526/1044 [22:39<21:56,  2.54s/it]"
     ]
    },
    {
     "name": "stdout",
     "output_type": "stream",
     "text": [
      "Tokenizing...\n"
     ]
    },
    {
     "name": "stderr",
     "output_type": "stream",
     "text": [
      "PTBTokenizer tokenized 61766 tokens at 339259.46 tokens per second.\n",
      "PTBTokenizer tokenized 9242 tokens at 89683.17 tokens per second.\n"
     ]
    },
    {
     "name": "stdout",
     "output_type": "stream",
     "text": [
      "Computing scores...\n",
      "Computing METEOR score...\n",
      "Computing CIDEr score...\n"
     ]
    },
    {
     "name": "stderr",
     "output_type": "stream",
     "text": [
      "Processing files:  50%|███████████████████████████▎                          | 527/1044 [22:42<21:50,  2.53s/it]"
     ]
    },
    {
     "name": "stdout",
     "output_type": "stream",
     "text": [
      "Tokenizing...\n"
     ]
    },
    {
     "name": "stderr",
     "output_type": "stream",
     "text": [
      "PTBTokenizer tokenized 61766 tokens at 346087.93 tokens per second.\n",
      "PTBTokenizer tokenized 9278 tokens at 88279.42 tokens per second.\n"
     ]
    },
    {
     "name": "stdout",
     "output_type": "stream",
     "text": [
      "Computing scores...\n",
      "Computing METEOR score...\n",
      "Computing CIDEr score...\n"
     ]
    },
    {
     "name": "stderr",
     "output_type": "stream",
     "text": [
      "Processing files:  51%|███████████████████████████▎                          | 528/1044 [22:44<21:54,  2.55s/it]"
     ]
    },
    {
     "name": "stdout",
     "output_type": "stream",
     "text": [
      "Tokenizing...\n"
     ]
    },
    {
     "name": "stderr",
     "output_type": "stream",
     "text": [
      "PTBTokenizer tokenized 61766 tokens at 334969.73 tokens per second.\n",
      "PTBTokenizer tokenized 9242 tokens at 90682.91 tokens per second.\n"
     ]
    },
    {
     "name": "stdout",
     "output_type": "stream",
     "text": [
      "Computing scores...\n",
      "Computing METEOR score...\n",
      "Computing CIDEr score...\n"
     ]
    },
    {
     "name": "stderr",
     "output_type": "stream",
     "text": [
      "Processing files:  51%|███████████████████████████▎                          | 529/1044 [22:47<21:58,  2.56s/it]"
     ]
    },
    {
     "name": "stdout",
     "output_type": "stream",
     "text": [
      "Tokenizing...\n"
     ]
    },
    {
     "name": "stderr",
     "output_type": "stream",
     "text": [
      "PTBTokenizer tokenized 61766 tokens at 312952.04 tokens per second.\n",
      "PTBTokenizer tokenized 9073 tokens at 86821.89 tokens per second.\n"
     ]
    },
    {
     "name": "stdout",
     "output_type": "stream",
     "text": [
      "Computing scores...\n",
      "Computing METEOR score...\n",
      "Computing CIDEr score...\n"
     ]
    },
    {
     "name": "stderr",
     "output_type": "stream",
     "text": [
      "Processing files:  51%|███████████████████████████▍                          | 530/1044 [22:49<21:47,  2.54s/it]"
     ]
    },
    {
     "name": "stdout",
     "output_type": "stream",
     "text": [
      "Tokenizing...\n"
     ]
    },
    {
     "name": "stderr",
     "output_type": "stream",
     "text": [
      "PTBTokenizer tokenized 61766 tokens at 342172.16 tokens per second.\n",
      "PTBTokenizer tokenized 9244 tokens at 91787.69 tokens per second.\n"
     ]
    },
    {
     "name": "stdout",
     "output_type": "stream",
     "text": [
      "Computing scores...\n",
      "Computing METEOR score...\n",
      "Computing CIDEr score...\n"
     ]
    },
    {
     "name": "stderr",
     "output_type": "stream",
     "text": [
      "Processing files:  51%|███████████████████████████▍                          | 531/1044 [22:52<21:32,  2.52s/it]"
     ]
    },
    {
     "name": "stdout",
     "output_type": "stream",
     "text": [
      "Tokenizing...\n"
     ]
    },
    {
     "name": "stderr",
     "output_type": "stream",
     "text": [
      "PTBTokenizer tokenized 61766 tokens at 341856.29 tokens per second.\n",
      "PTBTokenizer tokenized 9175 tokens at 78748.46 tokens per second.\n"
     ]
    },
    {
     "name": "stdout",
     "output_type": "stream",
     "text": [
      "Computing scores...\n",
      "Computing METEOR score...\n",
      "Computing CIDEr score...\n"
     ]
    },
    {
     "name": "stderr",
     "output_type": "stream",
     "text": [
      "Processing files:  51%|███████████████████████████▌                          | 532/1044 [22:55<22:02,  2.58s/it]"
     ]
    },
    {
     "name": "stdout",
     "output_type": "stream",
     "text": [
      "Tokenizing...\n"
     ]
    },
    {
     "name": "stderr",
     "output_type": "stream",
     "text": [
      "PTBTokenizer tokenized 61766 tokens at 314069.11 tokens per second.\n",
      "PTBTokenizer tokenized 7744 tokens at 72613.79 tokens per second.\n"
     ]
    },
    {
     "name": "stdout",
     "output_type": "stream",
     "text": [
      "Computing scores...\n",
      "Computing METEOR score...\n",
      "Computing CIDEr score...\n"
     ]
    },
    {
     "name": "stderr",
     "output_type": "stream",
     "text": [
      "Processing files:  51%|███████████████████████████▌                          | 533/1044 [22:57<21:47,  2.56s/it]"
     ]
    },
    {
     "name": "stdout",
     "output_type": "stream",
     "text": [
      "Tokenizing...\n"
     ]
    },
    {
     "name": "stderr",
     "output_type": "stream",
     "text": [
      "PTBTokenizer tokenized 61766 tokens at 274630.03 tokens per second.\n",
      "PTBTokenizer tokenized 8482 tokens at 81414.42 tokens per second.\n"
     ]
    },
    {
     "name": "stdout",
     "output_type": "stream",
     "text": [
      "Computing scores...\n",
      "Computing METEOR score...\n",
      "Computing CIDEr score...\n"
     ]
    },
    {
     "name": "stderr",
     "output_type": "stream",
     "text": [
      "Processing files:  51%|███████████████████████████▌                          | 534/1044 [23:00<21:49,  2.57s/it]"
     ]
    },
    {
     "name": "stdout",
     "output_type": "stream",
     "text": [
      "Tokenizing...\n"
     ]
    },
    {
     "name": "stderr",
     "output_type": "stream",
     "text": [
      "PTBTokenizer tokenized 61766 tokens at 312165.61 tokens per second.\n",
      "PTBTokenizer tokenized 9242 tokens at 83120.24 tokens per second.\n"
     ]
    },
    {
     "name": "stdout",
     "output_type": "stream",
     "text": [
      "Computing scores...\n",
      "Computing METEOR score...\n",
      "Computing CIDEr score...\n"
     ]
    },
    {
     "name": "stderr",
     "output_type": "stream",
     "text": [
      "Processing files:  51%|███████████████████████████▋                          | 535/1044 [23:02<21:54,  2.58s/it]"
     ]
    },
    {
     "name": "stdout",
     "output_type": "stream",
     "text": [
      "Tokenizing...\n"
     ]
    },
    {
     "name": "stderr",
     "output_type": "stream",
     "text": [
      "PTBTokenizer tokenized 61766 tokens at 357005.99 tokens per second.\n",
      "PTBTokenizer tokenized 9242 tokens at 81026.75 tokens per second.\n"
     ]
    },
    {
     "name": "stdout",
     "output_type": "stream",
     "text": [
      "Computing scores...\n",
      "Computing METEOR score...\n",
      "Computing CIDEr score...\n"
     ]
    },
    {
     "name": "stderr",
     "output_type": "stream",
     "text": [
      "Processing files:  51%|███████████████████████████▋                          | 536/1044 [23:05<22:09,  2.62s/it]"
     ]
    },
    {
     "name": "stdout",
     "output_type": "stream",
     "text": [
      "Tokenizing...\n"
     ]
    },
    {
     "name": "stderr",
     "output_type": "stream",
     "text": [
      "PTBTokenizer tokenized 61766 tokens at 343027.81 tokens per second.\n",
      "PTBTokenizer tokenized 11835 tokens at 108329.96 tokens per second.\n"
     ]
    },
    {
     "name": "stdout",
     "output_type": "stream",
     "text": [
      "Computing scores...\n",
      "Computing METEOR score...\n",
      "Computing CIDEr score...\n"
     ]
    },
    {
     "name": "stderr",
     "output_type": "stream",
     "text": [
      "Processing files:  51%|███████████████████████████▊                          | 537/1044 [23:08<22:27,  2.66s/it]"
     ]
    },
    {
     "name": "stdout",
     "output_type": "stream",
     "text": [
      "Tokenizing...\n"
     ]
    },
    {
     "name": "stderr",
     "output_type": "stream",
     "text": [
      "PTBTokenizer tokenized 61766 tokens at 325974.72 tokens per second.\n",
      "PTBTokenizer tokenized 9038 tokens at 89175.91 tokens per second.\n"
     ]
    },
    {
     "name": "stdout",
     "output_type": "stream",
     "text": [
      "Computing scores...\n",
      "Computing METEOR score...\n",
      "Computing CIDEr score...\n"
     ]
    },
    {
     "name": "stderr",
     "output_type": "stream",
     "text": [
      "Processing files:  52%|███████████████████████████▊                          | 538/1044 [23:10<22:17,  2.64s/it]"
     ]
    },
    {
     "name": "stdout",
     "output_type": "stream",
     "text": [
      "Tokenizing...\n"
     ]
    },
    {
     "name": "stderr",
     "output_type": "stream",
     "text": [
      "PTBTokenizer tokenized 61766 tokens at 342269.04 tokens per second.\n",
      "PTBTokenizer tokenized 9045 tokens at 77762.81 tokens per second.\n"
     ]
    },
    {
     "name": "stdout",
     "output_type": "stream",
     "text": [
      "Computing scores...\n",
      "Computing METEOR score...\n",
      "Computing CIDEr score...\n"
     ]
    },
    {
     "name": "stderr",
     "output_type": "stream",
     "text": [
      "Processing files:  52%|███████████████████████████▉                          | 539/1044 [23:13<22:09,  2.63s/it]"
     ]
    },
    {
     "name": "stdout",
     "output_type": "stream",
     "text": [
      "Tokenizing...\n"
     ]
    },
    {
     "name": "stderr",
     "output_type": "stream",
     "text": [
      "PTBTokenizer tokenized 61766 tokens at 300694.90 tokens per second.\n",
      "PTBTokenizer tokenized 8510 tokens at 86069.21 tokens per second.\n"
     ]
    },
    {
     "name": "stdout",
     "output_type": "stream",
     "text": [
      "Computing scores...\n",
      "Computing METEOR score...\n",
      "Computing CIDEr score...\n"
     ]
    },
    {
     "name": "stderr",
     "output_type": "stream",
     "text": [
      "Processing files:  52%|███████████████████████████▉                          | 540/1044 [23:16<22:10,  2.64s/it]"
     ]
    },
    {
     "name": "stdout",
     "output_type": "stream",
     "text": [
      "Tokenizing...\n"
     ]
    },
    {
     "name": "stderr",
     "output_type": "stream",
     "text": [
      "PTBTokenizer tokenized 61766 tokens at 341642.11 tokens per second.\n",
      "PTBTokenizer tokenized 7104 tokens at 71548.59 tokens per second.\n"
     ]
    },
    {
     "name": "stdout",
     "output_type": "stream",
     "text": [
      "Computing scores...\n",
      "Computing METEOR score...\n",
      "Computing CIDEr score...\n"
     ]
    },
    {
     "name": "stderr",
     "output_type": "stream",
     "text": [
      "Processing files:  52%|███████████████████████████▉                          | 541/1044 [23:18<21:39,  2.58s/it]"
     ]
    },
    {
     "name": "stdout",
     "output_type": "stream",
     "text": [
      "Tokenizing...\n"
     ]
    },
    {
     "name": "stderr",
     "output_type": "stream",
     "text": [
      "PTBTokenizer tokenized 61766 tokens at 289652.57 tokens per second.\n",
      "Jul 19, 2024 4:43:42 PM edu.stanford.nlp.process.PTBLexer next\n",
      "WARNING: Untokenizable: � (U+FFFD, decimal: 65533)\n",
      "PTBTokenizer tokenized 14575 tokens at 76498.10 tokens per second.\n"
     ]
    },
    {
     "name": "stdout",
     "output_type": "stream",
     "text": [
      "Computing scores...\n",
      "Computing METEOR score...\n",
      "Computing CIDEr score...\n"
     ]
    },
    {
     "name": "stderr",
     "output_type": "stream",
     "text": [
      "Processing files:  52%|████████████████████████████                          | 542/1044 [23:21<22:03,  2.64s/it]"
     ]
    },
    {
     "name": "stdout",
     "output_type": "stream",
     "text": [
      "Tokenizing...\n"
     ]
    },
    {
     "name": "stderr",
     "output_type": "stream",
     "text": [
      "PTBTokenizer tokenized 61766 tokens at 350048.20 tokens per second.\n",
      "PTBTokenizer tokenized 9105 tokens at 85866.81 tokens per second.\n"
     ]
    },
    {
     "name": "stdout",
     "output_type": "stream",
     "text": [
      "Computing scores...\n",
      "Computing METEOR score...\n",
      "Computing CIDEr score...\n"
     ]
    },
    {
     "name": "stderr",
     "output_type": "stream",
     "text": [
      "Processing files:  52%|████████████████████████████                          | 543/1044 [23:24<21:55,  2.63s/it]"
     ]
    },
    {
     "name": "stdout",
     "output_type": "stream",
     "text": [
      "Tokenizing...\n"
     ]
    },
    {
     "name": "stderr",
     "output_type": "stream",
     "text": [
      "PTBTokenizer tokenized 61766 tokens at 276933.21 tokens per second.\n",
      "Jul 19, 2024 4:43:47 PM edu.stanford.nlp.process.PTBLexer next\n",
      "WARNING: Untokenizable: � (U+FFFD, decimal: 65533)\n",
      "PTBTokenizer tokenized 17347 tokens at 102500.51 tokens per second.\n"
     ]
    },
    {
     "name": "stdout",
     "output_type": "stream",
     "text": [
      "Computing scores...\n",
      "Computing METEOR score...\n",
      "Computing CIDEr score...\n"
     ]
    },
    {
     "name": "stderr",
     "output_type": "stream",
     "text": [
      "Processing files:  52%|████████████████████████████▏                         | 544/1044 [23:27<22:52,  2.74s/it]"
     ]
    },
    {
     "name": "stdout",
     "output_type": "stream",
     "text": [
      "Tokenizing...\n"
     ]
    },
    {
     "name": "stderr",
     "output_type": "stream",
     "text": [
      "PTBTokenizer tokenized 61766 tokens at 355260.95 tokens per second.\n",
      "PTBTokenizer tokenized 9242 tokens at 76446.74 tokens per second.\n"
     ]
    },
    {
     "name": "stdout",
     "output_type": "stream",
     "text": [
      "Computing scores...\n",
      "Computing METEOR score...\n",
      "Computing CIDEr score...\n"
     ]
    },
    {
     "name": "stderr",
     "output_type": "stream",
     "text": [
      "Processing files:  52%|████████████████████████████▏                         | 545/1044 [23:29<22:47,  2.74s/it]"
     ]
    },
    {
     "name": "stdout",
     "output_type": "stream",
     "text": [
      "Tokenizing...\n"
     ]
    },
    {
     "name": "stderr",
     "output_type": "stream",
     "text": [
      "PTBTokenizer tokenized 61766 tokens at 325199.15 tokens per second.\n",
      "PTBTokenizer tokenized 7970 tokens at 80703.22 tokens per second.\n"
     ]
    },
    {
     "name": "stdout",
     "output_type": "stream",
     "text": [
      "Computing scores...\n",
      "Computing METEOR score...\n",
      "Computing CIDEr score...\n"
     ]
    },
    {
     "name": "stderr",
     "output_type": "stream",
     "text": [
      "Processing files:  52%|████████████████████████████▏                         | 546/1044 [23:32<22:00,  2.65s/it]"
     ]
    },
    {
     "name": "stdout",
     "output_type": "stream",
     "text": [
      "Tokenizing...\n"
     ]
    },
    {
     "name": "stderr",
     "output_type": "stream",
     "text": [
      "PTBTokenizer tokenized 61766 tokens at 305455.27 tokens per second.\n",
      "PTBTokenizer tokenized 9242 tokens at 89011.15 tokens per second.\n"
     ]
    },
    {
     "name": "stdout",
     "output_type": "stream",
     "text": [
      "Computing scores...\n",
      "Computing METEOR score...\n",
      "Computing CIDEr score...\n"
     ]
    },
    {
     "name": "stderr",
     "output_type": "stream",
     "text": [
      "Processing files:  52%|████████████████████████████▎                         | 547/1044 [23:34<21:44,  2.63s/it]"
     ]
    },
    {
     "name": "stdout",
     "output_type": "stream",
     "text": [
      "Tokenizing...\n"
     ]
    },
    {
     "name": "stderr",
     "output_type": "stream",
     "text": [
      "PTBTokenizer tokenized 61766 tokens at 330563.73 tokens per second.\n",
      "Jul 19, 2024 4:43:58 PM edu.stanford.nlp.process.PTBLexer next\n",
      "WARNING: Untokenizable: � (U+FFFD, decimal: 65533)\n",
      "PTBTokenizer tokenized 8505 tokens at 50605.15 tokens per second.\n"
     ]
    },
    {
     "name": "stdout",
     "output_type": "stream",
     "text": [
      "Computing scores...\n",
      "Computing METEOR score...\n",
      "Computing CIDEr score...\n"
     ]
    },
    {
     "name": "stderr",
     "output_type": "stream",
     "text": [
      "Processing files:  52%|████████████████████████████▎                         | 548/1044 [23:37<21:14,  2.57s/it]"
     ]
    },
    {
     "name": "stdout",
     "output_type": "stream",
     "text": [
      "Tokenizing...\n"
     ]
    },
    {
     "name": "stderr",
     "output_type": "stream",
     "text": [
      "PTBTokenizer tokenized 61766 tokens at 312063.31 tokens per second.\n",
      "PTBTokenizer tokenized 9241 tokens at 70826.08 tokens per second.\n"
     ]
    },
    {
     "name": "stdout",
     "output_type": "stream",
     "text": [
      "Computing scores...\n",
      "Computing METEOR score...\n",
      "Computing CIDEr score...\n"
     ]
    },
    {
     "name": "stderr",
     "output_type": "stream",
     "text": [
      "Processing files:  53%|████████████████████████████▍                         | 549/1044 [23:39<21:29,  2.60s/it]"
     ]
    },
    {
     "name": "stdout",
     "output_type": "stream",
     "text": [
      "Tokenizing...\n"
     ]
    },
    {
     "name": "stderr",
     "output_type": "stream",
     "text": [
      "PTBTokenizer tokenized 61766 tokens at 349795.42 tokens per second.\n",
      "Jul 19, 2024 4:44:03 PM edu.stanford.nlp.process.PTBLexer next\n",
      "WARNING: Untokenizable: � (U+FFFD, decimal: 65533)\n",
      "PTBTokenizer tokenized 17504 tokens at 102046.03 tokens per second.\n"
     ]
    },
    {
     "name": "stdout",
     "output_type": "stream",
     "text": [
      "Computing scores...\n",
      "Computing METEOR score...\n",
      "Computing CIDEr score...\n"
     ]
    },
    {
     "name": "stderr",
     "output_type": "stream",
     "text": [
      "Processing files:  53%|████████████████████████████▍                         | 550/1044 [23:43<22:42,  2.76s/it]"
     ]
    },
    {
     "name": "stdout",
     "output_type": "stream",
     "text": [
      "Tokenizing...\n"
     ]
    },
    {
     "name": "stderr",
     "output_type": "stream",
     "text": [
      "PTBTokenizer tokenized 61766 tokens at 290579.11 tokens per second.\n",
      "PTBTokenizer tokenized 9169 tokens at 87005.27 tokens per second.\n"
     ]
    },
    {
     "name": "stdout",
     "output_type": "stream",
     "text": [
      "Computing scores...\n",
      "Computing METEOR score...\n",
      "Computing CIDEr score...\n"
     ]
    },
    {
     "name": "stderr",
     "output_type": "stream",
     "text": [
      "Processing files:  53%|████████████████████████████▌                         | 551/1044 [23:45<22:12,  2.70s/it]"
     ]
    },
    {
     "name": "stdout",
     "output_type": "stream",
     "text": [
      "Tokenizing...\n"
     ]
    },
    {
     "name": "stderr",
     "output_type": "stream",
     "text": [
      "PTBTokenizer tokenized 61766 tokens at 336386.75 tokens per second.\n",
      "PTBTokenizer tokenized 9088 tokens at 80039.25 tokens per second.\n"
     ]
    },
    {
     "name": "stdout",
     "output_type": "stream",
     "text": [
      "Computing scores...\n",
      "Computing METEOR score...\n",
      "Computing CIDEr score...\n"
     ]
    },
    {
     "name": "stderr",
     "output_type": "stream",
     "text": [
      "Processing files:  53%|████████████████████████████▌                         | 552/1044 [23:48<21:58,  2.68s/it]"
     ]
    },
    {
     "name": "stdout",
     "output_type": "stream",
     "text": [
      "Tokenizing...\n"
     ]
    },
    {
     "name": "stderr",
     "output_type": "stream",
     "text": [
      "PTBTokenizer tokenized 61766 tokens at 306465.79 tokens per second.\n",
      "PTBTokenizer tokenized 9241 tokens at 84619.37 tokens per second.\n"
     ]
    },
    {
     "name": "stdout",
     "output_type": "stream",
     "text": [
      "Computing scores...\n",
      "Computing METEOR score...\n",
      "Computing CIDEr score...\n"
     ]
    },
    {
     "name": "stderr",
     "output_type": "stream",
     "text": [
      "Processing files:  53%|████████████████████████████▌                         | 553/1044 [23:50<21:59,  2.69s/it]"
     ]
    },
    {
     "name": "stdout",
     "output_type": "stream",
     "text": [
      "Tokenizing...\n"
     ]
    },
    {
     "name": "stderr",
     "output_type": "stream",
     "text": [
      "PTBTokenizer tokenized 61766 tokens at 315541.73 tokens per second.\n",
      "PTBTokenizer tokenized 9234 tokens at 86968.64 tokens per second.\n"
     ]
    },
    {
     "name": "stdout",
     "output_type": "stream",
     "text": [
      "Computing scores...\n",
      "Computing METEOR score...\n",
      "Computing CIDEr score...\n"
     ]
    },
    {
     "name": "stderr",
     "output_type": "stream",
     "text": [
      "Processing files:  53%|████████████████████████████▋                         | 554/1044 [23:53<21:51,  2.68s/it]"
     ]
    },
    {
     "name": "stdout",
     "output_type": "stream",
     "text": [
      "Tokenizing...\n"
     ]
    },
    {
     "name": "stderr",
     "output_type": "stream",
     "text": [
      "PTBTokenizer tokenized 61766 tokens at 338813.81 tokens per second.\n",
      "PTBTokenizer tokenized 9242 tokens at 84895.31 tokens per second.\n"
     ]
    },
    {
     "name": "stdout",
     "output_type": "stream",
     "text": [
      "Computing scores...\n",
      "Computing METEOR score...\n",
      "Computing CIDEr score...\n"
     ]
    },
    {
     "name": "stderr",
     "output_type": "stream",
     "text": [
      "Processing files:  53%|████████████████████████████▋                         | 555/1044 [23:56<21:54,  2.69s/it]"
     ]
    },
    {
     "name": "stdout",
     "output_type": "stream",
     "text": [
      "Tokenizing...\n"
     ]
    },
    {
     "name": "stderr",
     "output_type": "stream",
     "text": [
      "PTBTokenizer tokenized 61766 tokens at 348378.88 tokens per second.\n",
      "PTBTokenizer tokenized 7961 tokens at 78322.38 tokens per second.\n"
     ]
    },
    {
     "name": "stdout",
     "output_type": "stream",
     "text": [
      "Computing scores...\n",
      "Computing METEOR score...\n",
      "Computing CIDEr score...\n"
     ]
    },
    {
     "name": "stderr",
     "output_type": "stream",
     "text": [
      "Processing files:  53%|████████████████████████████▊                         | 556/1044 [23:58<21:22,  2.63s/it]"
     ]
    },
    {
     "name": "stdout",
     "output_type": "stream",
     "text": [
      "Tokenizing...\n"
     ]
    },
    {
     "name": "stderr",
     "output_type": "stream",
     "text": [
      "PTBTokenizer tokenized 61766 tokens at 315478.05 tokens per second.\n",
      "PTBTokenizer tokenized 9254 tokens at 90689.33 tokens per second.\n"
     ]
    },
    {
     "name": "stdout",
     "output_type": "stream",
     "text": [
      "Computing scores...\n",
      "Computing METEOR score...\n",
      "Computing CIDEr score...\n"
     ]
    },
    {
     "name": "stderr",
     "output_type": "stream",
     "text": [
      "Processing files:  53%|████████████████████████████▊                         | 557/1044 [24:01<21:19,  2.63s/it]"
     ]
    },
    {
     "name": "stdout",
     "output_type": "stream",
     "text": [
      "Tokenizing...\n"
     ]
    },
    {
     "name": "stderr",
     "output_type": "stream",
     "text": [
      "PTBTokenizer tokenized 61766 tokens at 284863.13 tokens per second.\n",
      "PTBTokenizer tokenized 8086 tokens at 77810.82 tokens per second.\n"
     ]
    },
    {
     "name": "stdout",
     "output_type": "stream",
     "text": [
      "Computing scores...\n",
      "Computing METEOR score...\n",
      "Computing CIDEr score...\n"
     ]
    },
    {
     "name": "stderr",
     "output_type": "stream",
     "text": [
      "Processing files:  53%|████████████████████████████▊                         | 558/1044 [24:04<21:24,  2.64s/it]"
     ]
    },
    {
     "name": "stdout",
     "output_type": "stream",
     "text": [
      "Tokenizing...\n"
     ]
    },
    {
     "name": "stderr",
     "output_type": "stream",
     "text": [
      "PTBTokenizer tokenized 61766 tokens at 310587.78 tokens per second.\n",
      "PTBTokenizer tokenized 9242 tokens at 83713.42 tokens per second.\n"
     ]
    },
    {
     "name": "stdout",
     "output_type": "stream",
     "text": [
      "Computing scores...\n",
      "Computing METEOR score...\n",
      "Computing CIDEr score...\n"
     ]
    },
    {
     "name": "stderr",
     "output_type": "stream",
     "text": [
      "Processing files:  54%|████████████████████████████▉                         | 559/1044 [24:06<21:08,  2.62s/it]"
     ]
    },
    {
     "name": "stdout",
     "output_type": "stream",
     "text": [
      "Tokenizing...\n"
     ]
    },
    {
     "name": "stderr",
     "output_type": "stream",
     "text": [
      "PTBTokenizer tokenized 61766 tokens at 284018.90 tokens per second.\n",
      "PTBTokenizer tokenized 9242 tokens at 79670.97 tokens per second.\n"
     ]
    },
    {
     "name": "stdout",
     "output_type": "stream",
     "text": [
      "Computing scores...\n",
      "Computing METEOR score...\n",
      "Computing CIDEr score...\n"
     ]
    },
    {
     "name": "stderr",
     "output_type": "stream",
     "text": [
      "Processing files:  54%|████████████████████████████▉                         | 560/1044 [24:09<21:13,  2.63s/it]"
     ]
    },
    {
     "name": "stdout",
     "output_type": "stream",
     "text": [
      "Tokenizing...\n"
     ]
    },
    {
     "name": "stderr",
     "output_type": "stream",
     "text": [
      "PTBTokenizer tokenized 61766 tokens at 327570.65 tokens per second.\n",
      "PTBTokenizer tokenized 9105 tokens at 76325.01 tokens per second.\n"
     ]
    },
    {
     "name": "stdout",
     "output_type": "stream",
     "text": [
      "Computing scores...\n",
      "Computing METEOR score...\n",
      "Computing CIDEr score...\n"
     ]
    },
    {
     "name": "stderr",
     "output_type": "stream",
     "text": [
      "Processing files:  54%|█████████████████████████████                         | 561/1044 [24:11<21:02,  2.61s/it]"
     ]
    },
    {
     "name": "stdout",
     "output_type": "stream",
     "text": [
      "Tokenizing...\n"
     ]
    },
    {
     "name": "stderr",
     "output_type": "stream",
     "text": [
      "PTBTokenizer tokenized 61766 tokens at 334063.34 tokens per second.\n",
      "PTBTokenizer tokenized 9233 tokens at 89631.98 tokens per second.\n"
     ]
    },
    {
     "name": "stdout",
     "output_type": "stream",
     "text": [
      "Computing scores...\n",
      "Computing METEOR score...\n",
      "Computing CIDEr score...\n"
     ]
    },
    {
     "name": "stderr",
     "output_type": "stream",
     "text": [
      "Processing files:  54%|█████████████████████████████                         | 562/1044 [24:14<21:10,  2.64s/it]"
     ]
    },
    {
     "name": "stdout",
     "output_type": "stream",
     "text": [
      "Tokenizing...\n"
     ]
    },
    {
     "name": "stderr",
     "output_type": "stream",
     "text": [
      "PTBTokenizer tokenized 61766 tokens at 311880.83 tokens per second.\n",
      "PTBTokenizer tokenized 8050 tokens at 72849.12 tokens per second.\n"
     ]
    },
    {
     "name": "stdout",
     "output_type": "stream",
     "text": [
      "Computing scores...\n",
      "Computing METEOR score...\n",
      "Computing CIDEr score...\n"
     ]
    },
    {
     "name": "stderr",
     "output_type": "stream",
     "text": [
      "Processing files:  54%|█████████████████████████████                         | 563/1044 [24:17<20:58,  2.62s/it]"
     ]
    },
    {
     "name": "stdout",
     "output_type": "stream",
     "text": [
      "Tokenizing...\n"
     ]
    },
    {
     "name": "stderr",
     "output_type": "stream",
     "text": [
      "PTBTokenizer tokenized 61766 tokens at 330206.79 tokens per second.\n",
      "PTBTokenizer tokenized 9242 tokens at 87413.12 tokens per second.\n"
     ]
    },
    {
     "name": "stdout",
     "output_type": "stream",
     "text": [
      "Computing scores...\n",
      "Computing METEOR score...\n",
      "Computing CIDEr score...\n"
     ]
    },
    {
     "name": "stderr",
     "output_type": "stream",
     "text": [
      "Processing files:  54%|█████████████████████████████▏                        | 564/1044 [24:19<20:56,  2.62s/it]"
     ]
    },
    {
     "name": "stdout",
     "output_type": "stream",
     "text": [
      "Tokenizing...\n"
     ]
    },
    {
     "name": "stderr",
     "output_type": "stream",
     "text": [
      "PTBTokenizer tokenized 61766 tokens at 310531.45 tokens per second.\n",
      "PTBTokenizer tokenized 6826 tokens at 71215.92 tokens per second.\n"
     ]
    },
    {
     "name": "stdout",
     "output_type": "stream",
     "text": [
      "Computing scores...\n",
      "Computing METEOR score...\n",
      "Computing CIDEr score...\n"
     ]
    },
    {
     "name": "stderr",
     "output_type": "stream",
     "text": [
      "Processing files:  54%|█████████████████████████████▏                        | 565/1044 [24:22<20:38,  2.59s/it]"
     ]
    },
    {
     "name": "stdout",
     "output_type": "stream",
     "text": [
      "Tokenizing...\n"
     ]
    },
    {
     "name": "stderr",
     "output_type": "stream",
     "text": [
      "PTBTokenizer tokenized 61766 tokens at 319332.57 tokens per second.\n",
      "Jul 19, 2024 4:44:46 PM edu.stanford.nlp.process.PTBLexer next\n",
      "WARNING: Untokenizable: � (U+FFFD, decimal: 65533)\n",
      "PTBTokenizer tokenized 8505 tokens at 46370.83 tokens per second.\n"
     ]
    },
    {
     "name": "stdout",
     "output_type": "stream",
     "text": [
      "Computing scores...\n",
      "Computing METEOR score...\n",
      "Computing CIDEr score...\n"
     ]
    },
    {
     "name": "stderr",
     "output_type": "stream",
     "text": [
      "Processing files:  54%|█████████████████████████████▎                        | 566/1044 [24:24<20:23,  2.56s/it]"
     ]
    },
    {
     "name": "stdout",
     "output_type": "stream",
     "text": [
      "Tokenizing...\n"
     ]
    },
    {
     "name": "stderr",
     "output_type": "stream",
     "text": [
      "PTBTokenizer tokenized 61766 tokens at 310657.95 tokens per second.\n",
      "PTBTokenizer tokenized 7767 tokens at 74661.71 tokens per second.\n"
     ]
    },
    {
     "name": "stdout",
     "output_type": "stream",
     "text": [
      "Computing scores...\n",
      "Computing METEOR score...\n",
      "Computing CIDEr score...\n"
     ]
    },
    {
     "name": "stderr",
     "output_type": "stream",
     "text": [
      "Processing files:  54%|█████████████████████████████▎                        | 567/1044 [24:27<20:05,  2.53s/it]"
     ]
    },
    {
     "name": "stdout",
     "output_type": "stream",
     "text": [
      "Tokenizing...\n"
     ]
    },
    {
     "name": "stderr",
     "output_type": "stream",
     "text": [
      "PTBTokenizer tokenized 61766 tokens at 335960.19 tokens per second.\n",
      "PTBTokenizer tokenized 9354 tokens at 90531.12 tokens per second.\n"
     ]
    },
    {
     "name": "stdout",
     "output_type": "stream",
     "text": [
      "Computing scores...\n",
      "Computing METEOR score...\n",
      "Computing CIDEr score...\n"
     ]
    },
    {
     "name": "stderr",
     "output_type": "stream",
     "text": [
      "Processing files:  54%|█████████████████████████████▍                        | 568/1044 [24:29<20:14,  2.55s/it]"
     ]
    },
    {
     "name": "stdout",
     "output_type": "stream",
     "text": [
      "Tokenizing...\n"
     ]
    },
    {
     "name": "stderr",
     "output_type": "stream",
     "text": [
      "PTBTokenizer tokenized 61766 tokens at 316648.05 tokens per second.\n",
      "PTBTokenizer tokenized 9242 tokens at 92709.46 tokens per second.\n"
     ]
    },
    {
     "name": "stdout",
     "output_type": "stream",
     "text": [
      "Computing scores...\n",
      "Computing METEOR score...\n",
      "Computing CIDEr score...\n"
     ]
    },
    {
     "name": "stderr",
     "output_type": "stream",
     "text": [
      "Processing files:  55%|█████████████████████████████▍                        | 569/1044 [24:32<20:19,  2.57s/it]"
     ]
    },
    {
     "name": "stdout",
     "output_type": "stream",
     "text": [
      "Tokenizing...\n"
     ]
    },
    {
     "name": "stderr",
     "output_type": "stream",
     "text": [
      "PTBTokenizer tokenized 61766 tokens at 319191.59 tokens per second.\n",
      "PTBTokenizer tokenized 9241 tokens at 78781.46 tokens per second.\n"
     ]
    },
    {
     "name": "stdout",
     "output_type": "stream",
     "text": [
      "Computing scores...\n",
      "Computing METEOR score...\n",
      "Computing CIDEr score...\n"
     ]
    },
    {
     "name": "stderr",
     "output_type": "stream",
     "text": [
      "Processing files:  55%|█████████████████████████████▍                        | 570/1044 [24:35<20:17,  2.57s/it]"
     ]
    },
    {
     "name": "stdout",
     "output_type": "stream",
     "text": [
      "Tokenizing...\n"
     ]
    },
    {
     "name": "stderr",
     "output_type": "stream",
     "text": [
      "PTBTokenizer tokenized 61766 tokens at 310114.65 tokens per second.\n",
      "PTBTokenizer tokenized 9242 tokens at 87474.35 tokens per second.\n"
     ]
    },
    {
     "name": "stdout",
     "output_type": "stream",
     "text": [
      "Computing scores...\n",
      "Computing METEOR score...\n",
      "Computing CIDEr score...\n"
     ]
    },
    {
     "name": "stderr",
     "output_type": "stream",
     "text": [
      "Processing files:  55%|█████████████████████████████▌                        | 571/1044 [24:37<20:15,  2.57s/it]"
     ]
    },
    {
     "name": "stdout",
     "output_type": "stream",
     "text": [
      "Tokenizing...\n"
     ]
    },
    {
     "name": "stderr",
     "output_type": "stream",
     "text": [
      "PTBTokenizer tokenized 61766 tokens at 342907.01 tokens per second.\n",
      "PTBTokenizer tokenized 9230 tokens at 90693.44 tokens per second.\n"
     ]
    },
    {
     "name": "stdout",
     "output_type": "stream",
     "text": [
      "Computing scores...\n",
      "Computing METEOR score...\n",
      "Computing CIDEr score...\n"
     ]
    },
    {
     "name": "stderr",
     "output_type": "stream",
     "text": [
      "Processing files:  55%|█████████████████████████████▌                        | 572/1044 [24:40<19:58,  2.54s/it]"
     ]
    },
    {
     "name": "stdout",
     "output_type": "stream",
     "text": [
      "Tokenizing...\n"
     ]
    },
    {
     "name": "stderr",
     "output_type": "stream",
     "text": [
      "PTBTokenizer tokenized 61766 tokens at 343252.70 tokens per second.\n",
      "PTBTokenizer tokenized 9242 tokens at 92686.72 tokens per second.\n"
     ]
    },
    {
     "name": "stdout",
     "output_type": "stream",
     "text": [
      "Computing scores...\n",
      "Computing METEOR score...\n",
      "Computing CIDEr score...\n"
     ]
    },
    {
     "name": "stderr",
     "output_type": "stream",
     "text": [
      "Processing files:  55%|█████████████████████████████▋                        | 573/1044 [24:42<20:03,  2.55s/it]"
     ]
    },
    {
     "name": "stdout",
     "output_type": "stream",
     "text": [
      "Tokenizing...\n"
     ]
    },
    {
     "name": "stderr",
     "output_type": "stream",
     "text": [
      "PTBTokenizer tokenized 61766 tokens at 339452.08 tokens per second.\n",
      "PTBTokenizer tokenized 9086 tokens at 75082.12 tokens per second.\n"
     ]
    },
    {
     "name": "stdout",
     "output_type": "stream",
     "text": [
      "Computing scores...\n",
      "Computing METEOR score...\n",
      "Computing CIDEr score...\n"
     ]
    },
    {
     "name": "stderr",
     "output_type": "stream",
     "text": [
      "Processing files:  55%|█████████████████████████████▋                        | 574/1044 [24:45<19:52,  2.54s/it]"
     ]
    },
    {
     "name": "stdout",
     "output_type": "stream",
     "text": [
      "Tokenizing...\n"
     ]
    },
    {
     "name": "stderr",
     "output_type": "stream",
     "text": [
      "PTBTokenizer tokenized 61766 tokens at 326653.24 tokens per second.\n",
      "PTBTokenizer tokenized 9200 tokens at 93393.01 tokens per second.\n"
     ]
    },
    {
     "name": "stdout",
     "output_type": "stream",
     "text": [
      "Computing scores...\n",
      "Computing METEOR score...\n",
      "Computing CIDEr score...\n"
     ]
    },
    {
     "name": "stderr",
     "output_type": "stream",
     "text": [
      "Processing files:  55%|█████████████████████████████▋                        | 575/1044 [24:47<20:01,  2.56s/it]"
     ]
    },
    {
     "name": "stdout",
     "output_type": "stream",
     "text": [
      "Tokenizing...\n"
     ]
    },
    {
     "name": "stderr",
     "output_type": "stream",
     "text": [
      "PTBTokenizer tokenized 61766 tokens at 320938.30 tokens per second.\n",
      "PTBTokenizer tokenized 9242 tokens at 85237.84 tokens per second.\n"
     ]
    },
    {
     "name": "stdout",
     "output_type": "stream",
     "text": [
      "Computing scores...\n",
      "Computing METEOR score...\n",
      "Computing CIDEr score...\n"
     ]
    },
    {
     "name": "stderr",
     "output_type": "stream",
     "text": [
      "Processing files:  55%|█████████████████████████████▊                        | 576/1044 [24:50<20:03,  2.57s/it]"
     ]
    },
    {
     "name": "stdout",
     "output_type": "stream",
     "text": [
      "Tokenizing...\n"
     ]
    },
    {
     "name": "stderr",
     "output_type": "stream",
     "text": [
      "PTBTokenizer tokenized 61766 tokens at 329753.76 tokens per second.\n",
      "PTBTokenizer tokenized 9242 tokens at 92372.46 tokens per second.\n"
     ]
    },
    {
     "name": "stdout",
     "output_type": "stream",
     "text": [
      "Computing scores...\n",
      "Computing METEOR score...\n",
      "Computing CIDEr score...\n"
     ]
    },
    {
     "name": "stderr",
     "output_type": "stream",
     "text": [
      "Processing files:  55%|█████████████████████████████▊                        | 577/1044 [24:52<20:01,  2.57s/it]"
     ]
    },
    {
     "name": "stdout",
     "output_type": "stream",
     "text": [
      "Tokenizing...\n"
     ]
    },
    {
     "name": "stderr",
     "output_type": "stream",
     "text": [
      "PTBTokenizer tokenized 61766 tokens at 323755.03 tokens per second.\n",
      "PTBTokenizer tokenized 6717 tokens at 68355.38 tokens per second.\n"
     ]
    },
    {
     "name": "stdout",
     "output_type": "stream",
     "text": [
      "Computing scores...\n",
      "Computing METEOR score...\n",
      "Computing CIDEr score...\n"
     ]
    },
    {
     "name": "stderr",
     "output_type": "stream",
     "text": [
      "Processing files:  55%|█████████████████████████████▉                        | 578/1044 [24:55<19:29,  2.51s/it]"
     ]
    },
    {
     "name": "stdout",
     "output_type": "stream",
     "text": [
      "Tokenizing...\n"
     ]
    },
    {
     "name": "stderr",
     "output_type": "stream",
     "text": [
      "PTBTokenizer tokenized 61766 tokens at 315501.22 tokens per second.\n",
      "PTBTokenizer tokenized 9242 tokens at 89095.37 tokens per second.\n"
     ]
    },
    {
     "name": "stdout",
     "output_type": "stream",
     "text": [
      "Computing scores...\n",
      "Computing METEOR score...\n",
      "Computing CIDEr score...\n"
     ]
    },
    {
     "name": "stderr",
     "output_type": "stream",
     "text": [
      "Processing files:  55%|█████████████████████████████▉                        | 579/1044 [24:57<19:45,  2.55s/it]"
     ]
    },
    {
     "name": "stdout",
     "output_type": "stream",
     "text": [
      "Tokenizing...\n"
     ]
    },
    {
     "name": "stderr",
     "output_type": "stream",
     "text": [
      "PTBTokenizer tokenized 61766 tokens at 333969.77 tokens per second.\n",
      "PTBTokenizer tokenized 8050 tokens at 79880.31 tokens per second.\n"
     ]
    },
    {
     "name": "stdout",
     "output_type": "stream",
     "text": [
      "Computing scores...\n",
      "Computing METEOR score...\n",
      "Computing CIDEr score...\n"
     ]
    },
    {
     "name": "stderr",
     "output_type": "stream",
     "text": [
      "Processing files:  56%|██████████████████████████████                        | 580/1044 [25:00<19:19,  2.50s/it]"
     ]
    },
    {
     "name": "stdout",
     "output_type": "stream",
     "text": [
      "Tokenizing...\n"
     ]
    },
    {
     "name": "stderr",
     "output_type": "stream",
     "text": [
      "PTBTokenizer tokenized 61766 tokens at 356223.43 tokens per second.\n",
      "PTBTokenizer tokenized 9204 tokens at 92171.71 tokens per second.\n"
     ]
    },
    {
     "name": "stdout",
     "output_type": "stream",
     "text": [
      "Computing scores...\n",
      "Computing METEOR score...\n",
      "Computing CIDEr score...\n"
     ]
    },
    {
     "name": "stderr",
     "output_type": "stream",
     "text": [
      "Processing files:  56%|██████████████████████████████                        | 581/1044 [25:02<19:06,  2.48s/it]"
     ]
    },
    {
     "name": "stdout",
     "output_type": "stream",
     "text": [
      "Tokenizing...\n"
     ]
    },
    {
     "name": "stderr",
     "output_type": "stream",
     "text": [
      "PTBTokenizer tokenized 61766 tokens at 349458.98 tokens per second.\n",
      "PTBTokenizer tokenized 9226 tokens at 90716.88 tokens per second.\n"
     ]
    },
    {
     "name": "stdout",
     "output_type": "stream",
     "text": [
      "Computing scores...\n",
      "Computing METEOR score...\n",
      "Computing CIDEr score...\n"
     ]
    },
    {
     "name": "stderr",
     "output_type": "stream",
     "text": [
      "Processing files:  56%|██████████████████████████████                        | 582/1044 [25:05<19:02,  2.47s/it]"
     ]
    },
    {
     "name": "stdout",
     "output_type": "stream",
     "text": [
      "Tokenizing...\n"
     ]
    },
    {
     "name": "stderr",
     "output_type": "stream",
     "text": [
      "PTBTokenizer tokenized 61766 tokens at 337124.99 tokens per second.\n",
      "PTBTokenizer tokenized 8607 tokens at 85596.68 tokens per second.\n"
     ]
    },
    {
     "name": "stdout",
     "output_type": "stream",
     "text": [
      "Computing scores...\n",
      "Computing METEOR score...\n",
      "Computing CIDEr score...\n"
     ]
    },
    {
     "name": "stderr",
     "output_type": "stream",
     "text": [
      "Processing files:  56%|██████████████████████████████▏                       | 583/1044 [25:07<19:05,  2.48s/it]"
     ]
    },
    {
     "name": "stdout",
     "output_type": "stream",
     "text": [
      "Tokenizing...\n"
     ]
    },
    {
     "name": "stderr",
     "output_type": "stream",
     "text": [
      "PTBTokenizer tokenized 61766 tokens at 339285.39 tokens per second.\n",
      "PTBTokenizer tokenized 8184 tokens at 82602.80 tokens per second.\n"
     ]
    },
    {
     "name": "stdout",
     "output_type": "stream",
     "text": [
      "Computing scores...\n",
      "Computing METEOR score...\n",
      "Computing CIDEr score...\n"
     ]
    },
    {
     "name": "stderr",
     "output_type": "stream",
     "text": [
      "Processing files:  56%|██████████████████████████████▏                       | 584/1044 [25:10<18:48,  2.45s/it]"
     ]
    },
    {
     "name": "stdout",
     "output_type": "stream",
     "text": [
      "Tokenizing...\n"
     ]
    },
    {
     "name": "stderr",
     "output_type": "stream",
     "text": [
      "PTBTokenizer tokenized 61766 tokens at 355652.32 tokens per second.\n",
      "PTBTokenizer tokenized 7104 tokens at 75549.49 tokens per second.\n"
     ]
    },
    {
     "name": "stdout",
     "output_type": "stream",
     "text": [
      "Computing scores...\n",
      "Computing METEOR score...\n",
      "Computing CIDEr score...\n"
     ]
    },
    {
     "name": "stderr",
     "output_type": "stream",
     "text": [
      "Processing files:  56%|██████████████████████████████▎                       | 585/1044 [25:12<18:32,  2.42s/it]"
     ]
    },
    {
     "name": "stdout",
     "output_type": "stream",
     "text": [
      "Tokenizing...\n"
     ]
    },
    {
     "name": "stderr",
     "output_type": "stream",
     "text": [
      "PTBTokenizer tokenized 61766 tokens at 343232.08 tokens per second.\n",
      "PTBTokenizer tokenized 9242 tokens at 93450.27 tokens per second.\n"
     ]
    },
    {
     "name": "stdout",
     "output_type": "stream",
     "text": [
      "Computing scores...\n",
      "Computing METEOR score...\n",
      "Computing CIDEr score...\n"
     ]
    },
    {
     "name": "stderr",
     "output_type": "stream",
     "text": [
      "Processing files:  56%|██████████████████████████████▎                       | 586/1044 [25:14<18:31,  2.43s/it]"
     ]
    },
    {
     "name": "stdout",
     "output_type": "stream",
     "text": [
      "Tokenizing...\n"
     ]
    },
    {
     "name": "stderr",
     "output_type": "stream",
     "text": [
      "PTBTokenizer tokenized 61766 tokens at 312992.24 tokens per second.\n",
      "PTBTokenizer tokenized 9242 tokens at 90798.16 tokens per second.\n"
     ]
    },
    {
     "name": "stdout",
     "output_type": "stream",
     "text": [
      "Computing scores...\n",
      "Computing METEOR score...\n",
      "Computing CIDEr score...\n"
     ]
    },
    {
     "name": "stderr",
     "output_type": "stream",
     "text": [
      "Processing files:  56%|██████████████████████████████▎                       | 587/1044 [25:17<18:33,  2.44s/it]"
     ]
    },
    {
     "name": "stdout",
     "output_type": "stream",
     "text": [
      "Tokenizing...\n"
     ]
    },
    {
     "name": "stderr",
     "output_type": "stream",
     "text": [
      "PTBTokenizer tokenized 61766 tokens at 337382.73 tokens per second.\n",
      "PTBTokenizer tokenized 7446 tokens at 75681.63 tokens per second.\n"
     ]
    },
    {
     "name": "stdout",
     "output_type": "stream",
     "text": [
      "Computing scores...\n",
      "Computing METEOR score...\n",
      "Computing CIDEr score...\n"
     ]
    },
    {
     "name": "stderr",
     "output_type": "stream",
     "text": [
      "Processing files:  56%|██████████████████████████████▍                       | 588/1044 [25:19<18:21,  2.42s/it]"
     ]
    },
    {
     "name": "stdout",
     "output_type": "stream",
     "text": [
      "Tokenizing...\n"
     ]
    },
    {
     "name": "stderr",
     "output_type": "stream",
     "text": [
      "PTBTokenizer tokenized 61766 tokens at 346028.89 tokens per second.\n",
      "PTBTokenizer tokenized 8523 tokens at 75818.00 tokens per second.\n"
     ]
    },
    {
     "name": "stdout",
     "output_type": "stream",
     "text": [
      "Computing scores...\n",
      "Computing METEOR score...\n",
      "Computing CIDEr score...\n"
     ]
    },
    {
     "name": "stderr",
     "output_type": "stream",
     "text": [
      "Processing files:  56%|██████████████████████████████▍                       | 589/1044 [25:22<18:32,  2.45s/it]"
     ]
    },
    {
     "name": "stdout",
     "output_type": "stream",
     "text": [
      "Tokenizing...\n"
     ]
    },
    {
     "name": "stderr",
     "output_type": "stream",
     "text": [
      "PTBTokenizer tokenized 61766 tokens at 328738.36 tokens per second.\n",
      "PTBTokenizer tokenized 9108 tokens at 88219.89 tokens per second.\n"
     ]
    },
    {
     "name": "stdout",
     "output_type": "stream",
     "text": [
      "Computing scores...\n",
      "Computing METEOR score...\n",
      "Computing CIDEr score...\n"
     ]
    },
    {
     "name": "stderr",
     "output_type": "stream",
     "text": [
      "Processing files:  57%|██████████████████████████████▌                       | 590/1044 [25:24<18:27,  2.44s/it]"
     ]
    },
    {
     "name": "stdout",
     "output_type": "stream",
     "text": [
      "Tokenizing...\n"
     ]
    },
    {
     "name": "stderr",
     "output_type": "stream",
     "text": [
      "PTBTokenizer tokenized 61766 tokens at 343698.98 tokens per second.\n",
      "PTBTokenizer tokenized 9244 tokens at 93893.84 tokens per second.\n"
     ]
    },
    {
     "name": "stdout",
     "output_type": "stream",
     "text": [
      "Computing scores...\n",
      "Computing METEOR score...\n",
      "Computing CIDEr score...\n"
     ]
    },
    {
     "name": "stderr",
     "output_type": "stream",
     "text": [
      "Processing files:  57%|██████████████████████████████▌                       | 591/1044 [25:27<18:14,  2.42s/it]"
     ]
    },
    {
     "name": "stdout",
     "output_type": "stream",
     "text": [
      "Tokenizing...\n"
     ]
    },
    {
     "name": "stderr",
     "output_type": "stream",
     "text": [
      "PTBTokenizer tokenized 61766 tokens at 309894.09 tokens per second.\n",
      "PTBTokenizer tokenized 9242 tokens at 81841.62 tokens per second.\n"
     ]
    },
    {
     "name": "stdout",
     "output_type": "stream",
     "text": [
      "Computing scores...\n",
      "Computing METEOR score...\n",
      "Computing CIDEr score...\n"
     ]
    },
    {
     "name": "stderr",
     "output_type": "stream",
     "text": [
      "Processing files:  57%|██████████████████████████████▌                       | 592/1044 [25:29<18:45,  2.49s/it]"
     ]
    },
    {
     "name": "stdout",
     "output_type": "stream",
     "text": [
      "Tokenizing...\n"
     ]
    },
    {
     "name": "stderr",
     "output_type": "stream",
     "text": [
      "PTBTokenizer tokenized 61766 tokens at 339769.15 tokens per second.\n",
      "PTBTokenizer tokenized 9221 tokens at 91798.97 tokens per second.\n"
     ]
    },
    {
     "name": "stdout",
     "output_type": "stream",
     "text": [
      "Computing scores...\n",
      "Computing METEOR score...\n",
      "Computing CIDEr score...\n"
     ]
    },
    {
     "name": "stderr",
     "output_type": "stream",
     "text": [
      "Processing files:  57%|██████████████████████████████▋                       | 593/1044 [25:32<18:47,  2.50s/it]"
     ]
    },
    {
     "name": "stdout",
     "output_type": "stream",
     "text": [
      "Tokenizing...\n"
     ]
    },
    {
     "name": "stderr",
     "output_type": "stream",
     "text": [
      "PTBTokenizer tokenized 61766 tokens at 363015.32 tokens per second.\n",
      "PTBTokenizer tokenized 9242 tokens at 90549.45 tokens per second.\n"
     ]
    },
    {
     "name": "stdout",
     "output_type": "stream",
     "text": [
      "Computing scores...\n",
      "Computing METEOR score...\n",
      "Computing CIDEr score...\n"
     ]
    },
    {
     "name": "stderr",
     "output_type": "stream",
     "text": [
      "Processing files:  57%|██████████████████████████████▋                       | 594/1044 [25:34<18:17,  2.44s/it]"
     ]
    },
    {
     "name": "stdout",
     "output_type": "stream",
     "text": [
      "Tokenizing...\n"
     ]
    },
    {
     "name": "stderr",
     "output_type": "stream",
     "text": [
      "PTBTokenizer tokenized 61766 tokens at 339521.69 tokens per second.\n",
      "PTBTokenizer tokenized 8050 tokens at 81647.40 tokens per second.\n"
     ]
    },
    {
     "name": "stdout",
     "output_type": "stream",
     "text": [
      "Computing scores...\n",
      "Computing METEOR score...\n",
      "Computing CIDEr score...\n"
     ]
    },
    {
     "name": "stderr",
     "output_type": "stream",
     "text": [
      "Processing files:  57%|██████████████████████████████▊                       | 595/1044 [25:36<17:53,  2.39s/it]"
     ]
    },
    {
     "name": "stdout",
     "output_type": "stream",
     "text": [
      "Tokenizing...\n"
     ]
    },
    {
     "name": "stderr",
     "output_type": "stream",
     "text": [
      "PTBTokenizer tokenized 61766 tokens at 338728.02 tokens per second.\n",
      "PTBTokenizer tokenized 9242 tokens at 91716.64 tokens per second.\n"
     ]
    },
    {
     "name": "stdout",
     "output_type": "stream",
     "text": [
      "Computing scores...\n",
      "Computing METEOR score...\n",
      "Computing CIDEr score...\n"
     ]
    },
    {
     "name": "stderr",
     "output_type": "stream",
     "text": [
      "Processing files:  57%|██████████████████████████████▊                       | 596/1044 [25:39<18:14,  2.44s/it]"
     ]
    },
    {
     "name": "stdout",
     "output_type": "stream",
     "text": [
      "Tokenizing...\n"
     ]
    },
    {
     "name": "stderr",
     "output_type": "stream",
     "text": [
      "PTBTokenizer tokenized 61766 tokens at 334599.50 tokens per second.\n",
      "PTBTokenizer tokenized 8087 tokens at 81133.85 tokens per second.\n"
     ]
    },
    {
     "name": "stdout",
     "output_type": "stream",
     "text": [
      "Computing scores...\n",
      "Computing METEOR score...\n",
      "Computing CIDEr score...\n"
     ]
    },
    {
     "name": "stderr",
     "output_type": "stream",
     "text": [
      "Processing files:  57%|██████████████████████████████▉                       | 597/1044 [25:41<17:51,  2.40s/it]"
     ]
    },
    {
     "name": "stdout",
     "output_type": "stream",
     "text": [
      "Tokenizing...\n"
     ]
    },
    {
     "name": "stderr",
     "output_type": "stream",
     "text": [
      "PTBTokenizer tokenized 61766 tokens at 336613.37 tokens per second.\n",
      "PTBTokenizer tokenized 9037 tokens at 87899.68 tokens per second.\n"
     ]
    },
    {
     "name": "stdout",
     "output_type": "stream",
     "text": [
      "Computing scores...\n",
      "Computing METEOR score...\n",
      "Computing CIDEr score...\n"
     ]
    },
    {
     "name": "stderr",
     "output_type": "stream",
     "text": [
      "Processing files:  57%|██████████████████████████████▉                       | 598/1044 [25:44<18:07,  2.44s/it]"
     ]
    },
    {
     "name": "stdout",
     "output_type": "stream",
     "text": [
      "Tokenizing...\n"
     ]
    },
    {
     "name": "stderr",
     "output_type": "stream",
     "text": [
      "PTBTokenizer tokenized 61766 tokens at 337370.38 tokens per second.\n",
      "Jul 19, 2024 4:46:07 PM edu.stanford.nlp.process.PTBLexer next\n",
      "WARNING: Untokenizable: � (U+FFFD, decimal: 65533)\n",
      "PTBTokenizer tokenized 17504 tokens at 115798.00 tokens per second.\n"
     ]
    },
    {
     "name": "stdout",
     "output_type": "stream",
     "text": [
      "Computing scores...\n",
      "Computing METEOR score...\n",
      "Computing CIDEr score...\n"
     ]
    },
    {
     "name": "stderr",
     "output_type": "stream",
     "text": [
      "Processing files:  57%|██████████████████████████████▉                       | 599/1044 [25:47<19:20,  2.61s/it]"
     ]
    },
    {
     "name": "stdout",
     "output_type": "stream",
     "text": [
      "Tokenizing...\n"
     ]
    },
    {
     "name": "stderr",
     "output_type": "stream",
     "text": [
      "PTBTokenizer tokenized 61766 tokens at 321305.45 tokens per second.\n",
      "PTBTokenizer tokenized 9278 tokens at 90016.30 tokens per second.\n"
     ]
    },
    {
     "name": "stdout",
     "output_type": "stream",
     "text": [
      "Computing scores...\n",
      "Computing METEOR score...\n",
      "Computing CIDEr score...\n"
     ]
    },
    {
     "name": "stderr",
     "output_type": "stream",
     "text": [
      "Processing files:  57%|███████████████████████████████                       | 600/1044 [25:49<19:04,  2.58s/it]"
     ]
    },
    {
     "name": "stdout",
     "output_type": "stream",
     "text": [
      "Tokenizing...\n"
     ]
    },
    {
     "name": "stderr",
     "output_type": "stream",
     "text": [
      "PTBTokenizer tokenized 61766 tokens at 345047.62 tokens per second.\n",
      "PTBTokenizer tokenized 8482 tokens at 83234.23 tokens per second.\n"
     ]
    },
    {
     "name": "stdout",
     "output_type": "stream",
     "text": [
      "Computing scores...\n",
      "Computing METEOR score...\n",
      "Computing CIDEr score...\n"
     ]
    },
    {
     "name": "stderr",
     "output_type": "stream",
     "text": [
      "Processing files:  58%|███████████████████████████████                       | 601/1044 [25:52<18:45,  2.54s/it]"
     ]
    },
    {
     "name": "stdout",
     "output_type": "stream",
     "text": [
      "Tokenizing...\n"
     ]
    },
    {
     "name": "stderr",
     "output_type": "stream",
     "text": [
      "PTBTokenizer tokenized 61766 tokens at 337603.24 tokens per second.\n",
      "PTBTokenizer tokenized 9241 tokens at 90267.25 tokens per second.\n"
     ]
    },
    {
     "name": "stdout",
     "output_type": "stream",
     "text": [
      "Computing scores...\n",
      "Computing METEOR score...\n",
      "Computing CIDEr score...\n"
     ]
    },
    {
     "name": "stderr",
     "output_type": "stream",
     "text": [
      "Processing files:  58%|███████████████████████████████▏                      | 602/1044 [25:54<18:45,  2.55s/it]"
     ]
    },
    {
     "name": "stdout",
     "output_type": "stream",
     "text": [
      "Tokenizing...\n"
     ]
    },
    {
     "name": "stderr",
     "output_type": "stream",
     "text": [
      "PTBTokenizer tokenized 61766 tokens at 343645.45 tokens per second.\n",
      "PTBTokenizer tokenized 9242 tokens at 86060.36 tokens per second.\n"
     ]
    },
    {
     "name": "stdout",
     "output_type": "stream",
     "text": [
      "Computing scores...\n",
      "Computing METEOR score...\n",
      "Computing CIDEr score...\n"
     ]
    },
    {
     "name": "stderr",
     "output_type": "stream",
     "text": [
      "Processing files:  58%|███████████████████████████████▏                      | 603/1044 [25:57<18:19,  2.49s/it]"
     ]
    },
    {
     "name": "stdout",
     "output_type": "stream",
     "text": [
      "Tokenizing...\n"
     ]
    },
    {
     "name": "stderr",
     "output_type": "stream",
     "text": [
      "PTBTokenizer tokenized 61766 tokens at 337522.62 tokens per second.\n",
      "PTBTokenizer tokenized 9166 tokens at 87773.33 tokens per second.\n"
     ]
    },
    {
     "name": "stdout",
     "output_type": "stream",
     "text": [
      "Computing scores...\n",
      "Computing METEOR score...\n",
      "Computing CIDEr score...\n"
     ]
    },
    {
     "name": "stderr",
     "output_type": "stream",
     "text": [
      "Processing files:  58%|███████████████████████████████▏                      | 604/1044 [25:59<18:12,  2.48s/it]"
     ]
    },
    {
     "name": "stdout",
     "output_type": "stream",
     "text": [
      "Tokenizing...\n"
     ]
    },
    {
     "name": "stderr",
     "output_type": "stream",
     "text": [
      "PTBTokenizer tokenized 61766 tokens at 325919.23 tokens per second.\n",
      "PTBTokenizer tokenized 9171 tokens at 89774.34 tokens per second.\n"
     ]
    },
    {
     "name": "stdout",
     "output_type": "stream",
     "text": [
      "Computing scores...\n",
      "Computing METEOR score...\n",
      "Computing CIDEr score...\n"
     ]
    },
    {
     "name": "stderr",
     "output_type": "stream",
     "text": [
      "Processing files:  58%|███████████████████████████████▎                      | 605/1044 [26:02<18:21,  2.51s/it]"
     ]
    },
    {
     "name": "stdout",
     "output_type": "stream",
     "text": [
      "Tokenizing...\n"
     ]
    },
    {
     "name": "stderr",
     "output_type": "stream",
     "text": [
      "PTBTokenizer tokenized 61766 tokens at 339281.53 tokens per second.\n",
      "PTBTokenizer tokenized 9242 tokens at 94597.84 tokens per second.\n"
     ]
    },
    {
     "name": "stdout",
     "output_type": "stream",
     "text": [
      "Computing scores...\n",
      "Computing METEOR score...\n",
      "Computing CIDEr score...\n"
     ]
    },
    {
     "name": "stderr",
     "output_type": "stream",
     "text": [
      "Processing files:  58%|███████████████████████████████▎                      | 606/1044 [26:04<18:11,  2.49s/it]"
     ]
    },
    {
     "name": "stdout",
     "output_type": "stream",
     "text": [
      "Tokenizing...\n"
     ]
    },
    {
     "name": "stderr",
     "output_type": "stream",
     "text": [
      "PTBTokenizer tokenized 61766 tokens at 329980.65 tokens per second.\n",
      "PTBTokenizer tokenized 9151 tokens at 90269.05 tokens per second.\n"
     ]
    },
    {
     "name": "stdout",
     "output_type": "stream",
     "text": [
      "Computing scores...\n",
      "Computing METEOR score...\n",
      "Computing CIDEr score...\n"
     ]
    },
    {
     "name": "stderr",
     "output_type": "stream",
     "text": [
      "Processing files:  58%|███████████████████████████████▍                      | 607/1044 [26:06<18:04,  2.48s/it]"
     ]
    },
    {
     "name": "stdout",
     "output_type": "stream",
     "text": [
      "Tokenizing...\n"
     ]
    },
    {
     "name": "stderr",
     "output_type": "stream",
     "text": [
      "PTBTokenizer tokenized 61766 tokens at 339097.85 tokens per second.\n",
      "PTBTokenizer tokenized 9233 tokens at 91013.98 tokens per second.\n"
     ]
    },
    {
     "name": "stdout",
     "output_type": "stream",
     "text": [
      "Computing scores...\n",
      "Computing METEOR score...\n",
      "Computing CIDEr score...\n"
     ]
    },
    {
     "name": "stderr",
     "output_type": "stream",
     "text": [
      "Processing files:  58%|███████████████████████████████▍                      | 608/1044 [26:09<17:38,  2.43s/it]"
     ]
    },
    {
     "name": "stdout",
     "output_type": "stream",
     "text": [
      "Tokenizing...\n"
     ]
    },
    {
     "name": "stderr",
     "output_type": "stream",
     "text": [
      "PTBTokenizer tokenized 61766 tokens at 334942.73 tokens per second.\n",
      "Jul 19, 2024 4:46:33 PM edu.stanford.nlp.process.PTBLexer next\n",
      "WARNING: Untokenizable: � (U+FFFD, decimal: 65533)\n",
      "PTBTokenizer tokenized 8505 tokens at 52061.37 tokens per second.\n"
     ]
    },
    {
     "name": "stdout",
     "output_type": "stream",
     "text": [
      "Computing scores...\n",
      "Computing METEOR score...\n",
      "Computing CIDEr score...\n"
     ]
    },
    {
     "name": "stderr",
     "output_type": "stream",
     "text": [
      "Processing files:  58%|███████████████████████████████▌                      | 609/1044 [26:11<17:13,  2.38s/it]"
     ]
    },
    {
     "name": "stdout",
     "output_type": "stream",
     "text": [
      "Tokenizing...\n"
     ]
    },
    {
     "name": "stderr",
     "output_type": "stream",
     "text": [
      "PTBTokenizer tokenized 61766 tokens at 345235.02 tokens per second.\n",
      "PTBTokenizer tokenized 9166 tokens at 89921.50 tokens per second.\n"
     ]
    },
    {
     "name": "stdout",
     "output_type": "stream",
     "text": [
      "Computing scores...\n",
      "Computing METEOR score...\n",
      "Computing CIDEr score...\n"
     ]
    },
    {
     "name": "stderr",
     "output_type": "stream",
     "text": [
      "Processing files:  58%|███████████████████████████████▌                      | 610/1044 [26:14<17:31,  2.42s/it]"
     ]
    },
    {
     "name": "stdout",
     "output_type": "stream",
     "text": [
      "Tokenizing...\n"
     ]
    },
    {
     "name": "stderr",
     "output_type": "stream",
     "text": [
      "PTBTokenizer tokenized 61766 tokens at 341397.82 tokens per second.\n",
      "PTBTokenizer tokenized 9242 tokens at 90119.05 tokens per second.\n"
     ]
    },
    {
     "name": "stdout",
     "output_type": "stream",
     "text": [
      "Computing scores...\n",
      "Computing METEOR score...\n",
      "Computing CIDEr score...\n"
     ]
    },
    {
     "name": "stderr",
     "output_type": "stream",
     "text": [
      "Processing files:  59%|███████████████████████████████▌                      | 611/1044 [26:16<17:46,  2.46s/it]"
     ]
    },
    {
     "name": "stdout",
     "output_type": "stream",
     "text": [
      "Tokenizing...\n"
     ]
    },
    {
     "name": "stderr",
     "output_type": "stream",
     "text": [
      "PTBTokenizer tokenized 61766 tokens at 349579.08 tokens per second.\n",
      "PTBTokenizer tokenized 9241 tokens at 92232.19 tokens per second.\n"
     ]
    },
    {
     "name": "stdout",
     "output_type": "stream",
     "text": [
      "Computing scores...\n",
      "Computing METEOR score...\n",
      "Computing CIDEr score...\n"
     ]
    },
    {
     "name": "stderr",
     "output_type": "stream",
     "text": [
      "Processing files:  59%|███████████████████████████████▋                      | 612/1044 [26:19<17:32,  2.44s/it]"
     ]
    },
    {
     "name": "stdout",
     "output_type": "stream",
     "text": [
      "Tokenizing...\n"
     ]
    },
    {
     "name": "stderr",
     "output_type": "stream",
     "text": [
      "PTBTokenizer tokenized 61766 tokens at 348350.59 tokens per second.\n",
      "PTBTokenizer tokenized 9233 tokens at 89079.27 tokens per second.\n"
     ]
    },
    {
     "name": "stdout",
     "output_type": "stream",
     "text": [
      "Computing scores...\n",
      "Computing METEOR score...\n",
      "Computing CIDEr score...\n"
     ]
    },
    {
     "name": "stderr",
     "output_type": "stream",
     "text": [
      "Processing files:  59%|███████████████████████████████▋                      | 613/1044 [26:21<17:39,  2.46s/it]"
     ]
    },
    {
     "name": "stdout",
     "output_type": "stream",
     "text": [
      "Tokenizing...\n"
     ]
    },
    {
     "name": "stderr",
     "output_type": "stream",
     "text": [
      "PTBTokenizer tokenized 61766 tokens at 341297.55 tokens per second.\n",
      "PTBTokenizer tokenized 9263 tokens at 92044.62 tokens per second.\n"
     ]
    },
    {
     "name": "stdout",
     "output_type": "stream",
     "text": [
      "Computing scores...\n",
      "Computing METEOR score...\n",
      "Computing CIDEr score...\n"
     ]
    },
    {
     "name": "stderr",
     "output_type": "stream",
     "text": [
      "Processing files:  59%|███████████████████████████████▊                      | 614/1044 [26:24<17:52,  2.49s/it]"
     ]
    },
    {
     "name": "stdout",
     "output_type": "stream",
     "text": [
      "Tokenizing...\n"
     ]
    },
    {
     "name": "stderr",
     "output_type": "stream",
     "text": [
      "PTBTokenizer tokenized 61766 tokens at 362042.50 tokens per second.\n",
      "PTBTokenizer tokenized 9206 tokens at 90637.51 tokens per second.\n"
     ]
    },
    {
     "name": "stdout",
     "output_type": "stream",
     "text": [
      "Computing scores...\n",
      "Computing METEOR score...\n",
      "Computing CIDEr score...\n"
     ]
    },
    {
     "name": "stderr",
     "output_type": "stream",
     "text": [
      "Processing files:  59%|███████████████████████████████▊                      | 615/1044 [26:26<17:46,  2.49s/it]"
     ]
    },
    {
     "name": "stdout",
     "output_type": "stream",
     "text": [
      "Tokenizing...\n"
     ]
    },
    {
     "name": "stderr",
     "output_type": "stream",
     "text": [
      "PTBTokenizer tokenized 61766 tokens at 337936.81 tokens per second.\n",
      "PTBTokenizer tokenized 6805 tokens at 72785.84 tokens per second.\n"
     ]
    },
    {
     "name": "stdout",
     "output_type": "stream",
     "text": [
      "Computing scores...\n",
      "Computing METEOR score...\n",
      "Computing CIDEr score...\n"
     ]
    },
    {
     "name": "stderr",
     "output_type": "stream",
     "text": [
      "Processing files:  59%|███████████████████████████████▊                      | 616/1044 [26:28<17:22,  2.44s/it]"
     ]
    },
    {
     "name": "stdout",
     "output_type": "stream",
     "text": [
      "Tokenizing...\n"
     ]
    },
    {
     "name": "stderr",
     "output_type": "stream",
     "text": [
      "PTBTokenizer tokenized 61766 tokens at 341300.02 tokens per second.\n",
      "PTBTokenizer tokenized 9242 tokens at 90226.90 tokens per second.\n"
     ]
    },
    {
     "name": "stdout",
     "output_type": "stream",
     "text": [
      "Computing scores...\n",
      "Computing METEOR score...\n",
      "Computing CIDEr score...\n"
     ]
    },
    {
     "name": "stderr",
     "output_type": "stream",
     "text": [
      "Processing files:  59%|███████████████████████████████▉                      | 617/1044 [26:31<17:05,  2.40s/it]"
     ]
    },
    {
     "name": "stdout",
     "output_type": "stream",
     "text": [
      "Tokenizing...\n"
     ]
    },
    {
     "name": "stderr",
     "output_type": "stream",
     "text": [
      "PTBTokenizer tokenized 61766 tokens at 357321.91 tokens per second.\n",
      "PTBTokenizer tokenized 9242 tokens at 82776.26 tokens per second.\n"
     ]
    },
    {
     "name": "stdout",
     "output_type": "stream",
     "text": [
      "Computing scores...\n",
      "Computing METEOR score...\n",
      "Computing CIDEr score...\n"
     ]
    },
    {
     "name": "stderr",
     "output_type": "stream",
     "text": [
      "Processing files:  59%|███████████████████████████████▉                      | 618/1044 [26:33<17:13,  2.43s/it]"
     ]
    },
    {
     "name": "stdout",
     "output_type": "stream",
     "text": [
      "Tokenizing...\n"
     ]
    },
    {
     "name": "stderr",
     "output_type": "stream",
     "text": [
      "PTBTokenizer tokenized 61766 tokens at 357356.57 tokens per second.\n",
      "PTBTokenizer tokenized 9239 tokens at 91155.86 tokens per second.\n"
     ]
    },
    {
     "name": "stdout",
     "output_type": "stream",
     "text": [
      "Computing scores...\n",
      "Computing METEOR score...\n",
      "Computing CIDEr score...\n"
     ]
    },
    {
     "name": "stderr",
     "output_type": "stream",
     "text": [
      "Processing files:  59%|████████████████████████████████                      | 619/1044 [26:36<17:09,  2.42s/it]"
     ]
    },
    {
     "name": "stdout",
     "output_type": "stream",
     "text": [
      "Tokenizing...\n"
     ]
    },
    {
     "name": "stderr",
     "output_type": "stream",
     "text": [
      "PTBTokenizer tokenized 61766 tokens at 338681.60 tokens per second.\n",
      "PTBTokenizer tokenized 6805 tokens at 72731.75 tokens per second.\n"
     ]
    },
    {
     "name": "stdout",
     "output_type": "stream",
     "text": [
      "Computing scores...\n",
      "Computing METEOR score...\n",
      "Computing CIDEr score...\n"
     ]
    },
    {
     "name": "stderr",
     "output_type": "stream",
     "text": [
      "Processing files:  59%|████████████████████████████████                      | 620/1044 [26:38<16:50,  2.38s/it]"
     ]
    },
    {
     "name": "stdout",
     "output_type": "stream",
     "text": [
      "Tokenizing...\n"
     ]
    },
    {
     "name": "stderr",
     "output_type": "stream",
     "text": [
      "PTBTokenizer tokenized 61766 tokens at 341664.09 tokens per second.\n",
      "PTBTokenizer tokenized 9242 tokens at 88296.28 tokens per second.\n"
     ]
    },
    {
     "name": "stdout",
     "output_type": "stream",
     "text": [
      "Computing scores...\n",
      "Computing METEOR score...\n",
      "Computing CIDEr score...\n"
     ]
    },
    {
     "name": "stderr",
     "output_type": "stream",
     "text": [
      "Processing files:  59%|████████████████████████████████                      | 621/1044 [26:40<17:04,  2.42s/it]"
     ]
    },
    {
     "name": "stdout",
     "output_type": "stream",
     "text": [
      "Tokenizing...\n"
     ]
    },
    {
     "name": "stderr",
     "output_type": "stream",
     "text": [
      "PTBTokenizer tokenized 61766 tokens at 327515.98 tokens per second.\n",
      "PTBTokenizer tokenized 9242 tokens at 94820.28 tokens per second.\n"
     ]
    },
    {
     "name": "stdout",
     "output_type": "stream",
     "text": [
      "Computing scores...\n",
      "Computing METEOR score...\n",
      "Computing CIDEr score...\n"
     ]
    },
    {
     "name": "stderr",
     "output_type": "stream",
     "text": [
      "Processing files:  60%|████████████████████████████████▏                     | 622/1044 [26:43<17:14,  2.45s/it]"
     ]
    },
    {
     "name": "stdout",
     "output_type": "stream",
     "text": [
      "Tokenizing...\n"
     ]
    },
    {
     "name": "stderr",
     "output_type": "stream",
     "text": [
      "PTBTokenizer tokenized 61766 tokens at 336222.63 tokens per second.\n",
      "PTBTokenizer tokenized 9402 tokens at 88403.19 tokens per second.\n"
     ]
    },
    {
     "name": "stdout",
     "output_type": "stream",
     "text": [
      "Computing scores...\n",
      "Computing METEOR score...\n",
      "Computing CIDEr score...\n"
     ]
    },
    {
     "name": "stderr",
     "output_type": "stream",
     "text": [
      "Processing files:  60%|████████████████████████████████▏                     | 623/1044 [26:45<17:18,  2.47s/it]"
     ]
    },
    {
     "name": "stdout",
     "output_type": "stream",
     "text": [
      "Tokenizing...\n"
     ]
    },
    {
     "name": "stderr",
     "output_type": "stream",
     "text": [
      "PTBTokenizer tokenized 61766 tokens at 351795.67 tokens per second.\n",
      "PTBTokenizer tokenized 9236 tokens at 91834.69 tokens per second.\n"
     ]
    },
    {
     "name": "stdout",
     "output_type": "stream",
     "text": [
      "Computing scores...\n",
      "Computing METEOR score...\n",
      "Computing CIDEr score...\n"
     ]
    },
    {
     "name": "stderr",
     "output_type": "stream",
     "text": [
      "Processing files:  60%|████████████████████████████████▎                     | 624/1044 [26:48<17:24,  2.49s/it]"
     ]
    },
    {
     "name": "stdout",
     "output_type": "stream",
     "text": [
      "Tokenizing...\n"
     ]
    },
    {
     "name": "stderr",
     "output_type": "stream",
     "text": [
      "PTBTokenizer tokenized 61766 tokens at 347404.68 tokens per second.\n",
      "PTBTokenizer tokenized 8523 tokens at 84471.42 tokens per second.\n"
     ]
    },
    {
     "name": "stdout",
     "output_type": "stream",
     "text": [
      "Computing scores...\n",
      "Computing METEOR score...\n",
      "Computing CIDEr score...\n"
     ]
    },
    {
     "name": "stderr",
     "output_type": "stream",
     "text": [
      "Processing files:  60%|████████████████████████████████▎                     | 625/1044 [26:50<17:01,  2.44s/it]"
     ]
    },
    {
     "name": "stdout",
     "output_type": "stream",
     "text": [
      "Tokenizing...\n"
     ]
    },
    {
     "name": "stderr",
     "output_type": "stream",
     "text": [
      "PTBTokenizer tokenized 61766 tokens at 337511.79 tokens per second.\n",
      "PTBTokenizer tokenized 12053 tokens at 109468.32 tokens per second.\n"
     ]
    },
    {
     "name": "stdout",
     "output_type": "stream",
     "text": [
      "Computing scores...\n",
      "Computing METEOR score...\n",
      "Computing CIDEr score...\n"
     ]
    },
    {
     "name": "stderr",
     "output_type": "stream",
     "text": [
      "Processing files:  60%|████████████████████████████████▍                     | 626/1044 [26:53<17:04,  2.45s/it]"
     ]
    },
    {
     "name": "stdout",
     "output_type": "stream",
     "text": [
      "Tokenizing...\n"
     ]
    },
    {
     "name": "stderr",
     "output_type": "stream",
     "text": [
      "PTBTokenizer tokenized 61766 tokens at 337353.30 tokens per second.\n",
      "PTBTokenizer tokenized 7968 tokens at 81329.40 tokens per second.\n"
     ]
    },
    {
     "name": "stdout",
     "output_type": "stream",
     "text": [
      "Computing scores...\n",
      "Computing METEOR score...\n",
      "Computing CIDEr score...\n"
     ]
    },
    {
     "name": "stderr",
     "output_type": "stream",
     "text": [
      "Processing files:  60%|████████████████████████████████▍                     | 627/1044 [26:55<17:05,  2.46s/it]"
     ]
    },
    {
     "name": "stdout",
     "output_type": "stream",
     "text": [
      "Tokenizing...\n"
     ]
    },
    {
     "name": "stderr",
     "output_type": "stream",
     "text": [
      "PTBTokenizer tokenized 61766 tokens at 333614.49 tokens per second.\n",
      "PTBTokenizer tokenized 9242 tokens at 85347.03 tokens per second.\n"
     ]
    },
    {
     "name": "stdout",
     "output_type": "stream",
     "text": [
      "Computing scores...\n",
      "Computing METEOR score...\n",
      "Computing CIDEr score...\n"
     ]
    },
    {
     "name": "stderr",
     "output_type": "stream",
     "text": [
      "Processing files:  60%|████████████████████████████████▍                     | 628/1044 [26:58<17:02,  2.46s/it]"
     ]
    },
    {
     "name": "stdout",
     "output_type": "stream",
     "text": [
      "Tokenizing...\n"
     ]
    },
    {
     "name": "stderr",
     "output_type": "stream",
     "text": [
      "PTBTokenizer tokenized 61766 tokens at 321731.60 tokens per second.\n",
      "PTBTokenizer tokenized 7746 tokens at 78337.34 tokens per second.\n"
     ]
    },
    {
     "name": "stdout",
     "output_type": "stream",
     "text": [
      "Computing scores...\n",
      "Computing METEOR score...\n",
      "Computing CIDEr score...\n"
     ]
    },
    {
     "name": "stderr",
     "output_type": "stream",
     "text": [
      "Processing files:  60%|████████████████████████████████▌                     | 629/1044 [27:00<16:54,  2.45s/it]"
     ]
    },
    {
     "name": "stdout",
     "output_type": "stream",
     "text": [
      "Tokenizing...\n"
     ]
    },
    {
     "name": "stderr",
     "output_type": "stream",
     "text": [
      "PTBTokenizer tokenized 61766 tokens at 365057.12 tokens per second.\n",
      "PTBTokenizer tokenized 9242 tokens at 90157.67 tokens per second.\n"
     ]
    },
    {
     "name": "stdout",
     "output_type": "stream",
     "text": [
      "Computing scores...\n",
      "Computing METEOR score...\n",
      "Computing CIDEr score...\n"
     ]
    },
    {
     "name": "stderr",
     "output_type": "stream",
     "text": [
      "Processing files:  60%|████████████████████████████████▌                     | 630/1044 [27:02<16:45,  2.43s/it]"
     ]
    },
    {
     "name": "stdout",
     "output_type": "stream",
     "text": [
      "Tokenizing...\n"
     ]
    },
    {
     "name": "stderr",
     "output_type": "stream",
     "text": [
      "PTBTokenizer tokenized 61766 tokens at 344696.51 tokens per second.\n",
      "PTBTokenizer tokenized 9239 tokens at 90712.86 tokens per second.\n"
     ]
    },
    {
     "name": "stdout",
     "output_type": "stream",
     "text": [
      "Computing scores...\n",
      "Computing METEOR score...\n",
      "Computing CIDEr score...\n"
     ]
    },
    {
     "name": "stderr",
     "output_type": "stream",
     "text": [
      "Processing files:  60%|████████████████████████████████▋                     | 631/1044 [27:05<16:49,  2.45s/it]"
     ]
    },
    {
     "name": "stdout",
     "output_type": "stream",
     "text": [
      "Tokenizing...\n"
     ]
    },
    {
     "name": "stderr",
     "output_type": "stream",
     "text": [
      "PTBTokenizer tokenized 61766 tokens at 339009.72 tokens per second.\n",
      "PTBTokenizer tokenized 9242 tokens at 84435.81 tokens per second.\n"
     ]
    },
    {
     "name": "stdout",
     "output_type": "stream",
     "text": [
      "Computing scores...\n",
      "Computing METEOR score...\n",
      "Computing CIDEr score...\n"
     ]
    },
    {
     "name": "stderr",
     "output_type": "stream",
     "text": [
      "Processing files:  61%|████████████████████████████████▋                     | 632/1044 [27:07<16:56,  2.47s/it]"
     ]
    },
    {
     "name": "stdout",
     "output_type": "stream",
     "text": [
      "Tokenizing...\n"
     ]
    },
    {
     "name": "stderr",
     "output_type": "stream",
     "text": [
      "PTBTokenizer tokenized 61766 tokens at 319119.46 tokens per second.\n",
      "PTBTokenizer tokenized 11691 tokens at 108316.91 tokens per second.\n"
     ]
    },
    {
     "name": "stdout",
     "output_type": "stream",
     "text": [
      "Computing scores...\n",
      "Computing METEOR score...\n",
      "Computing CIDEr score...\n"
     ]
    },
    {
     "name": "stderr",
     "output_type": "stream",
     "text": [
      "Processing files:  61%|████████████████████████████████▋                     | 633/1044 [27:10<17:19,  2.53s/it]"
     ]
    },
    {
     "name": "stdout",
     "output_type": "stream",
     "text": [
      "Tokenizing...\n"
     ]
    },
    {
     "name": "stderr",
     "output_type": "stream",
     "text": [
      "PTBTokenizer tokenized 61766 tokens at 338127.65 tokens per second.\n",
      "PTBTokenizer tokenized 9242 tokens at 88379.78 tokens per second.\n"
     ]
    },
    {
     "name": "stdout",
     "output_type": "stream",
     "text": [
      "Computing scores...\n",
      "Computing METEOR score...\n",
      "Computing CIDEr score...\n"
     ]
    },
    {
     "name": "stderr",
     "output_type": "stream",
     "text": [
      "Processing files:  61%|████████████████████████████████▊                     | 634/1044 [27:13<17:11,  2.52s/it]"
     ]
    },
    {
     "name": "stdout",
     "output_type": "stream",
     "text": [
      "Tokenizing...\n"
     ]
    },
    {
     "name": "stderr",
     "output_type": "stream",
     "text": [
      "PTBTokenizer tokenized 61766 tokens at 331937.48 tokens per second.\n",
      "Jul 19, 2024 4:47:37 PM edu.stanford.nlp.process.PTBLexer next\n",
      "WARNING: Untokenizable: � (U+FFFD, decimal: 65533)\n",
      "PTBTokenizer tokenized 12505 tokens at 69486.91 tokens per second.\n"
     ]
    },
    {
     "name": "stdout",
     "output_type": "stream",
     "text": [
      "Computing scores...\n",
      "Computing METEOR score...\n",
      "Computing CIDEr score...\n"
     ]
    },
    {
     "name": "stderr",
     "output_type": "stream",
     "text": [
      "Processing files:  61%|████████████████████████████████▊                     | 635/1044 [27:15<17:06,  2.51s/it]"
     ]
    },
    {
     "name": "stdout",
     "output_type": "stream",
     "text": [
      "Tokenizing...\n"
     ]
    },
    {
     "name": "stderr",
     "output_type": "stream",
     "text": [
      "PTBTokenizer tokenized 61766 tokens at 346375.60 tokens per second.\n",
      "PTBTokenizer tokenized 7720 tokens at 77408.96 tokens per second.\n"
     ]
    },
    {
     "name": "stdout",
     "output_type": "stream",
     "text": [
      "Computing scores...\n",
      "Computing METEOR score...\n",
      "Computing CIDEr score...\n"
     ]
    },
    {
     "name": "stderr",
     "output_type": "stream",
     "text": [
      "Processing files:  61%|████████████████████████████████▉                     | 636/1044 [27:18<16:44,  2.46s/it]"
     ]
    },
    {
     "name": "stdout",
     "output_type": "stream",
     "text": [
      "Tokenizing...\n"
     ]
    },
    {
     "name": "stderr",
     "output_type": "stream",
     "text": [
      "PTBTokenizer tokenized 61766 tokens at 339636.51 tokens per second.\n",
      "PTBTokenizer tokenized 9235 tokens at 91485.30 tokens per second.\n"
     ]
    },
    {
     "name": "stdout",
     "output_type": "stream",
     "text": [
      "Computing scores...\n",
      "Computing METEOR score...\n",
      "Computing CIDEr score...\n"
     ]
    },
    {
     "name": "stderr",
     "output_type": "stream",
     "text": [
      "Processing files:  61%|████████████████████████████████▉                     | 637/1044 [27:20<16:41,  2.46s/it]"
     ]
    },
    {
     "name": "stdout",
     "output_type": "stream",
     "text": [
      "Tokenizing...\n"
     ]
    },
    {
     "name": "stderr",
     "output_type": "stream",
     "text": [
      "PTBTokenizer tokenized 61766 tokens at 347239.03 tokens per second.\n",
      "PTBTokenizer tokenized 7104 tokens at 75750.21 tokens per second.\n"
     ]
    },
    {
     "name": "stdout",
     "output_type": "stream",
     "text": [
      "Computing scores...\n",
      "Computing METEOR score...\n",
      "Computing CIDEr score...\n"
     ]
    },
    {
     "name": "stderr",
     "output_type": "stream",
     "text": [
      "Processing files:  61%|█████████████████████████████████                     | 638/1044 [27:22<16:19,  2.41s/it]"
     ]
    },
    {
     "name": "stdout",
     "output_type": "stream",
     "text": [
      "Tokenizing...\n"
     ]
    },
    {
     "name": "stderr",
     "output_type": "stream",
     "text": [
      "PTBTokenizer tokenized 61766 tokens at 352565.93 tokens per second.\n",
      "PTBTokenizer tokenized 9242 tokens at 93071.57 tokens per second.\n"
     ]
    },
    {
     "name": "stdout",
     "output_type": "stream",
     "text": [
      "Computing scores...\n",
      "Computing METEOR score...\n",
      "Computing CIDEr score...\n"
     ]
    },
    {
     "name": "stderr",
     "output_type": "stream",
     "text": [
      "Processing files:  61%|█████████████████████████████████                     | 639/1044 [27:25<16:32,  2.45s/it]"
     ]
    },
    {
     "name": "stdout",
     "output_type": "stream",
     "text": [
      "Tokenizing...\n"
     ]
    },
    {
     "name": "stderr",
     "output_type": "stream",
     "text": [
      "PTBTokenizer tokenized 61766 tokens at 334490.91 tokens per second.\n",
      "PTBTokenizer tokenized 8086 tokens at 83238.15 tokens per second.\n"
     ]
    },
    {
     "name": "stdout",
     "output_type": "stream",
     "text": [
      "Computing scores...\n",
      "Computing METEOR score...\n",
      "Computing CIDEr score...\n"
     ]
    },
    {
     "name": "stderr",
     "output_type": "stream",
     "text": [
      "Processing files:  61%|█████████████████████████████████                     | 640/1044 [27:27<16:19,  2.42s/it]"
     ]
    },
    {
     "name": "stdout",
     "output_type": "stream",
     "text": [
      "Tokenizing...\n"
     ]
    },
    {
     "name": "stderr",
     "output_type": "stream",
     "text": [
      "PTBTokenizer tokenized 61766 tokens at 359885.42 tokens per second.\n",
      "PTBTokenizer tokenized 9098 tokens at 89172.75 tokens per second.\n"
     ]
    },
    {
     "name": "stdout",
     "output_type": "stream",
     "text": [
      "Computing scores...\n",
      "Computing METEOR score...\n",
      "Computing CIDEr score...\n"
     ]
    },
    {
     "name": "stderr",
     "output_type": "stream",
     "text": [
      "Processing files:  61%|█████████████████████████████████▏                    | 641/1044 [27:30<16:18,  2.43s/it]"
     ]
    },
    {
     "name": "stdout",
     "output_type": "stream",
     "text": [
      "Tokenizing...\n"
     ]
    },
    {
     "name": "stderr",
     "output_type": "stream",
     "text": [
      "PTBTokenizer tokenized 61766 tokens at 358227.53 tokens per second.\n",
      "PTBTokenizer tokenized 9242 tokens at 89391.08 tokens per second.\n"
     ]
    },
    {
     "name": "stdout",
     "output_type": "stream",
     "text": [
      "Computing scores...\n",
      "Computing METEOR score...\n",
      "Computing CIDEr score...\n"
     ]
    },
    {
     "name": "stderr",
     "output_type": "stream",
     "text": [
      "Processing files:  61%|█████████████████████████████████▏                    | 642/1044 [27:32<16:17,  2.43s/it]"
     ]
    },
    {
     "name": "stdout",
     "output_type": "stream",
     "text": [
      "Tokenizing...\n"
     ]
    },
    {
     "name": "stderr",
     "output_type": "stream",
     "text": [
      "PTBTokenizer tokenized 61766 tokens at 342609.41 tokens per second.\n",
      "PTBTokenizer tokenized 9086 tokens at 91356.47 tokens per second.\n"
     ]
    },
    {
     "name": "stdout",
     "output_type": "stream",
     "text": [
      "Computing scores...\n",
      "Computing METEOR score...\n",
      "Computing CIDEr score...\n"
     ]
    },
    {
     "name": "stderr",
     "output_type": "stream",
     "text": [
      "Processing files:  62%|█████████████████████████████████▎                    | 643/1044 [27:34<16:17,  2.44s/it]"
     ]
    },
    {
     "name": "stdout",
     "output_type": "stream",
     "text": [
      "Tokenizing...\n"
     ]
    },
    {
     "name": "stderr",
     "output_type": "stream",
     "text": [
      "PTBTokenizer tokenized 61766 tokens at 317361.94 tokens per second.\n",
      "PTBTokenizer tokenized 7781 tokens at 81281.86 tokens per second.\n"
     ]
    },
    {
     "name": "stdout",
     "output_type": "stream",
     "text": [
      "Computing scores...\n",
      "Computing METEOR score...\n",
      "Computing CIDEr score...\n"
     ]
    },
    {
     "name": "stderr",
     "output_type": "stream",
     "text": [
      "Processing files:  62%|█████████████████████████████████▎                    | 644/1044 [27:37<16:20,  2.45s/it]"
     ]
    },
    {
     "name": "stdout",
     "output_type": "stream",
     "text": [
      "Tokenizing...\n"
     ]
    },
    {
     "name": "stderr",
     "output_type": "stream",
     "text": [
      "PTBTokenizer tokenized 61766 tokens at 328244.70 tokens per second.\n",
      "PTBTokenizer tokenized 9242 tokens at 91728.26 tokens per second.\n"
     ]
    },
    {
     "name": "stdout",
     "output_type": "stream",
     "text": [
      "Computing scores...\n",
      "Computing METEOR score...\n",
      "Computing CIDEr score...\n"
     ]
    },
    {
     "name": "stderr",
     "output_type": "stream",
     "text": [
      "Processing files:  62%|█████████████████████████████████▎                    | 645/1044 [27:39<16:23,  2.47s/it]"
     ]
    },
    {
     "name": "stdout",
     "output_type": "stream",
     "text": [
      "Tokenizing...\n"
     ]
    },
    {
     "name": "stderr",
     "output_type": "stream",
     "text": [
      "PTBTokenizer tokenized 61766 tokens at 344200.27 tokens per second.\n",
      "PTBTokenizer tokenized 8053 tokens at 83465.62 tokens per second.\n"
     ]
    },
    {
     "name": "stdout",
     "output_type": "stream",
     "text": [
      "Computing scores...\n",
      "Computing METEOR score...\n",
      "Computing CIDEr score...\n"
     ]
    },
    {
     "name": "stderr",
     "output_type": "stream",
     "text": [
      "Processing files:  62%|█████████████████████████████████▍                    | 646/1044 [27:42<16:07,  2.43s/it]"
     ]
    },
    {
     "name": "stdout",
     "output_type": "stream",
     "text": [
      "Tokenizing...\n"
     ]
    },
    {
     "name": "stderr",
     "output_type": "stream",
     "text": [
      "PTBTokenizer tokenized 61766 tokens at 342966.18 tokens per second.\n",
      "PTBTokenizer tokenized 9242 tokens at 88793.27 tokens per second.\n"
     ]
    },
    {
     "name": "stdout",
     "output_type": "stream",
     "text": [
      "Computing scores...\n",
      "Computing METEOR score...\n",
      "Computing CIDEr score...\n"
     ]
    },
    {
     "name": "stderr",
     "output_type": "stream",
     "text": [
      "Processing files:  62%|█████████████████████████████████▍                    | 647/1044 [27:44<16:08,  2.44s/it]"
     ]
    },
    {
     "name": "stdout",
     "output_type": "stream",
     "text": [
      "Tokenizing...\n"
     ]
    },
    {
     "name": "stderr",
     "output_type": "stream",
     "text": [
      "PTBTokenizer tokenized 61766 tokens at 345799.90 tokens per second.\n",
      "PTBTokenizer tokenized 7532 tokens at 73535.93 tokens per second.\n"
     ]
    },
    {
     "name": "stdout",
     "output_type": "stream",
     "text": [
      "Computing scores...\n",
      "Computing METEOR score...\n",
      "Computing CIDEr score...\n"
     ]
    },
    {
     "name": "stderr",
     "output_type": "stream",
     "text": [
      "Processing files:  62%|█████████████████████████████████▌                    | 648/1044 [27:47<16:05,  2.44s/it]"
     ]
    },
    {
     "name": "stdout",
     "output_type": "stream",
     "text": [
      "Tokenizing...\n"
     ]
    },
    {
     "name": "stderr",
     "output_type": "stream",
     "text": [
      "PTBTokenizer tokenized 61766 tokens at 331999.31 tokens per second.\n",
      "PTBTokenizer tokenized 9233 tokens at 88322.81 tokens per second.\n"
     ]
    },
    {
     "name": "stdout",
     "output_type": "stream",
     "text": [
      "Computing scores...\n",
      "Computing METEOR score...\n",
      "Computing CIDEr score...\n"
     ]
    },
    {
     "name": "stderr",
     "output_type": "stream",
     "text": [
      "Processing files:  62%|█████████████████████████████████▌                    | 649/1044 [27:49<16:14,  2.47s/it]"
     ]
    },
    {
     "name": "stdout",
     "output_type": "stream",
     "text": [
      "Tokenizing...\n"
     ]
    },
    {
     "name": "stderr",
     "output_type": "stream",
     "text": [
      "PTBTokenizer tokenized 61766 tokens at 327899.74 tokens per second.\n",
      "PTBTokenizer tokenized 7847 tokens at 80979.79 tokens per second.\n"
     ]
    },
    {
     "name": "stdout",
     "output_type": "stream",
     "text": [
      "Computing scores...\n",
      "Computing METEOR score...\n",
      "Computing CIDEr score...\n"
     ]
    },
    {
     "name": "stderr",
     "output_type": "stream",
     "text": [
      "Processing files:  62%|█████████████████████████████████▌                    | 650/1044 [27:52<15:47,  2.41s/it]"
     ]
    },
    {
     "name": "stdout",
     "output_type": "stream",
     "text": [
      "Tokenizing...\n"
     ]
    },
    {
     "name": "stderr",
     "output_type": "stream",
     "text": [
      "PTBTokenizer tokenized 61766 tokens at 330716.07 tokens per second.\n",
      "PTBTokenizer tokenized 6819 tokens at 70291.87 tokens per second.\n"
     ]
    },
    {
     "name": "stdout",
     "output_type": "stream",
     "text": [
      "Computing scores...\n",
      "Computing METEOR score...\n",
      "Computing CIDEr score...\n"
     ]
    },
    {
     "name": "stderr",
     "output_type": "stream",
     "text": [
      "Processing files:  62%|█████████████████████████████████▋                    | 651/1044 [27:54<15:28,  2.36s/it]"
     ]
    },
    {
     "name": "stdout",
     "output_type": "stream",
     "text": [
      "Tokenizing...\n"
     ]
    },
    {
     "name": "stderr",
     "output_type": "stream",
     "text": [
      "PTBTokenizer tokenized 61766 tokens at 332593.10 tokens per second.\n",
      "PTBTokenizer tokenized 8024 tokens at 82725.74 tokens per second.\n"
     ]
    },
    {
     "name": "stdout",
     "output_type": "stream",
     "text": [
      "Computing scores...\n",
      "Computing METEOR score...\n",
      "Computing CIDEr score...\n"
     ]
    },
    {
     "name": "stderr",
     "output_type": "stream",
     "text": [
      "Processing files:  62%|█████████████████████████████████▋                    | 652/1044 [27:56<15:36,  2.39s/it]"
     ]
    },
    {
     "name": "stdout",
     "output_type": "stream",
     "text": [
      "Tokenizing...\n"
     ]
    },
    {
     "name": "stderr",
     "output_type": "stream",
     "text": [
      "PTBTokenizer tokenized 61766 tokens at 345655.97 tokens per second.\n",
      "PTBTokenizer tokenized 10959 tokens at 100337.76 tokens per second.\n"
     ]
    },
    {
     "name": "stdout",
     "output_type": "stream",
     "text": [
      "Computing scores...\n",
      "Computing METEOR score...\n",
      "Computing CIDEr score...\n"
     ]
    },
    {
     "name": "stderr",
     "output_type": "stream",
     "text": [
      "Processing files:  63%|█████████████████████████████████▊                    | 653/1044 [27:59<16:03,  2.46s/it]"
     ]
    },
    {
     "name": "stdout",
     "output_type": "stream",
     "text": [
      "Tokenizing...\n"
     ]
    },
    {
     "name": "stderr",
     "output_type": "stream",
     "text": [
      "PTBTokenizer tokenized 61766 tokens at 328881.16 tokens per second.\n",
      "PTBTokenizer tokenized 9241 tokens at 92797.20 tokens per second.\n"
     ]
    },
    {
     "name": "stdout",
     "output_type": "stream",
     "text": [
      "Computing scores...\n",
      "Computing METEOR score...\n",
      "Computing CIDEr score...\n"
     ]
    },
    {
     "name": "stderr",
     "output_type": "stream",
     "text": [
      "Processing files:  63%|█████████████████████████████████▊                    | 654/1044 [28:01<16:00,  2.46s/it]"
     ]
    },
    {
     "name": "stdout",
     "output_type": "stream",
     "text": [
      "Tokenizing...\n"
     ]
    },
    {
     "name": "stderr",
     "output_type": "stream",
     "text": [
      "PTBTokenizer tokenized 61766 tokens at 292573.80 tokens per second.\n",
      "PTBTokenizer tokenized 9220 tokens at 91558.68 tokens per second.\n"
     ]
    },
    {
     "name": "stdout",
     "output_type": "stream",
     "text": [
      "Computing scores...\n",
      "Computing METEOR score...\n",
      "Computing CIDEr score...\n"
     ]
    },
    {
     "name": "stderr",
     "output_type": "stream",
     "text": [
      "Processing files:  63%|█████████████████████████████████▉                    | 655/1044 [28:04<16:00,  2.47s/it]"
     ]
    },
    {
     "name": "stdout",
     "output_type": "stream",
     "text": [
      "Tokenizing...\n"
     ]
    },
    {
     "name": "stderr",
     "output_type": "stream",
     "text": [
      "PTBTokenizer tokenized 61766 tokens at 341529.51 tokens per second.\n",
      "Jul 19, 2024 4:48:28 PM edu.stanford.nlp.process.PTBLexer next\n",
      "WARNING: Untokenizable: � (U+FFFD, decimal: 65533)\n",
      "PTBTokenizer tokenized 17504 tokens at 115036.56 tokens per second.\n"
     ]
    },
    {
     "name": "stdout",
     "output_type": "stream",
     "text": [
      "Computing scores...\n",
      "Computing METEOR score...\n",
      "Computing CIDEr score...\n"
     ]
    },
    {
     "name": "stderr",
     "output_type": "stream",
     "text": [
      "Processing files:  63%|█████████████████████████████████▉                    | 656/1044 [28:07<16:56,  2.62s/it]"
     ]
    },
    {
     "name": "stdout",
     "output_type": "stream",
     "text": [
      "Tokenizing...\n"
     ]
    },
    {
     "name": "stderr",
     "output_type": "stream",
     "text": [
      "PTBTokenizer tokenized 61766 tokens at 360063.54 tokens per second.\n",
      "PTBTokenizer tokenized 7968 tokens at 74420.27 tokens per second.\n"
     ]
    },
    {
     "name": "stdout",
     "output_type": "stream",
     "text": [
      "Computing scores...\n",
      "Computing METEOR score...\n",
      "Computing CIDEr score...\n"
     ]
    },
    {
     "name": "stderr",
     "output_type": "stream",
     "text": [
      "Processing files:  63%|█████████████████████████████████▉                    | 657/1044 [28:09<16:27,  2.55s/it]"
     ]
    },
    {
     "name": "stdout",
     "output_type": "stream",
     "text": [
      "Tokenizing...\n"
     ]
    },
    {
     "name": "stderr",
     "output_type": "stream",
     "text": [
      "PTBTokenizer tokenized 61766 tokens at 339416.17 tokens per second.\n",
      "PTBTokenizer tokenized 8050 tokens at 81995.67 tokens per second.\n"
     ]
    },
    {
     "name": "stdout",
     "output_type": "stream",
     "text": [
      "Computing scores...\n",
      "Computing METEOR score...\n",
      "Computing CIDEr score...\n"
     ]
    },
    {
     "name": "stderr",
     "output_type": "stream",
     "text": [
      "Processing files:  63%|██████████████████████████████████                    | 658/1044 [28:12<16:06,  2.50s/it]"
     ]
    },
    {
     "name": "stdout",
     "output_type": "stream",
     "text": [
      "Tokenizing...\n"
     ]
    },
    {
     "name": "stderr",
     "output_type": "stream",
     "text": [
      "PTBTokenizer tokenized 61766 tokens at 339058.57 tokens per second.\n",
      "PTBTokenizer tokenized 9159 tokens at 92461.27 tokens per second.\n"
     ]
    },
    {
     "name": "stdout",
     "output_type": "stream",
     "text": [
      "Computing scores...\n",
      "Computing METEOR score...\n",
      "Computing CIDEr score...\n"
     ]
    },
    {
     "name": "stderr",
     "output_type": "stream",
     "text": [
      "Processing files:  63%|██████████████████████████████████                    | 659/1044 [28:14<16:08,  2.52s/it]"
     ]
    },
    {
     "name": "stdout",
     "output_type": "stream",
     "text": [
      "Tokenizing...\n"
     ]
    },
    {
     "name": "stderr",
     "output_type": "stream",
     "text": [
      "PTBTokenizer tokenized 61766 tokens at 337472.48 tokens per second.\n",
      "PTBTokenizer tokenized 9238 tokens at 81145.52 tokens per second.\n"
     ]
    },
    {
     "name": "stdout",
     "output_type": "stream",
     "text": [
      "Computing scores...\n",
      "Computing METEOR score...\n",
      "Computing CIDEr score...\n"
     ]
    },
    {
     "name": "stderr",
     "output_type": "stream",
     "text": [
      "Processing files:  63%|██████████████████████████████████▏                   | 660/1044 [28:17<16:08,  2.52s/it]"
     ]
    },
    {
     "name": "stdout",
     "output_type": "stream",
     "text": [
      "Tokenizing...\n"
     ]
    },
    {
     "name": "stderr",
     "output_type": "stream",
     "text": [
      "PTBTokenizer tokenized 61766 tokens at 347806.05 tokens per second.\n",
      "PTBTokenizer tokenized 9242 tokens at 89825.46 tokens per second.\n"
     ]
    },
    {
     "name": "stdout",
     "output_type": "stream",
     "text": [
      "Computing scores...\n",
      "Computing METEOR score...\n",
      "Computing CIDEr score...\n"
     ]
    },
    {
     "name": "stderr",
     "output_type": "stream",
     "text": [
      "Processing files:  63%|██████████████████████████████████▏                   | 661/1044 [28:19<16:14,  2.54s/it]"
     ]
    },
    {
     "name": "stdout",
     "output_type": "stream",
     "text": [
      "Tokenizing...\n"
     ]
    },
    {
     "name": "stderr",
     "output_type": "stream",
     "text": [
      "PTBTokenizer tokenized 61766 tokens at 350697.08 tokens per second.\n",
      "PTBTokenizer tokenized 9153 tokens at 83470.97 tokens per second.\n"
     ]
    },
    {
     "name": "stdout",
     "output_type": "stream",
     "text": [
      "Computing scores...\n",
      "Computing METEOR score...\n",
      "Computing CIDEr score...\n"
     ]
    },
    {
     "name": "stderr",
     "output_type": "stream",
     "text": [
      "Processing files:  63%|██████████████████████████████████▏                   | 662/1044 [28:22<16:07,  2.53s/it]"
     ]
    },
    {
     "name": "stdout",
     "output_type": "stream",
     "text": [
      "Tokenizing...\n"
     ]
    },
    {
     "name": "stderr",
     "output_type": "stream",
     "text": [
      "PTBTokenizer tokenized 61766 tokens at 338054.75 tokens per second.\n",
      "PTBTokenizer tokenized 9239 tokens at 92324.60 tokens per second.\n"
     ]
    },
    {
     "name": "stdout",
     "output_type": "stream",
     "text": [
      "Computing scores...\n",
      "Computing METEOR score...\n",
      "Computing CIDEr score...\n"
     ]
    },
    {
     "name": "stderr",
     "output_type": "stream",
     "text": [
      "Processing files:  64%|██████████████████████████████████▎                   | 663/1044 [28:24<16:00,  2.52s/it]"
     ]
    },
    {
     "name": "stdout",
     "output_type": "stream",
     "text": [
      "Tokenizing...\n"
     ]
    },
    {
     "name": "stderr",
     "output_type": "stream",
     "text": [
      "PTBTokenizer tokenized 61766 tokens at 336460.72 tokens per second.\n",
      "PTBTokenizer tokenized 9105 tokens at 87043.70 tokens per second.\n"
     ]
    },
    {
     "name": "stdout",
     "output_type": "stream",
     "text": [
      "Computing scores...\n",
      "Computing METEOR score...\n",
      "Computing CIDEr score...\n"
     ]
    },
    {
     "name": "stderr",
     "output_type": "stream",
     "text": [
      "Processing files:  64%|██████████████████████████████████▎                   | 664/1044 [28:27<15:55,  2.52s/it]"
     ]
    },
    {
     "name": "stdout",
     "output_type": "stream",
     "text": [
      "Tokenizing...\n"
     ]
    },
    {
     "name": "stderr",
     "output_type": "stream",
     "text": [
      "PTBTokenizer tokenized 61766 tokens at 343906.14 tokens per second.\n",
      "PTBTokenizer tokenized 9242 tokens at 90602.90 tokens per second.\n"
     ]
    },
    {
     "name": "stdout",
     "output_type": "stream",
     "text": [
      "Computing scores...\n",
      "Computing METEOR score...\n",
      "Computing CIDEr score...\n"
     ]
    },
    {
     "name": "stderr",
     "output_type": "stream",
     "text": [
      "Processing files:  64%|██████████████████████████████████▍                   | 665/1044 [28:29<16:00,  2.53s/it]"
     ]
    },
    {
     "name": "stdout",
     "output_type": "stream",
     "text": [
      "Tokenizing...\n"
     ]
    },
    {
     "name": "stderr",
     "output_type": "stream",
     "text": [
      "PTBTokenizer tokenized 61766 tokens at 347877.23 tokens per second.\n",
      "PTBTokenizer tokenized 9242 tokens at 80537.63 tokens per second.\n"
     ]
    },
    {
     "name": "stdout",
     "output_type": "stream",
     "text": [
      "Computing scores...\n",
      "Computing METEOR score...\n",
      "Computing CIDEr score...\n"
     ]
    },
    {
     "name": "stderr",
     "output_type": "stream",
     "text": [
      "Processing files:  64%|██████████████████████████████████▍                   | 666/1044 [28:32<15:48,  2.51s/it]"
     ]
    },
    {
     "name": "stdout",
     "output_type": "stream",
     "text": [
      "Tokenizing...\n"
     ]
    },
    {
     "name": "stderr",
     "output_type": "stream",
     "text": [
      "PTBTokenizer tokenized 61766 tokens at 330568.79 tokens per second.\n",
      "PTBTokenizer tokenized 9242 tokens at 92480.07 tokens per second.\n"
     ]
    },
    {
     "name": "stdout",
     "output_type": "stream",
     "text": [
      "Computing scores...\n",
      "Computing METEOR score...\n",
      "Computing CIDEr score...\n"
     ]
    },
    {
     "name": "stderr",
     "output_type": "stream",
     "text": [
      "Processing files:  64%|██████████████████████████████████▌                   | 667/1044 [28:34<15:41,  2.50s/it]"
     ]
    },
    {
     "name": "stdout",
     "output_type": "stream",
     "text": [
      "Tokenizing...\n"
     ]
    },
    {
     "name": "stderr",
     "output_type": "stream",
     "text": [
      "PTBTokenizer tokenized 61766 tokens at 338592.28 tokens per second.\n",
      "PTBTokenizer tokenized 9242 tokens at 93291.62 tokens per second.\n"
     ]
    },
    {
     "name": "stdout",
     "output_type": "stream",
     "text": [
      "Computing scores...\n",
      "Computing METEOR score...\n",
      "Computing CIDEr score...\n"
     ]
    },
    {
     "name": "stderr",
     "output_type": "stream",
     "text": [
      "Processing files:  64%|██████████████████████████████████▌                   | 668/1044 [28:37<15:36,  2.49s/it]"
     ]
    },
    {
     "name": "stdout",
     "output_type": "stream",
     "text": [
      "Tokenizing...\n"
     ]
    },
    {
     "name": "stderr",
     "output_type": "stream",
     "text": [
      "PTBTokenizer tokenized 61766 tokens at 334586.42 tokens per second.\n",
      "PTBTokenizer tokenized 9134 tokens at 89299.00 tokens per second.\n"
     ]
    },
    {
     "name": "stdout",
     "output_type": "stream",
     "text": [
      "Computing scores...\n",
      "Computing METEOR score...\n",
      "Computing CIDEr score...\n"
     ]
    },
    {
     "name": "stderr",
     "output_type": "stream",
     "text": [
      "Processing files:  64%|██████████████████████████████████▌                   | 669/1044 [28:39<15:44,  2.52s/it]"
     ]
    },
    {
     "name": "stdout",
     "output_type": "stream",
     "text": [
      "Tokenizing...\n"
     ]
    },
    {
     "name": "stderr",
     "output_type": "stream",
     "text": [
      "PTBTokenizer tokenized 61766 tokens at 364727.83 tokens per second.\n",
      "PTBTokenizer tokenized 9258 tokens at 92482.69 tokens per second.\n"
     ]
    },
    {
     "name": "stdout",
     "output_type": "stream",
     "text": [
      "Computing scores...\n",
      "Computing METEOR score...\n",
      "Computing CIDEr score...\n"
     ]
    },
    {
     "name": "stderr",
     "output_type": "stream",
     "text": [
      "Processing files:  64%|██████████████████████████████████▋                   | 670/1044 [28:42<15:37,  2.51s/it]"
     ]
    },
    {
     "name": "stdout",
     "output_type": "stream",
     "text": [
      "Tokenizing...\n"
     ]
    },
    {
     "name": "stderr",
     "output_type": "stream",
     "text": [
      "PTBTokenizer tokenized 61766 tokens at 364627.39 tokens per second.\n",
      "PTBTokenizer tokenized 9242 tokens at 94527.49 tokens per second.\n"
     ]
    },
    {
     "name": "stdout",
     "output_type": "stream",
     "text": [
      "Computing scores...\n",
      "Computing METEOR score...\n",
      "Computing CIDEr score...\n"
     ]
    },
    {
     "name": "stderr",
     "output_type": "stream",
     "text": [
      "Processing files:  64%|██████████████████████████████████▋                   | 671/1044 [28:44<15:34,  2.50s/it]"
     ]
    },
    {
     "name": "stdout",
     "output_type": "stream",
     "text": [
      "Tokenizing...\n"
     ]
    },
    {
     "name": "stderr",
     "output_type": "stream",
     "text": [
      "PTBTokenizer tokenized 61766 tokens at 336070.70 tokens per second.\n",
      "PTBTokenizer tokenized 9242 tokens at 90000.16 tokens per second.\n"
     ]
    },
    {
     "name": "stdout",
     "output_type": "stream",
     "text": [
      "Computing scores...\n",
      "Computing METEOR score...\n",
      "Computing CIDEr score...\n"
     ]
    },
    {
     "name": "stderr",
     "output_type": "stream",
     "text": [
      "Processing files:  64%|██████████████████████████████████▊                   | 672/1044 [28:47<15:21,  2.48s/it]"
     ]
    },
    {
     "name": "stdout",
     "output_type": "stream",
     "text": [
      "Tokenizing...\n"
     ]
    },
    {
     "name": "stderr",
     "output_type": "stream",
     "text": [
      "PTBTokenizer tokenized 61766 tokens at 350991.48 tokens per second.\n",
      "PTBTokenizer tokenized 9238 tokens at 91073.87 tokens per second.\n"
     ]
    },
    {
     "name": "stdout",
     "output_type": "stream",
     "text": [
      "Computing scores...\n",
      "Computing METEOR score...\n",
      "Computing CIDEr score...\n"
     ]
    },
    {
     "name": "stderr",
     "output_type": "stream",
     "text": [
      "Processing files:  64%|██████████████████████████████████▊                   | 673/1044 [28:49<15:10,  2.45s/it]"
     ]
    },
    {
     "name": "stdout",
     "output_type": "stream",
     "text": [
      "Tokenizing...\n"
     ]
    },
    {
     "name": "stderr",
     "output_type": "stream",
     "text": [
      "PTBTokenizer tokenized 61766 tokens at 347722.83 tokens per second.\n",
      "PTBTokenizer tokenized 9242 tokens at 92376.20 tokens per second.\n"
     ]
    },
    {
     "name": "stdout",
     "output_type": "stream",
     "text": [
      "Computing scores...\n",
      "Computing METEOR score...\n",
      "Computing CIDEr score...\n"
     ]
    },
    {
     "name": "stderr",
     "output_type": "stream",
     "text": [
      "Processing files:  65%|██████████████████████████████████▊                   | 674/1044 [28:52<15:10,  2.46s/it]"
     ]
    },
    {
     "name": "stdout",
     "output_type": "stream",
     "text": [
      "Tokenizing...\n"
     ]
    },
    {
     "name": "stderr",
     "output_type": "stream",
     "text": [
      "PTBTokenizer tokenized 61766 tokens at 314052.56 tokens per second.\n",
      "PTBTokenizer tokenized 9242 tokens at 90473.92 tokens per second.\n"
     ]
    },
    {
     "name": "stdout",
     "output_type": "stream",
     "text": [
      "Computing scores...\n",
      "Computing METEOR score...\n",
      "Computing CIDEr score...\n"
     ]
    },
    {
     "name": "stderr",
     "output_type": "stream",
     "text": [
      "Processing files:  65%|██████████████████████████████████▉                   | 675/1044 [28:54<15:11,  2.47s/it]"
     ]
    },
    {
     "name": "stdout",
     "output_type": "stream",
     "text": [
      "Tokenizing...\n"
     ]
    },
    {
     "name": "stderr",
     "output_type": "stream",
     "text": [
      "PTBTokenizer tokenized 61766 tokens at 342653.13 tokens per second.\n",
      "PTBTokenizer tokenized 9238 tokens at 91983.92 tokens per second.\n"
     ]
    },
    {
     "name": "stdout",
     "output_type": "stream",
     "text": [
      "Computing scores...\n",
      "Computing METEOR score...\n",
      "Computing CIDEr score...\n"
     ]
    },
    {
     "name": "stderr",
     "output_type": "stream",
     "text": [
      "Processing files:  65%|██████████████████████████████████▉                   | 676/1044 [28:57<15:09,  2.47s/it]"
     ]
    },
    {
     "name": "stdout",
     "output_type": "stream",
     "text": [
      "Tokenizing...\n"
     ]
    },
    {
     "name": "stderr",
     "output_type": "stream",
     "text": [
      "PTBTokenizer tokenized 61766 tokens at 353060.97 tokens per second.\n",
      "PTBTokenizer tokenized 9242 tokens at 88653.44 tokens per second.\n"
     ]
    },
    {
     "name": "stdout",
     "output_type": "stream",
     "text": [
      "Computing scores...\n",
      "Computing METEOR score...\n",
      "Computing CIDEr score...\n"
     ]
    },
    {
     "name": "stderr",
     "output_type": "stream",
     "text": [
      "Processing files:  65%|███████████████████████████████████                   | 677/1044 [28:59<15:12,  2.49s/it]"
     ]
    },
    {
     "name": "stdout",
     "output_type": "stream",
     "text": [
      "Tokenizing...\n"
     ]
    },
    {
     "name": "stderr",
     "output_type": "stream",
     "text": [
      "PTBTokenizer tokenized 61766 tokens at 344951.69 tokens per second.\n",
      "PTBTokenizer tokenized 9242 tokens at 91826.95 tokens per second.\n"
     ]
    },
    {
     "name": "stdout",
     "output_type": "stream",
     "text": [
      "Computing scores...\n",
      "Computing METEOR score...\n",
      "Computing CIDEr score...\n"
     ]
    },
    {
     "name": "stderr",
     "output_type": "stream",
     "text": [
      "Processing files:  65%|███████████████████████████████████                   | 678/1044 [29:02<15:15,  2.50s/it]"
     ]
    },
    {
     "name": "stdout",
     "output_type": "stream",
     "text": [
      "Tokenizing...\n"
     ]
    },
    {
     "name": "stderr",
     "output_type": "stream",
     "text": [
      "PTBTokenizer tokenized 61766 tokens at 355126.56 tokens per second.\n",
      "PTBTokenizer tokenized 6675 tokens at 71329.79 tokens per second.\n"
     ]
    },
    {
     "name": "stdout",
     "output_type": "stream",
     "text": [
      "Computing scores...\n",
      "Computing METEOR score...\n",
      "Computing CIDEr score...\n"
     ]
    },
    {
     "name": "stderr",
     "output_type": "stream",
     "text": [
      "Processing files:  65%|███████████████████████████████████                   | 679/1044 [29:04<14:50,  2.44s/it]"
     ]
    },
    {
     "name": "stdout",
     "output_type": "stream",
     "text": [
      "Tokenizing...\n"
     ]
    },
    {
     "name": "stderr",
     "output_type": "stream",
     "text": [
      "PTBTokenizer tokenized 61766 tokens at 349582.52 tokens per second.\n",
      "PTBTokenizer tokenized 9242 tokens at 91048.11 tokens per second.\n"
     ]
    },
    {
     "name": "stdout",
     "output_type": "stream",
     "text": [
      "Computing scores...\n",
      "Computing METEOR score...\n",
      "Computing CIDEr score...\n"
     ]
    },
    {
     "name": "stderr",
     "output_type": "stream",
     "text": [
      "Processing files:  65%|███████████████████████████████████▏                  | 680/1044 [29:06<14:55,  2.46s/it]"
     ]
    },
    {
     "name": "stdout",
     "output_type": "stream",
     "text": [
      "Tokenizing...\n"
     ]
    },
    {
     "name": "stderr",
     "output_type": "stream",
     "text": [
      "PTBTokenizer tokenized 61766 tokens at 334210.99 tokens per second.\n",
      "PTBTokenizer tokenized 9242 tokens at 84724.07 tokens per second.\n"
     ]
    },
    {
     "name": "stdout",
     "output_type": "stream",
     "text": [
      "Computing scores...\n",
      "Computing METEOR score...\n",
      "Computing CIDEr score...\n"
     ]
    },
    {
     "name": "stderr",
     "output_type": "stream",
     "text": [
      "Processing files:  65%|███████████████████████████████████▏                  | 681/1044 [29:09<14:57,  2.47s/it]"
     ]
    },
    {
     "name": "stdout",
     "output_type": "stream",
     "text": [
      "Tokenizing...\n"
     ]
    },
    {
     "name": "stderr",
     "output_type": "stream",
     "text": [
      "PTBTokenizer tokenized 61766 tokens at 341222.07 tokens per second.\n",
      "PTBTokenizer tokenized 7767 tokens at 78142.41 tokens per second.\n"
     ]
    },
    {
     "name": "stdout",
     "output_type": "stream",
     "text": [
      "Computing scores...\n",
      "Computing METEOR score...\n",
      "Computing CIDEr score...\n"
     ]
    },
    {
     "name": "stderr",
     "output_type": "stream",
     "text": [
      "Processing files:  65%|███████████████████████████████████▎                  | 682/1044 [29:11<14:45,  2.45s/it]"
     ]
    },
    {
     "name": "stdout",
     "output_type": "stream",
     "text": [
      "Tokenizing...\n"
     ]
    },
    {
     "name": "stderr",
     "output_type": "stream",
     "text": [
      "PTBTokenizer tokenized 61766 tokens at 344801.08 tokens per second.\n",
      "PTBTokenizer tokenized 9242 tokens at 89286.79 tokens per second.\n"
     ]
    },
    {
     "name": "stdout",
     "output_type": "stream",
     "text": [
      "Computing scores...\n",
      "Computing METEOR score...\n",
      "Computing CIDEr score...\n"
     ]
    },
    {
     "name": "stderr",
     "output_type": "stream",
     "text": [
      "Processing files:  65%|███████████████████████████████████▎                  | 683/1044 [29:14<15:00,  2.49s/it]"
     ]
    },
    {
     "name": "stdout",
     "output_type": "stream",
     "text": [
      "Tokenizing...\n"
     ]
    },
    {
     "name": "stderr",
     "output_type": "stream",
     "text": [
      "PTBTokenizer tokenized 61766 tokens at 351152.16 tokens per second.\n",
      "PTBTokenizer tokenized 9242 tokens at 92848.12 tokens per second.\n"
     ]
    },
    {
     "name": "stdout",
     "output_type": "stream",
     "text": [
      "Computing scores...\n",
      "Computing METEOR score...\n",
      "Computing CIDEr score...\n"
     ]
    },
    {
     "name": "stderr",
     "output_type": "stream",
     "text": [
      "Processing files:  66%|███████████████████████████████████▍                  | 684/1044 [29:16<14:51,  2.48s/it]"
     ]
    },
    {
     "name": "stdout",
     "output_type": "stream",
     "text": [
      "Tokenizing...\n"
     ]
    },
    {
     "name": "stderr",
     "output_type": "stream",
     "text": [
      "PTBTokenizer tokenized 61766 tokens at 341726.25 tokens per second.\n",
      "PTBTokenizer tokenized 9242 tokens at 88455.40 tokens per second.\n"
     ]
    },
    {
     "name": "stdout",
     "output_type": "stream",
     "text": [
      "Computing scores...\n",
      "Computing METEOR score...\n",
      "Computing CIDEr score...\n"
     ]
    },
    {
     "name": "stderr",
     "output_type": "stream",
     "text": [
      "Processing files:  66%|███████████████████████████████████▍                  | 685/1044 [29:19<14:28,  2.42s/it]"
     ]
    },
    {
     "name": "stdout",
     "output_type": "stream",
     "text": [
      "Tokenizing...\n"
     ]
    },
    {
     "name": "stderr",
     "output_type": "stream",
     "text": [
      "PTBTokenizer tokenized 61766 tokens at 347799.57 tokens per second.\n",
      "PTBTokenizer tokenized 7550 tokens at 80602.88 tokens per second.\n"
     ]
    },
    {
     "name": "stdout",
     "output_type": "stream",
     "text": [
      "Computing scores...\n",
      "Computing METEOR score...\n",
      "Computing CIDEr score...\n"
     ]
    },
    {
     "name": "stderr",
     "output_type": "stream",
     "text": [
      "Processing files:  66%|███████████████████████████████████▍                  | 686/1044 [29:21<14:19,  2.40s/it]"
     ]
    },
    {
     "name": "stdout",
     "output_type": "stream",
     "text": [
      "Tokenizing...\n"
     ]
    },
    {
     "name": "stderr",
     "output_type": "stream",
     "text": [
      "PTBTokenizer tokenized 61766 tokens at 359291.13 tokens per second.\n",
      "PTBTokenizer tokenized 9229 tokens at 94305.29 tokens per second.\n"
     ]
    },
    {
     "name": "stdout",
     "output_type": "stream",
     "text": [
      "Computing scores...\n",
      "Computing METEOR score...\n",
      "Computing CIDEr score...\n"
     ]
    },
    {
     "name": "stderr",
     "output_type": "stream",
     "text": [
      "Processing files:  66%|███████████████████████████████████▌                  | 687/1044 [29:24<14:31,  2.44s/it]"
     ]
    },
    {
     "name": "stdout",
     "output_type": "stream",
     "text": [
      "Tokenizing...\n"
     ]
    },
    {
     "name": "stderr",
     "output_type": "stream",
     "text": [
      "PTBTokenizer tokenized 61766 tokens at 340586.22 tokens per second.\n",
      "PTBTokenizer tokenized 9242 tokens at 90366.57 tokens per second.\n"
     ]
    },
    {
     "name": "stdout",
     "output_type": "stream",
     "text": [
      "Computing scores...\n",
      "Computing METEOR score...\n",
      "Computing CIDEr score...\n"
     ]
    },
    {
     "name": "stderr",
     "output_type": "stream",
     "text": [
      "Processing files:  66%|███████████████████████████████████▌                  | 688/1044 [29:26<14:42,  2.48s/it]"
     ]
    },
    {
     "name": "stdout",
     "output_type": "stream",
     "text": [
      "Tokenizing...\n"
     ]
    },
    {
     "name": "stderr",
     "output_type": "stream",
     "text": [
      "PTBTokenizer tokenized 61766 tokens at 344281.79 tokens per second.\n",
      "PTBTokenizer tokenized 9402 tokens at 93401.33 tokens per second.\n"
     ]
    },
    {
     "name": "stdout",
     "output_type": "stream",
     "text": [
      "Computing scores...\n",
      "Computing METEOR score...\n",
      "Computing CIDEr score...\n"
     ]
    },
    {
     "name": "stderr",
     "output_type": "stream",
     "text": [
      "Processing files:  66%|███████████████████████████████████▋                  | 689/1044 [29:29<14:44,  2.49s/it]"
     ]
    },
    {
     "name": "stdout",
     "output_type": "stream",
     "text": [
      "Tokenizing...\n"
     ]
    },
    {
     "name": "stderr",
     "output_type": "stream",
     "text": [
      "PTBTokenizer tokenized 61766 tokens at 347164.39 tokens per second.\n",
      "PTBTokenizer tokenized 9258 tokens at 90538.41 tokens per second.\n"
     ]
    },
    {
     "name": "stdout",
     "output_type": "stream",
     "text": [
      "Computing scores...\n",
      "Computing METEOR score...\n",
      "Computing CIDEr score...\n"
     ]
    },
    {
     "name": "stderr",
     "output_type": "stream",
     "text": [
      "Processing files:  66%|███████████████████████████████████▋                  | 690/1044 [29:31<14:48,  2.51s/it]"
     ]
    },
    {
     "name": "stdout",
     "output_type": "stream",
     "text": [
      "Tokenizing...\n"
     ]
    },
    {
     "name": "stderr",
     "output_type": "stream",
     "text": [
      "PTBTokenizer tokenized 61766 tokens at 333819.20 tokens per second.\n",
      "PTBTokenizer tokenized 9242 tokens at 92513.03 tokens per second.\n"
     ]
    },
    {
     "name": "stdout",
     "output_type": "stream",
     "text": [
      "Computing scores...\n",
      "Computing METEOR score...\n",
      "Computing CIDEr score...\n"
     ]
    },
    {
     "name": "stderr",
     "output_type": "stream",
     "text": [
      "Processing files:  66%|███████████████████████████████████▋                  | 691/1044 [29:34<14:37,  2.49s/it]"
     ]
    },
    {
     "name": "stdout",
     "output_type": "stream",
     "text": [
      "Tokenizing...\n"
     ]
    },
    {
     "name": "stderr",
     "output_type": "stream",
     "text": [
      "PTBTokenizer tokenized 61766 tokens at 343376.13 tokens per second.\n",
      "Jul 19, 2024 4:49:57 PM edu.stanford.nlp.process.PTBLexer next\n",
      "WARNING: Untokenizable: � (U+FFFD, decimal: 65533)\n",
      "PTBTokenizer tokenized 17504 tokens at 115694.64 tokens per second.\n"
     ]
    },
    {
     "name": "stdout",
     "output_type": "stream",
     "text": [
      "Computing scores...\n",
      "Computing METEOR score...\n",
      "Computing CIDEr score...\n"
     ]
    },
    {
     "name": "stderr",
     "output_type": "stream",
     "text": [
      "Processing files:  66%|███████████████████████████████████▊                  | 692/1044 [29:36<15:07,  2.58s/it]"
     ]
    },
    {
     "name": "stdout",
     "output_type": "stream",
     "text": [
      "Tokenizing...\n"
     ]
    },
    {
     "name": "stderr",
     "output_type": "stream",
     "text": [
      "PTBTokenizer tokenized 61766 tokens at 346033.26 tokens per second.\n",
      "Jul 19, 2024 4:50:00 PM edu.stanford.nlp.process.PTBLexer next\n",
      "WARNING: Untokenizable: � (U+FFFD, decimal: 65533)\n",
      "PTBTokenizer tokenized 8505 tokens at 48713.81 tokens per second.\n"
     ]
    },
    {
     "name": "stdout",
     "output_type": "stream",
     "text": [
      "Computing scores...\n",
      "Computing METEOR score...\n",
      "Computing CIDEr score...\n"
     ]
    },
    {
     "name": "stderr",
     "output_type": "stream",
     "text": [
      "Processing files:  66%|███████████████████████████████████▊                  | 693/1044 [29:39<14:33,  2.49s/it]"
     ]
    },
    {
     "name": "stdout",
     "output_type": "stream",
     "text": [
      "Tokenizing...\n"
     ]
    },
    {
     "name": "stderr",
     "output_type": "stream",
     "text": [
      "PTBTokenizer tokenized 61766 tokens at 340982.11 tokens per second.\n",
      "PTBTokenizer tokenized 10014 tokens at 88019.40 tokens per second.\n"
     ]
    },
    {
     "name": "stdout",
     "output_type": "stream",
     "text": [
      "Computing scores...\n",
      "Computing METEOR score...\n",
      "Computing CIDEr score...\n"
     ]
    },
    {
     "name": "stderr",
     "output_type": "stream",
     "text": [
      "Processing files:  66%|███████████████████████████████████▉                  | 694/1044 [29:41<14:38,  2.51s/it]"
     ]
    },
    {
     "name": "stdout",
     "output_type": "stream",
     "text": [
      "Tokenizing...\n"
     ]
    },
    {
     "name": "stderr",
     "output_type": "stream",
     "text": [
      "PTBTokenizer tokenized 61766 tokens at 338611.54 tokens per second.\n",
      "PTBTokenizer tokenized 7979 tokens at 80946.66 tokens per second.\n"
     ]
    },
    {
     "name": "stdout",
     "output_type": "stream",
     "text": [
      "Computing scores...\n",
      "Computing METEOR score...\n",
      "Computing CIDEr score...\n"
     ]
    },
    {
     "name": "stderr",
     "output_type": "stream",
     "text": [
      "Processing files:  67%|███████████████████████████████████▉                  | 695/1044 [29:44<14:24,  2.48s/it]"
     ]
    },
    {
     "name": "stdout",
     "output_type": "stream",
     "text": [
      "Tokenizing...\n"
     ]
    },
    {
     "name": "stderr",
     "output_type": "stream",
     "text": [
      "PTBTokenizer tokenized 61766 tokens at 339655.42 tokens per second.\n",
      "PTBTokenizer tokenized 9242 tokens at 90463.35 tokens per second.\n"
     ]
    },
    {
     "name": "stdout",
     "output_type": "stream",
     "text": [
      "Computing scores...\n",
      "Computing METEOR score...\n",
      "Computing CIDEr score...\n"
     ]
    },
    {
     "name": "stderr",
     "output_type": "stream",
     "text": [
      "Processing files:  67%|████████████████████████████████████                  | 696/1044 [29:46<14:31,  2.50s/it]"
     ]
    },
    {
     "name": "stdout",
     "output_type": "stream",
     "text": [
      "Tokenizing...\n"
     ]
    },
    {
     "name": "stderr",
     "output_type": "stream",
     "text": [
      "PTBTokenizer tokenized 61766 tokens at 355245.05 tokens per second.\n",
      "PTBTokenizer tokenized 9039 tokens at 91754.66 tokens per second.\n"
     ]
    },
    {
     "name": "stdout",
     "output_type": "stream",
     "text": [
      "Computing scores...\n",
      "Computing METEOR score...\n",
      "Computing CIDEr score...\n"
     ]
    },
    {
     "name": "stderr",
     "output_type": "stream",
     "text": [
      "Processing files:  67%|████████████████████████████████████                  | 697/1044 [29:49<14:15,  2.46s/it]"
     ]
    },
    {
     "name": "stdout",
     "output_type": "stream",
     "text": [
      "Tokenizing...\n"
     ]
    },
    {
     "name": "stderr",
     "output_type": "stream",
     "text": [
      "PTBTokenizer tokenized 61766 tokens at 339974.86 tokens per second.\n",
      "PTBTokenizer tokenized 9166 tokens at 90603.46 tokens per second.\n"
     ]
    },
    {
     "name": "stdout",
     "output_type": "stream",
     "text": [
      "Computing scores...\n",
      "Computing METEOR score...\n",
      "Computing CIDEr score...\n"
     ]
    },
    {
     "name": "stderr",
     "output_type": "stream",
     "text": [
      "Processing files:  67%|████████████████████████████████████                  | 698/1044 [29:51<14:13,  2.47s/it]"
     ]
    },
    {
     "name": "stdout",
     "output_type": "stream",
     "text": [
      "Tokenizing...\n"
     ]
    },
    {
     "name": "stderr",
     "output_type": "stream",
     "text": [
      "PTBTokenizer tokenized 61766 tokens at 304789.48 tokens per second.\n",
      "PTBTokenizer tokenized 8482 tokens at 82233.33 tokens per second.\n"
     ]
    },
    {
     "name": "stdout",
     "output_type": "stream",
     "text": [
      "Computing scores...\n",
      "Computing METEOR score...\n",
      "Computing CIDEr score...\n"
     ]
    },
    {
     "name": "stderr",
     "output_type": "stream",
     "text": [
      "Processing files:  67%|████████████████████████████████████▏                 | 699/1044 [29:53<14:04,  2.45s/it]"
     ]
    },
    {
     "name": "stdout",
     "output_type": "stream",
     "text": [
      "Tokenizing...\n"
     ]
    },
    {
     "name": "stderr",
     "output_type": "stream",
     "text": [
      "PTBTokenizer tokenized 61766 tokens at 333859.66 tokens per second.\n",
      "PTBTokenizer tokenized 9239 tokens at 91356.42 tokens per second.\n"
     ]
    },
    {
     "name": "stdout",
     "output_type": "stream",
     "text": [
      "Computing scores...\n",
      "Computing METEOR score...\n",
      "Computing CIDEr score...\n"
     ]
    },
    {
     "name": "stderr",
     "output_type": "stream",
     "text": [
      "Processing files:  67%|████████████████████████████████████▏                 | 700/1044 [29:56<14:15,  2.49s/it]"
     ]
    },
    {
     "name": "stdout",
     "output_type": "stream",
     "text": [
      "Tokenizing...\n"
     ]
    },
    {
     "name": "stderr",
     "output_type": "stream",
     "text": [
      "PTBTokenizer tokenized 61766 tokens at 310460.18 tokens per second.\n",
      "PTBTokenizer tokenized 9233 tokens at 90468.32 tokens per second.\n"
     ]
    },
    {
     "name": "stdout",
     "output_type": "stream",
     "text": [
      "Computing scores...\n",
      "Computing METEOR score...\n",
      "Computing CIDEr score...\n"
     ]
    },
    {
     "name": "stderr",
     "output_type": "stream",
     "text": [
      "Processing files:  67%|████████████████████████████████████▎                 | 701/1044 [29:58<14:13,  2.49s/it]"
     ]
    },
    {
     "name": "stdout",
     "output_type": "stream",
     "text": [
      "Tokenizing...\n"
     ]
    },
    {
     "name": "stderr",
     "output_type": "stream",
     "text": [
      "PTBTokenizer tokenized 61766 tokens at 352449.96 tokens per second.\n",
      "PTBTokenizer tokenized 9242 tokens at 86137.00 tokens per second.\n"
     ]
    },
    {
     "name": "stdout",
     "output_type": "stream",
     "text": [
      "Computing scores...\n",
      "Computing METEOR score...\n",
      "Computing CIDEr score...\n"
     ]
    },
    {
     "name": "stderr",
     "output_type": "stream",
     "text": [
      "Processing files:  67%|████████████████████████████████████▎                 | 702/1044 [30:01<14:20,  2.52s/it]"
     ]
    },
    {
     "name": "stdout",
     "output_type": "stream",
     "text": [
      "Tokenizing...\n"
     ]
    },
    {
     "name": "stderr",
     "output_type": "stream",
     "text": [
      "PTBTokenizer tokenized 61766 tokens at 347499.52 tokens per second.\n",
      "PTBTokenizer tokenized 9242 tokens at 90319.33 tokens per second.\n"
     ]
    },
    {
     "name": "stdout",
     "output_type": "stream",
     "text": [
      "Computing scores...\n",
      "Computing METEOR score...\n",
      "Computing CIDEr score...\n"
     ]
    },
    {
     "name": "stderr",
     "output_type": "stream",
     "text": [
      "Processing files:  67%|████████████████████████████████████▎                 | 703/1044 [30:04<14:10,  2.50s/it]"
     ]
    },
    {
     "name": "stdout",
     "output_type": "stream",
     "text": [
      "Tokenizing...\n"
     ]
    },
    {
     "name": "stderr",
     "output_type": "stream",
     "text": [
      "PTBTokenizer tokenized 61766 tokens at 348577.36 tokens per second.\n",
      "PTBTokenizer tokenized 9229 tokens at 93580.79 tokens per second.\n"
     ]
    },
    {
     "name": "stdout",
     "output_type": "stream",
     "text": [
      "Computing scores...\n",
      "Computing METEOR score...\n",
      "Computing CIDEr score...\n"
     ]
    },
    {
     "name": "stderr",
     "output_type": "stream",
     "text": [
      "Processing files:  67%|████████████████████████████████████▍                 | 704/1044 [30:06<14:21,  2.54s/it]"
     ]
    },
    {
     "name": "stdout",
     "output_type": "stream",
     "text": [
      "Tokenizing...\n"
     ]
    },
    {
     "name": "stderr",
     "output_type": "stream",
     "text": [
      "PTBTokenizer tokenized 61766 tokens at 339502.80 tokens per second.\n",
      "PTBTokenizer tokenized 9242 tokens at 91299.09 tokens per second.\n"
     ]
    },
    {
     "name": "stdout",
     "output_type": "stream",
     "text": [
      "Computing scores...\n",
      "Computing METEOR score...\n",
      "Computing CIDEr score...\n"
     ]
    },
    {
     "name": "stderr",
     "output_type": "stream",
     "text": [
      "Processing files:  68%|████████████████████████████████████▍                 | 705/1044 [30:09<14:13,  2.52s/it]"
     ]
    },
    {
     "name": "stdout",
     "output_type": "stream",
     "text": [
      "Tokenizing...\n"
     ]
    },
    {
     "name": "stderr",
     "output_type": "stream",
     "text": [
      "PTBTokenizer tokenized 61766 tokens at 338943.85 tokens per second.\n",
      "PTBTokenizer tokenized 9169 tokens at 90921.81 tokens per second.\n"
     ]
    },
    {
     "name": "stdout",
     "output_type": "stream",
     "text": [
      "Computing scores...\n",
      "Computing METEOR score...\n",
      "Computing CIDEr score...\n"
     ]
    },
    {
     "name": "stderr",
     "output_type": "stream",
     "text": [
      "Processing files:  68%|████████████████████████████████████▌                 | 706/1044 [30:11<14:06,  2.50s/it]"
     ]
    },
    {
     "name": "stdout",
     "output_type": "stream",
     "text": [
      "Tokenizing...\n"
     ]
    },
    {
     "name": "stderr",
     "output_type": "stream",
     "text": [
      "PTBTokenizer tokenized 61766 tokens at 308922.24 tokens per second.\n",
      "PTBTokenizer tokenized 9242 tokens at 88745.93 tokens per second.\n"
     ]
    },
    {
     "name": "stdout",
     "output_type": "stream",
     "text": [
      "Computing scores...\n",
      "Computing METEOR score...\n",
      "Computing CIDEr score...\n"
     ]
    },
    {
     "name": "stderr",
     "output_type": "stream",
     "text": [
      "Processing files:  68%|████████████████████████████████████▌                 | 707/1044 [30:14<14:04,  2.51s/it]"
     ]
    },
    {
     "name": "stdout",
     "output_type": "stream",
     "text": [
      "Tokenizing...\n"
     ]
    },
    {
     "name": "stderr",
     "output_type": "stream",
     "text": [
      "PTBTokenizer tokenized 61766 tokens at 340966.88 tokens per second.\n",
      "PTBTokenizer tokenized 9242 tokens at 89745.23 tokens per second.\n"
     ]
    },
    {
     "name": "stdout",
     "output_type": "stream",
     "text": [
      "Computing scores...\n",
      "Computing METEOR score...\n",
      "Computing CIDEr score...\n"
     ]
    },
    {
     "name": "stderr",
     "output_type": "stream",
     "text": [
      "Processing files:  68%|████████████████████████████████████▌                 | 708/1044 [30:16<14:07,  2.52s/it]"
     ]
    },
    {
     "name": "stdout",
     "output_type": "stream",
     "text": [
      "Tokenizing...\n"
     ]
    },
    {
     "name": "stderr",
     "output_type": "stream",
     "text": [
      "PTBTokenizer tokenized 61766 tokens at 361668.63 tokens per second.\n",
      "PTBTokenizer tokenized 6950 tokens at 67431.10 tokens per second.\n"
     ]
    },
    {
     "name": "stdout",
     "output_type": "stream",
     "text": [
      "Computing scores...\n",
      "Computing METEOR score...\n",
      "Computing CIDEr score...\n"
     ]
    },
    {
     "name": "stderr",
     "output_type": "stream",
     "text": [
      "Processing files:  68%|████████████████████████████████████▋                 | 709/1044 [30:19<13:49,  2.48s/it]"
     ]
    },
    {
     "name": "stdout",
     "output_type": "stream",
     "text": [
      "Tokenizing...\n"
     ]
    },
    {
     "name": "stderr",
     "output_type": "stream",
     "text": [
      "PTBTokenizer tokenized 61766 tokens at 368611.15 tokens per second.\n",
      "PTBTokenizer tokenized 9242 tokens at 92067.56 tokens per second.\n"
     ]
    },
    {
     "name": "stdout",
     "output_type": "stream",
     "text": [
      "Computing scores...\n",
      "Computing METEOR score...\n",
      "Computing CIDEr score...\n"
     ]
    },
    {
     "name": "stderr",
     "output_type": "stream",
     "text": [
      "Processing files:  68%|████████████████████████████████████▋                 | 710/1044 [30:21<13:50,  2.49s/it]"
     ]
    },
    {
     "name": "stdout",
     "output_type": "stream",
     "text": [
      "Tokenizing...\n"
     ]
    },
    {
     "name": "stderr",
     "output_type": "stream",
     "text": [
      "PTBTokenizer tokenized 61766 tokens at 340901.16 tokens per second.\n",
      "PTBTokenizer tokenized 9235 tokens at 90036.80 tokens per second.\n"
     ]
    },
    {
     "name": "stdout",
     "output_type": "stream",
     "text": [
      "Computing scores...\n",
      "Computing METEOR score...\n",
      "Computing CIDEr score...\n"
     ]
    },
    {
     "name": "stderr",
     "output_type": "stream",
     "text": [
      "Processing files:  68%|████████████████████████████████████▊                 | 711/1044 [30:24<13:49,  2.49s/it]"
     ]
    },
    {
     "name": "stdout",
     "output_type": "stream",
     "text": [
      "Tokenizing...\n"
     ]
    },
    {
     "name": "stderr",
     "output_type": "stream",
     "text": [
      "PTBTokenizer tokenized 61766 tokens at 347186.48 tokens per second.\n",
      "PTBTokenizer tokenized 11791 tokens at 102653.65 tokens per second.\n"
     ]
    },
    {
     "name": "stdout",
     "output_type": "stream",
     "text": [
      "Computing scores...\n",
      "Computing METEOR score...\n",
      "Computing CIDEr score...\n"
     ]
    },
    {
     "name": "stderr",
     "output_type": "stream",
     "text": [
      "Processing files:  68%|████████████████████████████████████▊                 | 712/1044 [30:26<14:12,  2.57s/it]"
     ]
    },
    {
     "name": "stdout",
     "output_type": "stream",
     "text": [
      "Tokenizing...\n"
     ]
    },
    {
     "name": "stderr",
     "output_type": "stream",
     "text": [
      "PTBTokenizer tokenized 61766 tokens at 334756.44 tokens per second.\n",
      "PTBTokenizer tokenized 9241 tokens at 90386.46 tokens per second.\n"
     ]
    },
    {
     "name": "stdout",
     "output_type": "stream",
     "text": [
      "Computing scores...\n",
      "Computing METEOR score...\n",
      "Computing CIDEr score...\n"
     ]
    },
    {
     "name": "stderr",
     "output_type": "stream",
     "text": [
      "Processing files:  68%|████████████████████████████████████▉                 | 713/1044 [30:29<13:50,  2.51s/it]"
     ]
    },
    {
     "name": "stdout",
     "output_type": "stream",
     "text": [
      "Tokenizing...\n"
     ]
    },
    {
     "name": "stderr",
     "output_type": "stream",
     "text": [
      "PTBTokenizer tokenized 61766 tokens at 329527.64 tokens per second.\n",
      "PTBTokenizer tokenized 9200 tokens at 90843.64 tokens per second.\n"
     ]
    },
    {
     "name": "stdout",
     "output_type": "stream",
     "text": [
      "Computing scores...\n",
      "Computing METEOR score...\n",
      "Computing CIDEr score...\n"
     ]
    },
    {
     "name": "stderr",
     "output_type": "stream",
     "text": [
      "Processing files:  68%|████████████████████████████████████▉                 | 714/1044 [30:31<13:40,  2.49s/it]"
     ]
    },
    {
     "name": "stdout",
     "output_type": "stream",
     "text": [
      "Tokenizing...\n"
     ]
    },
    {
     "name": "stderr",
     "output_type": "stream",
     "text": [
      "PTBTokenizer tokenized 61766 tokens at 358195.77 tokens per second.\n",
      "PTBTokenizer tokenized 9242 tokens at 91704.15 tokens per second.\n"
     ]
    },
    {
     "name": "stdout",
     "output_type": "stream",
     "text": [
      "Computing scores...\n",
      "Computing METEOR score...\n",
      "Computing CIDEr score...\n"
     ]
    },
    {
     "name": "stderr",
     "output_type": "stream",
     "text": [
      "Processing files:  68%|████████████████████████████████████▉                 | 715/1044 [30:34<13:38,  2.49s/it]"
     ]
    },
    {
     "name": "stdout",
     "output_type": "stream",
     "text": [
      "Tokenizing...\n"
     ]
    },
    {
     "name": "stderr",
     "output_type": "stream",
     "text": [
      "PTBTokenizer tokenized 61766 tokens at 343034.91 tokens per second.\n",
      "PTBTokenizer tokenized 9242 tokens at 92393.07 tokens per second.\n"
     ]
    },
    {
     "name": "stdout",
     "output_type": "stream",
     "text": [
      "Computing scores...\n",
      "Computing METEOR score...\n",
      "Computing CIDEr score...\n"
     ]
    },
    {
     "name": "stderr",
     "output_type": "stream",
     "text": [
      "Processing files:  69%|█████████████████████████████████████                 | 716/1044 [30:36<13:36,  2.49s/it]"
     ]
    },
    {
     "name": "stdout",
     "output_type": "stream",
     "text": [
      "Tokenizing...\n"
     ]
    },
    {
     "name": "stderr",
     "output_type": "stream",
     "text": [
      "PTBTokenizer tokenized 61766 tokens at 358523.92 tokens per second.\n",
      "PTBTokenizer tokenized 9153 tokens at 85412.88 tokens per second.\n"
     ]
    },
    {
     "name": "stdout",
     "output_type": "stream",
     "text": [
      "Computing scores...\n",
      "Computing METEOR score...\n",
      "Computing CIDEr score...\n"
     ]
    },
    {
     "name": "stderr",
     "output_type": "stream",
     "text": [
      "Processing files:  69%|█████████████████████████████████████                 | 717/1044 [30:38<13:23,  2.46s/it]"
     ]
    },
    {
     "name": "stdout",
     "output_type": "stream",
     "text": [
      "Tokenizing...\n"
     ]
    },
    {
     "name": "stderr",
     "output_type": "stream",
     "text": [
      "PTBTokenizer tokenized 61766 tokens at 335507.91 tokens per second.\n",
      "PTBTokenizer tokenized 9242 tokens at 87992.77 tokens per second.\n"
     ]
    },
    {
     "name": "stdout",
     "output_type": "stream",
     "text": [
      "Computing scores...\n",
      "Computing METEOR score...\n",
      "Computing CIDEr score...\n"
     ]
    },
    {
     "name": "stderr",
     "output_type": "stream",
     "text": [
      "Processing files:  69%|█████████████████████████████████████▏                | 718/1044 [30:41<13:22,  2.46s/it]"
     ]
    },
    {
     "name": "stdout",
     "output_type": "stream",
     "text": [
      "Tokenizing...\n"
     ]
    },
    {
     "name": "stderr",
     "output_type": "stream",
     "text": [
      "PTBTokenizer tokenized 61766 tokens at 338294.90 tokens per second.\n",
      "PTBTokenizer tokenized 9242 tokens at 91001.30 tokens per second.\n"
     ]
    },
    {
     "name": "stdout",
     "output_type": "stream",
     "text": [
      "Computing scores...\n",
      "Computing METEOR score...\n",
      "Computing CIDEr score...\n"
     ]
    },
    {
     "name": "stderr",
     "output_type": "stream",
     "text": [
      "Processing files:  69%|█████████████████████████████████████▏                | 719/1044 [30:43<13:24,  2.48s/it]"
     ]
    },
    {
     "name": "stdout",
     "output_type": "stream",
     "text": [
      "Tokenizing...\n"
     ]
    },
    {
     "name": "stderr",
     "output_type": "stream",
     "text": [
      "PTBTokenizer tokenized 61766 tokens at 337174.53 tokens per second.\n",
      "PTBTokenizer tokenized 8094 tokens at 82454.17 tokens per second.\n"
     ]
    },
    {
     "name": "stdout",
     "output_type": "stream",
     "text": [
      "Computing scores...\n",
      "Computing METEOR score...\n",
      "Computing CIDEr score...\n"
     ]
    },
    {
     "name": "stderr",
     "output_type": "stream",
     "text": [
      "Processing files:  69%|█████████████████████████████████████▏                | 720/1044 [30:46<13:21,  2.47s/it]"
     ]
    },
    {
     "name": "stdout",
     "output_type": "stream",
     "text": [
      "Tokenizing...\n"
     ]
    },
    {
     "name": "stderr",
     "output_type": "stream",
     "text": [
      "PTBTokenizer tokenized 61766 tokens at 343888.86 tokens per second.\n",
      "PTBTokenizer tokenized 9204 tokens at 92219.67 tokens per second.\n"
     ]
    },
    {
     "name": "stdout",
     "output_type": "stream",
     "text": [
      "Computing scores...\n",
      "Computing METEOR score...\n",
      "Computing CIDEr score...\n"
     ]
    },
    {
     "name": "stderr",
     "output_type": "stream",
     "text": [
      "Processing files:  69%|█████████████████████████████████████▎                | 721/1044 [30:48<13:19,  2.47s/it]"
     ]
    },
    {
     "name": "stdout",
     "output_type": "stream",
     "text": [
      "Tokenizing...\n"
     ]
    },
    {
     "name": "stderr",
     "output_type": "stream",
     "text": [
      "PTBTokenizer tokenized 61766 tokens at 339728.57 tokens per second.\n",
      "PTBTokenizer tokenized 9242 tokens at 91924.62 tokens per second.\n"
     ]
    },
    {
     "name": "stdout",
     "output_type": "stream",
     "text": [
      "Computing scores...\n",
      "Computing METEOR score...\n",
      "Computing CIDEr score...\n"
     ]
    },
    {
     "name": "stderr",
     "output_type": "stream",
     "text": [
      "Processing files:  69%|█████████████████████████████████████▎                | 722/1044 [30:51<13:28,  2.51s/it]"
     ]
    },
    {
     "name": "stdout",
     "output_type": "stream",
     "text": [
      "Tokenizing...\n"
     ]
    },
    {
     "name": "stderr",
     "output_type": "stream",
     "text": [
      "PTBTokenizer tokenized 61766 tokens at 352522.54 tokens per second.\n",
      "PTBTokenizer tokenized 8482 tokens at 86126.49 tokens per second.\n"
     ]
    },
    {
     "name": "stdout",
     "output_type": "stream",
     "text": [
      "Computing scores...\n",
      "Computing METEOR score...\n",
      "Computing CIDEr score...\n"
     ]
    },
    {
     "name": "stderr",
     "output_type": "stream",
     "text": [
      "Processing files:  69%|█████████████████████████████████████▍                | 723/1044 [30:53<13:14,  2.47s/it]"
     ]
    },
    {
     "name": "stdout",
     "output_type": "stream",
     "text": [
      "Tokenizing...\n"
     ]
    },
    {
     "name": "stderr",
     "output_type": "stream",
     "text": [
      "PTBTokenizer tokenized 61766 tokens at 331086.76 tokens per second.\n",
      "PTBTokenizer tokenized 9233 tokens at 89155.06 tokens per second.\n"
     ]
    },
    {
     "name": "stdout",
     "output_type": "stream",
     "text": [
      "Computing scores...\n",
      "Computing METEOR score...\n",
      "Computing CIDEr score...\n"
     ]
    },
    {
     "name": "stderr",
     "output_type": "stream",
     "text": [
      "Processing files:  69%|█████████████████████████████████████▍                | 724/1044 [30:56<13:23,  2.51s/it]"
     ]
    },
    {
     "name": "stdout",
     "output_type": "stream",
     "text": [
      "Tokenizing...\n"
     ]
    },
    {
     "name": "stderr",
     "output_type": "stream",
     "text": [
      "PTBTokenizer tokenized 61766 tokens at 337853.44 tokens per second.\n",
      "PTBTokenizer tokenized 9242 tokens at 83977.67 tokens per second.\n"
     ]
    },
    {
     "name": "stdout",
     "output_type": "stream",
     "text": [
      "Computing scores...\n",
      "Computing METEOR score...\n",
      "Computing CIDEr score...\n"
     ]
    },
    {
     "name": "stderr",
     "output_type": "stream",
     "text": [
      "Processing files:  69%|█████████████████████████████████████▌                | 725/1044 [30:58<13:20,  2.51s/it]"
     ]
    },
    {
     "name": "stdout",
     "output_type": "stream",
     "text": [
      "Tokenizing...\n"
     ]
    },
    {
     "name": "stderr",
     "output_type": "stream",
     "text": [
      "PTBTokenizer tokenized 61766 tokens at 343216.04 tokens per second.\n",
      "PTBTokenizer tokenized 10521 tokens at 101251.41 tokens per second.\n"
     ]
    },
    {
     "name": "stdout",
     "output_type": "stream",
     "text": [
      "Computing scores...\n",
      "Computing METEOR score...\n",
      "Computing CIDEr score...\n"
     ]
    },
    {
     "name": "stderr",
     "output_type": "stream",
     "text": [
      "Processing files:  70%|█████████████████████████████████████▌                | 726/1044 [31:01<13:33,  2.56s/it]"
     ]
    },
    {
     "name": "stdout",
     "output_type": "stream",
     "text": [
      "Tokenizing...\n"
     ]
    },
    {
     "name": "stderr",
     "output_type": "stream",
     "text": [
      "PTBTokenizer tokenized 61766 tokens at 348121.39 tokens per second.\n",
      "PTBTokenizer tokenized 9242 tokens at 92164.93 tokens per second.\n"
     ]
    },
    {
     "name": "stdout",
     "output_type": "stream",
     "text": [
      "Computing scores...\n",
      "Computing METEOR score...\n",
      "Computing CIDEr score...\n"
     ]
    },
    {
     "name": "stderr",
     "output_type": "stream",
     "text": [
      "Processing files:  70%|█████████████████████████████████████▌                | 727/1044 [31:04<13:18,  2.52s/it]"
     ]
    },
    {
     "name": "stdout",
     "output_type": "stream",
     "text": [
      "Tokenizing...\n"
     ]
    },
    {
     "name": "stderr",
     "output_type": "stream",
     "text": [
      "PTBTokenizer tokenized 61766 tokens at 345211.40 tokens per second.\n",
      "PTBTokenizer tokenized 9164 tokens at 83696.97 tokens per second.\n"
     ]
    },
    {
     "name": "stdout",
     "output_type": "stream",
     "text": [
      "Computing scores...\n",
      "Computing METEOR score...\n",
      "Computing CIDEr score...\n"
     ]
    },
    {
     "name": "stderr",
     "output_type": "stream",
     "text": [
      "Processing files:  70%|█████████████████████████████████████▋                | 728/1044 [31:06<13:12,  2.51s/it]"
     ]
    },
    {
     "name": "stdout",
     "output_type": "stream",
     "text": [
      "Tokenizing...\n"
     ]
    },
    {
     "name": "stderr",
     "output_type": "stream",
     "text": [
      "PTBTokenizer tokenized 61766 tokens at 339013.39 tokens per second.\n",
      "Jul 19, 2024 4:51:30 PM edu.stanford.nlp.process.PTBLexer next\n",
      "WARNING: Untokenizable: � (U+FFFD, decimal: 65533)\n",
      "PTBTokenizer tokenized 11141 tokens at 67750.88 tokens per second.\n"
     ]
    },
    {
     "name": "stdout",
     "output_type": "stream",
     "text": [
      "Computing scores...\n",
      "Computing METEOR score...\n",
      "Computing CIDEr score...\n"
     ]
    },
    {
     "name": "stderr",
     "output_type": "stream",
     "text": [
      "Processing files:  70%|█████████████████████████████████████▋                | 729/1044 [31:09<13:07,  2.50s/it]"
     ]
    },
    {
     "name": "stdout",
     "output_type": "stream",
     "text": [
      "Tokenizing...\n"
     ]
    },
    {
     "name": "stderr",
     "output_type": "stream",
     "text": [
      "PTBTokenizer tokenized 61766 tokens at 336536.20 tokens per second.\n",
      "PTBTokenizer tokenized 9242 tokens at 93148.72 tokens per second.\n"
     ]
    },
    {
     "name": "stdout",
     "output_type": "stream",
     "text": [
      "Computing scores...\n",
      "Computing METEOR score...\n",
      "Computing CIDEr score...\n"
     ]
    },
    {
     "name": "stderr",
     "output_type": "stream",
     "text": [
      "Processing files:  70%|█████████████████████████████████████▊                | 730/1044 [31:11<13:11,  2.52s/it]"
     ]
    },
    {
     "name": "stdout",
     "output_type": "stream",
     "text": [
      "Tokenizing...\n"
     ]
    },
    {
     "name": "stderr",
     "output_type": "stream",
     "text": [
      "PTBTokenizer tokenized 61766 tokens at 335322.51 tokens per second.\n",
      "PTBTokenizer tokenized 9206 tokens at 91077.80 tokens per second.\n"
     ]
    },
    {
     "name": "stdout",
     "output_type": "stream",
     "text": [
      "Computing scores...\n",
      "Computing METEOR score...\n",
      "Computing CIDEr score...\n"
     ]
    },
    {
     "name": "stderr",
     "output_type": "stream",
     "text": [
      "Processing files:  70%|█████████████████████████████████████▊                | 731/1044 [31:13<12:47,  2.45s/it]"
     ]
    },
    {
     "name": "stdout",
     "output_type": "stream",
     "text": [
      "Tokenizing...\n"
     ]
    },
    {
     "name": "stderr",
     "output_type": "stream",
     "text": [
      "PTBTokenizer tokenized 61766 tokens at 350272.59 tokens per second.\n",
      "PTBTokenizer tokenized 8541 tokens at 87175.43 tokens per second.\n"
     ]
    },
    {
     "name": "stdout",
     "output_type": "stream",
     "text": [
      "Computing scores...\n",
      "Computing METEOR score...\n",
      "Computing CIDEr score...\n"
     ]
    },
    {
     "name": "stderr",
     "output_type": "stream",
     "text": [
      "Processing files:  70%|█████████████████████████████████████▊                | 732/1044 [31:16<12:43,  2.45s/it]"
     ]
    },
    {
     "name": "stdout",
     "output_type": "stream",
     "text": [
      "Tokenizing...\n"
     ]
    },
    {
     "name": "stderr",
     "output_type": "stream",
     "text": [
      "PTBTokenizer tokenized 61766 tokens at 332144.42 tokens per second.\n",
      "PTBTokenizer tokenized 9211 tokens at 90806.44 tokens per second.\n"
     ]
    },
    {
     "name": "stdout",
     "output_type": "stream",
     "text": [
      "Computing scores...\n",
      "Computing METEOR score...\n",
      "Computing CIDEr score...\n"
     ]
    },
    {
     "name": "stderr",
     "output_type": "stream",
     "text": [
      "Processing files:  70%|█████████████████████████████████████▉                | 733/1044 [31:18<12:38,  2.44s/it]"
     ]
    },
    {
     "name": "stdout",
     "output_type": "stream",
     "text": [
      "Tokenizing...\n"
     ]
    },
    {
     "name": "stderr",
     "output_type": "stream",
     "text": [
      "PTBTokenizer tokenized 61766 tokens at 358261.99 tokens per second.\n",
      "PTBTokenizer tokenized 9233 tokens at 92104.06 tokens per second.\n"
     ]
    },
    {
     "name": "stdout",
     "output_type": "stream",
     "text": [
      "Computing scores...\n",
      "Computing METEOR score...\n",
      "Computing CIDEr score...\n"
     ]
    },
    {
     "name": "stderr",
     "output_type": "stream",
     "text": [
      "Processing files:  70%|█████████████████████████████████████▉                | 734/1044 [31:21<12:37,  2.44s/it]"
     ]
    },
    {
     "name": "stdout",
     "output_type": "stream",
     "text": [
      "Tokenizing...\n"
     ]
    },
    {
     "name": "stderr",
     "output_type": "stream",
     "text": [
      "PTBTokenizer tokenized 61766 tokens at 348010.72 tokens per second.\n",
      "PTBTokenizer tokenized 8482 tokens at 84616.22 tokens per second.\n"
     ]
    },
    {
     "name": "stdout",
     "output_type": "stream",
     "text": [
      "Computing scores...\n",
      "Computing METEOR score...\n",
      "Computing CIDEr score...\n"
     ]
    },
    {
     "name": "stderr",
     "output_type": "stream",
     "text": [
      "Processing files:  70%|██████████████████████████████████████                | 735/1044 [31:23<12:33,  2.44s/it]"
     ]
    },
    {
     "name": "stdout",
     "output_type": "stream",
     "text": [
      "Tokenizing...\n"
     ]
    },
    {
     "name": "stderr",
     "output_type": "stream",
     "text": [
      "PTBTokenizer tokenized 61766 tokens at 346461.32 tokens per second.\n",
      "PTBTokenizer tokenized 9213 tokens at 93050.85 tokens per second.\n"
     ]
    },
    {
     "name": "stdout",
     "output_type": "stream",
     "text": [
      "Computing scores...\n",
      "Computing METEOR score...\n",
      "Computing CIDEr score...\n"
     ]
    },
    {
     "name": "stderr",
     "output_type": "stream",
     "text": [
      "Processing files:  70%|██████████████████████████████████████                | 736/1044 [31:26<12:36,  2.46s/it]"
     ]
    },
    {
     "name": "stdout",
     "output_type": "stream",
     "text": [
      "Tokenizing...\n"
     ]
    },
    {
     "name": "stderr",
     "output_type": "stream",
     "text": [
      "PTBTokenizer tokenized 61766 tokens at 336697.43 tokens per second.\n",
      "PTBTokenizer tokenized 9226 tokens at 87876.60 tokens per second.\n"
     ]
    },
    {
     "name": "stdout",
     "output_type": "stream",
     "text": [
      "Computing scores...\n",
      "Computing METEOR score...\n",
      "Computing CIDEr score...\n"
     ]
    },
    {
     "name": "stderr",
     "output_type": "stream",
     "text": [
      "Processing files:  71%|██████████████████████████████████████                | 737/1044 [31:28<12:22,  2.42s/it]"
     ]
    },
    {
     "name": "stdout",
     "output_type": "stream",
     "text": [
      "Tokenizing...\n"
     ]
    },
    {
     "name": "stderr",
     "output_type": "stream",
     "text": [
      "PTBTokenizer tokenized 61766 tokens at 335639.80 tokens per second.\n",
      "PTBTokenizer tokenized 9171 tokens at 91118.96 tokens per second.\n"
     ]
    },
    {
     "name": "stdout",
     "output_type": "stream",
     "text": [
      "Computing scores...\n",
      "Computing METEOR score...\n",
      "Computing CIDEr score...\n"
     ]
    },
    {
     "name": "stderr",
     "output_type": "stream",
     "text": [
      "Processing files:  71%|██████████████████████████████████████▏               | 738/1044 [31:30<12:22,  2.43s/it]"
     ]
    },
    {
     "name": "stdout",
     "output_type": "stream",
     "text": [
      "Tokenizing...\n"
     ]
    },
    {
     "name": "stderr",
     "output_type": "stream",
     "text": [
      "PTBTokenizer tokenized 61766 tokens at 351521.36 tokens per second.\n",
      "PTBTokenizer tokenized 9161 tokens at 85742.94 tokens per second.\n"
     ]
    },
    {
     "name": "stdout",
     "output_type": "stream",
     "text": [
      "Computing scores...\n",
      "Computing METEOR score...\n",
      "Computing CIDEr score...\n"
     ]
    },
    {
     "name": "stderr",
     "output_type": "stream",
     "text": [
      "Processing files:  71%|██████████████████████████████████████▏               | 739/1044 [31:33<12:30,  2.46s/it]"
     ]
    },
    {
     "name": "stdout",
     "output_type": "stream",
     "text": [
      "Tokenizing...\n"
     ]
    },
    {
     "name": "stderr",
     "output_type": "stream",
     "text": [
      "PTBTokenizer tokenized 61766 tokens at 351105.76 tokens per second.\n",
      "PTBTokenizer tokenized 9242 tokens at 93994.72 tokens per second.\n"
     ]
    },
    {
     "name": "stdout",
     "output_type": "stream",
     "text": [
      "Computing scores...\n",
      "Computing METEOR score...\n",
      "Computing CIDEr score...\n"
     ]
    },
    {
     "name": "stderr",
     "output_type": "stream",
     "text": [
      "Processing files:  71%|██████████████████████████████████████▎               | 740/1044 [31:35<12:33,  2.48s/it]"
     ]
    },
    {
     "name": "stdout",
     "output_type": "stream",
     "text": [
      "Tokenizing...\n"
     ]
    },
    {
     "name": "stderr",
     "output_type": "stream",
     "text": [
      "PTBTokenizer tokenized 61766 tokens at 353121.73 tokens per second.\n",
      "PTBTokenizer tokenized 8471 tokens at 85418.58 tokens per second.\n"
     ]
    },
    {
     "name": "stdout",
     "output_type": "stream",
     "text": [
      "Computing scores...\n",
      "Computing METEOR score...\n",
      "Computing CIDEr score...\n"
     ]
    },
    {
     "name": "stderr",
     "output_type": "stream",
     "text": [
      "Processing files:  71%|██████████████████████████████████████▎               | 741/1044 [31:38<12:14,  2.42s/it]"
     ]
    },
    {
     "name": "stdout",
     "output_type": "stream",
     "text": [
      "Tokenizing...\n"
     ]
    },
    {
     "name": "stderr",
     "output_type": "stream",
     "text": [
      "PTBTokenizer tokenized 61766 tokens at 338391.61 tokens per second.\n",
      "PTBTokenizer tokenized 9214 tokens at 88742.69 tokens per second.\n"
     ]
    },
    {
     "name": "stdout",
     "output_type": "stream",
     "text": [
      "Computing scores...\n",
      "Computing METEOR score...\n",
      "Computing CIDEr score...\n"
     ]
    },
    {
     "name": "stderr",
     "output_type": "stream",
     "text": [
      "Processing files:  71%|██████████████████████████████████████▍               | 742/1044 [31:40<12:14,  2.43s/it]"
     ]
    },
    {
     "name": "stdout",
     "output_type": "stream",
     "text": [
      "Tokenizing...\n"
     ]
    },
    {
     "name": "stderr",
     "output_type": "stream",
     "text": [
      "PTBTokenizer tokenized 61766 tokens at 289740.95 tokens per second.\n",
      "Jul 19, 2024 4:52:04 PM edu.stanford.nlp.process.PTBLexer next\n",
      "WARNING: Untokenizable: � (U+FFFD, decimal: 65533)\n",
      "PTBTokenizer tokenized 17504 tokens at 113960.54 tokens per second.\n"
     ]
    },
    {
     "name": "stdout",
     "output_type": "stream",
     "text": [
      "Computing scores...\n",
      "Computing METEOR score...\n",
      "Computing CIDEr score...\n"
     ]
    },
    {
     "name": "stderr",
     "output_type": "stream",
     "text": [
      "Processing files:  71%|██████████████████████████████████████▍               | 743/1044 [31:43<13:17,  2.65s/it]"
     ]
    },
    {
     "name": "stdout",
     "output_type": "stream",
     "text": [
      "Tokenizing...\n"
     ]
    },
    {
     "name": "stderr",
     "output_type": "stream",
     "text": [
      "PTBTokenizer tokenized 61766 tokens at 333654.45 tokens per second.\n",
      "PTBTokenizer tokenized 9158 tokens at 81816.30 tokens per second.\n"
     ]
    },
    {
     "name": "stdout",
     "output_type": "stream",
     "text": [
      "Computing scores...\n",
      "Computing METEOR score...\n",
      "Computing CIDEr score...\n"
     ]
    },
    {
     "name": "stderr",
     "output_type": "stream",
     "text": [
      "Processing files:  71%|██████████████████████████████████████▍               | 744/1044 [31:46<13:09,  2.63s/it]"
     ]
    },
    {
     "name": "stdout",
     "output_type": "stream",
     "text": [
      "Tokenizing...\n"
     ]
    },
    {
     "name": "stderr",
     "output_type": "stream",
     "text": [
      "PTBTokenizer tokenized 61766 tokens at 351774.12 tokens per second.\n",
      "Jul 19, 2024 4:52:10 PM edu.stanford.nlp.process.PTBLexer next\n",
      "WARNING: Untokenizable: � (U+FFFD, decimal: 65533)\n",
      "PTBTokenizer tokenized 10275 tokens at 60567.98 tokens per second.\n"
     ]
    },
    {
     "name": "stdout",
     "output_type": "stream",
     "text": [
      "Computing scores...\n",
      "Computing METEOR score...\n",
      "Computing CIDEr score...\n"
     ]
    },
    {
     "name": "stderr",
     "output_type": "stream",
     "text": [
      "Processing files:  71%|██████████████████████████████████████▌               | 745/1044 [31:48<12:32,  2.52s/it]"
     ]
    },
    {
     "name": "stdout",
     "output_type": "stream",
     "text": [
      "Tokenizing...\n"
     ]
    },
    {
     "name": "stderr",
     "output_type": "stream",
     "text": [
      "PTBTokenizer tokenized 61766 tokens at 355004.96 tokens per second.\n",
      "PTBTokenizer tokenized 11657 tokens at 100149.63 tokens per second.\n"
     ]
    },
    {
     "name": "stdout",
     "output_type": "stream",
     "text": [
      "Computing scores...\n",
      "Computing METEOR score...\n",
      "Computing CIDEr score...\n"
     ]
    },
    {
     "name": "stderr",
     "output_type": "stream",
     "text": [
      "Processing files:  71%|██████████████████████████████████████▌               | 746/1044 [31:51<12:41,  2.56s/it]"
     ]
    },
    {
     "name": "stdout",
     "output_type": "stream",
     "text": [
      "Tokenizing...\n"
     ]
    },
    {
     "name": "stderr",
     "output_type": "stream",
     "text": [
      "PTBTokenizer tokenized 61766 tokens at 340864.48 tokens per second.\n",
      "PTBTokenizer tokenized 10115 tokens at 95973.87 tokens per second.\n"
     ]
    },
    {
     "name": "stdout",
     "output_type": "stream",
     "text": [
      "Computing scores...\n",
      "Computing METEOR score...\n",
      "Computing CIDEr score...\n"
     ]
    },
    {
     "name": "stderr",
     "output_type": "stream",
     "text": [
      "Processing files:  72%|██████████████████████████████████████▋               | 747/1044 [31:54<12:46,  2.58s/it]"
     ]
    },
    {
     "name": "stdout",
     "output_type": "stream",
     "text": [
      "Tokenizing...\n"
     ]
    },
    {
     "name": "stderr",
     "output_type": "stream",
     "text": [
      "PTBTokenizer tokenized 61766 tokens at 334565.33 tokens per second.\n",
      "PTBTokenizer tokenized 8050 tokens at 78939.62 tokens per second.\n"
     ]
    },
    {
     "name": "stdout",
     "output_type": "stream",
     "text": [
      "Computing scores...\n",
      "Computing METEOR score...\n",
      "Computing CIDEr score...\n"
     ]
    },
    {
     "name": "stderr",
     "output_type": "stream",
     "text": [
      "Processing files:  72%|██████████████████████████████████████▋               | 748/1044 [31:56<12:14,  2.48s/it]"
     ]
    },
    {
     "name": "stdout",
     "output_type": "stream",
     "text": [
      "Tokenizing...\n"
     ]
    },
    {
     "name": "stderr",
     "output_type": "stream",
     "text": [
      "PTBTokenizer tokenized 61766 tokens at 340728.10 tokens per second.\n",
      "PTBTokenizer tokenized 9171 tokens at 91142.69 tokens per second.\n"
     ]
    },
    {
     "name": "stdout",
     "output_type": "stream",
     "text": [
      "Computing scores...\n",
      "Computing METEOR score...\n",
      "Computing CIDEr score...\n"
     ]
    },
    {
     "name": "stderr",
     "output_type": "stream",
     "text": [
      "Processing files:  72%|██████████████████████████████████████▋               | 749/1044 [31:58<12:06,  2.46s/it]"
     ]
    },
    {
     "name": "stdout",
     "output_type": "stream",
     "text": [
      "Tokenizing...\n"
     ]
    },
    {
     "name": "stderr",
     "output_type": "stream",
     "text": [
      "PTBTokenizer tokenized 61766 tokens at 346602.30 tokens per second.\n",
      "PTBTokenizer tokenized 9242 tokens at 90843.20 tokens per second.\n"
     ]
    },
    {
     "name": "stdout",
     "output_type": "stream",
     "text": [
      "Computing scores...\n",
      "Computing METEOR score...\n",
      "Computing CIDEr score...\n"
     ]
    },
    {
     "name": "stderr",
     "output_type": "stream",
     "text": [
      "Processing files:  72%|██████████████████████████████████████▊               | 750/1044 [32:01<12:04,  2.46s/it]"
     ]
    },
    {
     "name": "stdout",
     "output_type": "stream",
     "text": [
      "Tokenizing...\n"
     ]
    },
    {
     "name": "stderr",
     "output_type": "stream",
     "text": [
      "PTBTokenizer tokenized 61766 tokens at 331964.86 tokens per second.\n",
      "PTBTokenizer tokenized 9242 tokens at 91588.15 tokens per second.\n"
     ]
    },
    {
     "name": "stdout",
     "output_type": "stream",
     "text": [
      "Computing scores...\n",
      "Computing METEOR score...\n",
      "Computing CIDEr score...\n"
     ]
    },
    {
     "name": "stderr",
     "output_type": "stream",
     "text": [
      "Processing files:  72%|██████████████████████████████████████▊               | 751/1044 [32:03<12:10,  2.49s/it]"
     ]
    },
    {
     "name": "stdout",
     "output_type": "stream",
     "text": [
      "Tokenizing...\n"
     ]
    },
    {
     "name": "stderr",
     "output_type": "stream",
     "text": [
      "PTBTokenizer tokenized 61766 tokens at 339149.01 tokens per second.\n",
      "PTBTokenizer tokenized 9242 tokens at 90673.76 tokens per second.\n"
     ]
    },
    {
     "name": "stdout",
     "output_type": "stream",
     "text": [
      "Computing scores...\n",
      "Computing METEOR score...\n",
      "Computing CIDEr score...\n"
     ]
    },
    {
     "name": "stderr",
     "output_type": "stream",
     "text": [
      "Processing files:  72%|██████████████████████████████████████▉               | 752/1044 [32:06<12:06,  2.49s/it]"
     ]
    },
    {
     "name": "stdout",
     "output_type": "stream",
     "text": [
      "Tokenizing...\n"
     ]
    },
    {
     "name": "stderr",
     "output_type": "stream",
     "text": [
      "PTBTokenizer tokenized 61766 tokens at 337758.40 tokens per second.\n",
      "PTBTokenizer tokenized 8089 tokens at 80050.40 tokens per second.\n"
     ]
    },
    {
     "name": "stdout",
     "output_type": "stream",
     "text": [
      "Computing scores...\n",
      "Computing METEOR score...\n",
      "Computing CIDEr score...\n"
     ]
    },
    {
     "name": "stderr",
     "output_type": "stream",
     "text": [
      "Processing files:  72%|██████████████████████████████████████▉               | 753/1044 [32:08<11:55,  2.46s/it]"
     ]
    },
    {
     "name": "stdout",
     "output_type": "stream",
     "text": [
      "Tokenizing...\n"
     ]
    },
    {
     "name": "stderr",
     "output_type": "stream",
     "text": [
      "PTBTokenizer tokenized 61766 tokens at 333423.23 tokens per second.\n",
      "PTBTokenizer tokenized 9204 tokens at 93155.93 tokens per second.\n"
     ]
    },
    {
     "name": "stdout",
     "output_type": "stream",
     "text": [
      "Computing scores...\n",
      "Computing METEOR score...\n",
      "Computing CIDEr score...\n"
     ]
    },
    {
     "name": "stderr",
     "output_type": "stream",
     "text": [
      "Processing files:  72%|███████████████████████████████████████               | 754/1044 [32:11<11:55,  2.47s/it]"
     ]
    },
    {
     "name": "stdout",
     "output_type": "stream",
     "text": [
      "Tokenizing...\n"
     ]
    },
    {
     "name": "stderr",
     "output_type": "stream",
     "text": [
      "PTBTokenizer tokenized 61766 tokens at 354793.73 tokens per second.\n",
      "PTBTokenizer tokenized 9079 tokens at 82567.36 tokens per second.\n"
     ]
    },
    {
     "name": "stdout",
     "output_type": "stream",
     "text": [
      "Computing scores...\n",
      "Computing METEOR score...\n",
      "Computing CIDEr score...\n"
     ]
    },
    {
     "name": "stderr",
     "output_type": "stream",
     "text": [
      "Processing files:  72%|███████████████████████████████████████               | 755/1044 [32:13<11:52,  2.47s/it]"
     ]
    },
    {
     "name": "stdout",
     "output_type": "stream",
     "text": [
      "Tokenizing...\n"
     ]
    },
    {
     "name": "stderr",
     "output_type": "stream",
     "text": [
      "PTBTokenizer tokenized 61766 tokens at 322829.95 tokens per second.\n",
      "PTBTokenizer tokenized 9256 tokens at 93484.17 tokens per second.\n"
     ]
    },
    {
     "name": "stdout",
     "output_type": "stream",
     "text": [
      "Computing scores...\n",
      "Computing METEOR score...\n",
      "Computing CIDEr score...\n"
     ]
    },
    {
     "name": "stderr",
     "output_type": "stream",
     "text": [
      "Processing files:  72%|███████████████████████████████████████               | 756/1044 [32:16<11:55,  2.48s/it]"
     ]
    },
    {
     "name": "stdout",
     "output_type": "stream",
     "text": [
      "Tokenizing...\n"
     ]
    },
    {
     "name": "stderr",
     "output_type": "stream",
     "text": [
      "PTBTokenizer tokenized 61766 tokens at 335979.53 tokens per second.\n",
      "PTBTokenizer tokenized 8515 tokens at 75641.20 tokens per second.\n"
     ]
    },
    {
     "name": "stdout",
     "output_type": "stream",
     "text": [
      "Computing scores...\n",
      "Computing METEOR score...\n",
      "Computing CIDEr score...\n"
     ]
    },
    {
     "name": "stderr",
     "output_type": "stream",
     "text": [
      "Processing files:  73%|███████████████████████████████████████▏              | 757/1044 [32:18<11:50,  2.47s/it]"
     ]
    },
    {
     "name": "stdout",
     "output_type": "stream",
     "text": [
      "Tokenizing...\n"
     ]
    },
    {
     "name": "stderr",
     "output_type": "stream",
     "text": [
      "PTBTokenizer tokenized 61766 tokens at 334712.51 tokens per second.\n",
      "PTBTokenizer tokenized 11791 tokens at 110316.76 tokens per second.\n"
     ]
    },
    {
     "name": "stdout",
     "output_type": "stream",
     "text": [
      "Computing scores...\n",
      "Computing METEOR score...\n",
      "Computing CIDEr score...\n"
     ]
    },
    {
     "name": "stderr",
     "output_type": "stream",
     "text": [
      "Processing files:  73%|███████████████████████████████████████▏              | 758/1044 [32:20<11:45,  2.47s/it]"
     ]
    },
    {
     "name": "stdout",
     "output_type": "stream",
     "text": [
      "Tokenizing...\n"
     ]
    },
    {
     "name": "stderr",
     "output_type": "stream",
     "text": [
      "PTBTokenizer tokenized 61766 tokens at 351809.04 tokens per second.\n",
      "PTBTokenizer tokenized 9255 tokens at 82532.53 tokens per second.\n"
     ]
    },
    {
     "name": "stdout",
     "output_type": "stream",
     "text": [
      "Computing scores...\n",
      "Computing METEOR score...\n",
      "Computing CIDEr score...\n"
     ]
    },
    {
     "name": "stderr",
     "output_type": "stream",
     "text": [
      "Processing files:  73%|███████████████████████████████████████▎              | 759/1044 [32:23<11:46,  2.48s/it]"
     ]
    },
    {
     "name": "stdout",
     "output_type": "stream",
     "text": [
      "Tokenizing...\n"
     ]
    },
    {
     "name": "stderr",
     "output_type": "stream",
     "text": [
      "PTBTokenizer tokenized 61766 tokens at 349842.48 tokens per second.\n",
      "PTBTokenizer tokenized 9241 tokens at 93186.87 tokens per second.\n"
     ]
    },
    {
     "name": "stdout",
     "output_type": "stream",
     "text": [
      "Computing scores...\n",
      "Computing METEOR score...\n",
      "Computing CIDEr score...\n"
     ]
    },
    {
     "name": "stderr",
     "output_type": "stream",
     "text": [
      "Processing files:  73%|███████████████████████████████████████▎              | 760/1044 [32:26<11:56,  2.52s/it]"
     ]
    },
    {
     "name": "stdout",
     "output_type": "stream",
     "text": [
      "Tokenizing...\n"
     ]
    },
    {
     "name": "stderr",
     "output_type": "stream",
     "text": [
      "PTBTokenizer tokenized 61766 tokens at 359246.64 tokens per second.\n",
      "PTBTokenizer tokenized 9242 tokens at 91061.03 tokens per second.\n"
     ]
    },
    {
     "name": "stdout",
     "output_type": "stream",
     "text": [
      "Computing scores...\n",
      "Computing METEOR score...\n",
      "Computing CIDEr score...\n"
     ]
    },
    {
     "name": "stderr",
     "output_type": "stream",
     "text": [
      "Processing files:  73%|███████████████████████████████████████▎              | 761/1044 [32:28<11:55,  2.53s/it]"
     ]
    },
    {
     "name": "stdout",
     "output_type": "stream",
     "text": [
      "Tokenizing...\n"
     ]
    },
    {
     "name": "stderr",
     "output_type": "stream",
     "text": [
      "PTBTokenizer tokenized 61766 tokens at 363005.19 tokens per second.\n",
      "PTBTokenizer tokenized 11564 tokens at 94212.13 tokens per second.\n"
     ]
    },
    {
     "name": "stdout",
     "output_type": "stream",
     "text": [
      "Computing scores...\n",
      "Computing METEOR score...\n",
      "Computing CIDEr score...\n"
     ]
    },
    {
     "name": "stderr",
     "output_type": "stream",
     "text": [
      "Processing files:  73%|███████████████████████████████████████▍              | 762/1044 [32:31<12:02,  2.56s/it]"
     ]
    },
    {
     "name": "stdout",
     "output_type": "stream",
     "text": [
      "Tokenizing...\n"
     ]
    },
    {
     "name": "stderr",
     "output_type": "stream",
     "text": [
      "PTBTokenizer tokenized 61766 tokens at 338087.79 tokens per second.\n",
      "PTBTokenizer tokenized 8646 tokens at 87230.90 tokens per second.\n"
     ]
    },
    {
     "name": "stdout",
     "output_type": "stream",
     "text": [
      "Computing scores...\n",
      "Computing METEOR score...\n",
      "Computing CIDEr score...\n"
     ]
    },
    {
     "name": "stderr",
     "output_type": "stream",
     "text": [
      "Processing files:  73%|███████████████████████████████████████▍              | 763/1044 [32:33<11:38,  2.49s/it]"
     ]
    },
    {
     "name": "stdout",
     "output_type": "stream",
     "text": [
      "Tokenizing...\n"
     ]
    },
    {
     "name": "stderr",
     "output_type": "stream",
     "text": [
      "PTBTokenizer tokenized 61766 tokens at 347763.40 tokens per second.\n",
      "PTBTokenizer tokenized 8470 tokens at 86310.89 tokens per second.\n"
     ]
    },
    {
     "name": "stdout",
     "output_type": "stream",
     "text": [
      "Computing scores...\n",
      "Computing METEOR score...\n",
      "Computing CIDEr score...\n"
     ]
    },
    {
     "name": "stderr",
     "output_type": "stream",
     "text": [
      "Processing files:  73%|███████████████████████████████████████▌              | 764/1044 [32:36<11:32,  2.47s/it]"
     ]
    },
    {
     "name": "stdout",
     "output_type": "stream",
     "text": [
      "Tokenizing...\n"
     ]
    },
    {
     "name": "stderr",
     "output_type": "stream",
     "text": [
      "PTBTokenizer tokenized 61766 tokens at 341321.90 tokens per second.\n",
      "PTBTokenizer tokenized 9102 tokens at 90799.19 tokens per second.\n"
     ]
    },
    {
     "name": "stdout",
     "output_type": "stream",
     "text": [
      "Computing scores...\n",
      "Computing METEOR score...\n",
      "Computing CIDEr score...\n"
     ]
    },
    {
     "name": "stderr",
     "output_type": "stream",
     "text": [
      "Processing files:  73%|███████████████████████████████████████▌              | 765/1044 [32:38<11:27,  2.46s/it]"
     ]
    },
    {
     "name": "stdout",
     "output_type": "stream",
     "text": [
      "Tokenizing...\n"
     ]
    },
    {
     "name": "stderr",
     "output_type": "stream",
     "text": [
      "PTBTokenizer tokenized 61766 tokens at 345174.08 tokens per second.\n",
      "PTBTokenizer tokenized 9132 tokens at 87263.75 tokens per second.\n"
     ]
    },
    {
     "name": "stdout",
     "output_type": "stream",
     "text": [
      "Computing scores...\n",
      "Computing METEOR score...\n",
      "Computing CIDEr score...\n"
     ]
    },
    {
     "name": "stderr",
     "output_type": "stream",
     "text": [
      "Processing files:  73%|███████████████████████████████████████▌              | 766/1044 [32:40<11:31,  2.49s/it]"
     ]
    },
    {
     "name": "stdout",
     "output_type": "stream",
     "text": [
      "Tokenizing...\n"
     ]
    },
    {
     "name": "stderr",
     "output_type": "stream",
     "text": [
      "PTBTokenizer tokenized 61766 tokens at 335954.09 tokens per second.\n",
      "PTBTokenizer tokenized 9242 tokens at 93027.43 tokens per second.\n"
     ]
    },
    {
     "name": "stdout",
     "output_type": "stream",
     "text": [
      "Computing scores...\n",
      "Computing METEOR score...\n",
      "Computing CIDEr score...\n"
     ]
    },
    {
     "name": "stderr",
     "output_type": "stream",
     "text": [
      "Processing files:  73%|███████████████████████████████████████▋              | 767/1044 [32:43<11:28,  2.49s/it]"
     ]
    },
    {
     "name": "stdout",
     "output_type": "stream",
     "text": [
      "Tokenizing...\n"
     ]
    },
    {
     "name": "stderr",
     "output_type": "stream",
     "text": [
      "PTBTokenizer tokenized 61766 tokens at 330480.59 tokens per second.\n",
      "PTBTokenizer tokenized 9242 tokens at 89774.65 tokens per second.\n"
     ]
    },
    {
     "name": "stdout",
     "output_type": "stream",
     "text": [
      "Computing scores...\n",
      "Computing METEOR score...\n",
      "Computing CIDEr score...\n"
     ]
    },
    {
     "name": "stderr",
     "output_type": "stream",
     "text": [
      "Processing files:  74%|███████████████████████████████████████▋              | 768/1044 [32:46<11:29,  2.50s/it]"
     ]
    },
    {
     "name": "stdout",
     "output_type": "stream",
     "text": [
      "Tokenizing...\n"
     ]
    },
    {
     "name": "stderr",
     "output_type": "stream",
     "text": [
      "PTBTokenizer tokenized 61766 tokens at 343035.71 tokens per second.\n",
      "PTBTokenizer tokenized 8024 tokens at 80569.16 tokens per second.\n"
     ]
    },
    {
     "name": "stdout",
     "output_type": "stream",
     "text": [
      "Computing scores...\n",
      "Computing METEOR score...\n",
      "Computing CIDEr score...\n"
     ]
    },
    {
     "name": "stderr",
     "output_type": "stream",
     "text": [
      "Processing files:  74%|███████████████████████████████████████▊              | 769/1044 [32:48<11:24,  2.49s/it]"
     ]
    },
    {
     "name": "stdout",
     "output_type": "stream",
     "text": [
      "Tokenizing...\n"
     ]
    },
    {
     "name": "stderr",
     "output_type": "stream",
     "text": [
      "PTBTokenizer tokenized 61766 tokens at 340984.27 tokens per second.\n",
      "PTBTokenizer tokenized 9241 tokens at 89215.27 tokens per second.\n"
     ]
    },
    {
     "name": "stdout",
     "output_type": "stream",
     "text": [
      "Computing scores...\n",
      "Computing METEOR score...\n",
      "Computing CIDEr score...\n"
     ]
    },
    {
     "name": "stderr",
     "output_type": "stream",
     "text": [
      "Processing files:  74%|███████████████████████████████████████▊              | 770/1044 [32:51<11:26,  2.51s/it]"
     ]
    },
    {
     "name": "stdout",
     "output_type": "stream",
     "text": [
      "Tokenizing...\n"
     ]
    },
    {
     "name": "stderr",
     "output_type": "stream",
     "text": [
      "PTBTokenizer tokenized 61766 tokens at 337372.14 tokens per second.\n",
      "PTBTokenizer tokenized 7968 tokens at 80578.07 tokens per second.\n"
     ]
    },
    {
     "name": "stdout",
     "output_type": "stream",
     "text": [
      "Computing scores...\n",
      "Computing METEOR score...\n",
      "Computing CIDEr score...\n"
     ]
    },
    {
     "name": "stderr",
     "output_type": "stream",
     "text": [
      "Processing files:  74%|███████████████████████████████████████▉              | 771/1044 [32:53<11:14,  2.47s/it]"
     ]
    },
    {
     "name": "stdout",
     "output_type": "stream",
     "text": [
      "Tokenizing...\n"
     ]
    },
    {
     "name": "stderr",
     "output_type": "stream",
     "text": [
      "PTBTokenizer tokenized 61766 tokens at 341619.97 tokens per second.\n",
      "Jul 19, 2024 4:53:17 PM edu.stanford.nlp.process.PTBLexer next\n",
      "WARNING: Untokenizable: � (U+FFFD, decimal: 65533)\n",
      "PTBTokenizer tokenized 17821 tokens at 112740.35 tokens per second.\n"
     ]
    },
    {
     "name": "stdout",
     "output_type": "stream",
     "text": [
      "Computing scores...\n",
      "Computing METEOR score...\n",
      "Computing CIDEr score...\n"
     ]
    },
    {
     "name": "stderr",
     "output_type": "stream",
     "text": [
      "Processing files:  74%|███████████████████████████████████████▉              | 772/1044 [32:56<11:52,  2.62s/it]"
     ]
    },
    {
     "name": "stdout",
     "output_type": "stream",
     "text": [
      "Tokenizing...\n"
     ]
    },
    {
     "name": "stderr",
     "output_type": "stream",
     "text": [
      "PTBTokenizer tokenized 61766 tokens at 350447.50 tokens per second.\n",
      "PTBTokenizer tokenized 11791 tokens at 109817.46 tokens per second.\n"
     ]
    },
    {
     "name": "stdout",
     "output_type": "stream",
     "text": [
      "Computing scores...\n",
      "Computing METEOR score...\n",
      "Computing CIDEr score...\n"
     ]
    },
    {
     "name": "stderr",
     "output_type": "stream",
     "text": [
      "Processing files:  74%|███████████████████████████████████████▉              | 773/1044 [32:58<11:48,  2.61s/it]"
     ]
    },
    {
     "name": "stdout",
     "output_type": "stream",
     "text": [
      "Tokenizing...\n"
     ]
    },
    {
     "name": "stderr",
     "output_type": "stream",
     "text": [
      "PTBTokenizer tokenized 61766 tokens at 331955.24 tokens per second.\n",
      "PTBTokenizer tokenized 9242 tokens at 92900.02 tokens per second.\n"
     ]
    },
    {
     "name": "stdout",
     "output_type": "stream",
     "text": [
      "Computing scores...\n",
      "Computing METEOR score...\n",
      "Computing CIDEr score...\n"
     ]
    },
    {
     "name": "stderr",
     "output_type": "stream",
     "text": [
      "Processing files:  74%|████████████████████████████████████████              | 774/1044 [33:01<11:36,  2.58s/it]"
     ]
    },
    {
     "name": "stdout",
     "output_type": "stream",
     "text": [
      "Tokenizing...\n"
     ]
    },
    {
     "name": "stderr",
     "output_type": "stream",
     "text": [
      "PTBTokenizer tokenized 61766 tokens at 327194.03 tokens per second.\n",
      "PTBTokenizer tokenized 9242 tokens at 89170.39 tokens per second.\n"
     ]
    },
    {
     "name": "stdout",
     "output_type": "stream",
     "text": [
      "Computing scores...\n",
      "Computing METEOR score...\n",
      "Computing CIDEr score...\n"
     ]
    },
    {
     "name": "stderr",
     "output_type": "stream",
     "text": [
      "Processing files:  74%|████████████████████████████████████████              | 775/1044 [33:03<11:28,  2.56s/it]"
     ]
    },
    {
     "name": "stdout",
     "output_type": "stream",
     "text": [
      "Tokenizing...\n"
     ]
    },
    {
     "name": "stderr",
     "output_type": "stream",
     "text": [
      "PTBTokenizer tokenized 61766 tokens at 354152.76 tokens per second.\n",
      "PTBTokenizer tokenized 9238 tokens at 91402.59 tokens per second.\n"
     ]
    },
    {
     "name": "stdout",
     "output_type": "stream",
     "text": [
      "Computing scores...\n",
      "Computing METEOR score...\n",
      "Computing CIDEr score...\n"
     ]
    },
    {
     "name": "stderr",
     "output_type": "stream",
     "text": [
      "Processing files:  74%|████████████████████████████████████████▏             | 776/1044 [33:06<11:08,  2.49s/it]"
     ]
    },
    {
     "name": "stdout",
     "output_type": "stream",
     "text": [
      "Tokenizing...\n"
     ]
    },
    {
     "name": "stderr",
     "output_type": "stream",
     "text": [
      "PTBTokenizer tokenized 61766 tokens at 338729.44 tokens per second.\n",
      "PTBTokenizer tokenized 9242 tokens at 87284.15 tokens per second.\n"
     ]
    },
    {
     "name": "stdout",
     "output_type": "stream",
     "text": [
      "Computing scores...\n",
      "Computing METEOR score...\n",
      "Computing CIDEr score...\n"
     ]
    },
    {
     "name": "stderr",
     "output_type": "stream",
     "text": [
      "Processing files:  74%|████████████████████████████████████████▏             | 777/1044 [33:08<11:10,  2.51s/it]"
     ]
    },
    {
     "name": "stdout",
     "output_type": "stream",
     "text": [
      "Tokenizing...\n"
     ]
    },
    {
     "name": "stderr",
     "output_type": "stream",
     "text": [
      "PTBTokenizer tokenized 61766 tokens at 341323.27 tokens per second.\n",
      "PTBTokenizer tokenized 9242 tokens at 91446.85 tokens per second.\n"
     ]
    },
    {
     "name": "stdout",
     "output_type": "stream",
     "text": [
      "Computing scores...\n",
      "Computing METEOR score...\n",
      "Computing CIDEr score...\n"
     ]
    },
    {
     "name": "stderr",
     "output_type": "stream",
     "text": [
      "Processing files:  75%|████████████████████████████████████████▏             | 778/1044 [33:11<11:07,  2.51s/it]"
     ]
    },
    {
     "name": "stdout",
     "output_type": "stream",
     "text": [
      "Tokenizing...\n"
     ]
    },
    {
     "name": "stderr",
     "output_type": "stream",
     "text": [
      "PTBTokenizer tokenized 61766 tokens at 336295.49 tokens per second.\n",
      "PTBTokenizer tokenized 8471 tokens at 86054.06 tokens per second.\n"
     ]
    },
    {
     "name": "stdout",
     "output_type": "stream",
     "text": [
      "Computing scores...\n",
      "Computing METEOR score...\n",
      "Computing CIDEr score...\n"
     ]
    },
    {
     "name": "stderr",
     "output_type": "stream",
     "text": [
      "Processing files:  75%|████████████████████████████████████████▎             | 779/1044 [33:13<10:49,  2.45s/it]"
     ]
    },
    {
     "name": "stdout",
     "output_type": "stream",
     "text": [
      "Tokenizing...\n"
     ]
    },
    {
     "name": "stderr",
     "output_type": "stream",
     "text": [
      "PTBTokenizer tokenized 61766 tokens at 341168.26 tokens per second.\n",
      "PTBTokenizer tokenized 9242 tokens at 89967.79 tokens per second.\n"
     ]
    },
    {
     "name": "stdout",
     "output_type": "stream",
     "text": [
      "Computing scores...\n",
      "Computing METEOR score...\n",
      "Computing CIDEr score...\n"
     ]
    },
    {
     "name": "stderr",
     "output_type": "stream",
     "text": [
      "Processing files:  75%|████████████████████████████████████████▎             | 780/1044 [33:16<10:43,  2.44s/it]"
     ]
    },
    {
     "name": "stdout",
     "output_type": "stream",
     "text": [
      "Tokenizing...\n"
     ]
    },
    {
     "name": "stderr",
     "output_type": "stream",
     "text": [
      "PTBTokenizer tokenized 61766 tokens at 336186.14 tokens per second.\n",
      "PTBTokenizer tokenized 9145 tokens at 88744.22 tokens per second.\n"
     ]
    },
    {
     "name": "stdout",
     "output_type": "stream",
     "text": [
      "Computing scores...\n",
      "Computing METEOR score...\n",
      "Computing CIDEr score...\n"
     ]
    },
    {
     "name": "stderr",
     "output_type": "stream",
     "text": [
      "Processing files:  75%|████████████████████████████████████████▍             | 781/1044 [33:18<10:44,  2.45s/it]"
     ]
    },
    {
     "name": "stdout",
     "output_type": "stream",
     "text": [
      "Tokenizing...\n"
     ]
    },
    {
     "name": "stderr",
     "output_type": "stream",
     "text": [
      "PTBTokenizer tokenized 61766 tokens at 339678.33 tokens per second.\n",
      "PTBTokenizer tokenized 9117 tokens at 90737.13 tokens per second.\n"
     ]
    },
    {
     "name": "stdout",
     "output_type": "stream",
     "text": [
      "Computing scores...\n",
      "Computing METEOR score...\n",
      "Computing CIDEr score...\n"
     ]
    },
    {
     "name": "stderr",
     "output_type": "stream",
     "text": [
      "Processing files:  75%|████████████████████████████████████████▍             | 782/1044 [33:21<10:49,  2.48s/it]"
     ]
    },
    {
     "name": "stdout",
     "output_type": "stream",
     "text": [
      "Tokenizing...\n"
     ]
    },
    {
     "name": "stderr",
     "output_type": "stream",
     "text": [
      "PTBTokenizer tokenized 61766 tokens at 345301.97 tokens per second.\n",
      "PTBTokenizer tokenized 9239 tokens at 90267.09 tokens per second.\n"
     ]
    },
    {
     "name": "stdout",
     "output_type": "stream",
     "text": [
      "Computing scores...\n",
      "Computing METEOR score...\n",
      "Computing CIDEr score...\n"
     ]
    },
    {
     "name": "stderr",
     "output_type": "stream",
     "text": [
      "Processing files:  75%|████████████████████████████████████████▌             | 783/1044 [33:23<10:49,  2.49s/it]"
     ]
    },
    {
     "name": "stdout",
     "output_type": "stream",
     "text": [
      "Tokenizing...\n"
     ]
    },
    {
     "name": "stderr",
     "output_type": "stream",
     "text": [
      "PTBTokenizer tokenized 61766 tokens at 335712.67 tokens per second.\n",
      "Jul 19, 2024 4:53:47 PM edu.stanford.nlp.process.PTBLexer next\n",
      "WARNING: Untokenizable: � (U+FFFD, decimal: 65533)\n",
      "PTBTokenizer tokenized 17793 tokens at 109306.20 tokens per second.\n"
     ]
    },
    {
     "name": "stdout",
     "output_type": "stream",
     "text": [
      "Computing scores...\n",
      "Computing METEOR score...\n",
      "Computing CIDEr score...\n"
     ]
    },
    {
     "name": "stderr",
     "output_type": "stream",
     "text": [
      "Processing files:  75%|████████████████████████████████████████▌             | 784/1044 [33:26<11:24,  2.63s/it]"
     ]
    },
    {
     "name": "stdout",
     "output_type": "stream",
     "text": [
      "Tokenizing...\n"
     ]
    },
    {
     "name": "stderr",
     "output_type": "stream",
     "text": [
      "PTBTokenizer tokenized 61766 tokens at 337933.45 tokens per second.\n",
      "PTBTokenizer tokenized 9098 tokens at 92540.31 tokens per second.\n"
     ]
    },
    {
     "name": "stdout",
     "output_type": "stream",
     "text": [
      "Computing scores...\n",
      "Computing METEOR score...\n",
      "Computing CIDEr score...\n"
     ]
    },
    {
     "name": "stderr",
     "output_type": "stream",
     "text": [
      "Processing files:  75%|████████████████████████████████████████▌             | 785/1044 [33:29<11:14,  2.60s/it]"
     ]
    },
    {
     "name": "stdout",
     "output_type": "stream",
     "text": [
      "Tokenizing...\n"
     ]
    },
    {
     "name": "stderr",
     "output_type": "stream",
     "text": [
      "PTBTokenizer tokenized 61766 tokens at 346269.17 tokens per second.\n",
      "PTBTokenizer tokenized 7104 tokens at 75695.72 tokens per second.\n"
     ]
    },
    {
     "name": "stdout",
     "output_type": "stream",
     "text": [
      "Computing scores...\n",
      "Computing METEOR score...\n",
      "Computing CIDEr score...\n"
     ]
    },
    {
     "name": "stderr",
     "output_type": "stream",
     "text": [
      "Processing files:  75%|████████████████████████████████████████▋             | 786/1044 [33:31<10:55,  2.54s/it]"
     ]
    },
    {
     "name": "stdout",
     "output_type": "stream",
     "text": [
      "Tokenizing...\n"
     ]
    },
    {
     "name": "stderr",
     "output_type": "stream",
     "text": [
      "PTBTokenizer tokenized 61766 tokens at 348821.25 tokens per second.\n",
      "PTBTokenizer tokenized 9239 tokens at 92579.94 tokens per second.\n"
     ]
    },
    {
     "name": "stdout",
     "output_type": "stream",
     "text": [
      "Computing scores...\n",
      "Computing METEOR score...\n",
      "Computing CIDEr score...\n"
     ]
    },
    {
     "name": "stderr",
     "output_type": "stream",
     "text": [
      "Processing files:  75%|████████████████████████████████████████▋             | 787/1044 [33:34<10:50,  2.53s/it]"
     ]
    },
    {
     "name": "stdout",
     "output_type": "stream",
     "text": [
      "Tokenizing...\n"
     ]
    },
    {
     "name": "stderr",
     "output_type": "stream",
     "text": [
      "PTBTokenizer tokenized 61766 tokens at 349079.45 tokens per second.\n",
      "PTBTokenizer tokenized 9116 tokens at 85351.56 tokens per second.\n"
     ]
    },
    {
     "name": "stdout",
     "output_type": "stream",
     "text": [
      "Computing scores...\n",
      "Computing METEOR score...\n",
      "Computing CIDEr score...\n"
     ]
    },
    {
     "name": "stderr",
     "output_type": "stream",
     "text": [
      "Processing files:  75%|████████████████████████████████████████▊             | 788/1044 [33:36<10:39,  2.50s/it]"
     ]
    },
    {
     "name": "stdout",
     "output_type": "stream",
     "text": [
      "Tokenizing...\n"
     ]
    },
    {
     "name": "stderr",
     "output_type": "stream",
     "text": [
      "PTBTokenizer tokenized 61766 tokens at 354344.31 tokens per second.\n",
      "PTBTokenizer tokenized 9217 tokens at 91301.15 tokens per second.\n"
     ]
    },
    {
     "name": "stdout",
     "output_type": "stream",
     "text": [
      "Computing scores...\n",
      "Computing METEOR score...\n",
      "Computing CIDEr score...\n"
     ]
    },
    {
     "name": "stderr",
     "output_type": "stream",
     "text": [
      "Processing files:  76%|████████████████████████████████████████▊             | 789/1044 [33:39<10:39,  2.51s/it]"
     ]
    },
    {
     "name": "stdout",
     "output_type": "stream",
     "text": [
      "Tokenizing...\n"
     ]
    },
    {
     "name": "stderr",
     "output_type": "stream",
     "text": [
      "PTBTokenizer tokenized 61766 tokens at 368255.11 tokens per second.\n",
      "PTBTokenizer tokenized 7104 tokens at 74761.86 tokens per second.\n"
     ]
    },
    {
     "name": "stdout",
     "output_type": "stream",
     "text": [
      "Computing scores...\n",
      "Computing METEOR score...\n",
      "Computing CIDEr score...\n"
     ]
    },
    {
     "name": "stderr",
     "output_type": "stream",
     "text": [
      "Processing files:  76%|████████████████████████████████████████▊             | 790/1044 [33:41<10:27,  2.47s/it]"
     ]
    },
    {
     "name": "stdout",
     "output_type": "stream",
     "text": [
      "Tokenizing...\n"
     ]
    },
    {
     "name": "stderr",
     "output_type": "stream",
     "text": [
      "PTBTokenizer tokenized 61766 tokens at 332545.63 tokens per second.\n",
      "PTBTokenizer tokenized 9105 tokens at 88919.96 tokens per second.\n"
     ]
    },
    {
     "name": "stdout",
     "output_type": "stream",
     "text": [
      "Computing scores...\n",
      "Computing METEOR score...\n",
      "Computing CIDEr score...\n"
     ]
    },
    {
     "name": "stderr",
     "output_type": "stream",
     "text": [
      "Processing files:  76%|████████████████████████████████████████▉             | 791/1044 [33:43<10:23,  2.47s/it]"
     ]
    },
    {
     "name": "stdout",
     "output_type": "stream",
     "text": [
      "Tokenizing...\n"
     ]
    },
    {
     "name": "stderr",
     "output_type": "stream",
     "text": [
      "PTBTokenizer tokenized 61766 tokens at 342463.87 tokens per second.\n",
      "PTBTokenizer tokenized 9231 tokens at 90472.31 tokens per second.\n"
     ]
    },
    {
     "name": "stdout",
     "output_type": "stream",
     "text": [
      "Computing scores...\n",
      "Computing METEOR score...\n",
      "Computing CIDEr score...\n"
     ]
    },
    {
     "name": "stderr",
     "output_type": "stream",
     "text": [
      "Processing files:  76%|████████████████████████████████████████▉             | 792/1044 [33:46<10:28,  2.50s/it]"
     ]
    },
    {
     "name": "stdout",
     "output_type": "stream",
     "text": [
      "Tokenizing...\n"
     ]
    },
    {
     "name": "stderr",
     "output_type": "stream",
     "text": [
      "PTBTokenizer tokenized 61766 tokens at 346092.31 tokens per second.\n",
      "PTBTokenizer tokenized 9234 tokens at 92756.99 tokens per second.\n"
     ]
    },
    {
     "name": "stdout",
     "output_type": "stream",
     "text": [
      "Computing scores...\n",
      "Computing METEOR score...\n",
      "Computing CIDEr score...\n"
     ]
    },
    {
     "name": "stderr",
     "output_type": "stream",
     "text": [
      "Processing files:  76%|█████████████████████████████████████████             | 793/1044 [33:48<10:22,  2.48s/it]"
     ]
    },
    {
     "name": "stdout",
     "output_type": "stream",
     "text": [
      "Tokenizing...\n"
     ]
    },
    {
     "name": "stderr",
     "output_type": "stream",
     "text": [
      "PTBTokenizer tokenized 61766 tokens at 343572.49 tokens per second.\n",
      "Jul 19, 2024 4:54:12 PM edu.stanford.nlp.process.PTBLexer next\n",
      "WARNING: Untokenizable: � (U+FFFD, decimal: 65533)\n",
      "PTBTokenizer tokenized 10057 tokens at 51746.71 tokens per second.\n"
     ]
    },
    {
     "name": "stdout",
     "output_type": "stream",
     "text": [
      "Computing scores...\n",
      "Computing METEOR score...\n",
      "Computing CIDEr score...\n"
     ]
    },
    {
     "name": "stderr",
     "output_type": "stream",
     "text": [
      "Processing files:  76%|█████████████████████████████████████████             | 794/1044 [33:51<10:08,  2.43s/it]"
     ]
    },
    {
     "name": "stdout",
     "output_type": "stream",
     "text": [
      "Tokenizing...\n"
     ]
    },
    {
     "name": "stderr",
     "output_type": "stream",
     "text": [
      "PTBTokenizer tokenized 61766 tokens at 344562.48 tokens per second.\n",
      "PTBTokenizer tokenized 9025 tokens at 87695.03 tokens per second.\n"
     ]
    },
    {
     "name": "stdout",
     "output_type": "stream",
     "text": [
      "Computing scores...\n",
      "Computing METEOR score...\n",
      "Computing CIDEr score...\n"
     ]
    },
    {
     "name": "stderr",
     "output_type": "stream",
     "text": [
      "Processing files:  76%|█████████████████████████████████████████             | 795/1044 [33:53<10:12,  2.46s/it]"
     ]
    },
    {
     "name": "stdout",
     "output_type": "stream",
     "text": [
      "Tokenizing...\n"
     ]
    },
    {
     "name": "stderr",
     "output_type": "stream",
     "text": [
      "PTBTokenizer tokenized 61766 tokens at 341407.91 tokens per second.\n",
      "Jul 19, 2024 4:54:17 PM edu.stanford.nlp.process.PTBLexer next\n",
      "WARNING: Untokenizable: � (U+FFFD, decimal: 65533)\n",
      "PTBTokenizer tokenized 8505 tokens at 49839.76 tokens per second.\n"
     ]
    },
    {
     "name": "stdout",
     "output_type": "stream",
     "text": [
      "Computing scores...\n",
      "Computing METEOR score...\n",
      "Computing CIDEr score...\n"
     ]
    },
    {
     "name": "stderr",
     "output_type": "stream",
     "text": [
      "Processing files:  76%|█████████████████████████████████████████▏            | 796/1044 [33:56<10:01,  2.42s/it]"
     ]
    },
    {
     "name": "stdout",
     "output_type": "stream",
     "text": [
      "Tokenizing...\n"
     ]
    },
    {
     "name": "stderr",
     "output_type": "stream",
     "text": [
      "PTBTokenizer tokenized 61766 tokens at 334760.45 tokens per second.\n",
      "PTBTokenizer tokenized 9242 tokens at 86306.74 tokens per second.\n"
     ]
    },
    {
     "name": "stdout",
     "output_type": "stream",
     "text": [
      "Computing scores...\n",
      "Computing METEOR score...\n",
      "Computing CIDEr score...\n"
     ]
    },
    {
     "name": "stderr",
     "output_type": "stream",
     "text": [
      "Processing files:  76%|█████████████████████████████████████████▏            | 797/1044 [33:58<10:03,  2.44s/it]"
     ]
    },
    {
     "name": "stdout",
     "output_type": "stream",
     "text": [
      "Tokenizing...\n"
     ]
    },
    {
     "name": "stderr",
     "output_type": "stream",
     "text": [
      "PTBTokenizer tokenized 61766 tokens at 336063.67 tokens per second.\n",
      "PTBTokenizer tokenized 9233 tokens at 95260.23 tokens per second.\n"
     ]
    },
    {
     "name": "stdout",
     "output_type": "stream",
     "text": [
      "Computing scores...\n",
      "Computing METEOR score...\n",
      "Computing CIDEr score...\n"
     ]
    },
    {
     "name": "stderr",
     "output_type": "stream",
     "text": [
      "Processing files:  76%|█████████████████████████████████████████▎            | 798/1044 [34:01<10:04,  2.46s/it]"
     ]
    },
    {
     "name": "stdout",
     "output_type": "stream",
     "text": [
      "Tokenizing...\n"
     ]
    },
    {
     "name": "stderr",
     "output_type": "stream",
     "text": [
      "PTBTokenizer tokenized 61766 tokens at 342949.71 tokens per second.\n",
      "PTBTokenizer tokenized 8990 tokens at 90564.58 tokens per second.\n"
     ]
    },
    {
     "name": "stdout",
     "output_type": "stream",
     "text": [
      "Computing scores...\n",
      "Computing METEOR score...\n",
      "Computing CIDEr score...\n"
     ]
    },
    {
     "name": "stderr",
     "output_type": "stream",
     "text": [
      "Processing files:  77%|█████████████████████████████████████████▎            | 799/1044 [34:03<10:09,  2.49s/it]"
     ]
    },
    {
     "name": "stdout",
     "output_type": "stream",
     "text": [
      "Tokenizing...\n"
     ]
    },
    {
     "name": "stderr",
     "output_type": "stream",
     "text": [
      "PTBTokenizer tokenized 61766 tokens at 366079.50 tokens per second.\n",
      "PTBTokenizer tokenized 9242 tokens at 90336.60 tokens per second.\n"
     ]
    },
    {
     "name": "stdout",
     "output_type": "stream",
     "text": [
      "Computing scores...\n",
      "Computing METEOR score...\n",
      "Computing CIDEr score...\n"
     ]
    },
    {
     "name": "stderr",
     "output_type": "stream",
     "text": [
      "Processing files:  77%|█████████████████████████████████████████▍            | 800/1044 [34:06<10:03,  2.47s/it]"
     ]
    },
    {
     "name": "stdout",
     "output_type": "stream",
     "text": [
      "Tokenizing...\n"
     ]
    },
    {
     "name": "stderr",
     "output_type": "stream",
     "text": [
      "PTBTokenizer tokenized 61766 tokens at 344624.89 tokens per second.\n",
      "Jul 19, 2024 4:54:29 PM edu.stanford.nlp.process.PTBLexer next\n",
      "WARNING: Untokenizable: � (U+FFFD, decimal: 65533)\n",
      "PTBTokenizer tokenized 8573 tokens at 50129.88 tokens per second.\n"
     ]
    },
    {
     "name": "stdout",
     "output_type": "stream",
     "text": [
      "Computing scores...\n",
      "Computing METEOR score...\n",
      "Computing CIDEr score...\n"
     ]
    },
    {
     "name": "stderr",
     "output_type": "stream",
     "text": [
      "Processing files:  77%|█████████████████████████████████████████▍            | 801/1044 [34:08<09:48,  2.42s/it]"
     ]
    },
    {
     "name": "stdout",
     "output_type": "stream",
     "text": [
      "Tokenizing...\n"
     ]
    },
    {
     "name": "stderr",
     "output_type": "stream",
     "text": [
      "PTBTokenizer tokenized 61766 tokens at 340088.56 tokens per second.\n",
      "PTBTokenizer tokenized 9242 tokens at 89733.56 tokens per second.\n"
     ]
    },
    {
     "name": "stdout",
     "output_type": "stream",
     "text": [
      "Computing scores...\n",
      "Computing METEOR score...\n",
      "Computing CIDEr score...\n"
     ]
    },
    {
     "name": "stderr",
     "output_type": "stream",
     "text": [
      "Processing files:  77%|█████████████████████████████████████████▍            | 802/1044 [34:10<09:48,  2.43s/it]"
     ]
    },
    {
     "name": "stdout",
     "output_type": "stream",
     "text": [
      "Tokenizing...\n"
     ]
    },
    {
     "name": "stderr",
     "output_type": "stream",
     "text": [
      "PTBTokenizer tokenized 61766 tokens at 359729.68 tokens per second.\n",
      "PTBTokenizer tokenized 9242 tokens at 92021.35 tokens per second.\n"
     ]
    },
    {
     "name": "stdout",
     "output_type": "stream",
     "text": [
      "Computing scores...\n",
      "Computing METEOR score...\n",
      "Computing CIDEr score...\n"
     ]
    },
    {
     "name": "stderr",
     "output_type": "stream",
     "text": [
      "Processing files:  77%|█████████████████████████████████████████▌            | 803/1044 [34:13<09:47,  2.44s/it]"
     ]
    },
    {
     "name": "stdout",
     "output_type": "stream",
     "text": [
      "Tokenizing...\n"
     ]
    },
    {
     "name": "stderr",
     "output_type": "stream",
     "text": [
      "PTBTokenizer tokenized 61766 tokens at 339654.63 tokens per second.\n",
      "PTBTokenizer tokenized 8050 tokens at 83722.78 tokens per second.\n"
     ]
    },
    {
     "name": "stdout",
     "output_type": "stream",
     "text": [
      "Computing scores...\n",
      "Computing METEOR score...\n",
      "Computing CIDEr score...\n"
     ]
    },
    {
     "name": "stderr",
     "output_type": "stream",
     "text": [
      "Processing files:  77%|█████████████████████████████████████████▌            | 804/1044 [34:15<09:41,  2.42s/it]"
     ]
    },
    {
     "name": "stdout",
     "output_type": "stream",
     "text": [
      "Tokenizing...\n"
     ]
    },
    {
     "name": "stderr",
     "output_type": "stream",
     "text": [
      "PTBTokenizer tokenized 61766 tokens at 356575.63 tokens per second.\n",
      "PTBTokenizer tokenized 9242 tokens at 92956.24 tokens per second.\n"
     ]
    },
    {
     "name": "stdout",
     "output_type": "stream",
     "text": [
      "Computing scores...\n",
      "Computing METEOR score...\n",
      "Computing CIDEr score...\n"
     ]
    },
    {
     "name": "stderr",
     "output_type": "stream",
     "text": [
      "Processing files:  77%|█████████████████████████████████████████▋            | 805/1044 [34:17<09:35,  2.41s/it]"
     ]
    },
    {
     "name": "stdout",
     "output_type": "stream",
     "text": [
      "Tokenizing...\n"
     ]
    },
    {
     "name": "stderr",
     "output_type": "stream",
     "text": [
      "PTBTokenizer tokenized 61766 tokens at 350629.92 tokens per second.\n",
      "PTBTokenizer tokenized 7104 tokens at 74742.44 tokens per second.\n"
     ]
    },
    {
     "name": "stdout",
     "output_type": "stream",
     "text": [
      "Computing scores...\n",
      "Computing METEOR score...\n",
      "Computing CIDEr score...\n"
     ]
    },
    {
     "name": "stderr",
     "output_type": "stream",
     "text": [
      "Processing files:  77%|█████████████████████████████████████████▋            | 806/1044 [34:20<09:27,  2.38s/it]"
     ]
    },
    {
     "name": "stdout",
     "output_type": "stream",
     "text": [
      "Tokenizing...\n"
     ]
    },
    {
     "name": "stderr",
     "output_type": "stream",
     "text": [
      "PTBTokenizer tokenized 61766 tokens at 343653.84 tokens per second.\n",
      "PTBTokenizer tokenized 8053 tokens at 85105.20 tokens per second.\n"
     ]
    },
    {
     "name": "stdout",
     "output_type": "stream",
     "text": [
      "Computing scores...\n",
      "Computing METEOR score...\n",
      "Computing CIDEr score...\n"
     ]
    },
    {
     "name": "stderr",
     "output_type": "stream",
     "text": [
      "Processing files:  77%|█████████████████████████████████████████▋            | 807/1044 [34:22<09:34,  2.42s/it]"
     ]
    },
    {
     "name": "stdout",
     "output_type": "stream",
     "text": [
      "Tokenizing...\n"
     ]
    },
    {
     "name": "stderr",
     "output_type": "stream",
     "text": [
      "PTBTokenizer tokenized 61766 tokens at 313653.31 tokens per second.\n",
      "PTBTokenizer tokenized 9151 tokens at 90017.35 tokens per second.\n"
     ]
    },
    {
     "name": "stdout",
     "output_type": "stream",
     "text": [
      "Computing scores...\n",
      "Computing METEOR score...\n",
      "Computing CIDEr score...\n"
     ]
    },
    {
     "name": "stderr",
     "output_type": "stream",
     "text": [
      "Processing files:  77%|█████████████████████████████████████████▊            | 808/1044 [34:25<09:36,  2.44s/it]"
     ]
    },
    {
     "name": "stdout",
     "output_type": "stream",
     "text": [
      "Tokenizing...\n"
     ]
    },
    {
     "name": "stderr",
     "output_type": "stream",
     "text": [
      "PTBTokenizer tokenized 61766 tokens at 363288.60 tokens per second.\n",
      "PTBTokenizer tokenized 9242 tokens at 91581.15 tokens per second.\n"
     ]
    },
    {
     "name": "stdout",
     "output_type": "stream",
     "text": [
      "Computing scores...\n",
      "Computing METEOR score...\n",
      "Computing CIDEr score...\n"
     ]
    },
    {
     "name": "stderr",
     "output_type": "stream",
     "text": [
      "Processing files:  77%|█████████████████████████████████████████▊            | 809/1044 [34:27<09:27,  2.41s/it]"
     ]
    },
    {
     "name": "stdout",
     "output_type": "stream",
     "text": [
      "Tokenizing...\n"
     ]
    },
    {
     "name": "stderr",
     "output_type": "stream",
     "text": [
      "PTBTokenizer tokenized 61766 tokens at 332510.81 tokens per second.\n",
      "PTBTokenizer tokenized 9242 tokens at 88846.63 tokens per second.\n"
     ]
    },
    {
     "name": "stdout",
     "output_type": "stream",
     "text": [
      "Computing scores...\n",
      "Computing METEOR score...\n",
      "Computing CIDEr score...\n"
     ]
    },
    {
     "name": "stderr",
     "output_type": "stream",
     "text": [
      "Processing files:  78%|█████████████████████████████████████████▉            | 810/1044 [34:30<09:31,  2.44s/it]"
     ]
    },
    {
     "name": "stdout",
     "output_type": "stream",
     "text": [
      "Tokenizing...\n"
     ]
    },
    {
     "name": "stderr",
     "output_type": "stream",
     "text": [
      "PTBTokenizer tokenized 61766 tokens at 341321.86 tokens per second.\n",
      "PTBTokenizer tokenized 9066 tokens at 90222.69 tokens per second.\n"
     ]
    },
    {
     "name": "stdout",
     "output_type": "stream",
     "text": [
      "Computing scores...\n",
      "Computing METEOR score...\n",
      "Computing CIDEr score...\n"
     ]
    },
    {
     "name": "stderr",
     "output_type": "stream",
     "text": [
      "Processing files:  78%|█████████████████████████████████████████▉            | 811/1044 [34:32<09:28,  2.44s/it]"
     ]
    },
    {
     "name": "stdout",
     "output_type": "stream",
     "text": [
      "Tokenizing...\n"
     ]
    },
    {
     "name": "stderr",
     "output_type": "stream",
     "text": [
      "PTBTokenizer tokenized 61766 tokens at 365430.13 tokens per second.\n",
      "PTBTokenizer tokenized 9242 tokens at 92846.24 tokens per second.\n"
     ]
    },
    {
     "name": "stdout",
     "output_type": "stream",
     "text": [
      "Computing scores...\n",
      "Computing METEOR score...\n",
      "Computing CIDEr score...\n"
     ]
    },
    {
     "name": "stderr",
     "output_type": "stream",
     "text": [
      "Processing files:  78%|██████████████████████████████████████████            | 812/1044 [34:35<09:31,  2.46s/it]"
     ]
    },
    {
     "name": "stdout",
     "output_type": "stream",
     "text": [
      "Tokenizing...\n"
     ]
    },
    {
     "name": "stderr",
     "output_type": "stream",
     "text": [
      "PTBTokenizer tokenized 61766 tokens at 352398.87 tokens per second.\n",
      "PTBTokenizer tokenized 9152 tokens at 89794.75 tokens per second.\n"
     ]
    },
    {
     "name": "stdout",
     "output_type": "stream",
     "text": [
      "Computing scores...\n",
      "Computing METEOR score...\n",
      "Computing CIDEr score...\n"
     ]
    },
    {
     "name": "stderr",
     "output_type": "stream",
     "text": [
      "Processing files:  78%|██████████████████████████████████████████            | 813/1044 [34:37<09:21,  2.43s/it]"
     ]
    },
    {
     "name": "stdout",
     "output_type": "stream",
     "text": [
      "Tokenizing...\n"
     ]
    },
    {
     "name": "stderr",
     "output_type": "stream",
     "text": [
      "PTBTokenizer tokenized 61766 tokens at 338753.70 tokens per second.\n",
      "PTBTokenizer tokenized 9376 tokens at 93422.18 tokens per second.\n"
     ]
    },
    {
     "name": "stdout",
     "output_type": "stream",
     "text": [
      "Computing scores...\n",
      "Computing METEOR score...\n",
      "Computing CIDEr score...\n"
     ]
    },
    {
     "name": "stderr",
     "output_type": "stream",
     "text": [
      "Processing files:  78%|██████████████████████████████████████████            | 814/1044 [34:39<09:25,  2.46s/it]"
     ]
    },
    {
     "name": "stdout",
     "output_type": "stream",
     "text": [
      "Tokenizing...\n"
     ]
    },
    {
     "name": "stderr",
     "output_type": "stream",
     "text": [
      "PTBTokenizer tokenized 61766 tokens at 338123.05 tokens per second.\n",
      "PTBTokenizer tokenized 8055 tokens at 81066.80 tokens per second.\n"
     ]
    },
    {
     "name": "stdout",
     "output_type": "stream",
     "text": [
      "Computing scores...\n",
      "Computing METEOR score...\n",
      "Computing CIDEr score...\n"
     ]
    },
    {
     "name": "stderr",
     "output_type": "stream",
     "text": [
      "Processing files:  78%|██████████████████████████████████████████▏           | 815/1044 [34:42<09:14,  2.42s/it]"
     ]
    },
    {
     "name": "stdout",
     "output_type": "stream",
     "text": [
      "Tokenizing...\n"
     ]
    },
    {
     "name": "stderr",
     "output_type": "stream",
     "text": [
      "PTBTokenizer tokenized 61766 tokens at 352058.37 tokens per second.\n",
      "PTBTokenizer tokenized 9259 tokens at 92338.39 tokens per second.\n"
     ]
    },
    {
     "name": "stdout",
     "output_type": "stream",
     "text": [
      "Computing scores...\n",
      "Computing METEOR score...\n",
      "Computing CIDEr score...\n"
     ]
    },
    {
     "name": "stderr",
     "output_type": "stream",
     "text": [
      "Processing files:  78%|██████████████████████████████████████████▏           | 816/1044 [34:44<09:23,  2.47s/it]"
     ]
    },
    {
     "name": "stdout",
     "output_type": "stream",
     "text": [
      "Tokenizing...\n"
     ]
    },
    {
     "name": "stderr",
     "output_type": "stream",
     "text": [
      "PTBTokenizer tokenized 61766 tokens at 362721.28 tokens per second.\n",
      "PTBTokenizer tokenized 7540 tokens at 72035.23 tokens per second.\n"
     ]
    },
    {
     "name": "stdout",
     "output_type": "stream",
     "text": [
      "Computing scores...\n",
      "Computing METEOR score...\n",
      "Computing CIDEr score...\n"
     ]
    },
    {
     "name": "stderr",
     "output_type": "stream",
     "text": [
      "Processing files:  78%|██████████████████████████████████████████▎           | 817/1044 [34:47<09:12,  2.43s/it]"
     ]
    },
    {
     "name": "stdout",
     "output_type": "stream",
     "text": [
      "Tokenizing...\n"
     ]
    },
    {
     "name": "stderr",
     "output_type": "stream",
     "text": [
      "PTBTokenizer tokenized 61766 tokens at 348184.41 tokens per second.\n",
      "PTBTokenizer tokenized 8458 tokens at 79062.51 tokens per second.\n"
     ]
    },
    {
     "name": "stdout",
     "output_type": "stream",
     "text": [
      "Computing scores...\n",
      "Computing METEOR score...\n",
      "Computing CIDEr score...\n"
     ]
    },
    {
     "name": "stderr",
     "output_type": "stream",
     "text": [
      "Processing files:  78%|██████████████████████████████████████████▎           | 818/1044 [34:49<09:07,  2.42s/it]"
     ]
    },
    {
     "name": "stdout",
     "output_type": "stream",
     "text": [
      "Tokenizing...\n"
     ]
    },
    {
     "name": "stderr",
     "output_type": "stream",
     "text": [
      "PTBTokenizer tokenized 61766 tokens at 336568.36 tokens per second.\n",
      "PTBTokenizer tokenized 7982 tokens at 79762.12 tokens per second.\n"
     ]
    },
    {
     "name": "stdout",
     "output_type": "stream",
     "text": [
      "Computing scores...\n",
      "Computing METEOR score...\n",
      "Computing CIDEr score...\n"
     ]
    },
    {
     "name": "stderr",
     "output_type": "stream",
     "text": [
      "Processing files:  78%|██████████████████████████████████████████▎           | 819/1044 [34:52<09:03,  2.42s/it]"
     ]
    },
    {
     "name": "stdout",
     "output_type": "stream",
     "text": [
      "Tokenizing...\n"
     ]
    },
    {
     "name": "stderr",
     "output_type": "stream",
     "text": [
      "PTBTokenizer tokenized 61766 tokens at 329214.98 tokens per second.\n",
      "PTBTokenizer tokenized 9242 tokens at 90031.45 tokens per second.\n"
     ]
    },
    {
     "name": "stdout",
     "output_type": "stream",
     "text": [
      "Computing scores...\n",
      "Computing METEOR score...\n",
      "Computing CIDEr score...\n"
     ]
    },
    {
     "name": "stderr",
     "output_type": "stream",
     "text": [
      "Processing files:  79%|██████████████████████████████████████████▍           | 820/1044 [34:54<08:57,  2.40s/it]"
     ]
    },
    {
     "name": "stdout",
     "output_type": "stream",
     "text": [
      "Tokenizing...\n"
     ]
    },
    {
     "name": "stderr",
     "output_type": "stream",
     "text": [
      "PTBTokenizer tokenized 61766 tokens at 343727.61 tokens per second.\n",
      "PTBTokenizer tokenized 9227 tokens at 86381.89 tokens per second.\n"
     ]
    },
    {
     "name": "stdout",
     "output_type": "stream",
     "text": [
      "Computing scores...\n",
      "Computing METEOR score...\n",
      "Computing CIDEr score...\n"
     ]
    },
    {
     "name": "stderr",
     "output_type": "stream",
     "text": [
      "Processing files:  79%|██████████████████████████████████████████▍           | 821/1044 [34:56<08:59,  2.42s/it]"
     ]
    },
    {
     "name": "stdout",
     "output_type": "stream",
     "text": [
      "Tokenizing...\n"
     ]
    },
    {
     "name": "stderr",
     "output_type": "stream",
     "text": [
      "PTBTokenizer tokenized 61766 tokens at 312006.33 tokens per second.\n",
      "PTBTokenizer tokenized 9229 tokens at 89833.69 tokens per second.\n"
     ]
    },
    {
     "name": "stdout",
     "output_type": "stream",
     "text": [
      "Computing scores...\n",
      "Computing METEOR score...\n",
      "Computing CIDEr score...\n"
     ]
    },
    {
     "name": "stderr",
     "output_type": "stream",
     "text": [
      "Processing files:  79%|██████████████████████████████████████████▌           | 822/1044 [34:59<09:03,  2.45s/it]"
     ]
    },
    {
     "name": "stdout",
     "output_type": "stream",
     "text": [
      "Tokenizing...\n"
     ]
    },
    {
     "name": "stderr",
     "output_type": "stream",
     "text": [
      "PTBTokenizer tokenized 61766 tokens at 345018.83 tokens per second.\n",
      "PTBTokenizer tokenized 7847 tokens at 79305.60 tokens per second.\n"
     ]
    },
    {
     "name": "stdout",
     "output_type": "stream",
     "text": [
      "Computing scores...\n",
      "Computing METEOR score...\n",
      "Computing CIDEr score...\n"
     ]
    },
    {
     "name": "stderr",
     "output_type": "stream",
     "text": [
      "Processing files:  79%|██████████████████████████████████████████▌           | 823/1044 [35:01<08:55,  2.42s/it]"
     ]
    },
    {
     "name": "stdout",
     "output_type": "stream",
     "text": [
      "Tokenizing...\n"
     ]
    },
    {
     "name": "stderr",
     "output_type": "stream",
     "text": [
      "PTBTokenizer tokenized 61766 tokens at 337838.55 tokens per second.\n",
      "PTBTokenizer tokenized 8482 tokens at 88064.65 tokens per second.\n"
     ]
    },
    {
     "name": "stdout",
     "output_type": "stream",
     "text": [
      "Computing scores...\n",
      "Computing METEOR score...\n",
      "Computing CIDEr score...\n"
     ]
    },
    {
     "name": "stderr",
     "output_type": "stream",
     "text": [
      "Processing files:  79%|██████████████████████████████████████████▌           | 824/1044 [35:04<08:56,  2.44s/it]"
     ]
    },
    {
     "name": "stdout",
     "output_type": "stream",
     "text": [
      "Tokenizing...\n"
     ]
    },
    {
     "name": "stderr",
     "output_type": "stream",
     "text": [
      "PTBTokenizer tokenized 61766 tokens at 332860.76 tokens per second.\n",
      "PTBTokenizer tokenized 9225 tokens at 89505.22 tokens per second.\n"
     ]
    },
    {
     "name": "stdout",
     "output_type": "stream",
     "text": [
      "Computing scores...\n",
      "Computing METEOR score...\n",
      "Computing CIDEr score...\n"
     ]
    },
    {
     "name": "stderr",
     "output_type": "stream",
     "text": [
      "Processing files:  79%|██████████████████████████████████████████▋           | 825/1044 [35:06<08:51,  2.43s/it]"
     ]
    },
    {
     "name": "stdout",
     "output_type": "stream",
     "text": [
      "Tokenizing...\n"
     ]
    },
    {
     "name": "stderr",
     "output_type": "stream",
     "text": [
      "PTBTokenizer tokenized 61766 tokens at 337797.24 tokens per second.\n",
      "PTBTokenizer tokenized 9242 tokens at 93897.78 tokens per second.\n"
     ]
    },
    {
     "name": "stdout",
     "output_type": "stream",
     "text": [
      "Computing scores...\n",
      "Computing METEOR score...\n",
      "Computing CIDEr score...\n"
     ]
    },
    {
     "name": "stderr",
     "output_type": "stream",
     "text": [
      "Processing files:  79%|██████████████████████████████████████████▋           | 826/1044 [35:09<08:58,  2.47s/it]"
     ]
    },
    {
     "name": "stdout",
     "output_type": "stream",
     "text": [
      "Tokenizing...\n"
     ]
    },
    {
     "name": "stderr",
     "output_type": "stream",
     "text": [
      "PTBTokenizer tokenized 61766 tokens at 345891.43 tokens per second.\n",
      "PTBTokenizer tokenized 12256 tokens at 109145.21 tokens per second.\n"
     ]
    },
    {
     "name": "stdout",
     "output_type": "stream",
     "text": [
      "Computing scores...\n",
      "Computing METEOR score...\n",
      "Computing CIDEr score...\n"
     ]
    },
    {
     "name": "stderr",
     "output_type": "stream",
     "text": [
      "Processing files:  79%|██████████████████████████████████████████▊           | 827/1044 [35:11<09:12,  2.55s/it]"
     ]
    },
    {
     "name": "stdout",
     "output_type": "stream",
     "text": [
      "Tokenizing...\n"
     ]
    },
    {
     "name": "stderr",
     "output_type": "stream",
     "text": [
      "PTBTokenizer tokenized 61766 tokens at 343290.27 tokens per second.\n",
      "PTBTokenizer tokenized 9088 tokens at 86937.67 tokens per second.\n"
     ]
    },
    {
     "name": "stdout",
     "output_type": "stream",
     "text": [
      "Computing scores...\n",
      "Computing METEOR score...\n",
      "Computing CIDEr score...\n"
     ]
    },
    {
     "name": "stderr",
     "output_type": "stream",
     "text": [
      "Processing files:  79%|██████████████████████████████████████████▊           | 828/1044 [35:14<09:01,  2.51s/it]"
     ]
    },
    {
     "name": "stdout",
     "output_type": "stream",
     "text": [
      "Tokenizing...\n"
     ]
    },
    {
     "name": "stderr",
     "output_type": "stream",
     "text": [
      "PTBTokenizer tokenized 61766 tokens at 328747.52 tokens per second.\n",
      "PTBTokenizer tokenized 9235 tokens at 86675.09 tokens per second.\n"
     ]
    },
    {
     "name": "stdout",
     "output_type": "stream",
     "text": [
      "Computing scores...\n",
      "Computing METEOR score...\n",
      "Computing CIDEr score...\n"
     ]
    },
    {
     "name": "stderr",
     "output_type": "stream",
     "text": [
      "Processing files:  79%|██████████████████████████████████████████▉           | 829/1044 [35:16<09:02,  2.52s/it]"
     ]
    },
    {
     "name": "stdout",
     "output_type": "stream",
     "text": [
      "Tokenizing...\n"
     ]
    },
    {
     "name": "stderr",
     "output_type": "stream",
     "text": [
      "PTBTokenizer tokenized 61766 tokens at 354807.46 tokens per second.\n",
      "PTBTokenizer tokenized 8050 tokens at 79871.65 tokens per second.\n"
     ]
    },
    {
     "name": "stdout",
     "output_type": "stream",
     "text": [
      "Computing scores...\n",
      "Computing METEOR score...\n",
      "Computing CIDEr score...\n"
     ]
    },
    {
     "name": "stderr",
     "output_type": "stream",
     "text": [
      "Processing files:  80%|██████████████████████████████████████████▉           | 830/1044 [35:19<08:46,  2.46s/it]"
     ]
    },
    {
     "name": "stdout",
     "output_type": "stream",
     "text": [
      "Tokenizing...\n"
     ]
    },
    {
     "name": "stderr",
     "output_type": "stream",
     "text": [
      "PTBTokenizer tokenized 61766 tokens at 359395.50 tokens per second.\n",
      "PTBTokenizer tokenized 6681 tokens at 62125.14 tokens per second.\n"
     ]
    },
    {
     "name": "stdout",
     "output_type": "stream",
     "text": [
      "Computing scores...\n",
      "Computing METEOR score...\n",
      "Computing CIDEr score...\n"
     ]
    },
    {
     "name": "stderr",
     "output_type": "stream",
     "text": [
      "Processing files:  80%|██████████████████████████████████████████▉           | 831/1044 [35:21<08:31,  2.40s/it]"
     ]
    },
    {
     "name": "stdout",
     "output_type": "stream",
     "text": [
      "Tokenizing...\n"
     ]
    },
    {
     "name": "stderr",
     "output_type": "stream",
     "text": [
      "PTBTokenizer tokenized 61766 tokens at 344860.14 tokens per second.\n",
      "PTBTokenizer tokenized 9169 tokens at 89337.95 tokens per second.\n"
     ]
    },
    {
     "name": "stdout",
     "output_type": "stream",
     "text": [
      "Computing scores...\n",
      "Computing METEOR score...\n",
      "Computing CIDEr score...\n"
     ]
    },
    {
     "name": "stderr",
     "output_type": "stream",
     "text": [
      "Processing files:  80%|███████████████████████████████████████████           | 832/1044 [35:24<08:35,  2.43s/it]"
     ]
    },
    {
     "name": "stdout",
     "output_type": "stream",
     "text": [
      "Tokenizing...\n"
     ]
    },
    {
     "name": "stderr",
     "output_type": "stream",
     "text": [
      "PTBTokenizer tokenized 61766 tokens at 334948.10 tokens per second.\n",
      "PTBTokenizer tokenized 9294 tokens at 89351.29 tokens per second.\n"
     ]
    },
    {
     "name": "stdout",
     "output_type": "stream",
     "text": [
      "Computing scores...\n",
      "Computing METEOR score...\n",
      "Computing CIDEr score...\n"
     ]
    },
    {
     "name": "stderr",
     "output_type": "stream",
     "text": [
      "Processing files:  80%|███████████████████████████████████████████           | 833/1044 [35:26<08:42,  2.48s/it]"
     ]
    },
    {
     "name": "stdout",
     "output_type": "stream",
     "text": [
      "Tokenizing...\n"
     ]
    },
    {
     "name": "stderr",
     "output_type": "stream",
     "text": [
      "PTBTokenizer tokenized 61766 tokens at 333159.66 tokens per second.\n",
      "PTBTokenizer tokenized 9242 tokens at 87977.63 tokens per second.\n"
     ]
    },
    {
     "name": "stdout",
     "output_type": "stream",
     "text": [
      "Computing scores...\n",
      "Computing METEOR score...\n",
      "Computing CIDEr score...\n"
     ]
    },
    {
     "name": "stderr",
     "output_type": "stream",
     "text": [
      "Processing files:  80%|███████████████████████████████████████████▏          | 834/1044 [35:28<08:30,  2.43s/it]"
     ]
    },
    {
     "name": "stdout",
     "output_type": "stream",
     "text": [
      "Tokenizing...\n"
     ]
    },
    {
     "name": "stderr",
     "output_type": "stream",
     "text": [
      "PTBTokenizer tokenized 61766 tokens at 341362.94 tokens per second.\n",
      "PTBTokenizer tokenized 9105 tokens at 91926.76 tokens per second.\n"
     ]
    },
    {
     "name": "stdout",
     "output_type": "stream",
     "text": [
      "Computing scores...\n",
      "Computing METEOR score...\n",
      "Computing CIDEr score...\n"
     ]
    },
    {
     "name": "stderr",
     "output_type": "stream",
     "text": [
      "Processing files:  80%|███████████████████████████████████████████▏          | 835/1044 [35:31<08:29,  2.44s/it]"
     ]
    },
    {
     "name": "stdout",
     "output_type": "stream",
     "text": [
      "Tokenizing...\n"
     ]
    },
    {
     "name": "stderr",
     "output_type": "stream",
     "text": [
      "PTBTokenizer tokenized 61766 tokens at 350651.32 tokens per second.\n",
      "PTBTokenizer tokenized 9242 tokens at 87897.07 tokens per second.\n"
     ]
    },
    {
     "name": "stdout",
     "output_type": "stream",
     "text": [
      "Computing scores...\n",
      "Computing METEOR score...\n",
      "Computing CIDEr score...\n"
     ]
    },
    {
     "name": "stderr",
     "output_type": "stream",
     "text": [
      "Processing files:  80%|███████████████████████████████████████████▏          | 836/1044 [35:33<08:26,  2.43s/it]"
     ]
    },
    {
     "name": "stdout",
     "output_type": "stream",
     "text": [
      "Tokenizing...\n"
     ]
    },
    {
     "name": "stderr",
     "output_type": "stream",
     "text": [
      "PTBTokenizer tokenized 61766 tokens at 339735.67 tokens per second.\n",
      "PTBTokenizer tokenized 7059 tokens at 75379.93 tokens per second.\n"
     ]
    },
    {
     "name": "stdout",
     "output_type": "stream",
     "text": [
      "Computing scores...\n",
      "Computing METEOR score...\n",
      "Computing CIDEr score...\n"
     ]
    },
    {
     "name": "stderr",
     "output_type": "stream",
     "text": [
      "Processing files:  80%|███████████████████████████████████████████▎          | 837/1044 [35:36<08:21,  2.42s/it]"
     ]
    },
    {
     "name": "stdout",
     "output_type": "stream",
     "text": [
      "Tokenizing...\n"
     ]
    },
    {
     "name": "stderr",
     "output_type": "stream",
     "text": [
      "PTBTokenizer tokenized 61766 tokens at 343572.47 tokens per second.\n",
      "PTBTokenizer tokenized 9242 tokens at 91832.01 tokens per second.\n"
     ]
    },
    {
     "name": "stdout",
     "output_type": "stream",
     "text": [
      "Computing scores...\n",
      "Computing METEOR score...\n",
      "Computing CIDEr score...\n"
     ]
    },
    {
     "name": "stderr",
     "output_type": "stream",
     "text": [
      "Processing files:  80%|███████████████████████████████████████████▎          | 838/1044 [35:38<08:23,  2.44s/it]"
     ]
    },
    {
     "name": "stdout",
     "output_type": "stream",
     "text": [
      "Tokenizing...\n"
     ]
    },
    {
     "name": "stderr",
     "output_type": "stream",
     "text": [
      "PTBTokenizer tokenized 61766 tokens at 359711.07 tokens per second.\n",
      "PTBTokenizer tokenized 8089 tokens at 82943.76 tokens per second.\n"
     ]
    },
    {
     "name": "stdout",
     "output_type": "stream",
     "text": [
      "Computing scores...\n",
      "Computing METEOR score...\n",
      "Computing CIDEr score...\n"
     ]
    },
    {
     "name": "stderr",
     "output_type": "stream",
     "text": [
      "Processing files:  80%|███████████████████████████████████████████▍          | 839/1044 [35:40<08:13,  2.41s/it]"
     ]
    },
    {
     "name": "stdout",
     "output_type": "stream",
     "text": [
      "Tokenizing...\n"
     ]
    },
    {
     "name": "stderr",
     "output_type": "stream",
     "text": [
      "PTBTokenizer tokenized 61766 tokens at 352337.74 tokens per second.\n",
      "Jul 19, 2024 4:56:04 PM edu.stanford.nlp.process.PTBLexer next\n",
      "WARNING: Untokenizable: � (U+FFFD, decimal: 65533)\n",
      "PTBTokenizer tokenized 7460 tokens at 48838.24 tokens per second.\n"
     ]
    },
    {
     "name": "stdout",
     "output_type": "stream",
     "text": [
      "Computing scores...\n",
      "Computing METEOR score...\n",
      "Computing CIDEr score...\n"
     ]
    },
    {
     "name": "stderr",
     "output_type": "stream",
     "text": [
      "Processing files:  80%|███████████████████████████████████████████▍          | 840/1044 [35:43<08:00,  2.36s/it]"
     ]
    },
    {
     "name": "stdout",
     "output_type": "stream",
     "text": [
      "Tokenizing...\n"
     ]
    },
    {
     "name": "stderr",
     "output_type": "stream",
     "text": [
      "PTBTokenizer tokenized 61766 tokens at 346622.76 tokens per second.\n",
      "PTBTokenizer tokenized 8089 tokens at 80599.98 tokens per second.\n"
     ]
    },
    {
     "name": "stdout",
     "output_type": "stream",
     "text": [
      "Computing scores...\n",
      "Computing METEOR score...\n",
      "Computing CIDEr score...\n"
     ]
    },
    {
     "name": "stderr",
     "output_type": "stream",
     "text": [
      "Processing files:  81%|███████████████████████████████████████████▌          | 841/1044 [35:45<08:01,  2.37s/it]"
     ]
    },
    {
     "name": "stdout",
     "output_type": "stream",
     "text": [
      "Tokenizing...\n"
     ]
    },
    {
     "name": "stderr",
     "output_type": "stream",
     "text": [
      "PTBTokenizer tokenized 61766 tokens at 332502.79 tokens per second.\n",
      "PTBTokenizer tokenized 9247 tokens at 92370.15 tokens per second.\n"
     ]
    },
    {
     "name": "stdout",
     "output_type": "stream",
     "text": [
      "Computing scores...\n",
      "Computing METEOR score...\n",
      "Computing CIDEr score...\n"
     ]
    },
    {
     "name": "stderr",
     "output_type": "stream",
     "text": [
      "Processing files:  81%|███████████████████████████████████████████▌          | 842/1044 [35:48<08:12,  2.44s/it]"
     ]
    },
    {
     "name": "stdout",
     "output_type": "stream",
     "text": [
      "Tokenizing...\n"
     ]
    },
    {
     "name": "stderr",
     "output_type": "stream",
     "text": [
      "PTBTokenizer tokenized 61766 tokens at 347727.69 tokens per second.\n",
      "PTBTokenizer tokenized 8590 tokens at 83918.12 tokens per second.\n"
     ]
    },
    {
     "name": "stdout",
     "output_type": "stream",
     "text": [
      "Computing scores...\n",
      "Computing METEOR score...\n",
      "Computing CIDEr score...\n"
     ]
    },
    {
     "name": "stderr",
     "output_type": "stream",
     "text": [
      "Processing files:  81%|███████████████████████████████████████████▌          | 843/1044 [35:50<08:10,  2.44s/it]"
     ]
    },
    {
     "name": "stdout",
     "output_type": "stream",
     "text": [
      "Tokenizing...\n"
     ]
    },
    {
     "name": "stderr",
     "output_type": "stream",
     "text": [
      "PTBTokenizer tokenized 61766 tokens at 351083.95 tokens per second.\n",
      "PTBTokenizer tokenized 9242 tokens at 92182.20 tokens per second.\n"
     ]
    },
    {
     "name": "stdout",
     "output_type": "stream",
     "text": [
      "Computing scores...\n",
      "Computing METEOR score...\n",
      "Computing CIDEr score...\n"
     ]
    },
    {
     "name": "stderr",
     "output_type": "stream",
     "text": [
      "Processing files:  81%|███████████████████████████████████████████▋          | 844/1044 [35:53<08:07,  2.44s/it]"
     ]
    },
    {
     "name": "stdout",
     "output_type": "stream",
     "text": [
      "Tokenizing...\n"
     ]
    },
    {
     "name": "stderr",
     "output_type": "stream",
     "text": [
      "PTBTokenizer tokenized 61766 tokens at 341679.42 tokens per second.\n",
      "PTBTokenizer tokenized 9038 tokens at 91424.69 tokens per second.\n"
     ]
    },
    {
     "name": "stdout",
     "output_type": "stream",
     "text": [
      "Computing scores...\n",
      "Computing METEOR score...\n",
      "Computing CIDEr score...\n"
     ]
    },
    {
     "name": "stderr",
     "output_type": "stream",
     "text": [
      "Processing files:  81%|███████████████████████████████████████████▋          | 845/1044 [35:55<08:11,  2.47s/it]"
     ]
    },
    {
     "name": "stdout",
     "output_type": "stream",
     "text": [
      "Tokenizing...\n"
     ]
    },
    {
     "name": "stderr",
     "output_type": "stream",
     "text": [
      "PTBTokenizer tokenized 61766 tokens at 339969.51 tokens per second.\n",
      "PTBTokenizer tokenized 6791 tokens at 72269.13 tokens per second.\n"
     ]
    },
    {
     "name": "stdout",
     "output_type": "stream",
     "text": [
      "Computing scores...\n",
      "Computing METEOR score...\n",
      "Computing CIDEr score...\n"
     ]
    },
    {
     "name": "stderr",
     "output_type": "stream",
     "text": [
      "Processing files:  81%|███████████████████████████████████████████▊          | 846/1044 [35:57<07:51,  2.38s/it]"
     ]
    },
    {
     "name": "stdout",
     "output_type": "stream",
     "text": [
      "Tokenizing...\n"
     ]
    },
    {
     "name": "stderr",
     "output_type": "stream",
     "text": [
      "PTBTokenizer tokenized 61766 tokens at 347500.17 tokens per second.\n",
      "PTBTokenizer tokenized 9242 tokens at 88967.43 tokens per second.\n"
     ]
    },
    {
     "name": "stdout",
     "output_type": "stream",
     "text": [
      "Computing scores...\n",
      "Computing METEOR score...\n",
      "Computing CIDEr score...\n"
     ]
    },
    {
     "name": "stderr",
     "output_type": "stream",
     "text": [
      "Processing files:  81%|███████████████████████████████████████████▊          | 847/1044 [36:00<07:45,  2.36s/it]"
     ]
    },
    {
     "name": "stdout",
     "output_type": "stream",
     "text": [
      "Tokenizing...\n"
     ]
    },
    {
     "name": "stderr",
     "output_type": "stream",
     "text": [
      "PTBTokenizer tokenized 61766 tokens at 324673.68 tokens per second.\n",
      "PTBTokenizer tokenized 9152 tokens at 91011.71 tokens per second.\n"
     ]
    },
    {
     "name": "stdout",
     "output_type": "stream",
     "text": [
      "Computing scores...\n",
      "Computing METEOR score...\n",
      "Computing CIDEr score...\n"
     ]
    },
    {
     "name": "stderr",
     "output_type": "stream",
     "text": [
      "Processing files:  81%|███████████████████████████████████████████▊          | 848/1044 [36:02<07:48,  2.39s/it]"
     ]
    },
    {
     "name": "stdout",
     "output_type": "stream",
     "text": [
      "Tokenizing...\n"
     ]
    },
    {
     "name": "stderr",
     "output_type": "stream",
     "text": [
      "PTBTokenizer tokenized 61766 tokens at 351447.57 tokens per second.\n",
      "PTBTokenizer tokenized 9242 tokens at 91752.81 tokens per second.\n"
     ]
    },
    {
     "name": "stdout",
     "output_type": "stream",
     "text": [
      "Computing scores...\n",
      "Computing METEOR score...\n",
      "Computing CIDEr score...\n"
     ]
    },
    {
     "name": "stderr",
     "output_type": "stream",
     "text": [
      "Processing files:  81%|███████████████████████████████████████████▉          | 849/1044 [36:05<07:49,  2.41s/it]"
     ]
    },
    {
     "name": "stdout",
     "output_type": "stream",
     "text": [
      "Tokenizing...\n"
     ]
    },
    {
     "name": "stderr",
     "output_type": "stream",
     "text": [
      "PTBTokenizer tokenized 61766 tokens at 354355.46 tokens per second.\n",
      "PTBTokenizer tokenized 8607 tokens at 85457.19 tokens per second.\n"
     ]
    },
    {
     "name": "stdout",
     "output_type": "stream",
     "text": [
      "Computing scores...\n",
      "Computing METEOR score...\n",
      "Computing CIDEr score...\n"
     ]
    },
    {
     "name": "stderr",
     "output_type": "stream",
     "text": [
      "Processing files:  81%|███████████████████████████████████████████▉          | 850/1044 [36:07<07:46,  2.40s/it]"
     ]
    },
    {
     "name": "stdout",
     "output_type": "stream",
     "text": [
      "Tokenizing...\n"
     ]
    },
    {
     "name": "stderr",
     "output_type": "stream",
     "text": [
      "PTBTokenizer tokenized 61766 tokens at 333338.56 tokens per second.\n",
      "PTBTokenizer tokenized 6803 tokens at 70124.68 tokens per second.\n"
     ]
    },
    {
     "name": "stdout",
     "output_type": "stream",
     "text": [
      "Computing scores...\n",
      "Computing METEOR score...\n",
      "Computing CIDEr score...\n"
     ]
    },
    {
     "name": "stderr",
     "output_type": "stream",
     "text": [
      "Processing files:  82%|████████████████████████████████████████████          | 851/1044 [36:09<07:34,  2.35s/it]"
     ]
    },
    {
     "name": "stdout",
     "output_type": "stream",
     "text": [
      "Tokenizing...\n"
     ]
    },
    {
     "name": "stderr",
     "output_type": "stream",
     "text": [
      "PTBTokenizer tokenized 61766 tokens at 338271.34 tokens per second.\n",
      "PTBTokenizer tokenized 7890 tokens at 76348.30 tokens per second.\n"
     ]
    },
    {
     "name": "stdout",
     "output_type": "stream",
     "text": [
      "Computing scores...\n",
      "Computing METEOR score...\n",
      "Computing CIDEr score...\n"
     ]
    },
    {
     "name": "stderr",
     "output_type": "stream",
     "text": [
      "Processing files:  82%|████████████████████████████████████████████          | 852/1044 [36:11<07:29,  2.34s/it]"
     ]
    },
    {
     "name": "stdout",
     "output_type": "stream",
     "text": [
      "Tokenizing...\n"
     ]
    },
    {
     "name": "stderr",
     "output_type": "stream",
     "text": [
      "PTBTokenizer tokenized 61766 tokens at 339755.48 tokens per second.\n",
      "PTBTokenizer tokenized 7738 tokens at 78970.35 tokens per second.\n"
     ]
    },
    {
     "name": "stdout",
     "output_type": "stream",
     "text": [
      "Computing scores...\n",
      "Computing METEOR score...\n",
      "Computing CIDEr score...\n"
     ]
    },
    {
     "name": "stderr",
     "output_type": "stream",
     "text": [
      "Processing files:  82%|████████████████████████████████████████████          | 853/1044 [36:14<07:23,  2.32s/it]"
     ]
    },
    {
     "name": "stdout",
     "output_type": "stream",
     "text": [
      "Tokenizing...\n"
     ]
    },
    {
     "name": "stderr",
     "output_type": "stream",
     "text": [
      "PTBTokenizer tokenized 61766 tokens at 362897.47 tokens per second.\n",
      "PTBTokenizer tokenized 9200 tokens at 86315.09 tokens per second.\n"
     ]
    },
    {
     "name": "stdout",
     "output_type": "stream",
     "text": [
      "Computing scores...\n",
      "Computing METEOR score...\n",
      "Computing CIDEr score...\n"
     ]
    },
    {
     "name": "stderr",
     "output_type": "stream",
     "text": [
      "Processing files:  82%|████████████████████████████████████████████▏         | 854/1044 [36:16<07:30,  2.37s/it]"
     ]
    },
    {
     "name": "stdout",
     "output_type": "stream",
     "text": [
      "Tokenizing...\n"
     ]
    },
    {
     "name": "stderr",
     "output_type": "stream",
     "text": [
      "PTBTokenizer tokenized 61766 tokens at 353403.84 tokens per second.\n",
      "PTBTokenizer tokenized 9184 tokens at 90366.70 tokens per second.\n"
     ]
    },
    {
     "name": "stdout",
     "output_type": "stream",
     "text": [
      "Computing scores...\n",
      "Computing METEOR score...\n",
      "Computing CIDEr score...\n"
     ]
    },
    {
     "name": "stderr",
     "output_type": "stream",
     "text": [
      "Processing files:  82%|████████████████████████████████████████████▏         | 855/1044 [36:19<07:37,  2.42s/it]"
     ]
    },
    {
     "name": "stdout",
     "output_type": "stream",
     "text": [
      "Tokenizing...\n"
     ]
    },
    {
     "name": "stderr",
     "output_type": "stream",
     "text": [
      "PTBTokenizer tokenized 61766 tokens at 344492.06 tokens per second.\n",
      "PTBTokenizer tokenized 9242 tokens at 88074.74 tokens per second.\n"
     ]
    },
    {
     "name": "stdout",
     "output_type": "stream",
     "text": [
      "Computing scores...\n",
      "Computing METEOR score...\n",
      "Computing CIDEr score...\n"
     ]
    },
    {
     "name": "stderr",
     "output_type": "stream",
     "text": [
      "Processing files:  82%|████████████████████████████████████████████▎         | 856/1044 [36:21<07:36,  2.43s/it]"
     ]
    },
    {
     "name": "stdout",
     "output_type": "stream",
     "text": [
      "Tokenizing...\n"
     ]
    },
    {
     "name": "stderr",
     "output_type": "stream",
     "text": [
      "PTBTokenizer tokenized 61766 tokens at 333059.91 tokens per second.\n",
      "PTBTokenizer tokenized 9105 tokens at 90966.51 tokens per second.\n"
     ]
    },
    {
     "name": "stdout",
     "output_type": "stream",
     "text": [
      "Computing scores...\n",
      "Computing METEOR score...\n",
      "Computing CIDEr score...\n"
     ]
    },
    {
     "name": "stderr",
     "output_type": "stream",
     "text": [
      "Processing files:  82%|████████████████████████████████████████████▎         | 857/1044 [36:24<07:35,  2.44s/it]"
     ]
    },
    {
     "name": "stdout",
     "output_type": "stream",
     "text": [
      "Tokenizing...\n"
     ]
    },
    {
     "name": "stderr",
     "output_type": "stream",
     "text": [
      "PTBTokenizer tokenized 61766 tokens at 343165.82 tokens per second.\n",
      "PTBTokenizer tokenized 9204 tokens at 91254.92 tokens per second.\n"
     ]
    },
    {
     "name": "stdout",
     "output_type": "stream",
     "text": [
      "Computing scores...\n",
      "Computing METEOR score...\n",
      "Computing CIDEr score...\n"
     ]
    },
    {
     "name": "stderr",
     "output_type": "stream",
     "text": [
      "Processing files:  82%|████████████████████████████████████████████▍         | 858/1044 [36:26<07:36,  2.45s/it]"
     ]
    },
    {
     "name": "stdout",
     "output_type": "stream",
     "text": [
      "Tokenizing...\n"
     ]
    },
    {
     "name": "stderr",
     "output_type": "stream",
     "text": [
      "PTBTokenizer tokenized 61766 tokens at 343418.65 tokens per second.\n",
      "PTBTokenizer tokenized 9224 tokens at 89458.16 tokens per second.\n"
     ]
    },
    {
     "name": "stdout",
     "output_type": "stream",
     "text": [
      "Computing scores...\n",
      "Computing METEOR score...\n",
      "Computing CIDEr score...\n"
     ]
    },
    {
     "name": "stderr",
     "output_type": "stream",
     "text": [
      "Processing files:  82%|████████████████████████████████████████████▍         | 859/1044 [36:29<07:45,  2.51s/it]"
     ]
    },
    {
     "name": "stdout",
     "output_type": "stream",
     "text": [
      "Tokenizing...\n"
     ]
    },
    {
     "name": "stderr",
     "output_type": "stream",
     "text": [
      "PTBTokenizer tokenized 61766 tokens at 311855.02 tokens per second.\n",
      "PTBTokenizer tokenized 10014 tokens at 96516.87 tokens per second.\n"
     ]
    },
    {
     "name": "stdout",
     "output_type": "stream",
     "text": [
      "Computing scores...\n",
      "Computing METEOR score...\n",
      "Computing CIDEr score...\n"
     ]
    },
    {
     "name": "stderr",
     "output_type": "stream",
     "text": [
      "Processing files:  82%|████████████████████████████████████████████▍         | 860/1044 [36:31<07:48,  2.54s/it]"
     ]
    },
    {
     "name": "stdout",
     "output_type": "stream",
     "text": [
      "Tokenizing...\n"
     ]
    },
    {
     "name": "stderr",
     "output_type": "stream",
     "text": [
      "PTBTokenizer tokenized 61766 tokens at 343628.24 tokens per second.\n",
      "PTBTokenizer tokenized 9242 tokens at 90183.26 tokens per second.\n"
     ]
    },
    {
     "name": "stdout",
     "output_type": "stream",
     "text": [
      "Computing scores...\n",
      "Computing METEOR score...\n",
      "Computing CIDEr score...\n"
     ]
    },
    {
     "name": "stderr",
     "output_type": "stream",
     "text": [
      "Processing files:  82%|████████████████████████████████████████████▌         | 861/1044 [36:34<07:46,  2.55s/it]"
     ]
    },
    {
     "name": "stdout",
     "output_type": "stream",
     "text": [
      "Tokenizing...\n"
     ]
    },
    {
     "name": "stderr",
     "output_type": "stream",
     "text": [
      "PTBTokenizer tokenized 61766 tokens at 343542.70 tokens per second.\n",
      "PTBTokenizer tokenized 9242 tokens at 90617.45 tokens per second.\n"
     ]
    },
    {
     "name": "stdout",
     "output_type": "stream",
     "text": [
      "Computing scores...\n",
      "Computing METEOR score...\n",
      "Computing CIDEr score...\n"
     ]
    },
    {
     "name": "stderr",
     "output_type": "stream",
     "text": [
      "Processing files:  83%|████████████████████████████████████████████▌         | 862/1044 [36:37<07:44,  2.55s/it]"
     ]
    },
    {
     "name": "stdout",
     "output_type": "stream",
     "text": [
      "Tokenizing...\n"
     ]
    },
    {
     "name": "stderr",
     "output_type": "stream",
     "text": [
      "PTBTokenizer tokenized 61766 tokens at 338156.53 tokens per second.\n",
      "PTBTokenizer tokenized 7310 tokens at 77529.10 tokens per second.\n"
     ]
    },
    {
     "name": "stdout",
     "output_type": "stream",
     "text": [
      "Computing scores...\n",
      "Computing METEOR score...\n",
      "Computing CIDEr score...\n"
     ]
    },
    {
     "name": "stderr",
     "output_type": "stream",
     "text": [
      "Processing files:  83%|████████████████████████████████████████████▋         | 863/1044 [36:39<07:35,  2.52s/it]"
     ]
    },
    {
     "name": "stdout",
     "output_type": "stream",
     "text": [
      "Tokenizing...\n"
     ]
    },
    {
     "name": "stderr",
     "output_type": "stream",
     "text": [
      "PTBTokenizer tokenized 61766 tokens at 359046.32 tokens per second.\n",
      "PTBTokenizer tokenized 8482 tokens at 85034.75 tokens per second.\n"
     ]
    },
    {
     "name": "stdout",
     "output_type": "stream",
     "text": [
      "Computing scores...\n",
      "Computing METEOR score...\n",
      "Computing CIDEr score...\n"
     ]
    },
    {
     "name": "stderr",
     "output_type": "stream",
     "text": [
      "Processing files:  83%|████████████████████████████████████████████▋         | 864/1044 [36:41<07:26,  2.48s/it]"
     ]
    },
    {
     "name": "stdout",
     "output_type": "stream",
     "text": [
      "Tokenizing...\n"
     ]
    },
    {
     "name": "stderr",
     "output_type": "stream",
     "text": [
      "PTBTokenizer tokenized 61766 tokens at 341345.72 tokens per second.\n",
      "PTBTokenizer tokenized 11564 tokens at 104319.90 tokens per second.\n"
     ]
    },
    {
     "name": "stdout",
     "output_type": "stream",
     "text": [
      "Computing scores...\n",
      "Computing METEOR score...\n",
      "Computing CIDEr score...\n"
     ]
    },
    {
     "name": "stderr",
     "output_type": "stream",
     "text": [
      "Processing files:  83%|████████████████████████████████████████████▋         | 865/1044 [36:44<07:26,  2.50s/it]"
     ]
    },
    {
     "name": "stdout",
     "output_type": "stream",
     "text": [
      "Tokenizing...\n"
     ]
    },
    {
     "name": "stderr",
     "output_type": "stream",
     "text": [
      "PTBTokenizer tokenized 61766 tokens at 341474.79 tokens per second.\n",
      "PTBTokenizer tokenized 9242 tokens at 88639.60 tokens per second.\n"
     ]
    },
    {
     "name": "stdout",
     "output_type": "stream",
     "text": [
      "Computing scores...\n",
      "Computing METEOR score...\n",
      "Computing CIDEr score...\n"
     ]
    },
    {
     "name": "stderr",
     "output_type": "stream",
     "text": [
      "Processing files:  83%|████████████████████████████████████████████▊         | 866/1044 [36:46<07:25,  2.50s/it]"
     ]
    },
    {
     "name": "stdout",
     "output_type": "stream",
     "text": [
      "Tokenizing...\n"
     ]
    },
    {
     "name": "stderr",
     "output_type": "stream",
     "text": [
      "PTBTokenizer tokenized 61766 tokens at 345063.84 tokens per second.\n",
      "Jul 19, 2024 4:57:10 PM edu.stanford.nlp.process.PTBLexer next\n",
      "WARNING: Untokenizable: � (U+FFFD, decimal: 65533)\n",
      "PTBTokenizer tokenized 17445 tokens at 111449.14 tokens per second.\n"
     ]
    },
    {
     "name": "stdout",
     "output_type": "stream",
     "text": [
      "Computing scores...\n",
      "Computing METEOR score...\n",
      "Computing CIDEr score...\n"
     ]
    },
    {
     "name": "stderr",
     "output_type": "stream",
     "text": [
      "Processing files:  83%|████████████████████████████████████████████▊         | 867/1044 [36:49<07:43,  2.62s/it]"
     ]
    },
    {
     "name": "stdout",
     "output_type": "stream",
     "text": [
      "Tokenizing...\n"
     ]
    },
    {
     "name": "stderr",
     "output_type": "stream",
     "text": [
      "PTBTokenizer tokenized 61766 tokens at 338025.71 tokens per second.\n",
      "PTBTokenizer tokenized 9246 tokens at 93721.14 tokens per second.\n"
     ]
    },
    {
     "name": "stdout",
     "output_type": "stream",
     "text": [
      "Computing scores...\n",
      "Computing METEOR score...\n",
      "Computing CIDEr score...\n"
     ]
    },
    {
     "name": "stderr",
     "output_type": "stream",
     "text": [
      "Processing files:  83%|████████████████████████████████████████████▉         | 868/1044 [36:52<07:35,  2.59s/it]"
     ]
    },
    {
     "name": "stdout",
     "output_type": "stream",
     "text": [
      "Tokenizing...\n"
     ]
    },
    {
     "name": "stderr",
     "output_type": "stream",
     "text": [
      "PTBTokenizer tokenized 61766 tokens at 359302.95 tokens per second.\n",
      "PTBTokenizer tokenized 8055 tokens at 83507.00 tokens per second.\n"
     ]
    },
    {
     "name": "stdout",
     "output_type": "stream",
     "text": [
      "Computing scores...\n",
      "Computing METEOR score...\n",
      "Computing CIDEr score...\n"
     ]
    },
    {
     "name": "stderr",
     "output_type": "stream",
     "text": [
      "Processing files:  83%|████████████████████████████████████████████▉         | 869/1044 [36:54<07:17,  2.50s/it]"
     ]
    },
    {
     "name": "stdout",
     "output_type": "stream",
     "text": [
      "Tokenizing...\n"
     ]
    },
    {
     "name": "stderr",
     "output_type": "stream",
     "text": [
      "PTBTokenizer tokenized 61766 tokens at 329402.58 tokens per second.\n",
      "PTBTokenizer tokenized 9476 tokens at 88744.51 tokens per second.\n"
     ]
    },
    {
     "name": "stdout",
     "output_type": "stream",
     "text": [
      "Computing scores...\n",
      "Computing METEOR score...\n",
      "Computing CIDEr score...\n"
     ]
    },
    {
     "name": "stderr",
     "output_type": "stream",
     "text": [
      "Processing files:  83%|█████████████████████████████████████████████         | 870/1044 [36:57<07:16,  2.51s/it]"
     ]
    },
    {
     "name": "stdout",
     "output_type": "stream",
     "text": [
      "Tokenizing...\n"
     ]
    },
    {
     "name": "stderr",
     "output_type": "stream",
     "text": [
      "PTBTokenizer tokenized 61766 tokens at 334002.77 tokens per second.\n",
      "PTBTokenizer tokenized 9242 tokens at 89352.41 tokens per second.\n"
     ]
    },
    {
     "name": "stdout",
     "output_type": "stream",
     "text": [
      "Computing scores...\n",
      "Computing METEOR score...\n",
      "Computing CIDEr score...\n"
     ]
    },
    {
     "name": "stderr",
     "output_type": "stream",
     "text": [
      "Processing files:  83%|█████████████████████████████████████████████         | 871/1044 [36:59<07:16,  2.52s/it]"
     ]
    },
    {
     "name": "stdout",
     "output_type": "stream",
     "text": [
      "Tokenizing...\n"
     ]
    },
    {
     "name": "stderr",
     "output_type": "stream",
     "text": [
      "PTBTokenizer tokenized 61766 tokens at 336714.70 tokens per second.\n",
      "PTBTokenizer tokenized 9242 tokens at 87285.59 tokens per second.\n"
     ]
    },
    {
     "name": "stdout",
     "output_type": "stream",
     "text": [
      "Computing scores...\n",
      "Computing METEOR score...\n",
      "Computing CIDEr score...\n"
     ]
    },
    {
     "name": "stderr",
     "output_type": "stream",
     "text": [
      "Processing files:  84%|█████████████████████████████████████████████         | 872/1044 [37:02<07:18,  2.55s/it]"
     ]
    },
    {
     "name": "stdout",
     "output_type": "stream",
     "text": [
      "Tokenizing...\n"
     ]
    },
    {
     "name": "stderr",
     "output_type": "stream",
     "text": [
      "PTBTokenizer tokenized 61766 tokens at 346269.96 tokens per second.\n",
      "PTBTokenizer tokenized 9242 tokens at 74055.68 tokens per second.\n"
     ]
    },
    {
     "name": "stdout",
     "output_type": "stream",
     "text": [
      "Computing scores...\n",
      "Computing METEOR score...\n",
      "Computing CIDEr score...\n"
     ]
    },
    {
     "name": "stderr",
     "output_type": "stream",
     "text": [
      "Processing files:  84%|█████████████████████████████████████████████▏        | 873/1044 [37:04<07:14,  2.54s/it]"
     ]
    },
    {
     "name": "stdout",
     "output_type": "stream",
     "text": [
      "Tokenizing...\n"
     ]
    },
    {
     "name": "stderr",
     "output_type": "stream",
     "text": [
      "PTBTokenizer tokenized 61766 tokens at 335488.26 tokens per second.\n",
      "PTBTokenizer tokenized 9242 tokens at 87161.88 tokens per second.\n"
     ]
    },
    {
     "name": "stdout",
     "output_type": "stream",
     "text": [
      "Computing scores...\n",
      "Computing METEOR score...\n",
      "Computing CIDEr score...\n"
     ]
    },
    {
     "name": "stderr",
     "output_type": "stream",
     "text": [
      "Processing files:  84%|█████████████████████████████████████████████▏        | 874/1044 [37:07<07:12,  2.54s/it]"
     ]
    },
    {
     "name": "stdout",
     "output_type": "stream",
     "text": [
      "Tokenizing...\n"
     ]
    },
    {
     "name": "stderr",
     "output_type": "stream",
     "text": [
      "PTBTokenizer tokenized 61766 tokens at 316452.79 tokens per second.\n",
      "PTBTokenizer tokenized 8038 tokens at 75927.86 tokens per second.\n"
     ]
    },
    {
     "name": "stdout",
     "output_type": "stream",
     "text": [
      "Computing scores...\n",
      "Computing METEOR score...\n",
      "Computing CIDEr score...\n"
     ]
    },
    {
     "name": "stderr",
     "output_type": "stream",
     "text": [
      "Processing files:  84%|█████████████████████████████████████████████▎        | 875/1044 [37:09<07:05,  2.52s/it]"
     ]
    },
    {
     "name": "stdout",
     "output_type": "stream",
     "text": [
      "Tokenizing...\n"
     ]
    },
    {
     "name": "stderr",
     "output_type": "stream",
     "text": [
      "PTBTokenizer tokenized 61766 tokens at 343521.12 tokens per second.\n",
      "PTBTokenizer tokenized 6924 tokens at 72611.12 tokens per second.\n"
     ]
    },
    {
     "name": "stdout",
     "output_type": "stream",
     "text": [
      "Computing scores...\n",
      "Computing METEOR score...\n",
      "Computing CIDEr score...\n"
     ]
    },
    {
     "name": "stderr",
     "output_type": "stream",
     "text": [
      "Processing files:  84%|█████████████████████████████████████████████▎        | 876/1044 [37:12<06:58,  2.49s/it]"
     ]
    },
    {
     "name": "stdout",
     "output_type": "stream",
     "text": [
      "Tokenizing...\n"
     ]
    },
    {
     "name": "stderr",
     "output_type": "stream",
     "text": [
      "PTBTokenizer tokenized 61766 tokens at 336261.61 tokens per second.\n",
      "PTBTokenizer tokenized 7104 tokens at 73702.68 tokens per second.\n"
     ]
    },
    {
     "name": "stdout",
     "output_type": "stream",
     "text": [
      "Computing scores...\n",
      "Computing METEOR score...\n",
      "Computing CIDEr score...\n"
     ]
    },
    {
     "name": "stderr",
     "output_type": "stream",
     "text": [
      "Processing files:  84%|█████████████████████████████████████████████▎        | 877/1044 [37:14<06:47,  2.44s/it]"
     ]
    },
    {
     "name": "stdout",
     "output_type": "stream",
     "text": [
      "Tokenizing...\n"
     ]
    },
    {
     "name": "stderr",
     "output_type": "stream",
     "text": [
      "PTBTokenizer tokenized 61766 tokens at 340659.08 tokens per second.\n",
      "PTBTokenizer tokenized 9236 tokens at 93856.11 tokens per second.\n"
     ]
    },
    {
     "name": "stdout",
     "output_type": "stream",
     "text": [
      "Computing scores...\n",
      "Computing METEOR score...\n",
      "Computing CIDEr score...\n"
     ]
    },
    {
     "name": "stderr",
     "output_type": "stream",
     "text": [
      "Processing files:  84%|█████████████████████████████████████████████▍        | 878/1044 [37:17<06:46,  2.45s/it]"
     ]
    },
    {
     "name": "stdout",
     "output_type": "stream",
     "text": [
      "Tokenizing...\n"
     ]
    },
    {
     "name": "stderr",
     "output_type": "stream",
     "text": [
      "PTBTokenizer tokenized 61766 tokens at 339522.16 tokens per second.\n",
      "PTBTokenizer tokenized 9179 tokens at 90851.87 tokens per second.\n"
     ]
    },
    {
     "name": "stdout",
     "output_type": "stream",
     "text": [
      "Computing scores...\n",
      "Computing METEOR score...\n",
      "Computing CIDEr score...\n"
     ]
    },
    {
     "name": "stderr",
     "output_type": "stream",
     "text": [
      "Processing files:  84%|█████████████████████████████████████████████▍        | 879/1044 [37:19<06:44,  2.45s/it]"
     ]
    },
    {
     "name": "stdout",
     "output_type": "stream",
     "text": [
      "Tokenizing...\n"
     ]
    },
    {
     "name": "stderr",
     "output_type": "stream",
     "text": [
      "PTBTokenizer tokenized 61766 tokens at 361970.84 tokens per second.\n",
      "PTBTokenizer tokenized 7981 tokens at 82897.78 tokens per second.\n"
     ]
    },
    {
     "name": "stdout",
     "output_type": "stream",
     "text": [
      "Computing scores...\n",
      "Computing METEOR score...\n",
      "Computing CIDEr score...\n"
     ]
    },
    {
     "name": "stderr",
     "output_type": "stream",
     "text": [
      "Processing files:  84%|█████████████████████████████████████████████▌        | 880/1044 [37:21<06:40,  2.44s/it]"
     ]
    },
    {
     "name": "stdout",
     "output_type": "stream",
     "text": [
      "Tokenizing...\n"
     ]
    },
    {
     "name": "stderr",
     "output_type": "stream",
     "text": [
      "PTBTokenizer tokenized 61766 tokens at 340951.44 tokens per second.\n",
      "PTBTokenizer tokenized 9238 tokens at 91835.96 tokens per second.\n"
     ]
    },
    {
     "name": "stdout",
     "output_type": "stream",
     "text": [
      "Computing scores...\n",
      "Computing METEOR score...\n",
      "Computing CIDEr score...\n"
     ]
    },
    {
     "name": "stderr",
     "output_type": "stream",
     "text": [
      "Processing files:  84%|█████████████████████████████████████████████▌        | 881/1044 [37:24<06:40,  2.46s/it]"
     ]
    },
    {
     "name": "stdout",
     "output_type": "stream",
     "text": [
      "Tokenizing...\n"
     ]
    },
    {
     "name": "stderr",
     "output_type": "stream",
     "text": [
      "PTBTokenizer tokenized 61766 tokens at 345230.27 tokens per second.\n",
      "PTBTokenizer tokenized 9242 tokens at 90253.43 tokens per second.\n"
     ]
    },
    {
     "name": "stdout",
     "output_type": "stream",
     "text": [
      "Computing scores...\n",
      "Computing METEOR score...\n",
      "Computing CIDEr score...\n"
     ]
    },
    {
     "name": "stderr",
     "output_type": "stream",
     "text": [
      "Processing files:  84%|█████████████████████████████████████████████▌        | 882/1044 [37:26<06:40,  2.47s/it]"
     ]
    },
    {
     "name": "stdout",
     "output_type": "stream",
     "text": [
      "Tokenizing...\n"
     ]
    },
    {
     "name": "stderr",
     "output_type": "stream",
     "text": [
      "PTBTokenizer tokenized 61766 tokens at 342334.16 tokens per second.\n",
      "PTBTokenizer tokenized 9180 tokens at 84723.87 tokens per second.\n"
     ]
    },
    {
     "name": "stdout",
     "output_type": "stream",
     "text": [
      "Computing scores...\n",
      "Computing METEOR score...\n",
      "Computing CIDEr score...\n"
     ]
    },
    {
     "name": "stderr",
     "output_type": "stream",
     "text": [
      "Processing files:  85%|█████████████████████████████████████████████▋        | 883/1044 [37:29<06:39,  2.48s/it]"
     ]
    },
    {
     "name": "stdout",
     "output_type": "stream",
     "text": [
      "Tokenizing...\n"
     ]
    },
    {
     "name": "stderr",
     "output_type": "stream",
     "text": [
      "PTBTokenizer tokenized 61766 tokens at 344038.41 tokens per second.\n",
      "PTBTokenizer tokenized 8076 tokens at 76311.74 tokens per second.\n"
     ]
    },
    {
     "name": "stdout",
     "output_type": "stream",
     "text": [
      "Computing scores...\n",
      "Computing METEOR score...\n",
      "Computing CIDEr score...\n"
     ]
    },
    {
     "name": "stderr",
     "output_type": "stream",
     "text": [
      "Processing files:  85%|█████████████████████████████████████████████▋        | 884/1044 [37:31<06:34,  2.46s/it]"
     ]
    },
    {
     "name": "stdout",
     "output_type": "stream",
     "text": [
      "Tokenizing...\n"
     ]
    },
    {
     "name": "stderr",
     "output_type": "stream",
     "text": [
      "PTBTokenizer tokenized 61766 tokens at 337559.16 tokens per second.\n",
      "PTBTokenizer tokenized 9236 tokens at 92099.70 tokens per second.\n"
     ]
    },
    {
     "name": "stdout",
     "output_type": "stream",
     "text": [
      "Computing scores...\n",
      "Computing METEOR score...\n",
      "Computing CIDEr score...\n"
     ]
    },
    {
     "name": "stderr",
     "output_type": "stream",
     "text": [
      "Processing files:  85%|█████████████████████████████████████████████▊        | 885/1044 [37:34<06:31,  2.46s/it]"
     ]
    },
    {
     "name": "stdout",
     "output_type": "stream",
     "text": [
      "Tokenizing...\n"
     ]
    },
    {
     "name": "stderr",
     "output_type": "stream",
     "text": [
      "PTBTokenizer tokenized 61766 tokens at 337072.50 tokens per second.\n",
      "PTBTokenizer tokenized 9242 tokens at 91405.29 tokens per second.\n"
     ]
    },
    {
     "name": "stdout",
     "output_type": "stream",
     "text": [
      "Computing scores...\n",
      "Computing METEOR score...\n",
      "Computing CIDEr score...\n"
     ]
    },
    {
     "name": "stderr",
     "output_type": "stream",
     "text": [
      "Processing files:  85%|█████████████████████████████████████████████▊        | 886/1044 [37:36<06:30,  2.47s/it]"
     ]
    },
    {
     "name": "stdout",
     "output_type": "stream",
     "text": [
      "Tokenizing...\n"
     ]
    },
    {
     "name": "stderr",
     "output_type": "stream",
     "text": [
      "PTBTokenizer tokenized 61766 tokens at 348921.84 tokens per second.\n",
      "PTBTokenizer tokenized 9242 tokens at 91532.00 tokens per second.\n"
     ]
    },
    {
     "name": "stdout",
     "output_type": "stream",
     "text": [
      "Computing scores...\n",
      "Computing METEOR score...\n",
      "Computing CIDEr score...\n"
     ]
    },
    {
     "name": "stderr",
     "output_type": "stream",
     "text": [
      "Processing files:  85%|█████████████████████████████████████████████▉        | 887/1044 [37:39<06:26,  2.46s/it]"
     ]
    },
    {
     "name": "stdout",
     "output_type": "stream",
     "text": [
      "Tokenizing...\n"
     ]
    },
    {
     "name": "stderr",
     "output_type": "stream",
     "text": [
      "PTBTokenizer tokenized 61766 tokens at 326734.94 tokens per second.\n",
      "PTBTokenizer tokenized 6791 tokens at 70719.05 tokens per second.\n"
     ]
    },
    {
     "name": "stdout",
     "output_type": "stream",
     "text": [
      "Computing scores...\n",
      "Computing METEOR score...\n",
      "Computing CIDEr score...\n"
     ]
    },
    {
     "name": "stderr",
     "output_type": "stream",
     "text": [
      "Processing files:  85%|█████████████████████████████████████████████▉        | 888/1044 [37:41<06:18,  2.43s/it]"
     ]
    },
    {
     "name": "stdout",
     "output_type": "stream",
     "text": [
      "Tokenizing...\n"
     ]
    },
    {
     "name": "stderr",
     "output_type": "stream",
     "text": [
      "PTBTokenizer tokenized 61766 tokens at 348983.72 tokens per second.\n",
      "PTBTokenizer tokenized 9242 tokens at 90502.53 tokens per second.\n"
     ]
    },
    {
     "name": "stdout",
     "output_type": "stream",
     "text": [
      "Computing scores...\n",
      "Computing METEOR score...\n",
      "Computing CIDEr score...\n"
     ]
    },
    {
     "name": "stderr",
     "output_type": "stream",
     "text": [
      "Processing files:  85%|█████████████████████████████████████████████▉        | 889/1044 [37:44<06:18,  2.44s/it]"
     ]
    },
    {
     "name": "stdout",
     "output_type": "stream",
     "text": [
      "Tokenizing...\n"
     ]
    },
    {
     "name": "stderr",
     "output_type": "stream",
     "text": [
      "PTBTokenizer tokenized 61766 tokens at 327084.65 tokens per second.\n",
      "PTBTokenizer tokenized 9242 tokens at 87653.59 tokens per second.\n"
     ]
    },
    {
     "name": "stdout",
     "output_type": "stream",
     "text": [
      "Computing scores...\n",
      "Computing METEOR score...\n",
      "Computing CIDEr score...\n"
     ]
    },
    {
     "name": "stderr",
     "output_type": "stream",
     "text": [
      "Processing files:  85%|██████████████████████████████████████████████        | 890/1044 [37:46<06:21,  2.48s/it]"
     ]
    },
    {
     "name": "stdout",
     "output_type": "stream",
     "text": [
      "Tokenizing...\n"
     ]
    },
    {
     "name": "stderr",
     "output_type": "stream",
     "text": [
      "PTBTokenizer tokenized 61766 tokens at 338514.09 tokens per second.\n",
      "PTBTokenizer tokenized 9100 tokens at 82737.73 tokens per second.\n"
     ]
    },
    {
     "name": "stdout",
     "output_type": "stream",
     "text": [
      "Computing scores...\n",
      "Computing METEOR score...\n",
      "Computing CIDEr score...\n"
     ]
    },
    {
     "name": "stderr",
     "output_type": "stream",
     "text": [
      "Processing files:  85%|██████████████████████████████████████████████        | 891/1044 [37:49<06:17,  2.47s/it]"
     ]
    },
    {
     "name": "stdout",
     "output_type": "stream",
     "text": [
      "Tokenizing...\n"
     ]
    },
    {
     "name": "stderr",
     "output_type": "stream",
     "text": [
      "PTBTokenizer tokenized 61766 tokens at 325788.17 tokens per second.\n",
      "Jul 19, 2024 4:58:13 PM edu.stanford.nlp.process.PTBLexer next\n",
      "WARNING: Untokenizable: � (U+FFFD, decimal: 65533)\n",
      "PTBTokenizer tokenized 17504 tokens at 110428.89 tokens per second.\n"
     ]
    },
    {
     "name": "stdout",
     "output_type": "stream",
     "text": [
      "Computing scores...\n",
      "Computing METEOR score...\n",
      "Computing CIDEr score...\n"
     ]
    },
    {
     "name": "stderr",
     "output_type": "stream",
     "text": [
      "Processing files:  85%|██████████████████████████████████████████████▏       | 892/1044 [37:52<06:39,  2.63s/it]"
     ]
    },
    {
     "name": "stdout",
     "output_type": "stream",
     "text": [
      "Tokenizing...\n"
     ]
    },
    {
     "name": "stderr",
     "output_type": "stream",
     "text": [
      "PTBTokenizer tokenized 61766 tokens at 319960.01 tokens per second.\n",
      "PTBTokenizer tokenized 9242 tokens at 91964.44 tokens per second.\n"
     ]
    },
    {
     "name": "stdout",
     "output_type": "stream",
     "text": [
      "Computing scores...\n",
      "Computing METEOR score...\n",
      "Computing CIDEr score...\n"
     ]
    },
    {
     "name": "stderr",
     "output_type": "stream",
     "text": [
      "Processing files:  86%|██████████████████████████████████████████████▏       | 893/1044 [37:54<06:34,  2.61s/it]"
     ]
    },
    {
     "name": "stdout",
     "output_type": "stream",
     "text": [
      "Tokenizing...\n"
     ]
    },
    {
     "name": "stderr",
     "output_type": "stream",
     "text": [
      "PTBTokenizer tokenized 61766 tokens at 363293.29 tokens per second.\n",
      "PTBTokenizer tokenized 9278 tokens at 92459.75 tokens per second.\n"
     ]
    },
    {
     "name": "stdout",
     "output_type": "stream",
     "text": [
      "Computing scores...\n",
      "Computing METEOR score...\n",
      "Computing CIDEr score...\n"
     ]
    },
    {
     "name": "stderr",
     "output_type": "stream",
     "text": [
      "Processing files:  86%|██████████████████████████████████████████████▏       | 894/1044 [37:57<06:23,  2.55s/it]"
     ]
    },
    {
     "name": "stdout",
     "output_type": "stream",
     "text": [
      "Tokenizing...\n"
     ]
    },
    {
     "name": "stderr",
     "output_type": "stream",
     "text": [
      "PTBTokenizer tokenized 61766 tokens at 314197.73 tokens per second.\n",
      "PTBTokenizer tokenized 9242 tokens at 88804.76 tokens per second.\n"
     ]
    },
    {
     "name": "stdout",
     "output_type": "stream",
     "text": [
      "Computing scores...\n",
      "Computing METEOR score...\n",
      "Computing CIDEr score...\n"
     ]
    },
    {
     "name": "stderr",
     "output_type": "stream",
     "text": [
      "Processing files:  86%|██████████████████████████████████████████████▎       | 895/1044 [37:59<06:12,  2.50s/it]"
     ]
    },
    {
     "name": "stdout",
     "output_type": "stream",
     "text": [
      "Tokenizing...\n"
     ]
    },
    {
     "name": "stderr",
     "output_type": "stream",
     "text": [
      "PTBTokenizer tokenized 61766 tokens at 339837.37 tokens per second.\n",
      "PTBTokenizer tokenized 9242 tokens at 88456.65 tokens per second.\n"
     ]
    },
    {
     "name": "stdout",
     "output_type": "stream",
     "text": [
      "Computing scores...\n",
      "Computing METEOR score...\n",
      "Computing CIDEr score...\n"
     ]
    },
    {
     "name": "stderr",
     "output_type": "stream",
     "text": [
      "Processing files:  86%|██████████████████████████████████████████████▎       | 896/1044 [38:01<06:06,  2.47s/it]"
     ]
    },
    {
     "name": "stdout",
     "output_type": "stream",
     "text": [
      "Tokenizing...\n"
     ]
    },
    {
     "name": "stderr",
     "output_type": "stream",
     "text": [
      "PTBTokenizer tokenized 61766 tokens at 357969.18 tokens per second.\n",
      "PTBTokenizer tokenized 9268 tokens at 80491.15 tokens per second.\n"
     ]
    },
    {
     "name": "stdout",
     "output_type": "stream",
     "text": [
      "Computing scores...\n",
      "Computing METEOR score...\n",
      "Computing CIDEr score...\n"
     ]
    },
    {
     "name": "stderr",
     "output_type": "stream",
     "text": [
      "Processing files:  86%|██████████████████████████████████████████████▍       | 897/1044 [38:04<06:07,  2.50s/it]"
     ]
    },
    {
     "name": "stdout",
     "output_type": "stream",
     "text": [
      "Tokenizing...\n"
     ]
    },
    {
     "name": "stderr",
     "output_type": "stream",
     "text": [
      "PTBTokenizer tokenized 61766 tokens at 358731.03 tokens per second.\n",
      "PTBTokenizer tokenized 9242 tokens at 83651.18 tokens per second.\n"
     ]
    },
    {
     "name": "stdout",
     "output_type": "stream",
     "text": [
      "Computing scores...\n",
      "Computing METEOR score...\n",
      "Computing CIDEr score...\n"
     ]
    },
    {
     "name": "stderr",
     "output_type": "stream",
     "text": [
      "Processing files:  86%|██████████████████████████████████████████████▍       | 898/1044 [38:06<05:59,  2.46s/it]"
     ]
    },
    {
     "name": "stdout",
     "output_type": "stream",
     "text": [
      "Tokenizing...\n"
     ]
    },
    {
     "name": "stderr",
     "output_type": "stream",
     "text": [
      "PTBTokenizer tokenized 61766 tokens at 370140.91 tokens per second.\n",
      "PTBTokenizer tokenized 9238 tokens at 93011.51 tokens per second.\n"
     ]
    },
    {
     "name": "stdout",
     "output_type": "stream",
     "text": [
      "Computing scores...\n",
      "Computing METEOR score...\n",
      "Computing CIDEr score...\n"
     ]
    },
    {
     "name": "stderr",
     "output_type": "stream",
     "text": [
      "Processing files:  86%|██████████████████████████████████████████████▌       | 899/1044 [38:09<05:56,  2.46s/it]"
     ]
    },
    {
     "name": "stdout",
     "output_type": "stream",
     "text": [
      "Tokenizing...\n"
     ]
    },
    {
     "name": "stderr",
     "output_type": "stream",
     "text": [
      "PTBTokenizer tokenized 61766 tokens at 345378.61 tokens per second.\n",
      "PTBTokenizer tokenized 9133 tokens at 85852.44 tokens per second.\n"
     ]
    },
    {
     "name": "stdout",
     "output_type": "stream",
     "text": [
      "Computing scores...\n",
      "Computing METEOR score...\n",
      "Computing CIDEr score...\n"
     ]
    },
    {
     "name": "stderr",
     "output_type": "stream",
     "text": [
      "Processing files:  86%|██████████████████████████████████████████████▌       | 900/1044 [38:11<05:55,  2.47s/it]"
     ]
    },
    {
     "name": "stdout",
     "output_type": "stream",
     "text": [
      "Tokenizing...\n"
     ]
    },
    {
     "name": "stderr",
     "output_type": "stream",
     "text": [
      "PTBTokenizer tokenized 61766 tokens at 328447.97 tokens per second.\n",
      "PTBTokenizer tokenized 9242 tokens at 92242.23 tokens per second.\n"
     ]
    },
    {
     "name": "stdout",
     "output_type": "stream",
     "text": [
      "Computing scores...\n",
      "Computing METEOR score...\n",
      "Computing CIDEr score...\n"
     ]
    },
    {
     "name": "stderr",
     "output_type": "stream",
     "text": [
      "Processing files:  86%|██████████████████████████████████████████████▌       | 901/1044 [38:14<05:53,  2.47s/it]"
     ]
    },
    {
     "name": "stdout",
     "output_type": "stream",
     "text": [
      "Tokenizing...\n"
     ]
    },
    {
     "name": "stderr",
     "output_type": "stream",
     "text": [
      "PTBTokenizer tokenized 61766 tokens at 336058.27 tokens per second.\n",
      "PTBTokenizer tokenized 8482 tokens at 75910.13 tokens per second.\n"
     ]
    },
    {
     "name": "stdout",
     "output_type": "stream",
     "text": [
      "Computing scores...\n",
      "Computing METEOR score...\n",
      "Computing CIDEr score...\n"
     ]
    },
    {
     "name": "stderr",
     "output_type": "stream",
     "text": [
      "Processing files:  86%|██████████████████████████████████████████████▋       | 902/1044 [38:16<05:51,  2.48s/it]"
     ]
    },
    {
     "name": "stdout",
     "output_type": "stream",
     "text": [
      "Tokenizing...\n"
     ]
    },
    {
     "name": "stderr",
     "output_type": "stream",
     "text": [
      "PTBTokenizer tokenized 61766 tokens at 348559.05 tokens per second.\n",
      "PTBTokenizer tokenized 9242 tokens at 89768.18 tokens per second.\n"
     ]
    },
    {
     "name": "stdout",
     "output_type": "stream",
     "text": [
      "Computing scores...\n",
      "Computing METEOR score...\n",
      "Computing CIDEr score...\n"
     ]
    },
    {
     "name": "stderr",
     "output_type": "stream",
     "text": [
      "Processing files:  86%|██████████████████████████████████████████████▋       | 903/1044 [38:19<05:45,  2.45s/it]"
     ]
    },
    {
     "name": "stdout",
     "output_type": "stream",
     "text": [
      "Tokenizing...\n"
     ]
    },
    {
     "name": "stderr",
     "output_type": "stream",
     "text": [
      "PTBTokenizer tokenized 61766 tokens at 326986.11 tokens per second.\n",
      "PTBTokenizer tokenized 12197 tokens at 104619.44 tokens per second.\n"
     ]
    },
    {
     "name": "stdout",
     "output_type": "stream",
     "text": [
      "Computing scores...\n",
      "Computing METEOR score...\n",
      "Computing CIDEr score...\n"
     ]
    },
    {
     "name": "stderr",
     "output_type": "stream",
     "text": [
      "Processing files:  87%|██████████████████████████████████████████████▊       | 904/1044 [38:21<05:51,  2.51s/it]"
     ]
    },
    {
     "name": "stdout",
     "output_type": "stream",
     "text": [
      "Tokenizing...\n"
     ]
    },
    {
     "name": "stderr",
     "output_type": "stream",
     "text": [
      "PTBTokenizer tokenized 61766 tokens at 346028.50 tokens per second.\n",
      "PTBTokenizer tokenized 8055 tokens at 81374.78 tokens per second.\n"
     ]
    },
    {
     "name": "stdout",
     "output_type": "stream",
     "text": [
      "Computing scores...\n",
      "Computing METEOR score...\n",
      "Computing CIDEr score...\n"
     ]
    },
    {
     "name": "stderr",
     "output_type": "stream",
     "text": [
      "Processing files:  87%|██████████████████████████████████████████████▊       | 905/1044 [38:24<05:39,  2.44s/it]"
     ]
    },
    {
     "name": "stdout",
     "output_type": "stream",
     "text": [
      "Tokenizing...\n"
     ]
    },
    {
     "name": "stderr",
     "output_type": "stream",
     "text": [
      "PTBTokenizer tokenized 61766 tokens at 358579.07 tokens per second.\n",
      "PTBTokenizer tokenized 11791 tokens at 107116.39 tokens per second.\n"
     ]
    },
    {
     "name": "stdout",
     "output_type": "stream",
     "text": [
      "Computing scores...\n",
      "Computing METEOR score...\n",
      "Computing CIDEr score...\n"
     ]
    },
    {
     "name": "stderr",
     "output_type": "stream",
     "text": [
      "Processing files:  87%|██████████████████████████████████████████████▊       | 906/1044 [38:26<05:44,  2.49s/it]"
     ]
    },
    {
     "name": "stdout",
     "output_type": "stream",
     "text": [
      "Tokenizing...\n"
     ]
    },
    {
     "name": "stderr",
     "output_type": "stream",
     "text": [
      "PTBTokenizer tokenized 61766 tokens at 337033.39 tokens per second.\n",
      "PTBTokenizer tokenized 9213 tokens at 88137.43 tokens per second.\n"
     ]
    },
    {
     "name": "stdout",
     "output_type": "stream",
     "text": [
      "Computing scores...\n",
      "Computing METEOR score...\n",
      "Computing CIDEr score...\n"
     ]
    },
    {
     "name": "stderr",
     "output_type": "stream",
     "text": [
      "Processing files:  87%|██████████████████████████████████████████████▉       | 907/1044 [38:29<05:38,  2.47s/it]"
     ]
    },
    {
     "name": "stdout",
     "output_type": "stream",
     "text": [
      "Tokenizing...\n"
     ]
    },
    {
     "name": "stderr",
     "output_type": "stream",
     "text": [
      "PTBTokenizer tokenized 61766 tokens at 352330.64 tokens per second.\n",
      "PTBTokenizer tokenized 8089 tokens at 81548.60 tokens per second.\n"
     ]
    },
    {
     "name": "stdout",
     "output_type": "stream",
     "text": [
      "Computing scores...\n",
      "Computing METEOR score...\n",
      "Computing CIDEr score...\n"
     ]
    },
    {
     "name": "stderr",
     "output_type": "stream",
     "text": [
      "Processing files:  87%|██████████████████████████████████████████████▉       | 908/1044 [38:31<05:32,  2.45s/it]"
     ]
    },
    {
     "name": "stdout",
     "output_type": "stream",
     "text": [
      "Tokenizing...\n"
     ]
    },
    {
     "name": "stderr",
     "output_type": "stream",
     "text": [
      "PTBTokenizer tokenized 61766 tokens at 348629.26 tokens per second.\n",
      "PTBTokenizer tokenized 8089 tokens at 81915.61 tokens per second.\n"
     ]
    },
    {
     "name": "stdout",
     "output_type": "stream",
     "text": [
      "Computing scores...\n",
      "Computing METEOR score...\n",
      "Computing CIDEr score...\n"
     ]
    },
    {
     "name": "stderr",
     "output_type": "stream",
     "text": [
      "Processing files:  87%|███████████████████████████████████████████████       | 909/1044 [38:33<05:23,  2.40s/it]"
     ]
    },
    {
     "name": "stdout",
     "output_type": "stream",
     "text": [
      "Tokenizing...\n"
     ]
    },
    {
     "name": "stderr",
     "output_type": "stream",
     "text": [
      "PTBTokenizer tokenized 61766 tokens at 337415.14 tokens per second.\n",
      "PTBTokenizer tokenized 9242 tokens at 90759.45 tokens per second.\n"
     ]
    },
    {
     "name": "stdout",
     "output_type": "stream",
     "text": [
      "Computing scores...\n",
      "Computing METEOR score...\n",
      "Computing CIDEr score...\n"
     ]
    },
    {
     "name": "stderr",
     "output_type": "stream",
     "text": [
      "Processing files:  87%|███████████████████████████████████████████████       | 910/1044 [38:36<05:26,  2.44s/it]"
     ]
    },
    {
     "name": "stdout",
     "output_type": "stream",
     "text": [
      "Tokenizing...\n"
     ]
    },
    {
     "name": "stderr",
     "output_type": "stream",
     "text": [
      "PTBTokenizer tokenized 61766 tokens at 330481.64 tokens per second.\n",
      "PTBTokenizer tokenized 8055 tokens at 83394.60 tokens per second.\n"
     ]
    },
    {
     "name": "stdout",
     "output_type": "stream",
     "text": [
      "Computing scores...\n",
      "Computing METEOR score...\n",
      "Computing CIDEr score...\n"
     ]
    },
    {
     "name": "stderr",
     "output_type": "stream",
     "text": [
      "Processing files:  87%|███████████████████████████████████████████████       | 911/1044 [38:38<05:22,  2.43s/it]"
     ]
    },
    {
     "name": "stdout",
     "output_type": "stream",
     "text": [
      "Tokenizing...\n"
     ]
    },
    {
     "name": "stderr",
     "output_type": "stream",
     "text": [
      "PTBTokenizer tokenized 61766 tokens at 333031.53 tokens per second.\n",
      "PTBTokenizer tokenized 9204 tokens at 89877.48 tokens per second.\n"
     ]
    },
    {
     "name": "stdout",
     "output_type": "stream",
     "text": [
      "Computing scores...\n",
      "Computing METEOR score...\n",
      "Computing CIDEr score...\n"
     ]
    },
    {
     "name": "stderr",
     "output_type": "stream",
     "text": [
      "Processing files:  87%|███████████████████████████████████████████████▏      | 912/1044 [38:41<05:24,  2.46s/it]"
     ]
    },
    {
     "name": "stdout",
     "output_type": "stream",
     "text": [
      "Tokenizing...\n"
     ]
    },
    {
     "name": "stderr",
     "output_type": "stream",
     "text": [
      "PTBTokenizer tokenized 61766 tokens at 319032.07 tokens per second.\n",
      "PTBTokenizer tokenized 9090 tokens at 89949.98 tokens per second.\n"
     ]
    },
    {
     "name": "stdout",
     "output_type": "stream",
     "text": [
      "Computing scores...\n",
      "Computing METEOR score...\n",
      "Computing CIDEr score...\n"
     ]
    },
    {
     "name": "stderr",
     "output_type": "stream",
     "text": [
      "Processing files:  87%|███████████████████████████████████████████████▏      | 913/1044 [38:43<05:25,  2.49s/it]"
     ]
    },
    {
     "name": "stdout",
     "output_type": "stream",
     "text": [
      "Tokenizing...\n"
     ]
    },
    {
     "name": "stderr",
     "output_type": "stream",
     "text": [
      "PTBTokenizer tokenized 61766 tokens at 314332.67 tokens per second.\n",
      "PTBTokenizer tokenized 7902 tokens at 81743.99 tokens per second.\n"
     ]
    },
    {
     "name": "stdout",
     "output_type": "stream",
     "text": [
      "Computing scores...\n",
      "Computing METEOR score...\n",
      "Computing CIDEr score...\n"
     ]
    },
    {
     "name": "stderr",
     "output_type": "stream",
     "text": [
      "Processing files:  88%|███████████████████████████████████████████████▎      | 914/1044 [38:46<05:24,  2.50s/it]"
     ]
    },
    {
     "name": "stdout",
     "output_type": "stream",
     "text": [
      "Tokenizing...\n"
     ]
    },
    {
     "name": "stderr",
     "output_type": "stream",
     "text": [
      "PTBTokenizer tokenized 61766 tokens at 335133.29 tokens per second.\n",
      "PTBTokenizer tokenized 9242 tokens at 92102.07 tokens per second.\n"
     ]
    },
    {
     "name": "stdout",
     "output_type": "stream",
     "text": [
      "Computing scores...\n",
      "Computing METEOR score...\n",
      "Computing CIDEr score...\n"
     ]
    },
    {
     "name": "stderr",
     "output_type": "stream",
     "text": [
      "Processing files:  88%|███████████████████████████████████████████████▎      | 915/1044 [38:48<05:20,  2.48s/it]"
     ]
    },
    {
     "name": "stdout",
     "output_type": "stream",
     "text": [
      "Tokenizing...\n"
     ]
    },
    {
     "name": "stderr",
     "output_type": "stream",
     "text": [
      "PTBTokenizer tokenized 61766 tokens at 343060.59 tokens per second.\n",
      "PTBTokenizer tokenized 9242 tokens at 91279.50 tokens per second.\n"
     ]
    },
    {
     "name": "stdout",
     "output_type": "stream",
     "text": [
      "Computing scores...\n",
      "Computing METEOR score...\n",
      "Computing CIDEr score...\n"
     ]
    },
    {
     "name": "stderr",
     "output_type": "stream",
     "text": [
      "Processing files:  88%|███████████████████████████████████████████████▍      | 916/1044 [38:51<05:16,  2.47s/it]"
     ]
    },
    {
     "name": "stdout",
     "output_type": "stream",
     "text": [
      "Tokenizing...\n"
     ]
    },
    {
     "name": "stderr",
     "output_type": "stream",
     "text": [
      "PTBTokenizer tokenized 61766 tokens at 309110.64 tokens per second.\n",
      "PTBTokenizer tokenized 9242 tokens at 88699.49 tokens per second.\n"
     ]
    },
    {
     "name": "stdout",
     "output_type": "stream",
     "text": [
      "Computing scores...\n",
      "Computing METEOR score...\n",
      "Computing CIDEr score...\n"
     ]
    },
    {
     "name": "stderr",
     "output_type": "stream",
     "text": [
      "Processing files:  88%|███████████████████████████████████████████████▍      | 917/1044 [38:53<05:14,  2.48s/it]"
     ]
    },
    {
     "name": "stdout",
     "output_type": "stream",
     "text": [
      "Tokenizing...\n"
     ]
    },
    {
     "name": "stderr",
     "output_type": "stream",
     "text": [
      "PTBTokenizer tokenized 61766 tokens at 367326.48 tokens per second.\n",
      "PTBTokenizer tokenized 9242 tokens at 92921.79 tokens per second.\n"
     ]
    },
    {
     "name": "stdout",
     "output_type": "stream",
     "text": [
      "Computing scores...\n",
      "Computing METEOR score...\n",
      "Computing CIDEr score...\n"
     ]
    },
    {
     "name": "stderr",
     "output_type": "stream",
     "text": [
      "Processing files:  88%|███████████████████████████████████████████████▍      | 918/1044 [38:56<05:09,  2.46s/it]"
     ]
    },
    {
     "name": "stdout",
     "output_type": "stream",
     "text": [
      "Tokenizing...\n"
     ]
    },
    {
     "name": "stderr",
     "output_type": "stream",
     "text": [
      "PTBTokenizer tokenized 61766 tokens at 338172.82 tokens per second.\n",
      "PTBTokenizer tokenized 7755 tokens at 81942.68 tokens per second.\n"
     ]
    },
    {
     "name": "stdout",
     "output_type": "stream",
     "text": [
      "Computing scores...\n",
      "Computing METEOR score...\n",
      "Computing CIDEr score...\n"
     ]
    },
    {
     "name": "stderr",
     "output_type": "stream",
     "text": [
      "Processing files:  88%|███████████████████████████████████████████████▌      | 919/1044 [38:58<04:59,  2.40s/it]"
     ]
    },
    {
     "name": "stdout",
     "output_type": "stream",
     "text": [
      "Tokenizing...\n"
     ]
    },
    {
     "name": "stderr",
     "output_type": "stream",
     "text": [
      "PTBTokenizer tokenized 61766 tokens at 336980.09 tokens per second.\n",
      "PTBTokenizer tokenized 8051 tokens at 81751.58 tokens per second.\n"
     ]
    },
    {
     "name": "stdout",
     "output_type": "stream",
     "text": [
      "Computing scores...\n",
      "Computing METEOR score...\n",
      "Computing CIDEr score...\n"
     ]
    },
    {
     "name": "stderr",
     "output_type": "stream",
     "text": [
      "Processing files:  88%|███████████████████████████████████████████████▌      | 920/1044 [39:00<04:58,  2.41s/it]"
     ]
    },
    {
     "name": "stdout",
     "output_type": "stream",
     "text": [
      "Tokenizing...\n"
     ]
    },
    {
     "name": "stderr",
     "output_type": "stream",
     "text": [
      "PTBTokenizer tokenized 61766 tokens at 346468.51 tokens per second.\n",
      "PTBTokenizer tokenized 9242 tokens at 92542.79 tokens per second.\n"
     ]
    },
    {
     "name": "stdout",
     "output_type": "stream",
     "text": [
      "Computing scores...\n",
      "Computing METEOR score...\n",
      "Computing CIDEr score...\n"
     ]
    },
    {
     "name": "stderr",
     "output_type": "stream",
     "text": [
      "Processing files:  88%|███████████████████████████████████████████████▋      | 921/1044 [39:03<04:59,  2.43s/it]"
     ]
    },
    {
     "name": "stdout",
     "output_type": "stream",
     "text": [
      "Tokenizing...\n"
     ]
    },
    {
     "name": "stderr",
     "output_type": "stream",
     "text": [
      "PTBTokenizer tokenized 61766 tokens at 333976.67 tokens per second.\n",
      "PTBTokenizer tokenized 9180 tokens at 91944.44 tokens per second.\n"
     ]
    },
    {
     "name": "stdout",
     "output_type": "stream",
     "text": [
      "Computing scores...\n",
      "Computing METEOR score...\n",
      "Computing CIDEr score...\n"
     ]
    },
    {
     "name": "stderr",
     "output_type": "stream",
     "text": [
      "Processing files:  88%|███████████████████████████████████████████████▋      | 922/1044 [39:05<04:57,  2.44s/it]"
     ]
    },
    {
     "name": "stdout",
     "output_type": "stream",
     "text": [
      "Tokenizing...\n"
     ]
    },
    {
     "name": "stderr",
     "output_type": "stream",
     "text": [
      "PTBTokenizer tokenized 61766 tokens at 322598.10 tokens per second.\n",
      "PTBTokenizer tokenized 7755 tokens at 74675.53 tokens per second.\n"
     ]
    },
    {
     "name": "stdout",
     "output_type": "stream",
     "text": [
      "Computing scores...\n",
      "Computing METEOR score...\n",
      "Computing CIDEr score...\n"
     ]
    },
    {
     "name": "stderr",
     "output_type": "stream",
     "text": [
      "Processing files:  88%|███████████████████████████████████████████████▋      | 923/1044 [39:08<04:55,  2.44s/it]"
     ]
    },
    {
     "name": "stdout",
     "output_type": "stream",
     "text": [
      "Tokenizing...\n"
     ]
    },
    {
     "name": "stderr",
     "output_type": "stream",
     "text": [
      "PTBTokenizer tokenized 61766 tokens at 344530.35 tokens per second.\n",
      "PTBTokenizer tokenized 9242 tokens at 90694.95 tokens per second.\n"
     ]
    },
    {
     "name": "stdout",
     "output_type": "stream",
     "text": [
      "Computing scores...\n",
      "Computing METEOR score...\n",
      "Computing CIDEr score...\n"
     ]
    },
    {
     "name": "stderr",
     "output_type": "stream",
     "text": [
      "Processing files:  89%|███████████████████████████████████████████████▊      | 924/1044 [39:10<04:49,  2.42s/it]"
     ]
    },
    {
     "name": "stdout",
     "output_type": "stream",
     "text": [
      "Tokenizing...\n"
     ]
    },
    {
     "name": "stderr",
     "output_type": "stream",
     "text": [
      "PTBTokenizer tokenized 61766 tokens at 356332.94 tokens per second.\n",
      "PTBTokenizer tokenized 9239 tokens at 90182.12 tokens per second.\n"
     ]
    },
    {
     "name": "stdout",
     "output_type": "stream",
     "text": [
      "Computing scores...\n",
      "Computing METEOR score...\n",
      "Computing CIDEr score...\n"
     ]
    },
    {
     "name": "stderr",
     "output_type": "stream",
     "text": [
      "Processing files:  89%|███████████████████████████████████████████████▊      | 925/1044 [39:13<04:48,  2.42s/it]"
     ]
    },
    {
     "name": "stdout",
     "output_type": "stream",
     "text": [
      "Tokenizing...\n"
     ]
    },
    {
     "name": "stderr",
     "output_type": "stream",
     "text": [
      "PTBTokenizer tokenized 61766 tokens at 348122.36 tokens per second.\n",
      "PTBTokenizer tokenized 9242 tokens at 92999.80 tokens per second.\n"
     ]
    },
    {
     "name": "stdout",
     "output_type": "stream",
     "text": [
      "Computing scores...\n",
      "Computing METEOR score...\n",
      "Computing CIDEr score...\n"
     ]
    },
    {
     "name": "stderr",
     "output_type": "stream",
     "text": [
      "Processing files:  89%|███████████████████████████████████████████████▉      | 926/1044 [39:15<04:48,  2.44s/it]"
     ]
    },
    {
     "name": "stdout",
     "output_type": "stream",
     "text": [
      "Tokenizing...\n"
     ]
    },
    {
     "name": "stderr",
     "output_type": "stream",
     "text": [
      "PTBTokenizer tokenized 61766 tokens at 347322.88 tokens per second.\n",
      "PTBTokenizer tokenized 11791 tokens at 99696.94 tokens per second.\n"
     ]
    },
    {
     "name": "stdout",
     "output_type": "stream",
     "text": [
      "Computing scores...\n",
      "Computing METEOR score...\n",
      "Computing CIDEr score...\n"
     ]
    },
    {
     "name": "stderr",
     "output_type": "stream",
     "text": [
      "Processing files:  89%|███████████████████████████████████████████████▉      | 927/1044 [39:18<04:54,  2.52s/it]"
     ]
    },
    {
     "name": "stdout",
     "output_type": "stream",
     "text": [
      "Tokenizing...\n"
     ]
    },
    {
     "name": "stderr",
     "output_type": "stream",
     "text": [
      "PTBTokenizer tokenized 61766 tokens at 358385.79 tokens per second.\n",
      "Jul 19, 2024 4:59:42 PM edu.stanford.nlp.process.PTBLexer next\n",
      "WARNING: Untokenizable: � (U+FFFD, decimal: 65533)\n",
      "PTBTokenizer tokenized 10057 tokens at 49730.29 tokens per second.\n"
     ]
    },
    {
     "name": "stdout",
     "output_type": "stream",
     "text": [
      "Computing scores...\n",
      "Computing METEOR score...\n",
      "Computing CIDEr score...\n"
     ]
    },
    {
     "name": "stderr",
     "output_type": "stream",
     "text": [
      "Processing files:  89%|████████████████████████████████████████████████      | 928/1044 [39:20<04:45,  2.46s/it]"
     ]
    },
    {
     "name": "stdout",
     "output_type": "stream",
     "text": [
      "Tokenizing...\n"
     ]
    },
    {
     "name": "stderr",
     "output_type": "stream",
     "text": [
      "PTBTokenizer tokenized 61766 tokens at 341385.97 tokens per second.\n",
      "PTBTokenizer tokenized 9242 tokens at 89327.50 tokens per second.\n"
     ]
    },
    {
     "name": "stdout",
     "output_type": "stream",
     "text": [
      "Computing scores...\n",
      "Computing METEOR score...\n",
      "Computing CIDEr score...\n"
     ]
    },
    {
     "name": "stderr",
     "output_type": "stream",
     "text": [
      "Processing files:  89%|████████████████████████████████████████████████      | 929/1044 [39:22<04:40,  2.44s/it]"
     ]
    },
    {
     "name": "stdout",
     "output_type": "stream",
     "text": [
      "Tokenizing...\n"
     ]
    },
    {
     "name": "stderr",
     "output_type": "stream",
     "text": [
      "PTBTokenizer tokenized 61766 tokens at 342645.17 tokens per second.\n",
      "PTBTokenizer tokenized 9151 tokens at 87301.58 tokens per second.\n"
     ]
    },
    {
     "name": "stdout",
     "output_type": "stream",
     "text": [
      "Computing scores...\n",
      "Computing METEOR score...\n",
      "Computing CIDEr score...\n"
     ]
    },
    {
     "name": "stderr",
     "output_type": "stream",
     "text": [
      "Processing files:  89%|████████████████████████████████████████████████      | 930/1044 [39:25<04:41,  2.47s/it]"
     ]
    },
    {
     "name": "stdout",
     "output_type": "stream",
     "text": [
      "Tokenizing...\n"
     ]
    },
    {
     "name": "stderr",
     "output_type": "stream",
     "text": [
      "PTBTokenizer tokenized 61766 tokens at 359809.06 tokens per second.\n",
      "PTBTokenizer tokenized 9242 tokens at 92729.80 tokens per second.\n"
     ]
    },
    {
     "name": "stdout",
     "output_type": "stream",
     "text": [
      "Computing scores...\n",
      "Computing METEOR score...\n",
      "Computing CIDEr score...\n"
     ]
    },
    {
     "name": "stderr",
     "output_type": "stream",
     "text": [
      "Processing files:  89%|████████████████████████████████████████████████▏     | 931/1044 [39:27<04:36,  2.45s/it]"
     ]
    },
    {
     "name": "stdout",
     "output_type": "stream",
     "text": [
      "Tokenizing...\n"
     ]
    },
    {
     "name": "stderr",
     "output_type": "stream",
     "text": [
      "PTBTokenizer tokenized 61766 tokens at 330586.31 tokens per second.\n",
      "PTBTokenizer tokenized 7755 tokens at 77580.83 tokens per second.\n"
     ]
    },
    {
     "name": "stdout",
     "output_type": "stream",
     "text": [
      "Computing scores...\n",
      "Computing METEOR score...\n",
      "Computing CIDEr score...\n"
     ]
    },
    {
     "name": "stderr",
     "output_type": "stream",
     "text": [
      "Processing files:  89%|████████████████████████████████████████████████▏     | 932/1044 [39:30<04:30,  2.42s/it]"
     ]
    },
    {
     "name": "stdout",
     "output_type": "stream",
     "text": [
      "Tokenizing...\n"
     ]
    },
    {
     "name": "stderr",
     "output_type": "stream",
     "text": [
      "PTBTokenizer tokenized 61766 tokens at 368246.40 tokens per second.\n",
      "PTBTokenizer tokenized 9242 tokens at 91562.00 tokens per second.\n"
     ]
    },
    {
     "name": "stdout",
     "output_type": "stream",
     "text": [
      "Computing scores...\n",
      "Computing METEOR score...\n",
      "Computing CIDEr score...\n"
     ]
    },
    {
     "name": "stderr",
     "output_type": "stream",
     "text": [
      "Processing files:  89%|████████████████████████████████████████████████▎     | 933/1044 [39:32<04:27,  2.41s/it]"
     ]
    },
    {
     "name": "stdout",
     "output_type": "stream",
     "text": [
      "Tokenizing...\n"
     ]
    },
    {
     "name": "stderr",
     "output_type": "stream",
     "text": [
      "PTBTokenizer tokenized 61766 tokens at 308955.36 tokens per second.\n",
      "PTBTokenizer tokenized 9242 tokens at 79619.75 tokens per second.\n"
     ]
    },
    {
     "name": "stdout",
     "output_type": "stream",
     "text": [
      "Computing scores...\n",
      "Computing METEOR score...\n",
      "Computing CIDEr score...\n"
     ]
    },
    {
     "name": "stderr",
     "output_type": "stream",
     "text": [
      "Processing files:  89%|████████████████████████████████████████████████▎     | 934/1044 [39:35<04:29,  2.45s/it]"
     ]
    },
    {
     "name": "stdout",
     "output_type": "stream",
     "text": [
      "Tokenizing...\n"
     ]
    },
    {
     "name": "stderr",
     "output_type": "stream",
     "text": [
      "PTBTokenizer tokenized 61766 tokens at 343955.96 tokens per second.\n",
      "PTBTokenizer tokenized 9267 tokens at 89945.04 tokens per second.\n"
     ]
    },
    {
     "name": "stdout",
     "output_type": "stream",
     "text": [
      "Computing scores...\n",
      "Computing METEOR score...\n",
      "Computing CIDEr score...\n"
     ]
    },
    {
     "name": "stderr",
     "output_type": "stream",
     "text": [
      "Processing files:  90%|████████████████████████████████████████████████▎     | 935/1044 [39:37<04:27,  2.46s/it]"
     ]
    },
    {
     "name": "stdout",
     "output_type": "stream",
     "text": [
      "Tokenizing...\n"
     ]
    },
    {
     "name": "stderr",
     "output_type": "stream",
     "text": [
      "PTBTokenizer tokenized 61766 tokens at 347014.99 tokens per second.\n",
      "PTBTokenizer tokenized 9134 tokens at 87354.65 tokens per second.\n"
     ]
    },
    {
     "name": "stdout",
     "output_type": "stream",
     "text": [
      "Computing scores...\n",
      "Computing METEOR score...\n",
      "Computing CIDEr score...\n"
     ]
    },
    {
     "name": "stderr",
     "output_type": "stream",
     "text": [
      "Processing files:  90%|████████████████████████████████████████████████▍     | 936/1044 [39:40<04:26,  2.46s/it]"
     ]
    },
    {
     "name": "stdout",
     "output_type": "stream",
     "text": [
      "Tokenizing...\n"
     ]
    },
    {
     "name": "stderr",
     "output_type": "stream",
     "text": [
      "PTBTokenizer tokenized 61766 tokens at 328975.70 tokens per second.\n",
      "PTBTokenizer tokenized 7963 tokens at 78547.63 tokens per second.\n"
     ]
    },
    {
     "name": "stdout",
     "output_type": "stream",
     "text": [
      "Computing scores...\n",
      "Computing METEOR score...\n",
      "Computing CIDEr score...\n"
     ]
    },
    {
     "name": "stderr",
     "output_type": "stream",
     "text": [
      "Processing files:  90%|████████████████████████████████████████████████▍     | 937/1044 [39:42<04:19,  2.43s/it]"
     ]
    },
    {
     "name": "stdout",
     "output_type": "stream",
     "text": [
      "Tokenizing...\n"
     ]
    },
    {
     "name": "stderr",
     "output_type": "stream",
     "text": [
      "PTBTokenizer tokenized 61766 tokens at 343946.89 tokens per second.\n",
      "PTBTokenizer tokenized 8482 tokens at 88927.26 tokens per second.\n"
     ]
    },
    {
     "name": "stdout",
     "output_type": "stream",
     "text": [
      "Computing scores...\n",
      "Computing METEOR score...\n",
      "Computing CIDEr score...\n"
     ]
    },
    {
     "name": "stderr",
     "output_type": "stream",
     "text": [
      "Processing files:  90%|████████████████████████████████████████████████▌     | 938/1044 [39:44<04:17,  2.43s/it]"
     ]
    },
    {
     "name": "stdout",
     "output_type": "stream",
     "text": [
      "Tokenizing...\n"
     ]
    },
    {
     "name": "stderr",
     "output_type": "stream",
     "text": [
      "PTBTokenizer tokenized 61766 tokens at 345711.95 tokens per second.\n",
      "PTBTokenizer tokenized 9151 tokens at 89876.98 tokens per second.\n"
     ]
    },
    {
     "name": "stdout",
     "output_type": "stream",
     "text": [
      "Computing scores...\n",
      "Computing METEOR score...\n",
      "Computing CIDEr score...\n"
     ]
    },
    {
     "name": "stderr",
     "output_type": "stream",
     "text": [
      "Processing files:  90%|████████████████████████████████████████████████▌     | 939/1044 [39:47<04:14,  2.42s/it]"
     ]
    },
    {
     "name": "stdout",
     "output_type": "stream",
     "text": [
      "Tokenizing...\n"
     ]
    },
    {
     "name": "stderr",
     "output_type": "stream",
     "text": [
      "PTBTokenizer tokenized 61766 tokens at 334407.28 tokens per second.\n",
      "PTBTokenizer tokenized 9242 tokens at 85525.66 tokens per second.\n"
     ]
    },
    {
     "name": "stdout",
     "output_type": "stream",
     "text": [
      "Computing scores...\n",
      "Computing METEOR score...\n",
      "Computing CIDEr score...\n"
     ]
    },
    {
     "name": "stderr",
     "output_type": "stream",
     "text": [
      "Processing files:  90%|████████████████████████████████████████████████▌     | 940/1044 [39:49<04:17,  2.47s/it]"
     ]
    },
    {
     "name": "stdout",
     "output_type": "stream",
     "text": [
      "Tokenizing...\n"
     ]
    },
    {
     "name": "stderr",
     "output_type": "stream",
     "text": [
      "PTBTokenizer tokenized 61766 tokens at 341364.53 tokens per second.\n",
      "PTBTokenizer tokenized 11657 tokens at 93296.12 tokens per second.\n"
     ]
    },
    {
     "name": "stdout",
     "output_type": "stream",
     "text": [
      "Computing scores...\n",
      "Computing METEOR score...\n",
      "Computing CIDEr score...\n"
     ]
    },
    {
     "name": "stderr",
     "output_type": "stream",
     "text": [
      "Processing files:  90%|████████████████████████████████████████████████▋     | 941/1044 [39:52<04:18,  2.51s/it]"
     ]
    },
    {
     "name": "stdout",
     "output_type": "stream",
     "text": [
      "Tokenizing...\n"
     ]
    },
    {
     "name": "stderr",
     "output_type": "stream",
     "text": [
      "PTBTokenizer tokenized 61766 tokens at 350049.18 tokens per second.\n",
      "PTBTokenizer tokenized 9242 tokens at 92257.42 tokens per second.\n"
     ]
    },
    {
     "name": "stdout",
     "output_type": "stream",
     "text": [
      "Computing scores...\n",
      "Computing METEOR score...\n",
      "Computing CIDEr score...\n"
     ]
    },
    {
     "name": "stderr",
     "output_type": "stream",
     "text": [
      "Processing files:  90%|████████████████████████████████████████████████▋     | 942/1044 [39:54<04:14,  2.49s/it]"
     ]
    },
    {
     "name": "stdout",
     "output_type": "stream",
     "text": [
      "Tokenizing...\n"
     ]
    },
    {
     "name": "stderr",
     "output_type": "stream",
     "text": [
      "PTBTokenizer tokenized 61766 tokens at 355069.56 tokens per second.\n",
      "PTBTokenizer tokenized 7199 tokens at 75145.72 tokens per second.\n"
     ]
    },
    {
     "name": "stdout",
     "output_type": "stream",
     "text": [
      "Computing scores...\n",
      "Computing METEOR score...\n",
      "Computing CIDEr score...\n"
     ]
    },
    {
     "name": "stderr",
     "output_type": "stream",
     "text": [
      "Processing files:  90%|████████████████████████████████████████████████▊     | 943/1044 [39:57<04:07,  2.45s/it]"
     ]
    },
    {
     "name": "stdout",
     "output_type": "stream",
     "text": [
      "Tokenizing...\n"
     ]
    },
    {
     "name": "stderr",
     "output_type": "stream",
     "text": [
      "PTBTokenizer tokenized 61766 tokens at 341082.91 tokens per second.\n",
      "PTBTokenizer tokenized 9241 tokens at 89621.49 tokens per second.\n"
     ]
    },
    {
     "name": "stdout",
     "output_type": "stream",
     "text": [
      "Computing scores...\n",
      "Computing METEOR score...\n",
      "Computing CIDEr score...\n"
     ]
    },
    {
     "name": "stderr",
     "output_type": "stream",
     "text": [
      "Processing files:  90%|████████████████████████████████████████████████▊     | 944/1044 [39:59<04:09,  2.50s/it]"
     ]
    },
    {
     "name": "stdout",
     "output_type": "stream",
     "text": [
      "Tokenizing...\n"
     ]
    },
    {
     "name": "stderr",
     "output_type": "stream",
     "text": [
      "PTBTokenizer tokenized 61766 tokens at 338721.49 tokens per second.\n",
      "PTBTokenizer tokenized 9211 tokens at 89536.72 tokens per second.\n"
     ]
    },
    {
     "name": "stdout",
     "output_type": "stream",
     "text": [
      "Computing scores...\n",
      "Computing METEOR score...\n",
      "Computing CIDEr score...\n"
     ]
    },
    {
     "name": "stderr",
     "output_type": "stream",
     "text": [
      "Processing files:  91%|████████████████████████████████████████████████▉     | 945/1044 [40:02<04:05,  2.48s/it]"
     ]
    },
    {
     "name": "stdout",
     "output_type": "stream",
     "text": [
      "Tokenizing...\n"
     ]
    },
    {
     "name": "stderr",
     "output_type": "stream",
     "text": [
      "PTBTokenizer tokenized 61766 tokens at 343518.71 tokens per second.\n",
      "PTBTokenizer tokenized 7208 tokens at 75763.81 tokens per second.\n"
     ]
    },
    {
     "name": "stdout",
     "output_type": "stream",
     "text": [
      "Computing scores...\n",
      "Computing METEOR score...\n",
      "Computing CIDEr score...\n"
     ]
    },
    {
     "name": "stderr",
     "output_type": "stream",
     "text": [
      "Processing files:  91%|████████████████████████████████████████████████▉     | 946/1044 [40:04<03:57,  2.43s/it]"
     ]
    },
    {
     "name": "stdout",
     "output_type": "stream",
     "text": [
      "Tokenizing...\n"
     ]
    },
    {
     "name": "stderr",
     "output_type": "stream",
     "text": [
      "PTBTokenizer tokenized 61766 tokens at 350401.33 tokens per second.\n",
      "PTBTokenizer tokenized 9239 tokens at 90829.43 tokens per second.\n"
     ]
    },
    {
     "name": "stdout",
     "output_type": "stream",
     "text": [
      "Computing scores...\n",
      "Computing METEOR score...\n",
      "Computing CIDEr score...\n"
     ]
    },
    {
     "name": "stderr",
     "output_type": "stream",
     "text": [
      "Processing files:  91%|████████████████████████████████████████████████▉     | 947/1044 [40:07<03:55,  2.43s/it]"
     ]
    },
    {
     "name": "stdout",
     "output_type": "stream",
     "text": [
      "Tokenizing...\n"
     ]
    },
    {
     "name": "stderr",
     "output_type": "stream",
     "text": [
      "PTBTokenizer tokenized 61766 tokens at 341217.78 tokens per second.\n",
      "PTBTokenizer tokenized 9255 tokens at 92911.06 tokens per second.\n"
     ]
    },
    {
     "name": "stdout",
     "output_type": "stream",
     "text": [
      "Computing scores...\n",
      "Computing METEOR score...\n",
      "Computing CIDEr score...\n"
     ]
    },
    {
     "name": "stderr",
     "output_type": "stream",
     "text": [
      "Processing files:  91%|█████████████████████████████████████████████████     | 948/1044 [40:09<03:53,  2.43s/it]"
     ]
    },
    {
     "name": "stdout",
     "output_type": "stream",
     "text": [
      "Tokenizing...\n"
     ]
    },
    {
     "name": "stderr",
     "output_type": "stream",
     "text": [
      "PTBTokenizer tokenized 61766 tokens at 345780.51 tokens per second.\n",
      "PTBTokenizer tokenized 11791 tokens at 107813.05 tokens per second.\n"
     ]
    },
    {
     "name": "stdout",
     "output_type": "stream",
     "text": [
      "Computing scores...\n",
      "Computing METEOR score...\n",
      "Computing CIDEr score...\n"
     ]
    },
    {
     "name": "stderr",
     "output_type": "stream",
     "text": [
      "Processing files:  91%|█████████████████████████████████████████████████     | 949/1044 [40:12<04:00,  2.53s/it]"
     ]
    },
    {
     "name": "stdout",
     "output_type": "stream",
     "text": [
      "Tokenizing...\n"
     ]
    },
    {
     "name": "stderr",
     "output_type": "stream",
     "text": [
      "PTBTokenizer tokenized 61766 tokens at 340939.28 tokens per second.\n",
      "PTBTokenizer tokenized 9233 tokens at 88351.89 tokens per second.\n"
     ]
    },
    {
     "name": "stdout",
     "output_type": "stream",
     "text": [
      "Computing scores...\n",
      "Computing METEOR score...\n",
      "Computing CIDEr score...\n"
     ]
    },
    {
     "name": "stderr",
     "output_type": "stream",
     "text": [
      "Processing files:  91%|█████████████████████████████████████████████████▏    | 950/1044 [40:14<03:56,  2.52s/it]"
     ]
    },
    {
     "name": "stdout",
     "output_type": "stream",
     "text": [
      "Tokenizing...\n"
     ]
    },
    {
     "name": "stderr",
     "output_type": "stream",
     "text": [
      "PTBTokenizer tokenized 61766 tokens at 361291.31 tokens per second.\n",
      "PTBTokenizer tokenized 9242 tokens at 85320.17 tokens per second.\n"
     ]
    },
    {
     "name": "stdout",
     "output_type": "stream",
     "text": [
      "Computing scores...\n",
      "Computing METEOR score...\n",
      "Computing CIDEr score...\n"
     ]
    },
    {
     "name": "stderr",
     "output_type": "stream",
     "text": [
      "Processing files:  91%|█████████████████████████████████████████████████▏    | 951/1044 [40:17<03:52,  2.51s/it]"
     ]
    },
    {
     "name": "stdout",
     "output_type": "stream",
     "text": [
      "Tokenizing...\n"
     ]
    },
    {
     "name": "stderr",
     "output_type": "stream",
     "text": [
      "PTBTokenizer tokenized 61766 tokens at 346371.34 tokens per second.\n",
      "PTBTokenizer tokenized 9204 tokens at 90415.35 tokens per second.\n"
     ]
    },
    {
     "name": "stdout",
     "output_type": "stream",
     "text": [
      "Computing scores...\n",
      "Computing METEOR score...\n",
      "Computing CIDEr score...\n"
     ]
    },
    {
     "name": "stderr",
     "output_type": "stream",
     "text": [
      "Processing files:  91%|█████████████████████████████████████████████████▏    | 952/1044 [40:19<03:44,  2.44s/it]"
     ]
    },
    {
     "name": "stdout",
     "output_type": "stream",
     "text": [
      "Tokenizing...\n"
     ]
    },
    {
     "name": "stderr",
     "output_type": "stream",
     "text": [
      "PTBTokenizer tokenized 61766 tokens at 334560.22 tokens per second.\n",
      "PTBTokenizer tokenized 9241 tokens at 91885.10 tokens per second.\n"
     ]
    },
    {
     "name": "stdout",
     "output_type": "stream",
     "text": [
      "Computing scores...\n",
      "Computing METEOR score...\n",
      "Computing CIDEr score...\n"
     ]
    },
    {
     "name": "stderr",
     "output_type": "stream",
     "text": [
      "Processing files:  91%|█████████████████████████████████████████████████▎    | 953/1044 [40:22<03:44,  2.46s/it]"
     ]
    },
    {
     "name": "stdout",
     "output_type": "stream",
     "text": [
      "Tokenizing...\n"
     ]
    },
    {
     "name": "stderr",
     "output_type": "stream",
     "text": [
      "PTBTokenizer tokenized 61766 tokens at 338696.29 tokens per second.\n",
      "PTBTokenizer tokenized 9242 tokens at 89422.09 tokens per second.\n"
     ]
    },
    {
     "name": "stdout",
     "output_type": "stream",
     "text": [
      "Computing scores...\n",
      "Computing METEOR score...\n",
      "Computing CIDEr score...\n"
     ]
    },
    {
     "name": "stderr",
     "output_type": "stream",
     "text": [
      "Processing files:  91%|█████████████████████████████████████████████████▎    | 954/1044 [40:24<03:42,  2.48s/it]"
     ]
    },
    {
     "name": "stdout",
     "output_type": "stream",
     "text": [
      "Tokenizing...\n"
     ]
    },
    {
     "name": "stderr",
     "output_type": "stream",
     "text": [
      "PTBTokenizer tokenized 61766 tokens at 340230.28 tokens per second.\n",
      "PTBTokenizer tokenized 9242 tokens at 91347.18 tokens per second.\n"
     ]
    },
    {
     "name": "stdout",
     "output_type": "stream",
     "text": [
      "Computing scores...\n",
      "Computing METEOR score...\n",
      "Computing CIDEr score...\n"
     ]
    },
    {
     "name": "stderr",
     "output_type": "stream",
     "text": [
      "Processing files:  91%|█████████████████████████████████████████████████▍    | 955/1044 [40:27<03:40,  2.48s/it]"
     ]
    },
    {
     "name": "stdout",
     "output_type": "stream",
     "text": [
      "Tokenizing...\n"
     ]
    },
    {
     "name": "stderr",
     "output_type": "stream",
     "text": [
      "PTBTokenizer tokenized 61766 tokens at 320874.37 tokens per second.\n",
      "PTBTokenizer tokenized 9242 tokens at 91516.95 tokens per second.\n"
     ]
    },
    {
     "name": "stdout",
     "output_type": "stream",
     "text": [
      "Computing scores...\n",
      "Computing METEOR score...\n",
      "Computing CIDEr score...\n"
     ]
    },
    {
     "name": "stderr",
     "output_type": "stream",
     "text": [
      "Processing files:  92%|█████████████████████████████████████████████████▍    | 956/1044 [40:29<03:38,  2.48s/it]"
     ]
    },
    {
     "name": "stdout",
     "output_type": "stream",
     "text": [
      "Tokenizing...\n"
     ]
    },
    {
     "name": "stderr",
     "output_type": "stream",
     "text": [
      "PTBTokenizer tokenized 61766 tokens at 343874.04 tokens per second.\n",
      "PTBTokenizer tokenized 9242 tokens at 91245.16 tokens per second.\n"
     ]
    },
    {
     "name": "stdout",
     "output_type": "stream",
     "text": [
      "Computing scores...\n",
      "Computing METEOR score...\n",
      "Computing CIDEr score...\n"
     ]
    },
    {
     "name": "stderr",
     "output_type": "stream",
     "text": [
      "Processing files:  92%|█████████████████████████████████████████████████▌    | 957/1044 [40:32<03:38,  2.51s/it]"
     ]
    },
    {
     "name": "stdout",
     "output_type": "stream",
     "text": [
      "Tokenizing...\n"
     ]
    },
    {
     "name": "stderr",
     "output_type": "stream",
     "text": [
      "PTBTokenizer tokenized 61766 tokens at 328358.61 tokens per second.\n",
      "PTBTokenizer tokenized 9242 tokens at 91602.00 tokens per second.\n"
     ]
    },
    {
     "name": "stdout",
     "output_type": "stream",
     "text": [
      "Computing scores...\n",
      "Computing METEOR score...\n",
      "Computing CIDEr score...\n"
     ]
    },
    {
     "name": "stderr",
     "output_type": "stream",
     "text": [
      "Processing files:  92%|█████████████████████████████████████████████████▌    | 958/1044 [40:34<03:33,  2.49s/it]"
     ]
    },
    {
     "name": "stdout",
     "output_type": "stream",
     "text": [
      "Tokenizing...\n"
     ]
    },
    {
     "name": "stderr",
     "output_type": "stream",
     "text": [
      "PTBTokenizer tokenized 61766 tokens at 344873.60 tokens per second.\n",
      "PTBTokenizer tokenized 8087 tokens at 75607.46 tokens per second.\n"
     ]
    },
    {
     "name": "stdout",
     "output_type": "stream",
     "text": [
      "Computing scores...\n",
      "Computing METEOR score...\n",
      "Computing CIDEr score...\n"
     ]
    },
    {
     "name": "stderr",
     "output_type": "stream",
     "text": [
      "Processing files:  92%|█████████████████████████████████████████████████▌    | 959/1044 [40:36<03:27,  2.44s/it]"
     ]
    },
    {
     "name": "stdout",
     "output_type": "stream",
     "text": [
      "Tokenizing...\n"
     ]
    },
    {
     "name": "stderr",
     "output_type": "stream",
     "text": [
      "PTBTokenizer tokenized 61766 tokens at 345705.35 tokens per second.\n",
      "PTBTokenizer tokenized 9242 tokens at 91216.43 tokens per second.\n"
     ]
    },
    {
     "name": "stdout",
     "output_type": "stream",
     "text": [
      "Computing scores...\n",
      "Computing METEOR score...\n",
      "Computing CIDEr score...\n"
     ]
    },
    {
     "name": "stderr",
     "output_type": "stream",
     "text": [
      "Processing files:  92%|█████████████████████████████████████████████████▋    | 960/1044 [40:39<03:23,  2.43s/it]"
     ]
    },
    {
     "name": "stdout",
     "output_type": "stream",
     "text": [
      "Tokenizing...\n"
     ]
    },
    {
     "name": "stderr",
     "output_type": "stream",
     "text": [
      "PTBTokenizer tokenized 61766 tokens at 343536.90 tokens per second.\n",
      "Jul 19, 2024 5:01:03 PM edu.stanford.nlp.process.PTBLexer next\n",
      "WARNING: Untokenizable: � (U+FFFD, decimal: 65533)\n",
      "PTBTokenizer tokenized 17504 tokens at 118753.07 tokens per second.\n"
     ]
    },
    {
     "name": "stdout",
     "output_type": "stream",
     "text": [
      "Computing scores...\n",
      "Computing METEOR score...\n",
      "Computing CIDEr score...\n"
     ]
    },
    {
     "name": "stderr",
     "output_type": "stream",
     "text": [
      "Processing files:  92%|█████████████████████████████████████████████████▋    | 961/1044 [40:42<03:30,  2.53s/it]"
     ]
    },
    {
     "name": "stdout",
     "output_type": "stream",
     "text": [
      "Tokenizing...\n"
     ]
    },
    {
     "name": "stderr",
     "output_type": "stream",
     "text": [
      "PTBTokenizer tokenized 61766 tokens at 345034.43 tokens per second.\n",
      "PTBTokenizer tokenized 9225 tokens at 91051.98 tokens per second.\n"
     ]
    },
    {
     "name": "stdout",
     "output_type": "stream",
     "text": [
      "Computing scores...\n",
      "Computing METEOR score...\n",
      "Computing CIDEr score...\n"
     ]
    },
    {
     "name": "stderr",
     "output_type": "stream",
     "text": [
      "Processing files:  92%|█████████████████████████████████████████████████▊    | 962/1044 [40:44<03:30,  2.57s/it]"
     ]
    },
    {
     "name": "stdout",
     "output_type": "stream",
     "text": [
      "Tokenizing...\n"
     ]
    },
    {
     "name": "stderr",
     "output_type": "stream",
     "text": [
      "PTBTokenizer tokenized 61766 tokens at 335336.08 tokens per second.\n",
      "PTBTokenizer tokenized 9242 tokens at 92182.17 tokens per second.\n"
     ]
    },
    {
     "name": "stdout",
     "output_type": "stream",
     "text": [
      "Computing scores...\n",
      "Computing METEOR score...\n",
      "Computing CIDEr score...\n"
     ]
    },
    {
     "name": "stderr",
     "output_type": "stream",
     "text": [
      "Processing files:  92%|█████████████████████████████████████████████████▊    | 963/1044 [40:47<03:23,  2.51s/it]"
     ]
    },
    {
     "name": "stdout",
     "output_type": "stream",
     "text": [
      "Tokenizing...\n"
     ]
    },
    {
     "name": "stderr",
     "output_type": "stream",
     "text": [
      "PTBTokenizer tokenized 61766 tokens at 361190.91 tokens per second.\n",
      "PTBTokenizer tokenized 9231 tokens at 83927.94 tokens per second.\n"
     ]
    },
    {
     "name": "stdout",
     "output_type": "stream",
     "text": [
      "Computing scores...\n",
      "Computing METEOR score...\n",
      "Computing CIDEr score...\n"
     ]
    },
    {
     "name": "stderr",
     "output_type": "stream",
     "text": [
      "Processing files:  92%|█████████████████████████████████████████████████▊    | 964/1044 [40:49<03:21,  2.52s/it]"
     ]
    },
    {
     "name": "stdout",
     "output_type": "stream",
     "text": [
      "Tokenizing...\n"
     ]
    },
    {
     "name": "stderr",
     "output_type": "stream",
     "text": [
      "PTBTokenizer tokenized 61766 tokens at 348392.45 tokens per second.\n",
      "PTBTokenizer tokenized 8523 tokens at 84466.39 tokens per second.\n"
     ]
    },
    {
     "name": "stdout",
     "output_type": "stream",
     "text": [
      "Computing scores...\n",
      "Computing METEOR score...\n",
      "Computing CIDEr score...\n"
     ]
    },
    {
     "name": "stderr",
     "output_type": "stream",
     "text": [
      "Processing files:  92%|█████████████████████████████████████████████████▉    | 965/1044 [40:52<03:18,  2.51s/it]"
     ]
    },
    {
     "name": "stdout",
     "output_type": "stream",
     "text": [
      "Tokenizing...\n"
     ]
    },
    {
     "name": "stderr",
     "output_type": "stream",
     "text": [
      "PTBTokenizer tokenized 61766 tokens at 338732.65 tokens per second.\n",
      "PTBTokenizer tokenized 9242 tokens at 90879.11 tokens per second.\n"
     ]
    },
    {
     "name": "stdout",
     "output_type": "stream",
     "text": [
      "Computing scores...\n",
      "Computing METEOR score...\n",
      "Computing CIDEr score...\n"
     ]
    },
    {
     "name": "stderr",
     "output_type": "stream",
     "text": [
      "Processing files:  93%|█████████████████████████████████████████████████▉    | 966/1044 [40:54<03:19,  2.55s/it]"
     ]
    },
    {
     "name": "stdout",
     "output_type": "stream",
     "text": [
      "Tokenizing...\n"
     ]
    },
    {
     "name": "stderr",
     "output_type": "stream",
     "text": [
      "PTBTokenizer tokenized 61766 tokens at 344759.22 tokens per second.\n",
      "Jul 19, 2024 5:01:18 PM edu.stanford.nlp.process.PTBLexer next\n",
      "WARNING: Untokenizable: � (U+FFFD, decimal: 65533)\n",
      "PTBTokenizer tokenized 17329 tokens at 107890.99 tokens per second.\n"
     ]
    },
    {
     "name": "stdout",
     "output_type": "stream",
     "text": [
      "Computing scores...\n",
      "Computing METEOR score...\n",
      "Computing CIDEr score...\n"
     ]
    },
    {
     "name": "stderr",
     "output_type": "stream",
     "text": [
      "Processing files:  93%|██████████████████████████████████████████████████    | 967/1044 [40:57<03:26,  2.69s/it]"
     ]
    },
    {
     "name": "stdout",
     "output_type": "stream",
     "text": [
      "Tokenizing...\n"
     ]
    },
    {
     "name": "stderr",
     "output_type": "stream",
     "text": [
      "PTBTokenizer tokenized 61766 tokens at 304539.63 tokens per second.\n",
      "PTBTokenizer tokenized 9204 tokens at 92718.60 tokens per second.\n"
     ]
    },
    {
     "name": "stdout",
     "output_type": "stream",
     "text": [
      "Computing scores...\n",
      "Computing METEOR score...\n",
      "Computing CIDEr score...\n"
     ]
    },
    {
     "name": "stderr",
     "output_type": "stream",
     "text": [
      "Processing files:  93%|██████████████████████████████████████████████████    | 968/1044 [41:00<03:20,  2.63s/it]"
     ]
    },
    {
     "name": "stdout",
     "output_type": "stream",
     "text": [
      "Tokenizing...\n"
     ]
    },
    {
     "name": "stderr",
     "output_type": "stream",
     "text": [
      "PTBTokenizer tokenized 61766 tokens at 341262.41 tokens per second.\n",
      "PTBTokenizer tokenized 8038 tokens at 82182.02 tokens per second.\n"
     ]
    },
    {
     "name": "stdout",
     "output_type": "stream",
     "text": [
      "Computing scores...\n",
      "Computing METEOR score...\n",
      "Computing CIDEr score...\n"
     ]
    },
    {
     "name": "stderr",
     "output_type": "stream",
     "text": [
      "Processing files:  93%|██████████████████████████████████████████████████    | 969/1044 [41:02<03:12,  2.56s/it]"
     ]
    },
    {
     "name": "stdout",
     "output_type": "stream",
     "text": [
      "Tokenizing...\n"
     ]
    },
    {
     "name": "stderr",
     "output_type": "stream",
     "text": [
      "PTBTokenizer tokenized 61766 tokens at 336803.89 tokens per second.\n",
      "PTBTokenizer tokenized 9242 tokens at 92069.00 tokens per second.\n"
     ]
    },
    {
     "name": "stdout",
     "output_type": "stream",
     "text": [
      "Computing scores...\n",
      "Computing METEOR score...\n",
      "Computing CIDEr score...\n"
     ]
    },
    {
     "name": "stderr",
     "output_type": "stream",
     "text": [
      "Processing files:  93%|██████████████████████████████████████████████████▏   | 970/1044 [41:05<03:09,  2.56s/it]"
     ]
    },
    {
     "name": "stdout",
     "output_type": "stream",
     "text": [
      "Tokenizing...\n"
     ]
    },
    {
     "name": "stderr",
     "output_type": "stream",
     "text": [
      "PTBTokenizer tokenized 61766 tokens at 339065.71 tokens per second.\n",
      "PTBTokenizer tokenized 9259 tokens at 89461.38 tokens per second.\n"
     ]
    },
    {
     "name": "stdout",
     "output_type": "stream",
     "text": [
      "Computing scores...\n",
      "Computing METEOR score...\n",
      "Computing CIDEr score...\n"
     ]
    },
    {
     "name": "stderr",
     "output_type": "stream",
     "text": [
      "Processing files:  93%|██████████████████████████████████████████████████▏   | 971/1044 [41:07<03:05,  2.54s/it]"
     ]
    },
    {
     "name": "stdout",
     "output_type": "stream",
     "text": [
      "Tokenizing...\n"
     ]
    },
    {
     "name": "stderr",
     "output_type": "stream",
     "text": [
      "PTBTokenizer tokenized 61766 tokens at 360992.44 tokens per second.\n",
      "PTBTokenizer tokenized 9242 tokens at 90378.79 tokens per second.\n"
     ]
    },
    {
     "name": "stdout",
     "output_type": "stream",
     "text": [
      "Computing scores...\n",
      "Computing METEOR score...\n",
      "Computing CIDEr score...\n"
     ]
    },
    {
     "name": "stderr",
     "output_type": "stream",
     "text": [
      "Processing files:  93%|██████████████████████████████████████████████████▎   | 972/1044 [41:10<03:02,  2.53s/it]"
     ]
    },
    {
     "name": "stdout",
     "output_type": "stream",
     "text": [
      "Tokenizing...\n"
     ]
    },
    {
     "name": "stderr",
     "output_type": "stream",
     "text": [
      "PTBTokenizer tokenized 61766 tokens at 350511.52 tokens per second.\n",
      "PTBTokenizer tokenized 7968 tokens at 74494.92 tokens per second.\n"
     ]
    },
    {
     "name": "stdout",
     "output_type": "stream",
     "text": [
      "Computing scores...\n",
      "Computing METEOR score...\n",
      "Computing CIDEr score...\n"
     ]
    },
    {
     "name": "stderr",
     "output_type": "stream",
     "text": [
      "Processing files:  93%|██████████████████████████████████████████████████▎   | 973/1044 [41:12<02:55,  2.47s/it]"
     ]
    },
    {
     "name": "stdout",
     "output_type": "stream",
     "text": [
      "Tokenizing...\n"
     ]
    },
    {
     "name": "stderr",
     "output_type": "stream",
     "text": [
      "PTBTokenizer tokenized 61766 tokens at 359855.32 tokens per second.\n",
      "PTBTokenizer tokenized 6926 tokens at 72689.69 tokens per second.\n"
     ]
    },
    {
     "name": "stdout",
     "output_type": "stream",
     "text": [
      "Computing scores...\n",
      "Computing METEOR score...\n",
      "Computing CIDEr score...\n"
     ]
    },
    {
     "name": "stderr",
     "output_type": "stream",
     "text": [
      "Processing files:  93%|██████████████████████████████████████████████████▍   | 974/1044 [41:14<02:47,  2.39s/it]"
     ]
    },
    {
     "name": "stdout",
     "output_type": "stream",
     "text": [
      "Tokenizing...\n"
     ]
    },
    {
     "name": "stderr",
     "output_type": "stream",
     "text": [
      "PTBTokenizer tokenized 61766 tokens at 326837.94 tokens per second.\n",
      "PTBTokenizer tokenized 9241 tokens at 90670.95 tokens per second.\n"
     ]
    },
    {
     "name": "stdout",
     "output_type": "stream",
     "text": [
      "Computing scores...\n",
      "Computing METEOR score...\n",
      "Computing CIDEr score...\n"
     ]
    },
    {
     "name": "stderr",
     "output_type": "stream",
     "text": [
      "Processing files:  93%|██████████████████████████████████████████████████▍   | 975/1044 [41:17<02:47,  2.43s/it]"
     ]
    },
    {
     "name": "stdout",
     "output_type": "stream",
     "text": [
      "Tokenizing...\n"
     ]
    },
    {
     "name": "stderr",
     "output_type": "stream",
     "text": [
      "PTBTokenizer tokenized 61766 tokens at 351557.75 tokens per second.\n",
      "PTBTokenizer tokenized 7199 tokens at 74273.90 tokens per second.\n"
     ]
    },
    {
     "name": "stdout",
     "output_type": "stream",
     "text": [
      "Computing scores...\n",
      "Computing METEOR score...\n",
      "Computing CIDEr score...\n"
     ]
    },
    {
     "name": "stderr",
     "output_type": "stream",
     "text": [
      "Processing files:  93%|██████████████████████████████████████████████████▍   | 976/1044 [41:19<02:43,  2.40s/it]"
     ]
    },
    {
     "name": "stdout",
     "output_type": "stream",
     "text": [
      "Tokenizing...\n"
     ]
    },
    {
     "name": "stderr",
     "output_type": "stream",
     "text": [
      "PTBTokenizer tokenized 61766 tokens at 349509.07 tokens per second.\n",
      "PTBTokenizer tokenized 8523 tokens at 86901.27 tokens per second.\n"
     ]
    },
    {
     "name": "stdout",
     "output_type": "stream",
     "text": [
      "Computing scores...\n",
      "Computing METEOR score...\n",
      "Computing CIDEr score...\n"
     ]
    },
    {
     "name": "stderr",
     "output_type": "stream",
     "text": [
      "Processing files:  94%|██████████████████████████████████████████████████▌   | 977/1044 [41:21<02:41,  2.40s/it]"
     ]
    },
    {
     "name": "stdout",
     "output_type": "stream",
     "text": [
      "Tokenizing...\n"
     ]
    },
    {
     "name": "stderr",
     "output_type": "stream",
     "text": [
      "PTBTokenizer tokenized 61766 tokens at 340857.55 tokens per second.\n",
      "PTBTokenizer tokenized 9169 tokens at 87477.23 tokens per second.\n"
     ]
    },
    {
     "name": "stdout",
     "output_type": "stream",
     "text": [
      "Computing scores...\n",
      "Computing METEOR score...\n",
      "Computing CIDEr score...\n"
     ]
    },
    {
     "name": "stderr",
     "output_type": "stream",
     "text": [
      "Processing files:  94%|██████████████████████████████████████████████████▌   | 978/1044 [41:24<02:40,  2.43s/it]"
     ]
    },
    {
     "name": "stdout",
     "output_type": "stream",
     "text": [
      "Tokenizing...\n"
     ]
    },
    {
     "name": "stderr",
     "output_type": "stream",
     "text": [
      "PTBTokenizer tokenized 61766 tokens at 344363.50 tokens per second.\n",
      "PTBTokenizer tokenized 7654 tokens at 80761.61 tokens per second.\n"
     ]
    },
    {
     "name": "stdout",
     "output_type": "stream",
     "text": [
      "Computing scores...\n",
      "Computing METEOR score...\n",
      "Computing CIDEr score...\n"
     ]
    },
    {
     "name": "stderr",
     "output_type": "stream",
     "text": [
      "Processing files:  94%|██████████████████████████████████████████████████▋   | 979/1044 [41:26<02:37,  2.43s/it]"
     ]
    },
    {
     "name": "stdout",
     "output_type": "stream",
     "text": [
      "Tokenizing...\n"
     ]
    },
    {
     "name": "stderr",
     "output_type": "stream",
     "text": [
      "PTBTokenizer tokenized 61766 tokens at 359326.79 tokens per second.\n",
      "PTBTokenizer tokenized 9158 tokens at 89725.03 tokens per second.\n"
     ]
    },
    {
     "name": "stdout",
     "output_type": "stream",
     "text": [
      "Computing scores...\n",
      "Computing METEOR score...\n",
      "Computing CIDEr score...\n"
     ]
    },
    {
     "name": "stderr",
     "output_type": "stream",
     "text": [
      "Processing files:  94%|██████████████████████████████████████████████████▋   | 980/1044 [41:29<02:36,  2.44s/it]"
     ]
    },
    {
     "name": "stdout",
     "output_type": "stream",
     "text": [
      "Tokenizing...\n"
     ]
    },
    {
     "name": "stderr",
     "output_type": "stream",
     "text": [
      "PTBTokenizer tokenized 61766 tokens at 342025.71 tokens per second.\n",
      "PTBTokenizer tokenized 6802 tokens at 72503.55 tokens per second.\n"
     ]
    },
    {
     "name": "stdout",
     "output_type": "stream",
     "text": [
      "Computing scores...\n",
      "Computing METEOR score...\n",
      "Computing CIDEr score...\n"
     ]
    },
    {
     "name": "stderr",
     "output_type": "stream",
     "text": [
      "Processing files:  94%|██████████████████████████████████████████████████▋   | 981/1044 [41:31<02:30,  2.38s/it]"
     ]
    },
    {
     "name": "stdout",
     "output_type": "stream",
     "text": [
      "Tokenizing...\n"
     ]
    },
    {
     "name": "stderr",
     "output_type": "stream",
     "text": [
      "PTBTokenizer tokenized 61766 tokens at 318149.13 tokens per second.\n",
      "PTBTokenizer tokenized 7266 tokens at 76673.98 tokens per second.\n"
     ]
    },
    {
     "name": "stdout",
     "output_type": "stream",
     "text": [
      "Computing scores...\n",
      "Computing METEOR score...\n",
      "Computing CIDEr score...\n"
     ]
    },
    {
     "name": "stderr",
     "output_type": "stream",
     "text": [
      "Processing files:  94%|██████████████████████████████████████████████████▊   | 982/1044 [41:33<02:26,  2.36s/it]"
     ]
    },
    {
     "name": "stdout",
     "output_type": "stream",
     "text": [
      "Tokenizing...\n"
     ]
    },
    {
     "name": "stderr",
     "output_type": "stream",
     "text": [
      "PTBTokenizer tokenized 61766 tokens at 346837.01 tokens per second.\n",
      "PTBTokenizer tokenized 8070 tokens at 83968.38 tokens per second.\n"
     ]
    },
    {
     "name": "stdout",
     "output_type": "stream",
     "text": [
      "Computing scores...\n",
      "Computing METEOR score...\n",
      "Computing CIDEr score...\n"
     ]
    },
    {
     "name": "stderr",
     "output_type": "stream",
     "text": [
      "Processing files:  94%|██████████████████████████████████████████████████▊   | 983/1044 [41:36<02:25,  2.38s/it]"
     ]
    },
    {
     "name": "stdout",
     "output_type": "stream",
     "text": [
      "Tokenizing...\n"
     ]
    },
    {
     "name": "stderr",
     "output_type": "stream",
     "text": [
      "PTBTokenizer tokenized 61766 tokens at 289022.53 tokens per second.\n",
      "PTBTokenizer tokenized 9242 tokens at 93388.75 tokens per second.\n"
     ]
    },
    {
     "name": "stdout",
     "output_type": "stream",
     "text": [
      "Computing scores...\n",
      "Computing METEOR score...\n",
      "Computing CIDEr score...\n"
     ]
    },
    {
     "name": "stderr",
     "output_type": "stream",
     "text": [
      "Processing files:  94%|██████████████████████████████████████████████████▉   | 984/1044 [41:38<02:25,  2.43s/it]"
     ]
    },
    {
     "name": "stdout",
     "output_type": "stream",
     "text": [
      "Tokenizing...\n"
     ]
    },
    {
     "name": "stderr",
     "output_type": "stream",
     "text": [
      "PTBTokenizer tokenized 61766 tokens at 370407.50 tokens per second.\n",
      "PTBTokenizer tokenized 9242 tokens at 91514.83 tokens per second.\n"
     ]
    },
    {
     "name": "stdout",
     "output_type": "stream",
     "text": [
      "Computing scores...\n",
      "Computing METEOR score...\n",
      "Computing CIDEr score...\n"
     ]
    },
    {
     "name": "stderr",
     "output_type": "stream",
     "text": [
      "Processing files:  94%|██████████████████████████████████████████████████▉   | 985/1044 [41:41<02:23,  2.43s/it]"
     ]
    },
    {
     "name": "stdout",
     "output_type": "stream",
     "text": [
      "Tokenizing...\n"
     ]
    },
    {
     "name": "stderr",
     "output_type": "stream",
     "text": [
      "PTBTokenizer tokenized 61766 tokens at 346859.01 tokens per second.\n",
      "PTBTokenizer tokenized 9238 tokens at 88379.26 tokens per second.\n"
     ]
    },
    {
     "name": "stdout",
     "output_type": "stream",
     "text": [
      "Computing scores...\n",
      "Computing METEOR score...\n",
      "Computing CIDEr score...\n"
     ]
    },
    {
     "name": "stderr",
     "output_type": "stream",
     "text": [
      "Processing files:  94%|███████████████████████████████████████████████████   | 986/1044 [41:43<02:20,  2.43s/it]"
     ]
    },
    {
     "name": "stdout",
     "output_type": "stream",
     "text": [
      "Tokenizing...\n"
     ]
    },
    {
     "name": "stderr",
     "output_type": "stream",
     "text": [
      "PTBTokenizer tokenized 61766 tokens at 325885.69 tokens per second.\n",
      "PTBTokenizer tokenized 8156 tokens at 82925.28 tokens per second.\n"
     ]
    },
    {
     "name": "stdout",
     "output_type": "stream",
     "text": [
      "Computing scores...\n",
      "Computing METEOR score...\n",
      "Computing CIDEr score...\n"
     ]
    },
    {
     "name": "stderr",
     "output_type": "stream",
     "text": [
      "Processing files:  95%|███████████████████████████████████████████████████   | 987/1044 [41:46<02:18,  2.43s/it]"
     ]
    },
    {
     "name": "stdout",
     "output_type": "stream",
     "text": [
      "Tokenizing...\n"
     ]
    },
    {
     "name": "stderr",
     "output_type": "stream",
     "text": [
      "PTBTokenizer tokenized 61766 tokens at 354864.96 tokens per second.\n",
      "PTBTokenizer tokenized 9088 tokens at 88893.61 tokens per second.\n"
     ]
    },
    {
     "name": "stdout",
     "output_type": "stream",
     "text": [
      "Computing scores...\n",
      "Computing METEOR score...\n",
      "Computing CIDEr score...\n"
     ]
    },
    {
     "name": "stderr",
     "output_type": "stream",
     "text": [
      "Processing files:  95%|███████████████████████████████████████████████████   | 988/1044 [41:48<02:18,  2.48s/it]"
     ]
    },
    {
     "name": "stdout",
     "output_type": "stream",
     "text": [
      "Tokenizing...\n"
     ]
    },
    {
     "name": "stderr",
     "output_type": "stream",
     "text": [
      "PTBTokenizer tokenized 61766 tokens at 350592.80 tokens per second.\n",
      "PTBTokenizer tokenized 9242 tokens at 91690.49 tokens per second.\n"
     ]
    },
    {
     "name": "stdout",
     "output_type": "stream",
     "text": [
      "Computing scores...\n",
      "Computing METEOR score...\n",
      "Computing CIDEr score...\n"
     ]
    },
    {
     "name": "stderr",
     "output_type": "stream",
     "text": [
      "Processing files:  95%|███████████████████████████████████████████████████▏  | 989/1044 [41:51<02:16,  2.49s/it]"
     ]
    },
    {
     "name": "stdout",
     "output_type": "stream",
     "text": [
      "Tokenizing...\n"
     ]
    },
    {
     "name": "stderr",
     "output_type": "stream",
     "text": [
      "PTBTokenizer tokenized 61766 tokens at 357609.06 tokens per second.\n",
      "PTBTokenizer tokenized 9242 tokens at 92967.86 tokens per second.\n"
     ]
    },
    {
     "name": "stdout",
     "output_type": "stream",
     "text": [
      "Computing scores...\n",
      "Computing METEOR score...\n",
      "Computing CIDEr score...\n"
     ]
    },
    {
     "name": "stderr",
     "output_type": "stream",
     "text": [
      "Processing files:  95%|███████████████████████████████████████████████████▏  | 990/1044 [41:53<02:13,  2.48s/it]"
     ]
    },
    {
     "name": "stdout",
     "output_type": "stream",
     "text": [
      "Tokenizing...\n"
     ]
    },
    {
     "name": "stderr",
     "output_type": "stream",
     "text": [
      "PTBTokenizer tokenized 61766 tokens at 342924.02 tokens per second.\n",
      "PTBTokenizer tokenized 9233 tokens at 92129.76 tokens per second.\n"
     ]
    },
    {
     "name": "stdout",
     "output_type": "stream",
     "text": [
      "Computing scores...\n",
      "Computing METEOR score...\n",
      "Computing CIDEr score...\n"
     ]
    },
    {
     "name": "stderr",
     "output_type": "stream",
     "text": [
      "Processing files:  95%|███████████████████████████████████████████████████▎  | 991/1044 [41:56<02:09,  2.45s/it]"
     ]
    },
    {
     "name": "stdout",
     "output_type": "stream",
     "text": [
      "Tokenizing...\n"
     ]
    },
    {
     "name": "stderr",
     "output_type": "stream",
     "text": [
      "PTBTokenizer tokenized 61766 tokens at 340423.00 tokens per second.\n",
      "PTBTokenizer tokenized 9059 tokens at 88101.19 tokens per second.\n"
     ]
    },
    {
     "name": "stdout",
     "output_type": "stream",
     "text": [
      "Computing scores...\n",
      "Computing METEOR score...\n",
      "Computing CIDEr score...\n"
     ]
    },
    {
     "name": "stderr",
     "output_type": "stream",
     "text": [
      "Processing files:  95%|███████████████████████████████████████████████████▎  | 992/1044 [41:58<02:08,  2.46s/it]"
     ]
    },
    {
     "name": "stdout",
     "output_type": "stream",
     "text": [
      "Tokenizing...\n"
     ]
    },
    {
     "name": "stderr",
     "output_type": "stream",
     "text": [
      "PTBTokenizer tokenized 61766 tokens at 359631.67 tokens per second.\n",
      "PTBTokenizer tokenized 9235 tokens at 90138.48 tokens per second.\n"
     ]
    },
    {
     "name": "stdout",
     "output_type": "stream",
     "text": [
      "Computing scores...\n",
      "Computing METEOR score...\n",
      "Computing CIDEr score...\n"
     ]
    },
    {
     "name": "stderr",
     "output_type": "stream",
     "text": [
      "Processing files:  95%|███████████████████████████████████████████████████▎  | 993/1044 [42:01<02:05,  2.46s/it]"
     ]
    },
    {
     "name": "stdout",
     "output_type": "stream",
     "text": [
      "Tokenizing...\n"
     ]
    },
    {
     "name": "stderr",
     "output_type": "stream",
     "text": [
      "PTBTokenizer tokenized 61766 tokens at 328222.40 tokens per second.\n",
      "PTBTokenizer tokenized 8089 tokens at 85790.43 tokens per second.\n"
     ]
    },
    {
     "name": "stdout",
     "output_type": "stream",
     "text": [
      "Computing scores...\n",
      "Computing METEOR score...\n",
      "Computing CIDEr score...\n"
     ]
    },
    {
     "name": "stderr",
     "output_type": "stream",
     "text": [
      "Processing files:  95%|███████████████████████████████████████████████████▍  | 994/1044 [42:03<02:00,  2.41s/it]"
     ]
    },
    {
     "name": "stdout",
     "output_type": "stream",
     "text": [
      "Tokenizing...\n"
     ]
    },
    {
     "name": "stderr",
     "output_type": "stream",
     "text": [
      "PTBTokenizer tokenized 61766 tokens at 369137.88 tokens per second.\n",
      "PTBTokenizer tokenized 8089 tokens at 83445.73 tokens per second.\n"
     ]
    },
    {
     "name": "stdout",
     "output_type": "stream",
     "text": [
      "Computing scores...\n",
      "Computing METEOR score...\n",
      "Computing CIDEr score...\n"
     ]
    },
    {
     "name": "stderr",
     "output_type": "stream",
     "text": [
      "Processing files:  95%|███████████████████████████████████████████████████▍  | 995/1044 [42:05<01:56,  2.39s/it]"
     ]
    },
    {
     "name": "stdout",
     "output_type": "stream",
     "text": [
      "Tokenizing...\n"
     ]
    },
    {
     "name": "stderr",
     "output_type": "stream",
     "text": [
      "PTBTokenizer tokenized 61766 tokens at 352105.94 tokens per second.\n",
      "PTBTokenizer tokenized 7733 tokens at 80239.42 tokens per second.\n"
     ]
    },
    {
     "name": "stdout",
     "output_type": "stream",
     "text": [
      "Computing scores...\n",
      "Computing METEOR score...\n",
      "Computing CIDEr score...\n"
     ]
    },
    {
     "name": "stderr",
     "output_type": "stream",
     "text": [
      "Processing files:  95%|███████████████████████████████████████████████████▌  | 996/1044 [42:08<01:55,  2.40s/it]"
     ]
    },
    {
     "name": "stdout",
     "output_type": "stream",
     "text": [
      "Tokenizing...\n"
     ]
    },
    {
     "name": "stderr",
     "output_type": "stream",
     "text": [
      "PTBTokenizer tokenized 61766 tokens at 341438.22 tokens per second.\n",
      "PTBTokenizer tokenized 9267 tokens at 92953.25 tokens per second.\n"
     ]
    },
    {
     "name": "stdout",
     "output_type": "stream",
     "text": [
      "Computing scores...\n",
      "Computing METEOR score...\n",
      "Computing CIDEr score...\n"
     ]
    },
    {
     "name": "stderr",
     "output_type": "stream",
     "text": [
      "Processing files:  95%|███████████████████████████████████████████████████▌  | 997/1044 [42:10<01:54,  2.43s/it]"
     ]
    },
    {
     "name": "stdout",
     "output_type": "stream",
     "text": [
      "Tokenizing...\n"
     ]
    },
    {
     "name": "stderr",
     "output_type": "stream",
     "text": [
      "PTBTokenizer tokenized 61766 tokens at 352135.80 tokens per second.\n",
      "PTBTokenizer tokenized 9242 tokens at 90681.22 tokens per second.\n"
     ]
    },
    {
     "name": "stdout",
     "output_type": "stream",
     "text": [
      "Computing scores...\n",
      "Computing METEOR score...\n",
      "Computing CIDEr score...\n"
     ]
    },
    {
     "name": "stderr",
     "output_type": "stream",
     "text": [
      "Processing files:  96%|███████████████████████████████████████████████████▌  | 998/1044 [42:13<01:52,  2.45s/it]"
     ]
    },
    {
     "name": "stdout",
     "output_type": "stream",
     "text": [
      "Tokenizing...\n"
     ]
    },
    {
     "name": "stderr",
     "output_type": "stream",
     "text": [
      "PTBTokenizer tokenized 61766 tokens at 366659.70 tokens per second.\n",
      "PTBTokenizer tokenized 9287 tokens at 91096.27 tokens per second.\n"
     ]
    },
    {
     "name": "stdout",
     "output_type": "stream",
     "text": [
      "Computing scores...\n",
      "Computing METEOR score...\n",
      "Computing CIDEr score...\n"
     ]
    },
    {
     "name": "stderr",
     "output_type": "stream",
     "text": [
      "Processing files:  96%|███████████████████████████████████████████████████▋  | 999/1044 [42:15<01:49,  2.44s/it]"
     ]
    },
    {
     "name": "stdout",
     "output_type": "stream",
     "text": [
      "Tokenizing...\n"
     ]
    },
    {
     "name": "stderr",
     "output_type": "stream",
     "text": [
      "PTBTokenizer tokenized 61766 tokens at 331575.05 tokens per second.\n",
      "PTBTokenizer tokenized 9235 tokens at 89400.12 tokens per second.\n"
     ]
    },
    {
     "name": "stdout",
     "output_type": "stream",
     "text": [
      "Computing scores...\n",
      "Computing METEOR score...\n",
      "Computing CIDEr score...\n"
     ]
    },
    {
     "name": "stderr",
     "output_type": "stream",
     "text": [
      "Processing files:  96%|██████████████████████████████████████████████████▊  | 1000/1044 [42:18<01:50,  2.50s/it]"
     ]
    },
    {
     "name": "stdout",
     "output_type": "stream",
     "text": [
      "Tokenizing...\n"
     ]
    },
    {
     "name": "stderr",
     "output_type": "stream",
     "text": [
      "PTBTokenizer tokenized 61766 tokens at 334935.21 tokens per second.\n",
      "PTBTokenizer tokenized 9234 tokens at 84169.38 tokens per second.\n"
     ]
    },
    {
     "name": "stdout",
     "output_type": "stream",
     "text": [
      "Computing scores...\n",
      "Computing METEOR score...\n",
      "Computing CIDEr score...\n"
     ]
    },
    {
     "name": "stderr",
     "output_type": "stream",
     "text": [
      "Processing files:  96%|██████████████████████████████████████████████████▊  | 1001/1044 [42:20<01:46,  2.48s/it]"
     ]
    },
    {
     "name": "stdout",
     "output_type": "stream",
     "text": [
      "Tokenizing...\n"
     ]
    },
    {
     "name": "stderr",
     "output_type": "stream",
     "text": [
      "PTBTokenizer tokenized 61766 tokens at 341024.65 tokens per second.\n",
      "PTBTokenizer tokenized 8051 tokens at 84348.43 tokens per second.\n"
     ]
    },
    {
     "name": "stdout",
     "output_type": "stream",
     "text": [
      "Computing scores...\n",
      "Computing METEOR score...\n",
      "Computing CIDEr score...\n"
     ]
    },
    {
     "name": "stderr",
     "output_type": "stream",
     "text": [
      "Processing files:  96%|██████████████████████████████████████████████████▊  | 1002/1044 [42:22<01:42,  2.45s/it]"
     ]
    },
    {
     "name": "stdout",
     "output_type": "stream",
     "text": [
      "Tokenizing...\n"
     ]
    },
    {
     "name": "stderr",
     "output_type": "stream",
     "text": [
      "PTBTokenizer tokenized 61766 tokens at 341200.29 tokens per second.\n",
      "PTBTokenizer tokenized 9229 tokens at 92759.32 tokens per second.\n"
     ]
    },
    {
     "name": "stdout",
     "output_type": "stream",
     "text": [
      "Computing scores...\n",
      "Computing METEOR score...\n",
      "Computing CIDEr score...\n"
     ]
    },
    {
     "name": "stderr",
     "output_type": "stream",
     "text": [
      "Processing files:  96%|██████████████████████████████████████████████████▉  | 1003/1044 [42:25<01:40,  2.46s/it]"
     ]
    },
    {
     "name": "stdout",
     "output_type": "stream",
     "text": [
      "Tokenizing...\n"
     ]
    },
    {
     "name": "stderr",
     "output_type": "stream",
     "text": [
      "PTBTokenizer tokenized 61766 tokens at 325223.95 tokens per second.\n",
      "PTBTokenizer tokenized 9267 tokens at 93334.31 tokens per second.\n"
     ]
    },
    {
     "name": "stdout",
     "output_type": "stream",
     "text": [
      "Computing scores...\n",
      "Computing METEOR score...\n",
      "Computing CIDEr score...\n"
     ]
    },
    {
     "name": "stderr",
     "output_type": "stream",
     "text": [
      "Processing files:  96%|██████████████████████████████████████████████████▉  | 1004/1044 [42:27<01:37,  2.45s/it]"
     ]
    },
    {
     "name": "stdout",
     "output_type": "stream",
     "text": [
      "Tokenizing...\n"
     ]
    },
    {
     "name": "stderr",
     "output_type": "stream",
     "text": [
      "PTBTokenizer tokenized 61766 tokens at 326843.90 tokens per second.\n",
      "PTBTokenizer tokenized 9242 tokens at 88811.05 tokens per second.\n"
     ]
    },
    {
     "name": "stdout",
     "output_type": "stream",
     "text": [
      "Computing scores...\n",
      "Computing METEOR score...\n",
      "Computing CIDEr score...\n"
     ]
    },
    {
     "name": "stderr",
     "output_type": "stream",
     "text": [
      "Processing files:  96%|███████████████████████████████████████████████████  | 1005/1044 [42:30<01:35,  2.46s/it]"
     ]
    },
    {
     "name": "stdout",
     "output_type": "stream",
     "text": [
      "Tokenizing...\n"
     ]
    },
    {
     "name": "stderr",
     "output_type": "stream",
     "text": [
      "PTBTokenizer tokenized 61766 tokens at 342427.38 tokens per second.\n",
      "PTBTokenizer tokenized 9226 tokens at 88325.24 tokens per second.\n"
     ]
    },
    {
     "name": "stdout",
     "output_type": "stream",
     "text": [
      "Computing scores...\n",
      "Computing METEOR score...\n",
      "Computing CIDEr score...\n"
     ]
    },
    {
     "name": "stderr",
     "output_type": "stream",
     "text": [
      "Processing files:  96%|███████████████████████████████████████████████████  | 1006/1044 [42:32<01:34,  2.48s/it]"
     ]
    },
    {
     "name": "stdout",
     "output_type": "stream",
     "text": [
      "Tokenizing...\n"
     ]
    },
    {
     "name": "stderr",
     "output_type": "stream",
     "text": [
      "PTBTokenizer tokenized 61766 tokens at 338421.73 tokens per second.\n",
      "PTBTokenizer tokenized 9242 tokens at 87488.73 tokens per second.\n"
     ]
    },
    {
     "name": "stdout",
     "output_type": "stream",
     "text": [
      "Computing scores...\n",
      "Computing METEOR score...\n",
      "Computing CIDEr score...\n"
     ]
    },
    {
     "name": "stderr",
     "output_type": "stream",
     "text": [
      "Processing files:  96%|███████████████████████████████████████████████████  | 1007/1044 [42:35<01:31,  2.46s/it]"
     ]
    },
    {
     "name": "stdout",
     "output_type": "stream",
     "text": [
      "Tokenizing...\n"
     ]
    },
    {
     "name": "stderr",
     "output_type": "stream",
     "text": [
      "PTBTokenizer tokenized 61766 tokens at 336079.31 tokens per second.\n",
      "PTBTokenizer tokenized 9242 tokens at 92416.12 tokens per second.\n"
     ]
    },
    {
     "name": "stdout",
     "output_type": "stream",
     "text": [
      "Computing scores...\n",
      "Computing METEOR score...\n",
      "Computing CIDEr score...\n"
     ]
    },
    {
     "name": "stderr",
     "output_type": "stream",
     "text": [
      "Processing files:  97%|███████████████████████████████████████████████████▏ | 1008/1044 [42:37<01:29,  2.48s/it]"
     ]
    },
    {
     "name": "stdout",
     "output_type": "stream",
     "text": [
      "Tokenizing...\n"
     ]
    },
    {
     "name": "stderr",
     "output_type": "stream",
     "text": [
      "PTBTokenizer tokenized 61766 tokens at 337110.67 tokens per second.\n",
      "PTBTokenizer tokenized 9238 tokens at 88836.81 tokens per second.\n"
     ]
    },
    {
     "name": "stdout",
     "output_type": "stream",
     "text": [
      "Computing scores...\n",
      "Computing METEOR score...\n",
      "Computing CIDEr score...\n"
     ]
    },
    {
     "name": "stderr",
     "output_type": "stream",
     "text": [
      "Processing files:  97%|███████████████████████████████████████████████████▏ | 1009/1044 [42:40<01:27,  2.50s/it]"
     ]
    },
    {
     "name": "stdout",
     "output_type": "stream",
     "text": [
      "Tokenizing...\n"
     ]
    },
    {
     "name": "stderr",
     "output_type": "stream",
     "text": [
      "PTBTokenizer tokenized 61766 tokens at 340974.44 tokens per second.\n",
      "PTBTokenizer tokenized 9238 tokens at 92084.19 tokens per second.\n"
     ]
    },
    {
     "name": "stdout",
     "output_type": "stream",
     "text": [
      "Computing scores...\n",
      "Computing METEOR score...\n",
      "Computing CIDEr score...\n"
     ]
    },
    {
     "name": "stderr",
     "output_type": "stream",
     "text": [
      "Processing files:  97%|███████████████████████████████████████████████████▎ | 1010/1044 [42:42<01:24,  2.47s/it]"
     ]
    },
    {
     "name": "stdout",
     "output_type": "stream",
     "text": [
      "Tokenizing...\n"
     ]
    },
    {
     "name": "stderr",
     "output_type": "stream",
     "text": [
      "PTBTokenizer tokenized 61766 tokens at 336843.97 tokens per second.\n",
      "PTBTokenizer tokenized 9243 tokens at 91784.71 tokens per second.\n"
     ]
    },
    {
     "name": "stdout",
     "output_type": "stream",
     "text": [
      "Computing scores...\n",
      "Computing METEOR score...\n",
      "Computing CIDEr score...\n"
     ]
    },
    {
     "name": "stderr",
     "output_type": "stream",
     "text": [
      "Processing files:  97%|███████████████████████████████████████████████████▎ | 1011/1044 [42:45<01:21,  2.47s/it]"
     ]
    },
    {
     "name": "stdout",
     "output_type": "stream",
     "text": [
      "Tokenizing...\n"
     ]
    },
    {
     "name": "stderr",
     "output_type": "stream",
     "text": [
      "PTBTokenizer tokenized 61766 tokens at 348535.07 tokens per second.\n",
      "PTBTokenizer tokenized 9221 tokens at 91817.23 tokens per second.\n"
     ]
    },
    {
     "name": "stdout",
     "output_type": "stream",
     "text": [
      "Computing scores...\n",
      "Computing METEOR score...\n",
      "Computing CIDEr score...\n"
     ]
    },
    {
     "name": "stderr",
     "output_type": "stream",
     "text": [
      "Processing files:  97%|███████████████████████████████████████████████████▍ | 1012/1044 [42:47<01:19,  2.48s/it]"
     ]
    },
    {
     "name": "stdout",
     "output_type": "stream",
     "text": [
      "Tokenizing...\n"
     ]
    },
    {
     "name": "stderr",
     "output_type": "stream",
     "text": [
      "PTBTokenizer tokenized 61766 tokens at 349568.60 tokens per second.\n",
      "PTBTokenizer tokenized 9226 tokens at 91172.71 tokens per second.\n"
     ]
    },
    {
     "name": "stdout",
     "output_type": "stream",
     "text": [
      "Computing scores...\n",
      "Computing METEOR score...\n",
      "Computing CIDEr score...\n"
     ]
    },
    {
     "name": "stderr",
     "output_type": "stream",
     "text": [
      "Processing files:  97%|███████████████████████████████████████████████████▍ | 1013/1044 [42:50<01:17,  2.49s/it]"
     ]
    },
    {
     "name": "stdout",
     "output_type": "stream",
     "text": [
      "Tokenizing...\n"
     ]
    },
    {
     "name": "stderr",
     "output_type": "stream",
     "text": [
      "PTBTokenizer tokenized 61766 tokens at 341856.62 tokens per second.\n",
      "PTBTokenizer tokenized 9233 tokens at 93141.14 tokens per second.\n"
     ]
    },
    {
     "name": "stdout",
     "output_type": "stream",
     "text": [
      "Computing scores...\n",
      "Computing METEOR score...\n",
      "Computing CIDEr score...\n"
     ]
    },
    {
     "name": "stderr",
     "output_type": "stream",
     "text": [
      "Processing files:  97%|███████████████████████████████████████████████████▍ | 1014/1044 [42:52<01:14,  2.48s/it]"
     ]
    },
    {
     "name": "stdout",
     "output_type": "stream",
     "text": [
      "Tokenizing...\n"
     ]
    },
    {
     "name": "stderr",
     "output_type": "stream",
     "text": [
      "PTBTokenizer tokenized 61766 tokens at 353993.51 tokens per second.\n",
      "PTBTokenizer tokenized 7310 tokens at 74590.78 tokens per second.\n"
     ]
    },
    {
     "name": "stdout",
     "output_type": "stream",
     "text": [
      "Computing scores...\n",
      "Computing METEOR score...\n",
      "Computing CIDEr score...\n"
     ]
    },
    {
     "name": "stderr",
     "output_type": "stream",
     "text": [
      "Processing files:  97%|███████████████████████████████████████████████████▌ | 1015/1044 [42:55<01:11,  2.45s/it]"
     ]
    },
    {
     "name": "stdout",
     "output_type": "stream",
     "text": [
      "Tokenizing...\n"
     ]
    },
    {
     "name": "stderr",
     "output_type": "stream",
     "text": [
      "PTBTokenizer tokenized 61766 tokens at 365965.41 tokens per second.\n",
      "PTBTokenizer tokenized 8608 tokens at 87781.55 tokens per second.\n"
     ]
    },
    {
     "name": "stdout",
     "output_type": "stream",
     "text": [
      "Computing scores...\n",
      "Computing METEOR score...\n",
      "Computing CIDEr score...\n"
     ]
    },
    {
     "name": "stderr",
     "output_type": "stream",
     "text": [
      "Processing files:  97%|███████████████████████████████████████████████████▌ | 1016/1044 [42:57<01:08,  2.44s/it]"
     ]
    },
    {
     "name": "stdout",
     "output_type": "stream",
     "text": [
      "Tokenizing...\n"
     ]
    },
    {
     "name": "stderr",
     "output_type": "stream",
     "text": [
      "PTBTokenizer tokenized 61766 tokens at 341262.45 tokens per second.\n",
      "Jul 19, 2024 5:03:21 PM edu.stanford.nlp.process.PTBLexer next\n",
      "WARNING: Untokenizable: � (U+FFFD, decimal: 65533)\n",
      "PTBTokenizer tokenized 8573 tokens at 49785.03 tokens per second.\n"
     ]
    },
    {
     "name": "stdout",
     "output_type": "stream",
     "text": [
      "Computing scores...\n",
      "Computing METEOR score...\n",
      "Computing CIDEr score...\n"
     ]
    },
    {
     "name": "stderr",
     "output_type": "stream",
     "text": [
      "Processing files:  97%|███████████████████████████████████████████████████▋ | 1017/1044 [42:59<01:04,  2.39s/it]"
     ]
    },
    {
     "name": "stdout",
     "output_type": "stream",
     "text": [
      "Tokenizing...\n"
     ]
    },
    {
     "name": "stderr",
     "output_type": "stream",
     "text": [
      "PTBTokenizer tokenized 61766 tokens at 350765.40 tokens per second.\n",
      "PTBTokenizer tokenized 9200 tokens at 91599.44 tokens per second.\n"
     ]
    },
    {
     "name": "stdout",
     "output_type": "stream",
     "text": [
      "Computing scores...\n",
      "Computing METEOR score...\n",
      "Computing CIDEr score...\n"
     ]
    },
    {
     "name": "stderr",
     "output_type": "stream",
     "text": [
      "Processing files:  98%|███████████████████████████████████████████████████▋ | 1018/1044 [43:02<01:02,  2.42s/it]"
     ]
    },
    {
     "name": "stdout",
     "output_type": "stream",
     "text": [
      "Tokenizing...\n"
     ]
    },
    {
     "name": "stderr",
     "output_type": "stream",
     "text": [
      "PTBTokenizer tokenized 61766 tokens at 336374.71 tokens per second.\n",
      "PTBTokenizer tokenized 9158 tokens at 90491.38 tokens per second.\n"
     ]
    },
    {
     "name": "stdout",
     "output_type": "stream",
     "text": [
      "Computing scores...\n",
      "Computing METEOR score...\n",
      "Computing CIDEr score...\n"
     ]
    },
    {
     "name": "stderr",
     "output_type": "stream",
     "text": [
      "Processing files:  98%|███████████████████████████████████████████████████▋ | 1019/1044 [43:04<01:01,  2.45s/it]"
     ]
    },
    {
     "name": "stdout",
     "output_type": "stream",
     "text": [
      "Tokenizing...\n"
     ]
    },
    {
     "name": "stderr",
     "output_type": "stream",
     "text": [
      "PTBTokenizer tokenized 61766 tokens at 350218.14 tokens per second.\n",
      "PTBTokenizer tokenized 9135 tokens at 91401.30 tokens per second.\n"
     ]
    },
    {
     "name": "stdout",
     "output_type": "stream",
     "text": [
      "Computing scores...\n",
      "Computing METEOR score...\n",
      "Computing CIDEr score...\n"
     ]
    },
    {
     "name": "stderr",
     "output_type": "stream",
     "text": [
      "Processing files:  98%|███████████████████████████████████████████████████▊ | 1020/1044 [43:07<00:58,  2.44s/it]"
     ]
    },
    {
     "name": "stdout",
     "output_type": "stream",
     "text": [
      "Tokenizing...\n"
     ]
    },
    {
     "name": "stderr",
     "output_type": "stream",
     "text": [
      "PTBTokenizer tokenized 61766 tokens at 357934.93 tokens per second.\n",
      "PTBTokenizer tokenized 9242 tokens at 90697.61 tokens per second.\n"
     ]
    },
    {
     "name": "stdout",
     "output_type": "stream",
     "text": [
      "Computing scores...\n",
      "Computing METEOR score...\n",
      "Computing CIDEr score...\n"
     ]
    },
    {
     "name": "stderr",
     "output_type": "stream",
     "text": [
      "Processing files:  98%|███████████████████████████████████████████████████▊ | 1021/1044 [43:09<00:56,  2.45s/it]"
     ]
    },
    {
     "name": "stdout",
     "output_type": "stream",
     "text": [
      "Tokenizing...\n"
     ]
    },
    {
     "name": "stderr",
     "output_type": "stream",
     "text": [
      "PTBTokenizer tokenized 61766 tokens at 322879.13 tokens per second.\n",
      "PTBTokenizer tokenized 9242 tokens at 88824.87 tokens per second.\n"
     ]
    },
    {
     "name": "stdout",
     "output_type": "stream",
     "text": [
      "Computing scores...\n",
      "Computing METEOR score...\n",
      "Computing CIDEr score...\n"
     ]
    },
    {
     "name": "stderr",
     "output_type": "stream",
     "text": [
      "Processing files:  98%|███████████████████████████████████████████████████▉ | 1022/1044 [43:12<00:55,  2.50s/it]"
     ]
    },
    {
     "name": "stdout",
     "output_type": "stream",
     "text": [
      "Tokenizing...\n"
     ]
    },
    {
     "name": "stderr",
     "output_type": "stream",
     "text": [
      "PTBTokenizer tokenized 61766 tokens at 291222.42 tokens per second.\n",
      "PTBTokenizer tokenized 9242 tokens at 88821.67 tokens per second.\n"
     ]
    },
    {
     "name": "stdout",
     "output_type": "stream",
     "text": [
      "Computing scores...\n",
      "Computing METEOR score...\n",
      "Computing CIDEr score...\n"
     ]
    },
    {
     "name": "stderr",
     "output_type": "stream",
     "text": [
      "Processing files:  98%|███████████████████████████████████████████████████▉ | 1023/1044 [43:14<00:52,  2.51s/it]"
     ]
    },
    {
     "name": "stdout",
     "output_type": "stream",
     "text": [
      "Tokenizing...\n"
     ]
    },
    {
     "name": "stderr",
     "output_type": "stream",
     "text": [
      "PTBTokenizer tokenized 61766 tokens at 350141.33 tokens per second.\n",
      "PTBTokenizer tokenized 9227 tokens at 92847.73 tokens per second.\n"
     ]
    },
    {
     "name": "stdout",
     "output_type": "stream",
     "text": [
      "Computing scores...\n",
      "Computing METEOR score...\n",
      "Computing CIDEr score...\n"
     ]
    },
    {
     "name": "stderr",
     "output_type": "stream",
     "text": [
      "Processing files:  98%|███████████████████████████████████████████████████▉ | 1024/1044 [43:17<00:49,  2.47s/it]"
     ]
    },
    {
     "name": "stdout",
     "output_type": "stream",
     "text": [
      "Tokenizing...\n"
     ]
    },
    {
     "name": "stderr",
     "output_type": "stream",
     "text": [
      "PTBTokenizer tokenized 61766 tokens at 338414.89 tokens per second.\n",
      "PTBTokenizer tokenized 9134 tokens at 91499.30 tokens per second.\n"
     ]
    },
    {
     "name": "stdout",
     "output_type": "stream",
     "text": [
      "Computing scores...\n",
      "Computing METEOR score...\n",
      "Computing CIDEr score...\n"
     ]
    },
    {
     "name": "stderr",
     "output_type": "stream",
     "text": [
      "Processing files:  98%|████████████████████████████████████████████████████ | 1025/1044 [43:19<00:46,  2.47s/it]"
     ]
    },
    {
     "name": "stdout",
     "output_type": "stream",
     "text": [
      "Tokenizing...\n"
     ]
    },
    {
     "name": "stderr",
     "output_type": "stream",
     "text": [
      "PTBTokenizer tokenized 61766 tokens at 368095.35 tokens per second.\n",
      "PTBTokenizer tokenized 9229 tokens at 89894.64 tokens per second.\n"
     ]
    },
    {
     "name": "stdout",
     "output_type": "stream",
     "text": [
      "Computing scores...\n",
      "Computing METEOR score...\n",
      "Computing CIDEr score...\n"
     ]
    },
    {
     "name": "stderr",
     "output_type": "stream",
     "text": [
      "Processing files:  98%|████████████████████████████████████████████████████ | 1026/1044 [43:22<00:44,  2.49s/it]"
     ]
    },
    {
     "name": "stdout",
     "output_type": "stream",
     "text": [
      "Tokenizing...\n"
     ]
    },
    {
     "name": "stderr",
     "output_type": "stream",
     "text": [
      "PTBTokenizer tokenized 61766 tokens at 347531.92 tokens per second.\n",
      "Jul 19, 2024 5:03:46 PM edu.stanford.nlp.process.PTBLexer next\n",
      "WARNING: Untokenizable: � (U+FFFD, decimal: 65533)\n",
      "PTBTokenizer tokenized 8505 tokens at 51934.26 tokens per second.\n"
     ]
    },
    {
     "name": "stdout",
     "output_type": "stream",
     "text": [
      "Computing scores...\n",
      "Computing METEOR score...\n",
      "Computing CIDEr score...\n"
     ]
    },
    {
     "name": "stderr",
     "output_type": "stream",
     "text": [
      "Processing files:  98%|████████████████████████████████████████████████████▏| 1027/1044 [43:24<00:41,  2.43s/it]"
     ]
    },
    {
     "name": "stdout",
     "output_type": "stream",
     "text": [
      "Tokenizing...\n"
     ]
    },
    {
     "name": "stderr",
     "output_type": "stream",
     "text": [
      "PTBTokenizer tokenized 61766 tokens at 317064.49 tokens per second.\n",
      "PTBTokenizer tokenized 9242 tokens at 92197.93 tokens per second.\n"
     ]
    },
    {
     "name": "stdout",
     "output_type": "stream",
     "text": [
      "Computing scores...\n",
      "Computing METEOR score...\n",
      "Computing CIDEr score...\n"
     ]
    },
    {
     "name": "stderr",
     "output_type": "stream",
     "text": [
      "Processing files:  98%|████████████████████████████████████████████████████▏| 1028/1044 [43:27<00:39,  2.46s/it]"
     ]
    },
    {
     "name": "stdout",
     "output_type": "stream",
     "text": [
      "Tokenizing...\n"
     ]
    },
    {
     "name": "stderr",
     "output_type": "stream",
     "text": [
      "PTBTokenizer tokenized 61766 tokens at 320907.25 tokens per second.\n",
      "PTBTokenizer tokenized 9242 tokens at 91671.61 tokens per second.\n"
     ]
    },
    {
     "name": "stdout",
     "output_type": "stream",
     "text": [
      "Computing scores...\n",
      "Computing METEOR score...\n",
      "Computing CIDEr score...\n"
     ]
    },
    {
     "name": "stderr",
     "output_type": "stream",
     "text": [
      "Processing files:  99%|████████████████████████████████████████████████████▏| 1029/1044 [43:29<00:36,  2.42s/it]"
     ]
    },
    {
     "name": "stdout",
     "output_type": "stream",
     "text": [
      "Tokenizing...\n"
     ]
    },
    {
     "name": "stderr",
     "output_type": "stream",
     "text": [
      "PTBTokenizer tokenized 61766 tokens at 312042.73 tokens per second.\n",
      "PTBTokenizer tokenized 9229 tokens at 90681.43 tokens per second.\n"
     ]
    },
    {
     "name": "stdout",
     "output_type": "stream",
     "text": [
      "Computing scores...\n",
      "Computing METEOR score...\n",
      "Computing CIDEr score...\n"
     ]
    },
    {
     "name": "stderr",
     "output_type": "stream",
     "text": [
      "Processing files:  99%|████████████████████████████████████████████████████▎| 1030/1044 [43:31<00:33,  2.41s/it]"
     ]
    },
    {
     "name": "stdout",
     "output_type": "stream",
     "text": [
      "Tokenizing...\n"
     ]
    },
    {
     "name": "stderr",
     "output_type": "stream",
     "text": [
      "PTBTokenizer tokenized 61766 tokens at 367168.19 tokens per second.\n",
      "PTBTokenizer tokenized 9279 tokens at 93091.28 tokens per second.\n"
     ]
    },
    {
     "name": "stdout",
     "output_type": "stream",
     "text": [
      "Computing scores...\n",
      "Computing METEOR score...\n",
      "Computing CIDEr score...\n"
     ]
    },
    {
     "name": "stderr",
     "output_type": "stream",
     "text": [
      "Processing files:  99%|████████████████████████████████████████████████████▎| 1031/1044 [43:34<00:31,  2.46s/it]"
     ]
    },
    {
     "name": "stdout",
     "output_type": "stream",
     "text": [
      "Tokenizing...\n"
     ]
    },
    {
     "name": "stderr",
     "output_type": "stream",
     "text": [
      "PTBTokenizer tokenized 61766 tokens at 347872.86 tokens per second.\n",
      "PTBTokenizer tokenized 9242 tokens at 89866.37 tokens per second.\n"
     ]
    },
    {
     "name": "stdout",
     "output_type": "stream",
     "text": [
      "Computing scores...\n",
      "Computing METEOR score...\n",
      "Computing CIDEr score...\n"
     ]
    },
    {
     "name": "stderr",
     "output_type": "stream",
     "text": [
      "Processing files:  99%|████████████████████████████████████████████████████▍| 1032/1044 [43:36<00:29,  2.42s/it]"
     ]
    },
    {
     "name": "stdout",
     "output_type": "stream",
     "text": [
      "Tokenizing...\n"
     ]
    },
    {
     "name": "stderr",
     "output_type": "stream",
     "text": [
      "PTBTokenizer tokenized 61766 tokens at 339209.65 tokens per second.\n",
      "PTBTokenizer tokenized 9151 tokens at 90096.02 tokens per second.\n"
     ]
    },
    {
     "name": "stdout",
     "output_type": "stream",
     "text": [
      "Computing scores...\n",
      "Computing METEOR score...\n",
      "Computing CIDEr score...\n"
     ]
    },
    {
     "name": "stderr",
     "output_type": "stream",
     "text": [
      "Processing files:  99%|████████████████████████████████████████████████████▍| 1033/1044 [43:38<00:26,  2.38s/it]"
     ]
    },
    {
     "name": "stdout",
     "output_type": "stream",
     "text": [
      "Tokenizing...\n"
     ]
    },
    {
     "name": "stderr",
     "output_type": "stream",
     "text": [
      "PTBTokenizer tokenized 61766 tokens at 346998.45 tokens per second.\n",
      "PTBTokenizer tokenized 9242 tokens at 91912.02 tokens per second.\n"
     ]
    },
    {
     "name": "stdout",
     "output_type": "stream",
     "text": [
      "Computing scores...\n",
      "Computing METEOR score...\n",
      "Computing CIDEr score...\n"
     ]
    },
    {
     "name": "stderr",
     "output_type": "stream",
     "text": [
      "Processing files:  99%|████████████████████████████████████████████████████▍| 1034/1044 [43:41<00:24,  2.40s/it]"
     ]
    },
    {
     "name": "stdout",
     "output_type": "stream",
     "text": [
      "Tokenizing...\n"
     ]
    },
    {
     "name": "stderr",
     "output_type": "stream",
     "text": [
      "PTBTokenizer tokenized 61766 tokens at 367484.15 tokens per second.\n",
      "PTBTokenizer tokenized 9242 tokens at 89832.74 tokens per second.\n"
     ]
    },
    {
     "name": "stdout",
     "output_type": "stream",
     "text": [
      "Computing scores...\n",
      "Computing METEOR score...\n",
      "Computing CIDEr score...\n"
     ]
    },
    {
     "name": "stderr",
     "output_type": "stream",
     "text": [
      "Processing files:  99%|████████████████████████████████████████████████████▌| 1035/1044 [43:43<00:22,  2.45s/it]"
     ]
    },
    {
     "name": "stdout",
     "output_type": "stream",
     "text": [
      "Tokenizing...\n"
     ]
    },
    {
     "name": "stderr",
     "output_type": "stream",
     "text": [
      "PTBTokenizer tokenized 61766 tokens at 352473.93 tokens per second.\n",
      "PTBTokenizer tokenized 9242 tokens at 90251.67 tokens per second.\n"
     ]
    },
    {
     "name": "stdout",
     "output_type": "stream",
     "text": [
      "Computing scores...\n",
      "Computing METEOR score...\n",
      "Computing CIDEr score...\n"
     ]
    },
    {
     "name": "stderr",
     "output_type": "stream",
     "text": [
      "Processing files:  99%|████████████████████████████████████████████████████▌| 1036/1044 [43:46<00:19,  2.46s/it]"
     ]
    },
    {
     "name": "stdout",
     "output_type": "stream",
     "text": [
      "Tokenizing...\n"
     ]
    },
    {
     "name": "stderr",
     "output_type": "stream",
     "text": [
      "PTBTokenizer tokenized 61766 tokens at 331719.89 tokens per second.\n",
      "PTBTokenizer tokenized 9203 tokens at 93771.88 tokens per second.\n"
     ]
    },
    {
     "name": "stdout",
     "output_type": "stream",
     "text": [
      "Computing scores...\n",
      "Computing METEOR score...\n",
      "Computing CIDEr score...\n"
     ]
    },
    {
     "name": "stderr",
     "output_type": "stream",
     "text": [
      "Processing files:  99%|████████████████████████████████████████████████████▋| 1037/1044 [43:48<00:17,  2.45s/it]"
     ]
    },
    {
     "name": "stdout",
     "output_type": "stream",
     "text": [
      "Tokenizing...\n"
     ]
    },
    {
     "name": "stderr",
     "output_type": "stream",
     "text": [
      "PTBTokenizer tokenized 61766 tokens at 334337.35 tokens per second.\n",
      "PTBTokenizer tokenized 9242 tokens at 91927.73 tokens per second.\n"
     ]
    },
    {
     "name": "stdout",
     "output_type": "stream",
     "text": [
      "Computing scores...\n",
      "Computing METEOR score...\n",
      "Computing CIDEr score...\n"
     ]
    },
    {
     "name": "stderr",
     "output_type": "stream",
     "text": [
      "Processing files:  99%|████████████████████████████████████████████████████▋| 1038/1044 [43:51<00:14,  2.46s/it]"
     ]
    },
    {
     "name": "stdout",
     "output_type": "stream",
     "text": [
      "Tokenizing...\n"
     ]
    },
    {
     "name": "stderr",
     "output_type": "stream",
     "text": [
      "PTBTokenizer tokenized 61766 tokens at 353204.96 tokens per second.\n",
      "PTBTokenizer tokenized 9242 tokens at 91960.77 tokens per second.\n"
     ]
    },
    {
     "name": "stdout",
     "output_type": "stream",
     "text": [
      "Computing scores...\n",
      "Computing METEOR score...\n",
      "Computing CIDEr score...\n"
     ]
    },
    {
     "name": "stderr",
     "output_type": "stream",
     "text": [
      "Processing files: 100%|████████████████████████████████████████████████████▋| 1039/1044 [43:53<00:12,  2.48s/it]"
     ]
    },
    {
     "name": "stdout",
     "output_type": "stream",
     "text": [
      "Tokenizing...\n"
     ]
    },
    {
     "name": "stderr",
     "output_type": "stream",
     "text": [
      "PTBTokenizer tokenized 61766 tokens at 342190.47 tokens per second.\n",
      "PTBTokenizer tokenized 9148 tokens at 90238.68 tokens per second.\n"
     ]
    },
    {
     "name": "stdout",
     "output_type": "stream",
     "text": [
      "Computing scores...\n",
      "Computing METEOR score...\n",
      "Computing CIDEr score...\n"
     ]
    },
    {
     "name": "stderr",
     "output_type": "stream",
     "text": [
      "Processing files: 100%|████████████████████████████████████████████████████▊| 1040/1044 [43:56<00:10,  2.50s/it]"
     ]
    },
    {
     "name": "stdout",
     "output_type": "stream",
     "text": [
      "Tokenizing...\n"
     ]
    },
    {
     "name": "stderr",
     "output_type": "stream",
     "text": [
      "PTBTokenizer tokenized 61766 tokens at 341866.71 tokens per second.\n",
      "PTBTokenizer tokenized 9243 tokens at 93543.54 tokens per second.\n"
     ]
    },
    {
     "name": "stdout",
     "output_type": "stream",
     "text": [
      "Computing scores...\n",
      "Computing METEOR score...\n",
      "Computing CIDEr score...\n"
     ]
    },
    {
     "name": "stderr",
     "output_type": "stream",
     "text": [
      "Processing files: 100%|████████████████████████████████████████████████████▊| 1041/1044 [43:58<00:07,  2.47s/it]"
     ]
    },
    {
     "name": "stdout",
     "output_type": "stream",
     "text": [
      "Tokenizing...\n"
     ]
    },
    {
     "name": "stderr",
     "output_type": "stream",
     "text": [
      "PTBTokenizer tokenized 61766 tokens at 342527.01 tokens per second.\n",
      "PTBTokenizer tokenized 9292 tokens at 92207.41 tokens per second.\n"
     ]
    },
    {
     "name": "stdout",
     "output_type": "stream",
     "text": [
      "Computing scores...\n",
      "Computing METEOR score...\n",
      "Computing CIDEr score...\n"
     ]
    },
    {
     "name": "stderr",
     "output_type": "stream",
     "text": [
      "Processing files: 100%|████████████████████████████████████████████████████▉| 1042/1044 [44:01<00:04,  2.46s/it]"
     ]
    },
    {
     "name": "stdout",
     "output_type": "stream",
     "text": [
      "Tokenizing...\n"
     ]
    },
    {
     "name": "stderr",
     "output_type": "stream",
     "text": [
      "PTBTokenizer tokenized 61766 tokens at 356066.00 tokens per second.\n",
      "PTBTokenizer tokenized 7968 tokens at 81751.82 tokens per second.\n"
     ]
    },
    {
     "name": "stdout",
     "output_type": "stream",
     "text": [
      "Computing scores...\n",
      "Computing METEOR score...\n",
      "Computing CIDEr score...\n"
     ]
    },
    {
     "name": "stderr",
     "output_type": "stream",
     "text": [
      "Processing files: 100%|████████████████████████████████████████████████████▉| 1043/1044 [44:03<00:02,  2.41s/it]"
     ]
    },
    {
     "name": "stdout",
     "output_type": "stream",
     "text": [
      "Tokenizing...\n"
     ]
    },
    {
     "name": "stderr",
     "output_type": "stream",
     "text": [
      "PTBTokenizer tokenized 61766 tokens at 333867.63 tokens per second.\n",
      "PTBTokenizer tokenized 9242 tokens at 90121.67 tokens per second.\n"
     ]
    },
    {
     "name": "stdout",
     "output_type": "stream",
     "text": [
      "Computing scores...\n",
      "Computing METEOR score...\n",
      "Computing CIDEr score...\n"
     ]
    },
    {
     "name": "stderr",
     "output_type": "stream",
     "text": [
      "Processing files: 100%|█████████████████████████████████████████████████████| 1044/1044 [44:06<00:00,  2.53s/it]"
     ]
    },
    {
     "name": "stdout",
     "output_type": "stream",
     "text": [
      "Results saved to quantization_results.csv\n"
     ]
    },
    {
     "name": "stderr",
     "output_type": "stream",
     "text": [
      "\n"
     ]
    }
   ],
   "source": [
    "\n",
    "# Get list of files and use tqdm for progress bar\n",
    "result_files = [f for f in os.listdir('./results') if f.endswith('.json')]\n",
    "for filename in tqdm(result_files, desc=\"Processing files\"):\n",
    "    config_number = filename.split('.')[0]\n",
    "    \n",
    "    # Load and process config\n",
    "    config_file = os.path.join('./configs', filename)\n",
    "    config = load_config(config_file)\n",
    "    bit_size = get_bit_size(config)\n",
    "    layer_type = get_layer_type(config)\n",
    "    quantized_parts = get_quantized_parts(config)\n",
    "\n",
    "    # Load and process results\n",
    "    result_file = os.path.join('./results', filename)\n",
    "    loaded_results = scorer.load_results(result_file)\n",
    "    scores = scorer.compute_scores(loaded_results, task='image_captioning')\n",
    "\n",
    "    # Compile row data\n",
    "    row = {\n",
    "        'config': config_number,\n",
    "        'bit_size': bit_size,\n",
    "        'type': layer_type,\n",
    "        'VIT_FIRST': quantized_parts['VIT']['FIRST'],\n",
    "        'VIT_MIDDLE': quantized_parts['VIT']['MIDDLE'],\n",
    "        'VIT_LAST': quantized_parts['VIT']['LAST'],\n",
    "        'QFORMER_FIRST': quantized_parts['QFORMER']['FIRST'],\n",
    "        'QFORMER_MIDDLE': quantized_parts['QFORMER']['MIDDLE'],\n",
    "        'QFORMER_LAST': quantized_parts['QFORMER']['LAST'],\n",
    "        'LLM_FIRST': quantized_parts['LLM']['FIRST'],\n",
    "        'LLM_MIDDLE': quantized_parts['LLM']['MIDDLE'],\n",
    "        'LLM_LAST': quantized_parts['LLM']['LAST'],\n",
    "    }\n",
    "\n",
    "    # Add metrics\n",
    "    for metric, score in scores.items():\n",
    "        if not metric.endswith('_per_caption'):\n",
    "            row[metric] = score\n",
    "\n",
    "    results.append(row)\n",
    "\n",
    "# Create DataFrame and save to CSV\n",
    "df = pd.DataFrame(results)\n",
    "df.to_csv('quantization_results.csv', index=False)\n",
    "print(\"Results saved to quantization_results.csv\")"
   ]
  },
  {
   "cell_type": "code",
   "execution_count": 14,
   "id": "a4cd6603-71d6-4e36-a7f1-13dba5f97a9c",
   "metadata": {},
   "outputs": [],
   "source": [
    "df = pd.DataFrame(results)"
   ]
  },
  {
   "cell_type": "code",
   "execution_count": 15,
   "id": "d44431e1-c1ae-48cf-95f8-992f08213fa5",
   "metadata": {},
   "outputs": [
    {
     "data": {
      "text/html": [
       "<div>\n",
       "<style scoped>\n",
       "    .dataframe tbody tr th:only-of-type {\n",
       "        vertical-align: middle;\n",
       "    }\n",
       "\n",
       "    .dataframe tbody tr th {\n",
       "        vertical-align: top;\n",
       "    }\n",
       "\n",
       "    .dataframe thead th {\n",
       "        text-align: right;\n",
       "    }\n",
       "</style>\n",
       "<table border=\"1\" class=\"dataframe\">\n",
       "  <thead>\n",
       "    <tr style=\"text-align: right;\">\n",
       "      <th></th>\n",
       "      <th>config</th>\n",
       "      <th>bit_size</th>\n",
       "      <th>type</th>\n",
       "      <th>VIT_FIRST</th>\n",
       "      <th>VIT_MIDDLE</th>\n",
       "      <th>VIT_LAST</th>\n",
       "      <th>QFORMER_FIRST</th>\n",
       "      <th>QFORMER_MIDDLE</th>\n",
       "      <th>QFORMER_LAST</th>\n",
       "      <th>LLM_FIRST</th>\n",
       "      <th>LLM_MIDDLE</th>\n",
       "      <th>LLM_LAST</th>\n",
       "      <th>METEOR</th>\n",
       "      <th>CIDEr</th>\n",
       "    </tr>\n",
       "  </thead>\n",
       "  <tbody>\n",
       "    <tr>\n",
       "      <th>0</th>\n",
       "      <td>1038</td>\n",
       "      <td>5</td>\n",
       "      <td>BOTH</td>\n",
       "      <td>1</td>\n",
       "      <td>1</td>\n",
       "      <td>0</td>\n",
       "      <td>1</td>\n",
       "      <td>1</td>\n",
       "      <td>1</td>\n",
       "      <td>1</td>\n",
       "      <td>1</td>\n",
       "      <td>1</td>\n",
       "      <td>0.027091</td>\n",
       "      <td>0.002452</td>\n",
       "    </tr>\n",
       "    <tr>\n",
       "      <th>1</th>\n",
       "      <td>715</td>\n",
       "      <td>6</td>\n",
       "      <td>ATTENTION</td>\n",
       "      <td>0</td>\n",
       "      <td>0</td>\n",
       "      <td>0</td>\n",
       "      <td>1</td>\n",
       "      <td>1</td>\n",
       "      <td>1</td>\n",
       "      <td>0</td>\n",
       "      <td>0</td>\n",
       "      <td>0</td>\n",
       "      <td>0.278644</td>\n",
       "      <td>1.284414</td>\n",
       "    </tr>\n",
       "    <tr>\n",
       "      <th>2</th>\n",
       "      <td>61</td>\n",
       "      <td>16</td>\n",
       "      <td>MLP</td>\n",
       "      <td>0</td>\n",
       "      <td>0</td>\n",
       "      <td>0</td>\n",
       "      <td>1</td>\n",
       "      <td>1</td>\n",
       "      <td>1</td>\n",
       "      <td>0</td>\n",
       "      <td>0</td>\n",
       "      <td>0</td>\n",
       "      <td>0.278521</td>\n",
       "      <td>1.285276</td>\n",
       "    </tr>\n",
       "    <tr>\n",
       "      <th>3</th>\n",
       "      <td>618</td>\n",
       "      <td>6</td>\n",
       "      <td>MLP</td>\n",
       "      <td>0</td>\n",
       "      <td>0</td>\n",
       "      <td>0</td>\n",
       "      <td>1</td>\n",
       "      <td>1</td>\n",
       "      <td>1</td>\n",
       "      <td>1</td>\n",
       "      <td>1</td>\n",
       "      <td>1</td>\n",
       "      <td>0.248697</td>\n",
       "      <td>1.107514</td>\n",
       "    </tr>\n",
       "    <tr>\n",
       "      <th>4</th>\n",
       "      <td>448</td>\n",
       "      <td>8</td>\n",
       "      <td>ATTENTION</td>\n",
       "      <td>0</td>\n",
       "      <td>0</td>\n",
       "      <td>0</td>\n",
       "      <td>0</td>\n",
       "      <td>0</td>\n",
       "      <td>0</td>\n",
       "      <td>0</td>\n",
       "      <td>0</td>\n",
       "      <td>1</td>\n",
       "      <td>0.278521</td>\n",
       "      <td>1.285276</td>\n",
       "    </tr>\n",
       "    <tr>\n",
       "      <th>...</th>\n",
       "      <td>...</td>\n",
       "      <td>...</td>\n",
       "      <td>...</td>\n",
       "      <td>...</td>\n",
       "      <td>...</td>\n",
       "      <td>...</td>\n",
       "      <td>...</td>\n",
       "      <td>...</td>\n",
       "      <td>...</td>\n",
       "      <td>...</td>\n",
       "      <td>...</td>\n",
       "      <td>...</td>\n",
       "      <td>...</td>\n",
       "      <td>...</td>\n",
       "    </tr>\n",
       "    <tr>\n",
       "      <th>1039</th>\n",
       "      <td>552</td>\n",
       "      <td>8</td>\n",
       "      <td>BOTH</td>\n",
       "      <td>0</td>\n",
       "      <td>0</td>\n",
       "      <td>0</td>\n",
       "      <td>1</td>\n",
       "      <td>1</td>\n",
       "      <td>1</td>\n",
       "      <td>0</td>\n",
       "      <td>1</td>\n",
       "      <td>1</td>\n",
       "      <td>0.277733</td>\n",
       "      <td>1.280438</td>\n",
       "    </tr>\n",
       "    <tr>\n",
       "      <th>1040</th>\n",
       "      <td>966</td>\n",
       "      <td>5</td>\n",
       "      <td>ATTENTION</td>\n",
       "      <td>0</td>\n",
       "      <td>0</td>\n",
       "      <td>0</td>\n",
       "      <td>1</td>\n",
       "      <td>0</td>\n",
       "      <td>0</td>\n",
       "      <td>1</td>\n",
       "      <td>1</td>\n",
       "      <td>1</td>\n",
       "      <td>0.279862</td>\n",
       "      <td>1.290331</td>\n",
       "    </tr>\n",
       "    <tr>\n",
       "      <th>1041</th>\n",
       "      <td>473</td>\n",
       "      <td>8</td>\n",
       "      <td>BOTH</td>\n",
       "      <td>0</td>\n",
       "      <td>1</td>\n",
       "      <td>0</td>\n",
       "      <td>1</td>\n",
       "      <td>1</td>\n",
       "      <td>1</td>\n",
       "      <td>0</td>\n",
       "      <td>0</td>\n",
       "      <td>0</td>\n",
       "      <td>0.277563</td>\n",
       "      <td>1.289467</td>\n",
       "    </tr>\n",
       "    <tr>\n",
       "      <th>1042</th>\n",
       "      <td>836</td>\n",
       "      <td>6</td>\n",
       "      <td>BOTH</td>\n",
       "      <td>0</td>\n",
       "      <td>0</td>\n",
       "      <td>0</td>\n",
       "      <td>0</td>\n",
       "      <td>0</td>\n",
       "      <td>0</td>\n",
       "      <td>1</td>\n",
       "      <td>1</td>\n",
       "      <td>1</td>\n",
       "      <td>0.248697</td>\n",
       "      <td>1.107514</td>\n",
       "    </tr>\n",
       "    <tr>\n",
       "      <th>1043</th>\n",
       "      <td>264</td>\n",
       "      <td>16</td>\n",
       "      <td>BOTH</td>\n",
       "      <td>1</td>\n",
       "      <td>1</td>\n",
       "      <td>1</td>\n",
       "      <td>0</td>\n",
       "      <td>0</td>\n",
       "      <td>0</td>\n",
       "      <td>1</td>\n",
       "      <td>1</td>\n",
       "      <td>0</td>\n",
       "      <td>0.278519</td>\n",
       "      <td>1.285213</td>\n",
       "    </tr>\n",
       "  </tbody>\n",
       "</table>\n",
       "<p>1044 rows × 14 columns</p>\n",
       "</div>"
      ],
      "text/plain": [
       "     config  bit_size       type  VIT_FIRST  VIT_MIDDLE  VIT_LAST  \\\n",
       "0      1038         5       BOTH          1           1         0   \n",
       "1       715         6  ATTENTION          0           0         0   \n",
       "2        61        16        MLP          0           0         0   \n",
       "3       618         6        MLP          0           0         0   \n",
       "4       448         8  ATTENTION          0           0         0   \n",
       "...     ...       ...        ...        ...         ...       ...   \n",
       "1039    552         8       BOTH          0           0         0   \n",
       "1040    966         5  ATTENTION          0           0         0   \n",
       "1041    473         8       BOTH          0           1         0   \n",
       "1042    836         6       BOTH          0           0         0   \n",
       "1043    264        16       BOTH          1           1         1   \n",
       "\n",
       "      QFORMER_FIRST  QFORMER_MIDDLE  QFORMER_LAST  LLM_FIRST  LLM_MIDDLE  \\\n",
       "0                 1               1             1          1           1   \n",
       "1                 1               1             1          0           0   \n",
       "2                 1               1             1          0           0   \n",
       "3                 1               1             1          1           1   \n",
       "4                 0               0             0          0           0   \n",
       "...             ...             ...           ...        ...         ...   \n",
       "1039              1               1             1          0           1   \n",
       "1040              1               0             0          1           1   \n",
       "1041              1               1             1          0           0   \n",
       "1042              0               0             0          1           1   \n",
       "1043              0               0             0          1           1   \n",
       "\n",
       "      LLM_LAST    METEOR     CIDEr  \n",
       "0            1  0.027091  0.002452  \n",
       "1            0  0.278644  1.284414  \n",
       "2            0  0.278521  1.285276  \n",
       "3            1  0.248697  1.107514  \n",
       "4            1  0.278521  1.285276  \n",
       "...        ...       ...       ...  \n",
       "1039         1  0.277733  1.280438  \n",
       "1040         1  0.279862  1.290331  \n",
       "1041         0  0.277563  1.289467  \n",
       "1042         1  0.248697  1.107514  \n",
       "1043         0  0.278519  1.285213  \n",
       "\n",
       "[1044 rows x 14 columns]"
      ]
     },
     "execution_count": 15,
     "metadata": {},
     "output_type": "execute_result"
    }
   ],
   "source": [
    "df"
   ]
  },
  {
   "cell_type": "code",
   "execution_count": 18,
   "id": "1da9913b-f8d3-4723-990f-8aea1671c9d5",
   "metadata": {},
   "outputs": [
    {
     "name": "stderr",
     "output_type": "stream",
     "text": [
      "/home/gautom/anaconda3/envs/lavis/lib/python3.8/site-packages/sklearn/preprocessing/_encoders.py:972: FutureWarning: `sparse` was renamed to `sparse_output` in version 1.2 and will be removed in 1.4. `sparse_output` is ignored unless you leave `sparse` to its default value.\n",
      "  warnings.warn(\n"
     ]
    },
    {
     "ename": "AttributeError",
     "evalue": "'OneHotEncoder' object has no attribute 'get_feature_names'",
     "output_type": "error",
     "traceback": [
      "\u001b[0;31m---------------------------------------------------------------------------\u001b[0m",
      "\u001b[0;31mAttributeError\u001b[0m                            Traceback (most recent call last)",
      "Cell \u001b[0;32mIn[18], line 11\u001b[0m\n\u001b[1;32m      9\u001b[0m encoder \u001b[38;5;241m=\u001b[39m OneHotEncoder(sparse\u001b[38;5;241m=\u001b[39m\u001b[38;5;28;01mFalse\u001b[39;00m)\n\u001b[1;32m     10\u001b[0m type_encoded \u001b[38;5;241m=\u001b[39m encoder\u001b[38;5;241m.\u001b[39mfit_transform(df[[\u001b[38;5;124m'\u001b[39m\u001b[38;5;124mtype\u001b[39m\u001b[38;5;124m'\u001b[39m]])\n\u001b[0;32m---> 11\u001b[0m type_columns \u001b[38;5;241m=\u001b[39m \u001b[43mencoder\u001b[49m\u001b[38;5;241;43m.\u001b[39;49m\u001b[43mget_feature_names\u001b[49m([\u001b[38;5;124m'\u001b[39m\u001b[38;5;124mtype\u001b[39m\u001b[38;5;124m'\u001b[39m])\n\u001b[1;32m     13\u001b[0m \u001b[38;5;66;03m# Create a new DataFrame with the encoded columns\u001b[39;00m\n\u001b[1;32m     14\u001b[0m df_encoded \u001b[38;5;241m=\u001b[39m pd\u001b[38;5;241m.\u001b[39mconcat([df\u001b[38;5;241m.\u001b[39mdrop(\u001b[38;5;124m'\u001b[39m\u001b[38;5;124mtype\u001b[39m\u001b[38;5;124m'\u001b[39m, axis\u001b[38;5;241m=\u001b[39m\u001b[38;5;241m1\u001b[39m), \n\u001b[1;32m     15\u001b[0m                         pd\u001b[38;5;241m.\u001b[39mDataFrame(type_encoded, columns\u001b[38;5;241m=\u001b[39mtype_columns, index\u001b[38;5;241m=\u001b[39mdf\u001b[38;5;241m.\u001b[39mindex)], \n\u001b[1;32m     16\u001b[0m                        axis\u001b[38;5;241m=\u001b[39m\u001b[38;5;241m1\u001b[39m)\n",
      "\u001b[0;31mAttributeError\u001b[0m: 'OneHotEncoder' object has no attribute 'get_feature_names'"
     ]
    }
   ],
   "source": [
    "import pandas as pd\n",
    "import seaborn as sns\n",
    "import matplotlib.pyplot as plt\n",
    "from sklearn.preprocessing import OneHotEncoder\n",
    "\n",
    "# Assuming your data is in a DataFrame called 'df'\n",
    "\n",
    "# One-hot encode the 'type' column\n",
    "encoder = OneHotEncoder(sparse=False)\n",
    "type_encoded = encoder.fit_transform(df[['type']])\n",
    "type_columns = encoder.get_feature_names(['type'])\n",
    "\n",
    "# Create a new DataFrame with the encoded columns\n",
    "df_encoded = pd.concat([df.drop('type', axis=1), \n",
    "                        pd.DataFrame(type_encoded, columns=type_columns, index=df.index)], \n",
    "                       axis=1)\n",
    "\n",
    "# Convert 'config' to numeric if it's not already\n",
    "df_encoded['config'] = pd.to_numeric(df_encoded['config'])\n",
    "\n",
    "# Now calculate correlations\n",
    "correlation_cider = df_encoded.corr()['CIDEr'].sort_values(ascending=False)\n",
    "correlation_meteor = df_encoded.corr()['METEOR'].sort_values(ascending=False)\n",
    "\n",
    "print(\"Correlations with CIDEr:\")\n",
    "print(correlation_cider)\n",
    "print(\"\\nCorrelations with METEOR:\")\n",
    "print(correlation_meteor)\n",
    "\n",
    "# Visualize correlations\n",
    "plt.figure(figsize=(12, 10))\n",
    "sns.heatmap(df_encoded.corr(), annot=True, cmap='coolwarm')\n",
    "plt.title('Correlation Heatmap')\n",
    "plt.tight_layout()\n",
    "plt.show()"
   ]
  },
  {
   "cell_type": "code",
   "execution_count": null,
   "id": "993d7ce0-a920-44a6-abd6-54de85949cd4",
   "metadata": {},
   "outputs": [],
   "source": []
  }
 ],
 "metadata": {
  "kernelspec": {
   "display_name": "Python 3 (ipykernel)",
   "language": "python",
   "name": "python3"
  },
  "language_info": {
   "codemirror_mode": {
    "name": "ipython",
    "version": 3
   },
   "file_extension": ".py",
   "mimetype": "text/x-python",
   "name": "python",
   "nbconvert_exporter": "python",
   "pygments_lexer": "ipython3",
   "version": "3.8.19"
  }
 },
 "nbformat": 4,
 "nbformat_minor": 5
}
