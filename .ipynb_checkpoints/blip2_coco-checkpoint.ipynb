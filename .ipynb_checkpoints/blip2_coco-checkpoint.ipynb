{
 "cells": [
  {
   "cell_type": "markdown",
   "id": "2252dab7-667f-454b-bba1-6a75f57aec63",
   "metadata": {},
   "source": [
    "# Blip2 COCO Captions"
   ]
  },
  {
   "cell_type": "code",
   "execution_count": 3,
   "id": "1f543991-f107-4ae1-9988-ec55ff36af40",
   "metadata": {},
   "outputs": [
    {
     "data": {
      "application/vnd.jupyter.widget-view+json": {
       "model_id": "4ed9b09d0b834115afdc42d2766d8e33",
       "version_major": 2,
       "version_minor": 0
      },
      "text/plain": [
       "Loading checkpoint shards:   0%|          | 0/2 [00:00<?, ?it/s]"
      ]
     },
     "metadata": {},
     "output_type": "display_data"
    },
    {
     "name": "stdout",
     "output_type": "stream",
     "text": [
      "loading annotations into memory...\n",
      "Done (t=0.04s)\n",
      "creating index...\n",
      "index created!\n"
     ]
    }
   ],
   "source": [
    "import torch\n",
    "from transformers import Blip2Processor, Blip2ForConditionalGeneration\n",
    "from datasets import COCODataset\n",
    "from datasets import COCODataset\n",
    "from tqdm import tqdm\n",
    "from PIL import Image\n",
    "from torch.utils.data import DataLoader\n",
    "\n",
    "# Setup device\n",
    "device = torch.device(\"cuda\" if torch.cuda.is_available() else \"cpu\")\n",
    "\n",
    "# Load BLIP-2 model and processor\n",
    "processor = Blip2Processor.from_pretrained(\"Salesforce/blip2-opt-2.7b\")\n",
    "model = Blip2ForConditionalGeneration.from_pretrained(\"Salesforce/blip2-opt-2.7b\")\n",
    "\n",
    "# Ensure the model is on the correct device\n",
    "model = model.to(device)\n",
    "\n",
    "# Load COCO dataset\n",
    "coco_dataset = COCODataset(ann_file='./data/coco/annotations/captions_val2017.json',\n",
    "                           img_dir='./data/coco/val2017')"
   ]
  },
  {
   "cell_type": "markdown",
   "id": "4c57227e-4ed7-4776-821e-b3222b46dd68",
   "metadata": {},
   "source": [
    "## Collect Inference Results"
   ]
  },
  {
   "cell_type": "code",
   "execution_count": 7,
   "id": "5bd1756a-0c5f-482b-a82d-eee5584e1474",
   "metadata": {},
   "outputs": [
    {
     "name": "stderr",
     "output_type": "stream",
     "text": [
      "100%|███████████████████████████████████████████████████████████████████████| 1000/1000 [05:13<00:00,  3.19it/s]\n"
     ]
    }
   ],
   "source": [
    "results = []\n",
    "\n",
    "for i in tqdm(range(0, min(1000, len(coco_dataset)))):\n",
    "    image, _ = coco_dataset[i]\n",
    "    \n",
    "    inputs = processor(images=image, return_tensors=\"pt\").to(device)\n",
    "    with torch.no_grad():\n",
    "        out = model.generate(**inputs)\n",
    "    \n",
    "    caption = processor.decode(out[0], skip_special_tokens=True).strip()\n",
    "    \n",
    "    image_id = coco_dataset.ids[i]\n",
    "    results.append({\"image_id\": image_id, \"caption\": caption})"
   ]
  },
  {
   "cell_type": "markdown",
   "id": "b7a0e1e8-b182-4e4c-a0ab-b4f9b3d462f3",
   "metadata": {},
   "source": [
    "## Save Results"
   ]
  },
  {
   "cell_type": "code",
   "execution_count": 8,
   "id": "d9365a6f-22fb-4373-927c-cb13859dabd6",
   "metadata": {},
   "outputs": [],
   "source": [
    "import json\n",
    "with open('./results/coco_results.json', 'w') as f:\n",
    "    json.dump(results, f)"
   ]
  },
  {
   "cell_type": "markdown",
   "id": "cff17880-b275-413c-af04-e4cac6f4ef9c",
   "metadata": {},
   "source": [
    "## Evaluate Results"
   ]
  },
  {
   "cell_type": "code",
   "execution_count": 9,
   "id": "6a309c82-1bdc-4529-ab93-d5b50fc51bd8",
   "metadata": {},
   "outputs": [
    {
     "name": "stdout",
     "output_type": "stream",
     "text": [
      "['/home/gautom/Documents/lavis', '/home/gautom/anaconda3/envs/lavis/lib/python38.zip', '/home/gautom/anaconda3/envs/lavis/lib/python3.8', '/home/gautom/anaconda3/envs/lavis/lib/python3.8/lib-dynload', '', '/home/gautom/.local/lib/python3.8/site-packages', '/home/gautom/anaconda3/envs/lavis/lib/python3.8/site-packages']\n"
     ]
    }
   ],
   "source": [
    "# get pycocoevalfolder\n",
    "import sys\n",
    "import os\n",
    "\n",
    "# Get the current working directory\n",
    "current_dir = os.getcwd()\n",
    "\n",
    "# Add the current directory to the Python path\n",
    "if current_dir not in sys.path:\n",
    "    sys.path.append(current_dir)\n",
    "\n",
    "# Verify the path\n",
    "print(sys.path)"
   ]
  },
  {
   "cell_type": "code",
   "execution_count": 10,
   "id": "a1d523f9-0926-42e0-b15a-3d95a43b9ed3",
   "metadata": {},
   "outputs": [],
   "source": [
    "from pycocoevalcap.tokenizer.ptbtokenizer import PTBTokenizer\n",
    "from pycocoevalcap.cider.cider import Cider\n",
    "\n",
    "class SimpleCIDErEval:\n",
    "    def __init__(self):\n",
    "        self.tokenizer = PTBTokenizer()\n",
    "        self.cider_scorer = Cider()\n",
    "\n",
    "    def evaluate(self, predictions, references):\n",
    "        # Format the input for the tokenizer\n",
    "        gts = {i: [{'caption': c} for c in refs] for i, refs in enumerate(references)}\n",
    "        res = {i: [{'caption': p}] for i, p in enumerate(predictions)}\n",
    "\n",
    "        # Tokenize\n",
    "        gts_tokenized = self.tokenizer.tokenize(gts)\n",
    "        res_tokenized = self.tokenizer.tokenize(res)\n",
    "\n",
    "        # Compute CIDEr score\n",
    "        score, scores = self.cider_scorer.compute_score(gts_tokenized, res_tokenized)\n",
    "\n",
    "        return score, scores"
   ]
  },
  {
   "cell_type": "code",
   "execution_count": 13,
   "id": "74a93018-94ff-4b9b-9eba-b3dc01d9635e",
   "metadata": {},
   "outputs": [
    {
     "name": "stdout",
     "output_type": "stream",
     "text": [
      "loading annotations into memory...\n",
      "Done (t=0.04s)\n",
      "creating index...\n",
      "index created!\n"
     ]
    },
    {
     "name": "stderr",
     "output_type": "stream",
     "text": [
      "PTBTokenizer tokenized 61766 tokens at 324387.99 tokens per second.\n",
      "PTBTokenizer tokenized 9242 tokens at 88794.51 tokens per second.\n"
     ]
    },
    {
     "name": "stdout",
     "output_type": "stream",
     "text": [
      "Overall CIDEr score: 1.2852764152502318\n"
     ]
    }
   ],
   "source": [
    "coco_dataset = COCODataset(ann_file='./data/coco/annotations/captions_val2017.json',\n",
    "                           img_dir='./data/coco/val2017')\n",
    "\n",
    "f = open('./results/coco_results.json')\n",
    "results = json.load(f)\n",
    "f.close()\n",
    "\n",
    "candidates = [result['caption'] for result in results]\n",
    "references = [coco_dataset.get_captions(result['image_id']) for result in results]\n",
    "\n",
    "# Create evaluator\n",
    "evaluator = SimpleCIDErEval()\n",
    "\n",
    "overall_score, individual_scores = evaluator.evaluate(candidates, references)\n",
    "\n",
    "print(f\"Overall CIDEr score: {overall_score}\")"
   ]
  },
  {
   "cell_type": "code",
   "execution_count": 15,
   "id": "e4533abd-f500-41be-b054-ca93072fc93b",
   "metadata": {},
   "outputs": [
    {
     "name": "stderr",
     "output_type": "stream",
     "text": [
      "PTBTokenizer tokenized 61766 tokens at 336821.45 tokens per second.\n",
      "PTBTokenizer tokenized 9242 tokens at 90941.95 tokens per second.\n"
     ]
    },
    {
     "name": "stdout",
     "output_type": "stream",
     "text": [
      "Average CIDEr score: 1.422928345185765\n"
     ]
    }
   ],
   "source": [
    "from cidereval import cider\n",
    "cider_scores = cider(candidates, references)\n",
    "\n",
    "print(f\"Average CIDEr score: {cider_scores['avg_score']}\")"
   ]
  },
  {
   "cell_type": "code",
   "execution_count": null,
   "id": "9e304ed3-e8d7-4784-94bd-19a1da82c8e2",
   "metadata": {},
   "outputs": [],
   "source": []
  }
 ],
 "metadata": {
  "kernelspec": {
   "display_name": "Python 3 (ipykernel)",
   "language": "python",
   "name": "python3"
  },
  "language_info": {
   "codemirror_mode": {
    "name": "ipython",
    "version": 3
   },
   "file_extension": ".py",
   "mimetype": "text/x-python",
   "name": "python",
   "nbconvert_exporter": "python",
   "pygments_lexer": "ipython3",
   "version": "3.8.19"
  }
 },
 "nbformat": 4,
 "nbformat_minor": 5
}
