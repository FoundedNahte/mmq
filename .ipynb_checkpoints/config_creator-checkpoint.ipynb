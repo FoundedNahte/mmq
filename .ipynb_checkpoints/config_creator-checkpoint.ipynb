{
 "cells": [
  {
   "cell_type": "code",
   "execution_count": 1,
   "id": "83119c27-4032-46aa-9efd-1438489d3846",
   "metadata": {},
   "outputs": [
    {
     "name": "stdout",
     "output_type": "stream",
     "text": [
      "Generated 1674 configuration files.\n"
     ]
    }
   ],
   "source": [
    "from blip_quantizer import QuantConfig, ModelPart, LayerGroup, LayerType\n",
    "from quant_functions import uniform_quantization\n",
    "from utils import save_quant_configs\n",
    "import itertools\n",
    "import os\n",
    "\n",
    "# Ensure the configs directory exists\n",
    "os.makedirs(\"./configs\", exist_ok=True)\n",
    "\n",
    "bit_widths = [16, 8, 6, 5, 4, 3]\n",
    "model_parts = [ModelPart.VIT, ModelPart.QFORMER, ModelPart.LLM]\n",
    "layer_types = [LayerType.MLP, LayerType.ATTENTION, LayerType.BOTH]\n",
    "layer_groups = [\n",
    "    [],\n",
    "    [LayerGroup.FIRST],\n",
    "    [LayerGroup.MIDDLE],\n",
    "    [LayerGroup.LAST],\n",
    "    [LayerGroup.FIRST, LayerGroup.MIDDLE],\n",
    "    [LayerGroup.FIRST, LayerGroup.LAST],\n",
    "    [LayerGroup.MIDDLE, LayerGroup.LAST],\n",
    "    [LayerGroup.FIRST, LayerGroup.MIDDLE, LayerGroup.LAST]\n",
    "]\n",
    "\n",
    "def generate_configs():\n",
    "    config_index = 0\n",
    "    for bit_width in bit_widths:\n",
    "        for layer_type in layer_types:\n",
    "            for main_part in model_parts:\n",
    "                for main_groups in layer_groups:\n",
    "                    other_parts = [part for part in model_parts if part != main_part]\n",
    "                    for other_quant in itertools.product([True, False], repeat=2):\n",
    "                        configs = []\n",
    "                        \n",
    "                        # Main part configuration\n",
    "                        for group in main_groups:\n",
    "                            configs.append(QuantConfig(main_part, group, layer_type, uniform_quantization, bit_width))\n",
    "                        \n",
    "                        # Other parts configuration\n",
    "                        for part, should_quant in zip(other_parts, other_quant):\n",
    "                            if should_quant:\n",
    "                                configs.append(QuantConfig(part, LayerGroup.ALL, layer_type, uniform_quantization, bit_width))\n",
    "                        \n",
    "                        # Save the configuration\n",
    "                        if configs:\n",
    "                            save_quant_configs(configs, f\"./configs/{config_index}.json\")\n",
    "                            config_index += 1\n",
    "    return config_index\n",
    "\n",
    "if __name__ == \"__main__\":\n",
    "    config_index = generate_configs()\n",
    "    print(f\"Generated {config_index} configuration files.\")"
   ]
  }
 ],
 "metadata": {
  "kernelspec": {
   "display_name": "Python 3 (ipykernel)",
   "language": "python",
   "name": "python3"
  },
  "language_info": {
   "codemirror_mode": {
    "name": "ipython",
    "version": 3
   },
   "file_extension": ".py",
   "mimetype": "text/x-python",
   "name": "python",
   "nbconvert_exporter": "python",
   "pygments_lexer": "ipython3",
   "version": "3.8.19"
  }
 },
 "nbformat": 4,
 "nbformat_minor": 5
}
