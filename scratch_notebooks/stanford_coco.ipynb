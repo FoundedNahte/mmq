{
 "cells": [
  {
   "cell_type": "code",
   "execution_count": 2,
   "id": "04a5cb4c-bdf8-4c49-8f31-0571a03cfdbf",
   "metadata": {},
   "outputs": [
    {
     "name": "stdout",
     "output_type": "stream",
     "text": [
      "['/home/gautom/Documents/lavis', '/home/gautom/anaconda3/envs/lavis/lib/python38.zip', '/home/gautom/anaconda3/envs/lavis/lib/python3.8', '/home/gautom/anaconda3/envs/lavis/lib/python3.8/lib-dynload', '', '/home/gautom/.local/lib/python3.8/site-packages', '/home/gautom/anaconda3/envs/lavis/lib/python3.8/site-packages']\n"
     ]
    }
   ],
   "source": [
    "import sys\n",
    "import os\n",
    "\n",
    "# Get the current working directory\n",
    "current_dir = os.getcwd()\n",
    "\n",
    "# Add the current directory to the Python path\n",
    "if current_dir not in sys.path:\n",
    "    sys.path.append(current_dir)\n",
    "\n",
    "# Verify the path\n",
    "print(sys.path)"
   ]
  },
  {
   "cell_type": "code",
   "execution_count": 2,
   "id": "c0a48039-b565-485d-a581-bc59d19174ae",
   "metadata": {},
   "outputs": [
    {
     "name": "stdout",
     "output_type": "stream",
     "text": [
      "['/home/gautom/Documents/lavis', '/home/gautom/anaconda3/envs/lavis/lib/python38.zip', '/home/gautom/anaconda3/envs/lavis/lib/python3.8', '/home/gautom/anaconda3/envs/lavis/lib/python3.8/lib-dynload', '', '/home/gautom/.local/lib/python3.8/site-packages', '/home/gautom/anaconda3/envs/lavis/lib/python3.8/site-packages']\n"
     ]
    }
   ],
   "source": [
    "print(sys.path)"
   ]
  },
  {
   "cell_type": "code",
   "execution_count": 4,
   "id": "56352dbc-ed55-4b1c-8ec7-6e4d83d25609",
   "metadata": {},
   "outputs": [],
   "source": [
    "from pycocoevalcap.tokenizer.ptbtokenizer import PTBTokenizer"
   ]
  },
  {
   "cell_type": "code",
   "execution_count": 6,
   "id": "508360f9-8dd8-41a1-b0ef-6786922365cb",
   "metadata": {},
   "outputs": [
    {
     "name": "stdout",
     "output_type": "stream",
     "text": [
      "{0: ['man plays guitar'], 1: ['guitar being played by man', 'man holds guitar']}\n"
     ]
    },
    {
     "name": "stderr",
     "output_type": "stream",
     "text": [
      "PTBTokenizer tokenized 13 tokens at 171.25 tokens per second.\n"
     ]
    }
   ],
   "source": [
    "# Create an instance of PTBTokenizer\n",
    "tokenizer = PTBTokenizer()\n",
    "\n",
    "# Prepare your captions\n",
    "captions_for_image = {\n",
    "    0: [{'caption': 'man plays guitar'}],\n",
    "    1: [{'caption': 'guitar being played by man'}, {'caption': 'man holds guitar'}]\n",
    "}\n",
    "# Use the tokenize function\n",
    "tokenized_captions = tokenizer.tokenize(captions_for_image)\n",
    "\n",
    "print(tokenized_captions)"
   ]
  },
  {
   "cell_type": "code",
   "execution_count": 13,
   "id": "4700b6cc-585d-4fe9-b8c0-54c92ac4b8c1",
   "metadata": {},
   "outputs": [],
   "source": [
    "from pycocoevalcap.tokenizer.ptbtokenizer import PTBTokenizer\n",
    "from pycocoevalcap.cider.cider import Cider\n",
    "\n",
    "class SimpleCIDErEval:\n",
    "    def __init__(self):\n",
    "        self.tokenizer = PTBTokenizer()\n",
    "        self.cider_scorer = Cider()\n",
    "\n",
    "    def evaluate(self, predictions, references):\n",
    "        # Format the input for the tokenizer\n",
    "        gts = {i: [{'caption': c} for c in refs] for i, refs in enumerate(references)}\n",
    "        res = {i: [{'caption': p}] for i, p in enumerate(predictions)}\n",
    "\n",
    "        # Tokenize\n",
    "        gts_tokenized = self.tokenizer.tokenize(gts)\n",
    "        res_tokenized = self.tokenizer.tokenize(res)\n",
    "\n",
    "        # Compute CIDEr score\n",
    "        score, scores = self.cider_scorer.compute_score(gts_tokenized, res_tokenized)\n",
    "\n",
    "        return score, scores"
   ]
  },
  {
   "cell_type": "code",
   "execution_count": 14,
   "id": "36627752-09e5-4f26-90da-b7f58af3a553",
   "metadata": {},
   "outputs": [
    {
     "name": "stdout",
     "output_type": "stream",
     "text": [
      "loading annotations into memory...\n",
      "Done (t=0.05s)\n",
      "creating index...\n",
      "index created!\n"
     ]
    }
   ],
   "source": [
    "import json\n",
    "from datasets import COCODataset\n",
    "\n",
    "coco_dataset = COCODataset(ann_file='./data/coco/annotations/captions_val2017.json',\n",
    "                           img_dir='./data/coco/val2017')\n",
    "\n",
    "f = open('coco_results.json')\n",
    "results = json.load(f)\n",
    "f.close()\n",
    "\n",
    "candidates = [result['caption'] for result in results]\n",
    "references = [coco_dataset.get_captions(result['image_id']) for result in results]"
   ]
  },
  {
   "cell_type": "code",
   "execution_count": 15,
   "id": "fbe07358-913f-4fea-adba-b0c81d5746ee",
   "metadata": {},
   "outputs": [
    {
     "name": "stderr",
     "output_type": "stream",
     "text": [
      "PTBTokenizer tokenized 61766 tokens at 333686.27 tokens per second.\n",
      "PTBTokenizer tokenized 9242 tokens at 88974.17 tokens per second.\n"
     ]
    },
    {
     "name": "stdout",
     "output_type": "stream",
     "text": [
      "Overall CIDEr score: 1.2852764152502318\n",
      "Individual CIDEr scores:\n",
      "\n",
      "Image 0:\n",
      "  Predictions: a man playing guitar\n",
      "  References: ['A man is in a kitchen making pizzas.', 'Man in apron standing on front of oven with pans and bakeware', 'A baker is working in the kitchen rolling dough.', 'A person standing by a stove in a kitchen.', 'A table with pies being made and a person standing near a wall with pots and pans hanging on the wall.']\n",
      "  Scores: 0.5089577681230059\n",
      "\n",
      "Image 1:\n",
      "  Predictions: a woman singing\n",
      "  References: ['The dining table near the kitchen has a bowl of fruit on it.', 'A small kitchen has various appliances and a table.', 'The kitchen is clean and ready for us to see.', 'A kitchen and dining area decorated in white.', 'A kitchen that has a bowl of fruit on the table.']\n",
      "  Scores: 0.6427021227507621\n"
     ]
    }
   ],
   "source": [
    "# Create evaluator\n",
    "evaluator = SimpleCIDErEval()\n",
    "\n",
    "overall_score, individual_scores = evaluator.evaluate(candidates, references)\n",
    "\n",
    "print(f\"Overall CIDEr score: {overall_score}\")\n",
    "print(\"Individual CIDEr scores:\")\n",
    "for i, (preds, refs, scores) in enumerate(zip(predictions, references, individual_scores)):\n",
    "    print(f\"\\nImage {i}:\")\n",
    "    print(f\"  Predictions: {preds}\")\n",
    "    print(f\"  References: {refs}\")\n",
    "    print(f\"  Scores: {scores}\")"
   ]
  },
  {
   "cell_type": "code",
   "execution_count": 12,
   "id": "40a049c1-c798-4e61-a2ee-f79cd70c32cb",
   "metadata": {},
   "outputs": [
    {
     "name": "stderr",
     "output_type": "stream",
     "text": [
      "PTBTokenizer tokenized 18 tokens at 248.91 tokens per second.\n"
     ]
    },
    {
     "name": "stdout",
     "output_type": "stream",
     "text": [
      "Overall CIDEr score: 0.4744891202740206\n",
      "Individual CIDEr scores:\n",
      "\n",
      "Image 0:\n",
      "  Prediction: a man playing guitar\n",
      "  References: ['man plays guitar', 'guitarist performing']\n",
      "  Score: 0.7117336804110309\n",
      "\n",
      "Image 1:\n",
      "  Prediction: a woman singing\n",
      "  References: ['woman sings into microphone', 'singer on stage', 'vocal performance']\n",
      "  Score: 0.2372445601370103\n"
     ]
    },
    {
     "name": "stderr",
     "output_type": "stream",
     "text": [
      "PTBTokenizer tokenized 8 tokens at 108.47 tokens per second.\n"
     ]
    }
   ],
   "source": [
    "from pycocoevalcap.tokenizer.ptbtokenizer import PTBTokenizer\n",
    "from pycocoevalcap.cider.cider import Cider\n",
    "\n",
    "class SimpleCIDErEval:\n",
    "    def __init__(self):\n",
    "        self.tokenizer = PTBTokenizer()\n",
    "        self.cider_scorer = Cider()\n",
    "\n",
    "    def evaluate(self, predictions, references):\n",
    "        # Format the input for the tokenizer\n",
    "        gts = {i: [{'caption': c} for c in refs] for i, refs in enumerate(references)}\n",
    "        res = {i: [{'caption': p}] for i, p in enumerate(predictions)}\n",
    "\n",
    "        # Tokenize\n",
    "        gts_tokenized = self.tokenizer.tokenize(gts)\n",
    "        res_tokenized = self.tokenizer.tokenize(res)\n",
    "\n",
    "        # Compute CIDEr score\n",
    "        score, scores = self.cider_scorer.compute_score(gts_tokenized, res_tokenized)\n",
    "\n",
    "        return score, scores\n",
    "\n",
    "# Example usage\n",
    "if __name__ == \"__main__\":\n",
    "    # Example data\n",
    "    predictions = [\n",
    "        \"a man playing guitar\",\n",
    "        \"a woman singing\"\n",
    "    ]\n",
    "    references = [\n",
    "        [\"man plays guitar\", \"guitarist performing\"],\n",
    "        [\"woman sings into microphone\", \"singer on stage\", \"vocal performance\"]\n",
    "    ]\n",
    "\n",
    "    # Create evaluator\n",
    "    evaluator = SimpleCIDErEval()\n",
    "\n",
    "    # Compute scores\n",
    "    overall_score, individual_scores = evaluator.evaluate(predictions, references)\n",
    "\n",
    "    # Print results\n",
    "    print(f\"Overall CIDEr score: {overall_score}\")\n",
    "    print(\"Individual CIDEr scores:\")\n",
    "    for i, (pred, refs, score) in enumerate(zip(predictions, references, individual_scores)):\n",
    "        print(f\"\\nImage {i}:\")\n",
    "        print(f\"  Prediction: {pred}\")\n",
    "        print(f\"  References: {refs}\")\n",
    "        print(f\"  Score: {score}\")"
   ]
  },
  {
   "cell_type": "code",
   "execution_count": null,
   "id": "09992ded-814f-4724-a29d-3d3238d063c9",
   "metadata": {},
   "outputs": [],
   "source": []
  }
 ],
 "metadata": {
  "kernelspec": {
   "display_name": "Python 3 (ipykernel)",
   "language": "python",
   "name": "python3"
  },
  "language_info": {
   "codemirror_mode": {
    "name": "ipython",
    "version": 3
   },
   "file_extension": ".py",
   "mimetype": "text/x-python",
   "name": "python",
   "nbconvert_exporter": "python",
   "pygments_lexer": "ipython3",
   "version": "3.8.19"
  }
 },
 "nbformat": 4,
 "nbformat_minor": 5
}
